{
 "cells": [
  {
   "cell_type": "markdown",
   "metadata": {},
   "source": [
    "\n",
    "# Evolution du prix du gazole\n",
    "\n",
    "##### Auteurs : Mickaël Canhoto (L2 Informatique), Achille Gravouil (L1 Informatique)\n",
    "\n",
    "*Notre projet consiste à étudier et traiter l'évolution du prix moyen par mois du gazole de 1992 à aujourd'hui.*"
   ]
  },
  {
   "cell_type": "markdown",
   "metadata": {},
   "source": [
    "### Sommaire\n",
    "\n",
    " 1. [Introduction](#Introduction)\n",
    " 2. [Importation des modules](#Importation-des-modules)\n",
    " 3. [Collecte des données](#Collecte-des-données)\n",
    " 4. [Traitement des données](#Traitement-des-données)\n",
    " 5. [Représentation graphique](#Représentation-graphique)\n",
    " 6. [Conclusion](#Conclusion)"
   ]
  },
  {
   "cell_type": "markdown",
   "metadata": {},
   "source": [
    "## Introduction\n",
    "\n",
    "Suite à la situation tendue en Europe et la hausse des prix du gazole, nous avons décidé d'étudier les variations du prix du gazole sur les 30 dernières années. \n",
    "Cette étude a pour objectif d'étudier l'évolution du prix afin de creer une représentation graphique.\n",
    "\n",
    "Le gazole est un carburant pour moteur issu du raffinage du pétrole. Il est principalement utilisé pour comme carburant pour les voitures ou camion. Mais aussi comme agent d'extraction, par exemple pour extraire du palladium\n",
    "\n",
    "Nous essaierons de représenter le plus fidèlement et le plus explicitement, les données recueillis durant ce projet.\n",
    "Nous verrons donc comment le prix à évolué et nous esssaierons d'anticiper le(s) futur(s) mouvement possible grâce à une fonction\n",
    "\n",
    "Nous pourrons alors, tirer une conclusion sur le prix du gazole. Permettant ainsi à tous usagers d'automobiles, d'observer le prix de leurs consomations et réfléchir en tant que conclusion à d'autre alternative.\n",
    "\n",
    "**Pour cela nous nous aiderons des informations recuellis par l'[INSEE](https://www.insee.fr/fr/statistiques/serie/000442588#Tableau)**"
   ]
  },
  {
   "cell_type": "markdown",
   "metadata": {},
   "source": [
    "## Importation des modules\n"
   ]
  },
  {
   "cell_type": "markdown",
   "metadata": {},
   "source": [
    "Pour importer, analyser et traiter les données recoltés, nous allons utiliser les modules suivants : \n",
    "1. Pandas (importation des données)\n",
    "2. Bokeh & ipywidget & matplotlib (Création du graphique)\n",
    "3. scipy (Calcul)\n",
    "4. numpy (Modification des datas)"
   ]
  },
  {
   "cell_type": "code",
   "execution_count": 5,
   "metadata": {},
   "outputs": [
    {
     "ename": "ModuleNotFoundError",
     "evalue": "No module named 'plotly'",
     "output_type": "error",
     "traceback": [
      "\u001b[0;31m---------------------------------------------------------------------------\u001b[0m",
      "\u001b[0;31mModuleNotFoundError\u001b[0m                       Traceback (most recent call last)",
      "\u001b[0;32m/tmp/ipykernel_13373/3315473058.py\u001b[0m in \u001b[0;36m<module>\u001b[0;34m\u001b[0m\n\u001b[0;32m----> 1\u001b[0;31m \u001b[0;32mimport\u001b[0m \u001b[0mplotly\u001b[0m \u001b[0;32mas\u001b[0m \u001b[0mpl\u001b[0m\u001b[0;34m\u001b[0m\u001b[0;34m\u001b[0m\u001b[0m\n\u001b[0m\u001b[1;32m      2\u001b[0m \u001b[0;32mimport\u001b[0m \u001b[0mnumpy\u001b[0m \u001b[0;32mas\u001b[0m \u001b[0mnp\u001b[0m\u001b[0;34m\u001b[0m\u001b[0;34m\u001b[0m\u001b[0m\n\u001b[1;32m      3\u001b[0m \u001b[0;32mimport\u001b[0m \u001b[0mpandas\u001b[0m \u001b[0;32mas\u001b[0m \u001b[0mpd\u001b[0m\u001b[0;34m\u001b[0m\u001b[0;34m\u001b[0m\u001b[0m\n\u001b[1;32m      4\u001b[0m \u001b[0;34m\u001b[0m\u001b[0m\n\u001b[1;32m      5\u001b[0m \u001b[0;32mfrom\u001b[0m \u001b[0mbokeh\u001b[0m\u001b[0;34m.\u001b[0m\u001b[0mplotting\u001b[0m \u001b[0;32mimport\u001b[0m \u001b[0mfigure\u001b[0m\u001b[0;34m,\u001b[0m \u001b[0mshow\u001b[0m\u001b[0;34m,\u001b[0m \u001b[0moutput_notebook\u001b[0m\u001b[0;34m\u001b[0m\u001b[0;34m\u001b[0m\u001b[0m\n",
      "\u001b[0;31mModuleNotFoundError\u001b[0m: No module named 'plotly'"
     ]
    }
   ],
   "source": [
    "import plotly as pl\n",
    "import numpy as np\n",
    "import pandas as pd \n",
    "\n",
    "from bokeh.plotting import figure, show, output_notebook\n",
    "from bokeh.models import HoverTool\n",
    "from bokeh.models import Div, RangeSlider, Spinner\n",
    "from bokeh.layouts import layout\n",
    "from bokeh.io import output_file, show\n",
    "\n",
    "import ipywidgets as widgets\n",
    "\n",
    "from scipy.stats import linregress\n",
    "\n",
    "import warnings #Permet d'éviter le Warning 'openyxl's style'\n",
    "warnings.filterwarnings('ignore', category=UserWarning, module='openpyxl')\n",
    "\n",
    "#On rajoute holoviews pour garder l'intéractivité du dropdown\n",
    "#import holoviews as hv\n",
    "#from holoviews import opts\n",
    "#hv.extension('bokeh', \"matplotlib\")\n"
   ]
  },
  {
   "cell_type": "markdown",
   "metadata": {},
   "source": [
    "## Collecte des données\n",
    " "
   ]
  },
  {
   "cell_type": "markdown",
   "metadata": {},
   "source": [
    " * Les données proviennent du site de l'[INSEE](https://www.insee.fr/fr/statistiques/serie/000442588#Tableau). Elles nous présentent le prix moyens mensuels de vente du litre de Gazole en métrople Française de 1992 a 2022.\n",
    " \n",
    " La bibliothèque panda permet de transformer des donneés d'un fichier excel en un tableau de ces données\n",
    " "
   ]
  },
  {
   "cell_type": "code",
   "execution_count": null,
   "metadata": {
    "scrolled": false
   },
   "outputs": [],
   "source": [
    "data_base = pd.read_excel (r\"./data/mesures.xlsx\", skiprows=3) #importe les données depuis le fichier excel\n",
    "data_base = np.flipud(data_base) #Inverse le tableau pour une meilleur visibilité\n",
    "\n",
    "data_base = pd.DataFrame(data_base, columns=[\"Période\", \"Prix\"])\n",
    "\n",
    "with pd.option_context(\"display.max_rows\", 10): #On affiche uniquement 10 lignes\n",
    "    display(data_base)"
   ]
  },
  {
   "cell_type": "markdown",
   "metadata": {},
   "source": [
    "## Traitement des données\n",
    "\n",
    "* ### Calcule de la moyenne par année\n",
    "Pour une meilleur lisibilité, nous allons réduire le tableaux par année. Pour cela, nous allons crée une fonction permettant de calculer la moyenne de chaque année et en retourner un tableau"
   ]
  },
  {
   "cell_type": "code",
   "execution_count": null,
   "metadata": {},
   "outputs": [],
   "source": [
    "def moyenne_annee():\n",
    "    \n",
    "    # fonction \"moyenne annee\" :\n",
    "    # Objectif : Calculer la moyenne des prix de chaque année\n",
    "    # Valeur entrée : aucune\n",
    "    # Valeur sortie : tableau des moyennes de chaque année\n",
    "    \n",
    "    #Initialisation\n",
    "    data_moy_annee = pd.DataFrame({\n",
    "        \"Période\": [],\n",
    "        \"Prix\": []}\n",
    "    )\n",
    "    r=0\n",
    "    #Première boucle parcours chaque année\n",
    "    for i in range (0, 360, 12):\n",
    "        x=0\n",
    "        data_moy_annee.loc[r, \"Période\"] = data_base.loc[i, \"Période\"]\n",
    "        \n",
    "        #Deuxième boucle parcours chaque mois\n",
    "        for a in range(i,i+12):\n",
    "            x += data_base.loc[a, \"Prix\"]\n",
    "            data_moy_annee.loc[r, \"Prix\"] = x/12\n",
    "        r=r+1\n",
    "        \n",
    "    #L'année 2022 ne possède uniquement que 2 mois, on réalise alors une boucle appart\n",
    "    x = 0\n",
    "    for a in range(2):\n",
    "        x += data_base.loc[(a + 360), \"Prix\"]\n",
    "\n",
    "    \n",
    "        data_moy_annee.loc[30, \"Période\"]= data_base.loc[360, \"Période\"]\n",
    "        data_moy_annee.loc[30, \"Prix\"]= x/2\n",
    "        \n",
    "    data_moy_annee[\"Période\"] = data_moy_annee[\"Période\"].str[:4]\n",
    "    return data_moy_annee\n",
    "\n",
    "data_moy = moyenne_annee()\n",
    "moyenne_annee().set_index(\"Période\").transpose()"
   ]
  },
  {
   "cell_type": "markdown",
   "metadata": {},
   "source": [
    "* ### Evolution du prix\n",
    "Nous allons maintenant s'interresser aux années où l'évolution du prix à été forte .\n",
    "\n",
    "Pour cela nous calculons l'écart type de la moyenne par années puis nous gardons dans un tableau de toutes les années x ou l'écarte type/2 < x - x-1"
   ]
  },
  {
   "cell_type": "code",
   "execution_count": null,
   "metadata": {},
   "outputs": [],
   "source": [
    "def Ecart_type(tableau) :\n",
    "    # fonction \"Ecart Type\" :\n",
    "    # Objectif : Calculer l'écart type\n",
    "    # Valeur entrée : tableau\n",
    "    # Valeur sortie : écart type du tableau\n",
    "    return tableau['Prix'].std()\n",
    "\n",
    "def forte_evolution(tableau) :\n",
    "    # fonction \"Forte évolution\" :\n",
    "    # Objectif : Crée un tableau des anneés ou l'évolution du prix a été forte\n",
    "    # Valeur entrée : tableau\n",
    "    # Valeur sortie : tableau\n",
    "    \n",
    "    k = 0\n",
    "    Ecart = pd.DataFrame ({\n",
    "        \"Période\": [],\n",
    "        \"Prix\": []}\n",
    "    )\n",
    "    # Ajoute  la ligne i de *tableau dans *Ecart si l'écart entre tableau[i-1] et tableau[i] est supérieur \n",
    "    # à *ecart_type/2 (i.e grosse variation)\n",
    "    for i in range (1, len(tableau)-1) :\n",
    "        if abs(tableau.loc[i, \"Prix\"] - tableau.loc[i-1, \"Prix\"]) > Ecart_type(tableau)/2 : # test si \n",
    "            Ecart.loc[k, \"Période\"] = tableau.loc[i, \"Période\"]\n",
    "            Ecart.loc[k, \"Prix\"] = tableau.loc[i, \"Prix\"]\n",
    "            k += 1\n",
    "    return Ecart\n",
    "\n",
    "evolution = forte_evolution(data_moy)\n",
    "forte_evolution(data_moy).transpose()"
   ]
  },
  {
   "cell_type": "markdown",
   "metadata": {},
   "source": [
    "* ### Régression linéaire\n",
    "La régression linéaire va nous permettre de prédire l'évolution du prix de l'essence.\n",
    "\n",
    "Le principe de la régression va être de trouver une droite qui se rapproche le plus des points que nous avons.\n",
    "Pour cela nous allons utilisé cette formule : F(x) = Slope * x + intercept"
   ]
  },
  {
   "cell_type": "code",
   "execution_count": null,
   "metadata": {},
   "outputs": [],
   "source": [
    "def reglineaire(x, y) :\n",
    "    # fonction \"Régression linéaire\" :\n",
    "    # Objectif : Calculer la pente et l'ordonnée\n",
    "    # Valeur entrée : X, Y\n",
    "    # Valeur sortie : Droite\n",
    "    slope, intercept, r_value, p_value, std_err = linregress(x, y)\n",
    "    return slope * x + intercept\n",
    "    \n",
    "X = data_base[\"Période\"].str[:4].astype(float)\n",
    "Y = data_base[\"Prix\"].astype(float)"
   ]
  },
  {
   "cell_type": "markdown",
   "metadata": {},
   "source": [
    "* ### Préparation d'un tableau avec une colonne Année\n",
    "\n",
    "Ce tableau nous permettra ensuite avec la librairie Ipywidget d'effectuer un graph comportant un menu déroulant.\n",
    "Ce menu déroulant nous permettra de voir un graph montrant l'évolution du prix du gazole durant l'année de notre choix.\n"
   ]
  },
  {
   "cell_type": "code",
   "execution_count": 4,
   "metadata": {},
   "outputs": [
    {
     "ename": "NameError",
     "evalue": "name 'pd' is not defined",
     "output_type": "error",
     "traceback": [
      "\u001b[0;31m---------------------------------------------------------------------------\u001b[0m",
      "\u001b[0;31mNameError\u001b[0m                                 Traceback (most recent call last)",
      "\u001b[0;32m/tmp/ipykernel_13373/4282591972.py\u001b[0m in \u001b[0;36m<module>\u001b[0;34m\u001b[0m\n\u001b[1;32m      1\u001b[0m \u001b[0;31m#je reimporte les data sauf l'année 2022 que je rajouterai manuellement après\u001b[0m\u001b[0;34m\u001b[0m\u001b[0;34m\u001b[0m\u001b[0m\n\u001b[0;32m----> 2\u001b[0;31m \u001b[0mdata_tab\u001b[0m \u001b[0;34m=\u001b[0m \u001b[0mpd\u001b[0m\u001b[0;34m.\u001b[0m\u001b[0mread_excel\u001b[0m \u001b[0;34m(\u001b[0m\u001b[0;34mr\"./data/mesures.xlsx\"\u001b[0m\u001b[0;34m,\u001b[0m \u001b[0mskiprows\u001b[0m\u001b[0;34m=\u001b[0m\u001b[0;36m3\u001b[0m\u001b[0;34m)\u001b[0m\u001b[0;34m\u001b[0m\u001b[0;34m\u001b[0m\u001b[0m\n\u001b[0m\u001b[1;32m      3\u001b[0m \u001b[0mdata_tab\u001b[0m \u001b[0;34m=\u001b[0m \u001b[0mnp\u001b[0m\u001b[0;34m.\u001b[0m\u001b[0mflipud\u001b[0m\u001b[0;34m(\u001b[0m\u001b[0mdata_tab\u001b[0m\u001b[0;34m)\u001b[0m\u001b[0;34m\u001b[0m\u001b[0;34m\u001b[0m\u001b[0m\n\u001b[1;32m      4\u001b[0m \u001b[0mdata_tab\u001b[0m \u001b[0;34m=\u001b[0m \u001b[0mpd\u001b[0m\u001b[0;34m.\u001b[0m\u001b[0mDataFrame\u001b[0m\u001b[0;34m(\u001b[0m\u001b[0mdata_tab\u001b[0m\u001b[0;34m,\u001b[0m \u001b[0mcolumns\u001b[0m\u001b[0;34m=\u001b[0m\u001b[0;34m[\u001b[0m\u001b[0;34m\"Période\"\u001b[0m\u001b[0;34m,\u001b[0m \u001b[0;34m\"Prix\"\u001b[0m\u001b[0;34m]\u001b[0m\u001b[0;34m)\u001b[0m\u001b[0;34m\u001b[0m\u001b[0;34m\u001b[0m\u001b[0m\n\u001b[1;32m      5\u001b[0m \u001b[0;34m\u001b[0m\u001b[0m\n",
      "\u001b[0;31mNameError\u001b[0m: name 'pd' is not defined"
     ]
    }
   ],
   "source": [
    "#je reimporte les data sauf l'année 2022 que je rajouterai manuellement après\n",
    "data_tab = pd.read_excel (r\"./data/mesures.xlsx\", skiprows=3) \n",
    "data_tab = np.flipud(data_tab)\n",
    "data_tab = pd.DataFrame(data_tab, columns=[\"Période\", \"Prix\"])\n",
    "\n",
    "annee = pd.DataFrame({\"Année\":[]})\n",
    "\n",
    "\n",
    "r=0\n",
    "for i in range (360):\n",
    "    if (i % 12) == 0:\n",
    "        r= data_base.loc[i, \"Période\"]\n",
    "    annee.loc[i, \"Année\"] = r\n",
    "    \n",
    "    \n",
    "annee[\"Année\"] = annee[\"Année\"].str[:4]\n",
    "data_tab[\"Période\"] = data_tab[\"Période\"].str[5:]\n",
    "\n",
    "\n",
    "#L'année 2022 ne possède uniquement que 2 mois, je fais donc une boucle à part\n",
    "# et je rajoute 10 mois pour que mon display est toujours la même dimension\n",
    "x = 1\n",
    "for a in range(12):\n",
    "    annee.loc[a + 360, \"Année\"] = 2022\n",
    "    data_tab.loc[a + 360, \"Période\"] = str(a+1).zfill(2)\n",
    "    x +=1    \n",
    "    \n",
    "    \n",
    "data_tab[\"Année\"]= annee\n",
    "data_tab = data_tab[[\"Année\", \"Période\", \"Prix\"]]\n",
    "data_tab.set_index(\"Année\").tail(20).transpose()"
   ]
  },
  {
   "cell_type": "markdown",
   "metadata": {},
   "source": [
    "## Représentation graphique\n",
    "\n",
    "Pour la représentation graphique, nous avons utilisé la librairie bokeh et holoviews ainsi que toutes les transformations de données ci-dessus"
   ]
  },
  {
   "cell_type": "code",
   "execution_count": null,
   "metadata": {},
   "outputs": [],
   "source": [
    "#Graphique de base\n",
    "\n",
    "#creation des courbes\n",
    "graph = figure(title=\"Evolution du prix du Gazole\", \n",
    "              x_axis_label=\"Période (En année)\", \n",
    "              y_axis_label=\"Prix (En Euro)\",\n",
    "              tooltips = [(\"Année \", \"@x\"), (\"Prix \", \"@y\")],\n",
    "              sizing_mode=\"stretch_width\"\n",
    "              )\n",
    "graph.line(\n",
    "    x = data_base[\"Période\"].str[:4],\n",
    "    y = data_base[\"Prix\"], \n",
    "    legend_label=\"Prix par mois\", \n",
    "    color='grey', \n",
    "    line_dash=\"5 5\")\n",
    "\n",
    "graph.line(\n",
    "    x = data_moy[\"Période\"], \n",
    "    y = data_moy['Prix'], \n",
    "    legend_label=\"Prix par années\", \n",
    "    color='orange', \n",
    "    line_width=4\n",
    ")\n",
    "\n",
    "points = graph.circle(\n",
    "    x = evolution[\"Période\"], \n",
    "    y = evolution[\"Prix\"], \n",
    "    legend_label=\"Forte évolution\", \n",
    "    color='red', \n",
    "    size=10, \n",
    "    fill_alpha=0.5\n",
    ")\n",
    "\n",
    "#détais graphique\n",
    "graph.legend.border_line_alpha = 0.8\n",
    "graph.legend.location = \"top_left\"\n",
    "graph.legend.label_text_font_style = \"italic\"\n",
    "graph.line(X, reglineaire(X, Y), legend_label=\"Régression Linéaire\", color='darkred')\n",
    "#graph.background_fill_color = \"beige\" #Couleur du fond de la courbe\n",
    "graph.toolbar.logo = None\n",
    "graph.legend.click_policy=\"hide\"\n",
    "\n",
    "\n",
    "output_notebook()\n",
    "show(graph)\n"
   ]
  },
  {
   "cell_type": "code",
   "execution_count": null,
   "metadata": {
    "scrolled": false
   },
   "outputs": [],
   "source": [
    "#Graphique par année\n",
    "\n",
    "dropdown_annee=[\"Graph\"]+[1992+i for i in range(31)]\n",
    "\n",
    "#Dictionnaire de tous les mois\n",
    "dict_mois = {1:\"Janvier\", \n",
    "             2:\"Février\", \n",
    "             3:\"Mars\", \n",
    "             4:\"Avril\",\n",
    "             5:\"Mai\", \n",
    "             6:\"Juin\", \n",
    "             7:\"Juillet\", \n",
    "             8:\"Août\",\n",
    "             9:\"Septembre\", \n",
    "             10:\"Octobre\", \n",
    "             11:\"Novembre\", \n",
    "             12:\"Décembre\"\n",
    "            }\n",
    "\n",
    "#Affichage par année\n",
    "def aff_per_year ( Choisi = \"Graph\") :\n",
    "    # fonction :\"Affiche courbe par année\" \n",
    "    # Objectif : Crée une courbe du prix sur l'année demander\n",
    "    # Valeur entrée : dictionnaire dropdown_annee (valeur de ce dictionnaire return par le widgets.interact)\n",
    "    # Valeur sortie : Graphique\n",
    "    \n",
    "    #init dataframe z\n",
    "    if (Choisi==\"Graph\"):\n",
    "        show(graph)\n",
    "    else:\n",
    "        z = pd.DataFrame({\n",
    "                     \"Année\":[],\n",
    "                     \"Période\":[],\n",
    "                     \"Prix\":[]\n",
    "                    })\n",
    "\n",
    "        #rempli la colonne Année avec Choisi \n",
    "        for i in range(12):\n",
    "            z.loc[i, \"Année\"] = str(Choisi).zfill(0)\n",
    "            \n",
    "        \n",
    "        #   Le fichier commence à l'année 1992 je cherche donc la différence entre l'année \n",
    "        #   recherché et je multiplie par 12 pour trouver le 1er rang de l'année que je veux\n",
    "        #   Je fais ensuite une boucle pour rajouter le prix dans mon dataframe et je rempli la colonne Période\n",
    "        diff = Choisi - 1992\n",
    "\n",
    "        for a in range(12):\n",
    "            z.loc[a, \"Prix\"] = data_tab.loc[(diff*12) + a, \"Prix\"]\n",
    "            z.loc[a, \"Période\"] = list(dict_mois.values())[a]\n",
    "            \n",
    "        #   Je crée ensuite le graph avec bokeh qui sera display\n",
    "        graph_per_year = figure(\n",
    "                  title=f\"Evolution du prix du Gazole sur l'année {Choisi}\", \n",
    "                  x_range = z[\"Période\"],\n",
    "                  x_axis_label=\"Période (En mois)\", \n",
    "                  y_axis_label=\"Prix (En Euro)\",\n",
    "                  tooltips = [(\"Prix \", \"@y\"), (\"Mois \", \"@x\")],\n",
    "                  sizing_mode=\"stretch_width\"\n",
    "                 )\n",
    "        graph_per_year.line(\n",
    "                x = z[\"Période\"],\n",
    "                y = z[\"Prix\"], \n",
    "                legend_label=\"Prix par mois\", \n",
    "                color='orange', \n",
    "                line_width= 3\n",
    "                )\n",
    "        graph_per_year.legend.border_line_alpha = 0.8\n",
    "        graph_per_year.legend.location = \"top_left\"\n",
    "        graph_per_year.legend.label_text_font_style = \"italic\"\n",
    "        #graph_per_year.background_fill_color = \"beige\"\n",
    "        graph_per_year.toolbar.logo = None\n",
    "\n",
    "        show(graph_per_year)\n",
    "    \n",
    "# le widget n'est pas intéractif en html on ne l'affiche donc pas\n",
    "    \n",
    "courbe = widgets.interact(aff_per_year, Choisi = dropdown_annee)\n"
   ]
  },
  {
   "cell_type": "code",
   "execution_count": null,
   "metadata": {
    "scrolled": false
   },
   "outputs": [],
   "source": [
    "#A afficher uniquement sur html\n",
    "\n",
    "# On utilise donc HoloViews pour garder l'intéractivité sur le html pour pouvoir choisir le graph par année\n",
    "# graph du prix par année avec possibilité de choisir l'année\n",
    "# graph basé sur les données de data_tab \n",
    "\n",
    "#boucle qui écrit le nom des mois à la place de leur numéro\n",
    "\n",
    "#première boucle parcours data_tab par année\n",
    "#for i in range (0, 370, 12):\n",
    "        #Deuxième boucle parcours chaque année et écris le nom des mois\n",
    "        #for a in range(12):\n",
    "            #data_tab.loc[i+a, \"Période\"] = list(dict_mois.values())[a]\n",
    "\n",
    "        \n",
    "#vdims = [(\"Prix\", \"Prix du gazole\")]\n",
    "\n",
    "#graph2 = hv.Dataset(data_tab, [(\"Période\", \"Mois de l'année\"),\"Année\"], vdims)\n",
    "\n",
    "\n",
    "#layout3 = (graph2.to(hv.Curve, \"Période\", \"Prix\"))\n",
    "#layout3.opts( opts.Curve(height=500, width=650, line_width=2, color='orange', tools=['hover'], fontsize={'xticks': 6}) )"
   ]
  },
  {
   "cell_type": "markdown",
   "metadata": {},
   "source": [
    "## Conclusion\n",
    "\n",
    "Avec la courbe, on remarque rapidement que le prix du gazole augmente chaque année passant de 0.532€ en 1992 à 1.720 début 2022.\n",
    "\n",
    "Cette montée de prix peut s'expliquer de plusieurs manières :\n",
    "\n",
    "- La montée du cours du prix du pétrole à cause d'une demande en pétrole qui augmente au fil des anneés. De plus, la production peut être freinée par des conflits géopolitiques telles que le conflit Ukraine Russie. Ou aussi l'OPEP (Organisation des pays exportateurs de pétrole) qui on la possibilité de faire varier le prix du cours.\n",
    "\n",
    "- L'augmentation des taxes qui ont augmenté de 40% de 2014 à 2021 sur le litre.\n",
    "\n",
    "- La quantité limitée de la ressource, augmentant alors sa rareté au fil de son utilisation.\n",
    "\n",
    "Voici ci-dessous une fonction vous permettant de calculer le prix d'un plein en fonction de l'année et le litrage choisi. Il faut modifier la variable \"Litre\" et \"Année\" à votre guise"
   ]
  },
  {
   "cell_type": "code",
   "execution_count": null,
   "metadata": {
    "scrolled": true
   },
   "outputs": [],
   "source": [
    "def calcul_plein(Litre, Année, Mois) :\n",
    "    #Prend en entrée le litre, année et le mois choisi pour faire ce calcul :\n",
    "    # Prix (mois choisi) * Litre\n",
    "    Prix = data_base.loc[((((Année-1992)*12)+Mois)-1), \"Prix\"]\n",
    "    return Prix * Litre\n"
   ]
  },
  {
   "cell_type": "code",
   "execution_count": null,
   "metadata": {},
   "outputs": [],
   "source": [
    "check = True\n",
    "Litre = \"\"#initialise Litre\n",
    "while check :   \n",
    "    if (Litre == \"\"):\n",
    "        Litre = input(\"Entrez le nombre de litre : \")\n",
    "    else: \n",
    "        check = False\n",
    "l = float(Litre) #Convertion en float\n",
    "    \n",
    "b = \"\" #initialise b\n",
    "\n",
    "check = True\n",
    "while check :\n",
    "    Année = input(\"Et en quel année (entre 1992 et 2022) : \")\n",
    "    a = float(Année)\n",
    "    if (a>=1992) and (a<=2022):\n",
    "        check = False\n",
    "    else:\n",
    "        print(\"Veuillez choisir entre 1992 et 2022\")\n",
    "        \n",
    "check = True\n",
    "#Vérifications de \n",
    "while check :\n",
    "    Mois = input(\"Et en quel mois (Janvier, Février, ...) : \")\n",
    "    for cle, valeur in dict_mois.items():\n",
    "        if (valeur == Mois):\n",
    "            b = cle\n",
    "            check = False\n",
    "            \n",
    "    if not b : print(\"Vérifiez l'orthographe\")\n",
    "    \n",
    "plein = calcul_plein(l, a, b)\n",
    "print(\"\\nEn\", Mois, Année,\", pour\", Litre, \"litre, un plein vous aurait coûté\", format(plein,\".2f\"),\"€ !\")"
   ]
  },
  {
   "cell_type": "markdown",
   "metadata": {},
   "source": [
    "### Alternatives \n",
    "Le gazole étant une ressource limitée, il faut alors étudier d'autres alternatives. Les premières idées ont été de s'intéresser sur les autres hydrocarbures que le pétrole :\n",
    "\n",
    "- le gaz de pétrole liquéfié (GPL)\n",
    "\n",
    "- les procédés Fischer-Tropsch CTL, GTL et BTL\n",
    "\n",
    "- Le gaz naturel pour véhicule (GNV) et le biogaz\n",
    "\n",
    "Malheureusement, ces ressources aussi restent limité dans le temps. On peut alors regarder des énergies plus renouvelables :\n",
    "\n",
    "- Les biocarburants à base d'alcool (bioéthanol) ou d'huile (biodiesel)\n",
    "\n",
    "- Le dihydrogène (H2)\n",
    "\n",
    "- carburant à base de colza\n",
    "\n",
    "- l'oxydoréduction (eau de mer) comme la quant e-sportlimousine\n",
    "\n",
    "Mais l'alternative la plus efficace pour le moment reste l'électrique. L'électricité peut être produite de plusieurs manières comme par exemple le nucléaire ou le solaire et est beaucoup moins cher que le gazole.\n",
    "\n",
    "Cependant, cette technologie reste assez récente et les batteries actuelles fonctionnent sur le lithium qui est limité et pollue énormément.\n",
    "\n",
    "L'hybride quant à elle peut être un bon équilibre actuel entre le gazole et l'électricité."
   ]
  },
  {
   "cell_type": "markdown",
   "metadata": {},
   "source": [
    "Pour conclure, la montée constante du prix du gazole ouvre d'énorme question sur nos moyens de consommations et sera un thème majeur dans les futurs années. En effet, une grosse partie des industries et des citoyens utilisent quotidiennement des ressources à quantité limitées sans se soucier de la pollution qu'elles émettent et de leur \"rareté\"."
   ]
  }
 ],
 "metadata": {
  "celltoolbar": "Aucun(e)",
  "kernel_info": {
   "name": "python3"
  },
  "kernelspec": {
   "display_name": "Python 3 (ipykernel)",
   "language": "python",
   "name": "python3"
  },
  "language_info": {
   "codemirror_mode": {
    "name": "ipython",
    "version": 3
   },
   "file_extension": ".py",
   "mimetype": "text/x-python",
   "name": "python",
   "nbconvert_exporter": "python",
   "pygments_lexer": "ipython3",
   "version": "3.9.7"
  },
  "nteract": {
   "version": "0.2.0"
  },
  "widgets": {
   "application/vnd.jupyter.widget-state+json": {
    "state": {
     "00360a9330204b389b34883e852d6f02": {
      "model_module": "@jupyter-widgets/output",
      "model_module_version": "1.0.0",
      "model_name": "OutputModel",
      "state": {
       "layout": "IPY_MODEL_502ee7e89948412487bf117c7b2db267",
       "outputs": [
        {
         "ename": "NameError",
         "evalue": "name 'y' is not defined",
         "output_type": "error",
         "traceback": [
          "\u001b[0;31m---------------------------------------------------------------------------\u001b[0m",
          "\u001b[0;31mNameError\u001b[0m                                 Traceback (most recent call last)",
          "\u001b[0;32m~/anaconda3/lib/python3.9/site-packages/ipywidgets/widgets/interaction.py\u001b[0m in \u001b[0;36mupdate\u001b[0;34m(self, *args)\u001b[0m\n\u001b[1;32m    255\u001b[0m                     \u001b[0mvalue\u001b[0m \u001b[0;34m=\u001b[0m \u001b[0mwidget\u001b[0m\u001b[0;34m.\u001b[0m\u001b[0mget_interact_value\u001b[0m\u001b[0;34m(\u001b[0m\u001b[0;34m)\u001b[0m\u001b[0;34m\u001b[0m\u001b[0;34m\u001b[0m\u001b[0m\n\u001b[1;32m    256\u001b[0m                     \u001b[0mself\u001b[0m\u001b[0;34m.\u001b[0m\u001b[0mkwargs\u001b[0m\u001b[0;34m[\u001b[0m\u001b[0mwidget\u001b[0m\u001b[0;34m.\u001b[0m\u001b[0m_kwarg\u001b[0m\u001b[0;34m]\u001b[0m \u001b[0;34m=\u001b[0m \u001b[0mvalue\u001b[0m\u001b[0;34m\u001b[0m\u001b[0;34m\u001b[0m\u001b[0m\n\u001b[0;32m--> 257\u001b[0;31m                 \u001b[0mself\u001b[0m\u001b[0;34m.\u001b[0m\u001b[0mresult\u001b[0m \u001b[0;34m=\u001b[0m \u001b[0mself\u001b[0m\u001b[0;34m.\u001b[0m\u001b[0mf\u001b[0m\u001b[0;34m(\u001b[0m\u001b[0;34m**\u001b[0m\u001b[0mself\u001b[0m\u001b[0;34m.\u001b[0m\u001b[0mkwargs\u001b[0m\u001b[0;34m)\u001b[0m\u001b[0;34m\u001b[0m\u001b[0;34m\u001b[0m\u001b[0m\n\u001b[0m\u001b[1;32m    258\u001b[0m                 \u001b[0mshow_inline_matplotlib_plots\u001b[0m\u001b[0;34m(\u001b[0m\u001b[0;34m)\u001b[0m\u001b[0;34m\u001b[0m\u001b[0;34m\u001b[0m\u001b[0m\n\u001b[1;32m    259\u001b[0m                 \u001b[0;32mif\u001b[0m \u001b[0mself\u001b[0m\u001b[0;34m.\u001b[0m\u001b[0mauto_display\u001b[0m \u001b[0;32mand\u001b[0m \u001b[0mself\u001b[0m\u001b[0;34m.\u001b[0m\u001b[0mresult\u001b[0m \u001b[0;32mis\u001b[0m \u001b[0;32mnot\u001b[0m \u001b[0;32mNone\u001b[0m\u001b[0;34m:\u001b[0m\u001b[0;34m\u001b[0m\u001b[0;34m\u001b[0m\u001b[0m\n",
          "\u001b[0;32m/tmp/ipykernel_24999/2363857329.py\u001b[0m in \u001b[0;36maff_per_year\u001b[0;34m(Choisi)\u001b[0m\n\u001b[1;32m     55\u001b[0m                   \u001b[0mx_axis_label\u001b[0m\u001b[0;34m=\u001b[0m\u001b[0;34m\"Période (En mois)\"\u001b[0m\u001b[0;34m,\u001b[0m\u001b[0;34m\u001b[0m\u001b[0;34m\u001b[0m\u001b[0m\n\u001b[1;32m     56\u001b[0m                   \u001b[0my_axis_label\u001b[0m\u001b[0;34m=\u001b[0m\u001b[0;34m\"Prix (En Euro)\"\u001b[0m\u001b[0;34m,\u001b[0m\u001b[0;34m\u001b[0m\u001b[0;34m\u001b[0m\u001b[0m\n\u001b[0;32m---> 57\u001b[0;31m                   \u001b[0mtooltips\u001b[0m \u001b[0;34m=\u001b[0m \u001b[0;34m[\u001b[0m\u001b[0;34mf\"En {x}  , le prix du gazole était de {y}\"\u001b[0m\u001b[0;34m]\u001b[0m\u001b[0;34m,\u001b[0m\u001b[0;34m\u001b[0m\u001b[0;34m\u001b[0m\u001b[0m\n\u001b[0m\u001b[1;32m     58\u001b[0m                   \u001b[0msizing_mode\u001b[0m\u001b[0;34m=\u001b[0m\u001b[0;34m\"stretch_width\"\u001b[0m\u001b[0;34m\u001b[0m\u001b[0;34m\u001b[0m\u001b[0m\n\u001b[1;32m     59\u001b[0m                  )\n",
          "\u001b[0;31mNameError\u001b[0m: name 'y' is not defined"
         ]
        }
       ]
      }
     },
     "0127710379ef456abddf53c51baf4b72": {
      "model_module": "@jupyter-widgets/controls",
      "model_module_version": "1.5.0",
      "model_name": "DescriptionStyleModel",
      "state": {
       "description_width": ""
      }
     },
     "01feb0180786423cbd7734d376b87abc": {
      "model_module": "@jupyter-widgets/controls",
      "model_module_version": "1.5.0",
      "model_name": "DescriptionStyleModel",
      "state": {
       "description_width": ""
      }
     },
     "039de85188ca4a8c9a35d3c7f3332141": {
      "model_module": "@jupyter-widgets/controls",
      "model_module_version": "1.5.0",
      "model_name": "DescriptionStyleModel",
      "state": {
       "description_width": ""
      }
     },
     "03beace7d7ad49b6b0bf6ddb533c3ff3": {
      "model_module": "@jupyter-widgets/base",
      "model_module_version": "1.2.0",
      "model_name": "LayoutModel",
      "state": {}
     },
     "053e96c2443c4e2c87de7873b032ff91": {
      "model_module": "@jupyter-widgets/controls",
      "model_module_version": "1.5.0",
      "model_name": "DescriptionStyleModel",
      "state": {
       "description_width": ""
      }
     },
     "0723ba06a50148a1b9a351b7d2adbc8a": {
      "model_module": "@jupyter-widgets/base",
      "model_module_version": "1.2.0",
      "model_name": "LayoutModel",
      "state": {}
     },
     "0727efd566ff4fc9b06b3b0b354f8aa6": {
      "model_module": "@jupyter-widgets/controls",
      "model_module_version": "1.5.0",
      "model_name": "VBoxModel",
      "state": {
       "_dom_classes": [
        "widget-interact"
       ],
       "children": [
        "IPY_MODEL_fda07ccd1b954d0ca071b44d3edee4fa",
        "IPY_MODEL_3531c34c38ae4df3824f49b4908533c6"
       ],
       "layout": "IPY_MODEL_99bef2328b204a35a262a902b9e034bb"
      }
     },
     "07b29fab576748a5b0292436ad154201": {
      "model_module": "@jupyter-widgets/base",
      "model_module_version": "1.2.0",
      "model_name": "LayoutModel",
      "state": {}
     },
     "08b2c180e3b8485f876a769d7be522b8": {
      "model_module": "@jupyter-widgets/output",
      "model_module_version": "1.0.0",
      "model_name": "OutputModel",
      "state": {
       "layout": "IPY_MODEL_ff0b8f1d07e74b89a7e0dbcd3a71cc11",
       "outputs": [
        {
         "data": {
          "text/html": "<div>\n<style scoped>\n    .dataframe tbody tr th:only-of-type {\n        vertical-align: middle;\n    }\n\n    .dataframe tbody tr th {\n        vertical-align: top;\n    }\n\n    .dataframe thead th {\n        text-align: right;\n    }\n</style>\n<table border=\"1\" class=\"dataframe\">\n  <thead>\n    <tr style=\"text-align: right;\">\n      <th></th>\n      <th>Année</th>\n      <th>Période</th>\n      <th>Prix</th>\n    </tr>\n  </thead>\n  <tbody>\n    <tr>\n      <th>0</th>\n      <td>2000</td>\n      <td>Janvier</td>\n      <td>0.81</td>\n    </tr>\n    <tr>\n      <th>1</th>\n      <td>2000</td>\n      <td>Février</td>\n      <td>0.81</td>\n    </tr>\n    <tr>\n      <th>2</th>\n      <td>2000</td>\n      <td>Mars</td>\n      <td>0.82</td>\n    </tr>\n    <tr>\n      <th>3</th>\n      <td>2000</td>\n      <td>Avril</td>\n      <td>0.80</td>\n    </tr>\n    <tr>\n      <th>4</th>\n      <td>2000</td>\n      <td>Mai</td>\n      <td>0.81</td>\n    </tr>\n    <tr>\n      <th>5</th>\n      <td>2000</td>\n      <td>Juin</td>\n      <td>0.82</td>\n    </tr>\n    <tr>\n      <th>6</th>\n      <td>2000</td>\n      <td>Juillet</td>\n      <td>0.83</td>\n    </tr>\n    <tr>\n      <th>7</th>\n      <td>2000</td>\n      <td>Aout</td>\n      <td>0.84</td>\n    </tr>\n    <tr>\n      <th>8</th>\n      <td>2000</td>\n      <td>Septembre</td>\n      <td>0.93</td>\n    </tr>\n    <tr>\n      <th>9</th>\n      <td>2000</td>\n      <td>Octobre</td>\n      <td>0.90</td>\n    </tr>\n    <tr>\n      <th>10</th>\n      <td>2000</td>\n      <td>Novembre</td>\n      <td>0.91</td>\n    </tr>\n    <tr>\n      <th>11</th>\n      <td>2000</td>\n      <td>Decembre</td>\n      <td>0.89</td>\n    </tr>\n  </tbody>\n</table>\n</div>",
          "text/plain": "   Année    Période  Prix\n0   2000    Janvier  0.81\n1   2000    Février  0.81\n2   2000       Mars  0.82\n3   2000      Avril  0.80\n4   2000        Mai  0.81\n5   2000       Juin  0.82\n6   2000    Juillet  0.83\n7   2000       Aout  0.84\n8   2000  Septembre  0.93\n9   2000    Octobre  0.90\n10  2000   Novembre  0.91\n11  2000   Decembre  0.89"
         },
         "metadata": {},
         "output_type": "display_data"
        }
       ]
      }
     },
     "08ef6f18dbe944119fb5c44e08c9403b": {
      "model_module": "@jupyter-widgets/base",
      "model_module_version": "1.2.0",
      "model_name": "LayoutModel",
      "state": {}
     },
     "0a228948383d47be91109041291b8e9c": {
      "model_module": "@jupyter-widgets/controls",
      "model_module_version": "1.5.0",
      "model_name": "VBoxModel",
      "state": {
       "_dom_classes": [
        "widget-interact"
       ],
       "children": [
        "IPY_MODEL_9e1fedfc5f1446d786ae4152b5211d34",
        "IPY_MODEL_49a8f02be2cf44a9ad7470ee52d512bf"
       ],
       "layout": "IPY_MODEL_3fee7b0686b847049ff92c869bbf29eb"
      }
     },
     "0da4ae5f98c646ac9f49bea5ef77269b": {
      "model_module": "@jupyter-widgets/controls",
      "model_module_version": "1.5.0",
      "model_name": "VBoxModel",
      "state": {
       "_dom_classes": [
        "widget-interact"
       ],
       "children": [
        "IPY_MODEL_7475898e895b44ef8508bc27980769b1",
        "IPY_MODEL_1dbb060e504f417e952ede23e6d06594"
       ],
       "layout": "IPY_MODEL_a2dd864ee6544e47af33214f7e82e87a"
      }
     },
     "0e06e0ceb320451cb3977eefb259d2d0": {
      "model_module": "@jupyter-widgets/base",
      "model_module_version": "1.2.0",
      "model_name": "LayoutModel",
      "state": {}
     },
     "0f4c6b4f09444088a352153a4015adf2": {
      "model_module": "@jupyter-widgets/controls",
      "model_module_version": "1.5.0",
      "model_name": "DropdownModel",
      "state": {
       "_options_labels": [
        "Graph",
        "1992",
        "1993",
        "1994",
        "1995",
        "1996",
        "1997",
        "1998",
        "1999",
        "2000",
        "2001",
        "2002",
        "2003",
        "2004",
        "2005",
        "2006",
        "2007",
        "2008",
        "2009",
        "2010",
        "2011",
        "2012",
        "2013",
        "2014",
        "2015",
        "2016",
        "2017",
        "2018",
        "2019",
        "2020",
        "2021",
        "2022"
       ],
       "description": "Choisi",
       "index": 0,
       "layout": "IPY_MODEL_a927acec72174488945587fbb1d73ea2",
       "style": "IPY_MODEL_d58624ba9e924a1ab49642121754a504"
      }
     },
     "0fbf865df5d44e249e51768b0d8cbe99": {
      "model_module": "@jupyter-widgets/base",
      "model_module_version": "1.2.0",
      "model_name": "LayoutModel",
      "state": {}
     },
     "103bcd2fdc2d4e4a843a3fe67bbed15b": {
      "model_module": "@jupyter-widgets/controls",
      "model_module_version": "1.5.0",
      "model_name": "DescriptionStyleModel",
      "state": {
       "description_width": ""
      }
     },
     "10e64f8fcb364a079c45f27f61588f62": {
      "model_module": "@jupyter-widgets/controls",
      "model_module_version": "1.5.0",
      "model_name": "VBoxModel",
      "state": {
       "_dom_classes": [
        "widget-interact"
       ],
       "children": [
        "IPY_MODEL_678acf196da3498eb36a8390d47cb25e",
        "IPY_MODEL_8a1d1cd9559747eb9069fee33bc2f0d8"
       ],
       "layout": "IPY_MODEL_d8b901c5b5104d94a9adb61698d9be28"
      }
     },
     "11099eb9077b4cc1b9e21e13193f12b0": {
      "model_module": "@jupyter-widgets/controls",
      "model_module_version": "1.5.0",
      "model_name": "DropdownModel",
      "state": {
       "_options_labels": [
        "Graph",
        "1992",
        "1993",
        "1994",
        "1995",
        "1996",
        "1997",
        "1998",
        "1999",
        "2000",
        "2001",
        "2002",
        "2003",
        "2004",
        "2005",
        "2006",
        "2007",
        "2008",
        "2009",
        "2010",
        "2011",
        "2012",
        "2013",
        "2014",
        "2015",
        "2016",
        "2017",
        "2018",
        "2019",
        "2020",
        "2021",
        "2022"
       ],
       "description": "Choisi",
       "index": 9,
       "layout": "IPY_MODEL_544ddce848ec42359d5b0c765fda2e3a",
       "style": "IPY_MODEL_acbdcec4a49d4e349fc55d1c30beb89c"
      }
     },
     "125af9f11bb247dd84be037a5a140ede": {
      "model_module": "@jupyter-widgets/base",
      "model_module_version": "1.2.0",
      "model_name": "LayoutModel",
      "state": {}
     },
     "128368c50b9f4879bedb45aed325f8f1": {
      "model_module": "@jupyter-widgets/controls",
      "model_module_version": "1.5.0",
      "model_name": "VBoxModel",
      "state": {
       "_dom_classes": [
        "widget-interact"
       ],
       "children": [
        "IPY_MODEL_11099eb9077b4cc1b9e21e13193f12b0",
        "IPY_MODEL_7ca10d629389420f9d530948747871c6"
       ],
       "layout": "IPY_MODEL_522964d675494f2c9317d7655a4486b1"
      }
     },
     "14138fcdcc87452093f040dcaa0ed697": {
      "model_module": "@jupyter-widgets/controls",
      "model_module_version": "1.5.0",
      "model_name": "DropdownModel",
      "state": {
       "_options_labels": [
        "Graph",
        "1992",
        "1993",
        "1994",
        "1995",
        "1996",
        "1997",
        "1998",
        "1999",
        "2000",
        "2001",
        "2002",
        "2003",
        "2004",
        "2005",
        "2006",
        "2007",
        "2008",
        "2009",
        "2010",
        "2011",
        "2012",
        "2013",
        "2014",
        "2015",
        "2016",
        "2017",
        "2018",
        "2019",
        "2020",
        "2021",
        "2022"
       ],
       "description": "Choisi",
       "index": 9,
       "layout": "IPY_MODEL_0e06e0ceb320451cb3977eefb259d2d0",
       "style": "IPY_MODEL_90b806754da9436d97ddb7778e48ed9f"
      }
     },
     "14f8821416ae45b2ada3240cfee300ca": {
      "model_module": "@jupyter-widgets/base",
      "model_module_version": "1.2.0",
      "model_name": "LayoutModel",
      "state": {}
     },
     "150cdc4d11544445adab2c392ecd2b2d": {
      "model_module": "@jupyter-widgets/controls",
      "model_module_version": "1.5.0",
      "model_name": "VBoxModel",
      "state": {
       "_dom_classes": [
        "widget-interact"
       ],
       "children": [
        "IPY_MODEL_3a61bd830bdf4dbcb31319bab80d1b2c",
        "IPY_MODEL_1eb6c34fee4c4c32aeb3a1a6c88fd979"
       ],
       "layout": "IPY_MODEL_e7904561b4f543338ef9c1844a6842f3"
      }
     },
     "168575ad42934ab59e0253aa9a1e0f30": {
      "model_module": "@jupyter-widgets/controls",
      "model_module_version": "1.5.0",
      "model_name": "DropdownModel",
      "state": {
       "_options_labels": [
        "Graph",
        "1992",
        "1993",
        "1994",
        "1995",
        "1996",
        "1997",
        "1998",
        "1999",
        "2000",
        "2001",
        "2002",
        "2003",
        "2004",
        "2005",
        "2006",
        "2007",
        "2008",
        "2009",
        "2010",
        "2011",
        "2012",
        "2013",
        "2014",
        "2015",
        "2016",
        "2017",
        "2018",
        "2019",
        "2020",
        "2021",
        "2022"
       ],
       "description": "Choisi",
       "index": 0,
       "layout": "IPY_MODEL_182b7bb09f844ba5bba92154f4a27564",
       "style": "IPY_MODEL_4bf908a7a07a4e1f8b2dc4a9f7a05000"
      }
     },
     "17e3d3c281fd47ca9844219fb21dd2d4": {
      "model_module": "@jupyter-widgets/output",
      "model_module_version": "1.0.0",
      "model_name": "OutputModel",
      "state": {
       "layout": "IPY_MODEL_5653b7ca8cf64ed6839708522be4da2e",
       "outputs": [
        {
         "ename": "ValueError",
         "evalue": "failed to validate CategoricalAxis(id='4428', ...).ticker: expected an instance of type Ticker, got 0       Janvier\n1       Février\n2          Mars\n3         Avril\n4           Mai\n5          Juin\n6       Juillet\n7          Août\n8     Septembre\n9       Octobre\n10     Novembre\n11     Décembre\nName: Période, dtype: object of type Series",
         "output_type": "error",
         "traceback": [
          "\u001b[0;31m---------------------------------------------------------------------------\u001b[0m",
          "\u001b[0;31mValueError\u001b[0m                                Traceback (most recent call last)",
          "\u001b[0;32m~/anaconda3/lib/python3.9/site-packages/ipywidgets/widgets/interaction.py\u001b[0m in \u001b[0;36mupdate\u001b[0;34m(self, *args)\u001b[0m\n\u001b[1;32m    255\u001b[0m                     \u001b[0mvalue\u001b[0m \u001b[0;34m=\u001b[0m \u001b[0mwidget\u001b[0m\u001b[0;34m.\u001b[0m\u001b[0mget_interact_value\u001b[0m\u001b[0;34m(\u001b[0m\u001b[0;34m)\u001b[0m\u001b[0;34m\u001b[0m\u001b[0;34m\u001b[0m\u001b[0m\n\u001b[1;32m    256\u001b[0m                     \u001b[0mself\u001b[0m\u001b[0;34m.\u001b[0m\u001b[0mkwargs\u001b[0m\u001b[0;34m[\u001b[0m\u001b[0mwidget\u001b[0m\u001b[0;34m.\u001b[0m\u001b[0m_kwarg\u001b[0m\u001b[0;34m]\u001b[0m \u001b[0;34m=\u001b[0m \u001b[0mvalue\u001b[0m\u001b[0;34m\u001b[0m\u001b[0;34m\u001b[0m\u001b[0m\n\u001b[0;32m--> 257\u001b[0;31m                 \u001b[0mself\u001b[0m\u001b[0;34m.\u001b[0m\u001b[0mresult\u001b[0m \u001b[0;34m=\u001b[0m \u001b[0mself\u001b[0m\u001b[0;34m.\u001b[0m\u001b[0mf\u001b[0m\u001b[0;34m(\u001b[0m\u001b[0;34m**\u001b[0m\u001b[0mself\u001b[0m\u001b[0;34m.\u001b[0m\u001b[0mkwargs\u001b[0m\u001b[0;34m)\u001b[0m\u001b[0;34m\u001b[0m\u001b[0;34m\u001b[0m\u001b[0m\n\u001b[0m\u001b[1;32m    258\u001b[0m                 \u001b[0mshow_inline_matplotlib_plots\u001b[0m\u001b[0;34m(\u001b[0m\u001b[0;34m)\u001b[0m\u001b[0;34m\u001b[0m\u001b[0;34m\u001b[0m\u001b[0m\n\u001b[1;32m    259\u001b[0m                 \u001b[0;32mif\u001b[0m \u001b[0mself\u001b[0m\u001b[0;34m.\u001b[0m\u001b[0mauto_display\u001b[0m \u001b[0;32mand\u001b[0m \u001b[0mself\u001b[0m\u001b[0;34m.\u001b[0m\u001b[0mresult\u001b[0m \u001b[0;32mis\u001b[0m \u001b[0;32mnot\u001b[0m \u001b[0;32mNone\u001b[0m\u001b[0;34m:\u001b[0m\u001b[0;34m\u001b[0m\u001b[0;34m\u001b[0m\u001b[0m\n",
          "\u001b[0;32m/tmp/ipykernel_24999/443417990.py\u001b[0m in \u001b[0;36maff_per_year\u001b[0;34m(Choisi)\u001b[0m\n\u001b[1;32m     70\u001b[0m         \u001b[0;31m#graph_per_year.background_fill_color = \"beige\"\u001b[0m\u001b[0;34m\u001b[0m\u001b[0;34m\u001b[0m\u001b[0m\n\u001b[1;32m     71\u001b[0m         \u001b[0mgraph_per_year\u001b[0m\u001b[0;34m.\u001b[0m\u001b[0mtoolbar\u001b[0m\u001b[0;34m.\u001b[0m\u001b[0mlogo\u001b[0m \u001b[0;34m=\u001b[0m \u001b[0;32mNone\u001b[0m\u001b[0;34m\u001b[0m\u001b[0;34m\u001b[0m\u001b[0m\n\u001b[0;32m---> 72\u001b[0;31m         \u001b[0mgraph_per_year\u001b[0m\u001b[0;34m.\u001b[0m\u001b[0mxaxis\u001b[0m\u001b[0;34m.\u001b[0m\u001b[0mticker\u001b[0m \u001b[0;34m=\u001b[0m\u001b[0mz\u001b[0m\u001b[0;34m[\u001b[0m\u001b[0;34m\"Période\"\u001b[0m\u001b[0;34m]\u001b[0m\u001b[0;34m\u001b[0m\u001b[0;34m\u001b[0m\u001b[0m\n\u001b[0m\u001b[1;32m     73\u001b[0m \u001b[0;34m\u001b[0m\u001b[0m\n\u001b[1;32m     74\u001b[0m         \u001b[0mshow\u001b[0m\u001b[0;34m(\u001b[0m\u001b[0mgraph_per_year\u001b[0m\u001b[0;34m)\u001b[0m\u001b[0;34m\u001b[0m\u001b[0;34m\u001b[0m\u001b[0m\n",
          "\u001b[0;32m~/anaconda3/lib/python3.9/site-packages/bokeh/models/plots.py\u001b[0m in \u001b[0;36m__setattr__\u001b[0;34m(self, attr, value)\u001b[0m\n\u001b[1;32m    785\u001b[0m     \u001b[0;32mdef\u001b[0m \u001b[0m__setattr__\u001b[0m\u001b[0;34m(\u001b[0m\u001b[0mself\u001b[0m\u001b[0;34m,\u001b[0m \u001b[0mattr\u001b[0m\u001b[0;34m,\u001b[0m \u001b[0mvalue\u001b[0m\u001b[0;34m)\u001b[0m\u001b[0;34m:\u001b[0m\u001b[0;34m\u001b[0m\u001b[0;34m\u001b[0m\u001b[0m\n\u001b[1;32m    786\u001b[0m         \u001b[0;32mfor\u001b[0m \u001b[0mx\u001b[0m \u001b[0;32min\u001b[0m \u001b[0mself\u001b[0m\u001b[0;34m:\u001b[0m\u001b[0;34m\u001b[0m\u001b[0;34m\u001b[0m\u001b[0m\n\u001b[0;32m--> 787\u001b[0;31m             \u001b[0msetattr\u001b[0m\u001b[0;34m(\u001b[0m\u001b[0mx\u001b[0m\u001b[0;34m,\u001b[0m \u001b[0mattr\u001b[0m\u001b[0;34m,\u001b[0m \u001b[0mvalue\u001b[0m\u001b[0;34m)\u001b[0m\u001b[0;34m\u001b[0m\u001b[0;34m\u001b[0m\u001b[0m\n\u001b[0m\u001b[1;32m    788\u001b[0m     \u001b[0;32mdef\u001b[0m \u001b[0m__getattribute__\u001b[0m\u001b[0;34m(\u001b[0m\u001b[0mself\u001b[0m\u001b[0;34m,\u001b[0m \u001b[0mattr\u001b[0m\u001b[0;34m)\u001b[0m\u001b[0;34m:\u001b[0m\u001b[0;34m\u001b[0m\u001b[0;34m\u001b[0m\u001b[0m\n\u001b[1;32m    789\u001b[0m         \u001b[0;32mif\u001b[0m \u001b[0mattr\u001b[0m \u001b[0;32min\u001b[0m \u001b[0mdir\u001b[0m\u001b[0;34m(\u001b[0m\u001b[0mlist\u001b[0m\u001b[0;34m)\u001b[0m\u001b[0;34m:\u001b[0m\u001b[0;34m\u001b[0m\u001b[0;34m\u001b[0m\u001b[0m\n",
          "\u001b[0;32m~/anaconda3/lib/python3.9/site-packages/bokeh/core/has_props.py\u001b[0m in \u001b[0;36m__setattr__\u001b[0;34m(self, name, value)\u001b[0m\n\u001b[1;32m    228\u001b[0m         \u001b[0mproperties\u001b[0m \u001b[0;34m=\u001b[0m \u001b[0mself\u001b[0m\u001b[0;34m.\u001b[0m\u001b[0mproperties\u001b[0m\u001b[0;34m(\u001b[0m\u001b[0m_with_props\u001b[0m\u001b[0;34m=\u001b[0m\u001b[0;32mTrue\u001b[0m\u001b[0;34m)\u001b[0m\u001b[0;34m\u001b[0m\u001b[0;34m\u001b[0m\u001b[0m\n\u001b[1;32m    229\u001b[0m         \u001b[0;32mif\u001b[0m \u001b[0mname\u001b[0m \u001b[0;32min\u001b[0m \u001b[0mproperties\u001b[0m\u001b[0;34m:\u001b[0m\u001b[0;34m\u001b[0m\u001b[0;34m\u001b[0m\u001b[0m\n\u001b[0;32m--> 230\u001b[0;31m             \u001b[0;32mreturn\u001b[0m \u001b[0msuper\u001b[0m\u001b[0;34m(\u001b[0m\u001b[0;34m)\u001b[0m\u001b[0;34m.\u001b[0m\u001b[0m__setattr__\u001b[0m\u001b[0;34m(\u001b[0m\u001b[0mname\u001b[0m\u001b[0;34m,\u001b[0m \u001b[0mvalue\u001b[0m\u001b[0;34m)\u001b[0m\u001b[0;34m\u001b[0m\u001b[0;34m\u001b[0m\u001b[0m\n\u001b[0m\u001b[1;32m    231\u001b[0m \u001b[0;34m\u001b[0m\u001b[0m\n\u001b[1;32m    232\u001b[0m         \u001b[0mdescriptor\u001b[0m \u001b[0;34m=\u001b[0m \u001b[0mgetattr\u001b[0m\u001b[0;34m(\u001b[0m\u001b[0mself\u001b[0m\u001b[0;34m.\u001b[0m\u001b[0m__class__\u001b[0m\u001b[0;34m,\u001b[0m \u001b[0mname\u001b[0m\u001b[0;34m,\u001b[0m \u001b[0;32mNone\u001b[0m\u001b[0;34m)\u001b[0m\u001b[0;34m\u001b[0m\u001b[0;34m\u001b[0m\u001b[0m\n",
          "\u001b[0;32m~/anaconda3/lib/python3.9/site-packages/bokeh/core/property/descriptors.py\u001b[0m in \u001b[0;36m__set__\u001b[0;34m(self, obj, value, setter)\u001b[0m\n\u001b[1;32m    281\u001b[0m             \u001b[0;32mraise\u001b[0m \u001b[0mRuntimeError\u001b[0m\u001b[0;34m(\u001b[0m\u001b[0;34mf\"{class_name}.{self.name} is a readonly property\"\u001b[0m\u001b[0;34m)\u001b[0m\u001b[0;34m\u001b[0m\u001b[0;34m\u001b[0m\u001b[0m\n\u001b[1;32m    282\u001b[0m \u001b[0;34m\u001b[0m\u001b[0m\n\u001b[0;32m--> 283\u001b[0;31m         \u001b[0mvalue\u001b[0m \u001b[0;34m=\u001b[0m \u001b[0mself\u001b[0m\u001b[0;34m.\u001b[0m\u001b[0mproperty\u001b[0m\u001b[0;34m.\u001b[0m\u001b[0mprepare_value\u001b[0m\u001b[0;34m(\u001b[0m\u001b[0mobj\u001b[0m\u001b[0;34m,\u001b[0m \u001b[0mself\u001b[0m\u001b[0;34m.\u001b[0m\u001b[0mname\u001b[0m\u001b[0;34m,\u001b[0m \u001b[0mvalue\u001b[0m\u001b[0;34m)\u001b[0m\u001b[0;34m\u001b[0m\u001b[0;34m\u001b[0m\u001b[0m\n\u001b[0m\u001b[1;32m    284\u001b[0m         \u001b[0mold\u001b[0m \u001b[0;34m=\u001b[0m \u001b[0mself\u001b[0m\u001b[0;34m.\u001b[0m\u001b[0m_get\u001b[0m\u001b[0;34m(\u001b[0m\u001b[0mobj\u001b[0m\u001b[0;34m)\u001b[0m\u001b[0;34m\u001b[0m\u001b[0;34m\u001b[0m\u001b[0m\n\u001b[1;32m    285\u001b[0m         \u001b[0mself\u001b[0m\u001b[0;34m.\u001b[0m\u001b[0m_set\u001b[0m\u001b[0;34m(\u001b[0m\u001b[0mobj\u001b[0m\u001b[0;34m,\u001b[0m \u001b[0mold\u001b[0m\u001b[0;34m,\u001b[0m \u001b[0mvalue\u001b[0m\u001b[0;34m,\u001b[0m \u001b[0msetter\u001b[0m\u001b[0;34m=\u001b[0m\u001b[0msetter\u001b[0m\u001b[0;34m)\u001b[0m\u001b[0;34m\u001b[0m\u001b[0;34m\u001b[0m\u001b[0m\n",
          "\u001b[0;32m~/anaconda3/lib/python3.9/site-packages/bokeh/core/property/bases.py\u001b[0m in \u001b[0;36mprepare_value\u001b[0;34m(self, owner, name, value, hint)\u001b[0m\n\u001b[1;32m    363\u001b[0m         \u001b[0;32melse\u001b[0m\u001b[0;34m:\u001b[0m\u001b[0;34m\u001b[0m\u001b[0;34m\u001b[0m\u001b[0m\n\u001b[1;32m    364\u001b[0m             \u001b[0mobj_repr\u001b[0m \u001b[0;34m=\u001b[0m \u001b[0mowner\u001b[0m \u001b[0;32mif\u001b[0m \u001b[0misinstance\u001b[0m\u001b[0;34m(\u001b[0m\u001b[0mowner\u001b[0m\u001b[0;34m,\u001b[0m \u001b[0mHasProps\u001b[0m\u001b[0;34m)\u001b[0m \u001b[0;32melse\u001b[0m \u001b[0mowner\u001b[0m\u001b[0;34m.\u001b[0m\u001b[0m__name__\u001b[0m\u001b[0;34m\u001b[0m\u001b[0;34m\u001b[0m\u001b[0m\n\u001b[0;32m--> 365\u001b[0;31m             \u001b[0;32mraise\u001b[0m \u001b[0mValueError\u001b[0m\u001b[0;34m(\u001b[0m\u001b[0;34mf\"failed to validate {obj_repr}.{name}: {error}\"\u001b[0m\u001b[0;34m)\u001b[0m\u001b[0;34m\u001b[0m\u001b[0;34m\u001b[0m\u001b[0m\n\u001b[0m\u001b[1;32m    366\u001b[0m \u001b[0;34m\u001b[0m\u001b[0m\n\u001b[1;32m    367\u001b[0m         \u001b[0;32mif\u001b[0m \u001b[0misinstance\u001b[0m\u001b[0;34m(\u001b[0m\u001b[0mowner\u001b[0m\u001b[0;34m,\u001b[0m \u001b[0mHasProps\u001b[0m\u001b[0;34m)\u001b[0m\u001b[0;34m:\u001b[0m\u001b[0;34m\u001b[0m\u001b[0;34m\u001b[0m\u001b[0m\n",
          "\u001b[0;31mValueError\u001b[0m: failed to validate CategoricalAxis(id='4428', ...).ticker: expected an instance of type Ticker, got 0       Janvier\n1       Février\n2          Mars\n3         Avril\n4           Mai\n5          Juin\n6       Juillet\n7          Août\n8     Septembre\n9       Octobre\n10     Novembre\n11     Décembre\nName: Période, dtype: object of type Series"
         ]
        }
       ]
      }
     },
     "182b7bb09f844ba5bba92154f4a27564": {
      "model_module": "@jupyter-widgets/base",
      "model_module_version": "1.2.0",
      "model_name": "LayoutModel",
      "state": {}
     },
     "18352f00a7a341a097410e6e072539d8": {
      "model_module": "@jupyter-widgets/controls",
      "model_module_version": "1.5.0",
      "model_name": "DropdownModel",
      "state": {
       "_options_labels": [
        "Graph",
        "1992",
        "1993",
        "1994",
        "1995",
        "1996",
        "1997",
        "1998",
        "1999",
        "2000",
        "2001",
        "2002",
        "2003",
        "2004",
        "2005",
        "2006",
        "2007",
        "2008",
        "2009",
        "2010",
        "2011",
        "2012",
        "2013",
        "2014",
        "2015",
        "2016",
        "2017",
        "2018",
        "2019",
        "2020",
        "2021",
        "2022"
       ],
       "description": "Choisi",
       "index": 0,
       "layout": "IPY_MODEL_9aebf2f167204c799d53b06ddc2b9c31",
       "style": "IPY_MODEL_fa08731f611f4ea6a262cbd78eb30848"
      }
     },
     "187d4ca313064684b7488699d8bed256": {
      "model_module": "@jupyter-widgets/output",
      "model_module_version": "1.0.0",
      "model_name": "OutputModel",
      "state": {
       "layout": "IPY_MODEL_970d874fbe214914992cd59b52d134c2",
       "outputs": [
        {
         "data": {
          "text/html": "\n\n\n\n\n\n  <div class=\"bk-root\" id=\"b384f606-1263-4ca5-a22a-36310e76647c\" data-root-id=\"3348\"></div>\n"
         },
         "metadata": {},
         "output_type": "display_data"
        },
        {
         "data": {
          "application/javascript": "(function(root) {\n  function embed_document(root) {\n    \n  const docs_json = {\"bdca8220-934b-468e-b0d5-03cf29d5a412\":{\"defs\":[],\"roots\":{\"references\":[{\"attributes\":{\"below\":[{\"id\":\"3359\"}],\"center\":[{\"id\":\"3361\"},{\"id\":\"3365\"},{\"id\":\"3398\"}],\"left\":[{\"id\":\"3362\"}],\"renderers\":[{\"id\":\"3386\"}],\"sizing_mode\":\"stretch_width\",\"title\":{\"id\":\"3349\"},\"toolbar\":{\"id\":\"3374\"},\"x_range\":{\"id\":\"3351\"},\"x_scale\":{\"id\":\"3355\"},\"y_range\":{\"id\":\"3353\"},\"y_scale\":{\"id\":\"3357\"}},\"id\":\"3348\",\"subtype\":\"Figure\",\"type\":\"Plot\"},{\"attributes\":{\"callback\":null,\"tooltips\":[[\"Prix\",\"@y\"],[\"Mois\",\"@x\"]]},\"id\":\"3373\",\"type\":\"HoverTool\"},{\"attributes\":{\"line_color\":\"orange\",\"line_width\":3,\"x\":{\"field\":\"x\"},\"y\":{\"field\":\"y\"}},\"id\":\"3383\",\"type\":\"Line\"},{\"attributes\":{\"axis\":{\"id\":\"3362\"},\"coordinates\":null,\"dimension\":1,\"group\":null,\"ticker\":null},\"id\":\"3365\",\"type\":\"Grid\"},{\"attributes\":{\"axis_label\":\"Prix (En Euro)\",\"coordinates\":null,\"formatter\":{\"id\":\"3390\"},\"group\":null,\"major_label_policy\":{\"id\":\"3391\"},\"ticker\":{\"id\":\"3363\"}},\"id\":\"3362\",\"type\":\"LinearAxis\"},{\"attributes\":{},\"id\":\"3363\",\"type\":\"BasicTicker\"},{\"attributes\":{},\"id\":\"3360\",\"type\":\"CategoricalTicker\"},{\"attributes\":{},\"id\":\"3395\",\"type\":\"UnionRenderers\"},{\"attributes\":{\"line_alpha\":0.1,\"line_color\":\"orange\",\"line_width\":3,\"x\":{\"field\":\"x\"},\"y\":{\"field\":\"y\"}},\"id\":\"3384\",\"type\":\"Line\"},{\"attributes\":{},\"id\":\"3366\",\"type\":\"PanTool\"},{\"attributes\":{},\"id\":\"3369\",\"type\":\"SaveTool\"},{\"attributes\":{},\"id\":\"3396\",\"type\":\"Selection\"},{\"attributes\":{},\"id\":\"3390\",\"type\":\"BasicTickFormatter\"},{\"attributes\":{},\"id\":\"3391\",\"type\":\"AllLabels\"},{\"attributes\":{\"overlay\":{\"id\":\"3372\"}},\"id\":\"3368\",\"type\":\"BoxZoomTool\"},{\"attributes\":{},\"id\":\"3393\",\"type\":\"CategoricalTickFormatter\"},{\"attributes\":{},\"id\":\"3370\",\"type\":\"ResetTool\"},{\"attributes\":{},\"id\":\"3394\",\"type\":\"AllLabels\"},{\"attributes\":{\"label\":{\"value\":\"Prix par mois\"},\"renderers\":[{\"id\":\"3386\"}]},\"id\":\"3399\",\"type\":\"LegendItem\"},{\"attributes\":{\"bottom_units\":\"screen\",\"coordinates\":null,\"fill_alpha\":0.5,\"fill_color\":\"lightgrey\",\"group\":null,\"left_units\":\"screen\",\"level\":\"overlay\",\"line_alpha\":1.0,\"line_color\":\"black\",\"line_dash\":[4,4],\"line_width\":2,\"right_units\":\"screen\",\"syncable\":false,\"top_units\":\"screen\"},\"id\":\"3372\",\"type\":\"BoxAnnotation\"},{\"attributes\":{\"coordinates\":null,\"group\":null,\"text\":\"Evolution du prix du Gazole sur l'ann\\u00e9e 2000\"},\"id\":\"3349\",\"type\":\"Title\"},{\"attributes\":{},\"id\":\"3357\",\"type\":\"LinearScale\"},{\"attributes\":{\"logo\":null,\"tools\":[{\"id\":\"3366\"},{\"id\":\"3367\"},{\"id\":\"3368\"},{\"id\":\"3369\"},{\"id\":\"3370\"},{\"id\":\"3371\"},{\"id\":\"3373\"}]},\"id\":\"3374\",\"type\":\"Toolbar\"},{\"attributes\":{},\"id\":\"3355\",\"type\":\"CategoricalScale\"},{\"attributes\":{\"source\":{\"id\":\"3382\"}},\"id\":\"3387\",\"type\":\"CDSView\"},{\"attributes\":{},\"id\":\"3371\",\"type\":\"HelpTool\"},{\"attributes\":{},\"id\":\"3353\",\"type\":\"DataRange1d\"},{\"attributes\":{\"axis\":{\"id\":\"3359\"},\"coordinates\":null,\"group\":null,\"ticker\":null},\"id\":\"3361\",\"type\":\"Grid\"},{\"attributes\":{\"factors\":[\"Janvier\",\"F\\u00e9vrier\",\"Mars\",\"Avril\",\"Mai\",\"Juin\",\"Juillet\",\"Aout\",\"Septembre\",\"Octobre\",\"Novembre\",\"Decembre\"]},\"id\":\"3351\",\"type\":\"FactorRange\"},{\"attributes\":{\"coordinates\":null,\"data_source\":{\"id\":\"3382\"},\"glyph\":{\"id\":\"3383\"},\"group\":null,\"hover_glyph\":null,\"muted_glyph\":{\"id\":\"3385\"},\"nonselection_glyph\":{\"id\":\"3384\"},\"view\":{\"id\":\"3387\"}},\"id\":\"3386\",\"type\":\"GlyphRenderer\"},{\"attributes\":{\"axis_label\":\"P\\u00e9riode (En mois)\",\"coordinates\":null,\"formatter\":{\"id\":\"3393\"},\"group\":null,\"major_label_overrides\":{\"1\":\"Janvier\",\"10\":\"Octobre\",\"11\":\"Novembre\",\"12\":\"Decembre\",\"2\":\"F\\u00e9vrier\",\"3\":\"Mars\",\"4\":\"Avril\",\"5\":\"Mai\",\"6\":\"Juin\",\"7\":\"Juillet\",\"8\":\"Aout\",\"9\":\"Septembre\"},\"major_label_policy\":{\"id\":\"3394\"},\"ticker\":{\"id\":\"3360\"}},\"id\":\"3359\",\"type\":\"CategoricalAxis\"},{\"attributes\":{\"border_line_alpha\":0.8,\"coordinates\":null,\"group\":null,\"items\":[{\"id\":\"3399\"}],\"location\":\"top_left\"},\"id\":\"3398\",\"type\":\"Legend\"},{\"attributes\":{},\"id\":\"3367\",\"type\":\"WheelZoomTool\"},{\"attributes\":{\"line_alpha\":0.2,\"line_color\":\"orange\",\"line_width\":3,\"x\":{\"field\":\"x\"},\"y\":{\"field\":\"y\"}},\"id\":\"3385\",\"type\":\"Line\"},{\"attributes\":{\"data\":{\"x\":[\"Janvier\",\"F\\u00e9vrier\",\"Mars\",\"Avril\",\"Mai\",\"Juin\",\"Juillet\",\"Aout\",\"Septembre\",\"Octobre\",\"Novembre\",\"Decembre\"],\"y\":{\"__ndarray__\":\"7FG4HoXr6T/sUbgehevpPz0K16NwPeo/mpmZmZmZ6T/sUbgehevpPz0K16NwPeo/j8L1KFyP6j/hehSuR+HqP8P1KFyPwu0/zczMzMzM7D8fhetRuB7tP3sUrkfheuw/\",\"dtype\":\"float64\",\"order\":\"little\",\"shape\":[12]}},\"selected\":{\"id\":\"3396\"},\"selection_policy\":{\"id\":\"3395\"}},\"id\":\"3382\",\"type\":\"ColumnDataSource\"}],\"root_ids\":[\"3348\"]},\"title\":\"Bokeh Application\",\"version\":\"2.4.1\"}};\n  const render_items = [{\"docid\":\"bdca8220-934b-468e-b0d5-03cf29d5a412\",\"root_ids\":[\"3348\"],\"roots\":{\"3348\":\"b384f606-1263-4ca5-a22a-36310e76647c\"}}];\n  root.Bokeh.embed.embed_items_notebook(docs_json, render_items);\n\n  }\n  if (root.Bokeh !== undefined) {\n    embed_document(root);\n  } else {\n    let attempts = 0;\n    const timer = setInterval(function(root) {\n      if (root.Bokeh !== undefined) {\n        clearInterval(timer);\n        embed_document(root);\n      } else {\n        attempts++;\n        if (attempts > 100) {\n          clearInterval(timer);\n          console.log(\"Bokeh: ERROR: Unable to run BokehJS code because BokehJS library is missing\");\n        }\n      }\n    }, 10, root)\n  }\n})(window);",
          "application/vnd.bokehjs_exec.v0+json": ""
         },
         "metadata": {
          "application/vnd.bokehjs_exec.v0+json": {
           "id": "3348"
          }
         },
         "output_type": "display_data"
        }
       ]
      }
     },
     "1891e7584550437da257212e2d7d063a": {
      "model_module": "@jupyter-widgets/base",
      "model_module_version": "1.2.0",
      "model_name": "LayoutModel",
      "state": {}
     },
     "1923e285beba446cabda365839a783ca": {
      "model_module": "@jupyter-widgets/controls",
      "model_module_version": "1.5.0",
      "model_name": "VBoxModel",
      "state": {
       "_dom_classes": [
        "widget-interact"
       ],
       "children": [
        "IPY_MODEL_14138fcdcc87452093f040dcaa0ed697",
        "IPY_MODEL_d481f9e657b6487e8643d83d2e639813"
       ],
       "layout": "IPY_MODEL_b4e5cdae15444a42ba716afce7a1df00"
      }
     },
     "1959c1af24864925a70978a5b982cf56": {
      "model_module": "@jupyter-widgets/output",
      "model_module_version": "1.0.0",
      "model_name": "OutputModel",
      "state": {
       "layout": "IPY_MODEL_c1d2f91a266d4cf6b64b8bb104d89d6c",
       "outputs": [
        {
         "data": {
          "text/html": "\n\n\n\n\n\n  <div class=\"bk-root\" id=\"9c856251-4c7f-490b-9244-205f8622e919\" data-root-id=\"1002\"></div>\n"
         },
         "metadata": {},
         "output_type": "display_data"
        },
        {
         "data": {
          "application/javascript": "(function(root) {\n  function embed_document(root) {\n    \n  const docs_json = {\"d19dada8-3e6f-4b8d-b0f9-9c47bc42d166\":{\"defs\":[],\"roots\":{\"references\":[{\"attributes\":{\"below\":[{\"id\":\"1013\"}],\"center\":[{\"id\":\"1016\"},{\"id\":\"1020\"},{\"id\":\"1053\"}],\"left\":[{\"id\":\"1017\"}],\"renderers\":[{\"id\":\"1041\"},{\"id\":\"1059\"},{\"id\":\"1078\"},{\"id\":\"1099\"}],\"sizing_mode\":\"stretch_width\",\"title\":{\"id\":\"1003\"},\"toolbar\":{\"id\":\"1029\"},\"x_range\":{\"id\":\"1005\"},\"x_scale\":{\"id\":\"1009\"},\"y_range\":{\"id\":\"1007\"},\"y_scale\":{\"id\":\"1011\"}},\"id\":\"1002\",\"subtype\":\"Figure\",\"type\":\"Plot\"},{\"attributes\":{},\"id\":\"1014\",\"type\":\"BasicTicker\"},{\"attributes\":{},\"id\":\"1011\",\"type\":\"LinearScale\"},{\"attributes\":{},\"id\":\"1025\",\"type\":\"ResetTool\"},{\"attributes\":{\"line_color\":\"darkred\",\"x\":{\"field\":\"x\"},\"y\":{\"field\":\"y\"}},\"id\":\"1096\",\"type\":\"Line\"},{\"attributes\":{},\"id\":\"1021\",\"type\":\"PanTool\"},{\"attributes\":{},\"id\":\"1026\",\"type\":\"HelpTool\"},{\"attributes\":{\"line_alpha\":0.2,\"line_color\":\"orange\",\"line_width\":4,\"x\":{\"field\":\"x\"},\"y\":{\"field\":\"y\"}},\"id\":\"1058\",\"type\":\"Line\"},{\"attributes\":{\"coordinates\":null,\"data_source\":{\"id\":\"1055\"},\"glyph\":{\"id\":\"1056\"},\"group\":null,\"hover_glyph\":null,\"muted_glyph\":{\"id\":\"1058\"},\"nonselection_glyph\":{\"id\":\"1057\"},\"view\":{\"id\":\"1060\"}},\"id\":\"1059\",\"type\":\"GlyphRenderer\"},{\"attributes\":{},\"id\":\"1045\",\"type\":\"BasicTickFormatter\"},{\"attributes\":{\"source\":{\"id\":\"1037\"}},\"id\":\"1042\",\"type\":\"CDSView\"},{\"attributes\":{\"data\":{\"x\":{\"__ndarray__\":\"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\",\"dtype\":\"float64\",\"order\":\"little\",\"shape\":[362]},\"y\":{\"__ndarray__\":\"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\",\"dtype\":\"float64\",\"order\":\"little\",\"shape\":[362]}},\"selected\":{\"id\":\"1115\"},\"selection_policy\":{\"id\":\"1114\"}},\"id\":\"1095\",\"type\":\"ColumnDataSource\"},{\"attributes\":{\"data\":{\"x\":[\"1992\",\"1993\",\"1994\",\"1995\",\"1996\",\"1997\",\"1998\",\"1999\",\"2000\",\"2001\",\"2002\",\"2003\",\"2004\",\"2005\",\"2006\",\"2007\",\"2008\",\"2009\",\"2010\",\"2011\",\"2012\",\"2013\",\"2014\",\"2015\",\"2016\",\"2017\",\"2018\",\"2019\",\"2020\",\"2021\",\"2022\"],\"y\":{\"__ndarray__\":\"NDMzMzMz4T/xiyW/WPLhPwrXo3A9CuM/+2LJL5b84j8L16NwPQrlP93d3d3d3eU/pHA9Ctej5D/xiyW/WPLlPyCF61G4Hus/k18s+cWS6T+jcD0K16PoP32x5BdLfuk/W/KLJb9Y7D94d3d3d3fwP1yPwvUoXPE/iYiIiIiI8T+F61G4HoX0PyMiIiIiIvA/frHkF0t+8j+F61G4HoX1P5NfLPnFkvY/1AY6baDT9T/UBjptoNP0P6uqqqqqqvI/yi+W/GLJ8T+7u7u7u7vzPwAAAAAAAPc/F0t+seQX9z9fLPnFkl/0PxhLfrHkF/c/zMzMzMzM+j8=\",\"dtype\":\"float64\",\"order\":\"little\",\"shape\":[31]}},\"selected\":{\"id\":\"1071\"},\"selection_policy\":{\"id\":\"1070\"}},\"id\":\"1055\",\"type\":\"ColumnDataSource\"},{\"attributes\":{\"line_alpha\":0.2,\"line_color\":\"darkred\",\"x\":{\"field\":\"x\"},\"y\":{\"field\":\"y\"}},\"id\":\"1098\",\"type\":\"Line\"},{\"attributes\":{},\"id\":\"1050\",\"type\":\"UnionRenderers\"},{\"attributes\":{\"source\":{\"id\":\"1055\"}},\"id\":\"1060\",\"type\":\"CDSView\"},{\"attributes\":{\"logo\":null,\"tools\":[{\"id\":\"1021\"},{\"id\":\"1022\"},{\"id\":\"1023\"},{\"id\":\"1024\"},{\"id\":\"1025\"},{\"id\":\"1026\"},{\"id\":\"1028\"}]},\"id\":\"1029\",\"type\":\"Toolbar\"},{\"attributes\":{\"axis_label\":\"P\\u00e9riode (En ann\\u00e9e)\",\"coordinates\":null,\"formatter\":{\"id\":\"1048\"},\"group\":null,\"major_label_policy\":{\"id\":\"1049\"},\"ticker\":{\"id\":\"1014\"}},\"id\":\"1013\",\"type\":\"LinearAxis\"},{\"attributes\":{\"line_color\":\"grey\",\"line_dash\":[5,5],\"x\":{\"field\":\"x\"},\"y\":{\"field\":\"y\"}},\"id\":\"1038\",\"type\":\"Line\"},{\"attributes\":{},\"id\":\"1051\",\"type\":\"Selection\"},{\"attributes\":{\"label\":{\"value\":\"Prix par ann\\u00e9es\"},\"renderers\":[{\"id\":\"1059\"}]},\"id\":\"1073\",\"type\":\"LegendItem\"},{\"attributes\":{},\"id\":\"1007\",\"type\":\"DataRange1d\"},{\"attributes\":{\"line_alpha\":0.1,\"line_color\":\"orange\",\"line_width\":4,\"x\":{\"field\":\"x\"},\"y\":{\"field\":\"y\"}},\"id\":\"1057\",\"type\":\"Line\"},{\"attributes\":{},\"id\":\"1115\",\"type\":\"Selection\"},{\"attributes\":{},\"id\":\"1018\",\"type\":\"BasicTicker\"},{\"attributes\":{\"axis\":{\"id\":\"1013\"},\"coordinates\":null,\"group\":null,\"ticker\":null},\"id\":\"1016\",\"type\":\"Grid\"},{\"attributes\":{\"line_alpha\":0.1,\"line_color\":\"darkred\",\"x\":{\"field\":\"x\"},\"y\":{\"field\":\"y\"}},\"id\":\"1097\",\"type\":\"Line\"},{\"attributes\":{},\"id\":\"1022\",\"type\":\"WheelZoomTool\"},{\"attributes\":{\"coordinates\":null,\"group\":null,\"text\":\"Evolution du prix du Gazole\"},\"id\":\"1003\",\"type\":\"Title\"},{\"attributes\":{\"coordinates\":null,\"data_source\":{\"id\":\"1037\"},\"glyph\":{\"id\":\"1038\"},\"group\":null,\"hover_glyph\":null,\"muted_glyph\":{\"id\":\"1040\"},\"nonselection_glyph\":{\"id\":\"1039\"},\"view\":{\"id\":\"1042\"}},\"id\":\"1041\",\"type\":\"GlyphRenderer\"},{\"attributes\":{\"coordinates\":null,\"data_source\":{\"id\":\"1095\"},\"glyph\":{\"id\":\"1096\"},\"group\":null,\"hover_glyph\":null,\"muted_glyph\":{\"id\":\"1098\"},\"nonselection_glyph\":{\"id\":\"1097\"},\"view\":{\"id\":\"1100\"}},\"id\":\"1099\",\"type\":\"GlyphRenderer\"},{\"attributes\":{\"fill_alpha\":{\"value\":0.5},\"fill_color\":{\"value\":\"red\"},\"hatch_color\":{\"value\":\"red\"},\"line_color\":{\"value\":\"red\"},\"size\":{\"value\":10},\"x\":{\"field\":\"x\"},\"y\":{\"field\":\"y\"}},\"id\":\"1075\",\"type\":\"Circle\"},{\"attributes\":{},\"id\":\"1005\",\"type\":\"DataRange1d\"},{\"attributes\":{},\"id\":\"1046\",\"type\":\"AllLabels\"},{\"attributes\":{},\"id\":\"1070\",\"type\":\"UnionRenderers\"},{\"attributes\":{\"data\":{\"x\":[\"2008\",\"2009\",\"2011\",\"2018\",\"2020\",\"2021\"],\"y\":{\"__ndarray__\":\"hetRuB6F9D8jIiIiIiLwP4XrUbgehfU/AAAAAAAA9z9fLPnFkl/0PxhLfrHkF/c/\",\"dtype\":\"float64\",\"order\":\"little\",\"shape\":[6]}},\"selected\":{\"id\":\"1092\"},\"selection_policy\":{\"id\":\"1091\"}},\"id\":\"1074\",\"type\":\"ColumnDataSource\"},{\"attributes\":{\"line_color\":\"orange\",\"line_width\":4,\"x\":{\"field\":\"x\"},\"y\":{\"field\":\"y\"}},\"id\":\"1056\",\"type\":\"Line\"},{\"attributes\":{},\"id\":\"1114\",\"type\":\"UnionRenderers\"},{\"attributes\":{},\"id\":\"1071\",\"type\":\"Selection\"},{\"attributes\":{\"axis_label\":\"Prix (En Euro)\",\"coordinates\":null,\"formatter\":{\"id\":\"1045\"},\"group\":null,\"major_label_policy\":{\"id\":\"1046\"},\"ticker\":{\"id\":\"1018\"}},\"id\":\"1017\",\"type\":\"LinearAxis\"},{\"attributes\":{\"line_alpha\":0.2,\"line_color\":\"grey\",\"line_dash\":[5,5],\"x\":{\"field\":\"x\"},\"y\":{\"field\":\"y\"}},\"id\":\"1040\",\"type\":\"Line\"},{\"attributes\":{\"callback\":null,\"tooltips\":[[\"Ann\\u00e9e \",\"@x\"],[\"Prix \",\"@y\"]]},\"id\":\"1028\",\"type\":\"HoverTool\"},{\"attributes\":{\"fill_alpha\":{\"value\":0.2},\"fill_color\":{\"value\":\"red\"},\"hatch_alpha\":{\"value\":0.2},\"hatch_color\":{\"value\":\"red\"},\"line_alpha\":{\"value\":0.2},\"line_color\":{\"value\":\"red\"},\"size\":{\"value\":10},\"x\":{\"field\":\"x\"},\"y\":{\"field\":\"y\"}},\"id\":\"1077\",\"type\":\"Circle\"},{\"attributes\":{},\"id\":\"1049\",\"type\":\"AllLabels\"},{\"attributes\":{},\"id\":\"1092\",\"type\":\"Selection\"},{\"attributes\":{\"coordinates\":null,\"data_source\":{\"id\":\"1074\"},\"glyph\":{\"id\":\"1075\"},\"group\":null,\"hover_glyph\":null,\"muted_glyph\":{\"id\":\"1077\"},\"nonselection_glyph\":{\"id\":\"1076\"},\"view\":{\"id\":\"1079\"}},\"id\":\"1078\",\"type\":\"GlyphRenderer\"},{\"attributes\":{\"label\":{\"value\":\"Prix par mois\"},\"renderers\":[{\"id\":\"1041\"}]},\"id\":\"1054\",\"type\":\"LegendItem\"},{\"attributes\":{\"label\":{\"value\":\"Forte \\u00e9volution\"},\"renderers\":[{\"id\":\"1078\"}]},\"id\":\"1094\",\"type\":\"LegendItem\"},{\"attributes\":{\"fill_alpha\":{\"value\":0.1},\"fill_color\":{\"value\":\"red\"},\"hatch_alpha\":{\"value\":0.1},\"hatch_color\":{\"value\":\"red\"},\"line_alpha\":{\"value\":0.1},\"line_color\":{\"value\":\"red\"},\"size\":{\"value\":10},\"x\":{\"field\":\"x\"},\"y\":{\"field\":\"y\"}},\"id\":\"1076\",\"type\":\"Circle\"},{\"attributes\":{},\"id\":\"1009\",\"type\":\"LinearScale\"},{\"attributes\":{\"source\":{\"id\":\"1074\"}},\"id\":\"1079\",\"type\":\"CDSView\"},{\"attributes\":{},\"id\":\"1024\",\"type\":\"SaveTool\"},{\"attributes\":{},\"id\":\"1091\",\"type\":\"UnionRenderers\"},{\"attributes\":{},\"id\":\"1048\",\"type\":\"BasicTickFormatter\"},{\"attributes\":{\"bottom_units\":\"screen\",\"coordinates\":null,\"fill_alpha\":0.5,\"fill_color\":\"lightgrey\",\"group\":null,\"left_units\":\"screen\",\"level\":\"overlay\",\"line_alpha\":1.0,\"line_color\":\"black\",\"line_dash\":[4,4],\"line_width\":2,\"right_units\":\"screen\",\"syncable\":false,\"top_units\":\"screen\"},\"id\":\"1027\",\"type\":\"BoxAnnotation\"},{\"attributes\":{\"data\":{\"x\":[\"1992\",\"1992\",\"1992\",\"1992\",\"1992\",\"1992\",\"1992\",\"1992\",\"1992\",\"1992\",\"1992\",\"1992\",\"1993\",\"1993\",\"1993\",\"1993\",\"1993\",\"1993\",\"1993\",\"1993\",\"1993\",\"1993\",\"1993\",\"1993\",\"1994\",\"1994\",\"1994\",\"1994\",\"1994\",\"1994\",\"1994\",\"1994\",\"1994\",\"1994\",\"1994\",\"1994\",\"1995\",\"1995\",\"1995\",\"1995\",\"1995\",\"1995\",\"1995\",\"1995\",\"1995\",\"1995\",\"1995\",\"1995\",\"1996\",\"1996\",\"1996\",\"1996\",\"1996\",\"1996\",\"1996\",\"1996\",\"1996\",\"1996\",\"1996\",\"1996\",\"1997\",\"1997\",\"1997\",\"1997\",\"1997\",\"1997\",\"1997\",\"1997\",\"1997\",\"1997\",\"1997\",\"1997\",\"1998\",\"1998\",\"1998\",\"1998\",\"1998\",\"1998\",\"1998\",\"1998\",\"1998\",\"1998\",\"1998\",\"1998\",\"1999\",\"1999\",\"1999\",\"1999\",\"1999\",\"1999\",\"1999\",\"1999\",\"1999\",\"1999\",\"1999\",\"1999\",\"2000\",\"2000\",\"2000\",\"2000\",\"2000\",\"2000\",\"2000\",\"2000\",\"2000\",\"2000\",\"2000\",\"2000\",\"2001\",\"2001\",\"2001\",\"2001\",\"2001\",\"2001\",\"2001\",\"2001\",\"2001\",\"2001\",\"2001\",\"2001\",\"2002\",\"2002\",\"2002\",\"2002\",\"2002\",\"2002\",\"2002\",\"2002\",\"2002\",\"2002\",\"2002\",\"2002\",\"2003\",\"2003\",\"2003\",\"2003\",\"2003\",\"2003\",\"2003\",\"2003\",\"2003\",\"2003\",\"2003\",\"2003\",\"2004\",\"2004\",\"2004\",\"2004\",\"2004\",\"2004\",\"2004\",\"2004\",\"2004\",\"2004\",\"2004\",\"2004\",\"2005\",\"2005\",\"2005\",\"2005\",\"2005\",\"2005\",\"2005\",\"2005\",\"2005\",\"2005\",\"2005\",\"2005\",\"2006\",\"2006\",\"2006\",\"2006\",\"2006\",\"2006\",\"2006\",\"2006\",\"2006\",\"2006\",\"2006\",\"2006\",\"2007\",\"2007\",\"2007\",\"2007\",\"2007\",\"2007\",\"2007\",\"2007\",\"2007\",\"2007\",\"2007\",\"2007\",\"2008\",\"2008\",\"2008\",\"2008\",\"2008\",\"2008\",\"2008\",\"2008\",\"2008\",\"2008\",\"2008\",\"2008\",\"2009\",\"2009\",\"2009\",\"2009\",\"2009\",\"2009\",\"2009\",\"2009\",\"2009\",\"2009\",\"2009\",\"2009\",\"2010\",\"2010\",\"2010\",\"2010\",\"2010\",\"2010\",\"2010\",\"2010\",\"2010\",\"2010\",\"2010\",\"2010\",\"2011\",\"2011\",\"2011\",\"2011\",\"2011\",\"2011\",\"2011\",\"2011\",\"2011\",\"2011\",\"2011\",\"2011\",\"2012\",\"2012\",\"2012\",\"2012\",\"2012\",\"2012\",\"2012\",\"2012\",\"2012\",\"2012\",\"2012\",\"2012\",\"2013\",\"2013\",\"2013\",\"2013\",\"2013\",\"2013\",\"2013\",\"2013\",\"2013\",\"2013\",\"2013\",\"2013\",\"2014\",\"2014\",\"2014\",\"2014\",\"2014\",\"2014\",\"2014\",\"2014\",\"2014\",\"2014\",\"2014\",\"2014\",\"2015\",\"2015\",\"2015\",\"2015\",\"2015\",\"2015\",\"2015\",\"2015\",\"2015\",\"2015\",\"2015\",\"2015\",\"2016\",\"2016\",\"2016\",\"2016\",\"2016\",\"2016\",\"2016\",\"2016\",\"2016\",\"2016\",\"2016\",\"2016\",\"2017\",\"2017\",\"2017\",\"2017\",\"2017\",\"2017\",\"2017\",\"2017\",\"2017\",\"2017\",\"2017\",\"2017\",\"2018\",\"2018\",\"2018\",\"2018\",\"2018\",\"2018\",\"2018\",\"2018\",\"2018\",\"2018\",\"2018\",\"2018\",\"2019\",\"2019\",\"2019\",\"2019\",\"2019\",\"2019\",\"2019\",\"2019\",\"2019\",\"2019\",\"2019\",\"2019\",\"2020\",\"2020\",\"2020\",\"2020\",\"2020\",\"2020\",\"2020\",\"2020\",\"2020\",\"2020\",\"2020\",\"2020\",\"2021\",\"2021\",\"2021\",\"2021\",\"2021\",\"2021\",\"2021\",\"2021\",\"2021\",\"2021\",\"2021\",\"2021\",\"2022\",\"2022\"],\"y\":[0.54,0.54,0.54,0.53,0.54,0.54,0.54,0.54,0.53,0.53,0.54,0.54,0.53,0.54,0.54,0.55,0.55,0.54,0.54,0.56,0.59,0.6,0.6,0.59,0.6,0.6,0.6,0.6,0.6,0.6,0.59,0.59,0.59,0.59,0.59,0.59,0.59,0.59,0.59,0.59,0.59,0.59,0.59,0.59,0.6,0.6,0.6,0.6,0.62,0.63,0.65,0.66,0.65,0.64,0.64,0.64,0.66,0.7,0.7,0.7,0.71,0.7,0.69,0.68,0.68,0.67,0.67,0.68,0.67,0.68,0.69,0.68,0.68,0.67,0.66,0.66,0.65,0.64,0.64,0.63,0.63,0.63,0.63,0.62,0.63,0.63,0.64,0.67,0.67,0.67,0.68,0.7,0.71,0.72,0.73,0.78,0.81,0.81,0.82,0.8,0.81,0.82,0.83,0.84,0.93,0.9,0.91,0.89,0.81,0.8,0.8,0.8,0.82,0.82,0.82,0.8,0.8,0.79,0.78,0.75,0.74,0.74,0.75,0.78,0.77,0.76,0.75,0.77,0.79,0.81,0.79,0.79,0.82,0.84,0.89,0.82,0.77,0.76,0.76,0.77,0.77,0.78,0.79,0.79,0.81,0.81,0.83,0.84,0.88,0.86,0.87,0.91,0.92,0.96,0.97,0.97,0.93,0.94,0.99,1.02,0.99,1.02,1.06,1.07,1.1,1.12,1.07,1.04,1.06,1.07,1.08,1.1,1.12,1.11,1.12,1.13,1.1,1.05,1.04,1.04,1.02,1.02,1.04,1.07,1.07,1.08,1.1,1.1,1.11,1.12,1.2,1.22,1.21,1.2,1.26,1.29,1.37,1.46,1.45,1.36,1.33,1.26,1.15,1.05,0.99,0.99,0.95,0.98,0.98,1.02,1.01,1.04,1.02,1.02,1.05,1.05,1.09,1.09,1.13,1.16,1.18,1.17,1.16,1.15,1.16,1.17,1.19,1.22,1.29,1.31,1.37,1.38,1.34,1.33,1.33,1.33,1.34,1.35,1.39,1.38,1.42,1.43,1.46,1.45,1.42,1.37,1.36,1.44,1.42,1.4,1.38,1.38,1.39,1.41,1.41,1.38,1.34,1.34,1.35,1.36,1.38,1.34,1.33,1.34,1.34,1.34,1.33,1.32,1.32,1.32,1.32,1.31,1.3,1.28,1.25,1.19,1.13,1.19,1.22,1.22,1.24,1.23,1.2,1.14,1.12,1.12,1.11,1.08,1.03,1.03,1.06,1.07,1.12,1.17,1.14,1.11,1.12,1.15,1.16,1.18,1.27,1.27,1.25,1.24,1.21,1.18,1.17,1.2,1.22,1.24,1.27,1.28,1.39,1.38,1.37,1.4,1.45,1.46,1.45,1.45,1.48,1.52,1.48,1.42,1.4,1.44,1.46,1.47,1.49,1.43,1.42,1.42,1.44,1.44,1.44,1.47,1.49,1.42,1.32,1.23,1.18,1.22,1.25,1.25,1.22,1.21,1.22,1.27,1.31,1.36,1.4,1.39,1.4,1.43,1.45,1.45,1.46,1.56,1.57,1.54,1.63,1.72]},\"selected\":{\"id\":\"1051\"},\"selection_policy\":{\"id\":\"1050\"}},\"id\":\"1037\",\"type\":\"ColumnDataSource\"},{\"attributes\":{\"source\":{\"id\":\"1095\"}},\"id\":\"1100\",\"type\":\"CDSView\"},{\"attributes\":{\"line_alpha\":0.1,\"line_color\":\"grey\",\"line_dash\":[5,5],\"x\":{\"field\":\"x\"},\"y\":{\"field\":\"y\"}},\"id\":\"1039\",\"type\":\"Line\"},{\"attributes\":{\"label\":{\"value\":\"R\\u00e9gression Lin\\u00e9aire\"},\"renderers\":[{\"id\":\"1099\"}]},\"id\":\"1117\",\"type\":\"LegendItem\"},{\"attributes\":{\"border_line_alpha\":0.8,\"coordinates\":null,\"group\":null,\"items\":[{\"id\":\"1054\"},{\"id\":\"1073\"},{\"id\":\"1094\"},{\"id\":\"1117\"}],\"label_text_font_style\":\"italic\",\"location\":\"top_left\"},\"id\":\"1053\",\"type\":\"Legend\"},{\"attributes\":{\"overlay\":{\"id\":\"1027\"}},\"id\":\"1023\",\"type\":\"BoxZoomTool\"},{\"attributes\":{\"axis\":{\"id\":\"1017\"},\"coordinates\":null,\"dimension\":1,\"group\":null,\"ticker\":null},\"id\":\"1020\",\"type\":\"Grid\"}],\"root_ids\":[\"1002\"]},\"title\":\"Bokeh Application\",\"version\":\"2.4.1\"}};\n  const render_items = [{\"docid\":\"d19dada8-3e6f-4b8d-b0f9-9c47bc42d166\",\"root_ids\":[\"1002\"],\"roots\":{\"1002\":\"9c856251-4c7f-490b-9244-205f8622e919\"}}];\n  root.Bokeh.embed.embed_items_notebook(docs_json, render_items);\n\n  }\n  if (root.Bokeh !== undefined) {\n    embed_document(root);\n  } else {\n    let attempts = 0;\n    const timer = setInterval(function(root) {\n      if (root.Bokeh !== undefined) {\n        clearInterval(timer);\n        embed_document(root);\n      } else {\n        attempts++;\n        if (attempts > 100) {\n          clearInterval(timer);\n          console.log(\"Bokeh: ERROR: Unable to run BokehJS code because BokehJS library is missing\");\n        }\n      }\n    }, 10, root)\n  }\n})(window);",
          "application/vnd.bokehjs_exec.v0+json": ""
         },
         "metadata": {
          "application/vnd.bokehjs_exec.v0+json": {
           "id": "1002"
          }
         },
         "output_type": "display_data"
        }
       ]
      }
     },
     "197c62d449e14ebba08b410eee92b719": {
      "model_module": "@jupyter-widgets/controls",
      "model_module_version": "1.5.0",
      "model_name": "DropdownModel",
      "state": {
       "_options_labels": [
        "Graph",
        "1992",
        "1993",
        "1994",
        "1995",
        "1996",
        "1997",
        "1998",
        "1999",
        "2000",
        "2001",
        "2002",
        "2003",
        "2004",
        "2005",
        "2006",
        "2007",
        "2008",
        "2009",
        "2010",
        "2011",
        "2012",
        "2013",
        "2014",
        "2015",
        "2016",
        "2017",
        "2018",
        "2019",
        "2020",
        "2021",
        "2022"
       ],
       "description": "Choisi",
       "index": 9,
       "layout": "IPY_MODEL_f2f2aaf424ef43aaa80913cb78fc7c7a",
       "style": "IPY_MODEL_7ea789db156545749ab2b94fa2f1ac6a"
      }
     },
     "1a56a7fae1a34d8482a5eac79d2cc0a4": {
      "model_module": "@jupyter-widgets/controls",
      "model_module_version": "1.5.0",
      "model_name": "DropdownModel",
      "state": {
       "_options_labels": [
        "Graph",
        "1992",
        "1993",
        "1994",
        "1995",
        "1996",
        "1997",
        "1998",
        "1999",
        "2000",
        "2001",
        "2002",
        "2003",
        "2004",
        "2005",
        "2006",
        "2007",
        "2008",
        "2009",
        "2010",
        "2011",
        "2012",
        "2013",
        "2014",
        "2015",
        "2016",
        "2017",
        "2018",
        "2019",
        "2020",
        "2021",
        "2022"
       ],
       "description": "Choisi",
       "index": 12,
       "layout": "IPY_MODEL_1a5e14e271fa4e9f8d1fc7d693837012",
       "style": "IPY_MODEL_f9a83cb008f8496a82b7f86d984f8574"
      }
     },
     "1a5e14e271fa4e9f8d1fc7d693837012": {
      "model_module": "@jupyter-widgets/base",
      "model_module_version": "1.2.0",
      "model_name": "LayoutModel",
      "state": {}
     },
     "1a9946957b5f45ab890104fcafce5b1e": {
      "model_module": "@jupyter-widgets/base",
      "model_module_version": "1.2.0",
      "model_name": "LayoutModel",
      "state": {}
     },
     "1b27e7c04eed45c7baac067100a86ccd": {
      "model_module": "@jupyter-widgets/base",
      "model_module_version": "1.2.0",
      "model_name": "LayoutModel",
      "state": {}
     },
     "1dbb060e504f417e952ede23e6d06594": {
      "model_module": "@jupyter-widgets/output",
      "model_module_version": "1.0.0",
      "model_name": "OutputModel",
      "state": {
       "layout": "IPY_MODEL_827b4498361d429fb9d7c6f889a5707c",
       "outputs": [
        {
         "data": {
          "text/html": "\n\n\n\n\n\n  <div class=\"bk-root\" id=\"cd61e1c4-d2b1-4187-b94e-cdc2fac96588\" data-root-id=\"3555\"></div>\n"
         },
         "metadata": {},
         "output_type": "display_data"
        },
        {
         "data": {
          "application/javascript": "(function(root) {\n  function embed_document(root) {\n    \n  const docs_json = {\"66991af5-10ba-4ac8-a830-6d32c3651da8\":{\"defs\":[],\"roots\":{\"references\":[{\"attributes\":{\"below\":[{\"id\":\"3566\"}],\"center\":[{\"id\":\"3568\"},{\"id\":\"3572\"},{\"id\":\"3605\"}],\"left\":[{\"id\":\"3569\"}],\"renderers\":[{\"id\":\"3593\"}],\"sizing_mode\":\"stretch_width\",\"title\":{\"id\":\"3556\"},\"toolbar\":{\"id\":\"3581\"},\"x_range\":{\"id\":\"3558\"},\"x_scale\":{\"id\":\"3562\"},\"y_range\":{\"id\":\"3560\"},\"y_scale\":{\"id\":\"3564\"}},\"id\":\"3555\",\"subtype\":\"Figure\",\"type\":\"Plot\"},{\"attributes\":{},\"id\":\"3600\",\"type\":\"CategoricalTickFormatter\"},{\"attributes\":{\"source\":{\"id\":\"3589\"}},\"id\":\"3594\",\"type\":\"CDSView\"},{\"attributes\":{},\"id\":\"3601\",\"type\":\"AllLabels\"},{\"attributes\":{},\"id\":\"3567\",\"type\":\"CategoricalTicker\"},{\"attributes\":{\"label\":{\"value\":\"Prix par mois\"},\"renderers\":[{\"id\":\"3593\"}]},\"id\":\"3606\",\"type\":\"LegendItem\"},{\"attributes\":{\"line_color\":\"orange\",\"line_width\":3,\"x\":{\"field\":\"x\"},\"y\":{\"field\":\"y\"}},\"id\":\"3590\",\"type\":\"Line\"},{\"attributes\":{},\"id\":\"3602\",\"type\":\"UnionRenderers\"},{\"attributes\":{},\"id\":\"3562\",\"type\":\"CategoricalScale\"},{\"attributes\":{\"data\":{\"x\":[\"Janvier\",\"F\\u00e9vrier\",\"Mars\",\"Avril\",\"Mai\",\"Juin\",\"Juillet\",\"Aout\",\"Septembre\",\"Octobre\",\"Novembre\",\"Decembre\"],\"y\":{\"__ndarray__\":\"7FG4HoXr6T/sUbgehevpPz0K16NwPeo/mpmZmZmZ6T/sUbgehevpPz0K16NwPeo/j8L1KFyP6j/hehSuR+HqP8P1KFyPwu0/zczMzMzM7D8fhetRuB7tP3sUrkfheuw/\",\"dtype\":\"float64\",\"order\":\"little\",\"shape\":[12]}},\"selected\":{\"id\":\"3603\"},\"selection_policy\":{\"id\":\"3602\"}},\"id\":\"3589\",\"type\":\"ColumnDataSource\"},{\"attributes\":{\"factors\":[\"Janvier\",\"F\\u00e9vrier\",\"Mars\",\"Avril\",\"Mai\",\"Juin\",\"Juillet\",\"Aout\",\"Septembre\",\"Octobre\",\"Novembre\",\"Decembre\"]},\"id\":\"3558\",\"type\":\"FactorRange\"},{\"attributes\":{\"axis\":{\"id\":\"3566\"},\"coordinates\":null,\"group\":null,\"ticker\":null},\"id\":\"3568\",\"type\":\"Grid\"},{\"attributes\":{},\"id\":\"3603\",\"type\":\"Selection\"},{\"attributes\":{\"line_alpha\":0.2,\"line_color\":\"orange\",\"line_width\":3,\"x\":{\"field\":\"x\"},\"y\":{\"field\":\"y\"}},\"id\":\"3592\",\"type\":\"Line\"},{\"attributes\":{},\"id\":\"3597\",\"type\":\"BasicTickFormatter\"},{\"attributes\":{},\"id\":\"3598\",\"type\":\"AllLabels\"},{\"attributes\":{\"axis_label\":\"P\\u00e9riode (En mois)\",\"coordinates\":null,\"formatter\":{\"id\":\"3600\"},\"group\":null,\"major_label_overrides\":{\"1\":\"Janvier\",\"10\":\"Octobre\",\"11\":\"Novembre\",\"12\":\"Decembre\",\"2\":\"F\\u00e9vrier\",\"3\":\"Mars\",\"4\":\"Avril\",\"5\":\"Mai\",\"6\":\"Juin\",\"7\":\"Juillet\",\"8\":\"Aout\",\"9\":\"Septembre\"},\"major_label_policy\":{\"id\":\"3601\"},\"ticker\":{\"id\":\"3567\"}},\"id\":\"3566\",\"type\":\"CategoricalAxis\"},{\"attributes\":{\"line_alpha\":0.1,\"line_color\":\"orange\",\"line_width\":3,\"x\":{\"field\":\"x\"},\"y\":{\"field\":\"y\"}},\"id\":\"3591\",\"type\":\"Line\"},{\"attributes\":{\"coordinates\":null,\"group\":null,\"text\":\"Evolution du prix du Gazole sur l'ann\\u00e9e 2000\"},\"id\":\"3556\",\"type\":\"Title\"},{\"attributes\":{\"border_line_alpha\":0.8,\"coordinates\":null,\"group\":null,\"items\":[{\"id\":\"3606\"}],\"location\":\"top_left\"},\"id\":\"3605\",\"type\":\"Legend\"},{\"attributes\":{\"coordinates\":null,\"data_source\":{\"id\":\"3589\"},\"glyph\":{\"id\":\"3590\"},\"group\":null,\"hover_glyph\":null,\"muted_glyph\":{\"id\":\"3592\"},\"nonselection_glyph\":{\"id\":\"3591\"},\"view\":{\"id\":\"3594\"}},\"id\":\"3593\",\"type\":\"GlyphRenderer\"},{\"attributes\":{\"logo\":null,\"tools\":[{\"id\":\"3573\"},{\"id\":\"3574\"},{\"id\":\"3575\"},{\"id\":\"3576\"},{\"id\":\"3577\"},{\"id\":\"3578\"},{\"id\":\"3580\"}]},\"id\":\"3581\",\"type\":\"Toolbar\"},{\"attributes\":{\"bottom_units\":\"screen\",\"coordinates\":null,\"fill_alpha\":0.5,\"fill_color\":\"lightgrey\",\"group\":null,\"left_units\":\"screen\",\"level\":\"overlay\",\"line_alpha\":1.0,\"line_color\":\"black\",\"line_dash\":[4,4],\"line_width\":2,\"right_units\":\"screen\",\"syncable\":false,\"top_units\":\"screen\"},\"id\":\"3579\",\"type\":\"BoxAnnotation\"},{\"attributes\":{},\"id\":\"3570\",\"type\":\"BasicTicker\"},{\"attributes\":{\"callback\":null,\"tooltips\":[[\"Prix : \",\"@y\"],[\"Mois : \",\"@x\"]]},\"id\":\"3580\",\"type\":\"HoverTool\"},{\"attributes\":{},\"id\":\"3577\",\"type\":\"ResetTool\"},{\"attributes\":{\"axis\":{\"id\":\"3569\"},\"coordinates\":null,\"dimension\":1,\"group\":null,\"ticker\":null},\"id\":\"3572\",\"type\":\"Grid\"},{\"attributes\":{},\"id\":\"3576\",\"type\":\"SaveTool\"},{\"attributes\":{},\"id\":\"3573\",\"type\":\"PanTool\"},{\"attributes\":{\"overlay\":{\"id\":\"3579\"}},\"id\":\"3575\",\"type\":\"BoxZoomTool\"},{\"attributes\":{},\"id\":\"3574\",\"type\":\"WheelZoomTool\"},{\"attributes\":{},\"id\":\"3560\",\"type\":\"DataRange1d\"},{\"attributes\":{},\"id\":\"3578\",\"type\":\"HelpTool\"},{\"attributes\":{\"axis_label\":\"Prix (En Euro)\",\"coordinates\":null,\"formatter\":{\"id\":\"3597\"},\"group\":null,\"major_label_policy\":{\"id\":\"3598\"},\"ticker\":{\"id\":\"3570\"}},\"id\":\"3569\",\"type\":\"LinearAxis\"},{\"attributes\":{},\"id\":\"3564\",\"type\":\"LinearScale\"}],\"root_ids\":[\"3555\"]},\"title\":\"Bokeh Application\",\"version\":\"2.4.1\"}};\n  const render_items = [{\"docid\":\"66991af5-10ba-4ac8-a830-6d32c3651da8\",\"root_ids\":[\"3555\"],\"roots\":{\"3555\":\"cd61e1c4-d2b1-4187-b94e-cdc2fac96588\"}}];\n  root.Bokeh.embed.embed_items_notebook(docs_json, render_items);\n\n  }\n  if (root.Bokeh !== undefined) {\n    embed_document(root);\n  } else {\n    let attempts = 0;\n    const timer = setInterval(function(root) {\n      if (root.Bokeh !== undefined) {\n        clearInterval(timer);\n        embed_document(root);\n      } else {\n        attempts++;\n        if (attempts > 100) {\n          clearInterval(timer);\n          console.log(\"Bokeh: ERROR: Unable to run BokehJS code because BokehJS library is missing\");\n        }\n      }\n    }, 10, root)\n  }\n})(window);",
          "application/vnd.bokehjs_exec.v0+json": ""
         },
         "metadata": {
          "application/vnd.bokehjs_exec.v0+json": {
           "id": "3555"
          }
         },
         "output_type": "display_data"
        }
       ]
      }
     },
     "1eb6c34fee4c4c32aeb3a1a6c88fd979": {
      "model_module": "@jupyter-widgets/output",
      "model_module_version": "1.0.0",
      "model_name": "OutputModel",
      "state": {
       "layout": "IPY_MODEL_2c29314eeff746479062da9aafa41e0b",
       "outputs": [
        {
         "data": {
          "text/html": "\n\n\n\n\n\n  <div class=\"bk-root\" id=\"ca1cddda-c5ce-4fdc-ad85-3fc6526fd3e1\" data-root-id=\"1002\"></div>\n"
         },
         "metadata": {},
         "output_type": "display_data"
        },
        {
         "data": {
          "application/javascript": "(function(root) {\n  function embed_document(root) {\n    \n  const docs_json = {\"7c719b18-3066-43b4-a4f2-9b8405c5a2e3\":{\"defs\":[],\"roots\":{\"references\":[{\"attributes\":{\"below\":[{\"id\":\"1013\"}],\"center\":[{\"id\":\"1016\"},{\"id\":\"1020\"},{\"id\":\"1053\"}],\"left\":[{\"id\":\"1017\"}],\"renderers\":[{\"id\":\"1041\"},{\"id\":\"1059\"},{\"id\":\"1078\"},{\"id\":\"1099\"}],\"sizing_mode\":\"stretch_width\",\"title\":{\"id\":\"1003\"},\"toolbar\":{\"id\":\"1029\"},\"x_range\":{\"id\":\"1005\"},\"x_scale\":{\"id\":\"1009\"},\"y_range\":{\"id\":\"1007\"},\"y_scale\":{\"id\":\"1011\"}},\"id\":\"1002\",\"subtype\":\"Figure\",\"type\":\"Plot\"},{\"attributes\":{},\"id\":\"1014\",\"type\":\"BasicTicker\"},{\"attributes\":{},\"id\":\"1011\",\"type\":\"LinearScale\"},{\"attributes\":{},\"id\":\"1025\",\"type\":\"ResetTool\"},{\"attributes\":{\"line_color\":\"darkred\",\"x\":{\"field\":\"x\"},\"y\":{\"field\":\"y\"}},\"id\":\"1096\",\"type\":\"Line\"},{\"attributes\":{},\"id\":\"1021\",\"type\":\"PanTool\"},{\"attributes\":{},\"id\":\"1026\",\"type\":\"HelpTool\"},{\"attributes\":{\"line_alpha\":0.2,\"line_color\":\"orange\",\"line_width\":4,\"x\":{\"field\":\"x\"},\"y\":{\"field\":\"y\"}},\"id\":\"1058\",\"type\":\"Line\"},{\"attributes\":{\"coordinates\":null,\"data_source\":{\"id\":\"1055\"},\"glyph\":{\"id\":\"1056\"},\"group\":null,\"hover_glyph\":null,\"muted_glyph\":{\"id\":\"1058\"},\"nonselection_glyph\":{\"id\":\"1057\"},\"view\":{\"id\":\"1060\"}},\"id\":\"1059\",\"type\":\"GlyphRenderer\"},{\"attributes\":{},\"id\":\"1045\",\"type\":\"BasicTickFormatter\"},{\"attributes\":{\"source\":{\"id\":\"1037\"}},\"id\":\"1042\",\"type\":\"CDSView\"},{\"attributes\":{\"data\":{\"x\":{\"__ndarray__\":\"AAAAAAAgn0AAAAAAACCfQAAAAAAAIJ9AAAAAAAAgn0AAAAAAACCfQAAAAAAAIJ9AAAAAAAAgn0AAAAAAACCfQAAAAAAAIJ9AAAAAAAAgn0AAAAAAACCfQAAAAAAAIJ9AAAAAAAAkn0AAAAAAACSfQAAAAAAAJJ9AAAAAAAAkn0AAAAAAACSfQAAAAAAAJJ9AAAAAAAAkn0AAAAAAACSfQAAAAAAAJJ9AAAAAAAAkn0AAAAAAACSfQAAAAAAAJJ9AAAAAAAAon0AAAAAAACifQAAAAAAAKJ9AAAAAAAAon0AAAAAAACifQAAAAAAAKJ9AAAAAAAAon0AAAAAAACifQAAAAAAAKJ9AAAAAAAAon0AAAAAAACifQAAAAAAAKJ9AAAAAAAAsn0AAAAAAACyfQAAAAAAALJ9AAAAAAAAsn0AAAAAAACyfQAAAAAAALJ9AAAAAAAAsn0AAAAAAACyfQAAAAAAALJ9AAAAAAAAsn0AAAAAAACyfQAAAAAAALJ9AAAAAAAAwn0AAAAAAADCfQAAAAAAAMJ9AAAAAAAAwn0AAAAAAADCfQAAAAAAAMJ9AAAAAAAAwn0AAAAAAADCfQAAAAAAAMJ9AAAAAAAAwn0AAAAAAADCfQAAAAAAAMJ9AAAAAAAA0n0AAAAAAADSfQAAAAAAANJ9AAAAAAAA0n0AAAAAAADSfQAAAAAAANJ9AAAAAAAA0n0AAAAAAADSfQAAAAAAANJ9AAAAAAAA0n0AAAAAAADSfQAAAAAAANJ9AAAAAAAA4n0AAAAAAADifQAAAAAAAOJ9AAAAAAAA4n0AAAAAAADifQAAAAAAAOJ9AAAAAAAA4n0AAAAAAADifQAAAAAAAOJ9AAAAAAAA4n0AAAAAAADifQAAAAAAAOJ9AAAAAAAA8n0AAAAAAADyfQAAAAAAAPJ9AAAAAAAA8n0AAAAAAADyfQAAAAAAAPJ9AAAAAAAA8n0AAAAAAADyfQAAAAAAAPJ9AAAAAAAA8n0AAAAAAADyfQAAAAAAAPJ9AAAAAAABAn0AAAAAAAECfQAAAAAAAQJ9AAAAAAABAn0AAAAAAAECfQAAAAAAAQJ9AAAAAAABAn0AAAAAAAECfQAAAAAAAQJ9AAAAAAABAn0AAAAAAAECfQAAAAAAAQJ9AAAAAAABEn0AAAAAAAESfQAAAAAAARJ9AAAAAAABEn0AAAAAAAESfQAAAAAAARJ9AAAAAAABEn0AAAAAAAESfQAAAAAAARJ9AAAAAAABEn0AAAAAAAESfQAAAAAAARJ9AAAAAAABIn0AAAAAAAEifQAAAAAAASJ9AAAAAAABIn0AAAAAAAEifQAAAAAAASJ9AAAAAAABIn0AAAAAAAEifQAAAAAAASJ9AAAAAAABIn0AAAAAAAEifQAAAAAAASJ9AAAAAAABMn0AAAAAAAEyfQAAAAAAATJ9AAAAAAABMn0AAAAAAAEyfQAAAAAAATJ9AAAAAAABMn0AAAAAAAEyfQAAAAAAATJ9AAAAAAABMn0AAAAAAAEyfQAAAAAAATJ9AAAAAAABQn0AAAAAAAFCfQAAAAAAAUJ9AAAAAAABQn0AAAAAAAFCfQAAAAAAAUJ9AAAAAAABQn0AAAAAAAFCfQAAAAAAAUJ9AAAAAAABQn0AAAAAAAFCfQAAAAAAAUJ9AAAAAAABUn0AAAAAAAFSfQAAAAAAAVJ9AAAAAAABUn0AAAAAAAFSfQAAAAAAAVJ9AAAAAAABUn0AAAAAAAFSfQAAAAAAAVJ9AAAAAAABUn0AAAAAAAFSfQAAAAAAAVJ9AAAAAAABYn0AAAAAAAFifQAAAAAAAWJ9AAAAAAABYn0AAAAAAAFifQAAAAAAAWJ9AAAAAAABYn0AAAAAAAFifQAAAAAAAWJ9AAAAAAABYn0AAAAAAAFifQAAAAAAAWJ9AAAAAAABcn0AAAAAAAFyfQAAAAAAAXJ9AAAAAAABcn0AAAAAAAFyfQAAAAAAAXJ9AAAAAAABcn0AAAAAAAFyfQAAAAAAAXJ9AAAAAAABcn0AAAAAAAFyfQAAAAAAAXJ9AAAAAAABgn0AAAAAAAGCfQAAAAAAAYJ9AAAAAAABgn0AAAAAAAGCfQAAAAAAAYJ9AAAAAAABgn0AAAAAAAGCfQAAAAAAAYJ9AAAAAAABgn0AAAAAAAGCfQAAAAAAAYJ9AAAAAAABkn0AAAAAAAGSfQAAAAAAAZJ9AAAAAAABkn0AAAAAAAGSfQAAAAAAAZJ9AAAAAAABkn0AAAAAAAGSfQAAAAAAAZJ9AAAAAAABkn0AAAAAAAGSfQAAAAAAAZJ9AAAAAAABon0AAAAAAAGifQAAAAAAAaJ9AAAAAAABon0AAAAAAAGifQAAAAAAAaJ9AAAAAAABon0AAAAAAAGifQAAAAAAAaJ9AAAAAAABon0AAAAAAAGifQAAAAAAAaJ9AAAAAAABsn0AAAAAAAGyfQAAAAAAAbJ9AAAAAAABsn0AAAAAAAGyfQAAAAAAAbJ9AAAAAAABsn0AAAAAAAGyfQAAAAAAAbJ9AAAAAAABsn0AAAAAAAGyfQAAAAAAAbJ9AAAAAAABwn0AAAAAAAHCfQAAAAAAAcJ9AAAAAAABwn0AAAAAAAHCfQAAAAAAAcJ9AAAAAAABwn0AAAAAAAHCfQAAAAAAAcJ9AAAAAAABwn0AAAAAAAHCfQAAAAAAAcJ9AAAAAAAB0n0AAAAAAAHSfQAAAAAAAdJ9AAAAAAAB0n0AAAAAAAHSfQAAAAAAAdJ9AAAAAAAB0n0AAAAAAAHSfQAAAAAAAdJ9AAAAAAAB0n0AAAAAAAHSfQAAAAAAAdJ9AAAAAAAB4n0AAAAAAAHifQAAAAAAAeJ9AAAAAAAB4n0AAAAAAAHifQAAAAAAAeJ9AAAAAAAB4n0AAAAAAAHifQAAAAAAAeJ9AAAAAAAB4n0AAAAAAAHifQAAAAAAAeJ9AAAAAAAB8n0AAAAAAAHyfQAAAAAAAfJ9AAAAAAAB8n0AAAAAAAHyfQAAAAAAAfJ9AAAAAAAB8n0AAAAAAAHyfQAAAAAAAfJ9AAAAAAAB8n0AAAAAAAHyfQAAAAAAAfJ9AAAAAAACAn0AAAAAAAICfQAAAAAAAgJ9AAAAAAACAn0AAAAAAAICfQAAAAAAAgJ9AAAAAAACAn0AAAAAAAICfQAAAAAAAgJ9AAAAAAACAn0AAAAAAAICfQAAAAAAAgJ9AAAAAAACEn0AAAAAAAISfQAAAAAAAhJ9AAAAAAACEn0AAAAAAAISfQAAAAAAAhJ9AAAAAAACEn0AAAAAAAISfQAAAAAAAhJ9AAAAAAACEn0AAAAAAAISfQAAAAAAAhJ9AAAAAAACIn0AAAAAAAIifQAAAAAAAiJ9AAAAAAACIn0AAAAAAAIifQAAAAAAAiJ9AAAAAAACIn0AAAAAAAIifQAAAAAAAiJ9AAAAAAACIn0AAAAAAAIifQAAAAAAAiJ9AAAAAAACMn0AAAAAAAIyfQAAAAAAAjJ9AAAAAAACMn0AAAAAAAIyfQAAAAAAAjJ9AAAAAAACMn0AAAAAAAIyfQAAAAAAAjJ9AAAAAAACMn0AAAAAAAIyfQAAAAAAAjJ9AAAAAAACQn0AAAAAAAJCfQAAAAAAAkJ9AAAAAAACQn0AAAAAAAJCfQAAAAAAAkJ9AAAAAAACQn0AAAAAAAJCfQAAAAAAAkJ9AAAAAAACQn0AAAAAAAJCfQAAAAAAAkJ9AAAAAAACUn0AAAAAAAJSfQAAAAAAAlJ9AAAAAAACUn0AAAAAAAJSfQAAAAAAAlJ9AAAAAAACUn0AAAAAAAJSfQAAAAAAAlJ9AAAAAAACUn0AAAAAAAJSfQAAAAAAAlJ9AAAAAAACYn0AAAAAAAJifQA==\",\"dtype\":\"float64\",\"order\":\"little\",\"shape\":[362]},\"y\":{\"__ndarray__\":\"AJnFZ3kI4T8AmcVneQjhPwCZxWd5COE/AJnFZ3kI4T8AmcVneQjhPwCZxWd5COE/AJnFZ3kI4T8AmcVneQjhPwCZxWd5COE/AJnFZ3kI4T8AmcVneQjhPwCZxWd5COE/gMt9bNIV4j+Ay31s0hXiP4DLfWzSFeI/gMt9bNIV4j+Ay31s0hXiP4DLfWzSFeI/gMt9bNIV4j+Ay31s0hXiP4DLfWzSFeI/gMt9bNIV4j+Ay31s0hXiP4DLfWzSFeI/AP41cSsj4z8A/jVxKyPjPwD+NXErI+M/AP41cSsj4z8A/jVxKyPjPwD+NXErI+M/AP41cSsj4z8A/jVxKyPjPwD+NXErI+M/AP41cSsj4z8A/jVxKyPjPwD+NXErI+M/gDDudYQw5D+AMO51hDDkP4Aw7nWEMOQ/gDDudYQw5D+AMO51hDDkP4Aw7nWEMOQ/gDDudYQw5D+AMO51hDDkP4Aw7nWEMOQ/gDDudYQw5D+AMO51hDDkP4Aw7nWEMOQ/AGOmet095T8AY6Z63T3lPwBjpnrdPeU/AGOmet095T8AY6Z63T3lPwBjpnrdPeU/AGOmet095T8AY6Z63T3lPwBjpnrdPeU/AGOmet095T8AY6Z63T3lPwBjpnrdPeU/gJVefzZL5j+AlV5/NkvmP4CVXn82S+Y/gJVefzZL5j+AlV5/NkvmP4CVXn82S+Y/gJVefzZL5j+AlV5/NkvmP4CVXn82S+Y/gJVefzZL5j+AlV5/NkvmP4CVXn82S+Y/gMcWhI9Y5z+AxxaEj1jnP4DHFoSPWOc/gMcWhI9Y5z+AxxaEj1jnP4DHFoSPWOc/gMcWhI9Y5z+AxxaEj1jnP4DHFoSPWOc/gMcWhI9Y5z+AxxaEj1jnP4DHFoSPWOc/APrOiOhl6D8A+s6I6GXoPwD6zojoZeg/APrOiOhl6D8A+s6I6GXoPwD6zojoZeg/APrOiOhl6D8A+s6I6GXoPwD6zojoZeg/APrOiOhl6D8A+s6I6GXoPwD6zojoZeg/gCyHjUFz6T+ALIeNQXPpP4Ash41Bc+k/gCyHjUFz6T+ALIeNQXPpP4Ash41Bc+k/gCyHjUFz6T+ALIeNQXPpP4Ash41Bc+k/gCyHjUFz6T+ALIeNQXPpP4Ash41Bc+k/AF8/kpqA6j8AXz+SmoDqPwBfP5KagOo/AF8/kpqA6j8AXz+SmoDqPwBfP5KagOo/AF8/kpqA6j8AXz+SmoDqPwBfP5KagOo/AF8/kpqA6j8AXz+SmoDqPwBfP5KagOo/gJH3lvON6z+AkfeW843rP4CR95bzjes/gJH3lvON6z+AkfeW843rP4CR95bzjes/gJH3lvON6z+AkfeW843rP4CR95bzjes/gJH3lvON6z+AkfeW843rP4CR95bzjes/AMSvm0yb7D8AxK+bTJvsPwDEr5tMm+w/AMSvm0yb7D8AxK+bTJvsPwDEr5tMm+w/AMSvm0yb7D8AxK+bTJvsPwDEr5tMm+w/AMSvm0yb7D8AxK+bTJvsPwDEr5tMm+w/gPZnoKWo7T+A9megpajtP4D2Z6ClqO0/gPZnoKWo7T+A9megpajtP4D2Z6ClqO0/gPZnoKWo7T+A9megpajtP4D2Z6ClqO0/gPZnoKWo7T+A9megpajtP4D2Z6ClqO0/gCggpf617j+AKCCl/rXuP4AoIKX+te4/gCggpf617j+AKCCl/rXuP4AoIKX+te4/gCggpf617j+AKCCl/rXuP4AoIKX+te4/gCggpf617j+AKCCl/rXuP4AoIKX+te4/AFvYqVfD7z8AW9ipV8PvPwBb2KlXw+8/AFvYqVfD7z8AW9ipV8PvPwBb2KlXw+8/AFvYqVfD7z8AW9ipV8PvPwBb2KlXw+8/AFvYqVfD7z8AW9ipV8PvPwBb2KlXw+8/wEZIV1ho8D/ARkhXWGjwP8BGSFdYaPA/wEZIV1ho8D/ARkhXWGjwP8BGSFdYaPA/wEZIV1ho8D/ARkhXWGjwP8BGSFdYaPA/wEZIV1ho8D/ARkhXWGjwP8BGSFdYaPA/AGCk2QTv8D8AYKTZBO/wPwBgpNkE7/A/AGCk2QTv8D8AYKTZBO/wPwBgpNkE7/A/AGCk2QTv8D8AYKTZBO/wPwBgpNkE7/A/AGCk2QTv8D8AYKTZBO/wPwBgpNkE7/A/QHkAXLF18T9AeQBcsXXxP0B5AFyxdfE/QHkAXLF18T9AeQBcsXXxP0B5AFyxdfE/QHkAXLF18T9AeQBcsXXxP0B5AFyxdfE/QHkAXLF18T9AeQBcsXXxP0B5AFyxdfE/gJJc3l388T+AklzeXfzxP4CSXN5d/PE/gJJc3l388T+AklzeXfzxP4CSXN5d/PE/gJJc3l388T+AklzeXfzxP4CSXN5d/PE/gJJc3l388T+AklzeXfzxP4CSXN5d/PE/wKu4YAqD8j/Aq7hgCoPyP8CruGAKg/I/wKu4YAqD8j/Aq7hgCoPyP8CruGAKg/I/wKu4YAqD8j/Aq7hgCoPyP8CruGAKg/I/wKu4YAqD8j/Aq7hgCoPyP8CruGAKg/I/wMQU47YJ8z/AxBTjtgnzP8DEFOO2CfM/wMQU47YJ8z/AxBTjtgnzP8DEFOO2CfM/wMQU47YJ8z/AxBTjtgnzP8DEFOO2CfM/wMQU47YJ8z/AxBTjtgnzP8DEFOO2CfM/AN5wZWOQ8z8A3nBlY5DzPwDecGVjkPM/AN5wZWOQ8z8A3nBlY5DzPwDecGVjkPM/AN5wZWOQ8z8A3nBlY5DzPwDecGVjkPM/AN5wZWOQ8z8A3nBlY5DzPwDecGVjkPM/QPfM5w8X9D9A98znDxf0P0D3zOcPF/Q/QPfM5w8X9D9A98znDxf0P0D3zOcPF/Q/QPfM5w8X9D9A98znDxf0P0D3zOcPF/Q/QPfM5w8X9D9A98znDxf0P0D3zOcPF/Q/gBAparyd9D+AEClqvJ30P4AQKWq8nfQ/gBAparyd9D+AEClqvJ30P4AQKWq8nfQ/gBAparyd9D+AEClqvJ30P4AQKWq8nfQ/gBAparyd9D+AEClqvJ30P4AQKWq8nfQ/wCmF7Ggk9T/AKYXsaCT1P8AphexoJPU/wCmF7Ggk9T/AKYXsaCT1P8AphexoJPU/wCmF7Ggk9T/AKYXsaCT1P8AphexoJPU/wCmF7Ggk9T/AKYXsaCT1P8AphexoJPU/AEPhbhWr9T8AQ+FuFav1PwBD4W4Vq/U/AEPhbhWr9T8AQ+FuFav1PwBD4W4Vq/U/AEPhbhWr9T8AQ+FuFav1PwBD4W4Vq/U/AEPhbhWr9T8AQ+FuFav1PwBD4W4Vq/U/AFw98cEx9j8AXD3xwTH2PwBcPfHBMfY/AFw98cEx9j8AXD3xwTH2PwBcPfHBMfY/AFw98cEx9j8AXD3xwTH2PwBcPfHBMfY/AFw98cEx9j8AXD3xwTH2PwBcPfHBMfY/QHWZc2649j9AdZlzbrj2P0B1mXNuuPY/QHWZc2649j9AdZlzbrj2P0B1mXNuuPY/QHWZc2649j9AdZlzbrj2P0B1mXNuuPY/QHWZc2649j9AdZlzbrj2P0B1mXNuuPY/gI719Ro/9z+AjvX1Gj/3P4CO9fUaP/c/gI719Ro/9z+AjvX1Gj/3P4CO9fUaP/c/gI719Ro/9z+AjvX1Gj/3P4CO9fUaP/c/gI719Ro/9z+AjvX1Gj/3P4CO9fUaP/c/wKdReMfF9z/Ap1F4x8X3P8CnUXjHxfc/wKdReMfF9z/Ap1F4x8X3P8CnUXjHxfc/wKdReMfF9z/Ap1F4x8X3P8CnUXjHxfc/wKdReMfF9z/Ap1F4x8X3P8CnUXjHxfc/AMGt+nNM+D8Awa36c0z4Pw==\",\"dtype\":\"float64\",\"order\":\"little\",\"shape\":[362]}},\"selected\":{\"id\":\"1115\"},\"selection_policy\":{\"id\":\"1114\"}},\"id\":\"1095\",\"type\":\"ColumnDataSource\"},{\"attributes\":{\"data\":{\"x\":[\"1992\",\"1993\",\"1994\",\"1995\",\"1996\",\"1997\",\"1998\",\"1999\",\"2000\",\"2001\",\"2002\",\"2003\",\"2004\",\"2005\",\"2006\",\"2007\",\"2008\",\"2009\",\"2010\",\"2011\",\"2012\",\"2013\",\"2014\",\"2015\",\"2016\",\"2017\",\"2018\",\"2019\",\"2020\",\"2021\",\"2022\"],\"y\":{\"__ndarray__\":\"NDMzMzMz4T/xiyW/WPLhPwrXo3A9CuM/+2LJL5b84j8L16NwPQrlP93d3d3d3eU/pHA9Ctej5D/xiyW/WPLlPyCF61G4Hus/k18s+cWS6T+jcD0K16PoP32x5BdLfuk/W/KLJb9Y7D94d3d3d3fwP1yPwvUoXPE/iYiIiIiI8T+F61G4HoX0PyMiIiIiIvA/frHkF0t+8j+F61G4HoX1P5NfLPnFkvY/1AY6baDT9T/UBjptoNP0P6uqqqqqqvI/yi+W/GLJ8T+7u7u7u7vzPwAAAAAAAPc/F0t+seQX9z9fLPnFkl/0PxhLfrHkF/c/zMzMzMzM+j8=\",\"dtype\":\"float64\",\"order\":\"little\",\"shape\":[31]}},\"selected\":{\"id\":\"1071\"},\"selection_policy\":{\"id\":\"1070\"}},\"id\":\"1055\",\"type\":\"ColumnDataSource\"},{\"attributes\":{\"line_alpha\":0.2,\"line_color\":\"darkred\",\"x\":{\"field\":\"x\"},\"y\":{\"field\":\"y\"}},\"id\":\"1098\",\"type\":\"Line\"},{\"attributes\":{},\"id\":\"1050\",\"type\":\"UnionRenderers\"},{\"attributes\":{\"source\":{\"id\":\"1055\"}},\"id\":\"1060\",\"type\":\"CDSView\"},{\"attributes\":{\"logo\":null,\"tools\":[{\"id\":\"1021\"},{\"id\":\"1022\"},{\"id\":\"1023\"},{\"id\":\"1024\"},{\"id\":\"1025\"},{\"id\":\"1026\"},{\"id\":\"1028\"}]},\"id\":\"1029\",\"type\":\"Toolbar\"},{\"attributes\":{\"axis_label\":\"P\\u00e9riode (En ann\\u00e9e)\",\"coordinates\":null,\"formatter\":{\"id\":\"1048\"},\"group\":null,\"major_label_policy\":{\"id\":\"1049\"},\"ticker\":{\"id\":\"1014\"}},\"id\":\"1013\",\"type\":\"LinearAxis\"},{\"attributes\":{\"line_color\":\"grey\",\"line_dash\":[5,5],\"x\":{\"field\":\"x\"},\"y\":{\"field\":\"y\"}},\"id\":\"1038\",\"type\":\"Line\"},{\"attributes\":{},\"id\":\"1051\",\"type\":\"Selection\"},{\"attributes\":{\"label\":{\"value\":\"Prix par ann\\u00e9es\"},\"renderers\":[{\"id\":\"1059\"}]},\"id\":\"1073\",\"type\":\"LegendItem\"},{\"attributes\":{},\"id\":\"1007\",\"type\":\"DataRange1d\"},{\"attributes\":{\"line_alpha\":0.1,\"line_color\":\"orange\",\"line_width\":4,\"x\":{\"field\":\"x\"},\"y\":{\"field\":\"y\"}},\"id\":\"1057\",\"type\":\"Line\"},{\"attributes\":{},\"id\":\"1115\",\"type\":\"Selection\"},{\"attributes\":{},\"id\":\"1018\",\"type\":\"BasicTicker\"},{\"attributes\":{\"axis\":{\"id\":\"1013\"},\"coordinates\":null,\"group\":null,\"ticker\":null},\"id\":\"1016\",\"type\":\"Grid\"},{\"attributes\":{\"line_alpha\":0.1,\"line_color\":\"darkred\",\"x\":{\"field\":\"x\"},\"y\":{\"field\":\"y\"}},\"id\":\"1097\",\"type\":\"Line\"},{\"attributes\":{},\"id\":\"1022\",\"type\":\"WheelZoomTool\"},{\"attributes\":{\"coordinates\":null,\"group\":null,\"text\":\"Evolution du prix du Gazole\"},\"id\":\"1003\",\"type\":\"Title\"},{\"attributes\":{\"coordinates\":null,\"data_source\":{\"id\":\"1037\"},\"glyph\":{\"id\":\"1038\"},\"group\":null,\"hover_glyph\":null,\"muted_glyph\":{\"id\":\"1040\"},\"nonselection_glyph\":{\"id\":\"1039\"},\"view\":{\"id\":\"1042\"}},\"id\":\"1041\",\"type\":\"GlyphRenderer\"},{\"attributes\":{\"coordinates\":null,\"data_source\":{\"id\":\"1095\"},\"glyph\":{\"id\":\"1096\"},\"group\":null,\"hover_glyph\":null,\"muted_glyph\":{\"id\":\"1098\"},\"nonselection_glyph\":{\"id\":\"1097\"},\"view\":{\"id\":\"1100\"}},\"id\":\"1099\",\"type\":\"GlyphRenderer\"},{\"attributes\":{\"fill_alpha\":{\"value\":0.5},\"fill_color\":{\"value\":\"red\"},\"hatch_color\":{\"value\":\"red\"},\"line_color\":{\"value\":\"red\"},\"size\":{\"value\":10},\"x\":{\"field\":\"x\"},\"y\":{\"field\":\"y\"}},\"id\":\"1075\",\"type\":\"Circle\"},{\"attributes\":{},\"id\":\"1005\",\"type\":\"DataRange1d\"},{\"attributes\":{},\"id\":\"1046\",\"type\":\"AllLabels\"},{\"attributes\":{},\"id\":\"1070\",\"type\":\"UnionRenderers\"},{\"attributes\":{\"data\":{\"x\":[\"2008\",\"2009\",\"2011\",\"2018\",\"2020\",\"2021\"],\"y\":{\"__ndarray__\":\"hetRuB6F9D8jIiIiIiLwP4XrUbgehfU/AAAAAAAA9z9fLPnFkl/0PxhLfrHkF/c/\",\"dtype\":\"float64\",\"order\":\"little\",\"shape\":[6]}},\"selected\":{\"id\":\"1092\"},\"selection_policy\":{\"id\":\"1091\"}},\"id\":\"1074\",\"type\":\"ColumnDataSource\"},{\"attributes\":{\"line_color\":\"orange\",\"line_width\":4,\"x\":{\"field\":\"x\"},\"y\":{\"field\":\"y\"}},\"id\":\"1056\",\"type\":\"Line\"},{\"attributes\":{},\"id\":\"1114\",\"type\":\"UnionRenderers\"},{\"attributes\":{},\"id\":\"1071\",\"type\":\"Selection\"},{\"attributes\":{\"axis_label\":\"Prix (En Euro)\",\"coordinates\":null,\"formatter\":{\"id\":\"1045\"},\"group\":null,\"major_label_policy\":{\"id\":\"1046\"},\"ticker\":{\"id\":\"1018\"}},\"id\":\"1017\",\"type\":\"LinearAxis\"},{\"attributes\":{\"line_alpha\":0.2,\"line_color\":\"grey\",\"line_dash\":[5,5],\"x\":{\"field\":\"x\"},\"y\":{\"field\":\"y\"}},\"id\":\"1040\",\"type\":\"Line\"},{\"attributes\":{\"callback\":null,\"tooltips\":[[\"Ann\\u00e9e \",\"@x\"],[\"Prix \",\"@y\"]]},\"id\":\"1028\",\"type\":\"HoverTool\"},{\"attributes\":{\"fill_alpha\":{\"value\":0.2},\"fill_color\":{\"value\":\"red\"},\"hatch_alpha\":{\"value\":0.2},\"hatch_color\":{\"value\":\"red\"},\"line_alpha\":{\"value\":0.2},\"line_color\":{\"value\":\"red\"},\"size\":{\"value\":10},\"x\":{\"field\":\"x\"},\"y\":{\"field\":\"y\"}},\"id\":\"1077\",\"type\":\"Circle\"},{\"attributes\":{},\"id\":\"1049\",\"type\":\"AllLabels\"},{\"attributes\":{},\"id\":\"1092\",\"type\":\"Selection\"},{\"attributes\":{\"coordinates\":null,\"data_source\":{\"id\":\"1074\"},\"glyph\":{\"id\":\"1075\"},\"group\":null,\"hover_glyph\":null,\"muted_glyph\":{\"id\":\"1077\"},\"nonselection_glyph\":{\"id\":\"1076\"},\"view\":{\"id\":\"1079\"}},\"id\":\"1078\",\"type\":\"GlyphRenderer\"},{\"attributes\":{\"label\":{\"value\":\"Prix par mois\"},\"renderers\":[{\"id\":\"1041\"}]},\"id\":\"1054\",\"type\":\"LegendItem\"},{\"attributes\":{\"label\":{\"value\":\"Forte \\u00e9volution\"},\"renderers\":[{\"id\":\"1078\"}]},\"id\":\"1094\",\"type\":\"LegendItem\"},{\"attributes\":{\"fill_alpha\":{\"value\":0.1},\"fill_color\":{\"value\":\"red\"},\"hatch_alpha\":{\"value\":0.1},\"hatch_color\":{\"value\":\"red\"},\"line_alpha\":{\"value\":0.1},\"line_color\":{\"value\":\"red\"},\"size\":{\"value\":10},\"x\":{\"field\":\"x\"},\"y\":{\"field\":\"y\"}},\"id\":\"1076\",\"type\":\"Circle\"},{\"attributes\":{},\"id\":\"1009\",\"type\":\"LinearScale\"},{\"attributes\":{\"source\":{\"id\":\"1074\"}},\"id\":\"1079\",\"type\":\"CDSView\"},{\"attributes\":{},\"id\":\"1024\",\"type\":\"SaveTool\"},{\"attributes\":{},\"id\":\"1091\",\"type\":\"UnionRenderers\"},{\"attributes\":{},\"id\":\"1048\",\"type\":\"BasicTickFormatter\"},{\"attributes\":{\"bottom_units\":\"screen\",\"coordinates\":null,\"fill_alpha\":0.5,\"fill_color\":\"lightgrey\",\"group\":null,\"left_units\":\"screen\",\"level\":\"overlay\",\"line_alpha\":1.0,\"line_color\":\"black\",\"line_dash\":[4,4],\"line_width\":2,\"right_units\":\"screen\",\"syncable\":false,\"top_units\":\"screen\"},\"id\":\"1027\",\"type\":\"BoxAnnotation\"},{\"attributes\":{\"data\":{\"x\":[\"1992\",\"1992\",\"1992\",\"1992\",\"1992\",\"1992\",\"1992\",\"1992\",\"1992\",\"1992\",\"1992\",\"1992\",\"1993\",\"1993\",\"1993\",\"1993\",\"1993\",\"1993\",\"1993\",\"1993\",\"1993\",\"1993\",\"1993\",\"1993\",\"1994\",\"1994\",\"1994\",\"1994\",\"1994\",\"1994\",\"1994\",\"1994\",\"1994\",\"1994\",\"1994\",\"1994\",\"1995\",\"1995\",\"1995\",\"1995\",\"1995\",\"1995\",\"1995\",\"1995\",\"1995\",\"1995\",\"1995\",\"1995\",\"1996\",\"1996\",\"1996\",\"1996\",\"1996\",\"1996\",\"1996\",\"1996\",\"1996\",\"1996\",\"1996\",\"1996\",\"1997\",\"1997\",\"1997\",\"1997\",\"1997\",\"1997\",\"1997\",\"1997\",\"1997\",\"1997\",\"1997\",\"1997\",\"1998\",\"1998\",\"1998\",\"1998\",\"1998\",\"1998\",\"1998\",\"1998\",\"1998\",\"1998\",\"1998\",\"1998\",\"1999\",\"1999\",\"1999\",\"1999\",\"1999\",\"1999\",\"1999\",\"1999\",\"1999\",\"1999\",\"1999\",\"1999\",\"2000\",\"2000\",\"2000\",\"2000\",\"2000\",\"2000\",\"2000\",\"2000\",\"2000\",\"2000\",\"2000\",\"2000\",\"2001\",\"2001\",\"2001\",\"2001\",\"2001\",\"2001\",\"2001\",\"2001\",\"2001\",\"2001\",\"2001\",\"2001\",\"2002\",\"2002\",\"2002\",\"2002\",\"2002\",\"2002\",\"2002\",\"2002\",\"2002\",\"2002\",\"2002\",\"2002\",\"2003\",\"2003\",\"2003\",\"2003\",\"2003\",\"2003\",\"2003\",\"2003\",\"2003\",\"2003\",\"2003\",\"2003\",\"2004\",\"2004\",\"2004\",\"2004\",\"2004\",\"2004\",\"2004\",\"2004\",\"2004\",\"2004\",\"2004\",\"2004\",\"2005\",\"2005\",\"2005\",\"2005\",\"2005\",\"2005\",\"2005\",\"2005\",\"2005\",\"2005\",\"2005\",\"2005\",\"2006\",\"2006\",\"2006\",\"2006\",\"2006\",\"2006\",\"2006\",\"2006\",\"2006\",\"2006\",\"2006\",\"2006\",\"2007\",\"2007\",\"2007\",\"2007\",\"2007\",\"2007\",\"2007\",\"2007\",\"2007\",\"2007\",\"2007\",\"2007\",\"2008\",\"2008\",\"2008\",\"2008\",\"2008\",\"2008\",\"2008\",\"2008\",\"2008\",\"2008\",\"2008\",\"2008\",\"2009\",\"2009\",\"2009\",\"2009\",\"2009\",\"2009\",\"2009\",\"2009\",\"2009\",\"2009\",\"2009\",\"2009\",\"2010\",\"2010\",\"2010\",\"2010\",\"2010\",\"2010\",\"2010\",\"2010\",\"2010\",\"2010\",\"2010\",\"2010\",\"2011\",\"2011\",\"2011\",\"2011\",\"2011\",\"2011\",\"2011\",\"2011\",\"2011\",\"2011\",\"2011\",\"2011\",\"2012\",\"2012\",\"2012\",\"2012\",\"2012\",\"2012\",\"2012\",\"2012\",\"2012\",\"2012\",\"2012\",\"2012\",\"2013\",\"2013\",\"2013\",\"2013\",\"2013\",\"2013\",\"2013\",\"2013\",\"2013\",\"2013\",\"2013\",\"2013\",\"2014\",\"2014\",\"2014\",\"2014\",\"2014\",\"2014\",\"2014\",\"2014\",\"2014\",\"2014\",\"2014\",\"2014\",\"2015\",\"2015\",\"2015\",\"2015\",\"2015\",\"2015\",\"2015\",\"2015\",\"2015\",\"2015\",\"2015\",\"2015\",\"2016\",\"2016\",\"2016\",\"2016\",\"2016\",\"2016\",\"2016\",\"2016\",\"2016\",\"2016\",\"2016\",\"2016\",\"2017\",\"2017\",\"2017\",\"2017\",\"2017\",\"2017\",\"2017\",\"2017\",\"2017\",\"2017\",\"2017\",\"2017\",\"2018\",\"2018\",\"2018\",\"2018\",\"2018\",\"2018\",\"2018\",\"2018\",\"2018\",\"2018\",\"2018\",\"2018\",\"2019\",\"2019\",\"2019\",\"2019\",\"2019\",\"2019\",\"2019\",\"2019\",\"2019\",\"2019\",\"2019\",\"2019\",\"2020\",\"2020\",\"2020\",\"2020\",\"2020\",\"2020\",\"2020\",\"2020\",\"2020\",\"2020\",\"2020\",\"2020\",\"2021\",\"2021\",\"2021\",\"2021\",\"2021\",\"2021\",\"2021\",\"2021\",\"2021\",\"2021\",\"2021\",\"2021\",\"2022\",\"2022\"],\"y\":[0.54,0.54,0.54,0.53,0.54,0.54,0.54,0.54,0.53,0.53,0.54,0.54,0.53,0.54,0.54,0.55,0.55,0.54,0.54,0.56,0.59,0.6,0.6,0.59,0.6,0.6,0.6,0.6,0.6,0.6,0.59,0.59,0.59,0.59,0.59,0.59,0.59,0.59,0.59,0.59,0.59,0.59,0.59,0.59,0.6,0.6,0.6,0.6,0.62,0.63,0.65,0.66,0.65,0.64,0.64,0.64,0.66,0.7,0.7,0.7,0.71,0.7,0.69,0.68,0.68,0.67,0.67,0.68,0.67,0.68,0.69,0.68,0.68,0.67,0.66,0.66,0.65,0.64,0.64,0.63,0.63,0.63,0.63,0.62,0.63,0.63,0.64,0.67,0.67,0.67,0.68,0.7,0.71,0.72,0.73,0.78,0.81,0.81,0.82,0.8,0.81,0.82,0.83,0.84,0.93,0.9,0.91,0.89,0.81,0.8,0.8,0.8,0.82,0.82,0.82,0.8,0.8,0.79,0.78,0.75,0.74,0.74,0.75,0.78,0.77,0.76,0.75,0.77,0.79,0.81,0.79,0.79,0.82,0.84,0.89,0.82,0.77,0.76,0.76,0.77,0.77,0.78,0.79,0.79,0.81,0.81,0.83,0.84,0.88,0.86,0.87,0.91,0.92,0.96,0.97,0.97,0.93,0.94,0.99,1.02,0.99,1.02,1.06,1.07,1.1,1.12,1.07,1.04,1.06,1.07,1.08,1.1,1.12,1.11,1.12,1.13,1.1,1.05,1.04,1.04,1.02,1.02,1.04,1.07,1.07,1.08,1.1,1.1,1.11,1.12,1.2,1.22,1.21,1.2,1.26,1.29,1.37,1.46,1.45,1.36,1.33,1.26,1.15,1.05,0.99,0.99,0.95,0.98,0.98,1.02,1.01,1.04,1.02,1.02,1.05,1.05,1.09,1.09,1.13,1.16,1.18,1.17,1.16,1.15,1.16,1.17,1.19,1.22,1.29,1.31,1.37,1.38,1.34,1.33,1.33,1.33,1.34,1.35,1.39,1.38,1.42,1.43,1.46,1.45,1.42,1.37,1.36,1.44,1.42,1.4,1.38,1.38,1.39,1.41,1.41,1.38,1.34,1.34,1.35,1.36,1.38,1.34,1.33,1.34,1.34,1.34,1.33,1.32,1.32,1.32,1.32,1.31,1.3,1.28,1.25,1.19,1.13,1.19,1.22,1.22,1.24,1.23,1.2,1.14,1.12,1.12,1.11,1.08,1.03,1.03,1.06,1.07,1.12,1.17,1.14,1.11,1.12,1.15,1.16,1.18,1.27,1.27,1.25,1.24,1.21,1.18,1.17,1.2,1.22,1.24,1.27,1.28,1.39,1.38,1.37,1.4,1.45,1.46,1.45,1.45,1.48,1.52,1.48,1.42,1.4,1.44,1.46,1.47,1.49,1.43,1.42,1.42,1.44,1.44,1.44,1.47,1.49,1.42,1.32,1.23,1.18,1.22,1.25,1.25,1.22,1.21,1.22,1.27,1.31,1.36,1.4,1.39,1.4,1.43,1.45,1.45,1.46,1.56,1.57,1.54,1.63,1.72]},\"selected\":{\"id\":\"1051\"},\"selection_policy\":{\"id\":\"1050\"}},\"id\":\"1037\",\"type\":\"ColumnDataSource\"},{\"attributes\":{\"source\":{\"id\":\"1095\"}},\"id\":\"1100\",\"type\":\"CDSView\"},{\"attributes\":{\"line_alpha\":0.1,\"line_color\":\"grey\",\"line_dash\":[5,5],\"x\":{\"field\":\"x\"},\"y\":{\"field\":\"y\"}},\"id\":\"1039\",\"type\":\"Line\"},{\"attributes\":{\"label\":{\"value\":\"R\\u00e9gression Lin\\u00e9aire\"},\"renderers\":[{\"id\":\"1099\"}]},\"id\":\"1117\",\"type\":\"LegendItem\"},{\"attributes\":{\"border_line_alpha\":0.8,\"coordinates\":null,\"group\":null,\"items\":[{\"id\":\"1054\"},{\"id\":\"1073\"},{\"id\":\"1094\"},{\"id\":\"1117\"}],\"label_text_font_style\":\"italic\",\"location\":\"top_left\"},\"id\":\"1053\",\"type\":\"Legend\"},{\"attributes\":{\"overlay\":{\"id\":\"1027\"}},\"id\":\"1023\",\"type\":\"BoxZoomTool\"},{\"attributes\":{\"axis\":{\"id\":\"1017\"},\"coordinates\":null,\"dimension\":1,\"group\":null,\"ticker\":null},\"id\":\"1020\",\"type\":\"Grid\"}],\"root_ids\":[\"1002\"]},\"title\":\"Bokeh Application\",\"version\":\"2.4.1\"}};\n  const render_items = [{\"docid\":\"7c719b18-3066-43b4-a4f2-9b8405c5a2e3\",\"root_ids\":[\"1002\"],\"roots\":{\"1002\":\"ca1cddda-c5ce-4fdc-ad85-3fc6526fd3e1\"}}];\n  root.Bokeh.embed.embed_items_notebook(docs_json, render_items);\n\n  }\n  if (root.Bokeh !== undefined) {\n    embed_document(root);\n  } else {\n    let attempts = 0;\n    const timer = setInterval(function(root) {\n      if (root.Bokeh !== undefined) {\n        clearInterval(timer);\n        embed_document(root);\n      } else {\n        attempts++;\n        if (attempts > 100) {\n          clearInterval(timer);\n          console.log(\"Bokeh: ERROR: Unable to run BokehJS code because BokehJS library is missing\");\n        }\n      }\n    }, 10, root)\n  }\n})(window);",
          "application/vnd.bokehjs_exec.v0+json": ""
         },
         "metadata": {
          "application/vnd.bokehjs_exec.v0+json": {
           "id": "1002"
          }
         },
         "output_type": "display_data"
        }
       ]
      }
     },
     "20181f2af0624abea60e6f1ed4c1ceee": {
      "model_module": "@jupyter-widgets/controls",
      "model_module_version": "1.5.0",
      "model_name": "DescriptionStyleModel",
      "state": {
       "description_width": ""
      }
     },
     "216848648dbd4bada6a4a31473db2c92": {
      "model_module": "@jupyter-widgets/base",
      "model_module_version": "1.2.0",
      "model_name": "LayoutModel",
      "state": {}
     },
     "218f16adf57042d9bb9f40d93e73396a": {
      "model_module": "@jupyter-widgets/controls",
      "model_module_version": "1.5.0",
      "model_name": "VBoxModel",
      "state": {
       "_dom_classes": [
        "widget-interact"
       ],
       "children": [
        "IPY_MODEL_fba27a4f538e42ec9bc9690f0ed6f71b",
        "IPY_MODEL_3adb87c17aa94c13912ffb1be05922fa"
       ],
       "layout": "IPY_MODEL_b8cfad4933da4b37a425e156eacb6fe9"
      }
     },
     "23234def3f484f53b63c0e091d6e51d1": {
      "model_module": "@jupyter-widgets/controls",
      "model_module_version": "1.5.0",
      "model_name": "DescriptionStyleModel",
      "state": {
       "description_width": ""
      }
     },
     "23c30e464a464df5b46af97cc75943ca": {
      "model_module": "@jupyter-widgets/base",
      "model_module_version": "1.2.0",
      "model_name": "LayoutModel",
      "state": {}
     },
     "264e143f127947f8818e5c22995afc75": {
      "model_module": "@jupyter-widgets/output",
      "model_module_version": "1.0.0",
      "model_name": "OutputModel",
      "state": {
       "layout": "IPY_MODEL_7135b57e36444f118ac9bd7c407df4fb",
       "outputs": [
        {
         "ename": "ValueError",
         "evalue": "failed to validate FigureOptions(...).tooltips: expected an element of either Null, Instance(Template), String or List(Tuple(String, String)), got ['En @x  , le prix du gazole était de']",
         "output_type": "error",
         "traceback": [
          "\u001b[0;31m---------------------------------------------------------------------------\u001b[0m",
          "\u001b[0;31mValueError\u001b[0m                                Traceback (most recent call last)",
          "\u001b[0;32m~/anaconda3/lib/python3.9/site-packages/ipywidgets/widgets/interaction.py\u001b[0m in \u001b[0;36mupdate\u001b[0;34m(self, *args)\u001b[0m\n\u001b[1;32m    255\u001b[0m                     \u001b[0mvalue\u001b[0m \u001b[0;34m=\u001b[0m \u001b[0mwidget\u001b[0m\u001b[0;34m.\u001b[0m\u001b[0mget_interact_value\u001b[0m\u001b[0;34m(\u001b[0m\u001b[0;34m)\u001b[0m\u001b[0;34m\u001b[0m\u001b[0;34m\u001b[0m\u001b[0m\n\u001b[1;32m    256\u001b[0m                     \u001b[0mself\u001b[0m\u001b[0;34m.\u001b[0m\u001b[0mkwargs\u001b[0m\u001b[0;34m[\u001b[0m\u001b[0mwidget\u001b[0m\u001b[0;34m.\u001b[0m\u001b[0m_kwarg\u001b[0m\u001b[0;34m]\u001b[0m \u001b[0;34m=\u001b[0m \u001b[0mvalue\u001b[0m\u001b[0;34m\u001b[0m\u001b[0;34m\u001b[0m\u001b[0m\n\u001b[0;32m--> 257\u001b[0;31m                 \u001b[0mself\u001b[0m\u001b[0;34m.\u001b[0m\u001b[0mresult\u001b[0m \u001b[0;34m=\u001b[0m \u001b[0mself\u001b[0m\u001b[0;34m.\u001b[0m\u001b[0mf\u001b[0m\u001b[0;34m(\u001b[0m\u001b[0;34m**\u001b[0m\u001b[0mself\u001b[0m\u001b[0;34m.\u001b[0m\u001b[0mkwargs\u001b[0m\u001b[0;34m)\u001b[0m\u001b[0;34m\u001b[0m\u001b[0;34m\u001b[0m\u001b[0m\n\u001b[0m\u001b[1;32m    258\u001b[0m                 \u001b[0mshow_inline_matplotlib_plots\u001b[0m\u001b[0;34m(\u001b[0m\u001b[0;34m)\u001b[0m\u001b[0;34m\u001b[0m\u001b[0;34m\u001b[0m\u001b[0m\n\u001b[1;32m    259\u001b[0m                 \u001b[0;32mif\u001b[0m \u001b[0mself\u001b[0m\u001b[0;34m.\u001b[0m\u001b[0mauto_display\u001b[0m \u001b[0;32mand\u001b[0m \u001b[0mself\u001b[0m\u001b[0;34m.\u001b[0m\u001b[0mresult\u001b[0m \u001b[0;32mis\u001b[0m \u001b[0;32mnot\u001b[0m \u001b[0;32mNone\u001b[0m\u001b[0;34m:\u001b[0m\u001b[0;34m\u001b[0m\u001b[0;34m\u001b[0m\u001b[0m\n",
          "\u001b[0;32m/tmp/ipykernel_24999/3299967235.py\u001b[0m in \u001b[0;36maff_per_year\u001b[0;34m(Choisi)\u001b[0m\n\u001b[1;32m     50\u001b[0m \u001b[0;34m\u001b[0m\u001b[0m\n\u001b[1;32m     51\u001b[0m         \u001b[0;31m#   Je crée ensuite le graph avec bokeh qui sera display\u001b[0m\u001b[0;34m\u001b[0m\u001b[0;34m\u001b[0m\u001b[0m\n\u001b[0;32m---> 52\u001b[0;31m         graph_per_year = figure(\n\u001b[0m\u001b[1;32m     53\u001b[0m                   \u001b[0mtitle\u001b[0m\u001b[0;34m=\u001b[0m\u001b[0;34mf\"Evolution du prix du Gazole sur l'année {Choisi}\"\u001b[0m\u001b[0;34m,\u001b[0m\u001b[0;34m\u001b[0m\u001b[0;34m\u001b[0m\u001b[0m\n\u001b[1;32m     54\u001b[0m                   \u001b[0mx_range\u001b[0m \u001b[0;34m=\u001b[0m \u001b[0mz\u001b[0m\u001b[0;34m[\u001b[0m\u001b[0;34m\"Période\"\u001b[0m\u001b[0;34m]\u001b[0m\u001b[0;34m,\u001b[0m\u001b[0;34m\u001b[0m\u001b[0;34m\u001b[0m\u001b[0m\n",
          "\u001b[0;32m~/anaconda3/lib/python3.9/site-packages/bokeh/plotting/figure.py\u001b[0m in \u001b[0;36mfigure\u001b[0;34m(**kwargs)\u001b[0m\n\u001b[1;32m    663\u001b[0m \u001b[0;34m\u001b[0m\u001b[0m\n\u001b[1;32m    664\u001b[0m     '''\n\u001b[0;32m--> 665\u001b[0;31m     \u001b[0;32mreturn\u001b[0m \u001b[0mFigure\u001b[0m\u001b[0;34m(\u001b[0m\u001b[0;34m**\u001b[0m\u001b[0mkwargs\u001b[0m\u001b[0;34m)\u001b[0m\u001b[0;34m\u001b[0m\u001b[0;34m\u001b[0m\u001b[0m\n\u001b[0m\u001b[1;32m    666\u001b[0m \u001b[0;34m\u001b[0m\u001b[0m\n\u001b[1;32m    667\u001b[0m \u001b[0;32mdef\u001b[0m \u001b[0mmarkers\u001b[0m\u001b[0;34m(\u001b[0m\u001b[0;34m)\u001b[0m\u001b[0;34m:\u001b[0m\u001b[0;34m\u001b[0m\u001b[0;34m\u001b[0m\u001b[0m\n",
          "\u001b[0;32m~/anaconda3/lib/python3.9/site-packages/bokeh/plotting/figure.py\u001b[0m in \u001b[0;36m__init__\u001b[0;34m(self, *arg, **kw)\u001b[0m\n\u001b[1;32m    173\u001b[0m \u001b[0;34m\u001b[0m\u001b[0m\n\u001b[1;32m    174\u001b[0m     \u001b[0;32mdef\u001b[0m \u001b[0m__init__\u001b[0m\u001b[0;34m(\u001b[0m\u001b[0mself\u001b[0m\u001b[0;34m,\u001b[0m \u001b[0;34m*\u001b[0m\u001b[0marg\u001b[0m\u001b[0;34m,\u001b[0m \u001b[0;34m**\u001b[0m\u001b[0mkw\u001b[0m\u001b[0;34m)\u001b[0m \u001b[0;34m->\u001b[0m \u001b[0;32mNone\u001b[0m\u001b[0;34m:\u001b[0m\u001b[0;34m\u001b[0m\u001b[0;34m\u001b[0m\u001b[0m\n\u001b[0;32m--> 175\u001b[0;31m         \u001b[0mopts\u001b[0m \u001b[0;34m=\u001b[0m \u001b[0mFigureOptions\u001b[0m\u001b[0;34m(\u001b[0m\u001b[0mkw\u001b[0m\u001b[0;34m)\u001b[0m\u001b[0;34m\u001b[0m\u001b[0;34m\u001b[0m\u001b[0m\n\u001b[0m\u001b[1;32m    176\u001b[0m         \u001b[0msuper\u001b[0m\u001b[0;34m(\u001b[0m\u001b[0;34m)\u001b[0m\u001b[0;34m.\u001b[0m\u001b[0m__init__\u001b[0m\u001b[0;34m(\u001b[0m\u001b[0;34m*\u001b[0m\u001b[0marg\u001b[0m\u001b[0;34m,\u001b[0m \u001b[0;34m**\u001b[0m\u001b[0mkw\u001b[0m\u001b[0;34m)\u001b[0m\u001b[0;34m\u001b[0m\u001b[0;34m\u001b[0m\u001b[0m\n\u001b[1;32m    177\u001b[0m \u001b[0;34m\u001b[0m\u001b[0m\n",
          "\u001b[0;32m~/anaconda3/lib/python3.9/site-packages/bokeh/util/options.py\u001b[0m in \u001b[0;36m__init__\u001b[0;34m(self, kw)\u001b[0m\n\u001b[1;32m     73\u001b[0m                 \u001b[0mprops\u001b[0m\u001b[0;34m[\u001b[0m\u001b[0mk\u001b[0m\u001b[0;34m]\u001b[0m \u001b[0;34m=\u001b[0m \u001b[0mkw\u001b[0m\u001b[0;34m.\u001b[0m\u001b[0mpop\u001b[0m\u001b[0;34m(\u001b[0m\u001b[0mk\u001b[0m\u001b[0;34m)\u001b[0m\u001b[0;34m\u001b[0m\u001b[0;34m\u001b[0m\u001b[0m\n\u001b[1;32m     74\u001b[0m \u001b[0;34m\u001b[0m\u001b[0m\n\u001b[0;32m---> 75\u001b[0;31m         \u001b[0msuper\u001b[0m\u001b[0;34m(\u001b[0m\u001b[0;34m)\u001b[0m\u001b[0;34m.\u001b[0m\u001b[0m__init__\u001b[0m\u001b[0;34m(\u001b[0m\u001b[0;34m**\u001b[0m\u001b[0mprops\u001b[0m\u001b[0;34m)\u001b[0m\u001b[0;34m\u001b[0m\u001b[0;34m\u001b[0m\u001b[0m\n\u001b[0m\u001b[1;32m     76\u001b[0m \u001b[0;34m\u001b[0m\u001b[0m\n\u001b[1;32m     77\u001b[0m \u001b[0;31m#-----------------------------------------------------------------------------\u001b[0m\u001b[0;34m\u001b[0m\u001b[0;34m\u001b[0m\u001b[0m\n",
          "\u001b[0;32m~/anaconda3/lib/python3.9/site-packages/bokeh/core/has_props.py\u001b[0m in \u001b[0;36m__init__\u001b[0;34m(self, **properties)\u001b[0m\n\u001b[1;32m    204\u001b[0m \u001b[0;34m\u001b[0m\u001b[0m\n\u001b[1;32m    205\u001b[0m         \u001b[0;32mfor\u001b[0m \u001b[0mname\u001b[0m\u001b[0;34m,\u001b[0m \u001b[0mvalue\u001b[0m \u001b[0;32min\u001b[0m \u001b[0mproperties\u001b[0m\u001b[0;34m.\u001b[0m\u001b[0mitems\u001b[0m\u001b[0;34m(\u001b[0m\u001b[0;34m)\u001b[0m\u001b[0;34m:\u001b[0m\u001b[0;34m\u001b[0m\u001b[0;34m\u001b[0m\u001b[0m\n\u001b[0;32m--> 206\u001b[0;31m             \u001b[0msetattr\u001b[0m\u001b[0;34m(\u001b[0m\u001b[0mself\u001b[0m\u001b[0;34m,\u001b[0m \u001b[0mname\u001b[0m\u001b[0;34m,\u001b[0m \u001b[0mvalue\u001b[0m\u001b[0;34m)\u001b[0m\u001b[0;34m\u001b[0m\u001b[0;34m\u001b[0m\u001b[0m\n\u001b[0m\u001b[1;32m    207\u001b[0m \u001b[0;34m\u001b[0m\u001b[0m\n\u001b[1;32m    208\u001b[0m         \u001b[0mself\u001b[0m\u001b[0;34m.\u001b[0m\u001b[0m_initialized\u001b[0m \u001b[0;34m=\u001b[0m \u001b[0;32mTrue\u001b[0m\u001b[0;34m\u001b[0m\u001b[0;34m\u001b[0m\u001b[0m\n",
          "\u001b[0;32m~/anaconda3/lib/python3.9/site-packages/bokeh/core/has_props.py\u001b[0m in \u001b[0;36m__setattr__\u001b[0;34m(self, name, value)\u001b[0m\n\u001b[1;32m    228\u001b[0m         \u001b[0mproperties\u001b[0m \u001b[0;34m=\u001b[0m \u001b[0mself\u001b[0m\u001b[0;34m.\u001b[0m\u001b[0mproperties\u001b[0m\u001b[0;34m(\u001b[0m\u001b[0m_with_props\u001b[0m\u001b[0;34m=\u001b[0m\u001b[0;32mTrue\u001b[0m\u001b[0;34m)\u001b[0m\u001b[0;34m\u001b[0m\u001b[0;34m\u001b[0m\u001b[0m\n\u001b[1;32m    229\u001b[0m         \u001b[0;32mif\u001b[0m \u001b[0mname\u001b[0m \u001b[0;32min\u001b[0m \u001b[0mproperties\u001b[0m\u001b[0;34m:\u001b[0m\u001b[0;34m\u001b[0m\u001b[0;34m\u001b[0m\u001b[0m\n\u001b[0;32m--> 230\u001b[0;31m             \u001b[0;32mreturn\u001b[0m \u001b[0msuper\u001b[0m\u001b[0;34m(\u001b[0m\u001b[0;34m)\u001b[0m\u001b[0;34m.\u001b[0m\u001b[0m__setattr__\u001b[0m\u001b[0;34m(\u001b[0m\u001b[0mname\u001b[0m\u001b[0;34m,\u001b[0m \u001b[0mvalue\u001b[0m\u001b[0;34m)\u001b[0m\u001b[0;34m\u001b[0m\u001b[0;34m\u001b[0m\u001b[0m\n\u001b[0m\u001b[1;32m    231\u001b[0m \u001b[0;34m\u001b[0m\u001b[0m\n\u001b[1;32m    232\u001b[0m         \u001b[0mdescriptor\u001b[0m \u001b[0;34m=\u001b[0m \u001b[0mgetattr\u001b[0m\u001b[0;34m(\u001b[0m\u001b[0mself\u001b[0m\u001b[0;34m.\u001b[0m\u001b[0m__class__\u001b[0m\u001b[0;34m,\u001b[0m \u001b[0mname\u001b[0m\u001b[0;34m,\u001b[0m \u001b[0;32mNone\u001b[0m\u001b[0;34m)\u001b[0m\u001b[0;34m\u001b[0m\u001b[0;34m\u001b[0m\u001b[0m\n",
          "\u001b[0;32m~/anaconda3/lib/python3.9/site-packages/bokeh/core/property/descriptors.py\u001b[0m in \u001b[0;36m__set__\u001b[0;34m(self, obj, value, setter)\u001b[0m\n\u001b[1;32m    281\u001b[0m             \u001b[0;32mraise\u001b[0m \u001b[0mRuntimeError\u001b[0m\u001b[0;34m(\u001b[0m\u001b[0;34mf\"{class_name}.{self.name} is a readonly property\"\u001b[0m\u001b[0;34m)\u001b[0m\u001b[0;34m\u001b[0m\u001b[0;34m\u001b[0m\u001b[0m\n\u001b[1;32m    282\u001b[0m \u001b[0;34m\u001b[0m\u001b[0m\n\u001b[0;32m--> 283\u001b[0;31m         \u001b[0mvalue\u001b[0m \u001b[0;34m=\u001b[0m \u001b[0mself\u001b[0m\u001b[0;34m.\u001b[0m\u001b[0mproperty\u001b[0m\u001b[0;34m.\u001b[0m\u001b[0mprepare_value\u001b[0m\u001b[0;34m(\u001b[0m\u001b[0mobj\u001b[0m\u001b[0;34m,\u001b[0m \u001b[0mself\u001b[0m\u001b[0;34m.\u001b[0m\u001b[0mname\u001b[0m\u001b[0;34m,\u001b[0m \u001b[0mvalue\u001b[0m\u001b[0;34m)\u001b[0m\u001b[0;34m\u001b[0m\u001b[0;34m\u001b[0m\u001b[0m\n\u001b[0m\u001b[1;32m    284\u001b[0m         \u001b[0mold\u001b[0m \u001b[0;34m=\u001b[0m \u001b[0mself\u001b[0m\u001b[0;34m.\u001b[0m\u001b[0m_get\u001b[0m\u001b[0;34m(\u001b[0m\u001b[0mobj\u001b[0m\u001b[0;34m)\u001b[0m\u001b[0;34m\u001b[0m\u001b[0;34m\u001b[0m\u001b[0m\n\u001b[1;32m    285\u001b[0m         \u001b[0mself\u001b[0m\u001b[0;34m.\u001b[0m\u001b[0m_set\u001b[0m\u001b[0;34m(\u001b[0m\u001b[0mobj\u001b[0m\u001b[0;34m,\u001b[0m \u001b[0mold\u001b[0m\u001b[0;34m,\u001b[0m \u001b[0mvalue\u001b[0m\u001b[0;34m,\u001b[0m \u001b[0msetter\u001b[0m\u001b[0;34m=\u001b[0m\u001b[0msetter\u001b[0m\u001b[0;34m)\u001b[0m\u001b[0;34m\u001b[0m\u001b[0;34m\u001b[0m\u001b[0m\n",
          "\u001b[0;32m~/anaconda3/lib/python3.9/site-packages/bokeh/core/property/bases.py\u001b[0m in \u001b[0;36mprepare_value\u001b[0;34m(self, owner, name, value, hint)\u001b[0m\n\u001b[1;32m    363\u001b[0m         \u001b[0;32melse\u001b[0m\u001b[0;34m:\u001b[0m\u001b[0;34m\u001b[0m\u001b[0;34m\u001b[0m\u001b[0m\n\u001b[1;32m    364\u001b[0m             \u001b[0mobj_repr\u001b[0m \u001b[0;34m=\u001b[0m \u001b[0mowner\u001b[0m \u001b[0;32mif\u001b[0m \u001b[0misinstance\u001b[0m\u001b[0;34m(\u001b[0m\u001b[0mowner\u001b[0m\u001b[0;34m,\u001b[0m \u001b[0mHasProps\u001b[0m\u001b[0;34m)\u001b[0m \u001b[0;32melse\u001b[0m \u001b[0mowner\u001b[0m\u001b[0;34m.\u001b[0m\u001b[0m__name__\u001b[0m\u001b[0;34m\u001b[0m\u001b[0;34m\u001b[0m\u001b[0m\n\u001b[0;32m--> 365\u001b[0;31m             \u001b[0;32mraise\u001b[0m \u001b[0mValueError\u001b[0m\u001b[0;34m(\u001b[0m\u001b[0;34mf\"failed to validate {obj_repr}.{name}: {error}\"\u001b[0m\u001b[0;34m)\u001b[0m\u001b[0;34m\u001b[0m\u001b[0;34m\u001b[0m\u001b[0m\n\u001b[0m\u001b[1;32m    366\u001b[0m \u001b[0;34m\u001b[0m\u001b[0m\n\u001b[1;32m    367\u001b[0m         \u001b[0;32mif\u001b[0m \u001b[0misinstance\u001b[0m\u001b[0;34m(\u001b[0m\u001b[0mowner\u001b[0m\u001b[0;34m,\u001b[0m \u001b[0mHasProps\u001b[0m\u001b[0;34m)\u001b[0m\u001b[0;34m:\u001b[0m\u001b[0;34m\u001b[0m\u001b[0;34m\u001b[0m\u001b[0m\n",
          "\u001b[0;31mValueError\u001b[0m: failed to validate FigureOptions(...).tooltips: expected an element of either Null, Instance(Template), String or List(Tuple(String, String)), got ['En @x  , le prix du gazole était de']"
         ]
        }
       ]
      }
     },
     "265ea8098afa48b2b46cb5e17558c5e3": {
      "model_module": "@jupyter-widgets/base",
      "model_module_version": "1.2.0",
      "model_name": "LayoutModel",
      "state": {}
     },
     "26a185428942472db99a8945b4c16313": {
      "model_module": "@jupyter-widgets/output",
      "model_module_version": "1.0.0",
      "model_name": "OutputModel",
      "state": {
       "layout": "IPY_MODEL_979c772bcc314f2ba349b90e42faeb26",
       "outputs": [
        {
         "data": {
          "text/html": "\n\n\n\n\n\n  <div class=\"bk-root\" id=\"d7d5a51c-3d69-488e-955e-60efff097f15\" data-root-id=\"3999\"></div>\n"
         },
         "metadata": {},
         "output_type": "display_data"
        },
        {
         "data": {
          "application/javascript": "(function(root) {\n  function embed_document(root) {\n    \n  const docs_json = {\"46fc8694-dfd3-45c3-aca1-f95ab3409c35\":{\"defs\":[],\"roots\":{\"references\":[{\"attributes\":{\"below\":[{\"id\":\"4010\"}],\"center\":[{\"id\":\"4013\"},{\"id\":\"4017\"},{\"id\":\"4050\"}],\"left\":[{\"id\":\"4014\"}],\"renderers\":[{\"id\":\"4038\"},{\"id\":\"4056\"},{\"id\":\"4075\"},{\"id\":\"4096\"}],\"sizing_mode\":\"stretch_width\",\"title\":{\"id\":\"4000\"},\"toolbar\":{\"id\":\"4026\"},\"x_range\":{\"id\":\"4002\"},\"x_scale\":{\"id\":\"4006\"},\"y_range\":{\"id\":\"4004\"},\"y_scale\":{\"id\":\"4008\"}},\"id\":\"3999\",\"subtype\":\"Figure\",\"type\":\"Plot\"},{\"attributes\":{\"axis_label\":\"Prix (En Euro)\",\"coordinates\":null,\"formatter\":{\"id\":\"4042\"},\"group\":null,\"major_label_policy\":{\"id\":\"4043\"},\"ticker\":{\"id\":\"4015\"}},\"id\":\"4014\",\"type\":\"LinearAxis\"},{\"attributes\":{\"label\":{\"value\":\"Prix par ann\\u00e9es\"},\"renderers\":[{\"id\":\"4056\"}]},\"id\":\"4070\",\"type\":\"LegendItem\"},{\"attributes\":{\"coordinates\":null,\"data_source\":{\"id\":\"4052\"},\"glyph\":{\"id\":\"4053\"},\"group\":null,\"hover_glyph\":null,\"muted_glyph\":{\"id\":\"4055\"},\"nonselection_glyph\":{\"id\":\"4054\"},\"view\":{\"id\":\"4057\"}},\"id\":\"4056\",\"type\":\"GlyphRenderer\"},{\"attributes\":{\"source\":{\"id\":\"4034\"}},\"id\":\"4039\",\"type\":\"CDSView\"},{\"attributes\":{},\"id\":\"4008\",\"type\":\"LinearScale\"},{\"attributes\":{},\"id\":\"4011\",\"type\":\"BasicTicker\"},{\"attributes\":{},\"id\":\"4022\",\"type\":\"ResetTool\"},{\"attributes\":{},\"id\":\"4004\",\"type\":\"DataRange1d\"},{\"attributes\":{\"axis\":{\"id\":\"4010\"},\"coordinates\":null,\"group\":null,\"ticker\":null},\"id\":\"4013\",\"type\":\"Grid\"},{\"attributes\":{\"line_color\":\"orange\",\"line_width\":4,\"x\":{\"field\":\"x\"},\"y\":{\"field\":\"y\"}},\"id\":\"4053\",\"type\":\"Line\"},{\"attributes\":{\"label\":{\"value\":\"Prix par mois\"},\"renderers\":[{\"id\":\"4038\"}]},\"id\":\"4051\",\"type\":\"LegendItem\"},{\"attributes\":{\"coordinates\":null,\"data_source\":{\"id\":\"4034\"},\"glyph\":{\"id\":\"4035\"},\"group\":null,\"hover_glyph\":null,\"muted_glyph\":{\"id\":\"4037\"},\"nonselection_glyph\":{\"id\":\"4036\"},\"view\":{\"id\":\"4039\"}},\"id\":\"4038\",\"type\":\"GlyphRenderer\"},{\"attributes\":{\"data\":{\"x\":[\"1992\",\"1992\",\"1992\",\"1992\",\"1992\",\"1992\",\"1992\",\"1992\",\"1992\",\"1992\",\"1992\",\"1992\",\"1993\",\"1993\",\"1993\",\"1993\",\"1993\",\"1993\",\"1993\",\"1993\",\"1993\",\"1993\",\"1993\",\"1993\",\"1994\",\"1994\",\"1994\",\"1994\",\"1994\",\"1994\",\"1994\",\"1994\",\"1994\",\"1994\",\"1994\",\"1994\",\"1995\",\"1995\",\"1995\",\"1995\",\"1995\",\"1995\",\"1995\",\"1995\",\"1995\",\"1995\",\"1995\",\"1995\",\"1996\",\"1996\",\"1996\",\"1996\",\"1996\",\"1996\",\"1996\",\"1996\",\"1996\",\"1996\",\"1996\",\"1996\",\"1997\",\"1997\",\"1997\",\"1997\",\"1997\",\"1997\",\"1997\",\"1997\",\"1997\",\"1997\",\"1997\",\"1997\",\"1998\",\"1998\",\"1998\",\"1998\",\"1998\",\"1998\",\"1998\",\"1998\",\"1998\",\"1998\",\"1998\",\"1998\",\"1999\",\"1999\",\"1999\",\"1999\",\"1999\",\"1999\",\"1999\",\"1999\",\"1999\",\"1999\",\"1999\",\"1999\",\"2000\",\"2000\",\"2000\",\"2000\",\"2000\",\"2000\",\"2000\",\"2000\",\"2000\",\"2000\",\"2000\",\"2000\",\"2001\",\"2001\",\"2001\",\"2001\",\"2001\",\"2001\",\"2001\",\"2001\",\"2001\",\"2001\",\"2001\",\"2001\",\"2002\",\"2002\",\"2002\",\"2002\",\"2002\",\"2002\",\"2002\",\"2002\",\"2002\",\"2002\",\"2002\",\"2002\",\"2003\",\"2003\",\"2003\",\"2003\",\"2003\",\"2003\",\"2003\",\"2003\",\"2003\",\"2003\",\"2003\",\"2003\",\"2004\",\"2004\",\"2004\",\"2004\",\"2004\",\"2004\",\"2004\",\"2004\",\"2004\",\"2004\",\"2004\",\"2004\",\"2005\",\"2005\",\"2005\",\"2005\",\"2005\",\"2005\",\"2005\",\"2005\",\"2005\",\"2005\",\"2005\",\"2005\",\"2006\",\"2006\",\"2006\",\"2006\",\"2006\",\"2006\",\"2006\",\"2006\",\"2006\",\"2006\",\"2006\",\"2006\",\"2007\",\"2007\",\"2007\",\"2007\",\"2007\",\"2007\",\"2007\",\"2007\",\"2007\",\"2007\",\"2007\",\"2007\",\"2008\",\"2008\",\"2008\",\"2008\",\"2008\",\"2008\",\"2008\",\"2008\",\"2008\",\"2008\",\"2008\",\"2008\",\"2009\",\"2009\",\"2009\",\"2009\",\"2009\",\"2009\",\"2009\",\"2009\",\"2009\",\"2009\",\"2009\",\"2009\",\"2010\",\"2010\",\"2010\",\"2010\",\"2010\",\"2010\",\"2010\",\"2010\",\"2010\",\"2010\",\"2010\",\"2010\",\"2011\",\"2011\",\"2011\",\"2011\",\"2011\",\"2011\",\"2011\",\"2011\",\"2011\",\"2011\",\"2011\",\"2011\",\"2012\",\"2012\",\"2012\",\"2012\",\"2012\",\"2012\",\"2012\",\"2012\",\"2012\",\"2012\",\"2012\",\"2012\",\"2013\",\"2013\",\"2013\",\"2013\",\"2013\",\"2013\",\"2013\",\"2013\",\"2013\",\"2013\",\"2013\",\"2013\",\"2014\",\"2014\",\"2014\",\"2014\",\"2014\",\"2014\",\"2014\",\"2014\",\"2014\",\"2014\",\"2014\",\"2014\",\"2015\",\"2015\",\"2015\",\"2015\",\"2015\",\"2015\",\"2015\",\"2015\",\"2015\",\"2015\",\"2015\",\"2015\",\"2016\",\"2016\",\"2016\",\"2016\",\"2016\",\"2016\",\"2016\",\"2016\",\"2016\",\"2016\",\"2016\",\"2016\",\"2017\",\"2017\",\"2017\",\"2017\",\"2017\",\"2017\",\"2017\",\"2017\",\"2017\",\"2017\",\"2017\",\"2017\",\"2018\",\"2018\",\"2018\",\"2018\",\"2018\",\"2018\",\"2018\",\"2018\",\"2018\",\"2018\",\"2018\",\"2018\",\"2019\",\"2019\",\"2019\",\"2019\",\"2019\",\"2019\",\"2019\",\"2019\",\"2019\",\"2019\",\"2019\",\"2019\",\"2020\",\"2020\",\"2020\",\"2020\",\"2020\",\"2020\",\"2020\",\"2020\",\"2020\",\"2020\",\"2020\",\"2020\",\"2021\",\"2021\",\"2021\",\"2021\",\"2021\",\"2021\",\"2021\",\"2021\",\"2021\",\"2021\",\"2021\",\"2021\",\"2022\",\"2022\"],\"y\":[0.54,0.54,0.54,0.53,0.54,0.54,0.54,0.54,0.53,0.53,0.54,0.54,0.53,0.54,0.54,0.55,0.55,0.54,0.54,0.56,0.59,0.6,0.6,0.59,0.6,0.6,0.6,0.6,0.6,0.6,0.59,0.59,0.59,0.59,0.59,0.59,0.59,0.59,0.59,0.59,0.59,0.59,0.59,0.59,0.6,0.6,0.6,0.6,0.62,0.63,0.65,0.66,0.65,0.64,0.64,0.64,0.66,0.7,0.7,0.7,0.71,0.7,0.69,0.68,0.68,0.67,0.67,0.68,0.67,0.68,0.69,0.68,0.68,0.67,0.66,0.66,0.65,0.64,0.64,0.63,0.63,0.63,0.63,0.62,0.63,0.63,0.64,0.67,0.67,0.67,0.68,0.7,0.71,0.72,0.73,0.78,0.81,0.81,0.82,0.8,0.81,0.82,0.83,0.84,0.93,0.9,0.91,0.89,0.81,0.8,0.8,0.8,0.82,0.82,0.82,0.8,0.8,0.79,0.78,0.75,0.74,0.74,0.75,0.78,0.77,0.76,0.75,0.77,0.79,0.81,0.79,0.79,0.82,0.84,0.89,0.82,0.77,0.76,0.76,0.77,0.77,0.78,0.79,0.79,0.81,0.81,0.83,0.84,0.88,0.86,0.87,0.91,0.92,0.96,0.97,0.97,0.93,0.94,0.99,1.02,0.99,1.02,1.06,1.07,1.1,1.12,1.07,1.04,1.06,1.07,1.08,1.1,1.12,1.11,1.12,1.13,1.1,1.05,1.04,1.04,1.02,1.02,1.04,1.07,1.07,1.08,1.1,1.1,1.11,1.12,1.2,1.22,1.21,1.2,1.26,1.29,1.37,1.46,1.45,1.36,1.33,1.26,1.15,1.05,0.99,0.99,0.95,0.98,0.98,1.02,1.01,1.04,1.02,1.02,1.05,1.05,1.09,1.09,1.13,1.16,1.18,1.17,1.16,1.15,1.16,1.17,1.19,1.22,1.29,1.31,1.37,1.38,1.34,1.33,1.33,1.33,1.34,1.35,1.39,1.38,1.42,1.43,1.46,1.45,1.42,1.37,1.36,1.44,1.42,1.4,1.38,1.38,1.39,1.41,1.41,1.38,1.34,1.34,1.35,1.36,1.38,1.34,1.33,1.34,1.34,1.34,1.33,1.32,1.32,1.32,1.32,1.31,1.3,1.28,1.25,1.19,1.13,1.19,1.22,1.22,1.24,1.23,1.2,1.14,1.12,1.12,1.11,1.08,1.03,1.03,1.06,1.07,1.12,1.17,1.14,1.11,1.12,1.15,1.16,1.18,1.27,1.27,1.25,1.24,1.21,1.18,1.17,1.2,1.22,1.24,1.27,1.28,1.39,1.38,1.37,1.4,1.45,1.46,1.45,1.45,1.48,1.52,1.48,1.42,1.4,1.44,1.46,1.47,1.49,1.43,1.42,1.42,1.44,1.44,1.44,1.47,1.49,1.42,1.32,1.23,1.18,1.22,1.25,1.25,1.22,1.21,1.22,1.27,1.31,1.36,1.4,1.39,1.4,1.43,1.45,1.45,1.46,1.56,1.57,1.54,1.63,1.72]},\"selected\":{\"id\":\"4048\"},\"selection_policy\":{\"id\":\"4047\"}},\"id\":\"4034\",\"type\":\"ColumnDataSource\"},{\"attributes\":{\"callback\":null,\"tooltips\":[[\"Ann\\u00e9e \",\"@x\"],[\"Prix \",\"@y\"]]},\"id\":\"4025\",\"type\":\"HoverTool\"},{\"attributes\":{},\"id\":\"4023\",\"type\":\"HelpTool\"},{\"attributes\":{},\"id\":\"4006\",\"type\":\"LinearScale\"},{\"attributes\":{\"fill_alpha\":{\"value\":0.5},\"fill_color\":{\"value\":\"red\"},\"hatch_color\":{\"value\":\"red\"},\"line_color\":{\"value\":\"red\"},\"size\":{\"value\":10},\"x\":{\"field\":\"x\"},\"y\":{\"field\":\"y\"}},\"id\":\"4072\",\"type\":\"Circle\"},{\"attributes\":{},\"id\":\"4046\",\"type\":\"AllLabels\"},{\"attributes\":{\"overlay\":{\"id\":\"4024\"}},\"id\":\"4020\",\"type\":\"BoxZoomTool\"},{\"attributes\":{},\"id\":\"4002\",\"type\":\"DataRange1d\"},{\"attributes\":{\"data\":{\"x\":[\"1992\",\"1993\",\"1994\",\"1995\",\"1996\",\"1997\",\"1998\",\"1999\",\"2000\",\"2001\",\"2002\",\"2003\",\"2004\",\"2005\",\"2006\",\"2007\",\"2008\",\"2009\",\"2010\",\"2011\",\"2012\",\"2013\",\"2014\",\"2015\",\"2016\",\"2017\",\"2018\",\"2019\",\"2020\",\"2021\",\"2022\"],\"y\":{\"__ndarray__\":\"NDMzMzMz4T/xiyW/WPLhPwrXo3A9CuM/+2LJL5b84j8L16NwPQrlP93d3d3d3eU/pHA9Ctej5D/xiyW/WPLlPyCF61G4Hus/k18s+cWS6T+jcD0K16PoP32x5BdLfuk/W/KLJb9Y7D94d3d3d3fwP1yPwvUoXPE/iYiIiIiI8T+F61G4HoX0PyMiIiIiIvA/frHkF0t+8j+F61G4HoX1P5NfLPnFkvY/1AY6baDT9T/UBjptoNP0P6uqqqqqqvI/yi+W/GLJ8T+7u7u7u7vzPwAAAAAAAPc/F0t+seQX9z9fLPnFkl/0PxhLfrHkF/c/zMzMzMzM+j8=\",\"dtype\":\"float64\",\"order\":\"little\",\"shape\":[31]}},\"selected\":{\"id\":\"4068\"},\"selection_policy\":{\"id\":\"4067\"}},\"id\":\"4052\",\"type\":\"ColumnDataSource\"},{\"attributes\":{\"data\":{\"x\":[\"2008\",\"2009\",\"2011\",\"2018\",\"2020\",\"2021\"],\"y\":{\"__ndarray__\":\"hetRuB6F9D8jIiIiIiLwP4XrUbgehfU/AAAAAAAA9z9fLPnFkl/0PxhLfrHkF/c/\",\"dtype\":\"float64\",\"order\":\"little\",\"shape\":[6]}},\"selected\":{\"id\":\"4089\"},\"selection_policy\":{\"id\":\"4088\"}},\"id\":\"4071\",\"type\":\"ColumnDataSource\"},{\"attributes\":{\"source\":{\"id\":\"4092\"}},\"id\":\"4097\",\"type\":\"CDSView\"},{\"attributes\":{},\"id\":\"4018\",\"type\":\"PanTool\"},{\"attributes\":{},\"id\":\"4112\",\"type\":\"Selection\"},{\"attributes\":{\"line_color\":\"grey\",\"line_dash\":[5,5],\"x\":{\"field\":\"x\"},\"y\":{\"field\":\"y\"}},\"id\":\"4035\",\"type\":\"Line\"},{\"attributes\":{\"border_line_alpha\":0.8,\"click_policy\":\"hide\",\"coordinates\":null,\"group\":null,\"items\":[{\"id\":\"4051\"},{\"id\":\"4070\"},{\"id\":\"4091\"},{\"id\":\"4114\"}],\"label_text_font_style\":\"italic\",\"location\":\"top_left\"},\"id\":\"4050\",\"type\":\"Legend\"},{\"attributes\":{},\"id\":\"4019\",\"type\":\"WheelZoomTool\"},{\"attributes\":{},\"id\":\"4088\",\"type\":\"UnionRenderers\"},{\"attributes\":{\"line_alpha\":0.2,\"line_color\":\"darkred\",\"x\":{\"field\":\"x\"},\"y\":{\"field\":\"y\"}},\"id\":\"4095\",\"type\":\"Line\"},{\"attributes\":{\"coordinates\":null,\"group\":null,\"text\":\"Evolution du prix du Gazole\"},\"id\":\"4000\",\"type\":\"Title\"},{\"attributes\":{\"fill_alpha\":{\"value\":0.2},\"fill_color\":{\"value\":\"red\"},\"hatch_alpha\":{\"value\":0.2},\"hatch_color\":{\"value\":\"red\"},\"line_alpha\":{\"value\":0.2},\"line_color\":{\"value\":\"red\"},\"size\":{\"value\":10},\"x\":{\"field\":\"x\"},\"y\":{\"field\":\"y\"}},\"id\":\"4074\",\"type\":\"Circle\"},{\"attributes\":{\"line_alpha\":0.1,\"line_color\":\"darkred\",\"x\":{\"field\":\"x\"},\"y\":{\"field\":\"y\"}},\"id\":\"4094\",\"type\":\"Line\"},{\"attributes\":{\"coordinates\":null,\"data_source\":{\"id\":\"4071\"},\"glyph\":{\"id\":\"4072\"},\"group\":null,\"hover_glyph\":null,\"muted_glyph\":{\"id\":\"4074\"},\"nonselection_glyph\":{\"id\":\"4073\"},\"view\":{\"id\":\"4076\"}},\"id\":\"4075\",\"type\":\"GlyphRenderer\"},{\"attributes\":{\"label\":{\"value\":\"R\\u00e9gression Lin\\u00e9aire\"},\"renderers\":[{\"id\":\"4096\"}]},\"id\":\"4114\",\"type\":\"LegendItem\"},{\"attributes\":{\"label\":{\"value\":\"Forte \\u00e9volution\"},\"renderers\":[{\"id\":\"4075\"}]},\"id\":\"4091\",\"type\":\"LegendItem\"},{\"attributes\":{\"fill_alpha\":{\"value\":0.1},\"fill_color\":{\"value\":\"red\"},\"hatch_alpha\":{\"value\":0.1},\"hatch_color\":{\"value\":\"red\"},\"line_alpha\":{\"value\":0.1},\"line_color\":{\"value\":\"red\"},\"size\":{\"value\":10},\"x\":{\"field\":\"x\"},\"y\":{\"field\":\"y\"}},\"id\":\"4073\",\"type\":\"Circle\"},{\"attributes\":{},\"id\":\"4043\",\"type\":\"AllLabels\"},{\"attributes\":{},\"id\":\"4111\",\"type\":\"UnionRenderers\"},{\"attributes\":{\"source\":{\"id\":\"4071\"}},\"id\":\"4076\",\"type\":\"CDSView\"},{\"attributes\":{\"line_alpha\":0.1,\"line_color\":\"grey\",\"line_dash\":[5,5],\"x\":{\"field\":\"x\"},\"y\":{\"field\":\"y\"}},\"id\":\"4036\",\"type\":\"Line\"},{\"attributes\":{\"source\":{\"id\":\"4052\"}},\"id\":\"4057\",\"type\":\"CDSView\"},{\"attributes\":{},\"id\":\"4042\",\"type\":\"BasicTickFormatter\"},{\"attributes\":{},\"id\":\"4015\",\"type\":\"BasicTicker\"},{\"attributes\":{\"line_alpha\":0.2,\"line_color\":\"orange\",\"line_width\":4,\"x\":{\"field\":\"x\"},\"y\":{\"field\":\"y\"}},\"id\":\"4055\",\"type\":\"Line\"},{\"attributes\":{},\"id\":\"4021\",\"type\":\"SaveTool\"},{\"attributes\":{\"axis_label\":\"P\\u00e9riode (En ann\\u00e9e)\",\"coordinates\":null,\"formatter\":{\"id\":\"4045\"},\"group\":null,\"major_label_policy\":{\"id\":\"4046\"},\"ticker\":{\"id\":\"4011\"}},\"id\":\"4010\",\"type\":\"LinearAxis\"},{\"attributes\":{\"line_alpha\":0.1,\"line_color\":\"orange\",\"line_width\":4,\"x\":{\"field\":\"x\"},\"y\":{\"field\":\"y\"}},\"id\":\"4054\",\"type\":\"Line\"},{\"attributes\":{},\"id\":\"4045\",\"type\":\"BasicTickFormatter\"},{\"attributes\":{},\"id\":\"4068\",\"type\":\"Selection\"},{\"attributes\":{\"line_color\":\"darkred\",\"x\":{\"field\":\"x\"},\"y\":{\"field\":\"y\"}},\"id\":\"4093\",\"type\":\"Line\"},{\"attributes\":{},\"id\":\"4089\",\"type\":\"Selection\"},{\"attributes\":{\"bottom_units\":\"screen\",\"coordinates\":null,\"fill_alpha\":0.5,\"fill_color\":\"lightgrey\",\"group\":null,\"left_units\":\"screen\",\"level\":\"overlay\",\"line_alpha\":1.0,\"line_color\":\"black\",\"line_dash\":[4,4],\"line_width\":2,\"right_units\":\"screen\",\"syncable\":false,\"top_units\":\"screen\"},\"id\":\"4024\",\"type\":\"BoxAnnotation\"},{\"attributes\":{\"logo\":null,\"tools\":[{\"id\":\"4018\"},{\"id\":\"4019\"},{\"id\":\"4020\"},{\"id\":\"4021\"},{\"id\":\"4022\"},{\"id\":\"4023\"},{\"id\":\"4025\"}]},\"id\":\"4026\",\"type\":\"Toolbar\"},{\"attributes\":{\"line_alpha\":0.2,\"line_color\":\"grey\",\"line_dash\":[5,5],\"x\":{\"field\":\"x\"},\"y\":{\"field\":\"y\"}},\"id\":\"4037\",\"type\":\"Line\"},{\"attributes\":{},\"id\":\"4047\",\"type\":\"UnionRenderers\"},{\"attributes\":{},\"id\":\"4067\",\"type\":\"UnionRenderers\"},{\"attributes\":{\"axis\":{\"id\":\"4014\"},\"coordinates\":null,\"dimension\":1,\"group\":null,\"ticker\":null},\"id\":\"4017\",\"type\":\"Grid\"},{\"attributes\":{\"coordinates\":null,\"data_source\":{\"id\":\"4092\"},\"glyph\":{\"id\":\"4093\"},\"group\":null,\"hover_glyph\":null,\"muted_glyph\":{\"id\":\"4095\"},\"nonselection_glyph\":{\"id\":\"4094\"},\"view\":{\"id\":\"4097\"}},\"id\":\"4096\",\"type\":\"GlyphRenderer\"},{\"attributes\":{\"data\":{\"x\":{\"__ndarray__\":\"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\",\"dtype\":\"float64\",\"order\":\"little\",\"shape\":[362]},\"y\":{\"__ndarray__\":\"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\",\"dtype\":\"float64\",\"order\":\"little\",\"shape\":[362]}},\"selected\":{\"id\":\"4112\"},\"selection_policy\":{\"id\":\"4111\"}},\"id\":\"4092\",\"type\":\"ColumnDataSource\"},{\"attributes\":{},\"id\":\"4048\",\"type\":\"Selection\"}],\"root_ids\":[\"3999\"]},\"title\":\"Bokeh Application\",\"version\":\"2.4.1\"}};\n  const render_items = [{\"docid\":\"46fc8694-dfd3-45c3-aca1-f95ab3409c35\",\"root_ids\":[\"3999\"],\"roots\":{\"3999\":\"d7d5a51c-3d69-488e-955e-60efff097f15\"}}];\n  root.Bokeh.embed.embed_items_notebook(docs_json, render_items);\n\n  }\n  if (root.Bokeh !== undefined) {\n    embed_document(root);\n  } else {\n    let attempts = 0;\n    const timer = setInterval(function(root) {\n      if (root.Bokeh !== undefined) {\n        clearInterval(timer);\n        embed_document(root);\n      } else {\n        attempts++;\n        if (attempts > 100) {\n          clearInterval(timer);\n          console.log(\"Bokeh: ERROR: Unable to run BokehJS code because BokehJS library is missing\");\n        }\n      }\n    }, 10, root)\n  }\n})(window);",
          "application/vnd.bokehjs_exec.v0+json": ""
         },
         "metadata": {
          "application/vnd.bokehjs_exec.v0+json": {
           "id": "3999"
          }
         },
         "output_type": "display_data"
        }
       ]
      }
     },
     "26e7ba1438c440f4a1ded97cfe9067a2": {
      "model_module": "@jupyter-widgets/base",
      "model_module_version": "1.2.0",
      "model_name": "LayoutModel",
      "state": {}
     },
     "272d36af5fdc43b8b067a7ac447cf539": {
      "model_module": "@jupyter-widgets/controls",
      "model_module_version": "1.5.0",
      "model_name": "VBoxModel",
      "state": {
       "_dom_classes": [
        "widget-interact"
       ],
       "children": [
        "IPY_MODEL_0f4c6b4f09444088a352153a4015adf2",
        "IPY_MODEL_1959c1af24864925a70978a5b982cf56"
       ],
       "layout": "IPY_MODEL_eb2712d47d2d4c8bb6ccfe059105dfc1"
      }
     },
     "27574971e2c94725b4d4f65036646ba4": {
      "model_module": "@jupyter-widgets/base",
      "model_module_version": "1.2.0",
      "model_name": "LayoutModel",
      "state": {}
     },
     "27b3b01fa31e4d7d96a42c508198bafe": {
      "model_module": "@jupyter-widgets/output",
      "model_module_version": "1.0.0",
      "model_name": "OutputModel",
      "state": {
       "layout": "IPY_MODEL_4920d1d9dbcc42998d32bd0f4b6b5ca6",
       "outputs": [
        {
         "data": {
          "text/html": "<div>\n<style scoped>\n    .dataframe tbody tr th:only-of-type {\n        vertical-align: middle;\n    }\n\n    .dataframe tbody tr th {\n        vertical-align: top;\n    }\n\n    .dataframe thead th {\n        text-align: right;\n    }\n</style>\n<table border=\"1\" class=\"dataframe\">\n  <thead>\n    <tr style=\"text-align: right;\">\n      <th></th>\n      <th>Année</th>\n      <th>Période</th>\n      <th>Prix</th>\n      <th>index</th>\n    </tr>\n  </thead>\n  <tbody>\n    <tr>\n      <th>0</th>\n      <td>2000</td>\n      <td>Janvier</td>\n      <td>0.81</td>\n      <td>1.0</td>\n    </tr>\n    <tr>\n      <th>1</th>\n      <td>2000</td>\n      <td>Février</td>\n      <td>0.81</td>\n      <td>2.0</td>\n    </tr>\n    <tr>\n      <th>2</th>\n      <td>2000</td>\n      <td>Mars</td>\n      <td>0.82</td>\n      <td>3.0</td>\n    </tr>\n    <tr>\n      <th>3</th>\n      <td>2000</td>\n      <td>Avril</td>\n      <td>0.80</td>\n      <td>4.0</td>\n    </tr>\n    <tr>\n      <th>4</th>\n      <td>2000</td>\n      <td>Mai</td>\n      <td>0.81</td>\n      <td>5.0</td>\n    </tr>\n    <tr>\n      <th>5</th>\n      <td>2000</td>\n      <td>Juin</td>\n      <td>0.82</td>\n      <td>6.0</td>\n    </tr>\n    <tr>\n      <th>6</th>\n      <td>2000</td>\n      <td>Juillet</td>\n      <td>0.83</td>\n      <td>7.0</td>\n    </tr>\n    <tr>\n      <th>7</th>\n      <td>2000</td>\n      <td>Aout</td>\n      <td>0.84</td>\n      <td>8.0</td>\n    </tr>\n    <tr>\n      <th>8</th>\n      <td>2000</td>\n      <td>Septembre</td>\n      <td>0.93</td>\n      <td>9.0</td>\n    </tr>\n    <tr>\n      <th>9</th>\n      <td>2000</td>\n      <td>Octobre</td>\n      <td>0.90</td>\n      <td>10.0</td>\n    </tr>\n    <tr>\n      <th>10</th>\n      <td>2000</td>\n      <td>Novembre</td>\n      <td>0.91</td>\n      <td>11.0</td>\n    </tr>\n    <tr>\n      <th>11</th>\n      <td>2000</td>\n      <td>Decembre</td>\n      <td>0.89</td>\n      <td>12.0</td>\n    </tr>\n  </tbody>\n</table>\n</div>",
          "text/plain": "   Année    Période  Prix  index\n0   2000    Janvier  0.81    1.0\n1   2000    Février  0.81    2.0\n2   2000       Mars  0.82    3.0\n3   2000      Avril  0.80    4.0\n4   2000        Mai  0.81    5.0\n5   2000       Juin  0.82    6.0\n6   2000    Juillet  0.83    7.0\n7   2000       Aout  0.84    8.0\n8   2000  Septembre  0.93    9.0\n9   2000    Octobre  0.90   10.0\n10  2000   Novembre  0.91   11.0\n11  2000   Decembre  0.89   12.0"
         },
         "metadata": {},
         "output_type": "display_data"
        }
       ]
      }
     },
     "28fb5fccdba54985869a0c10f3166d9d": {
      "model_module": "@jupyter-widgets/base",
      "model_module_version": "1.2.0",
      "model_name": "LayoutModel",
      "state": {}
     },
     "2add1b7dff1f48bb9fe851ae87417abe": {
      "model_module": "@jupyter-widgets/controls",
      "model_module_version": "1.5.0",
      "model_name": "DescriptionStyleModel",
      "state": {
       "description_width": ""
      }
     },
     "2c11a5fc1b2f404cbf8ca1f13ab75beb": {
      "model_module": "@jupyter-widgets/base",
      "model_module_version": "1.2.0",
      "model_name": "LayoutModel",
      "state": {}
     },
     "2c29314eeff746479062da9aafa41e0b": {
      "model_module": "@jupyter-widgets/base",
      "model_module_version": "1.2.0",
      "model_name": "LayoutModel",
      "state": {}
     },
     "2d2a8f5fc69e4e00b58cfe40ce51a108": {
      "model_module": "@jupyter-widgets/output",
      "model_module_version": "1.0.0",
      "model_name": "OutputModel",
      "state": {
       "layout": "IPY_MODEL_f94b7d31f8214d13815e13ca905ce936",
       "outputs": [
        {
         "data": {
          "text/html": "\n\n\n\n\n\n  <div class=\"bk-root\" id=\"760b3875-213b-4ea7-b7e8-d46a1bfc0ac0\" data-root-id=\"3772\"></div>\n"
         },
         "metadata": {},
         "output_type": "display_data"
        },
        {
         "data": {
          "application/javascript": "(function(root) {\n  function embed_document(root) {\n    \n  const docs_json = {\"7979d9f0-3e0c-4d20-8841-cd31d231ce65\":{\"defs\":[],\"roots\":{\"references\":[{\"attributes\":{\"below\":[{\"id\":\"3783\"}],\"center\":[{\"id\":\"3785\"},{\"id\":\"3789\"},{\"id\":\"3822\"}],\"left\":[{\"id\":\"3786\"}],\"renderers\":[{\"id\":\"3810\"}],\"sizing_mode\":\"stretch_width\",\"title\":{\"id\":\"3773\"},\"toolbar\":{\"id\":\"3798\"},\"x_range\":{\"id\":\"3775\"},\"x_scale\":{\"id\":\"3779\"},\"y_range\":{\"id\":\"3777\"},\"y_scale\":{\"id\":\"3781\"}},\"id\":\"3772\",\"subtype\":\"Figure\",\"type\":\"Plot\"},{\"attributes\":{\"data\":{\"x\":[\"Janvier\",\"F\\u00e9vrier\",\"Mars\",\"Avril\",\"Mai\",\"Juin\",\"Juillet\",\"Aout\",\"Septembre\",\"Octobre\",\"Novembre\",\"Decembre\"],\"y\":{\"__ndarray__\":\"7FG4HoXr6T/sUbgehevpPz0K16NwPeo/mpmZmZmZ6T/sUbgehevpPz0K16NwPeo/j8L1KFyP6j/hehSuR+HqP8P1KFyPwu0/zczMzMzM7D8fhetRuB7tP3sUrkfheuw/\",\"dtype\":\"float64\",\"order\":\"little\",\"shape\":[12]}},\"selected\":{\"id\":\"3820\"},\"selection_policy\":{\"id\":\"3819\"}},\"id\":\"3806\",\"type\":\"ColumnDataSource\"},{\"attributes\":{},\"id\":\"3818\",\"type\":\"AllLabels\"},{\"attributes\":{\"source\":{\"id\":\"3806\"}},\"id\":\"3811\",\"type\":\"CDSView\"},{\"attributes\":{\"coordinates\":null,\"data_source\":{\"id\":\"3806\"},\"glyph\":{\"id\":\"3807\"},\"group\":null,\"hover_glyph\":null,\"muted_glyph\":{\"id\":\"3809\"},\"nonselection_glyph\":{\"id\":\"3808\"},\"view\":{\"id\":\"3811\"}},\"id\":\"3810\",\"type\":\"GlyphRenderer\"},{\"attributes\":{\"line_alpha\":0.2,\"line_color\":\"orange\",\"line_width\":3,\"x\":{\"field\":\"x\"},\"y\":{\"field\":\"y\"}},\"id\":\"3809\",\"type\":\"Line\"},{\"attributes\":{},\"id\":\"3795\",\"type\":\"HelpTool\"},{\"attributes\":{\"overlay\":{\"id\":\"3796\"}},\"id\":\"3792\",\"type\":\"BoxZoomTool\"},{\"attributes\":{\"label\":{\"value\":\"Prix par mois\"},\"renderers\":[{\"id\":\"3810\"}]},\"id\":\"3823\",\"type\":\"LegendItem\"},{\"attributes\":{\"line_alpha\":0.1,\"line_color\":\"orange\",\"line_width\":3,\"x\":{\"field\":\"x\"},\"y\":{\"field\":\"y\"}},\"id\":\"3808\",\"type\":\"Line\"},{\"attributes\":{\"logo\":null,\"tools\":[{\"id\":\"3790\"},{\"id\":\"3791\"},{\"id\":\"3792\"},{\"id\":\"3793\"},{\"id\":\"3794\"},{\"id\":\"3795\"},{\"id\":\"3797\"}]},\"id\":\"3798\",\"type\":\"Toolbar\"},{\"attributes\":{\"border_line_alpha\":0.8,\"coordinates\":null,\"group\":null,\"items\":[{\"id\":\"3823\"}],\"location\":\"top_left\"},\"id\":\"3822\",\"type\":\"Legend\"},{\"attributes\":{},\"id\":\"3779\",\"type\":\"CategoricalScale\"},{\"attributes\":{},\"id\":\"3819\",\"type\":\"UnionRenderers\"},{\"attributes\":{},\"id\":\"3794\",\"type\":\"ResetTool\"},{\"attributes\":{},\"id\":\"3820\",\"type\":\"Selection\"},{\"attributes\":{\"line_color\":\"orange\",\"line_width\":3,\"x\":{\"field\":\"x\"},\"y\":{\"field\":\"y\"}},\"id\":\"3807\",\"type\":\"Line\"},{\"attributes\":{},\"id\":\"3784\",\"type\":\"CategoricalTicker\"},{\"attributes\":{},\"id\":\"3781\",\"type\":\"LinearScale\"},{\"attributes\":{\"coordinates\":null,\"group\":null,\"text\":\"Evolution du prix du Gazole sur l'ann\\u00e9e 2000\"},\"id\":\"3773\",\"type\":\"Title\"},{\"attributes\":{},\"id\":\"3793\",\"type\":\"SaveTool\"},{\"attributes\":{},\"id\":\"3791\",\"type\":\"WheelZoomTool\"},{\"attributes\":{\"bottom_units\":\"screen\",\"coordinates\":null,\"fill_alpha\":0.5,\"fill_color\":\"lightgrey\",\"group\":null,\"left_units\":\"screen\",\"level\":\"overlay\",\"line_alpha\":1.0,\"line_color\":\"black\",\"line_dash\":[4,4],\"line_width\":2,\"right_units\":\"screen\",\"syncable\":false,\"top_units\":\"screen\"},\"id\":\"3796\",\"type\":\"BoxAnnotation\"},{\"attributes\":{\"axis_label\":\"P\\u00e9riode (En mois)\",\"coordinates\":null,\"formatter\":{\"id\":\"3817\"},\"group\":null,\"major_label_overrides\":{\"1\":\"Janvier\",\"10\":\"Octobre\",\"11\":\"Novembre\",\"12\":\"Decembre\",\"2\":\"F\\u00e9vrier\",\"3\":\"Mars\",\"4\":\"Avril\",\"5\":\"Mai\",\"6\":\"Juin\",\"7\":\"Juillet\",\"8\":\"Aout\",\"9\":\"Septembre\"},\"major_label_policy\":{\"id\":\"3818\"},\"ticker\":{\"id\":\"3784\"}},\"id\":\"3783\",\"type\":\"CategoricalAxis\"},{\"attributes\":{\"axis\":{\"id\":\"3783\"},\"coordinates\":null,\"group\":null,\"ticker\":null},\"id\":\"3785\",\"type\":\"Grid\"},{\"attributes\":{},\"id\":\"3814\",\"type\":\"BasicTickFormatter\"},{\"attributes\":{},\"id\":\"3815\",\"type\":\"AllLabels\"},{\"attributes\":{\"factors\":[\"Janvier\",\"F\\u00e9vrier\",\"Mars\",\"Avril\",\"Mai\",\"Juin\",\"Juillet\",\"Aout\",\"Septembre\",\"Octobre\",\"Novembre\",\"Decembre\"]},\"id\":\"3775\",\"type\":\"FactorRange\"},{\"attributes\":{},\"id\":\"3777\",\"type\":\"DataRange1d\"},{\"attributes\":{\"axis_label\":\"Prix (En Euro)\",\"coordinates\":null,\"formatter\":{\"id\":\"3814\"},\"group\":null,\"major_label_policy\":{\"id\":\"3815\"},\"ticker\":{\"id\":\"3787\"}},\"id\":\"3786\",\"type\":\"LinearAxis\"},{\"attributes\":{},\"id\":\"3790\",\"type\":\"PanTool\"},{\"attributes\":{\"callback\":null,\"tooltips\":[[\"Prix \",\"@y\"],[\"Mois \",\"@x\"]]},\"id\":\"3797\",\"type\":\"HoverTool\"},{\"attributes\":{},\"id\":\"3817\",\"type\":\"CategoricalTickFormatter\"},{\"attributes\":{\"axis\":{\"id\":\"3786\"},\"coordinates\":null,\"dimension\":1,\"group\":null,\"ticker\":null},\"id\":\"3789\",\"type\":\"Grid\"},{\"attributes\":{},\"id\":\"3787\",\"type\":\"BasicTicker\"}],\"root_ids\":[\"3772\"]},\"title\":\"Bokeh Application\",\"version\":\"2.4.1\"}};\n  const render_items = [{\"docid\":\"7979d9f0-3e0c-4d20-8841-cd31d231ce65\",\"root_ids\":[\"3772\"],\"roots\":{\"3772\":\"760b3875-213b-4ea7-b7e8-d46a1bfc0ac0\"}}];\n  root.Bokeh.embed.embed_items_notebook(docs_json, render_items);\n\n  }\n  if (root.Bokeh !== undefined) {\n    embed_document(root);\n  } else {\n    let attempts = 0;\n    const timer = setInterval(function(root) {\n      if (root.Bokeh !== undefined) {\n        clearInterval(timer);\n        embed_document(root);\n      } else {\n        attempts++;\n        if (attempts > 100) {\n          clearInterval(timer);\n          console.log(\"Bokeh: ERROR: Unable to run BokehJS code because BokehJS library is missing\");\n        }\n      }\n    }, 10, root)\n  }\n})(window);",
          "application/vnd.bokehjs_exec.v0+json": ""
         },
         "metadata": {
          "application/vnd.bokehjs_exec.v0+json": {
           "id": "3772"
          }
         },
         "output_type": "display_data"
        }
       ]
      }
     },
     "2efb6886d7bd4028bb7277e31f271bd9": {
      "model_module": "@jupyter-widgets/base",
      "model_module_version": "1.2.0",
      "model_name": "LayoutModel",
      "state": {}
     },
     "2ff328dd2e09467ba6ae7efdc946a885": {
      "model_module": "@jupyter-widgets/controls",
      "model_module_version": "1.5.0",
      "model_name": "DescriptionStyleModel",
      "state": {
       "description_width": ""
      }
     },
     "3027bc6bcaef40119be9df264197e155": {
      "model_module": "@jupyter-widgets/controls",
      "model_module_version": "1.5.0",
      "model_name": "VBoxModel",
      "state": {
       "_dom_classes": [
        "widget-interact"
       ],
       "children": [
        "IPY_MODEL_ebabf1a53a84460285e3c02abfa14d2d",
        "IPY_MODEL_a71c9569d12a4c319e2fac42686e3982"
       ],
       "layout": "IPY_MODEL_9d1053bd26f34859b7f94c5a9c6c05bb"
      }
     },
     "305130552d0144f5904f13baa2b5a948": {
      "model_module": "@jupyter-widgets/controls",
      "model_module_version": "1.5.0",
      "model_name": "DescriptionStyleModel",
      "state": {
       "description_width": ""
      }
     },
     "32222070f8c84a95ad6ac7c6ab8a52ac": {
      "model_module": "@jupyter-widgets/controls",
      "model_module_version": "1.5.0",
      "model_name": "VBoxModel",
      "state": {
       "_dom_classes": [
        "widget-interact"
       ],
       "children": [
        "IPY_MODEL_18352f00a7a341a097410e6e072539d8",
        "IPY_MODEL_b4e895e4daeb4f2c87ce3059d6424453"
       ],
       "layout": "IPY_MODEL_0723ba06a50148a1b9a351b7d2adbc8a"
      }
     },
     "33b4f92a40bf441ba9ee877d5ec00e31": {
      "model_module": "@jupyter-widgets/base",
      "model_module_version": "1.2.0",
      "model_name": "LayoutModel",
      "state": {}
     },
     "34a4bb9d7c0144fa9b805a364ffdf06e": {
      "model_module": "@jupyter-widgets/output",
      "model_module_version": "1.0.0",
      "model_name": "OutputModel",
      "state": {
       "layout": "IPY_MODEL_23c30e464a464df5b46af97cc75943ca",
       "outputs": [
        {
         "ename": "NameError",
         "evalue": "name 'y' is not defined",
         "output_type": "error",
         "traceback": [
          "\u001b[0;31m---------------------------------------------------------------------------\u001b[0m",
          "\u001b[0;31mNameError\u001b[0m                                 Traceback (most recent call last)",
          "\u001b[0;32m~/anaconda3/lib/python3.9/site-packages/ipywidgets/widgets/interaction.py\u001b[0m in \u001b[0;36mupdate\u001b[0;34m(self, *args)\u001b[0m\n\u001b[1;32m    255\u001b[0m                     \u001b[0mvalue\u001b[0m \u001b[0;34m=\u001b[0m \u001b[0mwidget\u001b[0m\u001b[0;34m.\u001b[0m\u001b[0mget_interact_value\u001b[0m\u001b[0;34m(\u001b[0m\u001b[0;34m)\u001b[0m\u001b[0;34m\u001b[0m\u001b[0;34m\u001b[0m\u001b[0m\n\u001b[1;32m    256\u001b[0m                     \u001b[0mself\u001b[0m\u001b[0;34m.\u001b[0m\u001b[0mkwargs\u001b[0m\u001b[0;34m[\u001b[0m\u001b[0mwidget\u001b[0m\u001b[0;34m.\u001b[0m\u001b[0m_kwarg\u001b[0m\u001b[0;34m]\u001b[0m \u001b[0;34m=\u001b[0m \u001b[0mvalue\u001b[0m\u001b[0;34m\u001b[0m\u001b[0;34m\u001b[0m\u001b[0m\n\u001b[0;32m--> 257\u001b[0;31m                 \u001b[0mself\u001b[0m\u001b[0;34m.\u001b[0m\u001b[0mresult\u001b[0m \u001b[0;34m=\u001b[0m \u001b[0mself\u001b[0m\u001b[0;34m.\u001b[0m\u001b[0mf\u001b[0m\u001b[0;34m(\u001b[0m\u001b[0;34m**\u001b[0m\u001b[0mself\u001b[0m\u001b[0;34m.\u001b[0m\u001b[0mkwargs\u001b[0m\u001b[0;34m)\u001b[0m\u001b[0;34m\u001b[0m\u001b[0;34m\u001b[0m\u001b[0m\n\u001b[0m\u001b[1;32m    258\u001b[0m                 \u001b[0mshow_inline_matplotlib_plots\u001b[0m\u001b[0;34m(\u001b[0m\u001b[0;34m)\u001b[0m\u001b[0;34m\u001b[0m\u001b[0;34m\u001b[0m\u001b[0m\n\u001b[1;32m    259\u001b[0m                 \u001b[0;32mif\u001b[0m \u001b[0mself\u001b[0m\u001b[0;34m.\u001b[0m\u001b[0mauto_display\u001b[0m \u001b[0;32mand\u001b[0m \u001b[0mself\u001b[0m\u001b[0;34m.\u001b[0m\u001b[0mresult\u001b[0m \u001b[0;32mis\u001b[0m \u001b[0;32mnot\u001b[0m \u001b[0;32mNone\u001b[0m\u001b[0;34m:\u001b[0m\u001b[0;34m\u001b[0m\u001b[0;34m\u001b[0m\u001b[0m\n",
          "\u001b[0;32m/tmp/ipykernel_24999/2523058993.py\u001b[0m in \u001b[0;36maff_per_year\u001b[0;34m(Choisi)\u001b[0m\n\u001b[1;32m     55\u001b[0m                   \u001b[0mx_axis_label\u001b[0m\u001b[0;34m=\u001b[0m\u001b[0;34m\"Période (En mois)\"\u001b[0m\u001b[0;34m,\u001b[0m\u001b[0;34m\u001b[0m\u001b[0;34m\u001b[0m\u001b[0m\n\u001b[1;32m     56\u001b[0m                   \u001b[0my_axis_label\u001b[0m\u001b[0;34m=\u001b[0m\u001b[0;34m\"Prix (En Euro)\"\u001b[0m\u001b[0;34m,\u001b[0m\u001b[0;34m\u001b[0m\u001b[0;34m\u001b[0m\u001b[0m\n\u001b[0;32m---> 57\u001b[0;31m                   \u001b[0mtooltips\u001b[0m \u001b[0;34m=\u001b[0m \u001b[0;34m[\u001b[0m\u001b[0;34m(\u001b[0m\u001b[0;34mf\"En {x}  , le prix du gazole était de {y}\"\u001b[0m\u001b[0;34m)\u001b[0m\u001b[0;34m]\u001b[0m\u001b[0;34m,\u001b[0m\u001b[0;34m\u001b[0m\u001b[0;34m\u001b[0m\u001b[0m\n\u001b[0m\u001b[1;32m     58\u001b[0m                   \u001b[0msizing_mode\u001b[0m\u001b[0;34m=\u001b[0m\u001b[0;34m\"stretch_width\"\u001b[0m\u001b[0;34m\u001b[0m\u001b[0;34m\u001b[0m\u001b[0m\n\u001b[1;32m     59\u001b[0m                  )\n",
          "\u001b[0;31mNameError\u001b[0m: name 'y' is not defined"
         ]
        }
       ]
      }
     },
     "3531c34c38ae4df3824f49b4908533c6": {
      "model_module": "@jupyter-widgets/output",
      "model_module_version": "1.0.0",
      "model_name": "OutputModel",
      "state": {
       "layout": "IPY_MODEL_d338f0d6530c47c39921b40aee2028c9",
       "outputs": [
        {
         "data": {
          "text/html": "\n\n\n\n\n\n  <div class=\"bk-root\" id=\"eebc6fab-3da5-4e1c-9b95-ee8700514af6\" data-root-id=\"3151\"></div>\n"
         },
         "metadata": {},
         "output_type": "display_data"
        },
        {
         "data": {
          "application/javascript": "(function(root) {\n  function embed_document(root) {\n    \n  const docs_json = {\"fba2c12a-8de4-4e31-a98d-b3521f937992\":{\"defs\":[],\"roots\":{\"references\":[{\"attributes\":{\"below\":[{\"id\":\"3162\"}],\"center\":[{\"id\":\"3164\"},{\"id\":\"3168\"},{\"id\":\"3201\"}],\"left\":[{\"id\":\"3165\"}],\"renderers\":[{\"id\":\"3189\"}],\"sizing_mode\":\"stretch_width\",\"title\":{\"id\":\"3152\"},\"toolbar\":{\"id\":\"3177\"},\"x_range\":{\"id\":\"3154\"},\"x_scale\":{\"id\":\"3158\"},\"y_range\":{\"id\":\"3156\"},\"y_scale\":{\"id\":\"3160\"}},\"id\":\"3151\",\"subtype\":\"Figure\",\"type\":\"Plot\"},{\"attributes\":{},\"id\":\"3173\",\"type\":\"ResetTool\"},{\"attributes\":{},\"id\":\"3193\",\"type\":\"BasicTickFormatter\"},{\"attributes\":{},\"id\":\"3198\",\"type\":\"UnionRenderers\"},{\"attributes\":{},\"id\":\"3194\",\"type\":\"AllLabels\"},{\"attributes\":{\"label\":{\"value\":\"Prix par mois\"},\"renderers\":[{\"id\":\"3189\"}]},\"id\":\"3202\",\"type\":\"LegendItem\"},{\"attributes\":{\"bottom_units\":\"screen\",\"coordinates\":null,\"fill_alpha\":0.5,\"fill_color\":\"lightgrey\",\"group\":null,\"left_units\":\"screen\",\"level\":\"overlay\",\"line_alpha\":1.0,\"line_color\":\"black\",\"line_dash\":[4,4],\"line_width\":2,\"right_units\":\"screen\",\"syncable\":false,\"top_units\":\"screen\"},\"id\":\"3175\",\"type\":\"BoxAnnotation\"},{\"attributes\":{},\"id\":\"3196\",\"type\":\"CategoricalTickFormatter\"},{\"attributes\":{\"axis_label\":\"Prix (En Euro)\",\"coordinates\":null,\"formatter\":{\"id\":\"3193\"},\"group\":null,\"major_label_policy\":{\"id\":\"3194\"},\"ticker\":{\"id\":\"3166\"}},\"id\":\"3165\",\"type\":\"LinearAxis\"},{\"attributes\":{\"source\":{\"id\":\"3185\"}},\"id\":\"3190\",\"type\":\"CDSView\"},{\"attributes\":{},\"id\":\"3197\",\"type\":\"AllLabels\"},{\"attributes\":{\"axis_label\":\"P\\u00e9riode (En mois)\",\"coordinates\":null,\"formatter\":{\"id\":\"3196\"},\"group\":null,\"major_label_overrides\":{\"1\":\"Janvier\",\"10\":\"Octobre\",\"11\":\"Novembre\",\"12\":\"Decembre\",\"2\":\"F\\u00e9vrier\",\"3\":\"Mars\",\"4\":\"Avril\",\"5\":\"Mai\",\"6\":\"Juin\",\"7\":\"Juillet\",\"8\":\"Aout\",\"9\":\"Septembre\"},\"major_label_policy\":{\"id\":\"3197\"},\"ticker\":{\"id\":\"3163\"}},\"id\":\"3162\",\"type\":\"CategoricalAxis\"},{\"attributes\":{\"factors\":[\"Janvier\",\"F\\u00e9vrier\",\"Mars\",\"Avril\",\"Mai\",\"Juin\",\"Juillet\",\"Aout\",\"Septembre\",\"Octobre\",\"Novembre\",\"Decembre\"]},\"id\":\"3154\",\"type\":\"FactorRange\"},{\"attributes\":{\"coordinates\":null,\"group\":null,\"text\":\"Evolution du prix du Gazole sur l'ann\\u00e9e 2000\"},\"id\":\"3152\",\"type\":\"Title\"},{\"attributes\":{},\"id\":\"3169\",\"type\":\"PanTool\"},{\"attributes\":{\"overlay\":{\"id\":\"3175\"}},\"id\":\"3171\",\"type\":\"BoxZoomTool\"},{\"attributes\":{},\"id\":\"3163\",\"type\":\"CategoricalTicker\"},{\"attributes\":{},\"id\":\"3199\",\"type\":\"Selection\"},{\"attributes\":{},\"id\":\"3160\",\"type\":\"LinearScale\"},{\"attributes\":{\"coordinates\":null,\"data_source\":{\"id\":\"3185\"},\"glyph\":{\"id\":\"3186\"},\"group\":null,\"hover_glyph\":null,\"muted_glyph\":{\"id\":\"3188\"},\"nonselection_glyph\":{\"id\":\"3187\"},\"view\":{\"id\":\"3190\"}},\"id\":\"3189\",\"type\":\"GlyphRenderer\"},{\"attributes\":{\"logo\":null,\"tools\":[{\"id\":\"3169\"},{\"id\":\"3170\"},{\"id\":\"3171\"},{\"id\":\"3172\"},{\"id\":\"3173\"},{\"id\":\"3174\"},{\"id\":\"3176\"}]},\"id\":\"3177\",\"type\":\"Toolbar\"},{\"attributes\":{\"border_line_alpha\":0.8,\"coordinates\":null,\"group\":null,\"items\":[{\"id\":\"3202\"}],\"location\":\"top_left\"},\"id\":\"3201\",\"type\":\"Legend\"},{\"attributes\":{},\"id\":\"3156\",\"type\":\"DataRange1d\"},{\"attributes\":{},\"id\":\"3170\",\"type\":\"WheelZoomTool\"},{\"attributes\":{},\"id\":\"3158\",\"type\":\"CategoricalScale\"},{\"attributes\":{\"data\":{\"x\":[\"Janvier\",\"F\\u00e9vrier\",\"Mars\",\"Avril\",\"Mai\",\"Juin\",\"Juillet\",\"Aout\",\"Septembre\",\"Octobre\",\"Novembre\",\"Decembre\"],\"y\":{\"__ndarray__\":\"7FG4HoXr6T/sUbgehevpPz0K16NwPeo/mpmZmZmZ6T/sUbgehevpPz0K16NwPeo/j8L1KFyP6j/hehSuR+HqP8P1KFyPwu0/zczMzMzM7D8fhetRuB7tP3sUrkfheuw/\",\"dtype\":\"float64\",\"order\":\"little\",\"shape\":[12]}},\"selected\":{\"id\":\"3199\"},\"selection_policy\":{\"id\":\"3198\"}},\"id\":\"3185\",\"type\":\"ColumnDataSource\"},{\"attributes\":{},\"id\":\"3166\",\"type\":\"BasicTicker\"},{\"attributes\":{\"line_alpha\":0.2,\"line_color\":\"orange\",\"line_width\":3,\"x\":{\"field\":\"x\"},\"y\":{\"field\":\"y\"}},\"id\":\"3188\",\"type\":\"Line\"},{\"attributes\":{},\"id\":\"3172\",\"type\":\"SaveTool\"},{\"attributes\":{\"axis\":{\"id\":\"3165\"},\"coordinates\":null,\"dimension\":1,\"group\":null,\"ticker\":null},\"id\":\"3168\",\"type\":\"Grid\"},{\"attributes\":{\"callback\":null,\"tooltips\":[[\"Prix\",\"@y\"]]},\"id\":\"3176\",\"type\":\"HoverTool\"},{\"attributes\":{\"line_alpha\":0.1,\"line_color\":\"orange\",\"line_width\":3,\"x\":{\"field\":\"x\"},\"y\":{\"field\":\"y\"}},\"id\":\"3187\",\"type\":\"Line\"},{\"attributes\":{\"axis\":{\"id\":\"3162\"},\"coordinates\":null,\"group\":null,\"ticker\":null},\"id\":\"3164\",\"type\":\"Grid\"},{\"attributes\":{\"line_color\":\"orange\",\"line_width\":3,\"x\":{\"field\":\"x\"},\"y\":{\"field\":\"y\"}},\"id\":\"3186\",\"type\":\"Line\"},{\"attributes\":{},\"id\":\"3174\",\"type\":\"HelpTool\"}],\"root_ids\":[\"3151\"]},\"title\":\"Bokeh Application\",\"version\":\"2.4.1\"}};\n  const render_items = [{\"docid\":\"fba2c12a-8de4-4e31-a98d-b3521f937992\",\"root_ids\":[\"3151\"],\"roots\":{\"3151\":\"eebc6fab-3da5-4e1c-9b95-ee8700514af6\"}}];\n  root.Bokeh.embed.embed_items_notebook(docs_json, render_items);\n\n  }\n  if (root.Bokeh !== undefined) {\n    embed_document(root);\n  } else {\n    let attempts = 0;\n    const timer = setInterval(function(root) {\n      if (root.Bokeh !== undefined) {\n        clearInterval(timer);\n        embed_document(root);\n      } else {\n        attempts++;\n        if (attempts > 100) {\n          clearInterval(timer);\n          console.log(\"Bokeh: ERROR: Unable to run BokehJS code because BokehJS library is missing\");\n        }\n      }\n    }, 10, root)\n  }\n})(window);",
          "application/vnd.bokehjs_exec.v0+json": ""
         },
         "metadata": {
          "application/vnd.bokehjs_exec.v0+json": {
           "id": "3151"
          }
         },
         "output_type": "display_data"
        }
       ]
      }
     },
     "35386e283a1f4b3f8b797fba2f4e39c7": {
      "model_module": "@jupyter-widgets/output",
      "model_module_version": "1.0.0",
      "model_name": "OutputModel",
      "state": {
       "layout": "IPY_MODEL_d56e8145a7dd44a89589f678ab2bc363",
       "outputs": [
        {
         "ename": "ValueError",
         "evalue": "failed to validate LinearAxis(id='1890', ...).ticker: expected an instance of type Ticker, got 0       Janvier\n1       Février\n2          Mars\n3         Avril\n4           Mai\n5          Juin\n6       Juillet\n7          Aout\n8     Septembre\n9       Octobre\n10     Novembre\n11     Decembre\nName: Période, dtype: object of type Series",
         "output_type": "error",
         "traceback": [
          "\u001b[0;31m---------------------------------------------------------------------------\u001b[0m",
          "\u001b[0;31mValueError\u001b[0m                                Traceback (most recent call last)",
          "\u001b[0;32m~/anaconda3/lib/python3.9/site-packages/ipywidgets/widgets/interaction.py\u001b[0m in \u001b[0;36mupdate\u001b[0;34m(self, *args)\u001b[0m\n\u001b[1;32m    255\u001b[0m                     \u001b[0mvalue\u001b[0m \u001b[0;34m=\u001b[0m \u001b[0mwidget\u001b[0m\u001b[0;34m.\u001b[0m\u001b[0mget_interact_value\u001b[0m\u001b[0;34m(\u001b[0m\u001b[0;34m)\u001b[0m\u001b[0;34m\u001b[0m\u001b[0;34m\u001b[0m\u001b[0m\n\u001b[1;32m    256\u001b[0m                     \u001b[0mself\u001b[0m\u001b[0;34m.\u001b[0m\u001b[0mkwargs\u001b[0m\u001b[0;34m[\u001b[0m\u001b[0mwidget\u001b[0m\u001b[0;34m.\u001b[0m\u001b[0m_kwarg\u001b[0m\u001b[0;34m]\u001b[0m \u001b[0;34m=\u001b[0m \u001b[0mvalue\u001b[0m\u001b[0;34m\u001b[0m\u001b[0;34m\u001b[0m\u001b[0m\n\u001b[0;32m--> 257\u001b[0;31m                 \u001b[0mself\u001b[0m\u001b[0;34m.\u001b[0m\u001b[0mresult\u001b[0m \u001b[0;34m=\u001b[0m \u001b[0mself\u001b[0m\u001b[0;34m.\u001b[0m\u001b[0mf\u001b[0m\u001b[0;34m(\u001b[0m\u001b[0;34m**\u001b[0m\u001b[0mself\u001b[0m\u001b[0;34m.\u001b[0m\u001b[0mkwargs\u001b[0m\u001b[0;34m)\u001b[0m\u001b[0;34m\u001b[0m\u001b[0;34m\u001b[0m\u001b[0m\n\u001b[0m\u001b[1;32m    258\u001b[0m                 \u001b[0mshow_inline_matplotlib_plots\u001b[0m\u001b[0;34m(\u001b[0m\u001b[0;34m)\u001b[0m\u001b[0;34m\u001b[0m\u001b[0;34m\u001b[0m\u001b[0m\n\u001b[1;32m    259\u001b[0m                 \u001b[0;32mif\u001b[0m \u001b[0mself\u001b[0m\u001b[0;34m.\u001b[0m\u001b[0mauto_display\u001b[0m \u001b[0;32mand\u001b[0m \u001b[0mself\u001b[0m\u001b[0;34m.\u001b[0m\u001b[0mresult\u001b[0m \u001b[0;32mis\u001b[0m \u001b[0;32mnot\u001b[0m \u001b[0;32mNone\u001b[0m\u001b[0;34m:\u001b[0m\u001b[0;34m\u001b[0m\u001b[0;34m\u001b[0m\u001b[0m\n",
          "\u001b[0;32m/tmp/ipykernel_24999/3420287145.py\u001b[0m in \u001b[0;36maff_per_year\u001b[0;34m(Choisi)\u001b[0m\n\u001b[1;32m     68\u001b[0m         \u001b[0;31m#graph_per_year.background_fill_color = \"beige\"\u001b[0m\u001b[0;34m\u001b[0m\u001b[0;34m\u001b[0m\u001b[0m\n\u001b[1;32m     69\u001b[0m         \u001b[0mgraph_per_year\u001b[0m\u001b[0;34m.\u001b[0m\u001b[0mtoolbar\u001b[0m\u001b[0;34m.\u001b[0m\u001b[0mlogo\u001b[0m \u001b[0;34m=\u001b[0m \u001b[0;32mNone\u001b[0m\u001b[0;34m\u001b[0m\u001b[0;34m\u001b[0m\u001b[0m\n\u001b[0;32m---> 70\u001b[0;31m         \u001b[0mgraph_per_year\u001b[0m\u001b[0;34m.\u001b[0m\u001b[0mxaxis\u001b[0m\u001b[0;34m.\u001b[0m\u001b[0mticker\u001b[0m \u001b[0;34m=\u001b[0m\u001b[0mz\u001b[0m\u001b[0;34m[\u001b[0m\u001b[0;34m\"Période\"\u001b[0m\u001b[0;34m]\u001b[0m\u001b[0;34m\u001b[0m\u001b[0;34m\u001b[0m\u001b[0m\n\u001b[0m\u001b[1;32m     71\u001b[0m \u001b[0;34m\u001b[0m\u001b[0m\n\u001b[1;32m     72\u001b[0m         \u001b[0mgraph_per_year\u001b[0m\u001b[0;34m.\u001b[0m\u001b[0mxaxis\u001b[0m\u001b[0;34m.\u001b[0m\u001b[0mmajor_label_overrides\u001b[0m \u001b[0;34m=\u001b[0m \u001b[0mdict_mois\u001b[0m\u001b[0;34m\u001b[0m\u001b[0;34m\u001b[0m\u001b[0m\n",
          "\u001b[0;32m~/anaconda3/lib/python3.9/site-packages/bokeh/models/plots.py\u001b[0m in \u001b[0;36m__setattr__\u001b[0;34m(self, attr, value)\u001b[0m\n\u001b[1;32m    785\u001b[0m     \u001b[0;32mdef\u001b[0m \u001b[0m__setattr__\u001b[0m\u001b[0;34m(\u001b[0m\u001b[0mself\u001b[0m\u001b[0;34m,\u001b[0m \u001b[0mattr\u001b[0m\u001b[0;34m,\u001b[0m \u001b[0mvalue\u001b[0m\u001b[0;34m)\u001b[0m\u001b[0;34m:\u001b[0m\u001b[0;34m\u001b[0m\u001b[0;34m\u001b[0m\u001b[0m\n\u001b[1;32m    786\u001b[0m         \u001b[0;32mfor\u001b[0m \u001b[0mx\u001b[0m \u001b[0;32min\u001b[0m \u001b[0mself\u001b[0m\u001b[0;34m:\u001b[0m\u001b[0;34m\u001b[0m\u001b[0;34m\u001b[0m\u001b[0m\n\u001b[0;32m--> 787\u001b[0;31m             \u001b[0msetattr\u001b[0m\u001b[0;34m(\u001b[0m\u001b[0mx\u001b[0m\u001b[0;34m,\u001b[0m \u001b[0mattr\u001b[0m\u001b[0;34m,\u001b[0m \u001b[0mvalue\u001b[0m\u001b[0;34m)\u001b[0m\u001b[0;34m\u001b[0m\u001b[0;34m\u001b[0m\u001b[0m\n\u001b[0m\u001b[1;32m    788\u001b[0m     \u001b[0;32mdef\u001b[0m \u001b[0m__getattribute__\u001b[0m\u001b[0;34m(\u001b[0m\u001b[0mself\u001b[0m\u001b[0;34m,\u001b[0m \u001b[0mattr\u001b[0m\u001b[0;34m)\u001b[0m\u001b[0;34m:\u001b[0m\u001b[0;34m\u001b[0m\u001b[0;34m\u001b[0m\u001b[0m\n\u001b[1;32m    789\u001b[0m         \u001b[0;32mif\u001b[0m \u001b[0mattr\u001b[0m \u001b[0;32min\u001b[0m \u001b[0mdir\u001b[0m\u001b[0;34m(\u001b[0m\u001b[0mlist\u001b[0m\u001b[0;34m)\u001b[0m\u001b[0;34m:\u001b[0m\u001b[0;34m\u001b[0m\u001b[0;34m\u001b[0m\u001b[0m\n",
          "\u001b[0;32m~/anaconda3/lib/python3.9/site-packages/bokeh/core/has_props.py\u001b[0m in \u001b[0;36m__setattr__\u001b[0;34m(self, name, value)\u001b[0m\n\u001b[1;32m    228\u001b[0m         \u001b[0mproperties\u001b[0m \u001b[0;34m=\u001b[0m \u001b[0mself\u001b[0m\u001b[0;34m.\u001b[0m\u001b[0mproperties\u001b[0m\u001b[0;34m(\u001b[0m\u001b[0m_with_props\u001b[0m\u001b[0;34m=\u001b[0m\u001b[0;32mTrue\u001b[0m\u001b[0;34m)\u001b[0m\u001b[0;34m\u001b[0m\u001b[0;34m\u001b[0m\u001b[0m\n\u001b[1;32m    229\u001b[0m         \u001b[0;32mif\u001b[0m \u001b[0mname\u001b[0m \u001b[0;32min\u001b[0m \u001b[0mproperties\u001b[0m\u001b[0;34m:\u001b[0m\u001b[0;34m\u001b[0m\u001b[0;34m\u001b[0m\u001b[0m\n\u001b[0;32m--> 230\u001b[0;31m             \u001b[0;32mreturn\u001b[0m \u001b[0msuper\u001b[0m\u001b[0;34m(\u001b[0m\u001b[0;34m)\u001b[0m\u001b[0;34m.\u001b[0m\u001b[0m__setattr__\u001b[0m\u001b[0;34m(\u001b[0m\u001b[0mname\u001b[0m\u001b[0;34m,\u001b[0m \u001b[0mvalue\u001b[0m\u001b[0;34m)\u001b[0m\u001b[0;34m\u001b[0m\u001b[0;34m\u001b[0m\u001b[0m\n\u001b[0m\u001b[1;32m    231\u001b[0m \u001b[0;34m\u001b[0m\u001b[0m\n\u001b[1;32m    232\u001b[0m         \u001b[0mdescriptor\u001b[0m \u001b[0;34m=\u001b[0m \u001b[0mgetattr\u001b[0m\u001b[0;34m(\u001b[0m\u001b[0mself\u001b[0m\u001b[0;34m.\u001b[0m\u001b[0m__class__\u001b[0m\u001b[0;34m,\u001b[0m \u001b[0mname\u001b[0m\u001b[0;34m,\u001b[0m \u001b[0;32mNone\u001b[0m\u001b[0;34m)\u001b[0m\u001b[0;34m\u001b[0m\u001b[0;34m\u001b[0m\u001b[0m\n",
          "\u001b[0;32m~/anaconda3/lib/python3.9/site-packages/bokeh/core/property/descriptors.py\u001b[0m in \u001b[0;36m__set__\u001b[0;34m(self, obj, value, setter)\u001b[0m\n\u001b[1;32m    281\u001b[0m             \u001b[0;32mraise\u001b[0m \u001b[0mRuntimeError\u001b[0m\u001b[0;34m(\u001b[0m\u001b[0;34mf\"{class_name}.{self.name} is a readonly property\"\u001b[0m\u001b[0;34m)\u001b[0m\u001b[0;34m\u001b[0m\u001b[0;34m\u001b[0m\u001b[0m\n\u001b[1;32m    282\u001b[0m \u001b[0;34m\u001b[0m\u001b[0m\n\u001b[0;32m--> 283\u001b[0;31m         \u001b[0mvalue\u001b[0m \u001b[0;34m=\u001b[0m \u001b[0mself\u001b[0m\u001b[0;34m.\u001b[0m\u001b[0mproperty\u001b[0m\u001b[0;34m.\u001b[0m\u001b[0mprepare_value\u001b[0m\u001b[0;34m(\u001b[0m\u001b[0mobj\u001b[0m\u001b[0;34m,\u001b[0m \u001b[0mself\u001b[0m\u001b[0;34m.\u001b[0m\u001b[0mname\u001b[0m\u001b[0;34m,\u001b[0m \u001b[0mvalue\u001b[0m\u001b[0;34m)\u001b[0m\u001b[0;34m\u001b[0m\u001b[0;34m\u001b[0m\u001b[0m\n\u001b[0m\u001b[1;32m    284\u001b[0m         \u001b[0mold\u001b[0m \u001b[0;34m=\u001b[0m \u001b[0mself\u001b[0m\u001b[0;34m.\u001b[0m\u001b[0m_get\u001b[0m\u001b[0;34m(\u001b[0m\u001b[0mobj\u001b[0m\u001b[0;34m)\u001b[0m\u001b[0;34m\u001b[0m\u001b[0;34m\u001b[0m\u001b[0m\n\u001b[1;32m    285\u001b[0m         \u001b[0mself\u001b[0m\u001b[0;34m.\u001b[0m\u001b[0m_set\u001b[0m\u001b[0;34m(\u001b[0m\u001b[0mobj\u001b[0m\u001b[0;34m,\u001b[0m \u001b[0mold\u001b[0m\u001b[0;34m,\u001b[0m \u001b[0mvalue\u001b[0m\u001b[0;34m,\u001b[0m \u001b[0msetter\u001b[0m\u001b[0;34m=\u001b[0m\u001b[0msetter\u001b[0m\u001b[0;34m)\u001b[0m\u001b[0;34m\u001b[0m\u001b[0;34m\u001b[0m\u001b[0m\n",
          "\u001b[0;32m~/anaconda3/lib/python3.9/site-packages/bokeh/core/property/bases.py\u001b[0m in \u001b[0;36mprepare_value\u001b[0;34m(self, owner, name, value, hint)\u001b[0m\n\u001b[1;32m    363\u001b[0m         \u001b[0;32melse\u001b[0m\u001b[0;34m:\u001b[0m\u001b[0;34m\u001b[0m\u001b[0;34m\u001b[0m\u001b[0m\n\u001b[1;32m    364\u001b[0m             \u001b[0mobj_repr\u001b[0m \u001b[0;34m=\u001b[0m \u001b[0mowner\u001b[0m \u001b[0;32mif\u001b[0m \u001b[0misinstance\u001b[0m\u001b[0;34m(\u001b[0m\u001b[0mowner\u001b[0m\u001b[0;34m,\u001b[0m \u001b[0mHasProps\u001b[0m\u001b[0;34m)\u001b[0m \u001b[0;32melse\u001b[0m \u001b[0mowner\u001b[0m\u001b[0;34m.\u001b[0m\u001b[0m__name__\u001b[0m\u001b[0;34m\u001b[0m\u001b[0;34m\u001b[0m\u001b[0m\n\u001b[0;32m--> 365\u001b[0;31m             \u001b[0;32mraise\u001b[0m \u001b[0mValueError\u001b[0m\u001b[0;34m(\u001b[0m\u001b[0;34mf\"failed to validate {obj_repr}.{name}: {error}\"\u001b[0m\u001b[0;34m)\u001b[0m\u001b[0;34m\u001b[0m\u001b[0;34m\u001b[0m\u001b[0m\n\u001b[0m\u001b[1;32m    366\u001b[0m \u001b[0;34m\u001b[0m\u001b[0m\n\u001b[1;32m    367\u001b[0m         \u001b[0;32mif\u001b[0m \u001b[0misinstance\u001b[0m\u001b[0;34m(\u001b[0m\u001b[0mowner\u001b[0m\u001b[0;34m,\u001b[0m \u001b[0mHasProps\u001b[0m\u001b[0;34m)\u001b[0m\u001b[0;34m:\u001b[0m\u001b[0;34m\u001b[0m\u001b[0;34m\u001b[0m\u001b[0m\n",
          "\u001b[0;31mValueError\u001b[0m: failed to validate LinearAxis(id='1890', ...).ticker: expected an instance of type Ticker, got 0       Janvier\n1       Février\n2          Mars\n3         Avril\n4           Mai\n5          Juin\n6       Juillet\n7          Aout\n8     Septembre\n9       Octobre\n10     Novembre\n11     Decembre\nName: Période, dtype: object of type Series"
         ]
        }
       ]
      }
     },
     "3596c4981b3c419f8d7da40a891403bc": {
      "model_module": "@jupyter-widgets/base",
      "model_module_version": "1.2.0",
      "model_name": "LayoutModel",
      "state": {}
     },
     "3675cdc9c5ea4fd892d093fdb71c8973": {
      "model_module": "@jupyter-widgets/base",
      "model_module_version": "1.2.0",
      "model_name": "LayoutModel",
      "state": {}
     },
     "37ec0f1a23f145c2a3af1f5ab5d875a8": {
      "model_module": "@jupyter-widgets/base",
      "model_module_version": "1.2.0",
      "model_name": "LayoutModel",
      "state": {}
     },
     "398cedf5ddb94aaca4bb544f7edd40d0": {
      "model_module": "@jupyter-widgets/controls",
      "model_module_version": "1.5.0",
      "model_name": "DropdownModel",
      "state": {
       "_options_labels": [
        "Graph",
        "1992",
        "1993",
        "1994",
        "1995",
        "1996",
        "1997",
        "1998",
        "1999",
        "2000",
        "2001",
        "2002",
        "2003",
        "2004",
        "2005",
        "2006",
        "2007",
        "2008",
        "2009",
        "2010",
        "2011",
        "2012",
        "2013",
        "2014",
        "2015",
        "2016",
        "2017",
        "2018",
        "2019",
        "2020",
        "2021",
        "2022"
       ],
       "description": "Choisi",
       "index": 4,
       "layout": "IPY_MODEL_a78160f5a0a34c299626d30e7f359530",
       "style": "IPY_MODEL_e15596cbd850406baee7494eca560641"
      }
     },
     "3a61bd830bdf4dbcb31319bab80d1b2c": {
      "model_module": "@jupyter-widgets/controls",
      "model_module_version": "1.5.0",
      "model_name": "DropdownModel",
      "state": {
       "_options_labels": [
        "Graph",
        "1992",
        "1993",
        "1994",
        "1995",
        "1996",
        "1997",
        "1998",
        "1999",
        "2000",
        "2001",
        "2002",
        "2003",
        "2004",
        "2005",
        "2006",
        "2007",
        "2008",
        "2009",
        "2010",
        "2011",
        "2012",
        "2013",
        "2014",
        "2015",
        "2016",
        "2017",
        "2018",
        "2019",
        "2020",
        "2021",
        "2022"
       ],
       "description": "Choisi",
       "index": 0,
       "layout": "IPY_MODEL_839853bf8aba46a78d8f59c649605e98",
       "style": "IPY_MODEL_039de85188ca4a8c9a35d3c7f3332141"
      }
     },
     "3adb87c17aa94c13912ffb1be05922fa": {
      "model_module": "@jupyter-widgets/output",
      "model_module_version": "1.0.0",
      "model_name": "OutputModel",
      "state": {
       "layout": "IPY_MODEL_8cf17a45c00d4804a35f9fb41eccd0a8",
       "outputs": [
        {
         "data": {
          "text/html": "\n\n\n\n\n\n  <div class=\"bk-root\" id=\"1975a19c-17f1-4f44-bc5a-329f0bca5527\" data-root-id=\"1961\"></div>\n"
         },
         "metadata": {},
         "output_type": "display_data"
        },
        {
         "data": {
          "application/javascript": "(function(root) {\n  function embed_document(root) {\n    \n  const docs_json = {\"852e016e-608b-40de-8add-8489ac8b18e3\":{\"defs\":[],\"roots\":{\"references\":[{\"attributes\":{\"below\":[{\"id\":\"1972\"}],\"center\":[{\"id\":\"1974\"},{\"id\":\"1978\"},{\"id\":\"2011\"}],\"left\":[{\"id\":\"1975\"}],\"renderers\":[{\"id\":\"1999\"}],\"sizing_mode\":\"stretch_width\",\"title\":{\"id\":\"1962\"},\"toolbar\":{\"id\":\"1987\"},\"x_range\":{\"id\":\"1964\"},\"x_scale\":{\"id\":\"1968\"},\"y_range\":{\"id\":\"1966\"},\"y_scale\":{\"id\":\"1970\"}},\"id\":\"1961\",\"subtype\":\"Figure\",\"type\":\"Plot\"},{\"attributes\":{\"coordinates\":null,\"group\":null,\"text\":\"Evolution du prix du Gazole sur l'ann\\u00e9e 2005\"},\"id\":\"1962\",\"type\":\"Title\"},{\"attributes\":{},\"id\":\"1973\",\"type\":\"CategoricalTicker\"},{\"attributes\":{\"callback\":null,\"tooltips\":[[\"Prix \",\"@y\"],[\"Mois \",\"@x\"]]},\"id\":\"1986\",\"type\":\"HoverTool\"},{\"attributes\":{\"axis\":{\"id\":\"1972\"},\"coordinates\":null,\"group\":null,\"ticker\":null},\"id\":\"1974\",\"type\":\"Grid\"},{\"attributes\":{\"axis_label\":\"P\\u00e9riode (En mois)\",\"coordinates\":null,\"formatter\":{\"id\":\"2006\"},\"group\":null,\"major_label_policy\":{\"id\":\"2007\"},\"ticker\":{\"id\":\"1973\"}},\"id\":\"1972\",\"type\":\"CategoricalAxis\"},{\"attributes\":{\"border_line_alpha\":0.8,\"coordinates\":null,\"group\":null,\"items\":[{\"id\":\"2012\"}],\"label_text_font_style\":\"italic\",\"location\":\"top_left\"},\"id\":\"2011\",\"type\":\"Legend\"},{\"attributes\":{},\"id\":\"2003\",\"type\":\"BasicTickFormatter\"},{\"attributes\":{\"line_alpha\":0.1,\"line_color\":\"orange\",\"line_width\":3,\"x\":{\"field\":\"x\"},\"y\":{\"field\":\"y\"}},\"id\":\"1997\",\"type\":\"Line\"},{\"attributes\":{},\"id\":\"1970\",\"type\":\"LinearScale\"},{\"attributes\":{},\"id\":\"2004\",\"type\":\"AllLabels\"},{\"attributes\":{},\"id\":\"1980\",\"type\":\"WheelZoomTool\"},{\"attributes\":{\"axis_label\":\"Prix (En Euro)\",\"coordinates\":null,\"formatter\":{\"id\":\"2003\"},\"group\":null,\"major_label_policy\":{\"id\":\"2004\"},\"ticker\":{\"id\":\"1976\"}},\"id\":\"1975\",\"type\":\"LinearAxis\"},{\"attributes\":{\"axis\":{\"id\":\"1975\"},\"coordinates\":null,\"dimension\":1,\"group\":null,\"ticker\":null},\"id\":\"1978\",\"type\":\"Grid\"},{\"attributes\":{},\"id\":\"2006\",\"type\":\"CategoricalTickFormatter\"},{\"attributes\":{},\"id\":\"1976\",\"type\":\"BasicTicker\"},{\"attributes\":{},\"id\":\"2007\",\"type\":\"AllLabels\"},{\"attributes\":{},\"id\":\"1984\",\"type\":\"HelpTool\"},{\"attributes\":{},\"id\":\"1979\",\"type\":\"PanTool\"},{\"attributes\":{\"label\":{\"value\":\"Prix par mois\"},\"renderers\":[{\"id\":\"1999\"}]},\"id\":\"2012\",\"type\":\"LegendItem\"},{\"attributes\":{\"overlay\":{\"id\":\"1985\"}},\"id\":\"1981\",\"type\":\"BoxZoomTool\"},{\"attributes\":{\"line_alpha\":0.2,\"line_color\":\"orange\",\"line_width\":3,\"x\":{\"field\":\"x\"},\"y\":{\"field\":\"y\"}},\"id\":\"1998\",\"type\":\"Line\"},{\"attributes\":{},\"id\":\"1982\",\"type\":\"SaveTool\"},{\"attributes\":{\"source\":{\"id\":\"1995\"}},\"id\":\"2000\",\"type\":\"CDSView\"},{\"attributes\":{},\"id\":\"1983\",\"type\":\"ResetTool\"},{\"attributes\":{\"coordinates\":null,\"data_source\":{\"id\":\"1995\"},\"glyph\":{\"id\":\"1996\"},\"group\":null,\"hover_glyph\":null,\"muted_glyph\":{\"id\":\"1998\"},\"nonselection_glyph\":{\"id\":\"1997\"},\"view\":{\"id\":\"2000\"}},\"id\":\"1999\",\"type\":\"GlyphRenderer\"},{\"attributes\":{\"bottom_units\":\"screen\",\"coordinates\":null,\"fill_alpha\":0.5,\"fill_color\":\"lightgrey\",\"group\":null,\"left_units\":\"screen\",\"level\":\"overlay\",\"line_alpha\":1.0,\"line_color\":\"black\",\"line_dash\":[4,4],\"line_width\":2,\"right_units\":\"screen\",\"syncable\":false,\"top_units\":\"screen\"},\"id\":\"1985\",\"type\":\"BoxAnnotation\"},{\"attributes\":{},\"id\":\"1968\",\"type\":\"CategoricalScale\"},{\"attributes\":{\"line_color\":\"orange\",\"line_width\":3,\"x\":{\"field\":\"x\"},\"y\":{\"field\":\"y\"}},\"id\":\"1996\",\"type\":\"Line\"},{\"attributes\":{},\"id\":\"2008\",\"type\":\"UnionRenderers\"},{\"attributes\":{},\"id\":\"2009\",\"type\":\"Selection\"},{\"attributes\":{\"logo\":null,\"tools\":[{\"id\":\"1979\"},{\"id\":\"1980\"},{\"id\":\"1981\"},{\"id\":\"1982\"},{\"id\":\"1983\"},{\"id\":\"1984\"},{\"id\":\"1986\"}]},\"id\":\"1987\",\"type\":\"Toolbar\"},{\"attributes\":{},\"id\":\"1966\",\"type\":\"DataRange1d\"},{\"attributes\":{\"data\":{\"x\":[\"Janvier\",\"F\\u00e9vrier\",\"Mars\",\"Avril\",\"Mai\",\"Juin\",\"Juillet\",\"Ao\\u00fbt\",\"Septembre\",\"Octobre\",\"Novembre\",\"D\\u00e9cembre\"],\"y\":{\"__ndarray__\":\"w/UoXI/C7T8UrkfhehTuP65H4XoUru8/UrgehetR8D+uR+F6FK7vP1K4HoXrUfA/9ihcj8L18D8fhetRuB7xP5qZmZmZmfE/7FG4HoXr8T8fhetRuB7xP6RwPQrXo/A/\",\"dtype\":\"float64\",\"order\":\"little\",\"shape\":[12]}},\"selected\":{\"id\":\"2009\"},\"selection_policy\":{\"id\":\"2008\"}},\"id\":\"1995\",\"type\":\"ColumnDataSource\"},{\"attributes\":{\"factors\":[\"Janvier\",\"F\\u00e9vrier\",\"Mars\",\"Avril\",\"Mai\",\"Juin\",\"Juillet\",\"Ao\\u00fbt\",\"Septembre\",\"Octobre\",\"Novembre\",\"D\\u00e9cembre\"]},\"id\":\"1964\",\"type\":\"FactorRange\"}],\"root_ids\":[\"1961\"]},\"title\":\"Bokeh Application\",\"version\":\"2.4.1\"}};\n  const render_items = [{\"docid\":\"852e016e-608b-40de-8add-8489ac8b18e3\",\"root_ids\":[\"1961\"],\"roots\":{\"1961\":\"1975a19c-17f1-4f44-bc5a-329f0bca5527\"}}];\n  root.Bokeh.embed.embed_items_notebook(docs_json, render_items);\n\n  }\n  if (root.Bokeh !== undefined) {\n    embed_document(root);\n  } else {\n    let attempts = 0;\n    const timer = setInterval(function(root) {\n      if (root.Bokeh !== undefined) {\n        clearInterval(timer);\n        embed_document(root);\n      } else {\n        attempts++;\n        if (attempts > 100) {\n          clearInterval(timer);\n          console.log(\"Bokeh: ERROR: Unable to run BokehJS code because BokehJS library is missing\");\n        }\n      }\n    }, 10, root)\n  }\n})(window);",
          "application/vnd.bokehjs_exec.v0+json": ""
         },
         "metadata": {
          "application/vnd.bokehjs_exec.v0+json": {
           "id": "1961"
          }
         },
         "output_type": "display_data"
        }
       ]
      }
     },
     "3ae96bcb7ffd4c4d9e4ac402d9ecbdbd": {
      "model_module": "@jupyter-widgets/controls",
      "model_module_version": "1.5.0",
      "model_name": "DropdownModel",
      "state": {
       "_options_labels": [
        "Graph",
        "1992",
        "1993",
        "1994",
        "1995",
        "1996",
        "1997",
        "1998",
        "1999",
        "2000",
        "2001",
        "2002",
        "2003",
        "2004",
        "2005",
        "2006",
        "2007",
        "2008",
        "2009",
        "2010",
        "2011",
        "2012",
        "2013",
        "2014",
        "2015",
        "2016",
        "2017",
        "2018",
        "2019",
        "2020",
        "2021",
        "2022"
       ],
       "description": "Choisi",
       "index": 9,
       "layout": "IPY_MODEL_8bd83da511764a19b8de1e3b86d304a2",
       "style": "IPY_MODEL_66484abe4e414038947746d162136ae5"
      }
     },
     "3d89f01f73f34618b72020ec31bd9cc9": {
      "model_module": "@jupyter-widgets/controls",
      "model_module_version": "1.5.0",
      "model_name": "DescriptionStyleModel",
      "state": {
       "description_width": ""
      }
     },
     "3ebfe5b2b70343909ec410e67ac2a4d3": {
      "model_module": "@jupyter-widgets/controls",
      "model_module_version": "1.5.0",
      "model_name": "DescriptionStyleModel",
      "state": {
       "description_width": ""
      }
     },
     "3fa612d6093b42a480ac17c264711cb4": {
      "model_module": "@jupyter-widgets/base",
      "model_module_version": "1.2.0",
      "model_name": "LayoutModel",
      "state": {}
     },
     "3fee7b0686b847049ff92c869bbf29eb": {
      "model_module": "@jupyter-widgets/base",
      "model_module_version": "1.2.0",
      "model_name": "LayoutModel",
      "state": {}
     },
     "4097d2c95c5a44759f557e5d13a9b488": {
      "model_module": "@jupyter-widgets/base",
      "model_module_version": "1.2.0",
      "model_name": "LayoutModel",
      "state": {}
     },
     "40aaf4133bf041338d1ccf0962a6ef0a": {
      "model_module": "@jupyter-widgets/controls",
      "model_module_version": "1.5.0",
      "model_name": "VBoxModel",
      "state": {
       "_dom_classes": [
        "widget-interact"
       ],
       "children": [
        "IPY_MODEL_ea2412ff60f049ce82aa7b5cfb9de644",
        "IPY_MODEL_958b64f80067433c8f04a93b9ad4606e"
       ],
       "layout": "IPY_MODEL_41cbe6703d04491a9c5bda1e78ca7fd4"
      }
     },
     "41cbe6703d04491a9c5bda1e78ca7fd4": {
      "model_module": "@jupyter-widgets/base",
      "model_module_version": "1.2.0",
      "model_name": "LayoutModel",
      "state": {}
     },
     "42954cce81f044cfbb2a5f8cbf907f98": {
      "model_module": "@jupyter-widgets/controls",
      "model_module_version": "1.5.0",
      "model_name": "VBoxModel",
      "state": {
       "_dom_classes": [
        "widget-interact"
       ],
       "children": [
        "IPY_MODEL_c698bd74f6054736b7573cf630ef5686",
        "IPY_MODEL_a4ee4b563e514cedb90049fa9971d3d8"
       ],
       "layout": "IPY_MODEL_28fb5fccdba54985869a0c10f3166d9d"
      }
     },
     "43678a7396254bf2a34eae4b13bf4eed": {
      "model_module": "@jupyter-widgets/controls",
      "model_module_version": "1.5.0",
      "model_name": "VBoxModel",
      "state": {
       "_dom_classes": [
        "widget-interact"
       ],
       "children": [
        "IPY_MODEL_e2f7d753dfe24eb3b7e38a004d2547c6",
        "IPY_MODEL_65a1dedc91234b00a8e279b294d57858"
       ],
       "layout": "IPY_MODEL_5689cf56d6ff4b259780beef1fcf2ef3"
      }
     },
     "454b25c2f37446e5bee3043c6d9a39b5": {
      "model_module": "@jupyter-widgets/controls",
      "model_module_version": "1.5.0",
      "model_name": "DescriptionStyleModel",
      "state": {
       "description_width": ""
      }
     },
     "481b091697554800a1c03f83c0a2c98a": {
      "model_module": "@jupyter-widgets/output",
      "model_module_version": "1.0.0",
      "model_name": "OutputModel",
      "state": {
       "layout": "IPY_MODEL_14f8821416ae45b2ada3240cfee300ca",
       "outputs": [
        {
         "ename": "ValueError",
         "evalue": "failed to validate FigureOptions(...).tooltips: expected an element of either Null, Instance(Template), String or List(Tuple(String, String)), got [('En ', '@x ', ', le prix du gazole était de ', '@y')]",
         "output_type": "error",
         "traceback": [
          "\u001b[0;31m---------------------------------------------------------------------------\u001b[0m",
          "\u001b[0;31mValueError\u001b[0m                                Traceback (most recent call last)",
          "\u001b[0;32m~/anaconda3/lib/python3.9/site-packages/ipywidgets/widgets/interaction.py\u001b[0m in \u001b[0;36mupdate\u001b[0;34m(self, *args)\u001b[0m\n\u001b[1;32m    255\u001b[0m                     \u001b[0mvalue\u001b[0m \u001b[0;34m=\u001b[0m \u001b[0mwidget\u001b[0m\u001b[0;34m.\u001b[0m\u001b[0mget_interact_value\u001b[0m\u001b[0;34m(\u001b[0m\u001b[0;34m)\u001b[0m\u001b[0;34m\u001b[0m\u001b[0;34m\u001b[0m\u001b[0m\n\u001b[1;32m    256\u001b[0m                     \u001b[0mself\u001b[0m\u001b[0;34m.\u001b[0m\u001b[0mkwargs\u001b[0m\u001b[0;34m[\u001b[0m\u001b[0mwidget\u001b[0m\u001b[0;34m.\u001b[0m\u001b[0m_kwarg\u001b[0m\u001b[0;34m]\u001b[0m \u001b[0;34m=\u001b[0m \u001b[0mvalue\u001b[0m\u001b[0;34m\u001b[0m\u001b[0;34m\u001b[0m\u001b[0m\n\u001b[0;32m--> 257\u001b[0;31m                 \u001b[0mself\u001b[0m\u001b[0;34m.\u001b[0m\u001b[0mresult\u001b[0m \u001b[0;34m=\u001b[0m \u001b[0mself\u001b[0m\u001b[0;34m.\u001b[0m\u001b[0mf\u001b[0m\u001b[0;34m(\u001b[0m\u001b[0;34m**\u001b[0m\u001b[0mself\u001b[0m\u001b[0;34m.\u001b[0m\u001b[0mkwargs\u001b[0m\u001b[0;34m)\u001b[0m\u001b[0;34m\u001b[0m\u001b[0;34m\u001b[0m\u001b[0m\n\u001b[0m\u001b[1;32m    258\u001b[0m                 \u001b[0mshow_inline_matplotlib_plots\u001b[0m\u001b[0;34m(\u001b[0m\u001b[0;34m)\u001b[0m\u001b[0;34m\u001b[0m\u001b[0;34m\u001b[0m\u001b[0m\n\u001b[1;32m    259\u001b[0m                 \u001b[0;32mif\u001b[0m \u001b[0mself\u001b[0m\u001b[0;34m.\u001b[0m\u001b[0mauto_display\u001b[0m \u001b[0;32mand\u001b[0m \u001b[0mself\u001b[0m\u001b[0;34m.\u001b[0m\u001b[0mresult\u001b[0m \u001b[0;32mis\u001b[0m \u001b[0;32mnot\u001b[0m \u001b[0;32mNone\u001b[0m\u001b[0;34m:\u001b[0m\u001b[0;34m\u001b[0m\u001b[0;34m\u001b[0m\u001b[0m\n",
          "\u001b[0;32m/tmp/ipykernel_24999/4047001118.py\u001b[0m in \u001b[0;36maff_per_year\u001b[0;34m(Choisi)\u001b[0m\n\u001b[1;32m     50\u001b[0m \u001b[0;34m\u001b[0m\u001b[0m\n\u001b[1;32m     51\u001b[0m         \u001b[0;31m#   Je crée ensuite le graph avec bokeh qui sera display\u001b[0m\u001b[0;34m\u001b[0m\u001b[0;34m\u001b[0m\u001b[0m\n\u001b[0;32m---> 52\u001b[0;31m         graph_per_year = figure(\n\u001b[0m\u001b[1;32m     53\u001b[0m                   \u001b[0mtitle\u001b[0m\u001b[0;34m=\u001b[0m\u001b[0;34mf\"Evolution du prix du Gazole sur l'année {Choisi}\"\u001b[0m\u001b[0;34m,\u001b[0m\u001b[0;34m\u001b[0m\u001b[0;34m\u001b[0m\u001b[0m\n\u001b[1;32m     54\u001b[0m                   \u001b[0mx_range\u001b[0m \u001b[0;34m=\u001b[0m \u001b[0mz\u001b[0m\u001b[0;34m[\u001b[0m\u001b[0;34m\"Période\"\u001b[0m\u001b[0;34m]\u001b[0m\u001b[0;34m,\u001b[0m\u001b[0;34m\u001b[0m\u001b[0;34m\u001b[0m\u001b[0m\n",
          "\u001b[0;32m~/anaconda3/lib/python3.9/site-packages/bokeh/plotting/figure.py\u001b[0m in \u001b[0;36mfigure\u001b[0;34m(**kwargs)\u001b[0m\n\u001b[1;32m    663\u001b[0m \u001b[0;34m\u001b[0m\u001b[0m\n\u001b[1;32m    664\u001b[0m     '''\n\u001b[0;32m--> 665\u001b[0;31m     \u001b[0;32mreturn\u001b[0m \u001b[0mFigure\u001b[0m\u001b[0;34m(\u001b[0m\u001b[0;34m**\u001b[0m\u001b[0mkwargs\u001b[0m\u001b[0;34m)\u001b[0m\u001b[0;34m\u001b[0m\u001b[0;34m\u001b[0m\u001b[0m\n\u001b[0m\u001b[1;32m    666\u001b[0m \u001b[0;34m\u001b[0m\u001b[0m\n\u001b[1;32m    667\u001b[0m \u001b[0;32mdef\u001b[0m \u001b[0mmarkers\u001b[0m\u001b[0;34m(\u001b[0m\u001b[0;34m)\u001b[0m\u001b[0;34m:\u001b[0m\u001b[0;34m\u001b[0m\u001b[0;34m\u001b[0m\u001b[0m\n",
          "\u001b[0;32m~/anaconda3/lib/python3.9/site-packages/bokeh/plotting/figure.py\u001b[0m in \u001b[0;36m__init__\u001b[0;34m(self, *arg, **kw)\u001b[0m\n\u001b[1;32m    173\u001b[0m \u001b[0;34m\u001b[0m\u001b[0m\n\u001b[1;32m    174\u001b[0m     \u001b[0;32mdef\u001b[0m \u001b[0m__init__\u001b[0m\u001b[0;34m(\u001b[0m\u001b[0mself\u001b[0m\u001b[0;34m,\u001b[0m \u001b[0;34m*\u001b[0m\u001b[0marg\u001b[0m\u001b[0;34m,\u001b[0m \u001b[0;34m**\u001b[0m\u001b[0mkw\u001b[0m\u001b[0;34m)\u001b[0m \u001b[0;34m->\u001b[0m \u001b[0;32mNone\u001b[0m\u001b[0;34m:\u001b[0m\u001b[0;34m\u001b[0m\u001b[0;34m\u001b[0m\u001b[0m\n\u001b[0;32m--> 175\u001b[0;31m         \u001b[0mopts\u001b[0m \u001b[0;34m=\u001b[0m \u001b[0mFigureOptions\u001b[0m\u001b[0;34m(\u001b[0m\u001b[0mkw\u001b[0m\u001b[0;34m)\u001b[0m\u001b[0;34m\u001b[0m\u001b[0;34m\u001b[0m\u001b[0m\n\u001b[0m\u001b[1;32m    176\u001b[0m         \u001b[0msuper\u001b[0m\u001b[0;34m(\u001b[0m\u001b[0;34m)\u001b[0m\u001b[0;34m.\u001b[0m\u001b[0m__init__\u001b[0m\u001b[0;34m(\u001b[0m\u001b[0;34m*\u001b[0m\u001b[0marg\u001b[0m\u001b[0;34m,\u001b[0m \u001b[0;34m**\u001b[0m\u001b[0mkw\u001b[0m\u001b[0;34m)\u001b[0m\u001b[0;34m\u001b[0m\u001b[0;34m\u001b[0m\u001b[0m\n\u001b[1;32m    177\u001b[0m \u001b[0;34m\u001b[0m\u001b[0m\n",
          "\u001b[0;32m~/anaconda3/lib/python3.9/site-packages/bokeh/util/options.py\u001b[0m in \u001b[0;36m__init__\u001b[0;34m(self, kw)\u001b[0m\n\u001b[1;32m     73\u001b[0m                 \u001b[0mprops\u001b[0m\u001b[0;34m[\u001b[0m\u001b[0mk\u001b[0m\u001b[0;34m]\u001b[0m \u001b[0;34m=\u001b[0m \u001b[0mkw\u001b[0m\u001b[0;34m.\u001b[0m\u001b[0mpop\u001b[0m\u001b[0;34m(\u001b[0m\u001b[0mk\u001b[0m\u001b[0;34m)\u001b[0m\u001b[0;34m\u001b[0m\u001b[0;34m\u001b[0m\u001b[0m\n\u001b[1;32m     74\u001b[0m \u001b[0;34m\u001b[0m\u001b[0m\n\u001b[0;32m---> 75\u001b[0;31m         \u001b[0msuper\u001b[0m\u001b[0;34m(\u001b[0m\u001b[0;34m)\u001b[0m\u001b[0;34m.\u001b[0m\u001b[0m__init__\u001b[0m\u001b[0;34m(\u001b[0m\u001b[0;34m**\u001b[0m\u001b[0mprops\u001b[0m\u001b[0;34m)\u001b[0m\u001b[0;34m\u001b[0m\u001b[0;34m\u001b[0m\u001b[0m\n\u001b[0m\u001b[1;32m     76\u001b[0m \u001b[0;34m\u001b[0m\u001b[0m\n\u001b[1;32m     77\u001b[0m \u001b[0;31m#-----------------------------------------------------------------------------\u001b[0m\u001b[0;34m\u001b[0m\u001b[0;34m\u001b[0m\u001b[0m\n",
          "\u001b[0;32m~/anaconda3/lib/python3.9/site-packages/bokeh/core/has_props.py\u001b[0m in \u001b[0;36m__init__\u001b[0;34m(self, **properties)\u001b[0m\n\u001b[1;32m    204\u001b[0m \u001b[0;34m\u001b[0m\u001b[0m\n\u001b[1;32m    205\u001b[0m         \u001b[0;32mfor\u001b[0m \u001b[0mname\u001b[0m\u001b[0;34m,\u001b[0m \u001b[0mvalue\u001b[0m \u001b[0;32min\u001b[0m \u001b[0mproperties\u001b[0m\u001b[0;34m.\u001b[0m\u001b[0mitems\u001b[0m\u001b[0;34m(\u001b[0m\u001b[0;34m)\u001b[0m\u001b[0;34m:\u001b[0m\u001b[0;34m\u001b[0m\u001b[0;34m\u001b[0m\u001b[0m\n\u001b[0;32m--> 206\u001b[0;31m             \u001b[0msetattr\u001b[0m\u001b[0;34m(\u001b[0m\u001b[0mself\u001b[0m\u001b[0;34m,\u001b[0m \u001b[0mname\u001b[0m\u001b[0;34m,\u001b[0m \u001b[0mvalue\u001b[0m\u001b[0;34m)\u001b[0m\u001b[0;34m\u001b[0m\u001b[0;34m\u001b[0m\u001b[0m\n\u001b[0m\u001b[1;32m    207\u001b[0m \u001b[0;34m\u001b[0m\u001b[0m\n\u001b[1;32m    208\u001b[0m         \u001b[0mself\u001b[0m\u001b[0;34m.\u001b[0m\u001b[0m_initialized\u001b[0m \u001b[0;34m=\u001b[0m \u001b[0;32mTrue\u001b[0m\u001b[0;34m\u001b[0m\u001b[0;34m\u001b[0m\u001b[0m\n",
          "\u001b[0;32m~/anaconda3/lib/python3.9/site-packages/bokeh/core/has_props.py\u001b[0m in \u001b[0;36m__setattr__\u001b[0;34m(self, name, value)\u001b[0m\n\u001b[1;32m    228\u001b[0m         \u001b[0mproperties\u001b[0m \u001b[0;34m=\u001b[0m \u001b[0mself\u001b[0m\u001b[0;34m.\u001b[0m\u001b[0mproperties\u001b[0m\u001b[0;34m(\u001b[0m\u001b[0m_with_props\u001b[0m\u001b[0;34m=\u001b[0m\u001b[0;32mTrue\u001b[0m\u001b[0;34m)\u001b[0m\u001b[0;34m\u001b[0m\u001b[0;34m\u001b[0m\u001b[0m\n\u001b[1;32m    229\u001b[0m         \u001b[0;32mif\u001b[0m \u001b[0mname\u001b[0m \u001b[0;32min\u001b[0m \u001b[0mproperties\u001b[0m\u001b[0;34m:\u001b[0m\u001b[0;34m\u001b[0m\u001b[0;34m\u001b[0m\u001b[0m\n\u001b[0;32m--> 230\u001b[0;31m             \u001b[0;32mreturn\u001b[0m \u001b[0msuper\u001b[0m\u001b[0;34m(\u001b[0m\u001b[0;34m)\u001b[0m\u001b[0;34m.\u001b[0m\u001b[0m__setattr__\u001b[0m\u001b[0;34m(\u001b[0m\u001b[0mname\u001b[0m\u001b[0;34m,\u001b[0m \u001b[0mvalue\u001b[0m\u001b[0;34m)\u001b[0m\u001b[0;34m\u001b[0m\u001b[0;34m\u001b[0m\u001b[0m\n\u001b[0m\u001b[1;32m    231\u001b[0m \u001b[0;34m\u001b[0m\u001b[0m\n\u001b[1;32m    232\u001b[0m         \u001b[0mdescriptor\u001b[0m \u001b[0;34m=\u001b[0m \u001b[0mgetattr\u001b[0m\u001b[0;34m(\u001b[0m\u001b[0mself\u001b[0m\u001b[0;34m.\u001b[0m\u001b[0m__class__\u001b[0m\u001b[0;34m,\u001b[0m \u001b[0mname\u001b[0m\u001b[0;34m,\u001b[0m \u001b[0;32mNone\u001b[0m\u001b[0;34m)\u001b[0m\u001b[0;34m\u001b[0m\u001b[0;34m\u001b[0m\u001b[0m\n",
          "\u001b[0;32m~/anaconda3/lib/python3.9/site-packages/bokeh/core/property/descriptors.py\u001b[0m in \u001b[0;36m__set__\u001b[0;34m(self, obj, value, setter)\u001b[0m\n\u001b[1;32m    281\u001b[0m             \u001b[0;32mraise\u001b[0m \u001b[0mRuntimeError\u001b[0m\u001b[0;34m(\u001b[0m\u001b[0;34mf\"{class_name}.{self.name} is a readonly property\"\u001b[0m\u001b[0;34m)\u001b[0m\u001b[0;34m\u001b[0m\u001b[0;34m\u001b[0m\u001b[0m\n\u001b[1;32m    282\u001b[0m \u001b[0;34m\u001b[0m\u001b[0m\n\u001b[0;32m--> 283\u001b[0;31m         \u001b[0mvalue\u001b[0m \u001b[0;34m=\u001b[0m \u001b[0mself\u001b[0m\u001b[0;34m.\u001b[0m\u001b[0mproperty\u001b[0m\u001b[0;34m.\u001b[0m\u001b[0mprepare_value\u001b[0m\u001b[0;34m(\u001b[0m\u001b[0mobj\u001b[0m\u001b[0;34m,\u001b[0m \u001b[0mself\u001b[0m\u001b[0;34m.\u001b[0m\u001b[0mname\u001b[0m\u001b[0;34m,\u001b[0m \u001b[0mvalue\u001b[0m\u001b[0;34m)\u001b[0m\u001b[0;34m\u001b[0m\u001b[0;34m\u001b[0m\u001b[0m\n\u001b[0m\u001b[1;32m    284\u001b[0m         \u001b[0mold\u001b[0m \u001b[0;34m=\u001b[0m \u001b[0mself\u001b[0m\u001b[0;34m.\u001b[0m\u001b[0m_get\u001b[0m\u001b[0;34m(\u001b[0m\u001b[0mobj\u001b[0m\u001b[0;34m)\u001b[0m\u001b[0;34m\u001b[0m\u001b[0;34m\u001b[0m\u001b[0m\n\u001b[1;32m    285\u001b[0m         \u001b[0mself\u001b[0m\u001b[0;34m.\u001b[0m\u001b[0m_set\u001b[0m\u001b[0;34m(\u001b[0m\u001b[0mobj\u001b[0m\u001b[0;34m,\u001b[0m \u001b[0mold\u001b[0m\u001b[0;34m,\u001b[0m \u001b[0mvalue\u001b[0m\u001b[0;34m,\u001b[0m \u001b[0msetter\u001b[0m\u001b[0;34m=\u001b[0m\u001b[0msetter\u001b[0m\u001b[0;34m)\u001b[0m\u001b[0;34m\u001b[0m\u001b[0;34m\u001b[0m\u001b[0m\n",
          "\u001b[0;32m~/anaconda3/lib/python3.9/site-packages/bokeh/core/property/bases.py\u001b[0m in \u001b[0;36mprepare_value\u001b[0;34m(self, owner, name, value, hint)\u001b[0m\n\u001b[1;32m    363\u001b[0m         \u001b[0;32melse\u001b[0m\u001b[0;34m:\u001b[0m\u001b[0;34m\u001b[0m\u001b[0;34m\u001b[0m\u001b[0m\n\u001b[1;32m    364\u001b[0m             \u001b[0mobj_repr\u001b[0m \u001b[0;34m=\u001b[0m \u001b[0mowner\u001b[0m \u001b[0;32mif\u001b[0m \u001b[0misinstance\u001b[0m\u001b[0;34m(\u001b[0m\u001b[0mowner\u001b[0m\u001b[0;34m,\u001b[0m \u001b[0mHasProps\u001b[0m\u001b[0;34m)\u001b[0m \u001b[0;32melse\u001b[0m \u001b[0mowner\u001b[0m\u001b[0;34m.\u001b[0m\u001b[0m__name__\u001b[0m\u001b[0;34m\u001b[0m\u001b[0;34m\u001b[0m\u001b[0m\n\u001b[0;32m--> 365\u001b[0;31m             \u001b[0;32mraise\u001b[0m \u001b[0mValueError\u001b[0m\u001b[0;34m(\u001b[0m\u001b[0;34mf\"failed to validate {obj_repr}.{name}: {error}\"\u001b[0m\u001b[0;34m)\u001b[0m\u001b[0;34m\u001b[0m\u001b[0;34m\u001b[0m\u001b[0m\n\u001b[0m\u001b[1;32m    366\u001b[0m \u001b[0;34m\u001b[0m\u001b[0m\n\u001b[1;32m    367\u001b[0m         \u001b[0;32mif\u001b[0m \u001b[0misinstance\u001b[0m\u001b[0;34m(\u001b[0m\u001b[0mowner\u001b[0m\u001b[0;34m,\u001b[0m \u001b[0mHasProps\u001b[0m\u001b[0;34m)\u001b[0m\u001b[0;34m:\u001b[0m\u001b[0;34m\u001b[0m\u001b[0;34m\u001b[0m\u001b[0m\n",
          "\u001b[0;31mValueError\u001b[0m: failed to validate FigureOptions(...).tooltips: expected an element of either Null, Instance(Template), String or List(Tuple(String, String)), got [('En ', '@x ', ', le prix du gazole était de ', '@y')]"
         ]
        }
       ]
      }
     },
     "4920d1d9dbcc42998d32bd0f4b6b5ca6": {
      "model_module": "@jupyter-widgets/base",
      "model_module_version": "1.2.0",
      "model_name": "LayoutModel",
      "state": {}
     },
     "49a8f02be2cf44a9ad7470ee52d512bf": {
      "model_module": "@jupyter-widgets/output",
      "model_module_version": "1.0.0",
      "model_name": "OutputModel",
      "state": {
       "layout": "IPY_MODEL_2efb6886d7bd4028bb7277e31f271bd9",
       "outputs": [
        {
         "ename": "NameError",
         "evalue": "name 'y' is not defined",
         "output_type": "error",
         "traceback": [
          "\u001b[0;31m---------------------------------------------------------------------------\u001b[0m",
          "\u001b[0;31mNameError\u001b[0m                                 Traceback (most recent call last)",
          "\u001b[0;32m~/anaconda3/lib/python3.9/site-packages/ipywidgets/widgets/interaction.py\u001b[0m in \u001b[0;36mupdate\u001b[0;34m(self, *args)\u001b[0m\n\u001b[1;32m    255\u001b[0m                     \u001b[0mvalue\u001b[0m \u001b[0;34m=\u001b[0m \u001b[0mwidget\u001b[0m\u001b[0;34m.\u001b[0m\u001b[0mget_interact_value\u001b[0m\u001b[0;34m(\u001b[0m\u001b[0;34m)\u001b[0m\u001b[0;34m\u001b[0m\u001b[0;34m\u001b[0m\u001b[0m\n\u001b[1;32m    256\u001b[0m                     \u001b[0mself\u001b[0m\u001b[0;34m.\u001b[0m\u001b[0mkwargs\u001b[0m\u001b[0;34m[\u001b[0m\u001b[0mwidget\u001b[0m\u001b[0;34m.\u001b[0m\u001b[0m_kwarg\u001b[0m\u001b[0;34m]\u001b[0m \u001b[0;34m=\u001b[0m \u001b[0mvalue\u001b[0m\u001b[0;34m\u001b[0m\u001b[0;34m\u001b[0m\u001b[0m\n\u001b[0;32m--> 257\u001b[0;31m                 \u001b[0mself\u001b[0m\u001b[0;34m.\u001b[0m\u001b[0mresult\u001b[0m \u001b[0;34m=\u001b[0m \u001b[0mself\u001b[0m\u001b[0;34m.\u001b[0m\u001b[0mf\u001b[0m\u001b[0;34m(\u001b[0m\u001b[0;34m**\u001b[0m\u001b[0mself\u001b[0m\u001b[0;34m.\u001b[0m\u001b[0mkwargs\u001b[0m\u001b[0;34m)\u001b[0m\u001b[0;34m\u001b[0m\u001b[0;34m\u001b[0m\u001b[0m\n\u001b[0m\u001b[1;32m    258\u001b[0m                 \u001b[0mshow_inline_matplotlib_plots\u001b[0m\u001b[0;34m(\u001b[0m\u001b[0;34m)\u001b[0m\u001b[0;34m\u001b[0m\u001b[0;34m\u001b[0m\u001b[0m\n\u001b[1;32m    259\u001b[0m                 \u001b[0;32mif\u001b[0m \u001b[0mself\u001b[0m\u001b[0;34m.\u001b[0m\u001b[0mauto_display\u001b[0m \u001b[0;32mand\u001b[0m \u001b[0mself\u001b[0m\u001b[0;34m.\u001b[0m\u001b[0mresult\u001b[0m \u001b[0;32mis\u001b[0m \u001b[0;32mnot\u001b[0m \u001b[0;32mNone\u001b[0m\u001b[0;34m:\u001b[0m\u001b[0;34m\u001b[0m\u001b[0;34m\u001b[0m\u001b[0m\n",
          "\u001b[0;32m/tmp/ipykernel_24999/2789279574.py\u001b[0m in \u001b[0;36maff_per_year\u001b[0;34m(Choisi)\u001b[0m\n\u001b[1;32m     55\u001b[0m                   \u001b[0mx_axis_label\u001b[0m\u001b[0;34m=\u001b[0m\u001b[0;34m\"Période (En mois)\"\u001b[0m\u001b[0;34m,\u001b[0m\u001b[0;34m\u001b[0m\u001b[0;34m\u001b[0m\u001b[0m\n\u001b[1;32m     56\u001b[0m                   \u001b[0my_axis_label\u001b[0m\u001b[0;34m=\u001b[0m\u001b[0;34m\"Prix (En Euro)\"\u001b[0m\u001b[0;34m,\u001b[0m\u001b[0;34m\u001b[0m\u001b[0;34m\u001b[0m\u001b[0m\n\u001b[0;32m---> 57\u001b[0;31m                   \u001b[0mtooltips\u001b[0m \u001b[0;34m=\u001b[0m \u001b[0;34m[\u001b[0m\u001b[0;34m(\u001b[0m\u001b[0;34mf\"En {x} {Choisi} , le prix du gazole était de {y}\"\u001b[0m\u001b[0;34m)\u001b[0m\u001b[0;34m]\u001b[0m\u001b[0;34m,\u001b[0m\u001b[0;34m\u001b[0m\u001b[0;34m\u001b[0m\u001b[0m\n\u001b[0m\u001b[1;32m     58\u001b[0m                   \u001b[0msizing_mode\u001b[0m\u001b[0;34m=\u001b[0m\u001b[0;34m\"stretch_width\"\u001b[0m\u001b[0;34m\u001b[0m\u001b[0;34m\u001b[0m\u001b[0m\n\u001b[1;32m     59\u001b[0m                  )\n",
          "\u001b[0;31mNameError\u001b[0m: name 'y' is not defined"
         ]
        }
       ]
      }
     },
     "4b0ec44730f24bbd9eedd6699ca91620": {
      "model_module": "@jupyter-widgets/base",
      "model_module_version": "1.2.0",
      "model_name": "LayoutModel",
      "state": {}
     },
     "4b8beb476ecf4aa697973ed0e90a2252": {
      "model_module": "@jupyter-widgets/controls",
      "model_module_version": "1.5.0",
      "model_name": "DropdownModel",
      "state": {
       "_options_labels": [
        "Graph",
        "1992",
        "1993",
        "1994",
        "1995",
        "1996",
        "1997",
        "1998",
        "1999",
        "2000",
        "2001",
        "2002",
        "2003",
        "2004",
        "2005",
        "2006",
        "2007",
        "2008",
        "2009",
        "2010",
        "2011",
        "2012",
        "2013",
        "2014",
        "2015",
        "2016",
        "2017",
        "2018",
        "2019",
        "2020",
        "2021",
        "2022"
       ],
       "description": "Choisi",
       "index": 14,
       "layout": "IPY_MODEL_1b27e7c04eed45c7baac067100a86ccd",
       "style": "IPY_MODEL_6af1aafe91334f3aadf3e9d20828a2e8"
      }
     },
     "4bf908a7a07a4e1f8b2dc4a9f7a05000": {
      "model_module": "@jupyter-widgets/controls",
      "model_module_version": "1.5.0",
      "model_name": "DescriptionStyleModel",
      "state": {
       "description_width": ""
      }
     },
     "4d237d1c928a42ff997fc6871d2a4af7": {
      "model_module": "@jupyter-widgets/controls",
      "model_module_version": "1.5.0",
      "model_name": "DropdownModel",
      "state": {
       "_options_labels": [
        "Graph",
        "1992",
        "1993",
        "1994",
        "1995",
        "1996",
        "1997",
        "1998",
        "1999",
        "2000",
        "2001",
        "2002",
        "2003",
        "2004",
        "2005",
        "2006",
        "2007",
        "2008",
        "2009",
        "2010",
        "2011",
        "2012",
        "2013",
        "2014",
        "2015",
        "2016",
        "2017",
        "2018",
        "2019",
        "2020",
        "2021",
        "2022"
       ],
       "description": "Choisi",
       "index": 9,
       "layout": "IPY_MODEL_a8901d89467448a58d9e1ffd1bece768",
       "style": "IPY_MODEL_c38d7144e68d4a5bbf9d697884a77ba4"
      }
     },
     "4d7f63a28442439691f0bb3714fd2064": {
      "model_module": "@jupyter-widgets/controls",
      "model_module_version": "1.5.0",
      "model_name": "DropdownModel",
      "state": {
       "_options_labels": [
        "Graph",
        "1992",
        "1993",
        "1994",
        "1995",
        "1996",
        "1997",
        "1998",
        "1999",
        "2000",
        "2001",
        "2002",
        "2003",
        "2004",
        "2005",
        "2006",
        "2007",
        "2008",
        "2009",
        "2010",
        "2011",
        "2012",
        "2013",
        "2014",
        "2015",
        "2016",
        "2017",
        "2018",
        "2019",
        "2020",
        "2021",
        "2022"
       ],
       "description": "Choisi",
       "index": 14,
       "layout": "IPY_MODEL_f04ef544893e4eae8b67038b91c52808",
       "style": "IPY_MODEL_8ea2024541f04f46a101f95cbac9ea1a"
      }
     },
     "4e9643102cc241db8284f3feb6353061": {
      "model_module": "@jupyter-widgets/output",
      "model_module_version": "1.0.0",
      "model_name": "OutputModel",
      "state": {
       "layout": "IPY_MODEL_c7f0a19c2d1e4520b41ac1f2c838cf8c",
       "outputs": [
        {
         "ename": "ValueError",
         "evalue": "failed to validate LinearAxis(id='2214', ...).ticker: expected an instance of type Ticker, got 0       Janvier\n1       Février\n2          Mars\n3         Avril\n4           Mai\n5          Juin\n6       Juillet\n7          Aout\n8     Septembre\n9       Octobre\n10     Novembre\n11     Decembre\nName: Période, dtype: object of type Series",
         "output_type": "error",
         "traceback": [
          "\u001b[0;31m---------------------------------------------------------------------------\u001b[0m",
          "\u001b[0;31mValueError\u001b[0m                                Traceback (most recent call last)",
          "\u001b[0;32m~/anaconda3/lib/python3.9/site-packages/ipywidgets/widgets/interaction.py\u001b[0m in \u001b[0;36mupdate\u001b[0;34m(self, *args)\u001b[0m\n\u001b[1;32m    255\u001b[0m                     \u001b[0mvalue\u001b[0m \u001b[0;34m=\u001b[0m \u001b[0mwidget\u001b[0m\u001b[0;34m.\u001b[0m\u001b[0mget_interact_value\u001b[0m\u001b[0;34m(\u001b[0m\u001b[0;34m)\u001b[0m\u001b[0;34m\u001b[0m\u001b[0;34m\u001b[0m\u001b[0m\n\u001b[1;32m    256\u001b[0m                     \u001b[0mself\u001b[0m\u001b[0;34m.\u001b[0m\u001b[0mkwargs\u001b[0m\u001b[0;34m[\u001b[0m\u001b[0mwidget\u001b[0m\u001b[0;34m.\u001b[0m\u001b[0m_kwarg\u001b[0m\u001b[0;34m]\u001b[0m \u001b[0;34m=\u001b[0m \u001b[0mvalue\u001b[0m\u001b[0;34m\u001b[0m\u001b[0;34m\u001b[0m\u001b[0m\n\u001b[0;32m--> 257\u001b[0;31m                 \u001b[0mself\u001b[0m\u001b[0;34m.\u001b[0m\u001b[0mresult\u001b[0m \u001b[0;34m=\u001b[0m \u001b[0mself\u001b[0m\u001b[0;34m.\u001b[0m\u001b[0mf\u001b[0m\u001b[0;34m(\u001b[0m\u001b[0;34m**\u001b[0m\u001b[0mself\u001b[0m\u001b[0;34m.\u001b[0m\u001b[0mkwargs\u001b[0m\u001b[0;34m)\u001b[0m\u001b[0;34m\u001b[0m\u001b[0;34m\u001b[0m\u001b[0m\n\u001b[0m\u001b[1;32m    258\u001b[0m                 \u001b[0mshow_inline_matplotlib_plots\u001b[0m\u001b[0;34m(\u001b[0m\u001b[0;34m)\u001b[0m\u001b[0;34m\u001b[0m\u001b[0;34m\u001b[0m\u001b[0m\n\u001b[1;32m    259\u001b[0m                 \u001b[0;32mif\u001b[0m \u001b[0mself\u001b[0m\u001b[0;34m.\u001b[0m\u001b[0mauto_display\u001b[0m \u001b[0;32mand\u001b[0m \u001b[0mself\u001b[0m\u001b[0;34m.\u001b[0m\u001b[0mresult\u001b[0m \u001b[0;32mis\u001b[0m \u001b[0;32mnot\u001b[0m \u001b[0;32mNone\u001b[0m\u001b[0;34m:\u001b[0m\u001b[0;34m\u001b[0m\u001b[0;34m\u001b[0m\u001b[0m\n",
          "\u001b[0;32m/tmp/ipykernel_24999/3058324518.py\u001b[0m in \u001b[0;36maff_per_year\u001b[0;34m(Choisi)\u001b[0m\n\u001b[1;32m     67\u001b[0m         \u001b[0;31m#graph_per_year.background_fill_color = \"beige\"\u001b[0m\u001b[0;34m\u001b[0m\u001b[0;34m\u001b[0m\u001b[0m\n\u001b[1;32m     68\u001b[0m         \u001b[0mgraph_per_year\u001b[0m\u001b[0;34m.\u001b[0m\u001b[0mtoolbar\u001b[0m\u001b[0;34m.\u001b[0m\u001b[0mlogo\u001b[0m \u001b[0;34m=\u001b[0m \u001b[0;32mNone\u001b[0m\u001b[0;34m\u001b[0m\u001b[0;34m\u001b[0m\u001b[0m\n\u001b[0;32m---> 69\u001b[0;31m         \u001b[0mgraph_per_year\u001b[0m\u001b[0;34m.\u001b[0m\u001b[0mxaxis\u001b[0m\u001b[0;34m.\u001b[0m\u001b[0mticker\u001b[0m \u001b[0;34m=\u001b[0m\u001b[0mz\u001b[0m\u001b[0;34m[\u001b[0m\u001b[0;34m\"Période\"\u001b[0m\u001b[0;34m]\u001b[0m\u001b[0;34m\u001b[0m\u001b[0;34m\u001b[0m\u001b[0m\n\u001b[0m\u001b[1;32m     70\u001b[0m \u001b[0;34m\u001b[0m\u001b[0m\n\u001b[1;32m     71\u001b[0m         \u001b[0mgraph_per_year\u001b[0m\u001b[0;34m.\u001b[0m\u001b[0mxaxis\u001b[0m\u001b[0;34m.\u001b[0m\u001b[0mmajor_label_overrides\u001b[0m \u001b[0;34m=\u001b[0m \u001b[0mdict_mois\u001b[0m\u001b[0;34m\u001b[0m\u001b[0;34m\u001b[0m\u001b[0m\n",
          "\u001b[0;32m~/anaconda3/lib/python3.9/site-packages/bokeh/models/plots.py\u001b[0m in \u001b[0;36m__setattr__\u001b[0;34m(self, attr, value)\u001b[0m\n\u001b[1;32m    785\u001b[0m     \u001b[0;32mdef\u001b[0m \u001b[0m__setattr__\u001b[0m\u001b[0;34m(\u001b[0m\u001b[0mself\u001b[0m\u001b[0;34m,\u001b[0m \u001b[0mattr\u001b[0m\u001b[0;34m,\u001b[0m \u001b[0mvalue\u001b[0m\u001b[0;34m)\u001b[0m\u001b[0;34m:\u001b[0m\u001b[0;34m\u001b[0m\u001b[0;34m\u001b[0m\u001b[0m\n\u001b[1;32m    786\u001b[0m         \u001b[0;32mfor\u001b[0m \u001b[0mx\u001b[0m \u001b[0;32min\u001b[0m \u001b[0mself\u001b[0m\u001b[0;34m:\u001b[0m\u001b[0;34m\u001b[0m\u001b[0;34m\u001b[0m\u001b[0m\n\u001b[0;32m--> 787\u001b[0;31m             \u001b[0msetattr\u001b[0m\u001b[0;34m(\u001b[0m\u001b[0mx\u001b[0m\u001b[0;34m,\u001b[0m \u001b[0mattr\u001b[0m\u001b[0;34m,\u001b[0m \u001b[0mvalue\u001b[0m\u001b[0;34m)\u001b[0m\u001b[0;34m\u001b[0m\u001b[0;34m\u001b[0m\u001b[0m\n\u001b[0m\u001b[1;32m    788\u001b[0m     \u001b[0;32mdef\u001b[0m \u001b[0m__getattribute__\u001b[0m\u001b[0;34m(\u001b[0m\u001b[0mself\u001b[0m\u001b[0;34m,\u001b[0m \u001b[0mattr\u001b[0m\u001b[0;34m)\u001b[0m\u001b[0;34m:\u001b[0m\u001b[0;34m\u001b[0m\u001b[0;34m\u001b[0m\u001b[0m\n\u001b[1;32m    789\u001b[0m         \u001b[0;32mif\u001b[0m \u001b[0mattr\u001b[0m \u001b[0;32min\u001b[0m \u001b[0mdir\u001b[0m\u001b[0;34m(\u001b[0m\u001b[0mlist\u001b[0m\u001b[0;34m)\u001b[0m\u001b[0;34m:\u001b[0m\u001b[0;34m\u001b[0m\u001b[0;34m\u001b[0m\u001b[0m\n",
          "\u001b[0;32m~/anaconda3/lib/python3.9/site-packages/bokeh/core/has_props.py\u001b[0m in \u001b[0;36m__setattr__\u001b[0;34m(self, name, value)\u001b[0m\n\u001b[1;32m    228\u001b[0m         \u001b[0mproperties\u001b[0m \u001b[0;34m=\u001b[0m \u001b[0mself\u001b[0m\u001b[0;34m.\u001b[0m\u001b[0mproperties\u001b[0m\u001b[0;34m(\u001b[0m\u001b[0m_with_props\u001b[0m\u001b[0;34m=\u001b[0m\u001b[0;32mTrue\u001b[0m\u001b[0;34m)\u001b[0m\u001b[0;34m\u001b[0m\u001b[0;34m\u001b[0m\u001b[0m\n\u001b[1;32m    229\u001b[0m         \u001b[0;32mif\u001b[0m \u001b[0mname\u001b[0m \u001b[0;32min\u001b[0m \u001b[0mproperties\u001b[0m\u001b[0;34m:\u001b[0m\u001b[0;34m\u001b[0m\u001b[0;34m\u001b[0m\u001b[0m\n\u001b[0;32m--> 230\u001b[0;31m             \u001b[0;32mreturn\u001b[0m \u001b[0msuper\u001b[0m\u001b[0;34m(\u001b[0m\u001b[0;34m)\u001b[0m\u001b[0;34m.\u001b[0m\u001b[0m__setattr__\u001b[0m\u001b[0;34m(\u001b[0m\u001b[0mname\u001b[0m\u001b[0;34m,\u001b[0m \u001b[0mvalue\u001b[0m\u001b[0;34m)\u001b[0m\u001b[0;34m\u001b[0m\u001b[0;34m\u001b[0m\u001b[0m\n\u001b[0m\u001b[1;32m    231\u001b[0m \u001b[0;34m\u001b[0m\u001b[0m\n\u001b[1;32m    232\u001b[0m         \u001b[0mdescriptor\u001b[0m \u001b[0;34m=\u001b[0m \u001b[0mgetattr\u001b[0m\u001b[0;34m(\u001b[0m\u001b[0mself\u001b[0m\u001b[0;34m.\u001b[0m\u001b[0m__class__\u001b[0m\u001b[0;34m,\u001b[0m \u001b[0mname\u001b[0m\u001b[0;34m,\u001b[0m \u001b[0;32mNone\u001b[0m\u001b[0;34m)\u001b[0m\u001b[0;34m\u001b[0m\u001b[0;34m\u001b[0m\u001b[0m\n",
          "\u001b[0;32m~/anaconda3/lib/python3.9/site-packages/bokeh/core/property/descriptors.py\u001b[0m in \u001b[0;36m__set__\u001b[0;34m(self, obj, value, setter)\u001b[0m\n\u001b[1;32m    281\u001b[0m             \u001b[0;32mraise\u001b[0m \u001b[0mRuntimeError\u001b[0m\u001b[0;34m(\u001b[0m\u001b[0;34mf\"{class_name}.{self.name} is a readonly property\"\u001b[0m\u001b[0;34m)\u001b[0m\u001b[0;34m\u001b[0m\u001b[0;34m\u001b[0m\u001b[0m\n\u001b[1;32m    282\u001b[0m \u001b[0;34m\u001b[0m\u001b[0m\n\u001b[0;32m--> 283\u001b[0;31m         \u001b[0mvalue\u001b[0m \u001b[0;34m=\u001b[0m \u001b[0mself\u001b[0m\u001b[0;34m.\u001b[0m\u001b[0mproperty\u001b[0m\u001b[0;34m.\u001b[0m\u001b[0mprepare_value\u001b[0m\u001b[0;34m(\u001b[0m\u001b[0mobj\u001b[0m\u001b[0;34m,\u001b[0m \u001b[0mself\u001b[0m\u001b[0;34m.\u001b[0m\u001b[0mname\u001b[0m\u001b[0;34m,\u001b[0m \u001b[0mvalue\u001b[0m\u001b[0;34m)\u001b[0m\u001b[0;34m\u001b[0m\u001b[0;34m\u001b[0m\u001b[0m\n\u001b[0m\u001b[1;32m    284\u001b[0m         \u001b[0mold\u001b[0m \u001b[0;34m=\u001b[0m \u001b[0mself\u001b[0m\u001b[0;34m.\u001b[0m\u001b[0m_get\u001b[0m\u001b[0;34m(\u001b[0m\u001b[0mobj\u001b[0m\u001b[0;34m)\u001b[0m\u001b[0;34m\u001b[0m\u001b[0;34m\u001b[0m\u001b[0m\n\u001b[1;32m    285\u001b[0m         \u001b[0mself\u001b[0m\u001b[0;34m.\u001b[0m\u001b[0m_set\u001b[0m\u001b[0;34m(\u001b[0m\u001b[0mobj\u001b[0m\u001b[0;34m,\u001b[0m \u001b[0mold\u001b[0m\u001b[0;34m,\u001b[0m \u001b[0mvalue\u001b[0m\u001b[0;34m,\u001b[0m \u001b[0msetter\u001b[0m\u001b[0;34m=\u001b[0m\u001b[0msetter\u001b[0m\u001b[0;34m)\u001b[0m\u001b[0;34m\u001b[0m\u001b[0;34m\u001b[0m\u001b[0m\n",
          "\u001b[0;32m~/anaconda3/lib/python3.9/site-packages/bokeh/core/property/bases.py\u001b[0m in \u001b[0;36mprepare_value\u001b[0;34m(self, owner, name, value, hint)\u001b[0m\n\u001b[1;32m    363\u001b[0m         \u001b[0;32melse\u001b[0m\u001b[0;34m:\u001b[0m\u001b[0;34m\u001b[0m\u001b[0;34m\u001b[0m\u001b[0m\n\u001b[1;32m    364\u001b[0m             \u001b[0mobj_repr\u001b[0m \u001b[0;34m=\u001b[0m \u001b[0mowner\u001b[0m \u001b[0;32mif\u001b[0m \u001b[0misinstance\u001b[0m\u001b[0;34m(\u001b[0m\u001b[0mowner\u001b[0m\u001b[0;34m,\u001b[0m \u001b[0mHasProps\u001b[0m\u001b[0;34m)\u001b[0m \u001b[0;32melse\u001b[0m \u001b[0mowner\u001b[0m\u001b[0;34m.\u001b[0m\u001b[0m__name__\u001b[0m\u001b[0;34m\u001b[0m\u001b[0;34m\u001b[0m\u001b[0m\n\u001b[0;32m--> 365\u001b[0;31m             \u001b[0;32mraise\u001b[0m \u001b[0mValueError\u001b[0m\u001b[0;34m(\u001b[0m\u001b[0;34mf\"failed to validate {obj_repr}.{name}: {error}\"\u001b[0m\u001b[0;34m)\u001b[0m\u001b[0;34m\u001b[0m\u001b[0;34m\u001b[0m\u001b[0m\n\u001b[0m\u001b[1;32m    366\u001b[0m \u001b[0;34m\u001b[0m\u001b[0m\n\u001b[1;32m    367\u001b[0m         \u001b[0;32mif\u001b[0m \u001b[0misinstance\u001b[0m\u001b[0;34m(\u001b[0m\u001b[0mowner\u001b[0m\u001b[0;34m,\u001b[0m \u001b[0mHasProps\u001b[0m\u001b[0;34m)\u001b[0m\u001b[0;34m:\u001b[0m\u001b[0;34m\u001b[0m\u001b[0;34m\u001b[0m\u001b[0m\n",
          "\u001b[0;31mValueError\u001b[0m: failed to validate LinearAxis(id='2214', ...).ticker: expected an instance of type Ticker, got 0       Janvier\n1       Février\n2          Mars\n3         Avril\n4           Mai\n5          Juin\n6       Juillet\n7          Aout\n8     Septembre\n9       Octobre\n10     Novembre\n11     Decembre\nName: Période, dtype: object of type Series"
         ]
        }
       ]
      }
     },
     "4ebe1a1ca1a04cfa888e7ba44b85e620": {
      "model_module": "@jupyter-widgets/base",
      "model_module_version": "1.2.0",
      "model_name": "LayoutModel",
      "state": {}
     },
     "4eed3b23e2f0496999f18cf59b0bd51b": {
      "model_module": "@jupyter-widgets/controls",
      "model_module_version": "1.5.0",
      "model_name": "DescriptionStyleModel",
      "state": {
       "description_width": ""
      }
     },
     "4f00a09f147744a29120021dc171f8b7": {
      "model_module": "@jupyter-widgets/base",
      "model_module_version": "1.2.0",
      "model_name": "LayoutModel",
      "state": {}
     },
     "502ee7e89948412487bf117c7b2db267": {
      "model_module": "@jupyter-widgets/base",
      "model_module_version": "1.2.0",
      "model_name": "LayoutModel",
      "state": {}
     },
     "50a6ff9645544feaae7fe9847f3661b0": {
      "model_module": "@jupyter-widgets/output",
      "model_module_version": "1.0.0",
      "model_name": "OutputModel",
      "state": {
       "layout": "IPY_MODEL_0fbf865df5d44e249e51768b0d8cbe99",
       "outputs": [
        {
         "data": {
          "text/html": "\n\n\n\n\n\n  <div class=\"bk-root\" id=\"24d49f39-520b-48b4-af1d-be74b77b33e9\" data-root-id=\"3999\"></div>\n"
         },
         "metadata": {},
         "output_type": "display_data"
        },
        {
         "data": {
          "application/javascript": "(function(root) {\n  function embed_document(root) {\n    \n  const docs_json = {\"7d74a4c8-58d9-40e5-9274-2be3637adbed\":{\"defs\":[],\"roots\":{\"references\":[{\"attributes\":{\"below\":[{\"id\":\"4010\"}],\"center\":[{\"id\":\"4013\"},{\"id\":\"4017\"},{\"id\":\"4050\"}],\"left\":[{\"id\":\"4014\"}],\"renderers\":[{\"id\":\"4038\"},{\"id\":\"4056\"},{\"id\":\"4075\"},{\"id\":\"4096\"}],\"sizing_mode\":\"stretch_width\",\"title\":{\"id\":\"4000\"},\"toolbar\":{\"id\":\"4026\"},\"x_range\":{\"id\":\"4002\"},\"x_scale\":{\"id\":\"4006\"},\"y_range\":{\"id\":\"4004\"},\"y_scale\":{\"id\":\"4008\"}},\"id\":\"3999\",\"subtype\":\"Figure\",\"type\":\"Plot\"},{\"attributes\":{\"axis_label\":\"Prix (En Euro)\",\"coordinates\":null,\"formatter\":{\"id\":\"4042\"},\"group\":null,\"major_label_policy\":{\"id\":\"4043\"},\"ticker\":{\"id\":\"4015\"}},\"id\":\"4014\",\"type\":\"LinearAxis\"},{\"attributes\":{\"label\":{\"value\":\"Prix par ann\\u00e9es\"},\"renderers\":[{\"id\":\"4056\"}]},\"id\":\"4070\",\"type\":\"LegendItem\"},{\"attributes\":{\"coordinates\":null,\"data_source\":{\"id\":\"4052\"},\"glyph\":{\"id\":\"4053\"},\"group\":null,\"hover_glyph\":null,\"muted_glyph\":{\"id\":\"4055\"},\"nonselection_glyph\":{\"id\":\"4054\"},\"view\":{\"id\":\"4057\"}},\"id\":\"4056\",\"type\":\"GlyphRenderer\"},{\"attributes\":{\"source\":{\"id\":\"4034\"}},\"id\":\"4039\",\"type\":\"CDSView\"},{\"attributes\":{},\"id\":\"4008\",\"type\":\"LinearScale\"},{\"attributes\":{},\"id\":\"4011\",\"type\":\"BasicTicker\"},{\"attributes\":{},\"id\":\"4022\",\"type\":\"ResetTool\"},{\"attributes\":{},\"id\":\"4004\",\"type\":\"DataRange1d\"},{\"attributes\":{\"axis\":{\"id\":\"4010\"},\"coordinates\":null,\"group\":null,\"ticker\":null},\"id\":\"4013\",\"type\":\"Grid\"},{\"attributes\":{\"line_color\":\"orange\",\"line_width\":4,\"x\":{\"field\":\"x\"},\"y\":{\"field\":\"y\"}},\"id\":\"4053\",\"type\":\"Line\"},{\"attributes\":{\"label\":{\"value\":\"Prix par mois\"},\"renderers\":[{\"id\":\"4038\"}]},\"id\":\"4051\",\"type\":\"LegendItem\"},{\"attributes\":{\"coordinates\":null,\"data_source\":{\"id\":\"4034\"},\"glyph\":{\"id\":\"4035\"},\"group\":null,\"hover_glyph\":null,\"muted_glyph\":{\"id\":\"4037\"},\"nonselection_glyph\":{\"id\":\"4036\"},\"view\":{\"id\":\"4039\"}},\"id\":\"4038\",\"type\":\"GlyphRenderer\"},{\"attributes\":{\"data\":{\"x\":[\"1992\",\"1992\",\"1992\",\"1992\",\"1992\",\"1992\",\"1992\",\"1992\",\"1992\",\"1992\",\"1992\",\"1992\",\"1993\",\"1993\",\"1993\",\"1993\",\"1993\",\"1993\",\"1993\",\"1993\",\"1993\",\"1993\",\"1993\",\"1993\",\"1994\",\"1994\",\"1994\",\"1994\",\"1994\",\"1994\",\"1994\",\"1994\",\"1994\",\"1994\",\"1994\",\"1994\",\"1995\",\"1995\",\"1995\",\"1995\",\"1995\",\"1995\",\"1995\",\"1995\",\"1995\",\"1995\",\"1995\",\"1995\",\"1996\",\"1996\",\"1996\",\"1996\",\"1996\",\"1996\",\"1996\",\"1996\",\"1996\",\"1996\",\"1996\",\"1996\",\"1997\",\"1997\",\"1997\",\"1997\",\"1997\",\"1997\",\"1997\",\"1997\",\"1997\",\"1997\",\"1997\",\"1997\",\"1998\",\"1998\",\"1998\",\"1998\",\"1998\",\"1998\",\"1998\",\"1998\",\"1998\",\"1998\",\"1998\",\"1998\",\"1999\",\"1999\",\"1999\",\"1999\",\"1999\",\"1999\",\"1999\",\"1999\",\"1999\",\"1999\",\"1999\",\"1999\",\"2000\",\"2000\",\"2000\",\"2000\",\"2000\",\"2000\",\"2000\",\"2000\",\"2000\",\"2000\",\"2000\",\"2000\",\"2001\",\"2001\",\"2001\",\"2001\",\"2001\",\"2001\",\"2001\",\"2001\",\"2001\",\"2001\",\"2001\",\"2001\",\"2002\",\"2002\",\"2002\",\"2002\",\"2002\",\"2002\",\"2002\",\"2002\",\"2002\",\"2002\",\"2002\",\"2002\",\"2003\",\"2003\",\"2003\",\"2003\",\"2003\",\"2003\",\"2003\",\"2003\",\"2003\",\"2003\",\"2003\",\"2003\",\"2004\",\"2004\",\"2004\",\"2004\",\"2004\",\"2004\",\"2004\",\"2004\",\"2004\",\"2004\",\"2004\",\"2004\",\"2005\",\"2005\",\"2005\",\"2005\",\"2005\",\"2005\",\"2005\",\"2005\",\"2005\",\"2005\",\"2005\",\"2005\",\"2006\",\"2006\",\"2006\",\"2006\",\"2006\",\"2006\",\"2006\",\"2006\",\"2006\",\"2006\",\"2006\",\"2006\",\"2007\",\"2007\",\"2007\",\"2007\",\"2007\",\"2007\",\"2007\",\"2007\",\"2007\",\"2007\",\"2007\",\"2007\",\"2008\",\"2008\",\"2008\",\"2008\",\"2008\",\"2008\",\"2008\",\"2008\",\"2008\",\"2008\",\"2008\",\"2008\",\"2009\",\"2009\",\"2009\",\"2009\",\"2009\",\"2009\",\"2009\",\"2009\",\"2009\",\"2009\",\"2009\",\"2009\",\"2010\",\"2010\",\"2010\",\"2010\",\"2010\",\"2010\",\"2010\",\"2010\",\"2010\",\"2010\",\"2010\",\"2010\",\"2011\",\"2011\",\"2011\",\"2011\",\"2011\",\"2011\",\"2011\",\"2011\",\"2011\",\"2011\",\"2011\",\"2011\",\"2012\",\"2012\",\"2012\",\"2012\",\"2012\",\"2012\",\"2012\",\"2012\",\"2012\",\"2012\",\"2012\",\"2012\",\"2013\",\"2013\",\"2013\",\"2013\",\"2013\",\"2013\",\"2013\",\"2013\",\"2013\",\"2013\",\"2013\",\"2013\",\"2014\",\"2014\",\"2014\",\"2014\",\"2014\",\"2014\",\"2014\",\"2014\",\"2014\",\"2014\",\"2014\",\"2014\",\"2015\",\"2015\",\"2015\",\"2015\",\"2015\",\"2015\",\"2015\",\"2015\",\"2015\",\"2015\",\"2015\",\"2015\",\"2016\",\"2016\",\"2016\",\"2016\",\"2016\",\"2016\",\"2016\",\"2016\",\"2016\",\"2016\",\"2016\",\"2016\",\"2017\",\"2017\",\"2017\",\"2017\",\"2017\",\"2017\",\"2017\",\"2017\",\"2017\",\"2017\",\"2017\",\"2017\",\"2018\",\"2018\",\"2018\",\"2018\",\"2018\",\"2018\",\"2018\",\"2018\",\"2018\",\"2018\",\"2018\",\"2018\",\"2019\",\"2019\",\"2019\",\"2019\",\"2019\",\"2019\",\"2019\",\"2019\",\"2019\",\"2019\",\"2019\",\"2019\",\"2020\",\"2020\",\"2020\",\"2020\",\"2020\",\"2020\",\"2020\",\"2020\",\"2020\",\"2020\",\"2020\",\"2020\",\"2021\",\"2021\",\"2021\",\"2021\",\"2021\",\"2021\",\"2021\",\"2021\",\"2021\",\"2021\",\"2021\",\"2021\",\"2022\",\"2022\"],\"y\":[0.54,0.54,0.54,0.53,0.54,0.54,0.54,0.54,0.53,0.53,0.54,0.54,0.53,0.54,0.54,0.55,0.55,0.54,0.54,0.56,0.59,0.6,0.6,0.59,0.6,0.6,0.6,0.6,0.6,0.6,0.59,0.59,0.59,0.59,0.59,0.59,0.59,0.59,0.59,0.59,0.59,0.59,0.59,0.59,0.6,0.6,0.6,0.6,0.62,0.63,0.65,0.66,0.65,0.64,0.64,0.64,0.66,0.7,0.7,0.7,0.71,0.7,0.69,0.68,0.68,0.67,0.67,0.68,0.67,0.68,0.69,0.68,0.68,0.67,0.66,0.66,0.65,0.64,0.64,0.63,0.63,0.63,0.63,0.62,0.63,0.63,0.64,0.67,0.67,0.67,0.68,0.7,0.71,0.72,0.73,0.78,0.81,0.81,0.82,0.8,0.81,0.82,0.83,0.84,0.93,0.9,0.91,0.89,0.81,0.8,0.8,0.8,0.82,0.82,0.82,0.8,0.8,0.79,0.78,0.75,0.74,0.74,0.75,0.78,0.77,0.76,0.75,0.77,0.79,0.81,0.79,0.79,0.82,0.84,0.89,0.82,0.77,0.76,0.76,0.77,0.77,0.78,0.79,0.79,0.81,0.81,0.83,0.84,0.88,0.86,0.87,0.91,0.92,0.96,0.97,0.97,0.93,0.94,0.99,1.02,0.99,1.02,1.06,1.07,1.1,1.12,1.07,1.04,1.06,1.07,1.08,1.1,1.12,1.11,1.12,1.13,1.1,1.05,1.04,1.04,1.02,1.02,1.04,1.07,1.07,1.08,1.1,1.1,1.11,1.12,1.2,1.22,1.21,1.2,1.26,1.29,1.37,1.46,1.45,1.36,1.33,1.26,1.15,1.05,0.99,0.99,0.95,0.98,0.98,1.02,1.01,1.04,1.02,1.02,1.05,1.05,1.09,1.09,1.13,1.16,1.18,1.17,1.16,1.15,1.16,1.17,1.19,1.22,1.29,1.31,1.37,1.38,1.34,1.33,1.33,1.33,1.34,1.35,1.39,1.38,1.42,1.43,1.46,1.45,1.42,1.37,1.36,1.44,1.42,1.4,1.38,1.38,1.39,1.41,1.41,1.38,1.34,1.34,1.35,1.36,1.38,1.34,1.33,1.34,1.34,1.34,1.33,1.32,1.32,1.32,1.32,1.31,1.3,1.28,1.25,1.19,1.13,1.19,1.22,1.22,1.24,1.23,1.2,1.14,1.12,1.12,1.11,1.08,1.03,1.03,1.06,1.07,1.12,1.17,1.14,1.11,1.12,1.15,1.16,1.18,1.27,1.27,1.25,1.24,1.21,1.18,1.17,1.2,1.22,1.24,1.27,1.28,1.39,1.38,1.37,1.4,1.45,1.46,1.45,1.45,1.48,1.52,1.48,1.42,1.4,1.44,1.46,1.47,1.49,1.43,1.42,1.42,1.44,1.44,1.44,1.47,1.49,1.42,1.32,1.23,1.18,1.22,1.25,1.25,1.22,1.21,1.22,1.27,1.31,1.36,1.4,1.39,1.4,1.43,1.45,1.45,1.46,1.56,1.57,1.54,1.63,1.72]},\"selected\":{\"id\":\"4048\"},\"selection_policy\":{\"id\":\"4047\"}},\"id\":\"4034\",\"type\":\"ColumnDataSource\"},{\"attributes\":{\"callback\":null,\"tooltips\":[[\"Ann\\u00e9e \",\"@x\"],[\"Prix \",\"@y\"]]},\"id\":\"4025\",\"type\":\"HoverTool\"},{\"attributes\":{},\"id\":\"4023\",\"type\":\"HelpTool\"},{\"attributes\":{},\"id\":\"4006\",\"type\":\"LinearScale\"},{\"attributes\":{\"fill_alpha\":{\"value\":0.5},\"fill_color\":{\"value\":\"red\"},\"hatch_color\":{\"value\":\"red\"},\"line_color\":{\"value\":\"red\"},\"size\":{\"value\":10},\"x\":{\"field\":\"x\"},\"y\":{\"field\":\"y\"}},\"id\":\"4072\",\"type\":\"Circle\"},{\"attributes\":{},\"id\":\"4046\",\"type\":\"AllLabels\"},{\"attributes\":{\"overlay\":{\"id\":\"4024\"}},\"id\":\"4020\",\"type\":\"BoxZoomTool\"},{\"attributes\":{},\"id\":\"4002\",\"type\":\"DataRange1d\"},{\"attributes\":{\"data\":{\"x\":[\"1992\",\"1993\",\"1994\",\"1995\",\"1996\",\"1997\",\"1998\",\"1999\",\"2000\",\"2001\",\"2002\",\"2003\",\"2004\",\"2005\",\"2006\",\"2007\",\"2008\",\"2009\",\"2010\",\"2011\",\"2012\",\"2013\",\"2014\",\"2015\",\"2016\",\"2017\",\"2018\",\"2019\",\"2020\",\"2021\",\"2022\"],\"y\":{\"__ndarray__\":\"NDMzMzMz4T/xiyW/WPLhPwrXo3A9CuM/+2LJL5b84j8L16NwPQrlP93d3d3d3eU/pHA9Ctej5D/xiyW/WPLlPyCF61G4Hus/k18s+cWS6T+jcD0K16PoP32x5BdLfuk/W/KLJb9Y7D94d3d3d3fwP1yPwvUoXPE/iYiIiIiI8T+F61G4HoX0PyMiIiIiIvA/frHkF0t+8j+F61G4HoX1P5NfLPnFkvY/1AY6baDT9T/UBjptoNP0P6uqqqqqqvI/yi+W/GLJ8T+7u7u7u7vzPwAAAAAAAPc/F0t+seQX9z9fLPnFkl/0PxhLfrHkF/c/zMzMzMzM+j8=\",\"dtype\":\"float64\",\"order\":\"little\",\"shape\":[31]}},\"selected\":{\"id\":\"4068\"},\"selection_policy\":{\"id\":\"4067\"}},\"id\":\"4052\",\"type\":\"ColumnDataSource\"},{\"attributes\":{\"data\":{\"x\":[\"2008\",\"2009\",\"2011\",\"2018\",\"2020\",\"2021\"],\"y\":{\"__ndarray__\":\"hetRuB6F9D8jIiIiIiLwP4XrUbgehfU/AAAAAAAA9z9fLPnFkl/0PxhLfrHkF/c/\",\"dtype\":\"float64\",\"order\":\"little\",\"shape\":[6]}},\"selected\":{\"id\":\"4089\"},\"selection_policy\":{\"id\":\"4088\"}},\"id\":\"4071\",\"type\":\"ColumnDataSource\"},{\"attributes\":{\"source\":{\"id\":\"4092\"}},\"id\":\"4097\",\"type\":\"CDSView\"},{\"attributes\":{},\"id\":\"4018\",\"type\":\"PanTool\"},{\"attributes\":{},\"id\":\"4112\",\"type\":\"Selection\"},{\"attributes\":{\"line_color\":\"grey\",\"line_dash\":[5,5],\"x\":{\"field\":\"x\"},\"y\":{\"field\":\"y\"}},\"id\":\"4035\",\"type\":\"Line\"},{\"attributes\":{\"border_line_alpha\":0.8,\"click_policy\":\"hide\",\"coordinates\":null,\"group\":null,\"items\":[{\"id\":\"4051\"},{\"id\":\"4070\"},{\"id\":\"4091\"},{\"id\":\"4114\"}],\"label_text_font_style\":\"italic\",\"location\":\"top_left\"},\"id\":\"4050\",\"type\":\"Legend\"},{\"attributes\":{},\"id\":\"4019\",\"type\":\"WheelZoomTool\"},{\"attributes\":{},\"id\":\"4088\",\"type\":\"UnionRenderers\"},{\"attributes\":{\"line_alpha\":0.2,\"line_color\":\"darkred\",\"x\":{\"field\":\"x\"},\"y\":{\"field\":\"y\"}},\"id\":\"4095\",\"type\":\"Line\"},{\"attributes\":{\"coordinates\":null,\"group\":null,\"text\":\"Evolution du prix du Gazole\"},\"id\":\"4000\",\"type\":\"Title\"},{\"attributes\":{\"fill_alpha\":{\"value\":0.2},\"fill_color\":{\"value\":\"red\"},\"hatch_alpha\":{\"value\":0.2},\"hatch_color\":{\"value\":\"red\"},\"line_alpha\":{\"value\":0.2},\"line_color\":{\"value\":\"red\"},\"size\":{\"value\":10},\"x\":{\"field\":\"x\"},\"y\":{\"field\":\"y\"}},\"id\":\"4074\",\"type\":\"Circle\"},{\"attributes\":{\"line_alpha\":0.1,\"line_color\":\"darkred\",\"x\":{\"field\":\"x\"},\"y\":{\"field\":\"y\"}},\"id\":\"4094\",\"type\":\"Line\"},{\"attributes\":{\"coordinates\":null,\"data_source\":{\"id\":\"4071\"},\"glyph\":{\"id\":\"4072\"},\"group\":null,\"hover_glyph\":null,\"muted_glyph\":{\"id\":\"4074\"},\"nonselection_glyph\":{\"id\":\"4073\"},\"view\":{\"id\":\"4076\"}},\"id\":\"4075\",\"type\":\"GlyphRenderer\"},{\"attributes\":{\"label\":{\"value\":\"R\\u00e9gression Lin\\u00e9aire\"},\"renderers\":[{\"id\":\"4096\"}]},\"id\":\"4114\",\"type\":\"LegendItem\"},{\"attributes\":{\"label\":{\"value\":\"Forte \\u00e9volution\"},\"renderers\":[{\"id\":\"4075\"}]},\"id\":\"4091\",\"type\":\"LegendItem\"},{\"attributes\":{\"fill_alpha\":{\"value\":0.1},\"fill_color\":{\"value\":\"red\"},\"hatch_alpha\":{\"value\":0.1},\"hatch_color\":{\"value\":\"red\"},\"line_alpha\":{\"value\":0.1},\"line_color\":{\"value\":\"red\"},\"size\":{\"value\":10},\"x\":{\"field\":\"x\"},\"y\":{\"field\":\"y\"}},\"id\":\"4073\",\"type\":\"Circle\"},{\"attributes\":{},\"id\":\"4043\",\"type\":\"AllLabels\"},{\"attributes\":{},\"id\":\"4111\",\"type\":\"UnionRenderers\"},{\"attributes\":{\"source\":{\"id\":\"4071\"}},\"id\":\"4076\",\"type\":\"CDSView\"},{\"attributes\":{\"line_alpha\":0.1,\"line_color\":\"grey\",\"line_dash\":[5,5],\"x\":{\"field\":\"x\"},\"y\":{\"field\":\"y\"}},\"id\":\"4036\",\"type\":\"Line\"},{\"attributes\":{\"source\":{\"id\":\"4052\"}},\"id\":\"4057\",\"type\":\"CDSView\"},{\"attributes\":{},\"id\":\"4042\",\"type\":\"BasicTickFormatter\"},{\"attributes\":{},\"id\":\"4015\",\"type\":\"BasicTicker\"},{\"attributes\":{\"line_alpha\":0.2,\"line_color\":\"orange\",\"line_width\":4,\"x\":{\"field\":\"x\"},\"y\":{\"field\":\"y\"}},\"id\":\"4055\",\"type\":\"Line\"},{\"attributes\":{},\"id\":\"4021\",\"type\":\"SaveTool\"},{\"attributes\":{\"axis_label\":\"P\\u00e9riode (En ann\\u00e9e)\",\"coordinates\":null,\"formatter\":{\"id\":\"4045\"},\"group\":null,\"major_label_policy\":{\"id\":\"4046\"},\"ticker\":{\"id\":\"4011\"}},\"id\":\"4010\",\"type\":\"LinearAxis\"},{\"attributes\":{\"line_alpha\":0.1,\"line_color\":\"orange\",\"line_width\":4,\"x\":{\"field\":\"x\"},\"y\":{\"field\":\"y\"}},\"id\":\"4054\",\"type\":\"Line\"},{\"attributes\":{},\"id\":\"4045\",\"type\":\"BasicTickFormatter\"},{\"attributes\":{},\"id\":\"4068\",\"type\":\"Selection\"},{\"attributes\":{\"line_color\":\"darkred\",\"x\":{\"field\":\"x\"},\"y\":{\"field\":\"y\"}},\"id\":\"4093\",\"type\":\"Line\"},{\"attributes\":{},\"id\":\"4089\",\"type\":\"Selection\"},{\"attributes\":{\"bottom_units\":\"screen\",\"coordinates\":null,\"fill_alpha\":0.5,\"fill_color\":\"lightgrey\",\"group\":null,\"left_units\":\"screen\",\"level\":\"overlay\",\"line_alpha\":1.0,\"line_color\":\"black\",\"line_dash\":[4,4],\"line_width\":2,\"right_units\":\"screen\",\"syncable\":false,\"top_units\":\"screen\"},\"id\":\"4024\",\"type\":\"BoxAnnotation\"},{\"attributes\":{\"logo\":null,\"tools\":[{\"id\":\"4018\"},{\"id\":\"4019\"},{\"id\":\"4020\"},{\"id\":\"4021\"},{\"id\":\"4022\"},{\"id\":\"4023\"},{\"id\":\"4025\"}]},\"id\":\"4026\",\"type\":\"Toolbar\"},{\"attributes\":{\"line_alpha\":0.2,\"line_color\":\"grey\",\"line_dash\":[5,5],\"x\":{\"field\":\"x\"},\"y\":{\"field\":\"y\"}},\"id\":\"4037\",\"type\":\"Line\"},{\"attributes\":{},\"id\":\"4047\",\"type\":\"UnionRenderers\"},{\"attributes\":{},\"id\":\"4067\",\"type\":\"UnionRenderers\"},{\"attributes\":{\"axis\":{\"id\":\"4014\"},\"coordinates\":null,\"dimension\":1,\"group\":null,\"ticker\":null},\"id\":\"4017\",\"type\":\"Grid\"},{\"attributes\":{\"coordinates\":null,\"data_source\":{\"id\":\"4092\"},\"glyph\":{\"id\":\"4093\"},\"group\":null,\"hover_glyph\":null,\"muted_glyph\":{\"id\":\"4095\"},\"nonselection_glyph\":{\"id\":\"4094\"},\"view\":{\"id\":\"4097\"}},\"id\":\"4096\",\"type\":\"GlyphRenderer\"},{\"attributes\":{\"data\":{\"x\":{\"__ndarray__\":\"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\",\"dtype\":\"float64\",\"order\":\"little\",\"shape\":[362]},\"y\":{\"__ndarray__\":\"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\",\"dtype\":\"float64\",\"order\":\"little\",\"shape\":[362]}},\"selected\":{\"id\":\"4112\"},\"selection_policy\":{\"id\":\"4111\"}},\"id\":\"4092\",\"type\":\"ColumnDataSource\"},{\"attributes\":{},\"id\":\"4048\",\"type\":\"Selection\"}],\"root_ids\":[\"3999\"]},\"title\":\"Bokeh Application\",\"version\":\"2.4.1\"}};\n  const render_items = [{\"docid\":\"7d74a4c8-58d9-40e5-9274-2be3637adbed\",\"root_ids\":[\"3999\"],\"roots\":{\"3999\":\"24d49f39-520b-48b4-af1d-be74b77b33e9\"}}];\n  root.Bokeh.embed.embed_items_notebook(docs_json, render_items);\n\n  }\n  if (root.Bokeh !== undefined) {\n    embed_document(root);\n  } else {\n    let attempts = 0;\n    const timer = setInterval(function(root) {\n      if (root.Bokeh !== undefined) {\n        clearInterval(timer);\n        embed_document(root);\n      } else {\n        attempts++;\n        if (attempts > 100) {\n          clearInterval(timer);\n          console.log(\"Bokeh: ERROR: Unable to run BokehJS code because BokehJS library is missing\");\n        }\n      }\n    }, 10, root)\n  }\n})(window);",
          "application/vnd.bokehjs_exec.v0+json": ""
         },
         "metadata": {
          "application/vnd.bokehjs_exec.v0+json": {
           "id": "3999"
          }
         },
         "output_type": "display_data"
        }
       ]
      }
     },
     "516756e2b9014c2e842a6b7e257b3397": {
      "model_module": "@jupyter-widgets/base",
      "model_module_version": "1.2.0",
      "model_name": "LayoutModel",
      "state": {}
     },
     "51bba32b443c4093b3f3f4fd31af4fba": {
      "model_module": "@jupyter-widgets/base",
      "model_module_version": "1.2.0",
      "model_name": "LayoutModel",
      "state": {}
     },
     "522964d675494f2c9317d7655a4486b1": {
      "model_module": "@jupyter-widgets/base",
      "model_module_version": "1.2.0",
      "model_name": "LayoutModel",
      "state": {}
     },
     "544ddce848ec42359d5b0c765fda2e3a": {
      "model_module": "@jupyter-widgets/base",
      "model_module_version": "1.2.0",
      "model_name": "LayoutModel",
      "state": {}
     },
     "561e4f0480ca4465a99e62b7a82b83c7": {
      "model_module": "@jupyter-widgets/controls",
      "model_module_version": "1.5.0",
      "model_name": "VBoxModel",
      "state": {
       "_dom_classes": [
        "widget-interact"
       ],
       "children": [
        "IPY_MODEL_4d7f63a28442439691f0bb3714fd2064",
        "IPY_MODEL_34a4bb9d7c0144fa9b805a364ffdf06e"
       ],
       "layout": "IPY_MODEL_3675cdc9c5ea4fd892d093fdb71c8973"
      }
     },
     "5653b7ca8cf64ed6839708522be4da2e": {
      "model_module": "@jupyter-widgets/base",
      "model_module_version": "1.2.0",
      "model_name": "LayoutModel",
      "state": {}
     },
     "5689cf56d6ff4b259780beef1fcf2ef3": {
      "model_module": "@jupyter-widgets/base",
      "model_module_version": "1.2.0",
      "model_name": "LayoutModel",
      "state": {}
     },
     "569bcb6836a54c7486afd8363d3d1ba9": {
      "model_module": "@jupyter-widgets/controls",
      "model_module_version": "1.5.0",
      "model_name": "DropdownModel",
      "state": {
       "_options_labels": [
        "Graph",
        "1992",
        "1993",
        "1994",
        "1995",
        "1996",
        "1997",
        "1998",
        "1999",
        "2000",
        "2001",
        "2002",
        "2003",
        "2004",
        "2005",
        "2006",
        "2007",
        "2008",
        "2009",
        "2010",
        "2011",
        "2012",
        "2013",
        "2014",
        "2015",
        "2016",
        "2017",
        "2018",
        "2019",
        "2020",
        "2021",
        "2022"
       ],
       "description": "Choisi",
       "index": 9,
       "layout": "IPY_MODEL_da61e02234e14c18b2ab23d9419d574b",
       "style": "IPY_MODEL_ce2f05c0eeac4cebbc42509464e0bce4"
      }
     },
     "56d0f00792bb4d2a838ad7fa3b47a52d": {
      "model_module": "@jupyter-widgets/controls",
      "model_module_version": "1.5.0",
      "model_name": "VBoxModel",
      "state": {
       "_dom_classes": [
        "widget-interact"
       ],
       "children": [
        "IPY_MODEL_eba74ff32ed94e12a7d65f30c913dc93",
        "IPY_MODEL_fc9998268f774834a82c5f551390509c"
       ],
       "layout": "IPY_MODEL_edef073940704912ad7f539eea2d09e1"
      }
     },
     "56ea0647787b485bb893c8746ee6a590": {
      "model_module": "@jupyter-widgets/base",
      "model_module_version": "1.2.0",
      "model_name": "LayoutModel",
      "state": {}
     },
     "570f17c1ecf8483db37d2cfb0e4f7234": {
      "model_module": "@jupyter-widgets/base",
      "model_module_version": "1.2.0",
      "model_name": "LayoutModel",
      "state": {}
     },
     "5924c75e71c64855ad62a47d8722fbf8": {
      "model_module": "@jupyter-widgets/controls",
      "model_module_version": "1.5.0",
      "model_name": "DescriptionStyleModel",
      "state": {
       "description_width": ""
      }
     },
     "59518f2e735b4bc5ba4e7139abbe5de0": {
      "model_module": "@jupyter-widgets/controls",
      "model_module_version": "1.5.0",
      "model_name": "VBoxModel",
      "state": {
       "_dom_classes": [
        "widget-interact"
       ],
       "children": [
        "IPY_MODEL_1a56a7fae1a34d8482a5eac79d2cc0a4",
        "IPY_MODEL_5efa8aacd63e4b16b3ef7688f3ec6041"
       ],
       "layout": "IPY_MODEL_125af9f11bb247dd84be037a5a140ede"
      }
     },
     "59bb812dda4747f9a67a6fe3a6a24d53": {
      "model_module": "@jupyter-widgets/controls",
      "model_module_version": "1.5.0",
      "model_name": "VBoxModel",
      "state": {
       "_dom_classes": [
        "widget-interact"
       ],
       "children": [
        "IPY_MODEL_aae678f84c54481d86fb506e06d7d204",
        "IPY_MODEL_8f0e451b88814423ae8fd247f0d09f1e"
       ],
       "layout": "IPY_MODEL_d5f8878c224a4394ae9eb0c1d3951fc2"
      }
     },
     "5de122ac371e4ee5a252c6114ab9919c": {
      "model_module": "@jupyter-widgets/controls",
      "model_module_version": "1.5.0",
      "model_name": "DescriptionStyleModel",
      "state": {
       "description_width": ""
      }
     },
     "5e20e0fc6bc84725a29c744142c6f51d": {
      "model_module": "@jupyter-widgets/base",
      "model_module_version": "1.2.0",
      "model_name": "LayoutModel",
      "state": {}
     },
     "5efa8aacd63e4b16b3ef7688f3ec6041": {
      "model_module": "@jupyter-widgets/output",
      "model_module_version": "1.0.0",
      "model_name": "OutputModel",
      "state": {
       "layout": "IPY_MODEL_68630ab29e594d0fadfcc0d4f7f4e203",
       "outputs": [
        {
         "data": {
          "text/html": "\n\n\n\n\n\n  <div class=\"bk-root\" id=\"dc0e178d-dbbc-4dce-99ce-ce070c68ff12\" data-root-id=\"4550\"></div>\n"
         },
         "metadata": {},
         "output_type": "display_data"
        },
        {
         "data": {
          "application/javascript": "(function(root) {\n  function embed_document(root) {\n    \n  const docs_json = {\"49a0988a-40be-4d3c-9aed-7f995a37e511\":{\"defs\":[],\"roots\":{\"references\":[{\"attributes\":{\"below\":[{\"id\":\"4561\"}],\"center\":[{\"id\":\"4563\"},{\"id\":\"4567\"},{\"id\":\"4600\"}],\"left\":[{\"id\":\"4564\"}],\"renderers\":[{\"id\":\"4588\"}],\"sizing_mode\":\"stretch_width\",\"title\":{\"id\":\"4551\"},\"toolbar\":{\"id\":\"4576\"},\"x_range\":{\"id\":\"4553\"},\"x_scale\":{\"id\":\"4557\"},\"y_range\":{\"id\":\"4555\"},\"y_scale\":{\"id\":\"4559\"}},\"id\":\"4550\",\"subtype\":\"Figure\",\"type\":\"Plot\"},{\"attributes\":{},\"id\":\"4592\",\"type\":\"BasicTickFormatter\"},{\"attributes\":{\"axis\":{\"id\":\"4564\"},\"coordinates\":null,\"dimension\":1,\"group\":null,\"ticker\":null},\"id\":\"4567\",\"type\":\"Grid\"},{\"attributes\":{\"coordinates\":null,\"group\":null,\"text\":\"Evolution du prix du Gazole sur l'ann\\u00e9e 2003\"},\"id\":\"4551\",\"type\":\"Title\"},{\"attributes\":{\"factors\":[\"Janvier\",\"F\\u00e9vrier\",\"Mars\",\"Avril\",\"Mai\",\"Juin\",\"Juillet\",\"Ao\\u00fbt\",\"Septembre\",\"Octobre\",\"Novembre\",\"D\\u00e9cembre\"]},\"id\":\"4553\",\"type\":\"FactorRange\"},{\"attributes\":{},\"id\":\"4572\",\"type\":\"ResetTool\"},{\"attributes\":{\"line_color\":\"orange\",\"line_width\":3,\"x\":{\"field\":\"x\"},\"y\":{\"field\":\"y\"}},\"id\":\"4585\",\"type\":\"Line\"},{\"attributes\":{},\"id\":\"4597\",\"type\":\"UnionRenderers\"},{\"attributes\":{},\"id\":\"4571\",\"type\":\"SaveTool\"},{\"attributes\":{\"source\":{\"id\":\"4584\"}},\"id\":\"4589\",\"type\":\"CDSView\"},{\"attributes\":{},\"id\":\"4568\",\"type\":\"PanTool\"},{\"attributes\":{},\"id\":\"4569\",\"type\":\"WheelZoomTool\"},{\"attributes\":{},\"id\":\"4555\",\"type\":\"DataRange1d\"},{\"attributes\":{\"bottom_units\":\"screen\",\"coordinates\":null,\"fill_alpha\":0.5,\"fill_color\":\"lightgrey\",\"group\":null,\"left_units\":\"screen\",\"level\":\"overlay\",\"line_alpha\":1.0,\"line_color\":\"black\",\"line_dash\":[4,4],\"line_width\":2,\"right_units\":\"screen\",\"syncable\":false,\"top_units\":\"screen\"},\"id\":\"4574\",\"type\":\"BoxAnnotation\"},{\"attributes\":{},\"id\":\"4557\",\"type\":\"CategoricalScale\"},{\"attributes\":{},\"id\":\"4596\",\"type\":\"AllLabels\"},{\"attributes\":{},\"id\":\"4595\",\"type\":\"CategoricalTickFormatter\"},{\"attributes\":{\"border_line_alpha\":0.8,\"coordinates\":null,\"group\":null,\"items\":[{\"id\":\"4601\"}],\"label_text_font_style\":\"italic\",\"location\":\"top_left\"},\"id\":\"4600\",\"type\":\"Legend\"},{\"attributes\":{\"data\":{\"x\":[\"Janvier\",\"F\\u00e9vrier\",\"Mars\",\"Avril\",\"Mai\",\"Juin\",\"Juillet\",\"Ao\\u00fbt\",\"Septembre\",\"Octobre\",\"Novembre\",\"D\\u00e9cembre\"],\"y\":{\"__ndarray__\":\"PQrXo3A96j/hehSuR+HqP3sUrkfheuw/PQrXo3A96j+kcD0K16PoP1K4HoXrUeg/UrgehetR6D+kcD0K16PoP6RwPQrXo+g/9ihcj8L16D9I4XoUrkfpP0jhehSuR+k/\",\"dtype\":\"float64\",\"order\":\"little\",\"shape\":[12]}},\"selected\":{\"id\":\"4598\"},\"selection_policy\":{\"id\":\"4597\"}},\"id\":\"4584\",\"type\":\"ColumnDataSource\"},{\"attributes\":{\"line_alpha\":0.1,\"line_color\":\"orange\",\"line_width\":3,\"x\":{\"field\":\"x\"},\"y\":{\"field\":\"y\"}},\"id\":\"4586\",\"type\":\"Line\"},{\"attributes\":{\"logo\":null,\"tools\":[{\"id\":\"4568\"},{\"id\":\"4569\"},{\"id\":\"4570\"},{\"id\":\"4571\"},{\"id\":\"4572\"},{\"id\":\"4573\"},{\"id\":\"4575\"}]},\"id\":\"4576\",\"type\":\"Toolbar\"},{\"attributes\":{},\"id\":\"4565\",\"type\":\"BasicTicker\"},{\"attributes\":{\"label\":{\"value\":\"Prix par mois\"},\"renderers\":[{\"id\":\"4588\"}]},\"id\":\"4601\",\"type\":\"LegendItem\"},{\"attributes\":{\"axis_label\":\"P\\u00e9riode (En mois)\",\"coordinates\":null,\"formatter\":{\"id\":\"4595\"},\"group\":null,\"major_label_policy\":{\"id\":\"4596\"},\"ticker\":{\"id\":\"4562\"}},\"id\":\"4561\",\"type\":\"CategoricalAxis\"},{\"attributes\":{\"axis\":{\"id\":\"4561\"},\"coordinates\":null,\"group\":null,\"ticker\":null},\"id\":\"4563\",\"type\":\"Grid\"},{\"attributes\":{\"line_alpha\":0.2,\"line_color\":\"orange\",\"line_width\":3,\"x\":{\"field\":\"x\"},\"y\":{\"field\":\"y\"}},\"id\":\"4587\",\"type\":\"Line\"},{\"attributes\":{\"overlay\":{\"id\":\"4574\"}},\"id\":\"4570\",\"type\":\"BoxZoomTool\"},{\"attributes\":{\"callback\":null,\"tooltips\":[[\"Prix \",\"@y\"],[\"Mois \",\"@x\"]]},\"id\":\"4575\",\"type\":\"HoverTool\"},{\"attributes\":{},\"id\":\"4593\",\"type\":\"AllLabels\"},{\"attributes\":{\"coordinates\":null,\"data_source\":{\"id\":\"4584\"},\"glyph\":{\"id\":\"4585\"},\"group\":null,\"hover_glyph\":null,\"muted_glyph\":{\"id\":\"4587\"},\"nonselection_glyph\":{\"id\":\"4586\"},\"view\":{\"id\":\"4589\"}},\"id\":\"4588\",\"type\":\"GlyphRenderer\"},{\"attributes\":{},\"id\":\"4598\",\"type\":\"Selection\"},{\"attributes\":{},\"id\":\"4559\",\"type\":\"LinearScale\"},{\"attributes\":{},\"id\":\"4562\",\"type\":\"CategoricalTicker\"},{\"attributes\":{\"axis_label\":\"Prix (En Euro)\",\"coordinates\":null,\"formatter\":{\"id\":\"4592\"},\"group\":null,\"major_label_policy\":{\"id\":\"4593\"},\"ticker\":{\"id\":\"4565\"}},\"id\":\"4564\",\"type\":\"LinearAxis\"},{\"attributes\":{},\"id\":\"4573\",\"type\":\"HelpTool\"}],\"root_ids\":[\"4550\"]},\"title\":\"Bokeh Application\",\"version\":\"2.4.1\"}};\n  const render_items = [{\"docid\":\"49a0988a-40be-4d3c-9aed-7f995a37e511\",\"root_ids\":[\"4550\"],\"roots\":{\"4550\":\"dc0e178d-dbbc-4dce-99ce-ce070c68ff12\"}}];\n  root.Bokeh.embed.embed_items_notebook(docs_json, render_items);\n\n  }\n  if (root.Bokeh !== undefined) {\n    embed_document(root);\n  } else {\n    let attempts = 0;\n    const timer = setInterval(function(root) {\n      if (root.Bokeh !== undefined) {\n        clearInterval(timer);\n        embed_document(root);\n      } else {\n        attempts++;\n        if (attempts > 100) {\n          clearInterval(timer);\n          console.log(\"Bokeh: ERROR: Unable to run BokehJS code because BokehJS library is missing\");\n        }\n      }\n    }, 10, root)\n  }\n})(window);",
          "application/vnd.bokehjs_exec.v0+json": ""
         },
         "metadata": {
          "application/vnd.bokehjs_exec.v0+json": {
           "id": "4550"
          }
         },
         "output_type": "display_data"
        }
       ]
      }
     },
     "607b558191504f86bae9f12601e51dc8": {
      "model_module": "@jupyter-widgets/controls",
      "model_module_version": "1.5.0",
      "model_name": "DescriptionStyleModel",
      "state": {
       "description_width": ""
      }
     },
     "65a1dedc91234b00a8e279b294d57858": {
      "model_module": "@jupyter-widgets/output",
      "model_module_version": "1.0.0",
      "model_name": "OutputModel",
      "state": {
       "layout": "IPY_MODEL_ed262c91032242fa9108676ff2c7a15b",
       "outputs": [
        {
         "ename": "ValueError",
         "evalue": "failed to validate FigureOptions(...).x_axis_type: expected an element of either Null, Auto or Enum('linear', 'log', 'datetime', 'mercator'), got 'string'",
         "output_type": "error",
         "traceback": [
          "\u001b[0;31m---------------------------------------------------------------------------\u001b[0m",
          "\u001b[0;31mValueError\u001b[0m                                Traceback (most recent call last)",
          "\u001b[0;32m~/anaconda3/lib/python3.9/site-packages/ipywidgets/widgets/interaction.py\u001b[0m in \u001b[0;36mupdate\u001b[0;34m(self, *args)\u001b[0m\n\u001b[1;32m    255\u001b[0m                     \u001b[0mvalue\u001b[0m \u001b[0;34m=\u001b[0m \u001b[0mwidget\u001b[0m\u001b[0;34m.\u001b[0m\u001b[0mget_interact_value\u001b[0m\u001b[0;34m(\u001b[0m\u001b[0;34m)\u001b[0m\u001b[0;34m\u001b[0m\u001b[0;34m\u001b[0m\u001b[0m\n\u001b[1;32m    256\u001b[0m                     \u001b[0mself\u001b[0m\u001b[0;34m.\u001b[0m\u001b[0mkwargs\u001b[0m\u001b[0;34m[\u001b[0m\u001b[0mwidget\u001b[0m\u001b[0;34m.\u001b[0m\u001b[0m_kwarg\u001b[0m\u001b[0;34m]\u001b[0m \u001b[0;34m=\u001b[0m \u001b[0mvalue\u001b[0m\u001b[0;34m\u001b[0m\u001b[0;34m\u001b[0m\u001b[0m\n\u001b[0;32m--> 257\u001b[0;31m                 \u001b[0mself\u001b[0m\u001b[0;34m.\u001b[0m\u001b[0mresult\u001b[0m \u001b[0;34m=\u001b[0m \u001b[0mself\u001b[0m\u001b[0;34m.\u001b[0m\u001b[0mf\u001b[0m\u001b[0;34m(\u001b[0m\u001b[0;34m**\u001b[0m\u001b[0mself\u001b[0m\u001b[0;34m.\u001b[0m\u001b[0mkwargs\u001b[0m\u001b[0;34m)\u001b[0m\u001b[0;34m\u001b[0m\u001b[0;34m\u001b[0m\u001b[0m\n\u001b[0m\u001b[1;32m    258\u001b[0m                 \u001b[0mshow_inline_matplotlib_plots\u001b[0m\u001b[0;34m(\u001b[0m\u001b[0;34m)\u001b[0m\u001b[0;34m\u001b[0m\u001b[0;34m\u001b[0m\u001b[0m\n\u001b[1;32m    259\u001b[0m                 \u001b[0;32mif\u001b[0m \u001b[0mself\u001b[0m\u001b[0;34m.\u001b[0m\u001b[0mauto_display\u001b[0m \u001b[0;32mand\u001b[0m \u001b[0mself\u001b[0m\u001b[0;34m.\u001b[0m\u001b[0mresult\u001b[0m \u001b[0;32mis\u001b[0m \u001b[0;32mnot\u001b[0m \u001b[0;32mNone\u001b[0m\u001b[0;34m:\u001b[0m\u001b[0;34m\u001b[0m\u001b[0;34m\u001b[0m\u001b[0m\n",
          "\u001b[0;32m/tmp/ipykernel_24999/2930190690.py\u001b[0m in \u001b[0;36maff_per_year\u001b[0;34m(Choisi)\u001b[0m\n\u001b[1;32m     49\u001b[0m \u001b[0;34m\u001b[0m\u001b[0m\n\u001b[1;32m     50\u001b[0m         \u001b[0;31m#   Je crée ensuite le graph avec bokeh qui sera display\u001b[0m\u001b[0;34m\u001b[0m\u001b[0;34m\u001b[0m\u001b[0m\n\u001b[0;32m---> 51\u001b[0;31m         graph_per_year = figure(\n\u001b[0m\u001b[1;32m     52\u001b[0m                   \u001b[0mtitle\u001b[0m\u001b[0;34m=\u001b[0m\u001b[0;34mf\"Evolution du prix du Gazole sur l'année {Choisi}\"\u001b[0m\u001b[0;34m,\u001b[0m\u001b[0;34m\u001b[0m\u001b[0;34m\u001b[0m\u001b[0m\n\u001b[1;32m     53\u001b[0m                   \u001b[0mx_axis_label\u001b[0m\u001b[0;34m=\u001b[0m\u001b[0;34m\"Période (En mois)\"\u001b[0m\u001b[0;34m,\u001b[0m\u001b[0;34m\u001b[0m\u001b[0;34m\u001b[0m\u001b[0m\n",
          "\u001b[0;32m~/anaconda3/lib/python3.9/site-packages/bokeh/plotting/figure.py\u001b[0m in \u001b[0;36mfigure\u001b[0;34m(**kwargs)\u001b[0m\n\u001b[1;32m    663\u001b[0m \u001b[0;34m\u001b[0m\u001b[0m\n\u001b[1;32m    664\u001b[0m     '''\n\u001b[0;32m--> 665\u001b[0;31m     \u001b[0;32mreturn\u001b[0m \u001b[0mFigure\u001b[0m\u001b[0;34m(\u001b[0m\u001b[0;34m**\u001b[0m\u001b[0mkwargs\u001b[0m\u001b[0;34m)\u001b[0m\u001b[0;34m\u001b[0m\u001b[0;34m\u001b[0m\u001b[0m\n\u001b[0m\u001b[1;32m    666\u001b[0m \u001b[0;34m\u001b[0m\u001b[0m\n\u001b[1;32m    667\u001b[0m \u001b[0;32mdef\u001b[0m \u001b[0mmarkers\u001b[0m\u001b[0;34m(\u001b[0m\u001b[0;34m)\u001b[0m\u001b[0;34m:\u001b[0m\u001b[0;34m\u001b[0m\u001b[0;34m\u001b[0m\u001b[0m\n",
          "\u001b[0;32m~/anaconda3/lib/python3.9/site-packages/bokeh/plotting/figure.py\u001b[0m in \u001b[0;36m__init__\u001b[0;34m(self, *arg, **kw)\u001b[0m\n\u001b[1;32m    173\u001b[0m \u001b[0;34m\u001b[0m\u001b[0m\n\u001b[1;32m    174\u001b[0m     \u001b[0;32mdef\u001b[0m \u001b[0m__init__\u001b[0m\u001b[0;34m(\u001b[0m\u001b[0mself\u001b[0m\u001b[0;34m,\u001b[0m \u001b[0;34m*\u001b[0m\u001b[0marg\u001b[0m\u001b[0;34m,\u001b[0m \u001b[0;34m**\u001b[0m\u001b[0mkw\u001b[0m\u001b[0;34m)\u001b[0m \u001b[0;34m->\u001b[0m \u001b[0;32mNone\u001b[0m\u001b[0;34m:\u001b[0m\u001b[0;34m\u001b[0m\u001b[0;34m\u001b[0m\u001b[0m\n\u001b[0;32m--> 175\u001b[0;31m         \u001b[0mopts\u001b[0m \u001b[0;34m=\u001b[0m \u001b[0mFigureOptions\u001b[0m\u001b[0;34m(\u001b[0m\u001b[0mkw\u001b[0m\u001b[0;34m)\u001b[0m\u001b[0;34m\u001b[0m\u001b[0;34m\u001b[0m\u001b[0m\n\u001b[0m\u001b[1;32m    176\u001b[0m         \u001b[0msuper\u001b[0m\u001b[0;34m(\u001b[0m\u001b[0;34m)\u001b[0m\u001b[0;34m.\u001b[0m\u001b[0m__init__\u001b[0m\u001b[0;34m(\u001b[0m\u001b[0;34m*\u001b[0m\u001b[0marg\u001b[0m\u001b[0;34m,\u001b[0m \u001b[0;34m**\u001b[0m\u001b[0mkw\u001b[0m\u001b[0;34m)\u001b[0m\u001b[0;34m\u001b[0m\u001b[0;34m\u001b[0m\u001b[0m\n\u001b[1;32m    177\u001b[0m \u001b[0;34m\u001b[0m\u001b[0m\n",
          "\u001b[0;32m~/anaconda3/lib/python3.9/site-packages/bokeh/util/options.py\u001b[0m in \u001b[0;36m__init__\u001b[0;34m(self, kw)\u001b[0m\n\u001b[1;32m     73\u001b[0m                 \u001b[0mprops\u001b[0m\u001b[0;34m[\u001b[0m\u001b[0mk\u001b[0m\u001b[0;34m]\u001b[0m \u001b[0;34m=\u001b[0m \u001b[0mkw\u001b[0m\u001b[0;34m.\u001b[0m\u001b[0mpop\u001b[0m\u001b[0;34m(\u001b[0m\u001b[0mk\u001b[0m\u001b[0;34m)\u001b[0m\u001b[0;34m\u001b[0m\u001b[0;34m\u001b[0m\u001b[0m\n\u001b[1;32m     74\u001b[0m \u001b[0;34m\u001b[0m\u001b[0m\n\u001b[0;32m---> 75\u001b[0;31m         \u001b[0msuper\u001b[0m\u001b[0;34m(\u001b[0m\u001b[0;34m)\u001b[0m\u001b[0;34m.\u001b[0m\u001b[0m__init__\u001b[0m\u001b[0;34m(\u001b[0m\u001b[0;34m**\u001b[0m\u001b[0mprops\u001b[0m\u001b[0;34m)\u001b[0m\u001b[0;34m\u001b[0m\u001b[0;34m\u001b[0m\u001b[0m\n\u001b[0m\u001b[1;32m     76\u001b[0m \u001b[0;34m\u001b[0m\u001b[0m\n\u001b[1;32m     77\u001b[0m \u001b[0;31m#-----------------------------------------------------------------------------\u001b[0m\u001b[0;34m\u001b[0m\u001b[0;34m\u001b[0m\u001b[0m\n",
          "\u001b[0;32m~/anaconda3/lib/python3.9/site-packages/bokeh/core/has_props.py\u001b[0m in \u001b[0;36m__init__\u001b[0;34m(self, **properties)\u001b[0m\n\u001b[1;32m    204\u001b[0m \u001b[0;34m\u001b[0m\u001b[0m\n\u001b[1;32m    205\u001b[0m         \u001b[0;32mfor\u001b[0m \u001b[0mname\u001b[0m\u001b[0;34m,\u001b[0m \u001b[0mvalue\u001b[0m \u001b[0;32min\u001b[0m \u001b[0mproperties\u001b[0m\u001b[0;34m.\u001b[0m\u001b[0mitems\u001b[0m\u001b[0;34m(\u001b[0m\u001b[0;34m)\u001b[0m\u001b[0;34m:\u001b[0m\u001b[0;34m\u001b[0m\u001b[0;34m\u001b[0m\u001b[0m\n\u001b[0;32m--> 206\u001b[0;31m             \u001b[0msetattr\u001b[0m\u001b[0;34m(\u001b[0m\u001b[0mself\u001b[0m\u001b[0;34m,\u001b[0m \u001b[0mname\u001b[0m\u001b[0;34m,\u001b[0m \u001b[0mvalue\u001b[0m\u001b[0;34m)\u001b[0m\u001b[0;34m\u001b[0m\u001b[0;34m\u001b[0m\u001b[0m\n\u001b[0m\u001b[1;32m    207\u001b[0m \u001b[0;34m\u001b[0m\u001b[0m\n\u001b[1;32m    208\u001b[0m         \u001b[0mself\u001b[0m\u001b[0;34m.\u001b[0m\u001b[0m_initialized\u001b[0m \u001b[0;34m=\u001b[0m \u001b[0;32mTrue\u001b[0m\u001b[0;34m\u001b[0m\u001b[0;34m\u001b[0m\u001b[0m\n",
          "\u001b[0;32m~/anaconda3/lib/python3.9/site-packages/bokeh/core/has_props.py\u001b[0m in \u001b[0;36m__setattr__\u001b[0;34m(self, name, value)\u001b[0m\n\u001b[1;32m    228\u001b[0m         \u001b[0mproperties\u001b[0m \u001b[0;34m=\u001b[0m \u001b[0mself\u001b[0m\u001b[0;34m.\u001b[0m\u001b[0mproperties\u001b[0m\u001b[0;34m(\u001b[0m\u001b[0m_with_props\u001b[0m\u001b[0;34m=\u001b[0m\u001b[0;32mTrue\u001b[0m\u001b[0;34m)\u001b[0m\u001b[0;34m\u001b[0m\u001b[0;34m\u001b[0m\u001b[0m\n\u001b[1;32m    229\u001b[0m         \u001b[0;32mif\u001b[0m \u001b[0mname\u001b[0m \u001b[0;32min\u001b[0m \u001b[0mproperties\u001b[0m\u001b[0;34m:\u001b[0m\u001b[0;34m\u001b[0m\u001b[0;34m\u001b[0m\u001b[0m\n\u001b[0;32m--> 230\u001b[0;31m             \u001b[0;32mreturn\u001b[0m \u001b[0msuper\u001b[0m\u001b[0;34m(\u001b[0m\u001b[0;34m)\u001b[0m\u001b[0;34m.\u001b[0m\u001b[0m__setattr__\u001b[0m\u001b[0;34m(\u001b[0m\u001b[0mname\u001b[0m\u001b[0;34m,\u001b[0m \u001b[0mvalue\u001b[0m\u001b[0;34m)\u001b[0m\u001b[0;34m\u001b[0m\u001b[0;34m\u001b[0m\u001b[0m\n\u001b[0m\u001b[1;32m    231\u001b[0m \u001b[0;34m\u001b[0m\u001b[0m\n\u001b[1;32m    232\u001b[0m         \u001b[0mdescriptor\u001b[0m \u001b[0;34m=\u001b[0m \u001b[0mgetattr\u001b[0m\u001b[0;34m(\u001b[0m\u001b[0mself\u001b[0m\u001b[0;34m.\u001b[0m\u001b[0m__class__\u001b[0m\u001b[0;34m,\u001b[0m \u001b[0mname\u001b[0m\u001b[0;34m,\u001b[0m \u001b[0;32mNone\u001b[0m\u001b[0;34m)\u001b[0m\u001b[0;34m\u001b[0m\u001b[0;34m\u001b[0m\u001b[0m\n",
          "\u001b[0;32m~/anaconda3/lib/python3.9/site-packages/bokeh/core/property/descriptors.py\u001b[0m in \u001b[0;36m__set__\u001b[0;34m(self, obj, value, setter)\u001b[0m\n\u001b[1;32m    281\u001b[0m             \u001b[0;32mraise\u001b[0m \u001b[0mRuntimeError\u001b[0m\u001b[0;34m(\u001b[0m\u001b[0;34mf\"{class_name}.{self.name} is a readonly property\"\u001b[0m\u001b[0;34m)\u001b[0m\u001b[0;34m\u001b[0m\u001b[0;34m\u001b[0m\u001b[0m\n\u001b[1;32m    282\u001b[0m \u001b[0;34m\u001b[0m\u001b[0m\n\u001b[0;32m--> 283\u001b[0;31m         \u001b[0mvalue\u001b[0m \u001b[0;34m=\u001b[0m \u001b[0mself\u001b[0m\u001b[0;34m.\u001b[0m\u001b[0mproperty\u001b[0m\u001b[0;34m.\u001b[0m\u001b[0mprepare_value\u001b[0m\u001b[0;34m(\u001b[0m\u001b[0mobj\u001b[0m\u001b[0;34m,\u001b[0m \u001b[0mself\u001b[0m\u001b[0;34m.\u001b[0m\u001b[0mname\u001b[0m\u001b[0;34m,\u001b[0m \u001b[0mvalue\u001b[0m\u001b[0;34m)\u001b[0m\u001b[0;34m\u001b[0m\u001b[0;34m\u001b[0m\u001b[0m\n\u001b[0m\u001b[1;32m    284\u001b[0m         \u001b[0mold\u001b[0m \u001b[0;34m=\u001b[0m \u001b[0mself\u001b[0m\u001b[0;34m.\u001b[0m\u001b[0m_get\u001b[0m\u001b[0;34m(\u001b[0m\u001b[0mobj\u001b[0m\u001b[0;34m)\u001b[0m\u001b[0;34m\u001b[0m\u001b[0;34m\u001b[0m\u001b[0m\n\u001b[1;32m    285\u001b[0m         \u001b[0mself\u001b[0m\u001b[0;34m.\u001b[0m\u001b[0m_set\u001b[0m\u001b[0;34m(\u001b[0m\u001b[0mobj\u001b[0m\u001b[0;34m,\u001b[0m \u001b[0mold\u001b[0m\u001b[0;34m,\u001b[0m \u001b[0mvalue\u001b[0m\u001b[0;34m,\u001b[0m \u001b[0msetter\u001b[0m\u001b[0;34m=\u001b[0m\u001b[0msetter\u001b[0m\u001b[0;34m)\u001b[0m\u001b[0;34m\u001b[0m\u001b[0;34m\u001b[0m\u001b[0m\n",
          "\u001b[0;32m~/anaconda3/lib/python3.9/site-packages/bokeh/core/property/bases.py\u001b[0m in \u001b[0;36mprepare_value\u001b[0;34m(self, owner, name, value, hint)\u001b[0m\n\u001b[1;32m    363\u001b[0m         \u001b[0;32melse\u001b[0m\u001b[0;34m:\u001b[0m\u001b[0;34m\u001b[0m\u001b[0;34m\u001b[0m\u001b[0m\n\u001b[1;32m    364\u001b[0m             \u001b[0mobj_repr\u001b[0m \u001b[0;34m=\u001b[0m \u001b[0mowner\u001b[0m \u001b[0;32mif\u001b[0m \u001b[0misinstance\u001b[0m\u001b[0;34m(\u001b[0m\u001b[0mowner\u001b[0m\u001b[0;34m,\u001b[0m \u001b[0mHasProps\u001b[0m\u001b[0;34m)\u001b[0m \u001b[0;32melse\u001b[0m \u001b[0mowner\u001b[0m\u001b[0;34m.\u001b[0m\u001b[0m__name__\u001b[0m\u001b[0;34m\u001b[0m\u001b[0;34m\u001b[0m\u001b[0m\n\u001b[0;32m--> 365\u001b[0;31m             \u001b[0;32mraise\u001b[0m \u001b[0mValueError\u001b[0m\u001b[0;34m(\u001b[0m\u001b[0;34mf\"failed to validate {obj_repr}.{name}: {error}\"\u001b[0m\u001b[0;34m)\u001b[0m\u001b[0;34m\u001b[0m\u001b[0;34m\u001b[0m\u001b[0m\n\u001b[0m\u001b[1;32m    366\u001b[0m \u001b[0;34m\u001b[0m\u001b[0m\n\u001b[1;32m    367\u001b[0m         \u001b[0;32mif\u001b[0m \u001b[0misinstance\u001b[0m\u001b[0;34m(\u001b[0m\u001b[0mowner\u001b[0m\u001b[0;34m,\u001b[0m \u001b[0mHasProps\u001b[0m\u001b[0;34m)\u001b[0m\u001b[0;34m:\u001b[0m\u001b[0;34m\u001b[0m\u001b[0;34m\u001b[0m\u001b[0m\n",
          "\u001b[0;31mValueError\u001b[0m: failed to validate FigureOptions(...).x_axis_type: expected an element of either Null, Auto or Enum('linear', 'log', 'datetime', 'mercator'), got 'string'"
         ]
        }
       ]
      }
     },
     "66484abe4e414038947746d162136ae5": {
      "model_module": "@jupyter-widgets/controls",
      "model_module_version": "1.5.0",
      "model_name": "DescriptionStyleModel",
      "state": {
       "description_width": ""
      }
     },
     "66be2a830d39465bb7e01f0f0150d297": {
      "model_module": "@jupyter-widgets/base",
      "model_module_version": "1.2.0",
      "model_name": "LayoutModel",
      "state": {}
     },
     "66d581bbfeef441991a7b1ce4769770f": {
      "model_module": "@jupyter-widgets/base",
      "model_module_version": "1.2.0",
      "model_name": "LayoutModel",
      "state": {}
     },
     "678acf196da3498eb36a8390d47cb25e": {
      "model_module": "@jupyter-widgets/controls",
      "model_module_version": "1.5.0",
      "model_name": "DropdownModel",
      "state": {
       "_options_labels": [
        "Graph",
        "1992",
        "1993",
        "1994",
        "1995",
        "1996",
        "1997",
        "1998",
        "1999",
        "2000",
        "2001",
        "2002",
        "2003",
        "2004",
        "2005",
        "2006",
        "2007",
        "2008",
        "2009",
        "2010",
        "2011",
        "2012",
        "2013",
        "2014",
        "2015",
        "2016",
        "2017",
        "2018",
        "2019",
        "2020",
        "2021",
        "2022"
       ],
       "description": "Choisi",
       "index": 14,
       "layout": "IPY_MODEL_4f00a09f147744a29120021dc171f8b7",
       "style": "IPY_MODEL_23234def3f484f53b63c0e091d6e51d1"
      }
     },
     "682f0b4f292a4ca28eee4e7baa82ee9d": {
      "model_module": "@jupyter-widgets/output",
      "model_module_version": "1.0.0",
      "model_name": "OutputModel",
      "state": {
       "layout": "IPY_MODEL_ccee8ff4f48444f9aa6575d2842f5291",
       "outputs": [
        {
         "ename": "ValueError",
         "evalue": "failed to validate FigureOptions(...).tooltips: expected an element of either Null, Instance(Template), String or List(Tuple(String, String)), got ['En @x , le prix du gazole était de @y']",
         "output_type": "error",
         "traceback": [
          "\u001b[0;31m---------------------------------------------------------------------------\u001b[0m",
          "\u001b[0;31mValueError\u001b[0m                                Traceback (most recent call last)",
          "\u001b[0;32m~/anaconda3/lib/python3.9/site-packages/ipywidgets/widgets/interaction.py\u001b[0m in \u001b[0;36mupdate\u001b[0;34m(self, *args)\u001b[0m\n\u001b[1;32m    255\u001b[0m                     \u001b[0mvalue\u001b[0m \u001b[0;34m=\u001b[0m \u001b[0mwidget\u001b[0m\u001b[0;34m.\u001b[0m\u001b[0mget_interact_value\u001b[0m\u001b[0;34m(\u001b[0m\u001b[0;34m)\u001b[0m\u001b[0;34m\u001b[0m\u001b[0;34m\u001b[0m\u001b[0m\n\u001b[1;32m    256\u001b[0m                     \u001b[0mself\u001b[0m\u001b[0;34m.\u001b[0m\u001b[0mkwargs\u001b[0m\u001b[0;34m[\u001b[0m\u001b[0mwidget\u001b[0m\u001b[0;34m.\u001b[0m\u001b[0m_kwarg\u001b[0m\u001b[0;34m]\u001b[0m \u001b[0;34m=\u001b[0m \u001b[0mvalue\u001b[0m\u001b[0;34m\u001b[0m\u001b[0;34m\u001b[0m\u001b[0m\n\u001b[0;32m--> 257\u001b[0;31m                 \u001b[0mself\u001b[0m\u001b[0;34m.\u001b[0m\u001b[0mresult\u001b[0m \u001b[0;34m=\u001b[0m \u001b[0mself\u001b[0m\u001b[0;34m.\u001b[0m\u001b[0mf\u001b[0m\u001b[0;34m(\u001b[0m\u001b[0;34m**\u001b[0m\u001b[0mself\u001b[0m\u001b[0;34m.\u001b[0m\u001b[0mkwargs\u001b[0m\u001b[0;34m)\u001b[0m\u001b[0;34m\u001b[0m\u001b[0;34m\u001b[0m\u001b[0m\n\u001b[0m\u001b[1;32m    258\u001b[0m                 \u001b[0mshow_inline_matplotlib_plots\u001b[0m\u001b[0;34m(\u001b[0m\u001b[0;34m)\u001b[0m\u001b[0;34m\u001b[0m\u001b[0;34m\u001b[0m\u001b[0m\n\u001b[1;32m    259\u001b[0m                 \u001b[0;32mif\u001b[0m \u001b[0mself\u001b[0m\u001b[0;34m.\u001b[0m\u001b[0mauto_display\u001b[0m \u001b[0;32mand\u001b[0m \u001b[0mself\u001b[0m\u001b[0;34m.\u001b[0m\u001b[0mresult\u001b[0m \u001b[0;32mis\u001b[0m \u001b[0;32mnot\u001b[0m \u001b[0;32mNone\u001b[0m\u001b[0;34m:\u001b[0m\u001b[0;34m\u001b[0m\u001b[0;34m\u001b[0m\u001b[0m\n",
          "\u001b[0;32m/tmp/ipykernel_24999/1324503441.py\u001b[0m in \u001b[0;36maff_per_year\u001b[0;34m(Choisi)\u001b[0m\n\u001b[1;32m     50\u001b[0m \u001b[0;34m\u001b[0m\u001b[0m\n\u001b[1;32m     51\u001b[0m         \u001b[0;31m#   Je crée ensuite le graph avec bokeh qui sera display\u001b[0m\u001b[0;34m\u001b[0m\u001b[0;34m\u001b[0m\u001b[0m\n\u001b[0;32m---> 52\u001b[0;31m         graph_per_year = figure(\n\u001b[0m\u001b[1;32m     53\u001b[0m                   \u001b[0mtitle\u001b[0m\u001b[0;34m=\u001b[0m\u001b[0;34mf\"Evolution du prix du Gazole sur l'année {Choisi}\"\u001b[0m\u001b[0;34m,\u001b[0m\u001b[0;34m\u001b[0m\u001b[0;34m\u001b[0m\u001b[0m\n\u001b[1;32m     54\u001b[0m                   \u001b[0mx_range\u001b[0m \u001b[0;34m=\u001b[0m \u001b[0mz\u001b[0m\u001b[0;34m[\u001b[0m\u001b[0;34m\"Période\"\u001b[0m\u001b[0;34m]\u001b[0m\u001b[0;34m,\u001b[0m\u001b[0;34m\u001b[0m\u001b[0;34m\u001b[0m\u001b[0m\n",
          "\u001b[0;32m~/anaconda3/lib/python3.9/site-packages/bokeh/plotting/figure.py\u001b[0m in \u001b[0;36mfigure\u001b[0;34m(**kwargs)\u001b[0m\n\u001b[1;32m    663\u001b[0m \u001b[0;34m\u001b[0m\u001b[0m\n\u001b[1;32m    664\u001b[0m     '''\n\u001b[0;32m--> 665\u001b[0;31m     \u001b[0;32mreturn\u001b[0m \u001b[0mFigure\u001b[0m\u001b[0;34m(\u001b[0m\u001b[0;34m**\u001b[0m\u001b[0mkwargs\u001b[0m\u001b[0;34m)\u001b[0m\u001b[0;34m\u001b[0m\u001b[0;34m\u001b[0m\u001b[0m\n\u001b[0m\u001b[1;32m    666\u001b[0m \u001b[0;34m\u001b[0m\u001b[0m\n\u001b[1;32m    667\u001b[0m \u001b[0;32mdef\u001b[0m \u001b[0mmarkers\u001b[0m\u001b[0;34m(\u001b[0m\u001b[0;34m)\u001b[0m\u001b[0;34m:\u001b[0m\u001b[0;34m\u001b[0m\u001b[0;34m\u001b[0m\u001b[0m\n",
          "\u001b[0;32m~/anaconda3/lib/python3.9/site-packages/bokeh/plotting/figure.py\u001b[0m in \u001b[0;36m__init__\u001b[0;34m(self, *arg, **kw)\u001b[0m\n\u001b[1;32m    173\u001b[0m \u001b[0;34m\u001b[0m\u001b[0m\n\u001b[1;32m    174\u001b[0m     \u001b[0;32mdef\u001b[0m \u001b[0m__init__\u001b[0m\u001b[0;34m(\u001b[0m\u001b[0mself\u001b[0m\u001b[0;34m,\u001b[0m \u001b[0;34m*\u001b[0m\u001b[0marg\u001b[0m\u001b[0;34m,\u001b[0m \u001b[0;34m**\u001b[0m\u001b[0mkw\u001b[0m\u001b[0;34m)\u001b[0m \u001b[0;34m->\u001b[0m \u001b[0;32mNone\u001b[0m\u001b[0;34m:\u001b[0m\u001b[0;34m\u001b[0m\u001b[0;34m\u001b[0m\u001b[0m\n\u001b[0;32m--> 175\u001b[0;31m         \u001b[0mopts\u001b[0m \u001b[0;34m=\u001b[0m \u001b[0mFigureOptions\u001b[0m\u001b[0;34m(\u001b[0m\u001b[0mkw\u001b[0m\u001b[0;34m)\u001b[0m\u001b[0;34m\u001b[0m\u001b[0;34m\u001b[0m\u001b[0m\n\u001b[0m\u001b[1;32m    176\u001b[0m         \u001b[0msuper\u001b[0m\u001b[0;34m(\u001b[0m\u001b[0;34m)\u001b[0m\u001b[0;34m.\u001b[0m\u001b[0m__init__\u001b[0m\u001b[0;34m(\u001b[0m\u001b[0;34m*\u001b[0m\u001b[0marg\u001b[0m\u001b[0;34m,\u001b[0m \u001b[0;34m**\u001b[0m\u001b[0mkw\u001b[0m\u001b[0;34m)\u001b[0m\u001b[0;34m\u001b[0m\u001b[0;34m\u001b[0m\u001b[0m\n\u001b[1;32m    177\u001b[0m \u001b[0;34m\u001b[0m\u001b[0m\n",
          "\u001b[0;32m~/anaconda3/lib/python3.9/site-packages/bokeh/util/options.py\u001b[0m in \u001b[0;36m__init__\u001b[0;34m(self, kw)\u001b[0m\n\u001b[1;32m     73\u001b[0m                 \u001b[0mprops\u001b[0m\u001b[0;34m[\u001b[0m\u001b[0mk\u001b[0m\u001b[0;34m]\u001b[0m \u001b[0;34m=\u001b[0m \u001b[0mkw\u001b[0m\u001b[0;34m.\u001b[0m\u001b[0mpop\u001b[0m\u001b[0;34m(\u001b[0m\u001b[0mk\u001b[0m\u001b[0;34m)\u001b[0m\u001b[0;34m\u001b[0m\u001b[0;34m\u001b[0m\u001b[0m\n\u001b[1;32m     74\u001b[0m \u001b[0;34m\u001b[0m\u001b[0m\n\u001b[0;32m---> 75\u001b[0;31m         \u001b[0msuper\u001b[0m\u001b[0;34m(\u001b[0m\u001b[0;34m)\u001b[0m\u001b[0;34m.\u001b[0m\u001b[0m__init__\u001b[0m\u001b[0;34m(\u001b[0m\u001b[0;34m**\u001b[0m\u001b[0mprops\u001b[0m\u001b[0;34m)\u001b[0m\u001b[0;34m\u001b[0m\u001b[0;34m\u001b[0m\u001b[0m\n\u001b[0m\u001b[1;32m     76\u001b[0m \u001b[0;34m\u001b[0m\u001b[0m\n\u001b[1;32m     77\u001b[0m \u001b[0;31m#-----------------------------------------------------------------------------\u001b[0m\u001b[0;34m\u001b[0m\u001b[0;34m\u001b[0m\u001b[0m\n",
          "\u001b[0;32m~/anaconda3/lib/python3.9/site-packages/bokeh/core/has_props.py\u001b[0m in \u001b[0;36m__init__\u001b[0;34m(self, **properties)\u001b[0m\n\u001b[1;32m    204\u001b[0m \u001b[0;34m\u001b[0m\u001b[0m\n\u001b[1;32m    205\u001b[0m         \u001b[0;32mfor\u001b[0m \u001b[0mname\u001b[0m\u001b[0;34m,\u001b[0m \u001b[0mvalue\u001b[0m \u001b[0;32min\u001b[0m \u001b[0mproperties\u001b[0m\u001b[0;34m.\u001b[0m\u001b[0mitems\u001b[0m\u001b[0;34m(\u001b[0m\u001b[0;34m)\u001b[0m\u001b[0;34m:\u001b[0m\u001b[0;34m\u001b[0m\u001b[0;34m\u001b[0m\u001b[0m\n\u001b[0;32m--> 206\u001b[0;31m             \u001b[0msetattr\u001b[0m\u001b[0;34m(\u001b[0m\u001b[0mself\u001b[0m\u001b[0;34m,\u001b[0m \u001b[0mname\u001b[0m\u001b[0;34m,\u001b[0m \u001b[0mvalue\u001b[0m\u001b[0;34m)\u001b[0m\u001b[0;34m\u001b[0m\u001b[0;34m\u001b[0m\u001b[0m\n\u001b[0m\u001b[1;32m    207\u001b[0m \u001b[0;34m\u001b[0m\u001b[0m\n\u001b[1;32m    208\u001b[0m         \u001b[0mself\u001b[0m\u001b[0;34m.\u001b[0m\u001b[0m_initialized\u001b[0m \u001b[0;34m=\u001b[0m \u001b[0;32mTrue\u001b[0m\u001b[0;34m\u001b[0m\u001b[0;34m\u001b[0m\u001b[0m\n",
          "\u001b[0;32m~/anaconda3/lib/python3.9/site-packages/bokeh/core/has_props.py\u001b[0m in \u001b[0;36m__setattr__\u001b[0;34m(self, name, value)\u001b[0m\n\u001b[1;32m    228\u001b[0m         \u001b[0mproperties\u001b[0m \u001b[0;34m=\u001b[0m \u001b[0mself\u001b[0m\u001b[0;34m.\u001b[0m\u001b[0mproperties\u001b[0m\u001b[0;34m(\u001b[0m\u001b[0m_with_props\u001b[0m\u001b[0;34m=\u001b[0m\u001b[0;32mTrue\u001b[0m\u001b[0;34m)\u001b[0m\u001b[0;34m\u001b[0m\u001b[0;34m\u001b[0m\u001b[0m\n\u001b[1;32m    229\u001b[0m         \u001b[0;32mif\u001b[0m \u001b[0mname\u001b[0m \u001b[0;32min\u001b[0m \u001b[0mproperties\u001b[0m\u001b[0;34m:\u001b[0m\u001b[0;34m\u001b[0m\u001b[0;34m\u001b[0m\u001b[0m\n\u001b[0;32m--> 230\u001b[0;31m             \u001b[0;32mreturn\u001b[0m \u001b[0msuper\u001b[0m\u001b[0;34m(\u001b[0m\u001b[0;34m)\u001b[0m\u001b[0;34m.\u001b[0m\u001b[0m__setattr__\u001b[0m\u001b[0;34m(\u001b[0m\u001b[0mname\u001b[0m\u001b[0;34m,\u001b[0m \u001b[0mvalue\u001b[0m\u001b[0;34m)\u001b[0m\u001b[0;34m\u001b[0m\u001b[0;34m\u001b[0m\u001b[0m\n\u001b[0m\u001b[1;32m    231\u001b[0m \u001b[0;34m\u001b[0m\u001b[0m\n\u001b[1;32m    232\u001b[0m         \u001b[0mdescriptor\u001b[0m \u001b[0;34m=\u001b[0m \u001b[0mgetattr\u001b[0m\u001b[0;34m(\u001b[0m\u001b[0mself\u001b[0m\u001b[0;34m.\u001b[0m\u001b[0m__class__\u001b[0m\u001b[0;34m,\u001b[0m \u001b[0mname\u001b[0m\u001b[0;34m,\u001b[0m \u001b[0;32mNone\u001b[0m\u001b[0;34m)\u001b[0m\u001b[0;34m\u001b[0m\u001b[0;34m\u001b[0m\u001b[0m\n",
          "\u001b[0;32m~/anaconda3/lib/python3.9/site-packages/bokeh/core/property/descriptors.py\u001b[0m in \u001b[0;36m__set__\u001b[0;34m(self, obj, value, setter)\u001b[0m\n\u001b[1;32m    281\u001b[0m             \u001b[0;32mraise\u001b[0m \u001b[0mRuntimeError\u001b[0m\u001b[0;34m(\u001b[0m\u001b[0;34mf\"{class_name}.{self.name} is a readonly property\"\u001b[0m\u001b[0;34m)\u001b[0m\u001b[0;34m\u001b[0m\u001b[0;34m\u001b[0m\u001b[0m\n\u001b[1;32m    282\u001b[0m \u001b[0;34m\u001b[0m\u001b[0m\n\u001b[0;32m--> 283\u001b[0;31m         \u001b[0mvalue\u001b[0m \u001b[0;34m=\u001b[0m \u001b[0mself\u001b[0m\u001b[0;34m.\u001b[0m\u001b[0mproperty\u001b[0m\u001b[0;34m.\u001b[0m\u001b[0mprepare_value\u001b[0m\u001b[0;34m(\u001b[0m\u001b[0mobj\u001b[0m\u001b[0;34m,\u001b[0m \u001b[0mself\u001b[0m\u001b[0;34m.\u001b[0m\u001b[0mname\u001b[0m\u001b[0;34m,\u001b[0m \u001b[0mvalue\u001b[0m\u001b[0;34m)\u001b[0m\u001b[0;34m\u001b[0m\u001b[0;34m\u001b[0m\u001b[0m\n\u001b[0m\u001b[1;32m    284\u001b[0m         \u001b[0mold\u001b[0m \u001b[0;34m=\u001b[0m \u001b[0mself\u001b[0m\u001b[0;34m.\u001b[0m\u001b[0m_get\u001b[0m\u001b[0;34m(\u001b[0m\u001b[0mobj\u001b[0m\u001b[0;34m)\u001b[0m\u001b[0;34m\u001b[0m\u001b[0;34m\u001b[0m\u001b[0m\n\u001b[1;32m    285\u001b[0m         \u001b[0mself\u001b[0m\u001b[0;34m.\u001b[0m\u001b[0m_set\u001b[0m\u001b[0;34m(\u001b[0m\u001b[0mobj\u001b[0m\u001b[0;34m,\u001b[0m \u001b[0mold\u001b[0m\u001b[0;34m,\u001b[0m \u001b[0mvalue\u001b[0m\u001b[0;34m,\u001b[0m \u001b[0msetter\u001b[0m\u001b[0;34m=\u001b[0m\u001b[0msetter\u001b[0m\u001b[0;34m)\u001b[0m\u001b[0;34m\u001b[0m\u001b[0;34m\u001b[0m\u001b[0m\n",
          "\u001b[0;32m~/anaconda3/lib/python3.9/site-packages/bokeh/core/property/bases.py\u001b[0m in \u001b[0;36mprepare_value\u001b[0;34m(self, owner, name, value, hint)\u001b[0m\n\u001b[1;32m    363\u001b[0m         \u001b[0;32melse\u001b[0m\u001b[0;34m:\u001b[0m\u001b[0;34m\u001b[0m\u001b[0;34m\u001b[0m\u001b[0m\n\u001b[1;32m    364\u001b[0m             \u001b[0mobj_repr\u001b[0m \u001b[0;34m=\u001b[0m \u001b[0mowner\u001b[0m \u001b[0;32mif\u001b[0m \u001b[0misinstance\u001b[0m\u001b[0;34m(\u001b[0m\u001b[0mowner\u001b[0m\u001b[0;34m,\u001b[0m \u001b[0mHasProps\u001b[0m\u001b[0;34m)\u001b[0m \u001b[0;32melse\u001b[0m \u001b[0mowner\u001b[0m\u001b[0;34m.\u001b[0m\u001b[0m__name__\u001b[0m\u001b[0;34m\u001b[0m\u001b[0;34m\u001b[0m\u001b[0m\n\u001b[0;32m--> 365\u001b[0;31m             \u001b[0;32mraise\u001b[0m \u001b[0mValueError\u001b[0m\u001b[0;34m(\u001b[0m\u001b[0;34mf\"failed to validate {obj_repr}.{name}: {error}\"\u001b[0m\u001b[0;34m)\u001b[0m\u001b[0;34m\u001b[0m\u001b[0;34m\u001b[0m\u001b[0m\n\u001b[0m\u001b[1;32m    366\u001b[0m \u001b[0;34m\u001b[0m\u001b[0m\n\u001b[1;32m    367\u001b[0m         \u001b[0;32mif\u001b[0m \u001b[0misinstance\u001b[0m\u001b[0;34m(\u001b[0m\u001b[0mowner\u001b[0m\u001b[0;34m,\u001b[0m \u001b[0mHasProps\u001b[0m\u001b[0;34m)\u001b[0m\u001b[0;34m:\u001b[0m\u001b[0;34m\u001b[0m\u001b[0;34m\u001b[0m\u001b[0m\n",
          "\u001b[0;31mValueError\u001b[0m: failed to validate FigureOptions(...).tooltips: expected an element of either Null, Instance(Template), String or List(Tuple(String, String)), got ['En @x , le prix du gazole était de @y']"
         ]
        }
       ]
      }
     },
     "68630ab29e594d0fadfcc0d4f7f4e203": {
      "model_module": "@jupyter-widgets/base",
      "model_module_version": "1.2.0",
      "model_name": "LayoutModel",
      "state": {}
     },
     "6af1aafe91334f3aadf3e9d20828a2e8": {
      "model_module": "@jupyter-widgets/controls",
      "model_module_version": "1.5.0",
      "model_name": "DescriptionStyleModel",
      "state": {
       "description_width": ""
      }
     },
     "6d9d82e66d184afe9f06ab85a3ca4d3e": {
      "model_module": "@jupyter-widgets/base",
      "model_module_version": "1.2.0",
      "model_name": "LayoutModel",
      "state": {}
     },
     "6dccec0fa2ef42ac8e336b74806903f2": {
      "model_module": "@jupyter-widgets/controls",
      "model_module_version": "1.5.0",
      "model_name": "VBoxModel",
      "state": {
       "_dom_classes": [
        "widget-interact"
       ],
       "children": [
        "IPY_MODEL_569bcb6836a54c7486afd8363d3d1ba9",
        "IPY_MODEL_9df14ad3f13543d3b065bd37ec35573e"
       ],
       "layout": "IPY_MODEL_7e7e4f90206a4cf4accc93572ab4f65e"
      }
     },
     "6fd9ef5fe1154f63a82396f61bc483d8": {
      "model_module": "@jupyter-widgets/base",
      "model_module_version": "1.2.0",
      "model_name": "LayoutModel",
      "state": {}
     },
     "7135b57e36444f118ac9bd7c407df4fb": {
      "model_module": "@jupyter-widgets/base",
      "model_module_version": "1.2.0",
      "model_name": "LayoutModel",
      "state": {}
     },
     "7149e442d0ff4527aaaf6b346bbbd0ee": {
      "model_module": "@jupyter-widgets/base",
      "model_module_version": "1.2.0",
      "model_name": "LayoutModel",
      "state": {}
     },
     "722574a87818461c91099551e3c18cd9": {
      "model_module": "@jupyter-widgets/base",
      "model_module_version": "1.2.0",
      "model_name": "LayoutModel",
      "state": {}
     },
     "7475898e895b44ef8508bc27980769b1": {
      "model_module": "@jupyter-widgets/controls",
      "model_module_version": "1.5.0",
      "model_name": "DropdownModel",
      "state": {
       "_options_labels": [
        "Graph",
        "1992",
        "1993",
        "1994",
        "1995",
        "1996",
        "1997",
        "1998",
        "1999",
        "2000",
        "2001",
        "2002",
        "2003",
        "2004",
        "2005",
        "2006",
        "2007",
        "2008",
        "2009",
        "2010",
        "2011",
        "2012",
        "2013",
        "2014",
        "2015",
        "2016",
        "2017",
        "2018",
        "2019",
        "2020",
        "2021",
        "2022"
       ],
       "description": "Choisi",
       "index": 9,
       "layout": "IPY_MODEL_ca81d03e5f3a428b8bfb2f9dccfea548",
       "style": "IPY_MODEL_4eed3b23e2f0496999f18cf59b0bd51b"
      }
     },
     "74997d5499444b039ad85c3fd8cea003": {
      "model_module": "@jupyter-widgets/controls",
      "model_module_version": "1.5.0",
      "model_name": "DropdownModel",
      "state": {
       "_options_labels": [
        "Graph",
        "1992",
        "1993",
        "1994",
        "1995",
        "1996",
        "1997",
        "1998",
        "1999",
        "2000",
        "2001",
        "2002",
        "2003",
        "2004",
        "2005",
        "2006",
        "2007",
        "2008",
        "2009",
        "2010",
        "2011",
        "2012",
        "2013",
        "2014",
        "2015",
        "2016",
        "2017",
        "2018",
        "2019",
        "2020",
        "2021",
        "2022"
       ],
       "description": "Choisi",
       "index": 14,
       "layout": "IPY_MODEL_56ea0647787b485bb893c8746ee6a590",
       "style": "IPY_MODEL_bd7377a037f545338142147ca9204753"
      }
     },
     "752182478d944468926be627bdf186c9": {
      "model_module": "@jupyter-widgets/controls",
      "model_module_version": "1.5.0",
      "model_name": "VBoxModel",
      "state": {
       "_dom_classes": [
        "widget-interact"
       ],
       "children": [
        "IPY_MODEL_d3aa89b8fe1c461ba6cb3a475f0caf59",
        "IPY_MODEL_27b3b01fa31e4d7d96a42c508198bafe"
       ],
       "layout": "IPY_MODEL_216848648dbd4bada6a4a31473db2c92"
      }
     },
     "7581946eef454eb7929471b053ac6a8c": {
      "model_module": "@jupyter-widgets/controls",
      "model_module_version": "1.5.0",
      "model_name": "VBoxModel",
      "state": {
       "_dom_classes": [
        "widget-interact"
       ],
       "children": [
        "IPY_MODEL_c85187f074fb41d5946a6d1774d73234",
        "IPY_MODEL_e1f84f1caf5948ca8099d8cafcf89c65"
       ],
       "layout": "IPY_MODEL_9cd617b03e864acebab73da7172e2fbd"
      }
     },
     "7793d521fd7d4548a3968e79b17ccdbe": {
      "model_module": "@jupyter-widgets/controls",
      "model_module_version": "1.5.0",
      "model_name": "VBoxModel",
      "state": {
       "_dom_classes": [
        "widget-interact"
       ],
       "children": [
        "IPY_MODEL_3ae96bcb7ffd4c4d9e4ac402d9ecbdbd",
        "IPY_MODEL_4e9643102cc241db8284f3feb6353061"
       ],
       "layout": "IPY_MODEL_a91d5c8b930c4e789b2d61ff165fa072"
      }
     },
     "77a3a450d71e4e65a989296fd05af493": {
      "model_module": "@jupyter-widgets/output",
      "model_module_version": "1.0.0",
      "model_name": "OutputModel",
      "state": {
       "layout": "IPY_MODEL_03beace7d7ad49b6b0bf6ddb533c3ff3",
       "outputs": [
        {
         "ename": "ValueError",
         "evalue": "failed to validate LinearAxis(id='1998', ...).ticker: expected an instance of type Ticker, got 0       Janvier\n1       Février\n2          Mars\n3         Avril\n4           Mai\n5          Juin\n6       Juillet\n7          Aout\n8     Septembre\n9       Octobre\n10     Novembre\n11     Decembre\nName: Période, dtype: object of type Series",
         "output_type": "error",
         "traceback": [
          "\u001b[0;31m---------------------------------------------------------------------------\u001b[0m",
          "\u001b[0;31mValueError\u001b[0m                                Traceback (most recent call last)",
          "\u001b[0;32m~/anaconda3/lib/python3.9/site-packages/ipywidgets/widgets/interaction.py\u001b[0m in \u001b[0;36mupdate\u001b[0;34m(self, *args)\u001b[0m\n\u001b[1;32m    255\u001b[0m                     \u001b[0mvalue\u001b[0m \u001b[0;34m=\u001b[0m \u001b[0mwidget\u001b[0m\u001b[0;34m.\u001b[0m\u001b[0mget_interact_value\u001b[0m\u001b[0;34m(\u001b[0m\u001b[0;34m)\u001b[0m\u001b[0;34m\u001b[0m\u001b[0;34m\u001b[0m\u001b[0m\n\u001b[1;32m    256\u001b[0m                     \u001b[0mself\u001b[0m\u001b[0;34m.\u001b[0m\u001b[0mkwargs\u001b[0m\u001b[0;34m[\u001b[0m\u001b[0mwidget\u001b[0m\u001b[0;34m.\u001b[0m\u001b[0m_kwarg\u001b[0m\u001b[0;34m]\u001b[0m \u001b[0;34m=\u001b[0m \u001b[0mvalue\u001b[0m\u001b[0;34m\u001b[0m\u001b[0;34m\u001b[0m\u001b[0m\n\u001b[0;32m--> 257\u001b[0;31m                 \u001b[0mself\u001b[0m\u001b[0;34m.\u001b[0m\u001b[0mresult\u001b[0m \u001b[0;34m=\u001b[0m \u001b[0mself\u001b[0m\u001b[0;34m.\u001b[0m\u001b[0mf\u001b[0m\u001b[0;34m(\u001b[0m\u001b[0;34m**\u001b[0m\u001b[0mself\u001b[0m\u001b[0;34m.\u001b[0m\u001b[0mkwargs\u001b[0m\u001b[0;34m)\u001b[0m\u001b[0;34m\u001b[0m\u001b[0;34m\u001b[0m\u001b[0m\n\u001b[0m\u001b[1;32m    258\u001b[0m                 \u001b[0mshow_inline_matplotlib_plots\u001b[0m\u001b[0;34m(\u001b[0m\u001b[0;34m)\u001b[0m\u001b[0;34m\u001b[0m\u001b[0;34m\u001b[0m\u001b[0m\n\u001b[1;32m    259\u001b[0m                 \u001b[0;32mif\u001b[0m \u001b[0mself\u001b[0m\u001b[0;34m.\u001b[0m\u001b[0mauto_display\u001b[0m \u001b[0;32mand\u001b[0m \u001b[0mself\u001b[0m\u001b[0;34m.\u001b[0m\u001b[0mresult\u001b[0m \u001b[0;32mis\u001b[0m \u001b[0;32mnot\u001b[0m \u001b[0;32mNone\u001b[0m\u001b[0;34m:\u001b[0m\u001b[0;34m\u001b[0m\u001b[0;34m\u001b[0m\u001b[0m\n",
          "\u001b[0;32m/tmp/ipykernel_24999/2665043419.py\u001b[0m in \u001b[0;36maff_per_year\u001b[0;34m(Choisi)\u001b[0m\n\u001b[1;32m     68\u001b[0m         \u001b[0;31m#graph_per_year.background_fill_color = \"beige\"\u001b[0m\u001b[0;34m\u001b[0m\u001b[0;34m\u001b[0m\u001b[0m\n\u001b[1;32m     69\u001b[0m         \u001b[0mgraph_per_year\u001b[0m\u001b[0;34m.\u001b[0m\u001b[0mtoolbar\u001b[0m\u001b[0;34m.\u001b[0m\u001b[0mlogo\u001b[0m \u001b[0;34m=\u001b[0m \u001b[0;32mNone\u001b[0m\u001b[0;34m\u001b[0m\u001b[0;34m\u001b[0m\u001b[0m\n\u001b[0;32m---> 70\u001b[0;31m         \u001b[0mgraph_per_year\u001b[0m\u001b[0;34m.\u001b[0m\u001b[0mxaxis\u001b[0m\u001b[0;34m.\u001b[0m\u001b[0mticker\u001b[0m \u001b[0;34m=\u001b[0m\u001b[0mz\u001b[0m\u001b[0;34m[\u001b[0m\u001b[0;34m\"Période\"\u001b[0m\u001b[0;34m]\u001b[0m\u001b[0;34m\u001b[0m\u001b[0;34m\u001b[0m\u001b[0m\n\u001b[0m\u001b[1;32m     71\u001b[0m \u001b[0;34m\u001b[0m\u001b[0m\n\u001b[1;32m     72\u001b[0m         \u001b[0mgraph_per_year\u001b[0m\u001b[0;34m.\u001b[0m\u001b[0mxaxis\u001b[0m\u001b[0;34m.\u001b[0m\u001b[0mmajor_label_overrides\u001b[0m \u001b[0;34m=\u001b[0m \u001b[0mdict_mois\u001b[0m\u001b[0;34m\u001b[0m\u001b[0;34m\u001b[0m\u001b[0m\n",
          "\u001b[0;32m~/anaconda3/lib/python3.9/site-packages/bokeh/models/plots.py\u001b[0m in \u001b[0;36m__setattr__\u001b[0;34m(self, attr, value)\u001b[0m\n\u001b[1;32m    785\u001b[0m     \u001b[0;32mdef\u001b[0m \u001b[0m__setattr__\u001b[0m\u001b[0;34m(\u001b[0m\u001b[0mself\u001b[0m\u001b[0;34m,\u001b[0m \u001b[0mattr\u001b[0m\u001b[0;34m,\u001b[0m \u001b[0mvalue\u001b[0m\u001b[0;34m)\u001b[0m\u001b[0;34m:\u001b[0m\u001b[0;34m\u001b[0m\u001b[0;34m\u001b[0m\u001b[0m\n\u001b[1;32m    786\u001b[0m         \u001b[0;32mfor\u001b[0m \u001b[0mx\u001b[0m \u001b[0;32min\u001b[0m \u001b[0mself\u001b[0m\u001b[0;34m:\u001b[0m\u001b[0;34m\u001b[0m\u001b[0;34m\u001b[0m\u001b[0m\n\u001b[0;32m--> 787\u001b[0;31m             \u001b[0msetattr\u001b[0m\u001b[0;34m(\u001b[0m\u001b[0mx\u001b[0m\u001b[0;34m,\u001b[0m \u001b[0mattr\u001b[0m\u001b[0;34m,\u001b[0m \u001b[0mvalue\u001b[0m\u001b[0;34m)\u001b[0m\u001b[0;34m\u001b[0m\u001b[0;34m\u001b[0m\u001b[0m\n\u001b[0m\u001b[1;32m    788\u001b[0m     \u001b[0;32mdef\u001b[0m \u001b[0m__getattribute__\u001b[0m\u001b[0;34m(\u001b[0m\u001b[0mself\u001b[0m\u001b[0;34m,\u001b[0m \u001b[0mattr\u001b[0m\u001b[0;34m)\u001b[0m\u001b[0;34m:\u001b[0m\u001b[0;34m\u001b[0m\u001b[0;34m\u001b[0m\u001b[0m\n\u001b[1;32m    789\u001b[0m         \u001b[0;32mif\u001b[0m \u001b[0mattr\u001b[0m \u001b[0;32min\u001b[0m \u001b[0mdir\u001b[0m\u001b[0;34m(\u001b[0m\u001b[0mlist\u001b[0m\u001b[0;34m)\u001b[0m\u001b[0;34m:\u001b[0m\u001b[0;34m\u001b[0m\u001b[0;34m\u001b[0m\u001b[0m\n",
          "\u001b[0;32m~/anaconda3/lib/python3.9/site-packages/bokeh/core/has_props.py\u001b[0m in \u001b[0;36m__setattr__\u001b[0;34m(self, name, value)\u001b[0m\n\u001b[1;32m    228\u001b[0m         \u001b[0mproperties\u001b[0m \u001b[0;34m=\u001b[0m \u001b[0mself\u001b[0m\u001b[0;34m.\u001b[0m\u001b[0mproperties\u001b[0m\u001b[0;34m(\u001b[0m\u001b[0m_with_props\u001b[0m\u001b[0;34m=\u001b[0m\u001b[0;32mTrue\u001b[0m\u001b[0;34m)\u001b[0m\u001b[0;34m\u001b[0m\u001b[0;34m\u001b[0m\u001b[0m\n\u001b[1;32m    229\u001b[0m         \u001b[0;32mif\u001b[0m \u001b[0mname\u001b[0m \u001b[0;32min\u001b[0m \u001b[0mproperties\u001b[0m\u001b[0;34m:\u001b[0m\u001b[0;34m\u001b[0m\u001b[0;34m\u001b[0m\u001b[0m\n\u001b[0;32m--> 230\u001b[0;31m             \u001b[0;32mreturn\u001b[0m \u001b[0msuper\u001b[0m\u001b[0;34m(\u001b[0m\u001b[0;34m)\u001b[0m\u001b[0;34m.\u001b[0m\u001b[0m__setattr__\u001b[0m\u001b[0;34m(\u001b[0m\u001b[0mname\u001b[0m\u001b[0;34m,\u001b[0m \u001b[0mvalue\u001b[0m\u001b[0;34m)\u001b[0m\u001b[0;34m\u001b[0m\u001b[0;34m\u001b[0m\u001b[0m\n\u001b[0m\u001b[1;32m    231\u001b[0m \u001b[0;34m\u001b[0m\u001b[0m\n\u001b[1;32m    232\u001b[0m         \u001b[0mdescriptor\u001b[0m \u001b[0;34m=\u001b[0m \u001b[0mgetattr\u001b[0m\u001b[0;34m(\u001b[0m\u001b[0mself\u001b[0m\u001b[0;34m.\u001b[0m\u001b[0m__class__\u001b[0m\u001b[0;34m,\u001b[0m \u001b[0mname\u001b[0m\u001b[0;34m,\u001b[0m \u001b[0;32mNone\u001b[0m\u001b[0;34m)\u001b[0m\u001b[0;34m\u001b[0m\u001b[0;34m\u001b[0m\u001b[0m\n",
          "\u001b[0;32m~/anaconda3/lib/python3.9/site-packages/bokeh/core/property/descriptors.py\u001b[0m in \u001b[0;36m__set__\u001b[0;34m(self, obj, value, setter)\u001b[0m\n\u001b[1;32m    281\u001b[0m             \u001b[0;32mraise\u001b[0m \u001b[0mRuntimeError\u001b[0m\u001b[0;34m(\u001b[0m\u001b[0;34mf\"{class_name}.{self.name} is a readonly property\"\u001b[0m\u001b[0;34m)\u001b[0m\u001b[0;34m\u001b[0m\u001b[0;34m\u001b[0m\u001b[0m\n\u001b[1;32m    282\u001b[0m \u001b[0;34m\u001b[0m\u001b[0m\n\u001b[0;32m--> 283\u001b[0;31m         \u001b[0mvalue\u001b[0m \u001b[0;34m=\u001b[0m \u001b[0mself\u001b[0m\u001b[0;34m.\u001b[0m\u001b[0mproperty\u001b[0m\u001b[0;34m.\u001b[0m\u001b[0mprepare_value\u001b[0m\u001b[0;34m(\u001b[0m\u001b[0mobj\u001b[0m\u001b[0;34m,\u001b[0m \u001b[0mself\u001b[0m\u001b[0;34m.\u001b[0m\u001b[0mname\u001b[0m\u001b[0;34m,\u001b[0m \u001b[0mvalue\u001b[0m\u001b[0;34m)\u001b[0m\u001b[0;34m\u001b[0m\u001b[0;34m\u001b[0m\u001b[0m\n\u001b[0m\u001b[1;32m    284\u001b[0m         \u001b[0mold\u001b[0m \u001b[0;34m=\u001b[0m \u001b[0mself\u001b[0m\u001b[0;34m.\u001b[0m\u001b[0m_get\u001b[0m\u001b[0;34m(\u001b[0m\u001b[0mobj\u001b[0m\u001b[0;34m)\u001b[0m\u001b[0;34m\u001b[0m\u001b[0;34m\u001b[0m\u001b[0m\n\u001b[1;32m    285\u001b[0m         \u001b[0mself\u001b[0m\u001b[0;34m.\u001b[0m\u001b[0m_set\u001b[0m\u001b[0;34m(\u001b[0m\u001b[0mobj\u001b[0m\u001b[0;34m,\u001b[0m \u001b[0mold\u001b[0m\u001b[0;34m,\u001b[0m \u001b[0mvalue\u001b[0m\u001b[0;34m,\u001b[0m \u001b[0msetter\u001b[0m\u001b[0;34m=\u001b[0m\u001b[0msetter\u001b[0m\u001b[0;34m)\u001b[0m\u001b[0;34m\u001b[0m\u001b[0;34m\u001b[0m\u001b[0m\n",
          "\u001b[0;32m~/anaconda3/lib/python3.9/site-packages/bokeh/core/property/bases.py\u001b[0m in \u001b[0;36mprepare_value\u001b[0;34m(self, owner, name, value, hint)\u001b[0m\n\u001b[1;32m    363\u001b[0m         \u001b[0;32melse\u001b[0m\u001b[0;34m:\u001b[0m\u001b[0;34m\u001b[0m\u001b[0;34m\u001b[0m\u001b[0m\n\u001b[1;32m    364\u001b[0m             \u001b[0mobj_repr\u001b[0m \u001b[0;34m=\u001b[0m \u001b[0mowner\u001b[0m \u001b[0;32mif\u001b[0m \u001b[0misinstance\u001b[0m\u001b[0;34m(\u001b[0m\u001b[0mowner\u001b[0m\u001b[0;34m,\u001b[0m \u001b[0mHasProps\u001b[0m\u001b[0;34m)\u001b[0m \u001b[0;32melse\u001b[0m \u001b[0mowner\u001b[0m\u001b[0;34m.\u001b[0m\u001b[0m__name__\u001b[0m\u001b[0;34m\u001b[0m\u001b[0;34m\u001b[0m\u001b[0m\n\u001b[0;32m--> 365\u001b[0;31m             \u001b[0;32mraise\u001b[0m \u001b[0mValueError\u001b[0m\u001b[0;34m(\u001b[0m\u001b[0;34mf\"failed to validate {obj_repr}.{name}: {error}\"\u001b[0m\u001b[0;34m)\u001b[0m\u001b[0;34m\u001b[0m\u001b[0;34m\u001b[0m\u001b[0m\n\u001b[0m\u001b[1;32m    366\u001b[0m \u001b[0;34m\u001b[0m\u001b[0m\n\u001b[1;32m    367\u001b[0m         \u001b[0;32mif\u001b[0m \u001b[0misinstance\u001b[0m\u001b[0;34m(\u001b[0m\u001b[0mowner\u001b[0m\u001b[0;34m,\u001b[0m \u001b[0mHasProps\u001b[0m\u001b[0;34m)\u001b[0m\u001b[0;34m:\u001b[0m\u001b[0;34m\u001b[0m\u001b[0;34m\u001b[0m\u001b[0m\n",
          "\u001b[0;31mValueError\u001b[0m: failed to validate LinearAxis(id='1998', ...).ticker: expected an instance of type Ticker, got 0       Janvier\n1       Février\n2          Mars\n3         Avril\n4           Mai\n5          Juin\n6       Juillet\n7          Aout\n8     Septembre\n9       Octobre\n10     Novembre\n11     Decembre\nName: Période, dtype: object of type Series"
         ]
        }
       ]
      }
     },
     "797f6b28faba4072af5c95957f888ce7": {
      "model_module": "@jupyter-widgets/controls",
      "model_module_version": "1.5.0",
      "model_name": "VBoxModel",
      "state": {
       "_dom_classes": [
        "widget-interact"
       ],
       "children": [
        "IPY_MODEL_4d237d1c928a42ff997fc6871d2a4af7",
        "IPY_MODEL_35386e283a1f4b3f8b797fba2f4e39c7"
       ],
       "layout": "IPY_MODEL_bfa5828b658c4868b5d362cb5c4f5335"
      }
     },
     "7ca10d629389420f9d530948747871c6": {
      "model_module": "@jupyter-widgets/output",
      "model_module_version": "1.0.0",
      "model_name": "OutputModel",
      "state": {
       "layout": "IPY_MODEL_a34a15a843bf43b6ae3d1d2bbed29257",
       "outputs": [
        {
         "ename": "ValueError",
         "evalue": "failed to validate LinearAxis(id='2052', ...).ticker: expected an instance of type Ticker, got 0       Janvier\n1       Février\n2          Mars\n3         Avril\n4           Mai\n5          Juin\n6       Juillet\n7          Aout\n8     Septembre\n9       Octobre\n10     Novembre\n11     Decembre\nName: Période, dtype: object of type Series",
         "output_type": "error",
         "traceback": [
          "\u001b[0;31m---------------------------------------------------------------------------\u001b[0m",
          "\u001b[0;31mValueError\u001b[0m                                Traceback (most recent call last)",
          "\u001b[0;32m~/anaconda3/lib/python3.9/site-packages/ipywidgets/widgets/interaction.py\u001b[0m in \u001b[0;36mupdate\u001b[0;34m(self, *args)\u001b[0m\n\u001b[1;32m    255\u001b[0m                     \u001b[0mvalue\u001b[0m \u001b[0;34m=\u001b[0m \u001b[0mwidget\u001b[0m\u001b[0;34m.\u001b[0m\u001b[0mget_interact_value\u001b[0m\u001b[0;34m(\u001b[0m\u001b[0;34m)\u001b[0m\u001b[0;34m\u001b[0m\u001b[0;34m\u001b[0m\u001b[0m\n\u001b[1;32m    256\u001b[0m                     \u001b[0mself\u001b[0m\u001b[0;34m.\u001b[0m\u001b[0mkwargs\u001b[0m\u001b[0;34m[\u001b[0m\u001b[0mwidget\u001b[0m\u001b[0;34m.\u001b[0m\u001b[0m_kwarg\u001b[0m\u001b[0;34m]\u001b[0m \u001b[0;34m=\u001b[0m \u001b[0mvalue\u001b[0m\u001b[0;34m\u001b[0m\u001b[0;34m\u001b[0m\u001b[0m\n\u001b[0;32m--> 257\u001b[0;31m                 \u001b[0mself\u001b[0m\u001b[0;34m.\u001b[0m\u001b[0mresult\u001b[0m \u001b[0;34m=\u001b[0m \u001b[0mself\u001b[0m\u001b[0;34m.\u001b[0m\u001b[0mf\u001b[0m\u001b[0;34m(\u001b[0m\u001b[0;34m**\u001b[0m\u001b[0mself\u001b[0m\u001b[0;34m.\u001b[0m\u001b[0mkwargs\u001b[0m\u001b[0;34m)\u001b[0m\u001b[0;34m\u001b[0m\u001b[0;34m\u001b[0m\u001b[0m\n\u001b[0m\u001b[1;32m    258\u001b[0m                 \u001b[0mshow_inline_matplotlib_plots\u001b[0m\u001b[0;34m(\u001b[0m\u001b[0;34m)\u001b[0m\u001b[0;34m\u001b[0m\u001b[0;34m\u001b[0m\u001b[0m\n\u001b[1;32m    259\u001b[0m                 \u001b[0;32mif\u001b[0m \u001b[0mself\u001b[0m\u001b[0;34m.\u001b[0m\u001b[0mauto_display\u001b[0m \u001b[0;32mand\u001b[0m \u001b[0mself\u001b[0m\u001b[0;34m.\u001b[0m\u001b[0mresult\u001b[0m \u001b[0;32mis\u001b[0m \u001b[0;32mnot\u001b[0m \u001b[0;32mNone\u001b[0m\u001b[0;34m:\u001b[0m\u001b[0;34m\u001b[0m\u001b[0;34m\u001b[0m\u001b[0m\n",
          "\u001b[0;32m/tmp/ipykernel_24999/1056493489.py\u001b[0m in \u001b[0;36maff_per_year\u001b[0;34m(Choisi)\u001b[0m\n\u001b[1;32m     68\u001b[0m         \u001b[0;31m#graph_per_year.background_fill_color = \"beige\"\u001b[0m\u001b[0;34m\u001b[0m\u001b[0;34m\u001b[0m\u001b[0m\n\u001b[1;32m     69\u001b[0m         \u001b[0mgraph_per_year\u001b[0m\u001b[0;34m.\u001b[0m\u001b[0mtoolbar\u001b[0m\u001b[0;34m.\u001b[0m\u001b[0mlogo\u001b[0m \u001b[0;34m=\u001b[0m \u001b[0;32mNone\u001b[0m\u001b[0;34m\u001b[0m\u001b[0;34m\u001b[0m\u001b[0m\n\u001b[0;32m---> 70\u001b[0;31m         \u001b[0mgraph_per_year\u001b[0m\u001b[0;34m.\u001b[0m\u001b[0mxaxis\u001b[0m\u001b[0;34m.\u001b[0m\u001b[0mticker\u001b[0m \u001b[0;34m=\u001b[0m\u001b[0mz\u001b[0m\u001b[0;34m[\u001b[0m\u001b[0;34m\"Période\"\u001b[0m\u001b[0;34m]\u001b[0m\u001b[0;34m\u001b[0m\u001b[0;34m\u001b[0m\u001b[0m\n\u001b[0m\u001b[1;32m     71\u001b[0m \u001b[0;34m\u001b[0m\u001b[0m\n\u001b[1;32m     72\u001b[0m         \u001b[0mgraph_per_year\u001b[0m\u001b[0;34m.\u001b[0m\u001b[0mxaxis\u001b[0m\u001b[0;34m.\u001b[0m\u001b[0mmajor_label_overrides\u001b[0m \u001b[0;34m=\u001b[0m \u001b[0mdict_mois\u001b[0m\u001b[0;34m\u001b[0m\u001b[0;34m\u001b[0m\u001b[0m\n",
          "\u001b[0;32m~/anaconda3/lib/python3.9/site-packages/bokeh/models/plots.py\u001b[0m in \u001b[0;36m__setattr__\u001b[0;34m(self, attr, value)\u001b[0m\n\u001b[1;32m    785\u001b[0m     \u001b[0;32mdef\u001b[0m \u001b[0m__setattr__\u001b[0m\u001b[0;34m(\u001b[0m\u001b[0mself\u001b[0m\u001b[0;34m,\u001b[0m \u001b[0mattr\u001b[0m\u001b[0;34m,\u001b[0m \u001b[0mvalue\u001b[0m\u001b[0;34m)\u001b[0m\u001b[0;34m:\u001b[0m\u001b[0;34m\u001b[0m\u001b[0;34m\u001b[0m\u001b[0m\n\u001b[1;32m    786\u001b[0m         \u001b[0;32mfor\u001b[0m \u001b[0mx\u001b[0m \u001b[0;32min\u001b[0m \u001b[0mself\u001b[0m\u001b[0;34m:\u001b[0m\u001b[0;34m\u001b[0m\u001b[0;34m\u001b[0m\u001b[0m\n\u001b[0;32m--> 787\u001b[0;31m             \u001b[0msetattr\u001b[0m\u001b[0;34m(\u001b[0m\u001b[0mx\u001b[0m\u001b[0;34m,\u001b[0m \u001b[0mattr\u001b[0m\u001b[0;34m,\u001b[0m \u001b[0mvalue\u001b[0m\u001b[0;34m)\u001b[0m\u001b[0;34m\u001b[0m\u001b[0;34m\u001b[0m\u001b[0m\n\u001b[0m\u001b[1;32m    788\u001b[0m     \u001b[0;32mdef\u001b[0m \u001b[0m__getattribute__\u001b[0m\u001b[0;34m(\u001b[0m\u001b[0mself\u001b[0m\u001b[0;34m,\u001b[0m \u001b[0mattr\u001b[0m\u001b[0;34m)\u001b[0m\u001b[0;34m:\u001b[0m\u001b[0;34m\u001b[0m\u001b[0;34m\u001b[0m\u001b[0m\n\u001b[1;32m    789\u001b[0m         \u001b[0;32mif\u001b[0m \u001b[0mattr\u001b[0m \u001b[0;32min\u001b[0m \u001b[0mdir\u001b[0m\u001b[0;34m(\u001b[0m\u001b[0mlist\u001b[0m\u001b[0;34m)\u001b[0m\u001b[0;34m:\u001b[0m\u001b[0;34m\u001b[0m\u001b[0;34m\u001b[0m\u001b[0m\n",
          "\u001b[0;32m~/anaconda3/lib/python3.9/site-packages/bokeh/core/has_props.py\u001b[0m in \u001b[0;36m__setattr__\u001b[0;34m(self, name, value)\u001b[0m\n\u001b[1;32m    228\u001b[0m         \u001b[0mproperties\u001b[0m \u001b[0;34m=\u001b[0m \u001b[0mself\u001b[0m\u001b[0;34m.\u001b[0m\u001b[0mproperties\u001b[0m\u001b[0;34m(\u001b[0m\u001b[0m_with_props\u001b[0m\u001b[0;34m=\u001b[0m\u001b[0;32mTrue\u001b[0m\u001b[0;34m)\u001b[0m\u001b[0;34m\u001b[0m\u001b[0;34m\u001b[0m\u001b[0m\n\u001b[1;32m    229\u001b[0m         \u001b[0;32mif\u001b[0m \u001b[0mname\u001b[0m \u001b[0;32min\u001b[0m \u001b[0mproperties\u001b[0m\u001b[0;34m:\u001b[0m\u001b[0;34m\u001b[0m\u001b[0;34m\u001b[0m\u001b[0m\n\u001b[0;32m--> 230\u001b[0;31m             \u001b[0;32mreturn\u001b[0m \u001b[0msuper\u001b[0m\u001b[0;34m(\u001b[0m\u001b[0;34m)\u001b[0m\u001b[0;34m.\u001b[0m\u001b[0m__setattr__\u001b[0m\u001b[0;34m(\u001b[0m\u001b[0mname\u001b[0m\u001b[0;34m,\u001b[0m \u001b[0mvalue\u001b[0m\u001b[0;34m)\u001b[0m\u001b[0;34m\u001b[0m\u001b[0;34m\u001b[0m\u001b[0m\n\u001b[0m\u001b[1;32m    231\u001b[0m \u001b[0;34m\u001b[0m\u001b[0m\n\u001b[1;32m    232\u001b[0m         \u001b[0mdescriptor\u001b[0m \u001b[0;34m=\u001b[0m \u001b[0mgetattr\u001b[0m\u001b[0;34m(\u001b[0m\u001b[0mself\u001b[0m\u001b[0;34m.\u001b[0m\u001b[0m__class__\u001b[0m\u001b[0;34m,\u001b[0m \u001b[0mname\u001b[0m\u001b[0;34m,\u001b[0m \u001b[0;32mNone\u001b[0m\u001b[0;34m)\u001b[0m\u001b[0;34m\u001b[0m\u001b[0;34m\u001b[0m\u001b[0m\n",
          "\u001b[0;32m~/anaconda3/lib/python3.9/site-packages/bokeh/core/property/descriptors.py\u001b[0m in \u001b[0;36m__set__\u001b[0;34m(self, obj, value, setter)\u001b[0m\n\u001b[1;32m    281\u001b[0m             \u001b[0;32mraise\u001b[0m \u001b[0mRuntimeError\u001b[0m\u001b[0;34m(\u001b[0m\u001b[0;34mf\"{class_name}.{self.name} is a readonly property\"\u001b[0m\u001b[0;34m)\u001b[0m\u001b[0;34m\u001b[0m\u001b[0;34m\u001b[0m\u001b[0m\n\u001b[1;32m    282\u001b[0m \u001b[0;34m\u001b[0m\u001b[0m\n\u001b[0;32m--> 283\u001b[0;31m         \u001b[0mvalue\u001b[0m \u001b[0;34m=\u001b[0m \u001b[0mself\u001b[0m\u001b[0;34m.\u001b[0m\u001b[0mproperty\u001b[0m\u001b[0;34m.\u001b[0m\u001b[0mprepare_value\u001b[0m\u001b[0;34m(\u001b[0m\u001b[0mobj\u001b[0m\u001b[0;34m,\u001b[0m \u001b[0mself\u001b[0m\u001b[0;34m.\u001b[0m\u001b[0mname\u001b[0m\u001b[0;34m,\u001b[0m \u001b[0mvalue\u001b[0m\u001b[0;34m)\u001b[0m\u001b[0;34m\u001b[0m\u001b[0;34m\u001b[0m\u001b[0m\n\u001b[0m\u001b[1;32m    284\u001b[0m         \u001b[0mold\u001b[0m \u001b[0;34m=\u001b[0m \u001b[0mself\u001b[0m\u001b[0;34m.\u001b[0m\u001b[0m_get\u001b[0m\u001b[0;34m(\u001b[0m\u001b[0mobj\u001b[0m\u001b[0;34m)\u001b[0m\u001b[0;34m\u001b[0m\u001b[0;34m\u001b[0m\u001b[0m\n\u001b[1;32m    285\u001b[0m         \u001b[0mself\u001b[0m\u001b[0;34m.\u001b[0m\u001b[0m_set\u001b[0m\u001b[0;34m(\u001b[0m\u001b[0mobj\u001b[0m\u001b[0;34m,\u001b[0m \u001b[0mold\u001b[0m\u001b[0;34m,\u001b[0m \u001b[0mvalue\u001b[0m\u001b[0;34m,\u001b[0m \u001b[0msetter\u001b[0m\u001b[0;34m=\u001b[0m\u001b[0msetter\u001b[0m\u001b[0;34m)\u001b[0m\u001b[0;34m\u001b[0m\u001b[0;34m\u001b[0m\u001b[0m\n",
          "\u001b[0;32m~/anaconda3/lib/python3.9/site-packages/bokeh/core/property/bases.py\u001b[0m in \u001b[0;36mprepare_value\u001b[0;34m(self, owner, name, value, hint)\u001b[0m\n\u001b[1;32m    363\u001b[0m         \u001b[0;32melse\u001b[0m\u001b[0;34m:\u001b[0m\u001b[0;34m\u001b[0m\u001b[0;34m\u001b[0m\u001b[0m\n\u001b[1;32m    364\u001b[0m             \u001b[0mobj_repr\u001b[0m \u001b[0;34m=\u001b[0m \u001b[0mowner\u001b[0m \u001b[0;32mif\u001b[0m \u001b[0misinstance\u001b[0m\u001b[0;34m(\u001b[0m\u001b[0mowner\u001b[0m\u001b[0;34m,\u001b[0m \u001b[0mHasProps\u001b[0m\u001b[0;34m)\u001b[0m \u001b[0;32melse\u001b[0m \u001b[0mowner\u001b[0m\u001b[0;34m.\u001b[0m\u001b[0m__name__\u001b[0m\u001b[0;34m\u001b[0m\u001b[0;34m\u001b[0m\u001b[0m\n\u001b[0;32m--> 365\u001b[0;31m             \u001b[0;32mraise\u001b[0m \u001b[0mValueError\u001b[0m\u001b[0;34m(\u001b[0m\u001b[0;34mf\"failed to validate {obj_repr}.{name}: {error}\"\u001b[0m\u001b[0;34m)\u001b[0m\u001b[0;34m\u001b[0m\u001b[0;34m\u001b[0m\u001b[0m\n\u001b[0m\u001b[1;32m    366\u001b[0m \u001b[0;34m\u001b[0m\u001b[0m\n\u001b[1;32m    367\u001b[0m         \u001b[0;32mif\u001b[0m \u001b[0misinstance\u001b[0m\u001b[0;34m(\u001b[0m\u001b[0mowner\u001b[0m\u001b[0;34m,\u001b[0m \u001b[0mHasProps\u001b[0m\u001b[0;34m)\u001b[0m\u001b[0;34m:\u001b[0m\u001b[0;34m\u001b[0m\u001b[0;34m\u001b[0m\u001b[0m\n",
          "\u001b[0;31mValueError\u001b[0m: failed to validate LinearAxis(id='2052', ...).ticker: expected an instance of type Ticker, got 0       Janvier\n1       Février\n2          Mars\n3         Avril\n4           Mai\n5          Juin\n6       Juillet\n7          Aout\n8     Septembre\n9       Octobre\n10     Novembre\n11     Decembre\nName: Période, dtype: object of type Series"
         ]
        }
       ]
      }
     },
     "7cc09b932dd4460db8638275e06c905c": {
      "model_module": "@jupyter-widgets/controls",
      "model_module_version": "1.5.0",
      "model_name": "VBoxModel",
      "state": {
       "_dom_classes": [
        "widget-interact"
       ],
       "children": [
        "IPY_MODEL_197c62d449e14ebba08b410eee92b719",
        "IPY_MODEL_77a3a450d71e4e65a989296fd05af493"
       ],
       "layout": "IPY_MODEL_5e20e0fc6bc84725a29c744142c6f51d"
      }
     },
     "7cd7ee8dd3ed41589ba41a8546a0e86f": {
      "model_module": "@jupyter-widgets/base",
      "model_module_version": "1.2.0",
      "model_name": "LayoutModel",
      "state": {}
     },
     "7df389edf0b24bdf808ef250bab7258a": {
      "model_module": "@jupyter-widgets/controls",
      "model_module_version": "1.5.0",
      "model_name": "VBoxModel",
      "state": {
       "_dom_classes": [
        "widget-interact"
       ],
       "children": [
        "IPY_MODEL_d8bba51df246420cbc35acd0f12b0c28",
        "IPY_MODEL_9c143cc9a75c4807a7111eea7160ec8c"
       ],
       "layout": "IPY_MODEL_ef1a7cf0672e440c95c8359f405838d8"
      }
     },
     "7e7e4f90206a4cf4accc93572ab4f65e": {
      "model_module": "@jupyter-widgets/base",
      "model_module_version": "1.2.0",
      "model_name": "LayoutModel",
      "state": {}
     },
     "7ea789db156545749ab2b94fa2f1ac6a": {
      "model_module": "@jupyter-widgets/controls",
      "model_module_version": "1.5.0",
      "model_name": "DescriptionStyleModel",
      "state": {
       "description_width": ""
      }
     },
     "7ea7b23b8ead425b968ef93acc33eff8": {
      "model_module": "@jupyter-widgets/base",
      "model_module_version": "1.2.0",
      "model_name": "LayoutModel",
      "state": {}
     },
     "7fad277ff2344dbf9f014ed7ae9ec002": {
      "model_module": "@jupyter-widgets/controls",
      "model_module_version": "1.5.0",
      "model_name": "VBoxModel",
      "state": {
       "_dom_classes": [
        "widget-interact"
       ],
       "children": [
        "IPY_MODEL_989acc47d3024af18f797a0ef9ab5b44",
        "IPY_MODEL_481b091697554800a1c03f83c0a2c98a"
       ],
       "layout": "IPY_MODEL_b333d23ad37c406f8ce681e81bbfb1ad"
      }
     },
     "827b4498361d429fb9d7c6f889a5707c": {
      "model_module": "@jupyter-widgets/base",
      "model_module_version": "1.2.0",
      "model_name": "LayoutModel",
      "state": {}
     },
     "839853bf8aba46a78d8f59c649605e98": {
      "model_module": "@jupyter-widgets/base",
      "model_module_version": "1.2.0",
      "model_name": "LayoutModel",
      "state": {}
     },
     "848f2dafc0d1448494d39fa38a12525c": {
      "model_module": "@jupyter-widgets/base",
      "model_module_version": "1.2.0",
      "model_name": "LayoutModel",
      "state": {}
     },
     "85ceef56b5f34dbba38e74e1a17e15fb": {
      "model_module": "@jupyter-widgets/controls",
      "model_module_version": "1.5.0",
      "model_name": "VBoxModel",
      "state": {
       "_dom_classes": [
        "widget-interact"
       ],
       "children": [
        "IPY_MODEL_f100b71f530748bbb25cb00dd570a448",
        "IPY_MODEL_187d4ca313064684b7488699d8bed256"
       ],
       "layout": "IPY_MODEL_51bba32b443c4093b3f3f4fd31af4fba"
      }
     },
     "861654ad3dfe40858eb43e58753139e5": {
      "model_module": "@jupyter-widgets/controls",
      "model_module_version": "1.5.0",
      "model_name": "DescriptionStyleModel",
      "state": {
       "description_width": ""
      }
     },
     "8635719b2f2e48d988cb029bb3bd32bf": {
      "model_module": "@jupyter-widgets/output",
      "model_module_version": "1.0.0",
      "model_name": "OutputModel",
      "state": {
       "layout": "IPY_MODEL_26e7ba1438c440f4a1ded97cfe9067a2",
       "outputs": [
        {
         "ename": "ValueError",
         "evalue": "failed to validate FigureOptions(...).x_axis_type: expected an element of either Null, Auto or Enum('linear', 'log', 'datetime', 'mercator'), got 'string'",
         "output_type": "error",
         "traceback": [
          "\u001b[0;31m---------------------------------------------------------------------------\u001b[0m",
          "\u001b[0;31mValueError\u001b[0m                                Traceback (most recent call last)",
          "\u001b[0;32m~/anaconda3/lib/python3.9/site-packages/ipywidgets/widgets/interaction.py\u001b[0m in \u001b[0;36mupdate\u001b[0;34m(self, *args)\u001b[0m\n\u001b[1;32m    255\u001b[0m                     \u001b[0mvalue\u001b[0m \u001b[0;34m=\u001b[0m \u001b[0mwidget\u001b[0m\u001b[0;34m.\u001b[0m\u001b[0mget_interact_value\u001b[0m\u001b[0;34m(\u001b[0m\u001b[0;34m)\u001b[0m\u001b[0;34m\u001b[0m\u001b[0;34m\u001b[0m\u001b[0m\n\u001b[1;32m    256\u001b[0m                     \u001b[0mself\u001b[0m\u001b[0;34m.\u001b[0m\u001b[0mkwargs\u001b[0m\u001b[0;34m[\u001b[0m\u001b[0mwidget\u001b[0m\u001b[0;34m.\u001b[0m\u001b[0m_kwarg\u001b[0m\u001b[0;34m]\u001b[0m \u001b[0;34m=\u001b[0m \u001b[0mvalue\u001b[0m\u001b[0;34m\u001b[0m\u001b[0;34m\u001b[0m\u001b[0m\n\u001b[0;32m--> 257\u001b[0;31m                 \u001b[0mself\u001b[0m\u001b[0;34m.\u001b[0m\u001b[0mresult\u001b[0m \u001b[0;34m=\u001b[0m \u001b[0mself\u001b[0m\u001b[0;34m.\u001b[0m\u001b[0mf\u001b[0m\u001b[0;34m(\u001b[0m\u001b[0;34m**\u001b[0m\u001b[0mself\u001b[0m\u001b[0;34m.\u001b[0m\u001b[0mkwargs\u001b[0m\u001b[0;34m)\u001b[0m\u001b[0;34m\u001b[0m\u001b[0;34m\u001b[0m\u001b[0m\n\u001b[0m\u001b[1;32m    258\u001b[0m                 \u001b[0mshow_inline_matplotlib_plots\u001b[0m\u001b[0;34m(\u001b[0m\u001b[0;34m)\u001b[0m\u001b[0;34m\u001b[0m\u001b[0;34m\u001b[0m\u001b[0m\n\u001b[1;32m    259\u001b[0m                 \u001b[0;32mif\u001b[0m \u001b[0mself\u001b[0m\u001b[0;34m.\u001b[0m\u001b[0mauto_display\u001b[0m \u001b[0;32mand\u001b[0m \u001b[0mself\u001b[0m\u001b[0;34m.\u001b[0m\u001b[0mresult\u001b[0m \u001b[0;32mis\u001b[0m \u001b[0;32mnot\u001b[0m \u001b[0;32mNone\u001b[0m\u001b[0;34m:\u001b[0m\u001b[0;34m\u001b[0m\u001b[0;34m\u001b[0m\u001b[0m\n",
          "\u001b[0;32m/tmp/ipykernel_24999/672863809.py\u001b[0m in \u001b[0;36maff_per_year\u001b[0;34m(Choisi)\u001b[0m\n\u001b[1;32m     49\u001b[0m \u001b[0;34m\u001b[0m\u001b[0m\n\u001b[1;32m     50\u001b[0m         \u001b[0;31m#   Je crée ensuite le graph avec bokeh qui sera display\u001b[0m\u001b[0;34m\u001b[0m\u001b[0;34m\u001b[0m\u001b[0m\n\u001b[0;32m---> 51\u001b[0;31m         graph_per_year = figure(\n\u001b[0m\u001b[1;32m     52\u001b[0m                   \u001b[0mtitle\u001b[0m\u001b[0;34m=\u001b[0m\u001b[0;34mf\"Evolution du prix du Gazole sur l'année {Choisi}\"\u001b[0m\u001b[0;34m,\u001b[0m\u001b[0;34m\u001b[0m\u001b[0;34m\u001b[0m\u001b[0m\n\u001b[1;32m     53\u001b[0m                   \u001b[0mx_axis_label\u001b[0m\u001b[0;34m=\u001b[0m\u001b[0;34m\"Période (En mois)\"\u001b[0m\u001b[0;34m,\u001b[0m\u001b[0;34m\u001b[0m\u001b[0;34m\u001b[0m\u001b[0m\n",
          "\u001b[0;32m~/anaconda3/lib/python3.9/site-packages/bokeh/plotting/figure.py\u001b[0m in \u001b[0;36mfigure\u001b[0;34m(**kwargs)\u001b[0m\n\u001b[1;32m    663\u001b[0m \u001b[0;34m\u001b[0m\u001b[0m\n\u001b[1;32m    664\u001b[0m     '''\n\u001b[0;32m--> 665\u001b[0;31m     \u001b[0;32mreturn\u001b[0m \u001b[0mFigure\u001b[0m\u001b[0;34m(\u001b[0m\u001b[0;34m**\u001b[0m\u001b[0mkwargs\u001b[0m\u001b[0;34m)\u001b[0m\u001b[0;34m\u001b[0m\u001b[0;34m\u001b[0m\u001b[0m\n\u001b[0m\u001b[1;32m    666\u001b[0m \u001b[0;34m\u001b[0m\u001b[0m\n\u001b[1;32m    667\u001b[0m \u001b[0;32mdef\u001b[0m \u001b[0mmarkers\u001b[0m\u001b[0;34m(\u001b[0m\u001b[0;34m)\u001b[0m\u001b[0;34m:\u001b[0m\u001b[0;34m\u001b[0m\u001b[0;34m\u001b[0m\u001b[0m\n",
          "\u001b[0;32m~/anaconda3/lib/python3.9/site-packages/bokeh/plotting/figure.py\u001b[0m in \u001b[0;36m__init__\u001b[0;34m(self, *arg, **kw)\u001b[0m\n\u001b[1;32m    173\u001b[0m \u001b[0;34m\u001b[0m\u001b[0m\n\u001b[1;32m    174\u001b[0m     \u001b[0;32mdef\u001b[0m \u001b[0m__init__\u001b[0m\u001b[0;34m(\u001b[0m\u001b[0mself\u001b[0m\u001b[0;34m,\u001b[0m \u001b[0;34m*\u001b[0m\u001b[0marg\u001b[0m\u001b[0;34m,\u001b[0m \u001b[0;34m**\u001b[0m\u001b[0mkw\u001b[0m\u001b[0;34m)\u001b[0m \u001b[0;34m->\u001b[0m \u001b[0;32mNone\u001b[0m\u001b[0;34m:\u001b[0m\u001b[0;34m\u001b[0m\u001b[0;34m\u001b[0m\u001b[0m\n\u001b[0;32m--> 175\u001b[0;31m         \u001b[0mopts\u001b[0m \u001b[0;34m=\u001b[0m \u001b[0mFigureOptions\u001b[0m\u001b[0;34m(\u001b[0m\u001b[0mkw\u001b[0m\u001b[0;34m)\u001b[0m\u001b[0;34m\u001b[0m\u001b[0;34m\u001b[0m\u001b[0m\n\u001b[0m\u001b[1;32m    176\u001b[0m         \u001b[0msuper\u001b[0m\u001b[0;34m(\u001b[0m\u001b[0;34m)\u001b[0m\u001b[0;34m.\u001b[0m\u001b[0m__init__\u001b[0m\u001b[0;34m(\u001b[0m\u001b[0;34m*\u001b[0m\u001b[0marg\u001b[0m\u001b[0;34m,\u001b[0m \u001b[0;34m**\u001b[0m\u001b[0mkw\u001b[0m\u001b[0;34m)\u001b[0m\u001b[0;34m\u001b[0m\u001b[0;34m\u001b[0m\u001b[0m\n\u001b[1;32m    177\u001b[0m \u001b[0;34m\u001b[0m\u001b[0m\n",
          "\u001b[0;32m~/anaconda3/lib/python3.9/site-packages/bokeh/util/options.py\u001b[0m in \u001b[0;36m__init__\u001b[0;34m(self, kw)\u001b[0m\n\u001b[1;32m     73\u001b[0m                 \u001b[0mprops\u001b[0m\u001b[0;34m[\u001b[0m\u001b[0mk\u001b[0m\u001b[0;34m]\u001b[0m \u001b[0;34m=\u001b[0m \u001b[0mkw\u001b[0m\u001b[0;34m.\u001b[0m\u001b[0mpop\u001b[0m\u001b[0;34m(\u001b[0m\u001b[0mk\u001b[0m\u001b[0;34m)\u001b[0m\u001b[0;34m\u001b[0m\u001b[0;34m\u001b[0m\u001b[0m\n\u001b[1;32m     74\u001b[0m \u001b[0;34m\u001b[0m\u001b[0m\n\u001b[0;32m---> 75\u001b[0;31m         \u001b[0msuper\u001b[0m\u001b[0;34m(\u001b[0m\u001b[0;34m)\u001b[0m\u001b[0;34m.\u001b[0m\u001b[0m__init__\u001b[0m\u001b[0;34m(\u001b[0m\u001b[0;34m**\u001b[0m\u001b[0mprops\u001b[0m\u001b[0;34m)\u001b[0m\u001b[0;34m\u001b[0m\u001b[0;34m\u001b[0m\u001b[0m\n\u001b[0m\u001b[1;32m     76\u001b[0m \u001b[0;34m\u001b[0m\u001b[0m\n\u001b[1;32m     77\u001b[0m \u001b[0;31m#-----------------------------------------------------------------------------\u001b[0m\u001b[0;34m\u001b[0m\u001b[0;34m\u001b[0m\u001b[0m\n",
          "\u001b[0;32m~/anaconda3/lib/python3.9/site-packages/bokeh/core/has_props.py\u001b[0m in \u001b[0;36m__init__\u001b[0;34m(self, **properties)\u001b[0m\n\u001b[1;32m    204\u001b[0m \u001b[0;34m\u001b[0m\u001b[0m\n\u001b[1;32m    205\u001b[0m         \u001b[0;32mfor\u001b[0m \u001b[0mname\u001b[0m\u001b[0;34m,\u001b[0m \u001b[0mvalue\u001b[0m \u001b[0;32min\u001b[0m \u001b[0mproperties\u001b[0m\u001b[0;34m.\u001b[0m\u001b[0mitems\u001b[0m\u001b[0;34m(\u001b[0m\u001b[0;34m)\u001b[0m\u001b[0;34m:\u001b[0m\u001b[0;34m\u001b[0m\u001b[0;34m\u001b[0m\u001b[0m\n\u001b[0;32m--> 206\u001b[0;31m             \u001b[0msetattr\u001b[0m\u001b[0;34m(\u001b[0m\u001b[0mself\u001b[0m\u001b[0;34m,\u001b[0m \u001b[0mname\u001b[0m\u001b[0;34m,\u001b[0m \u001b[0mvalue\u001b[0m\u001b[0;34m)\u001b[0m\u001b[0;34m\u001b[0m\u001b[0;34m\u001b[0m\u001b[0m\n\u001b[0m\u001b[1;32m    207\u001b[0m \u001b[0;34m\u001b[0m\u001b[0m\n\u001b[1;32m    208\u001b[0m         \u001b[0mself\u001b[0m\u001b[0;34m.\u001b[0m\u001b[0m_initialized\u001b[0m \u001b[0;34m=\u001b[0m \u001b[0;32mTrue\u001b[0m\u001b[0;34m\u001b[0m\u001b[0;34m\u001b[0m\u001b[0m\n",
          "\u001b[0;32m~/anaconda3/lib/python3.9/site-packages/bokeh/core/has_props.py\u001b[0m in \u001b[0;36m__setattr__\u001b[0;34m(self, name, value)\u001b[0m\n\u001b[1;32m    228\u001b[0m         \u001b[0mproperties\u001b[0m \u001b[0;34m=\u001b[0m \u001b[0mself\u001b[0m\u001b[0;34m.\u001b[0m\u001b[0mproperties\u001b[0m\u001b[0;34m(\u001b[0m\u001b[0m_with_props\u001b[0m\u001b[0;34m=\u001b[0m\u001b[0;32mTrue\u001b[0m\u001b[0;34m)\u001b[0m\u001b[0;34m\u001b[0m\u001b[0;34m\u001b[0m\u001b[0m\n\u001b[1;32m    229\u001b[0m         \u001b[0;32mif\u001b[0m \u001b[0mname\u001b[0m \u001b[0;32min\u001b[0m \u001b[0mproperties\u001b[0m\u001b[0;34m:\u001b[0m\u001b[0;34m\u001b[0m\u001b[0;34m\u001b[0m\u001b[0m\n\u001b[0;32m--> 230\u001b[0;31m             \u001b[0;32mreturn\u001b[0m \u001b[0msuper\u001b[0m\u001b[0;34m(\u001b[0m\u001b[0;34m)\u001b[0m\u001b[0;34m.\u001b[0m\u001b[0m__setattr__\u001b[0m\u001b[0;34m(\u001b[0m\u001b[0mname\u001b[0m\u001b[0;34m,\u001b[0m \u001b[0mvalue\u001b[0m\u001b[0;34m)\u001b[0m\u001b[0;34m\u001b[0m\u001b[0;34m\u001b[0m\u001b[0m\n\u001b[0m\u001b[1;32m    231\u001b[0m \u001b[0;34m\u001b[0m\u001b[0m\n\u001b[1;32m    232\u001b[0m         \u001b[0mdescriptor\u001b[0m \u001b[0;34m=\u001b[0m \u001b[0mgetattr\u001b[0m\u001b[0;34m(\u001b[0m\u001b[0mself\u001b[0m\u001b[0;34m.\u001b[0m\u001b[0m__class__\u001b[0m\u001b[0;34m,\u001b[0m \u001b[0mname\u001b[0m\u001b[0;34m,\u001b[0m \u001b[0;32mNone\u001b[0m\u001b[0;34m)\u001b[0m\u001b[0;34m\u001b[0m\u001b[0;34m\u001b[0m\u001b[0m\n",
          "\u001b[0;32m~/anaconda3/lib/python3.9/site-packages/bokeh/core/property/descriptors.py\u001b[0m in \u001b[0;36m__set__\u001b[0;34m(self, obj, value, setter)\u001b[0m\n\u001b[1;32m    281\u001b[0m             \u001b[0;32mraise\u001b[0m \u001b[0mRuntimeError\u001b[0m\u001b[0;34m(\u001b[0m\u001b[0;34mf\"{class_name}.{self.name} is a readonly property\"\u001b[0m\u001b[0;34m)\u001b[0m\u001b[0;34m\u001b[0m\u001b[0;34m\u001b[0m\u001b[0m\n\u001b[1;32m    282\u001b[0m \u001b[0;34m\u001b[0m\u001b[0m\n\u001b[0;32m--> 283\u001b[0;31m         \u001b[0mvalue\u001b[0m \u001b[0;34m=\u001b[0m \u001b[0mself\u001b[0m\u001b[0;34m.\u001b[0m\u001b[0mproperty\u001b[0m\u001b[0;34m.\u001b[0m\u001b[0mprepare_value\u001b[0m\u001b[0;34m(\u001b[0m\u001b[0mobj\u001b[0m\u001b[0;34m,\u001b[0m \u001b[0mself\u001b[0m\u001b[0;34m.\u001b[0m\u001b[0mname\u001b[0m\u001b[0;34m,\u001b[0m \u001b[0mvalue\u001b[0m\u001b[0;34m)\u001b[0m\u001b[0;34m\u001b[0m\u001b[0;34m\u001b[0m\u001b[0m\n\u001b[0m\u001b[1;32m    284\u001b[0m         \u001b[0mold\u001b[0m \u001b[0;34m=\u001b[0m \u001b[0mself\u001b[0m\u001b[0;34m.\u001b[0m\u001b[0m_get\u001b[0m\u001b[0;34m(\u001b[0m\u001b[0mobj\u001b[0m\u001b[0;34m)\u001b[0m\u001b[0;34m\u001b[0m\u001b[0;34m\u001b[0m\u001b[0m\n\u001b[1;32m    285\u001b[0m         \u001b[0mself\u001b[0m\u001b[0;34m.\u001b[0m\u001b[0m_set\u001b[0m\u001b[0;34m(\u001b[0m\u001b[0mobj\u001b[0m\u001b[0;34m,\u001b[0m \u001b[0mold\u001b[0m\u001b[0;34m,\u001b[0m \u001b[0mvalue\u001b[0m\u001b[0;34m,\u001b[0m \u001b[0msetter\u001b[0m\u001b[0;34m=\u001b[0m\u001b[0msetter\u001b[0m\u001b[0;34m)\u001b[0m\u001b[0;34m\u001b[0m\u001b[0;34m\u001b[0m\u001b[0m\n",
          "\u001b[0;32m~/anaconda3/lib/python3.9/site-packages/bokeh/core/property/bases.py\u001b[0m in \u001b[0;36mprepare_value\u001b[0;34m(self, owner, name, value, hint)\u001b[0m\n\u001b[1;32m    363\u001b[0m         \u001b[0;32melse\u001b[0m\u001b[0;34m:\u001b[0m\u001b[0;34m\u001b[0m\u001b[0;34m\u001b[0m\u001b[0m\n\u001b[1;32m    364\u001b[0m             \u001b[0mobj_repr\u001b[0m \u001b[0;34m=\u001b[0m \u001b[0mowner\u001b[0m \u001b[0;32mif\u001b[0m \u001b[0misinstance\u001b[0m\u001b[0;34m(\u001b[0m\u001b[0mowner\u001b[0m\u001b[0;34m,\u001b[0m \u001b[0mHasProps\u001b[0m\u001b[0;34m)\u001b[0m \u001b[0;32melse\u001b[0m \u001b[0mowner\u001b[0m\u001b[0;34m.\u001b[0m\u001b[0m__name__\u001b[0m\u001b[0;34m\u001b[0m\u001b[0;34m\u001b[0m\u001b[0m\n\u001b[0;32m--> 365\u001b[0;31m             \u001b[0;32mraise\u001b[0m \u001b[0mValueError\u001b[0m\u001b[0;34m(\u001b[0m\u001b[0;34mf\"failed to validate {obj_repr}.{name}: {error}\"\u001b[0m\u001b[0;34m)\u001b[0m\u001b[0;34m\u001b[0m\u001b[0;34m\u001b[0m\u001b[0m\n\u001b[0m\u001b[1;32m    366\u001b[0m \u001b[0;34m\u001b[0m\u001b[0m\n\u001b[1;32m    367\u001b[0m         \u001b[0;32mif\u001b[0m \u001b[0misinstance\u001b[0m\u001b[0;34m(\u001b[0m\u001b[0mowner\u001b[0m\u001b[0;34m,\u001b[0m \u001b[0mHasProps\u001b[0m\u001b[0;34m)\u001b[0m\u001b[0;34m:\u001b[0m\u001b[0;34m\u001b[0m\u001b[0;34m\u001b[0m\u001b[0m\n",
          "\u001b[0;31mValueError\u001b[0m: failed to validate FigureOptions(...).x_axis_type: expected an element of either Null, Auto or Enum('linear', 'log', 'datetime', 'mercator'), got 'string'"
         ]
        }
       ]
      }
     },
     "868249f6ce994016a8f40b02bfa6ef91": {
      "model_module": "@jupyter-widgets/base",
      "model_module_version": "1.2.0",
      "model_name": "LayoutModel",
      "state": {}
     },
     "8773a3b123f342a79e69703a5d1929b9": {
      "model_module": "@jupyter-widgets/base",
      "model_module_version": "1.2.0",
      "model_name": "LayoutModel",
      "state": {}
     },
     "885865118b904d20a1bebbd77cd69857": {
      "model_module": "@jupyter-widgets/base",
      "model_module_version": "1.2.0",
      "model_name": "LayoutModel",
      "state": {}
     },
     "89ce44133fc14b68b1f467302c0899c0": {
      "model_module": "@jupyter-widgets/base",
      "model_module_version": "1.2.0",
      "model_name": "LayoutModel",
      "state": {}
     },
     "8a1d1cd9559747eb9069fee33bc2f0d8": {
      "model_module": "@jupyter-widgets/output",
      "model_module_version": "1.0.0",
      "model_name": "OutputModel",
      "state": {
       "layout": "IPY_MODEL_c7d1322110eb468494d64d119fa3ad5d",
       "outputs": [
        {
         "ename": "ValueError",
         "evalue": "failed to validate FigureOptions(...).tooltips: expected an element of either Null, Instance(Template), String or List(Tuple(String, String)), got [('En ', '@x', ', le prix du gazole était de ', '@y')]",
         "output_type": "error",
         "traceback": [
          "\u001b[0;31m---------------------------------------------------------------------------\u001b[0m",
          "\u001b[0;31mValueError\u001b[0m                                Traceback (most recent call last)",
          "\u001b[0;32m~/anaconda3/lib/python3.9/site-packages/ipywidgets/widgets/interaction.py\u001b[0m in \u001b[0;36mupdate\u001b[0;34m(self, *args)\u001b[0m\n\u001b[1;32m    255\u001b[0m                     \u001b[0mvalue\u001b[0m \u001b[0;34m=\u001b[0m \u001b[0mwidget\u001b[0m\u001b[0;34m.\u001b[0m\u001b[0mget_interact_value\u001b[0m\u001b[0;34m(\u001b[0m\u001b[0;34m)\u001b[0m\u001b[0;34m\u001b[0m\u001b[0;34m\u001b[0m\u001b[0m\n\u001b[1;32m    256\u001b[0m                     \u001b[0mself\u001b[0m\u001b[0;34m.\u001b[0m\u001b[0mkwargs\u001b[0m\u001b[0;34m[\u001b[0m\u001b[0mwidget\u001b[0m\u001b[0;34m.\u001b[0m\u001b[0m_kwarg\u001b[0m\u001b[0;34m]\u001b[0m \u001b[0;34m=\u001b[0m \u001b[0mvalue\u001b[0m\u001b[0;34m\u001b[0m\u001b[0;34m\u001b[0m\u001b[0m\n\u001b[0;32m--> 257\u001b[0;31m                 \u001b[0mself\u001b[0m\u001b[0;34m.\u001b[0m\u001b[0mresult\u001b[0m \u001b[0;34m=\u001b[0m \u001b[0mself\u001b[0m\u001b[0;34m.\u001b[0m\u001b[0mf\u001b[0m\u001b[0;34m(\u001b[0m\u001b[0;34m**\u001b[0m\u001b[0mself\u001b[0m\u001b[0;34m.\u001b[0m\u001b[0mkwargs\u001b[0m\u001b[0;34m)\u001b[0m\u001b[0;34m\u001b[0m\u001b[0;34m\u001b[0m\u001b[0m\n\u001b[0m\u001b[1;32m    258\u001b[0m                 \u001b[0mshow_inline_matplotlib_plots\u001b[0m\u001b[0;34m(\u001b[0m\u001b[0;34m)\u001b[0m\u001b[0;34m\u001b[0m\u001b[0;34m\u001b[0m\u001b[0m\n\u001b[1;32m    259\u001b[0m                 \u001b[0;32mif\u001b[0m \u001b[0mself\u001b[0m\u001b[0;34m.\u001b[0m\u001b[0mauto_display\u001b[0m \u001b[0;32mand\u001b[0m \u001b[0mself\u001b[0m\u001b[0;34m.\u001b[0m\u001b[0mresult\u001b[0m \u001b[0;32mis\u001b[0m \u001b[0;32mnot\u001b[0m \u001b[0;32mNone\u001b[0m\u001b[0;34m:\u001b[0m\u001b[0;34m\u001b[0m\u001b[0;34m\u001b[0m\u001b[0m\n",
          "\u001b[0;32m/tmp/ipykernel_24999/2217318453.py\u001b[0m in \u001b[0;36maff_per_year\u001b[0;34m(Choisi)\u001b[0m\n\u001b[1;32m     50\u001b[0m \u001b[0;34m\u001b[0m\u001b[0m\n\u001b[1;32m     51\u001b[0m         \u001b[0;31m#   Je crée ensuite le graph avec bokeh qui sera display\u001b[0m\u001b[0;34m\u001b[0m\u001b[0;34m\u001b[0m\u001b[0m\n\u001b[0;32m---> 52\u001b[0;31m         graph_per_year = figure(\n\u001b[0m\u001b[1;32m     53\u001b[0m                   \u001b[0mtitle\u001b[0m\u001b[0;34m=\u001b[0m\u001b[0;34mf\"Evolution du prix du Gazole sur l'année {Choisi}\"\u001b[0m\u001b[0;34m,\u001b[0m\u001b[0;34m\u001b[0m\u001b[0;34m\u001b[0m\u001b[0m\n\u001b[1;32m     54\u001b[0m                   \u001b[0mx_range\u001b[0m \u001b[0;34m=\u001b[0m \u001b[0mz\u001b[0m\u001b[0;34m[\u001b[0m\u001b[0;34m\"Période\"\u001b[0m\u001b[0;34m]\u001b[0m\u001b[0;34m,\u001b[0m\u001b[0;34m\u001b[0m\u001b[0;34m\u001b[0m\u001b[0m\n",
          "\u001b[0;32m~/anaconda3/lib/python3.9/site-packages/bokeh/plotting/figure.py\u001b[0m in \u001b[0;36mfigure\u001b[0;34m(**kwargs)\u001b[0m\n\u001b[1;32m    663\u001b[0m \u001b[0;34m\u001b[0m\u001b[0m\n\u001b[1;32m    664\u001b[0m     '''\n\u001b[0;32m--> 665\u001b[0;31m     \u001b[0;32mreturn\u001b[0m \u001b[0mFigure\u001b[0m\u001b[0;34m(\u001b[0m\u001b[0;34m**\u001b[0m\u001b[0mkwargs\u001b[0m\u001b[0;34m)\u001b[0m\u001b[0;34m\u001b[0m\u001b[0;34m\u001b[0m\u001b[0m\n\u001b[0m\u001b[1;32m    666\u001b[0m \u001b[0;34m\u001b[0m\u001b[0m\n\u001b[1;32m    667\u001b[0m \u001b[0;32mdef\u001b[0m \u001b[0mmarkers\u001b[0m\u001b[0;34m(\u001b[0m\u001b[0;34m)\u001b[0m\u001b[0;34m:\u001b[0m\u001b[0;34m\u001b[0m\u001b[0;34m\u001b[0m\u001b[0m\n",
          "\u001b[0;32m~/anaconda3/lib/python3.9/site-packages/bokeh/plotting/figure.py\u001b[0m in \u001b[0;36m__init__\u001b[0;34m(self, *arg, **kw)\u001b[0m\n\u001b[1;32m    173\u001b[0m \u001b[0;34m\u001b[0m\u001b[0m\n\u001b[1;32m    174\u001b[0m     \u001b[0;32mdef\u001b[0m \u001b[0m__init__\u001b[0m\u001b[0;34m(\u001b[0m\u001b[0mself\u001b[0m\u001b[0;34m,\u001b[0m \u001b[0;34m*\u001b[0m\u001b[0marg\u001b[0m\u001b[0;34m,\u001b[0m \u001b[0;34m**\u001b[0m\u001b[0mkw\u001b[0m\u001b[0;34m)\u001b[0m \u001b[0;34m->\u001b[0m \u001b[0;32mNone\u001b[0m\u001b[0;34m:\u001b[0m\u001b[0;34m\u001b[0m\u001b[0;34m\u001b[0m\u001b[0m\n\u001b[0;32m--> 175\u001b[0;31m         \u001b[0mopts\u001b[0m \u001b[0;34m=\u001b[0m \u001b[0mFigureOptions\u001b[0m\u001b[0;34m(\u001b[0m\u001b[0mkw\u001b[0m\u001b[0;34m)\u001b[0m\u001b[0;34m\u001b[0m\u001b[0;34m\u001b[0m\u001b[0m\n\u001b[0m\u001b[1;32m    176\u001b[0m         \u001b[0msuper\u001b[0m\u001b[0;34m(\u001b[0m\u001b[0;34m)\u001b[0m\u001b[0;34m.\u001b[0m\u001b[0m__init__\u001b[0m\u001b[0;34m(\u001b[0m\u001b[0;34m*\u001b[0m\u001b[0marg\u001b[0m\u001b[0;34m,\u001b[0m \u001b[0;34m**\u001b[0m\u001b[0mkw\u001b[0m\u001b[0;34m)\u001b[0m\u001b[0;34m\u001b[0m\u001b[0;34m\u001b[0m\u001b[0m\n\u001b[1;32m    177\u001b[0m \u001b[0;34m\u001b[0m\u001b[0m\n",
          "\u001b[0;32m~/anaconda3/lib/python3.9/site-packages/bokeh/util/options.py\u001b[0m in \u001b[0;36m__init__\u001b[0;34m(self, kw)\u001b[0m\n\u001b[1;32m     73\u001b[0m                 \u001b[0mprops\u001b[0m\u001b[0;34m[\u001b[0m\u001b[0mk\u001b[0m\u001b[0;34m]\u001b[0m \u001b[0;34m=\u001b[0m \u001b[0mkw\u001b[0m\u001b[0;34m.\u001b[0m\u001b[0mpop\u001b[0m\u001b[0;34m(\u001b[0m\u001b[0mk\u001b[0m\u001b[0;34m)\u001b[0m\u001b[0;34m\u001b[0m\u001b[0;34m\u001b[0m\u001b[0m\n\u001b[1;32m     74\u001b[0m \u001b[0;34m\u001b[0m\u001b[0m\n\u001b[0;32m---> 75\u001b[0;31m         \u001b[0msuper\u001b[0m\u001b[0;34m(\u001b[0m\u001b[0;34m)\u001b[0m\u001b[0;34m.\u001b[0m\u001b[0m__init__\u001b[0m\u001b[0;34m(\u001b[0m\u001b[0;34m**\u001b[0m\u001b[0mprops\u001b[0m\u001b[0;34m)\u001b[0m\u001b[0;34m\u001b[0m\u001b[0;34m\u001b[0m\u001b[0m\n\u001b[0m\u001b[1;32m     76\u001b[0m \u001b[0;34m\u001b[0m\u001b[0m\n\u001b[1;32m     77\u001b[0m \u001b[0;31m#-----------------------------------------------------------------------------\u001b[0m\u001b[0;34m\u001b[0m\u001b[0;34m\u001b[0m\u001b[0m\n",
          "\u001b[0;32m~/anaconda3/lib/python3.9/site-packages/bokeh/core/has_props.py\u001b[0m in \u001b[0;36m__init__\u001b[0;34m(self, **properties)\u001b[0m\n\u001b[1;32m    204\u001b[0m \u001b[0;34m\u001b[0m\u001b[0m\n\u001b[1;32m    205\u001b[0m         \u001b[0;32mfor\u001b[0m \u001b[0mname\u001b[0m\u001b[0;34m,\u001b[0m \u001b[0mvalue\u001b[0m \u001b[0;32min\u001b[0m \u001b[0mproperties\u001b[0m\u001b[0;34m.\u001b[0m\u001b[0mitems\u001b[0m\u001b[0;34m(\u001b[0m\u001b[0;34m)\u001b[0m\u001b[0;34m:\u001b[0m\u001b[0;34m\u001b[0m\u001b[0;34m\u001b[0m\u001b[0m\n\u001b[0;32m--> 206\u001b[0;31m             \u001b[0msetattr\u001b[0m\u001b[0;34m(\u001b[0m\u001b[0mself\u001b[0m\u001b[0;34m,\u001b[0m \u001b[0mname\u001b[0m\u001b[0;34m,\u001b[0m \u001b[0mvalue\u001b[0m\u001b[0;34m)\u001b[0m\u001b[0;34m\u001b[0m\u001b[0;34m\u001b[0m\u001b[0m\n\u001b[0m\u001b[1;32m    207\u001b[0m \u001b[0;34m\u001b[0m\u001b[0m\n\u001b[1;32m    208\u001b[0m         \u001b[0mself\u001b[0m\u001b[0;34m.\u001b[0m\u001b[0m_initialized\u001b[0m \u001b[0;34m=\u001b[0m \u001b[0;32mTrue\u001b[0m\u001b[0;34m\u001b[0m\u001b[0;34m\u001b[0m\u001b[0m\n",
          "\u001b[0;32m~/anaconda3/lib/python3.9/site-packages/bokeh/core/has_props.py\u001b[0m in \u001b[0;36m__setattr__\u001b[0;34m(self, name, value)\u001b[0m\n\u001b[1;32m    228\u001b[0m         \u001b[0mproperties\u001b[0m \u001b[0;34m=\u001b[0m \u001b[0mself\u001b[0m\u001b[0;34m.\u001b[0m\u001b[0mproperties\u001b[0m\u001b[0;34m(\u001b[0m\u001b[0m_with_props\u001b[0m\u001b[0;34m=\u001b[0m\u001b[0;32mTrue\u001b[0m\u001b[0;34m)\u001b[0m\u001b[0;34m\u001b[0m\u001b[0;34m\u001b[0m\u001b[0m\n\u001b[1;32m    229\u001b[0m         \u001b[0;32mif\u001b[0m \u001b[0mname\u001b[0m \u001b[0;32min\u001b[0m \u001b[0mproperties\u001b[0m\u001b[0;34m:\u001b[0m\u001b[0;34m\u001b[0m\u001b[0;34m\u001b[0m\u001b[0m\n\u001b[0;32m--> 230\u001b[0;31m             \u001b[0;32mreturn\u001b[0m \u001b[0msuper\u001b[0m\u001b[0;34m(\u001b[0m\u001b[0;34m)\u001b[0m\u001b[0;34m.\u001b[0m\u001b[0m__setattr__\u001b[0m\u001b[0;34m(\u001b[0m\u001b[0mname\u001b[0m\u001b[0;34m,\u001b[0m \u001b[0mvalue\u001b[0m\u001b[0;34m)\u001b[0m\u001b[0;34m\u001b[0m\u001b[0;34m\u001b[0m\u001b[0m\n\u001b[0m\u001b[1;32m    231\u001b[0m \u001b[0;34m\u001b[0m\u001b[0m\n\u001b[1;32m    232\u001b[0m         \u001b[0mdescriptor\u001b[0m \u001b[0;34m=\u001b[0m \u001b[0mgetattr\u001b[0m\u001b[0;34m(\u001b[0m\u001b[0mself\u001b[0m\u001b[0;34m.\u001b[0m\u001b[0m__class__\u001b[0m\u001b[0;34m,\u001b[0m \u001b[0mname\u001b[0m\u001b[0;34m,\u001b[0m \u001b[0;32mNone\u001b[0m\u001b[0;34m)\u001b[0m\u001b[0;34m\u001b[0m\u001b[0;34m\u001b[0m\u001b[0m\n",
          "\u001b[0;32m~/anaconda3/lib/python3.9/site-packages/bokeh/core/property/descriptors.py\u001b[0m in \u001b[0;36m__set__\u001b[0;34m(self, obj, value, setter)\u001b[0m\n\u001b[1;32m    281\u001b[0m             \u001b[0;32mraise\u001b[0m \u001b[0mRuntimeError\u001b[0m\u001b[0;34m(\u001b[0m\u001b[0;34mf\"{class_name}.{self.name} is a readonly property\"\u001b[0m\u001b[0;34m)\u001b[0m\u001b[0;34m\u001b[0m\u001b[0;34m\u001b[0m\u001b[0m\n\u001b[1;32m    282\u001b[0m \u001b[0;34m\u001b[0m\u001b[0m\n\u001b[0;32m--> 283\u001b[0;31m         \u001b[0mvalue\u001b[0m \u001b[0;34m=\u001b[0m \u001b[0mself\u001b[0m\u001b[0;34m.\u001b[0m\u001b[0mproperty\u001b[0m\u001b[0;34m.\u001b[0m\u001b[0mprepare_value\u001b[0m\u001b[0;34m(\u001b[0m\u001b[0mobj\u001b[0m\u001b[0;34m,\u001b[0m \u001b[0mself\u001b[0m\u001b[0;34m.\u001b[0m\u001b[0mname\u001b[0m\u001b[0;34m,\u001b[0m \u001b[0mvalue\u001b[0m\u001b[0;34m)\u001b[0m\u001b[0;34m\u001b[0m\u001b[0;34m\u001b[0m\u001b[0m\n\u001b[0m\u001b[1;32m    284\u001b[0m         \u001b[0mold\u001b[0m \u001b[0;34m=\u001b[0m \u001b[0mself\u001b[0m\u001b[0;34m.\u001b[0m\u001b[0m_get\u001b[0m\u001b[0;34m(\u001b[0m\u001b[0mobj\u001b[0m\u001b[0;34m)\u001b[0m\u001b[0;34m\u001b[0m\u001b[0;34m\u001b[0m\u001b[0m\n\u001b[1;32m    285\u001b[0m         \u001b[0mself\u001b[0m\u001b[0;34m.\u001b[0m\u001b[0m_set\u001b[0m\u001b[0;34m(\u001b[0m\u001b[0mobj\u001b[0m\u001b[0;34m,\u001b[0m \u001b[0mold\u001b[0m\u001b[0;34m,\u001b[0m \u001b[0mvalue\u001b[0m\u001b[0;34m,\u001b[0m \u001b[0msetter\u001b[0m\u001b[0;34m=\u001b[0m\u001b[0msetter\u001b[0m\u001b[0;34m)\u001b[0m\u001b[0;34m\u001b[0m\u001b[0;34m\u001b[0m\u001b[0m\n",
          "\u001b[0;32m~/anaconda3/lib/python3.9/site-packages/bokeh/core/property/bases.py\u001b[0m in \u001b[0;36mprepare_value\u001b[0;34m(self, owner, name, value, hint)\u001b[0m\n\u001b[1;32m    363\u001b[0m         \u001b[0;32melse\u001b[0m\u001b[0;34m:\u001b[0m\u001b[0;34m\u001b[0m\u001b[0;34m\u001b[0m\u001b[0m\n\u001b[1;32m    364\u001b[0m             \u001b[0mobj_repr\u001b[0m \u001b[0;34m=\u001b[0m \u001b[0mowner\u001b[0m \u001b[0;32mif\u001b[0m \u001b[0misinstance\u001b[0m\u001b[0;34m(\u001b[0m\u001b[0mowner\u001b[0m\u001b[0;34m,\u001b[0m \u001b[0mHasProps\u001b[0m\u001b[0;34m)\u001b[0m \u001b[0;32melse\u001b[0m \u001b[0mowner\u001b[0m\u001b[0;34m.\u001b[0m\u001b[0m__name__\u001b[0m\u001b[0;34m\u001b[0m\u001b[0;34m\u001b[0m\u001b[0m\n\u001b[0;32m--> 365\u001b[0;31m             \u001b[0;32mraise\u001b[0m \u001b[0mValueError\u001b[0m\u001b[0;34m(\u001b[0m\u001b[0;34mf\"failed to validate {obj_repr}.{name}: {error}\"\u001b[0m\u001b[0;34m)\u001b[0m\u001b[0;34m\u001b[0m\u001b[0;34m\u001b[0m\u001b[0m\n\u001b[0m\u001b[1;32m    366\u001b[0m \u001b[0;34m\u001b[0m\u001b[0m\n\u001b[1;32m    367\u001b[0m         \u001b[0;32mif\u001b[0m \u001b[0misinstance\u001b[0m\u001b[0;34m(\u001b[0m\u001b[0mowner\u001b[0m\u001b[0;34m,\u001b[0m \u001b[0mHasProps\u001b[0m\u001b[0;34m)\u001b[0m\u001b[0;34m:\u001b[0m\u001b[0;34m\u001b[0m\u001b[0;34m\u001b[0m\u001b[0m\n",
          "\u001b[0;31mValueError\u001b[0m: failed to validate FigureOptions(...).tooltips: expected an element of either Null, Instance(Template), String or List(Tuple(String, String)), got [('En ', '@x', ', le prix du gazole était de ', '@y')]"
         ]
        }
       ]
      }
     },
     "8bd83da511764a19b8de1e3b86d304a2": {
      "model_module": "@jupyter-widgets/base",
      "model_module_version": "1.2.0",
      "model_name": "LayoutModel",
      "state": {}
     },
     "8cb5abc9c86c4cbb96d919fe38e727b7": {
      "model_module": "@jupyter-widgets/controls",
      "model_module_version": "1.5.0",
      "model_name": "VBoxModel",
      "state": {
       "_dom_classes": [
        "widget-interact"
       ],
       "children": [
        "IPY_MODEL_fe1d574f931b4754a308b78c042554d7",
        "IPY_MODEL_26a185428942472db99a8945b4c16313"
       ],
       "layout": "IPY_MODEL_4b0ec44730f24bbd9eedd6699ca91620"
      }
     },
     "8cf17a45c00d4804a35f9fb41eccd0a8": {
      "model_module": "@jupyter-widgets/base",
      "model_module_version": "1.2.0",
      "model_name": "LayoutModel",
      "state": {}
     },
     "8d4405167890464782e64483954230d4": {
      "model_module": "@jupyter-widgets/output",
      "model_module_version": "1.0.0",
      "model_name": "OutputModel",
      "state": {
       "layout": "IPY_MODEL_3596c4981b3c419f8d7da40a891403bc",
       "outputs": [
        {
         "data": {
          "text/html": "<div>\n<style scoped>\n    .dataframe tbody tr th:only-of-type {\n        vertical-align: middle;\n    }\n\n    .dataframe tbody tr th {\n        vertical-align: top;\n    }\n\n    .dataframe thead th {\n        text-align: right;\n    }\n</style>\n<table border=\"1\" class=\"dataframe\">\n  <thead>\n    <tr style=\"text-align: right;\">\n      <th></th>\n      <th>Année</th>\n      <th>Période</th>\n      <th>Prix</th>\n    </tr>\n  </thead>\n  <tbody>\n    <tr>\n      <th>0</th>\n      <td>2000</td>\n      <td>Janvier</td>\n      <td>0.81</td>\n    </tr>\n    <tr>\n      <th>1</th>\n      <td>2000</td>\n      <td>Février</td>\n      <td>0.81</td>\n    </tr>\n    <tr>\n      <th>2</th>\n      <td>2000</td>\n      <td>Mars</td>\n      <td>0.82</td>\n    </tr>\n    <tr>\n      <th>3</th>\n      <td>2000</td>\n      <td>Avril</td>\n      <td>0.80</td>\n    </tr>\n    <tr>\n      <th>4</th>\n      <td>2000</td>\n      <td>Mai</td>\n      <td>0.81</td>\n    </tr>\n    <tr>\n      <th>5</th>\n      <td>2000</td>\n      <td>Juin</td>\n      <td>0.82</td>\n    </tr>\n    <tr>\n      <th>6</th>\n      <td>2000</td>\n      <td>Juillet</td>\n      <td>0.83</td>\n    </tr>\n    <tr>\n      <th>7</th>\n      <td>2000</td>\n      <td>Aout</td>\n      <td>0.84</td>\n    </tr>\n    <tr>\n      <th>8</th>\n      <td>2000</td>\n      <td>Septembre</td>\n      <td>0.93</td>\n    </tr>\n    <tr>\n      <th>9</th>\n      <td>2000</td>\n      <td>Octobre</td>\n      <td>0.90</td>\n    </tr>\n    <tr>\n      <th>10</th>\n      <td>2000</td>\n      <td>Novembre</td>\n      <td>0.91</td>\n    </tr>\n    <tr>\n      <th>11</th>\n      <td>2000</td>\n      <td>Decembre</td>\n      <td>0.89</td>\n    </tr>\n  </tbody>\n</table>\n</div>",
          "text/plain": "   Année    Période  Prix\n0   2000    Janvier  0.81\n1   2000    Février  0.81\n2   2000       Mars  0.82\n3   2000      Avril  0.80\n4   2000        Mai  0.81\n5   2000       Juin  0.82\n6   2000    Juillet  0.83\n7   2000       Aout  0.84\n8   2000  Septembre  0.93\n9   2000    Octobre  0.90\n10  2000   Novembre  0.91\n11  2000   Decembre  0.89"
         },
         "metadata": {},
         "output_type": "display_data"
        }
       ]
      }
     },
     "8d8b2c7928f8403db6a5f4d27f42ec2c": {
      "model_module": "@jupyter-widgets/controls",
      "model_module_version": "1.5.0",
      "model_name": "DescriptionStyleModel",
      "state": {
       "description_width": ""
      }
     },
     "8ea2024541f04f46a101f95cbac9ea1a": {
      "model_module": "@jupyter-widgets/controls",
      "model_module_version": "1.5.0",
      "model_name": "DescriptionStyleModel",
      "state": {
       "description_width": ""
      }
     },
     "8f0e451b88814423ae8fd247f0d09f1e": {
      "model_module": "@jupyter-widgets/output",
      "model_module_version": "1.0.0",
      "model_name": "OutputModel",
      "state": {
       "layout": "IPY_MODEL_885865118b904d20a1bebbd77cd69857",
       "outputs": [
        {
         "ename": "ValueError",
         "evalue": "failed to validate FigureOptions(...).tooltips: expected an element of either Null, Instance(Template), String or List(Tuple(String, String)), got ['En @x  , le prix du gazole était de @y']",
         "output_type": "error",
         "traceback": [
          "\u001b[0;31m---------------------------------------------------------------------------\u001b[0m",
          "\u001b[0;31mValueError\u001b[0m                                Traceback (most recent call last)",
          "\u001b[0;32m~/anaconda3/lib/python3.9/site-packages/ipywidgets/widgets/interaction.py\u001b[0m in \u001b[0;36mupdate\u001b[0;34m(self, *args)\u001b[0m\n\u001b[1;32m    255\u001b[0m                     \u001b[0mvalue\u001b[0m \u001b[0;34m=\u001b[0m \u001b[0mwidget\u001b[0m\u001b[0;34m.\u001b[0m\u001b[0mget_interact_value\u001b[0m\u001b[0;34m(\u001b[0m\u001b[0;34m)\u001b[0m\u001b[0;34m\u001b[0m\u001b[0;34m\u001b[0m\u001b[0m\n\u001b[1;32m    256\u001b[0m                     \u001b[0mself\u001b[0m\u001b[0;34m.\u001b[0m\u001b[0mkwargs\u001b[0m\u001b[0;34m[\u001b[0m\u001b[0mwidget\u001b[0m\u001b[0;34m.\u001b[0m\u001b[0m_kwarg\u001b[0m\u001b[0;34m]\u001b[0m \u001b[0;34m=\u001b[0m \u001b[0mvalue\u001b[0m\u001b[0;34m\u001b[0m\u001b[0;34m\u001b[0m\u001b[0m\n\u001b[0;32m--> 257\u001b[0;31m                 \u001b[0mself\u001b[0m\u001b[0;34m.\u001b[0m\u001b[0mresult\u001b[0m \u001b[0;34m=\u001b[0m \u001b[0mself\u001b[0m\u001b[0;34m.\u001b[0m\u001b[0mf\u001b[0m\u001b[0;34m(\u001b[0m\u001b[0;34m**\u001b[0m\u001b[0mself\u001b[0m\u001b[0;34m.\u001b[0m\u001b[0mkwargs\u001b[0m\u001b[0;34m)\u001b[0m\u001b[0;34m\u001b[0m\u001b[0;34m\u001b[0m\u001b[0m\n\u001b[0m\u001b[1;32m    258\u001b[0m                 \u001b[0mshow_inline_matplotlib_plots\u001b[0m\u001b[0;34m(\u001b[0m\u001b[0;34m)\u001b[0m\u001b[0;34m\u001b[0m\u001b[0;34m\u001b[0m\u001b[0m\n\u001b[1;32m    259\u001b[0m                 \u001b[0;32mif\u001b[0m \u001b[0mself\u001b[0m\u001b[0;34m.\u001b[0m\u001b[0mauto_display\u001b[0m \u001b[0;32mand\u001b[0m \u001b[0mself\u001b[0m\u001b[0;34m.\u001b[0m\u001b[0mresult\u001b[0m \u001b[0;32mis\u001b[0m \u001b[0;32mnot\u001b[0m \u001b[0;32mNone\u001b[0m\u001b[0;34m:\u001b[0m\u001b[0;34m\u001b[0m\u001b[0;34m\u001b[0m\u001b[0m\n",
          "\u001b[0;32m/tmp/ipykernel_24999/170357897.py\u001b[0m in \u001b[0;36maff_per_year\u001b[0;34m(Choisi)\u001b[0m\n\u001b[1;32m     50\u001b[0m \u001b[0;34m\u001b[0m\u001b[0m\n\u001b[1;32m     51\u001b[0m         \u001b[0;31m#   Je crée ensuite le graph avec bokeh qui sera display\u001b[0m\u001b[0;34m\u001b[0m\u001b[0;34m\u001b[0m\u001b[0m\n\u001b[0;32m---> 52\u001b[0;31m         graph_per_year = figure(\n\u001b[0m\u001b[1;32m     53\u001b[0m                   \u001b[0mtitle\u001b[0m\u001b[0;34m=\u001b[0m\u001b[0;34mf\"Evolution du prix du Gazole sur l'année {Choisi}\"\u001b[0m\u001b[0;34m,\u001b[0m\u001b[0;34m\u001b[0m\u001b[0;34m\u001b[0m\u001b[0m\n\u001b[1;32m     54\u001b[0m                   \u001b[0mx_range\u001b[0m \u001b[0;34m=\u001b[0m \u001b[0mz\u001b[0m\u001b[0;34m[\u001b[0m\u001b[0;34m\"Période\"\u001b[0m\u001b[0;34m]\u001b[0m\u001b[0;34m,\u001b[0m\u001b[0;34m\u001b[0m\u001b[0;34m\u001b[0m\u001b[0m\n",
          "\u001b[0;32m~/anaconda3/lib/python3.9/site-packages/bokeh/plotting/figure.py\u001b[0m in \u001b[0;36mfigure\u001b[0;34m(**kwargs)\u001b[0m\n\u001b[1;32m    663\u001b[0m \u001b[0;34m\u001b[0m\u001b[0m\n\u001b[1;32m    664\u001b[0m     '''\n\u001b[0;32m--> 665\u001b[0;31m     \u001b[0;32mreturn\u001b[0m \u001b[0mFigure\u001b[0m\u001b[0;34m(\u001b[0m\u001b[0;34m**\u001b[0m\u001b[0mkwargs\u001b[0m\u001b[0;34m)\u001b[0m\u001b[0;34m\u001b[0m\u001b[0;34m\u001b[0m\u001b[0m\n\u001b[0m\u001b[1;32m    666\u001b[0m \u001b[0;34m\u001b[0m\u001b[0m\n\u001b[1;32m    667\u001b[0m \u001b[0;32mdef\u001b[0m \u001b[0mmarkers\u001b[0m\u001b[0;34m(\u001b[0m\u001b[0;34m)\u001b[0m\u001b[0;34m:\u001b[0m\u001b[0;34m\u001b[0m\u001b[0;34m\u001b[0m\u001b[0m\n",
          "\u001b[0;32m~/anaconda3/lib/python3.9/site-packages/bokeh/plotting/figure.py\u001b[0m in \u001b[0;36m__init__\u001b[0;34m(self, *arg, **kw)\u001b[0m\n\u001b[1;32m    173\u001b[0m \u001b[0;34m\u001b[0m\u001b[0m\n\u001b[1;32m    174\u001b[0m     \u001b[0;32mdef\u001b[0m \u001b[0m__init__\u001b[0m\u001b[0;34m(\u001b[0m\u001b[0mself\u001b[0m\u001b[0;34m,\u001b[0m \u001b[0;34m*\u001b[0m\u001b[0marg\u001b[0m\u001b[0;34m,\u001b[0m \u001b[0;34m**\u001b[0m\u001b[0mkw\u001b[0m\u001b[0;34m)\u001b[0m \u001b[0;34m->\u001b[0m \u001b[0;32mNone\u001b[0m\u001b[0;34m:\u001b[0m\u001b[0;34m\u001b[0m\u001b[0;34m\u001b[0m\u001b[0m\n\u001b[0;32m--> 175\u001b[0;31m         \u001b[0mopts\u001b[0m \u001b[0;34m=\u001b[0m \u001b[0mFigureOptions\u001b[0m\u001b[0;34m(\u001b[0m\u001b[0mkw\u001b[0m\u001b[0;34m)\u001b[0m\u001b[0;34m\u001b[0m\u001b[0;34m\u001b[0m\u001b[0m\n\u001b[0m\u001b[1;32m    176\u001b[0m         \u001b[0msuper\u001b[0m\u001b[0;34m(\u001b[0m\u001b[0;34m)\u001b[0m\u001b[0;34m.\u001b[0m\u001b[0m__init__\u001b[0m\u001b[0;34m(\u001b[0m\u001b[0;34m*\u001b[0m\u001b[0marg\u001b[0m\u001b[0;34m,\u001b[0m \u001b[0;34m**\u001b[0m\u001b[0mkw\u001b[0m\u001b[0;34m)\u001b[0m\u001b[0;34m\u001b[0m\u001b[0;34m\u001b[0m\u001b[0m\n\u001b[1;32m    177\u001b[0m \u001b[0;34m\u001b[0m\u001b[0m\n",
          "\u001b[0;32m~/anaconda3/lib/python3.9/site-packages/bokeh/util/options.py\u001b[0m in \u001b[0;36m__init__\u001b[0;34m(self, kw)\u001b[0m\n\u001b[1;32m     73\u001b[0m                 \u001b[0mprops\u001b[0m\u001b[0;34m[\u001b[0m\u001b[0mk\u001b[0m\u001b[0;34m]\u001b[0m \u001b[0;34m=\u001b[0m \u001b[0mkw\u001b[0m\u001b[0;34m.\u001b[0m\u001b[0mpop\u001b[0m\u001b[0;34m(\u001b[0m\u001b[0mk\u001b[0m\u001b[0;34m)\u001b[0m\u001b[0;34m\u001b[0m\u001b[0;34m\u001b[0m\u001b[0m\n\u001b[1;32m     74\u001b[0m \u001b[0;34m\u001b[0m\u001b[0m\n\u001b[0;32m---> 75\u001b[0;31m         \u001b[0msuper\u001b[0m\u001b[0;34m(\u001b[0m\u001b[0;34m)\u001b[0m\u001b[0;34m.\u001b[0m\u001b[0m__init__\u001b[0m\u001b[0;34m(\u001b[0m\u001b[0;34m**\u001b[0m\u001b[0mprops\u001b[0m\u001b[0;34m)\u001b[0m\u001b[0;34m\u001b[0m\u001b[0;34m\u001b[0m\u001b[0m\n\u001b[0m\u001b[1;32m     76\u001b[0m \u001b[0;34m\u001b[0m\u001b[0m\n\u001b[1;32m     77\u001b[0m \u001b[0;31m#-----------------------------------------------------------------------------\u001b[0m\u001b[0;34m\u001b[0m\u001b[0;34m\u001b[0m\u001b[0m\n",
          "\u001b[0;32m~/anaconda3/lib/python3.9/site-packages/bokeh/core/has_props.py\u001b[0m in \u001b[0;36m__init__\u001b[0;34m(self, **properties)\u001b[0m\n\u001b[1;32m    204\u001b[0m \u001b[0;34m\u001b[0m\u001b[0m\n\u001b[1;32m    205\u001b[0m         \u001b[0;32mfor\u001b[0m \u001b[0mname\u001b[0m\u001b[0;34m,\u001b[0m \u001b[0mvalue\u001b[0m \u001b[0;32min\u001b[0m \u001b[0mproperties\u001b[0m\u001b[0;34m.\u001b[0m\u001b[0mitems\u001b[0m\u001b[0;34m(\u001b[0m\u001b[0;34m)\u001b[0m\u001b[0;34m:\u001b[0m\u001b[0;34m\u001b[0m\u001b[0;34m\u001b[0m\u001b[0m\n\u001b[0;32m--> 206\u001b[0;31m             \u001b[0msetattr\u001b[0m\u001b[0;34m(\u001b[0m\u001b[0mself\u001b[0m\u001b[0;34m,\u001b[0m \u001b[0mname\u001b[0m\u001b[0;34m,\u001b[0m \u001b[0mvalue\u001b[0m\u001b[0;34m)\u001b[0m\u001b[0;34m\u001b[0m\u001b[0;34m\u001b[0m\u001b[0m\n\u001b[0m\u001b[1;32m    207\u001b[0m \u001b[0;34m\u001b[0m\u001b[0m\n\u001b[1;32m    208\u001b[0m         \u001b[0mself\u001b[0m\u001b[0;34m.\u001b[0m\u001b[0m_initialized\u001b[0m \u001b[0;34m=\u001b[0m \u001b[0;32mTrue\u001b[0m\u001b[0;34m\u001b[0m\u001b[0;34m\u001b[0m\u001b[0m\n",
          "\u001b[0;32m~/anaconda3/lib/python3.9/site-packages/bokeh/core/has_props.py\u001b[0m in \u001b[0;36m__setattr__\u001b[0;34m(self, name, value)\u001b[0m\n\u001b[1;32m    228\u001b[0m         \u001b[0mproperties\u001b[0m \u001b[0;34m=\u001b[0m \u001b[0mself\u001b[0m\u001b[0;34m.\u001b[0m\u001b[0mproperties\u001b[0m\u001b[0;34m(\u001b[0m\u001b[0m_with_props\u001b[0m\u001b[0;34m=\u001b[0m\u001b[0;32mTrue\u001b[0m\u001b[0;34m)\u001b[0m\u001b[0;34m\u001b[0m\u001b[0;34m\u001b[0m\u001b[0m\n\u001b[1;32m    229\u001b[0m         \u001b[0;32mif\u001b[0m \u001b[0mname\u001b[0m \u001b[0;32min\u001b[0m \u001b[0mproperties\u001b[0m\u001b[0;34m:\u001b[0m\u001b[0;34m\u001b[0m\u001b[0;34m\u001b[0m\u001b[0m\n\u001b[0;32m--> 230\u001b[0;31m             \u001b[0;32mreturn\u001b[0m \u001b[0msuper\u001b[0m\u001b[0;34m(\u001b[0m\u001b[0;34m)\u001b[0m\u001b[0;34m.\u001b[0m\u001b[0m__setattr__\u001b[0m\u001b[0;34m(\u001b[0m\u001b[0mname\u001b[0m\u001b[0;34m,\u001b[0m \u001b[0mvalue\u001b[0m\u001b[0;34m)\u001b[0m\u001b[0;34m\u001b[0m\u001b[0;34m\u001b[0m\u001b[0m\n\u001b[0m\u001b[1;32m    231\u001b[0m \u001b[0;34m\u001b[0m\u001b[0m\n\u001b[1;32m    232\u001b[0m         \u001b[0mdescriptor\u001b[0m \u001b[0;34m=\u001b[0m \u001b[0mgetattr\u001b[0m\u001b[0;34m(\u001b[0m\u001b[0mself\u001b[0m\u001b[0;34m.\u001b[0m\u001b[0m__class__\u001b[0m\u001b[0;34m,\u001b[0m \u001b[0mname\u001b[0m\u001b[0;34m,\u001b[0m \u001b[0;32mNone\u001b[0m\u001b[0;34m)\u001b[0m\u001b[0;34m\u001b[0m\u001b[0;34m\u001b[0m\u001b[0m\n",
          "\u001b[0;32m~/anaconda3/lib/python3.9/site-packages/bokeh/core/property/descriptors.py\u001b[0m in \u001b[0;36m__set__\u001b[0;34m(self, obj, value, setter)\u001b[0m\n\u001b[1;32m    281\u001b[0m             \u001b[0;32mraise\u001b[0m \u001b[0mRuntimeError\u001b[0m\u001b[0;34m(\u001b[0m\u001b[0;34mf\"{class_name}.{self.name} is a readonly property\"\u001b[0m\u001b[0;34m)\u001b[0m\u001b[0;34m\u001b[0m\u001b[0;34m\u001b[0m\u001b[0m\n\u001b[1;32m    282\u001b[0m \u001b[0;34m\u001b[0m\u001b[0m\n\u001b[0;32m--> 283\u001b[0;31m         \u001b[0mvalue\u001b[0m \u001b[0;34m=\u001b[0m \u001b[0mself\u001b[0m\u001b[0;34m.\u001b[0m\u001b[0mproperty\u001b[0m\u001b[0;34m.\u001b[0m\u001b[0mprepare_value\u001b[0m\u001b[0;34m(\u001b[0m\u001b[0mobj\u001b[0m\u001b[0;34m,\u001b[0m \u001b[0mself\u001b[0m\u001b[0;34m.\u001b[0m\u001b[0mname\u001b[0m\u001b[0;34m,\u001b[0m \u001b[0mvalue\u001b[0m\u001b[0;34m)\u001b[0m\u001b[0;34m\u001b[0m\u001b[0;34m\u001b[0m\u001b[0m\n\u001b[0m\u001b[1;32m    284\u001b[0m         \u001b[0mold\u001b[0m \u001b[0;34m=\u001b[0m \u001b[0mself\u001b[0m\u001b[0;34m.\u001b[0m\u001b[0m_get\u001b[0m\u001b[0;34m(\u001b[0m\u001b[0mobj\u001b[0m\u001b[0;34m)\u001b[0m\u001b[0;34m\u001b[0m\u001b[0;34m\u001b[0m\u001b[0m\n\u001b[1;32m    285\u001b[0m         \u001b[0mself\u001b[0m\u001b[0;34m.\u001b[0m\u001b[0m_set\u001b[0m\u001b[0;34m(\u001b[0m\u001b[0mobj\u001b[0m\u001b[0;34m,\u001b[0m \u001b[0mold\u001b[0m\u001b[0;34m,\u001b[0m \u001b[0mvalue\u001b[0m\u001b[0;34m,\u001b[0m \u001b[0msetter\u001b[0m\u001b[0;34m=\u001b[0m\u001b[0msetter\u001b[0m\u001b[0;34m)\u001b[0m\u001b[0;34m\u001b[0m\u001b[0;34m\u001b[0m\u001b[0m\n",
          "\u001b[0;32m~/anaconda3/lib/python3.9/site-packages/bokeh/core/property/bases.py\u001b[0m in \u001b[0;36mprepare_value\u001b[0;34m(self, owner, name, value, hint)\u001b[0m\n\u001b[1;32m    363\u001b[0m         \u001b[0;32melse\u001b[0m\u001b[0;34m:\u001b[0m\u001b[0;34m\u001b[0m\u001b[0;34m\u001b[0m\u001b[0m\n\u001b[1;32m    364\u001b[0m             \u001b[0mobj_repr\u001b[0m \u001b[0;34m=\u001b[0m \u001b[0mowner\u001b[0m \u001b[0;32mif\u001b[0m \u001b[0misinstance\u001b[0m\u001b[0;34m(\u001b[0m\u001b[0mowner\u001b[0m\u001b[0;34m,\u001b[0m \u001b[0mHasProps\u001b[0m\u001b[0;34m)\u001b[0m \u001b[0;32melse\u001b[0m \u001b[0mowner\u001b[0m\u001b[0;34m.\u001b[0m\u001b[0m__name__\u001b[0m\u001b[0;34m\u001b[0m\u001b[0;34m\u001b[0m\u001b[0m\n\u001b[0;32m--> 365\u001b[0;31m             \u001b[0;32mraise\u001b[0m \u001b[0mValueError\u001b[0m\u001b[0;34m(\u001b[0m\u001b[0;34mf\"failed to validate {obj_repr}.{name}: {error}\"\u001b[0m\u001b[0;34m)\u001b[0m\u001b[0;34m\u001b[0m\u001b[0;34m\u001b[0m\u001b[0m\n\u001b[0m\u001b[1;32m    366\u001b[0m \u001b[0;34m\u001b[0m\u001b[0m\n\u001b[1;32m    367\u001b[0m         \u001b[0;32mif\u001b[0m \u001b[0misinstance\u001b[0m\u001b[0;34m(\u001b[0m\u001b[0mowner\u001b[0m\u001b[0;34m,\u001b[0m \u001b[0mHasProps\u001b[0m\u001b[0;34m)\u001b[0m\u001b[0;34m:\u001b[0m\u001b[0;34m\u001b[0m\u001b[0;34m\u001b[0m\u001b[0m\n",
          "\u001b[0;31mValueError\u001b[0m: failed to validate FigureOptions(...).tooltips: expected an element of either Null, Instance(Template), String or List(Tuple(String, String)), got ['En @x  , le prix du gazole était de @y']"
         ]
        }
       ]
      }
     },
     "902c31602b6e4400ba927b2b6a147223": {
      "model_module": "@jupyter-widgets/controls",
      "model_module_version": "1.5.0",
      "model_name": "DropdownModel",
      "state": {
       "_options_labels": [
        "Graph",
        "1992",
        "1993",
        "1994",
        "1995",
        "1996",
        "1997",
        "1998",
        "1999",
        "2000",
        "2001",
        "2002",
        "2003",
        "2004",
        "2005",
        "2006",
        "2007",
        "2008",
        "2009",
        "2010",
        "2011",
        "2012",
        "2013",
        "2014",
        "2015",
        "2016",
        "2017",
        "2018",
        "2019",
        "2020",
        "2021",
        "2022"
       ],
       "description": "Choisi",
       "index": 4,
       "layout": "IPY_MODEL_c4d3840d09a34c66b82e01cf3b8720ef",
       "style": "IPY_MODEL_db51e14c8cb74280bc9d6e514bd007d5"
      }
     },
     "90b806754da9436d97ddb7778e48ed9f": {
      "model_module": "@jupyter-widgets/controls",
      "model_module_version": "1.5.0",
      "model_name": "DescriptionStyleModel",
      "state": {
       "description_width": ""
      }
     },
     "913188759499412aa057880ceebdf27a": {
      "model_module": "@jupyter-widgets/controls",
      "model_module_version": "1.5.0",
      "model_name": "VBoxModel",
      "state": {
       "_dom_classes": [
        "widget-interact"
       ],
       "children": [
        "IPY_MODEL_4b8beb476ecf4aa697973ed0e90a2252",
        "IPY_MODEL_f1c64c11374d4bf782390a4fddc7e94d"
       ],
       "layout": "IPY_MODEL_997625a820934dcda296d919ab023651"
      }
     },
     "916fdfcb9d8e4759bc3e4c9ca371c067": {
      "model_module": "@jupyter-widgets/controls",
      "model_module_version": "1.5.0",
      "model_name": "VBoxModel",
      "state": {
       "_dom_classes": [
        "widget-interact"
       ],
       "children": [
        "IPY_MODEL_398cedf5ddb94aaca4bb544f7edd40d0",
        "IPY_MODEL_682f0b4f292a4ca28eee4e7baa82ee9d"
       ],
       "layout": "IPY_MODEL_96bd1aa4c7794544a23cfa77241fe6aa"
      }
     },
     "930ede0976714e39a9305997616c4860": {
      "model_module": "@jupyter-widgets/controls",
      "model_module_version": "1.5.0",
      "model_name": "VBoxModel",
      "state": {
       "_dom_classes": [
        "widget-interact"
       ],
       "children": [
        "IPY_MODEL_a7870ecc92704978a97180cdf8771a87",
        "IPY_MODEL_2d2a8f5fc69e4e00b58cfe40ce51a108"
       ],
       "layout": "IPY_MODEL_265ea8098afa48b2b46cb5e17558c5e3"
      }
     },
     "958b64f80067433c8f04a93b9ad4606e": {
      "model_module": "@jupyter-widgets/output",
      "model_module_version": "1.0.0",
      "model_name": "OutputModel",
      "state": {
       "layout": "IPY_MODEL_4097d2c95c5a44759f557e5d13a9b488",
       "outputs": [
        {
         "ename": "ValueError",
         "evalue": "failed to validate FigureOptions(...).tooltips: expected an element of either Null, Instance(Template), String or List(Tuple(String, String)), got ['En @x @Choisi, le prix du gazole était de @y']",
         "output_type": "error",
         "traceback": [
          "\u001b[0;31m---------------------------------------------------------------------------\u001b[0m",
          "\u001b[0;31mValueError\u001b[0m                                Traceback (most recent call last)",
          "\u001b[0;32m~/anaconda3/lib/python3.9/site-packages/ipywidgets/widgets/interaction.py\u001b[0m in \u001b[0;36mupdate\u001b[0;34m(self, *args)\u001b[0m\n\u001b[1;32m    255\u001b[0m                     \u001b[0mvalue\u001b[0m \u001b[0;34m=\u001b[0m \u001b[0mwidget\u001b[0m\u001b[0;34m.\u001b[0m\u001b[0mget_interact_value\u001b[0m\u001b[0;34m(\u001b[0m\u001b[0;34m)\u001b[0m\u001b[0;34m\u001b[0m\u001b[0;34m\u001b[0m\u001b[0m\n\u001b[1;32m    256\u001b[0m                     \u001b[0mself\u001b[0m\u001b[0;34m.\u001b[0m\u001b[0mkwargs\u001b[0m\u001b[0;34m[\u001b[0m\u001b[0mwidget\u001b[0m\u001b[0;34m.\u001b[0m\u001b[0m_kwarg\u001b[0m\u001b[0;34m]\u001b[0m \u001b[0;34m=\u001b[0m \u001b[0mvalue\u001b[0m\u001b[0;34m\u001b[0m\u001b[0;34m\u001b[0m\u001b[0m\n\u001b[0;32m--> 257\u001b[0;31m                 \u001b[0mself\u001b[0m\u001b[0;34m.\u001b[0m\u001b[0mresult\u001b[0m \u001b[0;34m=\u001b[0m \u001b[0mself\u001b[0m\u001b[0;34m.\u001b[0m\u001b[0mf\u001b[0m\u001b[0;34m(\u001b[0m\u001b[0;34m**\u001b[0m\u001b[0mself\u001b[0m\u001b[0;34m.\u001b[0m\u001b[0mkwargs\u001b[0m\u001b[0;34m)\u001b[0m\u001b[0;34m\u001b[0m\u001b[0;34m\u001b[0m\u001b[0m\n\u001b[0m\u001b[1;32m    258\u001b[0m                 \u001b[0mshow_inline_matplotlib_plots\u001b[0m\u001b[0;34m(\u001b[0m\u001b[0;34m)\u001b[0m\u001b[0;34m\u001b[0m\u001b[0;34m\u001b[0m\u001b[0m\n\u001b[1;32m    259\u001b[0m                 \u001b[0;32mif\u001b[0m \u001b[0mself\u001b[0m\u001b[0;34m.\u001b[0m\u001b[0mauto_display\u001b[0m \u001b[0;32mand\u001b[0m \u001b[0mself\u001b[0m\u001b[0;34m.\u001b[0m\u001b[0mresult\u001b[0m \u001b[0;32mis\u001b[0m \u001b[0;32mnot\u001b[0m \u001b[0;32mNone\u001b[0m\u001b[0;34m:\u001b[0m\u001b[0;34m\u001b[0m\u001b[0;34m\u001b[0m\u001b[0m\n",
          "\u001b[0;32m/tmp/ipykernel_24999/1105776616.py\u001b[0m in \u001b[0;36maff_per_year\u001b[0;34m(Choisi)\u001b[0m\n\u001b[1;32m     50\u001b[0m \u001b[0;34m\u001b[0m\u001b[0m\n\u001b[1;32m     51\u001b[0m         \u001b[0;31m#   Je crée ensuite le graph avec bokeh qui sera display\u001b[0m\u001b[0;34m\u001b[0m\u001b[0;34m\u001b[0m\u001b[0m\n\u001b[0;32m---> 52\u001b[0;31m         graph_per_year = figure(\n\u001b[0m\u001b[1;32m     53\u001b[0m                   \u001b[0mtitle\u001b[0m\u001b[0;34m=\u001b[0m\u001b[0;34mf\"Evolution du prix du Gazole sur l'année {Choisi}\"\u001b[0m\u001b[0;34m,\u001b[0m\u001b[0;34m\u001b[0m\u001b[0;34m\u001b[0m\u001b[0m\n\u001b[1;32m     54\u001b[0m                   \u001b[0mx_range\u001b[0m \u001b[0;34m=\u001b[0m \u001b[0mz\u001b[0m\u001b[0;34m[\u001b[0m\u001b[0;34m\"Période\"\u001b[0m\u001b[0;34m]\u001b[0m\u001b[0;34m,\u001b[0m\u001b[0;34m\u001b[0m\u001b[0;34m\u001b[0m\u001b[0m\n",
          "\u001b[0;32m~/anaconda3/lib/python3.9/site-packages/bokeh/plotting/figure.py\u001b[0m in \u001b[0;36mfigure\u001b[0;34m(**kwargs)\u001b[0m\n\u001b[1;32m    663\u001b[0m \u001b[0;34m\u001b[0m\u001b[0m\n\u001b[1;32m    664\u001b[0m     '''\n\u001b[0;32m--> 665\u001b[0;31m     \u001b[0;32mreturn\u001b[0m \u001b[0mFigure\u001b[0m\u001b[0;34m(\u001b[0m\u001b[0;34m**\u001b[0m\u001b[0mkwargs\u001b[0m\u001b[0;34m)\u001b[0m\u001b[0;34m\u001b[0m\u001b[0;34m\u001b[0m\u001b[0m\n\u001b[0m\u001b[1;32m    666\u001b[0m \u001b[0;34m\u001b[0m\u001b[0m\n\u001b[1;32m    667\u001b[0m \u001b[0;32mdef\u001b[0m \u001b[0mmarkers\u001b[0m\u001b[0;34m(\u001b[0m\u001b[0;34m)\u001b[0m\u001b[0;34m:\u001b[0m\u001b[0;34m\u001b[0m\u001b[0;34m\u001b[0m\u001b[0m\n",
          "\u001b[0;32m~/anaconda3/lib/python3.9/site-packages/bokeh/plotting/figure.py\u001b[0m in \u001b[0;36m__init__\u001b[0;34m(self, *arg, **kw)\u001b[0m\n\u001b[1;32m    173\u001b[0m \u001b[0;34m\u001b[0m\u001b[0m\n\u001b[1;32m    174\u001b[0m     \u001b[0;32mdef\u001b[0m \u001b[0m__init__\u001b[0m\u001b[0;34m(\u001b[0m\u001b[0mself\u001b[0m\u001b[0;34m,\u001b[0m \u001b[0;34m*\u001b[0m\u001b[0marg\u001b[0m\u001b[0;34m,\u001b[0m \u001b[0;34m**\u001b[0m\u001b[0mkw\u001b[0m\u001b[0;34m)\u001b[0m \u001b[0;34m->\u001b[0m \u001b[0;32mNone\u001b[0m\u001b[0;34m:\u001b[0m\u001b[0;34m\u001b[0m\u001b[0;34m\u001b[0m\u001b[0m\n\u001b[0;32m--> 175\u001b[0;31m         \u001b[0mopts\u001b[0m \u001b[0;34m=\u001b[0m \u001b[0mFigureOptions\u001b[0m\u001b[0;34m(\u001b[0m\u001b[0mkw\u001b[0m\u001b[0;34m)\u001b[0m\u001b[0;34m\u001b[0m\u001b[0;34m\u001b[0m\u001b[0m\n\u001b[0m\u001b[1;32m    176\u001b[0m         \u001b[0msuper\u001b[0m\u001b[0;34m(\u001b[0m\u001b[0;34m)\u001b[0m\u001b[0;34m.\u001b[0m\u001b[0m__init__\u001b[0m\u001b[0;34m(\u001b[0m\u001b[0;34m*\u001b[0m\u001b[0marg\u001b[0m\u001b[0;34m,\u001b[0m \u001b[0;34m**\u001b[0m\u001b[0mkw\u001b[0m\u001b[0;34m)\u001b[0m\u001b[0;34m\u001b[0m\u001b[0;34m\u001b[0m\u001b[0m\n\u001b[1;32m    177\u001b[0m \u001b[0;34m\u001b[0m\u001b[0m\n",
          "\u001b[0;32m~/anaconda3/lib/python3.9/site-packages/bokeh/util/options.py\u001b[0m in \u001b[0;36m__init__\u001b[0;34m(self, kw)\u001b[0m\n\u001b[1;32m     73\u001b[0m                 \u001b[0mprops\u001b[0m\u001b[0;34m[\u001b[0m\u001b[0mk\u001b[0m\u001b[0;34m]\u001b[0m \u001b[0;34m=\u001b[0m \u001b[0mkw\u001b[0m\u001b[0;34m.\u001b[0m\u001b[0mpop\u001b[0m\u001b[0;34m(\u001b[0m\u001b[0mk\u001b[0m\u001b[0;34m)\u001b[0m\u001b[0;34m\u001b[0m\u001b[0;34m\u001b[0m\u001b[0m\n\u001b[1;32m     74\u001b[0m \u001b[0;34m\u001b[0m\u001b[0m\n\u001b[0;32m---> 75\u001b[0;31m         \u001b[0msuper\u001b[0m\u001b[0;34m(\u001b[0m\u001b[0;34m)\u001b[0m\u001b[0;34m.\u001b[0m\u001b[0m__init__\u001b[0m\u001b[0;34m(\u001b[0m\u001b[0;34m**\u001b[0m\u001b[0mprops\u001b[0m\u001b[0;34m)\u001b[0m\u001b[0;34m\u001b[0m\u001b[0;34m\u001b[0m\u001b[0m\n\u001b[0m\u001b[1;32m     76\u001b[0m \u001b[0;34m\u001b[0m\u001b[0m\n\u001b[1;32m     77\u001b[0m \u001b[0;31m#-----------------------------------------------------------------------------\u001b[0m\u001b[0;34m\u001b[0m\u001b[0;34m\u001b[0m\u001b[0m\n",
          "\u001b[0;32m~/anaconda3/lib/python3.9/site-packages/bokeh/core/has_props.py\u001b[0m in \u001b[0;36m__init__\u001b[0;34m(self, **properties)\u001b[0m\n\u001b[1;32m    204\u001b[0m \u001b[0;34m\u001b[0m\u001b[0m\n\u001b[1;32m    205\u001b[0m         \u001b[0;32mfor\u001b[0m \u001b[0mname\u001b[0m\u001b[0;34m,\u001b[0m \u001b[0mvalue\u001b[0m \u001b[0;32min\u001b[0m \u001b[0mproperties\u001b[0m\u001b[0;34m.\u001b[0m\u001b[0mitems\u001b[0m\u001b[0;34m(\u001b[0m\u001b[0;34m)\u001b[0m\u001b[0;34m:\u001b[0m\u001b[0;34m\u001b[0m\u001b[0;34m\u001b[0m\u001b[0m\n\u001b[0;32m--> 206\u001b[0;31m             \u001b[0msetattr\u001b[0m\u001b[0;34m(\u001b[0m\u001b[0mself\u001b[0m\u001b[0;34m,\u001b[0m \u001b[0mname\u001b[0m\u001b[0;34m,\u001b[0m \u001b[0mvalue\u001b[0m\u001b[0;34m)\u001b[0m\u001b[0;34m\u001b[0m\u001b[0;34m\u001b[0m\u001b[0m\n\u001b[0m\u001b[1;32m    207\u001b[0m \u001b[0;34m\u001b[0m\u001b[0m\n\u001b[1;32m    208\u001b[0m         \u001b[0mself\u001b[0m\u001b[0;34m.\u001b[0m\u001b[0m_initialized\u001b[0m \u001b[0;34m=\u001b[0m \u001b[0;32mTrue\u001b[0m\u001b[0;34m\u001b[0m\u001b[0;34m\u001b[0m\u001b[0m\n",
          "\u001b[0;32m~/anaconda3/lib/python3.9/site-packages/bokeh/core/has_props.py\u001b[0m in \u001b[0;36m__setattr__\u001b[0;34m(self, name, value)\u001b[0m\n\u001b[1;32m    228\u001b[0m         \u001b[0mproperties\u001b[0m \u001b[0;34m=\u001b[0m \u001b[0mself\u001b[0m\u001b[0;34m.\u001b[0m\u001b[0mproperties\u001b[0m\u001b[0;34m(\u001b[0m\u001b[0m_with_props\u001b[0m\u001b[0;34m=\u001b[0m\u001b[0;32mTrue\u001b[0m\u001b[0;34m)\u001b[0m\u001b[0;34m\u001b[0m\u001b[0;34m\u001b[0m\u001b[0m\n\u001b[1;32m    229\u001b[0m         \u001b[0;32mif\u001b[0m \u001b[0mname\u001b[0m \u001b[0;32min\u001b[0m \u001b[0mproperties\u001b[0m\u001b[0;34m:\u001b[0m\u001b[0;34m\u001b[0m\u001b[0;34m\u001b[0m\u001b[0m\n\u001b[0;32m--> 230\u001b[0;31m             \u001b[0;32mreturn\u001b[0m \u001b[0msuper\u001b[0m\u001b[0;34m(\u001b[0m\u001b[0;34m)\u001b[0m\u001b[0;34m.\u001b[0m\u001b[0m__setattr__\u001b[0m\u001b[0;34m(\u001b[0m\u001b[0mname\u001b[0m\u001b[0;34m,\u001b[0m \u001b[0mvalue\u001b[0m\u001b[0;34m)\u001b[0m\u001b[0;34m\u001b[0m\u001b[0;34m\u001b[0m\u001b[0m\n\u001b[0m\u001b[1;32m    231\u001b[0m \u001b[0;34m\u001b[0m\u001b[0m\n\u001b[1;32m    232\u001b[0m         \u001b[0mdescriptor\u001b[0m \u001b[0;34m=\u001b[0m \u001b[0mgetattr\u001b[0m\u001b[0;34m(\u001b[0m\u001b[0mself\u001b[0m\u001b[0;34m.\u001b[0m\u001b[0m__class__\u001b[0m\u001b[0;34m,\u001b[0m \u001b[0mname\u001b[0m\u001b[0;34m,\u001b[0m \u001b[0;32mNone\u001b[0m\u001b[0;34m)\u001b[0m\u001b[0;34m\u001b[0m\u001b[0;34m\u001b[0m\u001b[0m\n",
          "\u001b[0;32m~/anaconda3/lib/python3.9/site-packages/bokeh/core/property/descriptors.py\u001b[0m in \u001b[0;36m__set__\u001b[0;34m(self, obj, value, setter)\u001b[0m\n\u001b[1;32m    281\u001b[0m             \u001b[0;32mraise\u001b[0m \u001b[0mRuntimeError\u001b[0m\u001b[0;34m(\u001b[0m\u001b[0;34mf\"{class_name}.{self.name} is a readonly property\"\u001b[0m\u001b[0;34m)\u001b[0m\u001b[0;34m\u001b[0m\u001b[0;34m\u001b[0m\u001b[0m\n\u001b[1;32m    282\u001b[0m \u001b[0;34m\u001b[0m\u001b[0m\n\u001b[0;32m--> 283\u001b[0;31m         \u001b[0mvalue\u001b[0m \u001b[0;34m=\u001b[0m \u001b[0mself\u001b[0m\u001b[0;34m.\u001b[0m\u001b[0mproperty\u001b[0m\u001b[0;34m.\u001b[0m\u001b[0mprepare_value\u001b[0m\u001b[0;34m(\u001b[0m\u001b[0mobj\u001b[0m\u001b[0;34m,\u001b[0m \u001b[0mself\u001b[0m\u001b[0;34m.\u001b[0m\u001b[0mname\u001b[0m\u001b[0;34m,\u001b[0m \u001b[0mvalue\u001b[0m\u001b[0;34m)\u001b[0m\u001b[0;34m\u001b[0m\u001b[0;34m\u001b[0m\u001b[0m\n\u001b[0m\u001b[1;32m    284\u001b[0m         \u001b[0mold\u001b[0m \u001b[0;34m=\u001b[0m \u001b[0mself\u001b[0m\u001b[0;34m.\u001b[0m\u001b[0m_get\u001b[0m\u001b[0;34m(\u001b[0m\u001b[0mobj\u001b[0m\u001b[0;34m)\u001b[0m\u001b[0;34m\u001b[0m\u001b[0;34m\u001b[0m\u001b[0m\n\u001b[1;32m    285\u001b[0m         \u001b[0mself\u001b[0m\u001b[0;34m.\u001b[0m\u001b[0m_set\u001b[0m\u001b[0;34m(\u001b[0m\u001b[0mobj\u001b[0m\u001b[0;34m,\u001b[0m \u001b[0mold\u001b[0m\u001b[0;34m,\u001b[0m \u001b[0mvalue\u001b[0m\u001b[0;34m,\u001b[0m \u001b[0msetter\u001b[0m\u001b[0;34m=\u001b[0m\u001b[0msetter\u001b[0m\u001b[0;34m)\u001b[0m\u001b[0;34m\u001b[0m\u001b[0;34m\u001b[0m\u001b[0m\n",
          "\u001b[0;32m~/anaconda3/lib/python3.9/site-packages/bokeh/core/property/bases.py\u001b[0m in \u001b[0;36mprepare_value\u001b[0;34m(self, owner, name, value, hint)\u001b[0m\n\u001b[1;32m    363\u001b[0m         \u001b[0;32melse\u001b[0m\u001b[0;34m:\u001b[0m\u001b[0;34m\u001b[0m\u001b[0;34m\u001b[0m\u001b[0m\n\u001b[1;32m    364\u001b[0m             \u001b[0mobj_repr\u001b[0m \u001b[0;34m=\u001b[0m \u001b[0mowner\u001b[0m \u001b[0;32mif\u001b[0m \u001b[0misinstance\u001b[0m\u001b[0;34m(\u001b[0m\u001b[0mowner\u001b[0m\u001b[0;34m,\u001b[0m \u001b[0mHasProps\u001b[0m\u001b[0;34m)\u001b[0m \u001b[0;32melse\u001b[0m \u001b[0mowner\u001b[0m\u001b[0;34m.\u001b[0m\u001b[0m__name__\u001b[0m\u001b[0;34m\u001b[0m\u001b[0;34m\u001b[0m\u001b[0m\n\u001b[0;32m--> 365\u001b[0;31m             \u001b[0;32mraise\u001b[0m \u001b[0mValueError\u001b[0m\u001b[0;34m(\u001b[0m\u001b[0;34mf\"failed to validate {obj_repr}.{name}: {error}\"\u001b[0m\u001b[0;34m)\u001b[0m\u001b[0;34m\u001b[0m\u001b[0;34m\u001b[0m\u001b[0m\n\u001b[0m\u001b[1;32m    366\u001b[0m \u001b[0;34m\u001b[0m\u001b[0m\n\u001b[1;32m    367\u001b[0m         \u001b[0;32mif\u001b[0m \u001b[0misinstance\u001b[0m\u001b[0;34m(\u001b[0m\u001b[0mowner\u001b[0m\u001b[0;34m,\u001b[0m \u001b[0mHasProps\u001b[0m\u001b[0;34m)\u001b[0m\u001b[0;34m:\u001b[0m\u001b[0;34m\u001b[0m\u001b[0;34m\u001b[0m\u001b[0m\n",
          "\u001b[0;31mValueError\u001b[0m: failed to validate FigureOptions(...).tooltips: expected an element of either Null, Instance(Template), String or List(Tuple(String, String)), got ['En @x @Choisi, le prix du gazole était de @y']"
         ]
        }
       ]
      }
     },
     "96bd1aa4c7794544a23cfa77241fe6aa": {
      "model_module": "@jupyter-widgets/base",
      "model_module_version": "1.2.0",
      "model_name": "LayoutModel",
      "state": {}
     },
     "970d874fbe214914992cd59b52d134c2": {
      "model_module": "@jupyter-widgets/base",
      "model_module_version": "1.2.0",
      "model_name": "LayoutModel",
      "state": {}
     },
     "979c772bcc314f2ba349b90e42faeb26": {
      "model_module": "@jupyter-widgets/base",
      "model_module_version": "1.2.0",
      "model_name": "LayoutModel",
      "state": {}
     },
     "97a84c0de90248f99e08bcd13b11f034": {
      "model_module": "@jupyter-widgets/base",
      "model_module_version": "1.2.0",
      "model_name": "LayoutModel",
      "state": {}
     },
     "989319f9c2624b39acafc9826b2e3692": {
      "model_module": "@jupyter-widgets/controls",
      "model_module_version": "1.5.0",
      "model_name": "DescriptionStyleModel",
      "state": {
       "description_width": ""
      }
     },
     "989acc47d3024af18f797a0ef9ab5b44": {
      "model_module": "@jupyter-widgets/controls",
      "model_module_version": "1.5.0",
      "model_name": "DropdownModel",
      "state": {
       "_options_labels": [
        "Graph",
        "1992",
        "1993",
        "1994",
        "1995",
        "1996",
        "1997",
        "1998",
        "1999",
        "2000",
        "2001",
        "2002",
        "2003",
        "2004",
        "2005",
        "2006",
        "2007",
        "2008",
        "2009",
        "2010",
        "2011",
        "2012",
        "2013",
        "2014",
        "2015",
        "2016",
        "2017",
        "2018",
        "2019",
        "2020",
        "2021",
        "2022"
       ],
       "description": "Choisi",
       "index": 10,
       "layout": "IPY_MODEL_9d773695890b410a8e15e414a02c9642",
       "style": "IPY_MODEL_20181f2af0624abea60e6f1ed4c1ceee"
      }
     },
     "997625a820934dcda296d919ab023651": {
      "model_module": "@jupyter-widgets/base",
      "model_module_version": "1.2.0",
      "model_name": "LayoutModel",
      "state": {}
     },
     "99bef2328b204a35a262a902b9e034bb": {
      "model_module": "@jupyter-widgets/base",
      "model_module_version": "1.2.0",
      "model_name": "LayoutModel",
      "state": {}
     },
     "9a52bc6ff0164e2199aca1326d6eaaba": {
      "model_module": "@jupyter-widgets/base",
      "model_module_version": "1.2.0",
      "model_name": "LayoutModel",
      "state": {}
     },
     "9aebf2f167204c799d53b06ddc2b9c31": {
      "model_module": "@jupyter-widgets/base",
      "model_module_version": "1.2.0",
      "model_name": "LayoutModel",
      "state": {}
     },
     "9c143cc9a75c4807a7111eea7160ec8c": {
      "model_module": "@jupyter-widgets/output",
      "model_module_version": "1.0.0",
      "model_name": "OutputModel",
      "state": {
       "layout": "IPY_MODEL_07b29fab576748a5b0292436ad154201",
       "outputs": [
        {
         "data": {
          "text/html": "<div>\n<style scoped>\n    .dataframe tbody tr th:only-of-type {\n        vertical-align: middle;\n    }\n\n    .dataframe tbody tr th {\n        vertical-align: top;\n    }\n\n    .dataframe thead th {\n        text-align: right;\n    }\n</style>\n<table border=\"1\" class=\"dataframe\">\n  <thead>\n    <tr style=\"text-align: right;\">\n      <th></th>\n      <th>Année</th>\n      <th>Période</th>\n      <th>Prix</th>\n    </tr>\n  </thead>\n  <tbody>\n    <tr>\n      <th>0</th>\n      <td>2000</td>\n      <td>Janvier</td>\n      <td>0.81</td>\n    </tr>\n    <tr>\n      <th>1</th>\n      <td>2000</td>\n      <td>Février</td>\n      <td>0.81</td>\n    </tr>\n    <tr>\n      <th>2</th>\n      <td>2000</td>\n      <td>Mars</td>\n      <td>0.82</td>\n    </tr>\n    <tr>\n      <th>3</th>\n      <td>2000</td>\n      <td>Avril</td>\n      <td>0.80</td>\n    </tr>\n    <tr>\n      <th>4</th>\n      <td>2000</td>\n      <td>Mai</td>\n      <td>0.81</td>\n    </tr>\n    <tr>\n      <th>5</th>\n      <td>2000</td>\n      <td>Juin</td>\n      <td>0.82</td>\n    </tr>\n    <tr>\n      <th>6</th>\n      <td>2000</td>\n      <td>Juillet</td>\n      <td>0.83</td>\n    </tr>\n    <tr>\n      <th>7</th>\n      <td>2000</td>\n      <td>Aout</td>\n      <td>0.84</td>\n    </tr>\n    <tr>\n      <th>8</th>\n      <td>2000</td>\n      <td>Septembre</td>\n      <td>0.93</td>\n    </tr>\n    <tr>\n      <th>9</th>\n      <td>2000</td>\n      <td>Octobre</td>\n      <td>0.90</td>\n    </tr>\n    <tr>\n      <th>10</th>\n      <td>2000</td>\n      <td>Novembre</td>\n      <td>0.91</td>\n    </tr>\n    <tr>\n      <th>11</th>\n      <td>2000</td>\n      <td>Decembre</td>\n      <td>0.89</td>\n    </tr>\n  </tbody>\n</table>\n</div>",
          "text/plain": "   Année    Période  Prix\n0   2000    Janvier  0.81\n1   2000    Février  0.81\n2   2000       Mars  0.82\n3   2000      Avril  0.80\n4   2000        Mai  0.81\n5   2000       Juin  0.82\n6   2000    Juillet  0.83\n7   2000       Aout  0.84\n8   2000  Septembre  0.93\n9   2000    Octobre  0.90\n10  2000   Novembre  0.91\n11  2000   Decembre  0.89"
         },
         "metadata": {},
         "output_type": "display_data"
        }
       ]
      }
     },
     "9cd617b03e864acebab73da7172e2fbd": {
      "model_module": "@jupyter-widgets/base",
      "model_module_version": "1.2.0",
      "model_name": "LayoutModel",
      "state": {}
     },
     "9d1053bd26f34859b7f94c5a9c6c05bb": {
      "model_module": "@jupyter-widgets/base",
      "model_module_version": "1.2.0",
      "model_name": "LayoutModel",
      "state": {}
     },
     "9d773695890b410a8e15e414a02c9642": {
      "model_module": "@jupyter-widgets/base",
      "model_module_version": "1.2.0",
      "model_name": "LayoutModel",
      "state": {}
     },
     "9df14ad3f13543d3b065bd37ec35573e": {
      "model_module": "@jupyter-widgets/output",
      "model_module_version": "1.0.0",
      "model_name": "OutputModel",
      "state": {
       "layout": "IPY_MODEL_9a52bc6ff0164e2199aca1326d6eaaba",
       "outputs": [
        {
         "ename": "ValueError",
         "evalue": "failed to validate LinearAxis(id='2160', ...).ticker: expected an instance of type Ticker, got 0       Janvier\n1       Février\n2          Mars\n3         Avril\n4           Mai\n5          Juin\n6       Juillet\n7          Aout\n8     Septembre\n9       Octobre\n10     Novembre\n11     Decembre\nName: Période, dtype: object of type Series",
         "output_type": "error",
         "traceback": [
          "\u001b[0;31m---------------------------------------------------------------------------\u001b[0m",
          "\u001b[0;31mValueError\u001b[0m                                Traceback (most recent call last)",
          "\u001b[0;32m~/anaconda3/lib/python3.9/site-packages/ipywidgets/widgets/interaction.py\u001b[0m in \u001b[0;36mupdate\u001b[0;34m(self, *args)\u001b[0m\n\u001b[1;32m    255\u001b[0m                     \u001b[0mvalue\u001b[0m \u001b[0;34m=\u001b[0m \u001b[0mwidget\u001b[0m\u001b[0;34m.\u001b[0m\u001b[0mget_interact_value\u001b[0m\u001b[0;34m(\u001b[0m\u001b[0;34m)\u001b[0m\u001b[0;34m\u001b[0m\u001b[0;34m\u001b[0m\u001b[0m\n\u001b[1;32m    256\u001b[0m                     \u001b[0mself\u001b[0m\u001b[0;34m.\u001b[0m\u001b[0mkwargs\u001b[0m\u001b[0;34m[\u001b[0m\u001b[0mwidget\u001b[0m\u001b[0;34m.\u001b[0m\u001b[0m_kwarg\u001b[0m\u001b[0;34m]\u001b[0m \u001b[0;34m=\u001b[0m \u001b[0mvalue\u001b[0m\u001b[0;34m\u001b[0m\u001b[0;34m\u001b[0m\u001b[0m\n\u001b[0;32m--> 257\u001b[0;31m                 \u001b[0mself\u001b[0m\u001b[0;34m.\u001b[0m\u001b[0mresult\u001b[0m \u001b[0;34m=\u001b[0m \u001b[0mself\u001b[0m\u001b[0;34m.\u001b[0m\u001b[0mf\u001b[0m\u001b[0;34m(\u001b[0m\u001b[0;34m**\u001b[0m\u001b[0mself\u001b[0m\u001b[0;34m.\u001b[0m\u001b[0mkwargs\u001b[0m\u001b[0;34m)\u001b[0m\u001b[0;34m\u001b[0m\u001b[0;34m\u001b[0m\u001b[0m\n\u001b[0m\u001b[1;32m    258\u001b[0m                 \u001b[0mshow_inline_matplotlib_plots\u001b[0m\u001b[0;34m(\u001b[0m\u001b[0;34m)\u001b[0m\u001b[0;34m\u001b[0m\u001b[0;34m\u001b[0m\u001b[0m\n\u001b[1;32m    259\u001b[0m                 \u001b[0;32mif\u001b[0m \u001b[0mself\u001b[0m\u001b[0;34m.\u001b[0m\u001b[0mauto_display\u001b[0m \u001b[0;32mand\u001b[0m \u001b[0mself\u001b[0m\u001b[0;34m.\u001b[0m\u001b[0mresult\u001b[0m \u001b[0;32mis\u001b[0m \u001b[0;32mnot\u001b[0m \u001b[0;32mNone\u001b[0m\u001b[0;34m:\u001b[0m\u001b[0;34m\u001b[0m\u001b[0;34m\u001b[0m\u001b[0m\n",
          "\u001b[0;32m/tmp/ipykernel_24999/174900579.py\u001b[0m in \u001b[0;36maff_per_year\u001b[0;34m(Choisi)\u001b[0m\n\u001b[1;32m     68\u001b[0m         \u001b[0;31m#graph_per_year.background_fill_color = \"beige\"\u001b[0m\u001b[0;34m\u001b[0m\u001b[0;34m\u001b[0m\u001b[0m\n\u001b[1;32m     69\u001b[0m         \u001b[0mgraph_per_year\u001b[0m\u001b[0;34m.\u001b[0m\u001b[0mtoolbar\u001b[0m\u001b[0;34m.\u001b[0m\u001b[0mlogo\u001b[0m \u001b[0;34m=\u001b[0m \u001b[0;32mNone\u001b[0m\u001b[0;34m\u001b[0m\u001b[0;34m\u001b[0m\u001b[0m\n\u001b[0;32m---> 70\u001b[0;31m         \u001b[0mgraph_per_year\u001b[0m\u001b[0;34m.\u001b[0m\u001b[0mxaxis\u001b[0m\u001b[0;34m.\u001b[0m\u001b[0mticker\u001b[0m \u001b[0;34m=\u001b[0m\u001b[0mz\u001b[0m\u001b[0;34m[\u001b[0m\u001b[0;34m\"Période\"\u001b[0m\u001b[0;34m]\u001b[0m\u001b[0;34m\u001b[0m\u001b[0;34m\u001b[0m\u001b[0m\n\u001b[0m\u001b[1;32m     71\u001b[0m \u001b[0;34m\u001b[0m\u001b[0m\n\u001b[1;32m     72\u001b[0m         \u001b[0mgraph_per_year\u001b[0m\u001b[0;34m.\u001b[0m\u001b[0mxaxis\u001b[0m\u001b[0;34m.\u001b[0m\u001b[0mmajor_label_overrides\u001b[0m \u001b[0;34m=\u001b[0m \u001b[0mdict_mois\u001b[0m\u001b[0;34m\u001b[0m\u001b[0;34m\u001b[0m\u001b[0m\n",
          "\u001b[0;32m~/anaconda3/lib/python3.9/site-packages/bokeh/models/plots.py\u001b[0m in \u001b[0;36m__setattr__\u001b[0;34m(self, attr, value)\u001b[0m\n\u001b[1;32m    785\u001b[0m     \u001b[0;32mdef\u001b[0m \u001b[0m__setattr__\u001b[0m\u001b[0;34m(\u001b[0m\u001b[0mself\u001b[0m\u001b[0;34m,\u001b[0m \u001b[0mattr\u001b[0m\u001b[0;34m,\u001b[0m \u001b[0mvalue\u001b[0m\u001b[0;34m)\u001b[0m\u001b[0;34m:\u001b[0m\u001b[0;34m\u001b[0m\u001b[0;34m\u001b[0m\u001b[0m\n\u001b[1;32m    786\u001b[0m         \u001b[0;32mfor\u001b[0m \u001b[0mx\u001b[0m \u001b[0;32min\u001b[0m \u001b[0mself\u001b[0m\u001b[0;34m:\u001b[0m\u001b[0;34m\u001b[0m\u001b[0;34m\u001b[0m\u001b[0m\n\u001b[0;32m--> 787\u001b[0;31m             \u001b[0msetattr\u001b[0m\u001b[0;34m(\u001b[0m\u001b[0mx\u001b[0m\u001b[0;34m,\u001b[0m \u001b[0mattr\u001b[0m\u001b[0;34m,\u001b[0m \u001b[0mvalue\u001b[0m\u001b[0;34m)\u001b[0m\u001b[0;34m\u001b[0m\u001b[0;34m\u001b[0m\u001b[0m\n\u001b[0m\u001b[1;32m    788\u001b[0m     \u001b[0;32mdef\u001b[0m \u001b[0m__getattribute__\u001b[0m\u001b[0;34m(\u001b[0m\u001b[0mself\u001b[0m\u001b[0;34m,\u001b[0m \u001b[0mattr\u001b[0m\u001b[0;34m)\u001b[0m\u001b[0;34m:\u001b[0m\u001b[0;34m\u001b[0m\u001b[0;34m\u001b[0m\u001b[0m\n\u001b[1;32m    789\u001b[0m         \u001b[0;32mif\u001b[0m \u001b[0mattr\u001b[0m \u001b[0;32min\u001b[0m \u001b[0mdir\u001b[0m\u001b[0;34m(\u001b[0m\u001b[0mlist\u001b[0m\u001b[0;34m)\u001b[0m\u001b[0;34m:\u001b[0m\u001b[0;34m\u001b[0m\u001b[0;34m\u001b[0m\u001b[0m\n",
          "\u001b[0;32m~/anaconda3/lib/python3.9/site-packages/bokeh/core/has_props.py\u001b[0m in \u001b[0;36m__setattr__\u001b[0;34m(self, name, value)\u001b[0m\n\u001b[1;32m    228\u001b[0m         \u001b[0mproperties\u001b[0m \u001b[0;34m=\u001b[0m \u001b[0mself\u001b[0m\u001b[0;34m.\u001b[0m\u001b[0mproperties\u001b[0m\u001b[0;34m(\u001b[0m\u001b[0m_with_props\u001b[0m\u001b[0;34m=\u001b[0m\u001b[0;32mTrue\u001b[0m\u001b[0;34m)\u001b[0m\u001b[0;34m\u001b[0m\u001b[0;34m\u001b[0m\u001b[0m\n\u001b[1;32m    229\u001b[0m         \u001b[0;32mif\u001b[0m \u001b[0mname\u001b[0m \u001b[0;32min\u001b[0m \u001b[0mproperties\u001b[0m\u001b[0;34m:\u001b[0m\u001b[0;34m\u001b[0m\u001b[0;34m\u001b[0m\u001b[0m\n\u001b[0;32m--> 230\u001b[0;31m             \u001b[0;32mreturn\u001b[0m \u001b[0msuper\u001b[0m\u001b[0;34m(\u001b[0m\u001b[0;34m)\u001b[0m\u001b[0;34m.\u001b[0m\u001b[0m__setattr__\u001b[0m\u001b[0;34m(\u001b[0m\u001b[0mname\u001b[0m\u001b[0;34m,\u001b[0m \u001b[0mvalue\u001b[0m\u001b[0;34m)\u001b[0m\u001b[0;34m\u001b[0m\u001b[0;34m\u001b[0m\u001b[0m\n\u001b[0m\u001b[1;32m    231\u001b[0m \u001b[0;34m\u001b[0m\u001b[0m\n\u001b[1;32m    232\u001b[0m         \u001b[0mdescriptor\u001b[0m \u001b[0;34m=\u001b[0m \u001b[0mgetattr\u001b[0m\u001b[0;34m(\u001b[0m\u001b[0mself\u001b[0m\u001b[0;34m.\u001b[0m\u001b[0m__class__\u001b[0m\u001b[0;34m,\u001b[0m \u001b[0mname\u001b[0m\u001b[0;34m,\u001b[0m \u001b[0;32mNone\u001b[0m\u001b[0;34m)\u001b[0m\u001b[0;34m\u001b[0m\u001b[0;34m\u001b[0m\u001b[0m\n",
          "\u001b[0;32m~/anaconda3/lib/python3.9/site-packages/bokeh/core/property/descriptors.py\u001b[0m in \u001b[0;36m__set__\u001b[0;34m(self, obj, value, setter)\u001b[0m\n\u001b[1;32m    281\u001b[0m             \u001b[0;32mraise\u001b[0m \u001b[0mRuntimeError\u001b[0m\u001b[0;34m(\u001b[0m\u001b[0;34mf\"{class_name}.{self.name} is a readonly property\"\u001b[0m\u001b[0;34m)\u001b[0m\u001b[0;34m\u001b[0m\u001b[0;34m\u001b[0m\u001b[0m\n\u001b[1;32m    282\u001b[0m \u001b[0;34m\u001b[0m\u001b[0m\n\u001b[0;32m--> 283\u001b[0;31m         \u001b[0mvalue\u001b[0m \u001b[0;34m=\u001b[0m \u001b[0mself\u001b[0m\u001b[0;34m.\u001b[0m\u001b[0mproperty\u001b[0m\u001b[0;34m.\u001b[0m\u001b[0mprepare_value\u001b[0m\u001b[0;34m(\u001b[0m\u001b[0mobj\u001b[0m\u001b[0;34m,\u001b[0m \u001b[0mself\u001b[0m\u001b[0;34m.\u001b[0m\u001b[0mname\u001b[0m\u001b[0;34m,\u001b[0m \u001b[0mvalue\u001b[0m\u001b[0;34m)\u001b[0m\u001b[0;34m\u001b[0m\u001b[0;34m\u001b[0m\u001b[0m\n\u001b[0m\u001b[1;32m    284\u001b[0m         \u001b[0mold\u001b[0m \u001b[0;34m=\u001b[0m \u001b[0mself\u001b[0m\u001b[0;34m.\u001b[0m\u001b[0m_get\u001b[0m\u001b[0;34m(\u001b[0m\u001b[0mobj\u001b[0m\u001b[0;34m)\u001b[0m\u001b[0;34m\u001b[0m\u001b[0;34m\u001b[0m\u001b[0m\n\u001b[1;32m    285\u001b[0m         \u001b[0mself\u001b[0m\u001b[0;34m.\u001b[0m\u001b[0m_set\u001b[0m\u001b[0;34m(\u001b[0m\u001b[0mobj\u001b[0m\u001b[0;34m,\u001b[0m \u001b[0mold\u001b[0m\u001b[0;34m,\u001b[0m \u001b[0mvalue\u001b[0m\u001b[0;34m,\u001b[0m \u001b[0msetter\u001b[0m\u001b[0;34m=\u001b[0m\u001b[0msetter\u001b[0m\u001b[0;34m)\u001b[0m\u001b[0;34m\u001b[0m\u001b[0;34m\u001b[0m\u001b[0m\n",
          "\u001b[0;32m~/anaconda3/lib/python3.9/site-packages/bokeh/core/property/bases.py\u001b[0m in \u001b[0;36mprepare_value\u001b[0;34m(self, owner, name, value, hint)\u001b[0m\n\u001b[1;32m    363\u001b[0m         \u001b[0;32melse\u001b[0m\u001b[0;34m:\u001b[0m\u001b[0;34m\u001b[0m\u001b[0;34m\u001b[0m\u001b[0m\n\u001b[1;32m    364\u001b[0m             \u001b[0mobj_repr\u001b[0m \u001b[0;34m=\u001b[0m \u001b[0mowner\u001b[0m \u001b[0;32mif\u001b[0m \u001b[0misinstance\u001b[0m\u001b[0;34m(\u001b[0m\u001b[0mowner\u001b[0m\u001b[0;34m,\u001b[0m \u001b[0mHasProps\u001b[0m\u001b[0;34m)\u001b[0m \u001b[0;32melse\u001b[0m \u001b[0mowner\u001b[0m\u001b[0;34m.\u001b[0m\u001b[0m__name__\u001b[0m\u001b[0;34m\u001b[0m\u001b[0;34m\u001b[0m\u001b[0m\n\u001b[0;32m--> 365\u001b[0;31m             \u001b[0;32mraise\u001b[0m \u001b[0mValueError\u001b[0m\u001b[0;34m(\u001b[0m\u001b[0;34mf\"failed to validate {obj_repr}.{name}: {error}\"\u001b[0m\u001b[0;34m)\u001b[0m\u001b[0;34m\u001b[0m\u001b[0;34m\u001b[0m\u001b[0m\n\u001b[0m\u001b[1;32m    366\u001b[0m \u001b[0;34m\u001b[0m\u001b[0m\n\u001b[1;32m    367\u001b[0m         \u001b[0;32mif\u001b[0m \u001b[0misinstance\u001b[0m\u001b[0;34m(\u001b[0m\u001b[0mowner\u001b[0m\u001b[0;34m,\u001b[0m \u001b[0mHasProps\u001b[0m\u001b[0;34m)\u001b[0m\u001b[0;34m:\u001b[0m\u001b[0;34m\u001b[0m\u001b[0;34m\u001b[0m\u001b[0m\n",
          "\u001b[0;31mValueError\u001b[0m: failed to validate LinearAxis(id='2160', ...).ticker: expected an instance of type Ticker, got 0       Janvier\n1       Février\n2          Mars\n3         Avril\n4           Mai\n5          Juin\n6       Juillet\n7          Aout\n8     Septembre\n9       Octobre\n10     Novembre\n11     Decembre\nName: Période, dtype: object of type Series"
         ]
        }
       ]
      }
     },
     "9e1fedfc5f1446d786ae4152b5211d34": {
      "model_module": "@jupyter-widgets/controls",
      "model_module_version": "1.5.0",
      "model_name": "DropdownModel",
      "state": {
       "_options_labels": [
        "Graph",
        "1992",
        "1993",
        "1994",
        "1995",
        "1996",
        "1997",
        "1998",
        "1999",
        "2000",
        "2001",
        "2002",
        "2003",
        "2004",
        "2005",
        "2006",
        "2007",
        "2008",
        "2009",
        "2010",
        "2011",
        "2012",
        "2013",
        "2014",
        "2015",
        "2016",
        "2017",
        "2018",
        "2019",
        "2020",
        "2021",
        "2022"
       ],
       "description": "Choisi",
       "index": 14,
       "layout": "IPY_MODEL_fcece5d5a3804513b85008b2f4bd04e5",
       "style": "IPY_MODEL_607b558191504f86bae9f12601e51dc8"
      }
     },
     "9ff73db1dac4411891f58be311d890e6": {
      "model_module": "@jupyter-widgets/base",
      "model_module_version": "1.2.0",
      "model_name": "LayoutModel",
      "state": {}
     },
     "a196c9b1fcfe411382dcfa899d5766b8": {
      "model_module": "@jupyter-widgets/controls",
      "model_module_version": "1.5.0",
      "model_name": "DropdownModel",
      "state": {
       "_options_labels": [
        "Graph",
        "1992",
        "1993",
        "1994",
        "1995",
        "1996",
        "1997",
        "1998",
        "1999",
        "2000",
        "2001",
        "2002",
        "2003",
        "2004",
        "2005",
        "2006",
        "2007",
        "2008",
        "2009",
        "2010",
        "2011",
        "2012",
        "2013",
        "2014",
        "2015",
        "2016",
        "2017",
        "2018",
        "2019",
        "2020",
        "2021",
        "2022"
       ],
       "description": "Choisi",
       "index": 31,
       "layout": "IPY_MODEL_a301e547a0774a66a003048096f4f439",
       "style": "IPY_MODEL_989319f9c2624b39acafc9826b2e3692"
      }
     },
     "a2674dfcf8e54fefa41871eac91c1366": {
      "model_module": "@jupyter-widgets/base",
      "model_module_version": "1.2.0",
      "model_name": "LayoutModel",
      "state": {}
     },
     "a2dd864ee6544e47af33214f7e82e87a": {
      "model_module": "@jupyter-widgets/base",
      "model_module_version": "1.2.0",
      "model_name": "LayoutModel",
      "state": {}
     },
     "a301e547a0774a66a003048096f4f439": {
      "model_module": "@jupyter-widgets/base",
      "model_module_version": "1.2.0",
      "model_name": "LayoutModel",
      "state": {}
     },
     "a34a15a843bf43b6ae3d1d2bbed29257": {
      "model_module": "@jupyter-widgets/base",
      "model_module_version": "1.2.0",
      "model_name": "LayoutModel",
      "state": {}
     },
     "a4c262aeb2104b2295f230caf8c4839d": {
      "model_module": "@jupyter-widgets/output",
      "model_module_version": "1.0.0",
      "model_name": "OutputModel",
      "state": {
       "layout": "IPY_MODEL_c28b6b1196554694b4d995976f1c6b89",
       "outputs": [
        {
         "data": {
          "text/html": "<div>\n<style scoped>\n    .dataframe tbody tr th:only-of-type {\n        vertical-align: middle;\n    }\n\n    .dataframe tbody tr th {\n        vertical-align: top;\n    }\n\n    .dataframe thead th {\n        text-align: right;\n    }\n</style>\n<table border=\"1\" class=\"dataframe\">\n  <thead>\n    <tr style=\"text-align: right;\">\n      <th></th>\n      <th>Année</th>\n      <th>Période</th>\n      <th>Prix</th>\n    </tr>\n  </thead>\n  <tbody>\n    <tr>\n      <th>0</th>\n      <td>2000</td>\n      <td>Janvier</td>\n      <td>0.81</td>\n    </tr>\n    <tr>\n      <th>1</th>\n      <td>2000</td>\n      <td>Février</td>\n      <td>0.81</td>\n    </tr>\n    <tr>\n      <th>2</th>\n      <td>2000</td>\n      <td>Mars</td>\n      <td>0.82</td>\n    </tr>\n    <tr>\n      <th>3</th>\n      <td>2000</td>\n      <td>Avril</td>\n      <td>0.80</td>\n    </tr>\n    <tr>\n      <th>4</th>\n      <td>2000</td>\n      <td>Mai</td>\n      <td>0.81</td>\n    </tr>\n    <tr>\n      <th>5</th>\n      <td>2000</td>\n      <td>Juin</td>\n      <td>0.82</td>\n    </tr>\n    <tr>\n      <th>6</th>\n      <td>2000</td>\n      <td>Juillet</td>\n      <td>0.83</td>\n    </tr>\n    <tr>\n      <th>7</th>\n      <td>2000</td>\n      <td>Aout</td>\n      <td>0.84</td>\n    </tr>\n    <tr>\n      <th>8</th>\n      <td>2000</td>\n      <td>Septembre</td>\n      <td>0.93</td>\n    </tr>\n    <tr>\n      <th>9</th>\n      <td>2000</td>\n      <td>Octobre</td>\n      <td>0.90</td>\n    </tr>\n    <tr>\n      <th>10</th>\n      <td>2000</td>\n      <td>Novembre</td>\n      <td>0.91</td>\n    </tr>\n    <tr>\n      <th>11</th>\n      <td>2000</td>\n      <td>Decembre</td>\n      <td>0.89</td>\n    </tr>\n  </tbody>\n</table>\n</div>",
          "text/plain": "   Année    Période  Prix\n0   2000    Janvier  0.81\n1   2000    Février  0.81\n2   2000       Mars  0.82\n3   2000      Avril  0.80\n4   2000        Mai  0.81\n5   2000       Juin  0.82\n6   2000    Juillet  0.83\n7   2000       Aout  0.84\n8   2000  Septembre  0.93\n9   2000    Octobre  0.90\n10  2000   Novembre  0.91\n11  2000   Decembre  0.89"
         },
         "metadata": {},
         "output_type": "display_data"
        },
        {
         "data": {
          "text/html": "\n\n\n\n\n\n  <div class=\"bk-root\" id=\"9fd1c21c-0906-4863-95d0-e72fed426f1d\" data-root-id=\"2311\"></div>\n"
         },
         "metadata": {},
         "output_type": "display_data"
        },
        {
         "data": {
          "application/javascript": "(function(root) {\n  function embed_document(root) {\n    \n  const docs_json = {\"fe4cae46-672e-43ee-b7ba-5df80b0efbe7\":{\"defs\":[],\"roots\":{\"references\":[{\"attributes\":{\"below\":[{\"id\":\"2322\"}],\"center\":[{\"id\":\"2325\"},{\"id\":\"2329\"},{\"id\":\"2362\"}],\"left\":[{\"id\":\"2326\"}],\"renderers\":[{\"id\":\"2350\"}],\"sizing_mode\":\"stretch_width\",\"title\":{\"id\":\"2312\"},\"toolbar\":{\"id\":\"2338\"},\"x_range\":{\"id\":\"2314\"},\"x_scale\":{\"id\":\"2318\"},\"y_range\":{\"id\":\"2316\"},\"y_scale\":{\"id\":\"2320\"}},\"id\":\"2311\",\"subtype\":\"Figure\",\"type\":\"Plot\"},{\"attributes\":{},\"id\":\"2318\",\"type\":\"LinearScale\"},{\"attributes\":{\"coordinates\":null,\"data_source\":{\"id\":\"2346\"},\"glyph\":{\"id\":\"2347\"},\"group\":null,\"hover_glyph\":null,\"muted_glyph\":{\"id\":\"2349\"},\"nonselection_glyph\":{\"id\":\"2348\"},\"view\":{\"id\":\"2351\"}},\"id\":\"2350\",\"type\":\"GlyphRenderer\"},{\"attributes\":{\"line_alpha\":0.2,\"line_color\":\"orange\",\"line_width\":3,\"x\":{\"field\":\"x\"},\"y\":{\"field\":\"y\"}},\"id\":\"2349\",\"type\":\"Line\"},{\"attributes\":{\"overlay\":{\"id\":\"2336\"}},\"id\":\"2332\",\"type\":\"BoxZoomTool\"},{\"attributes\":{},\"id\":\"2360\",\"type\":\"Selection\"},{\"attributes\":{},\"id\":\"2359\",\"type\":\"UnionRenderers\"},{\"attributes\":{\"logo\":null,\"tools\":[{\"id\":\"2330\"},{\"id\":\"2331\"},{\"id\":\"2332\"},{\"id\":\"2333\"},{\"id\":\"2334\"},{\"id\":\"2335\"},{\"id\":\"2337\"}]},\"id\":\"2338\",\"type\":\"Toolbar\"},{\"attributes\":{\"callback\":null,\"tooltips\":[[\"Prix\",\"@y\"]]},\"id\":\"2337\",\"type\":\"HoverTool\"},{\"attributes\":{\"source\":{\"id\":\"2346\"}},\"id\":\"2351\",\"type\":\"CDSView\"},{\"attributes\":{},\"id\":\"2331\",\"type\":\"WheelZoomTool\"},{\"attributes\":{},\"id\":\"2323\",\"type\":\"BasicTicker\"},{\"attributes\":{},\"id\":\"2316\",\"type\":\"DataRange1d\"},{\"attributes\":{\"label\":{\"value\":\"Prix par mois\"},\"renderers\":[{\"id\":\"2350\"}]},\"id\":\"2363\",\"type\":\"LegendItem\"},{\"attributes\":{},\"id\":\"2330\",\"type\":\"PanTool\"},{\"attributes\":{\"axis_label\":\"P\\u00e9riode (En mois)\",\"coordinates\":null,\"formatter\":{\"id\":\"2357\"},\"group\":null,\"major_label_overrides\":{\"1\":\"Janvier\",\"10\":\"Octobre\",\"11\":\"Novembre\",\"12\":\"Decembre\",\"2\":\"F\\u00e9vrier\",\"3\":\"Mars\",\"4\":\"Avril\",\"5\":\"Mai\",\"6\":\"Juin\",\"7\":\"Juillet\",\"8\":\"Aout\",\"9\":\"Septembre\"},\"major_label_policy\":{\"id\":\"2358\"},\"ticker\":{\"id\":\"2323\"}},\"id\":\"2322\",\"type\":\"LinearAxis\"},{\"attributes\":{},\"id\":\"2314\",\"type\":\"DataRange1d\"},{\"attributes\":{\"axis\":{\"id\":\"2326\"},\"coordinates\":null,\"dimension\":1,\"group\":null,\"ticker\":null},\"id\":\"2329\",\"type\":\"Grid\"},{\"attributes\":{},\"id\":\"2335\",\"type\":\"HelpTool\"},{\"attributes\":{\"axis_label\":\"Prix (En Euro)\",\"coordinates\":null,\"formatter\":{\"id\":\"2354\"},\"group\":null,\"major_label_policy\":{\"id\":\"2355\"},\"ticker\":{\"id\":\"2327\"}},\"id\":\"2326\",\"type\":\"LinearAxis\"},{\"attributes\":{},\"id\":\"2355\",\"type\":\"AllLabels\"},{\"attributes\":{\"data\":{\"x\":[\"Janvier\",\"F\\u00e9vrier\",\"Mars\",\"Avril\",\"Mai\",\"Juin\",\"Juillet\",\"Aout\",\"Septembre\",\"Octobre\",\"Novembre\",\"Decembre\"],\"y\":{\"__ndarray__\":\"7FG4HoXr6T/sUbgehevpPz0K16NwPeo/mpmZmZmZ6T/sUbgehevpPz0K16NwPeo/j8L1KFyP6j/hehSuR+HqP8P1KFyPwu0/zczMzMzM7D8fhetRuB7tP3sUrkfheuw/\",\"dtype\":\"float64\",\"order\":\"little\",\"shape\":[12]}},\"selected\":{\"id\":\"2360\"},\"selection_policy\":{\"id\":\"2359\"}},\"id\":\"2346\",\"type\":\"ColumnDataSource\"},{\"attributes\":{},\"id\":\"2334\",\"type\":\"ResetTool\"},{\"attributes\":{\"border_line_alpha\":0.8,\"coordinates\":null,\"group\":null,\"items\":[{\"id\":\"2363\"}],\"label_text_font_style\":\"italic\",\"location\":\"top_left\"},\"id\":\"2362\",\"type\":\"Legend\"},{\"attributes\":{},\"id\":\"2333\",\"type\":\"SaveTool\"},{\"attributes\":{\"bottom_units\":\"screen\",\"coordinates\":null,\"fill_alpha\":0.5,\"fill_color\":\"lightgrey\",\"group\":null,\"left_units\":\"screen\",\"level\":\"overlay\",\"line_alpha\":1.0,\"line_color\":\"black\",\"line_dash\":[4,4],\"line_width\":2,\"right_units\":\"screen\",\"syncable\":false,\"top_units\":\"screen\"},\"id\":\"2336\",\"type\":\"BoxAnnotation\"},{\"attributes\":{},\"id\":\"2320\",\"type\":\"LinearScale\"},{\"attributes\":{},\"id\":\"2354\",\"type\":\"BasicTickFormatter\"},{\"attributes\":{\"coordinates\":null,\"group\":null,\"text\":\"Evolution du prix du Gazole sur l'ann\\u00e9e 2000\"},\"id\":\"2312\",\"type\":\"Title\"},{\"attributes\":{},\"id\":\"2358\",\"type\":\"AllLabels\"},{\"attributes\":{\"line_color\":\"orange\",\"line_width\":3,\"x\":{\"field\":\"x\"},\"y\":{\"field\":\"y\"}},\"id\":\"2347\",\"type\":\"Line\"},{\"attributes\":{},\"id\":\"2357\",\"type\":\"BasicTickFormatter\"},{\"attributes\":{\"axis\":{\"id\":\"2322\"},\"coordinates\":null,\"group\":null,\"ticker\":null},\"id\":\"2325\",\"type\":\"Grid\"},{\"attributes\":{},\"id\":\"2327\",\"type\":\"BasicTicker\"},{\"attributes\":{\"line_alpha\":0.1,\"line_color\":\"orange\",\"line_width\":3,\"x\":{\"field\":\"x\"},\"y\":{\"field\":\"y\"}},\"id\":\"2348\",\"type\":\"Line\"}],\"root_ids\":[\"2311\"]},\"title\":\"Bokeh Application\",\"version\":\"2.4.1\"}};\n  const render_items = [{\"docid\":\"fe4cae46-672e-43ee-b7ba-5df80b0efbe7\",\"root_ids\":[\"2311\"],\"roots\":{\"2311\":\"9fd1c21c-0906-4863-95d0-e72fed426f1d\"}}];\n  root.Bokeh.embed.embed_items_notebook(docs_json, render_items);\n\n  }\n  if (root.Bokeh !== undefined) {\n    embed_document(root);\n  } else {\n    let attempts = 0;\n    const timer = setInterval(function(root) {\n      if (root.Bokeh !== undefined) {\n        clearInterval(timer);\n        embed_document(root);\n      } else {\n        attempts++;\n        if (attempts > 100) {\n          clearInterval(timer);\n          console.log(\"Bokeh: ERROR: Unable to run BokehJS code because BokehJS library is missing\");\n        }\n      }\n    }, 10, root)\n  }\n})(window);",
          "application/vnd.bokehjs_exec.v0+json": ""
         },
         "metadata": {
          "application/vnd.bokehjs_exec.v0+json": {
           "id": "2311"
          }
         },
         "output_type": "display_data"
        }
       ]
      }
     },
     "a4ee4b563e514cedb90049fa9971d3d8": {
      "model_module": "@jupyter-widgets/output",
      "model_module_version": "1.0.0",
      "model_name": "OutputModel",
      "state": {
       "layout": "IPY_MODEL_2c11a5fc1b2f404cbf8ca1f13ab75beb",
       "outputs": [
        {
         "data": {
          "text/html": "\n\n\n\n\n\n  <div class=\"bk-root\" id=\"80e59eb5-79dc-4d74-b23a-9c2b97a97d73\" data-root-id=\"2963\"></div>\n"
         },
         "metadata": {},
         "output_type": "display_data"
        },
        {
         "data": {
          "application/javascript": "(function(root) {\n  function embed_document(root) {\n    \n  const docs_json = {\"19239742-997b-424f-868b-8dbda217a990\":{\"defs\":[],\"roots\":{\"references\":[{\"attributes\":{\"below\":[{\"id\":\"2974\"}],\"center\":[{\"id\":\"2977\"},{\"id\":\"2981\"},{\"id\":\"3014\"}],\"left\":[{\"id\":\"2978\"}],\"renderers\":[{\"id\":\"3002\"}],\"sizing_mode\":\"stretch_width\",\"title\":{\"id\":\"2964\"},\"toolbar\":{\"id\":\"2990\"},\"x_range\":{\"id\":\"2966\"},\"x_scale\":{\"id\":\"2970\"},\"y_range\":{\"id\":\"2968\"},\"y_scale\":{\"id\":\"2972\"}},\"id\":\"2963\",\"subtype\":\"Figure\",\"type\":\"Plot\"},{\"attributes\":{\"line_alpha\":0.1,\"line_color\":\"orange\",\"line_width\":3,\"x\":{\"field\":\"x\"},\"y\":{\"field\":\"y\"}},\"id\":\"3000\",\"type\":\"Line\"},{\"attributes\":{},\"id\":\"2975\",\"type\":\"BasicTicker\"},{\"attributes\":{},\"id\":\"2968\",\"type\":\"DataRange1d\"},{\"attributes\":{\"bottom_units\":\"screen\",\"coordinates\":null,\"fill_alpha\":0.5,\"fill_color\":\"lightgrey\",\"group\":null,\"left_units\":\"screen\",\"level\":\"overlay\",\"line_alpha\":1.0,\"line_color\":\"black\",\"line_dash\":[4,4],\"line_width\":2,\"right_units\":\"screen\",\"syncable\":false,\"top_units\":\"screen\"},\"id\":\"2988\",\"type\":\"BoxAnnotation\"},{\"attributes\":{\"callback\":null,\"tooltips\":[[\"Prix\",\"@y\"]]},\"id\":\"2989\",\"type\":\"HoverTool\"},{\"attributes\":{},\"id\":\"3011\",\"type\":\"UnionRenderers\"},{\"attributes\":{\"line_color\":\"orange\",\"line_width\":3,\"x\":{\"field\":\"x\"},\"y\":{\"field\":\"y\"}},\"id\":\"2999\",\"type\":\"Line\"},{\"attributes\":{\"axis_label\":\"Prix (En Euro)\",\"coordinates\":null,\"formatter\":{\"id\":\"3006\"},\"group\":null,\"major_label_policy\":{\"id\":\"3007\"},\"ticker\":{\"id\":\"2979\"}},\"id\":\"2978\",\"type\":\"LinearAxis\"},{\"attributes\":{},\"id\":\"3010\",\"type\":\"AllLabels\"},{\"attributes\":{\"coordinates\":null,\"data_source\":{\"id\":\"2998\"},\"glyph\":{\"id\":\"2999\"},\"group\":null,\"hover_glyph\":null,\"muted_glyph\":{\"id\":\"3001\"},\"nonselection_glyph\":{\"id\":\"3000\"},\"view\":{\"id\":\"3003\"}},\"id\":\"3002\",\"type\":\"GlyphRenderer\"},{\"attributes\":{},\"id\":\"3009\",\"type\":\"BasicTickFormatter\"},{\"attributes\":{},\"id\":\"2979\",\"type\":\"BasicTicker\"},{\"attributes\":{\"axis\":{\"id\":\"2978\"},\"coordinates\":null,\"dimension\":1,\"group\":null,\"ticker\":null},\"id\":\"2981\",\"type\":\"Grid\"},{\"attributes\":{\"label\":{\"value\":\"Prix par mois\"},\"renderers\":[{\"id\":\"3002\"}]},\"id\":\"3015\",\"type\":\"LegendItem\"},{\"attributes\":{},\"id\":\"3007\",\"type\":\"AllLabels\"},{\"attributes\":{},\"id\":\"2972\",\"type\":\"LinearScale\"},{\"attributes\":{},\"id\":\"2987\",\"type\":\"HelpTool\"},{\"attributes\":{\"data\":{\"x\":[\"Janvier\",\"F\\u00e9vrier\",\"Mars\",\"Avril\",\"Mai\",\"Juin\",\"Juillet\",\"Aout\",\"Septembre\",\"Octobre\",\"Novembre\",\"Decembre\"],\"y\":{\"__ndarray__\":\"9ihcj8L18D8fhetRuB7xP0jhehSuR/E/mpmZmZmZ8T/sUbgehevxP8P1KFyPwvE/7FG4HoXr8T8UrkfhehTyP5qZmZmZmfE/zczMzMzM8D+kcD0K16PwP6RwPQrXo/A/\",\"dtype\":\"float64\",\"order\":\"little\",\"shape\":[12]}},\"selected\":{\"id\":\"3012\"},\"selection_policy\":{\"id\":\"3011\"}},\"id\":\"2998\",\"type\":\"ColumnDataSource\"},{\"attributes\":{\"logo\":null,\"tools\":[{\"id\":\"2982\"},{\"id\":\"2983\"},{\"id\":\"2984\"},{\"id\":\"2985\"},{\"id\":\"2986\"},{\"id\":\"2987\"},{\"id\":\"2989\"}]},\"id\":\"2990\",\"type\":\"Toolbar\"},{\"attributes\":{},\"id\":\"2985\",\"type\":\"SaveTool\"},{\"attributes\":{\"coordinates\":null,\"group\":null,\"text\":\"Evolution du prix du Gazole sur l'ann\\u00e9e 2006\"},\"id\":\"2964\",\"type\":\"Title\"},{\"attributes\":{},\"id\":\"2970\",\"type\":\"LinearScale\"},{\"attributes\":{},\"id\":\"3006\",\"type\":\"BasicTickFormatter\"},{\"attributes\":{\"axis_label\":\"P\\u00e9riode (En mois)\",\"coordinates\":null,\"formatter\":{\"id\":\"3009\"},\"group\":null,\"major_label_overrides\":{\"1\":\"Janvier\",\"10\":\"Octobre\",\"11\":\"Novembre\",\"12\":\"Decembre\",\"2\":\"F\\u00e9vrier\",\"3\":\"Mars\",\"4\":\"Avril\",\"5\":\"Mai\",\"6\":\"Juin\",\"7\":\"Juillet\",\"8\":\"Aout\",\"9\":\"Septembre\"},\"major_label_policy\":{\"id\":\"3010\"},\"ticker\":{\"id\":\"2975\"}},\"id\":\"2974\",\"type\":\"LinearAxis\"},{\"attributes\":{\"axis\":{\"id\":\"2974\"},\"coordinates\":null,\"group\":null,\"ticker\":null},\"id\":\"2977\",\"type\":\"Grid\"},{\"attributes\":{},\"id\":\"3012\",\"type\":\"Selection\"},{\"attributes\":{},\"id\":\"2966\",\"type\":\"DataRange1d\"},{\"attributes\":{},\"id\":\"2983\",\"type\":\"WheelZoomTool\"},{\"attributes\":{\"line_alpha\":0.2,\"line_color\":\"orange\",\"line_width\":3,\"x\":{\"field\":\"x\"},\"y\":{\"field\":\"y\"}},\"id\":\"3001\",\"type\":\"Line\"},{\"attributes\":{\"overlay\":{\"id\":\"2988\"}},\"id\":\"2984\",\"type\":\"BoxZoomTool\"},{\"attributes\":{},\"id\":\"2986\",\"type\":\"ResetTool\"},{\"attributes\":{\"source\":{\"id\":\"2998\"}},\"id\":\"3003\",\"type\":\"CDSView\"},{\"attributes\":{\"border_line_alpha\":0.8,\"coordinates\":null,\"group\":null,\"items\":[{\"id\":\"3015\"}],\"location\":\"top_left\"},\"id\":\"3014\",\"type\":\"Legend\"},{\"attributes\":{},\"id\":\"2982\",\"type\":\"PanTool\"}],\"root_ids\":[\"2963\"]},\"title\":\"Bokeh Application\",\"version\":\"2.4.1\"}};\n  const render_items = [{\"docid\":\"19239742-997b-424f-868b-8dbda217a990\",\"root_ids\":[\"2963\"],\"roots\":{\"2963\":\"80e59eb5-79dc-4d74-b23a-9c2b97a97d73\"}}];\n  root.Bokeh.embed.embed_items_notebook(docs_json, render_items);\n\n  }\n  if (root.Bokeh !== undefined) {\n    embed_document(root);\n  } else {\n    let attempts = 0;\n    const timer = setInterval(function(root) {\n      if (root.Bokeh !== undefined) {\n        clearInterval(timer);\n        embed_document(root);\n      } else {\n        attempts++;\n        if (attempts > 100) {\n          clearInterval(timer);\n          console.log(\"Bokeh: ERROR: Unable to run BokehJS code because BokehJS library is missing\");\n        }\n      }\n    }, 10, root)\n  }\n})(window);",
          "application/vnd.bokehjs_exec.v0+json": ""
         },
         "metadata": {
          "application/vnd.bokehjs_exec.v0+json": {
           "id": "2963"
          }
         },
         "output_type": "display_data"
        }
       ]
      }
     },
     "a71c9569d12a4c319e2fac42686e3982": {
      "model_module": "@jupyter-widgets/output",
      "model_module_version": "1.0.0",
      "model_name": "OutputModel",
      "state": {
       "layout": "IPY_MODEL_516756e2b9014c2e842a6b7e257b3397",
       "outputs": [
        {
         "data": {
          "text/html": "\n\n\n\n\n\n  <div class=\"bk-root\" id=\"b1af9d98-a890-41b7-bbf7-83eafbd5065c\" data-root-id=\"3999\"></div>\n"
         },
         "metadata": {},
         "output_type": "display_data"
        },
        {
         "data": {
          "application/javascript": "(function(root) {\n  function embed_document(root) {\n    \n  const docs_json = {\"2b7b2d98-ad60-4a47-aac6-ab4d4ba9b5b7\":{\"defs\":[],\"roots\":{\"references\":[{\"attributes\":{\"below\":[{\"id\":\"4010\"}],\"center\":[{\"id\":\"4013\"},{\"id\":\"4017\"},{\"id\":\"4050\"}],\"left\":[{\"id\":\"4014\"}],\"renderers\":[{\"id\":\"4038\"},{\"id\":\"4056\"},{\"id\":\"4075\"},{\"id\":\"4096\"}],\"sizing_mode\":\"stretch_width\",\"title\":{\"id\":\"4000\"},\"toolbar\":{\"id\":\"4026\"},\"x_range\":{\"id\":\"4002\"},\"x_scale\":{\"id\":\"4006\"},\"y_range\":{\"id\":\"4004\"},\"y_scale\":{\"id\":\"4008\"}},\"id\":\"3999\",\"subtype\":\"Figure\",\"type\":\"Plot\"},{\"attributes\":{\"axis_label\":\"Prix (En Euro)\",\"coordinates\":null,\"formatter\":{\"id\":\"4042\"},\"group\":null,\"major_label_policy\":{\"id\":\"4043\"},\"ticker\":{\"id\":\"4015\"}},\"id\":\"4014\",\"type\":\"LinearAxis\"},{\"attributes\":{\"label\":{\"value\":\"Prix par ann\\u00e9es\"},\"renderers\":[{\"id\":\"4056\"}]},\"id\":\"4070\",\"type\":\"LegendItem\"},{\"attributes\":{\"coordinates\":null,\"data_source\":{\"id\":\"4052\"},\"glyph\":{\"id\":\"4053\"},\"group\":null,\"hover_glyph\":null,\"muted_glyph\":{\"id\":\"4055\"},\"nonselection_glyph\":{\"id\":\"4054\"},\"view\":{\"id\":\"4057\"}},\"id\":\"4056\",\"type\":\"GlyphRenderer\"},{\"attributes\":{\"source\":{\"id\":\"4034\"}},\"id\":\"4039\",\"type\":\"CDSView\"},{\"attributes\":{},\"id\":\"4008\",\"type\":\"LinearScale\"},{\"attributes\":{},\"id\":\"4011\",\"type\":\"BasicTicker\"},{\"attributes\":{},\"id\":\"4022\",\"type\":\"ResetTool\"},{\"attributes\":{},\"id\":\"4004\",\"type\":\"DataRange1d\"},{\"attributes\":{\"axis\":{\"id\":\"4010\"},\"coordinates\":null,\"group\":null,\"ticker\":null},\"id\":\"4013\",\"type\":\"Grid\"},{\"attributes\":{\"line_color\":\"orange\",\"line_width\":4,\"x\":{\"field\":\"x\"},\"y\":{\"field\":\"y\"}},\"id\":\"4053\",\"type\":\"Line\"},{\"attributes\":{\"label\":{\"value\":\"Prix par mois\"},\"renderers\":[{\"id\":\"4038\"}]},\"id\":\"4051\",\"type\":\"LegendItem\"},{\"attributes\":{\"coordinates\":null,\"data_source\":{\"id\":\"4034\"},\"glyph\":{\"id\":\"4035\"},\"group\":null,\"hover_glyph\":null,\"muted_glyph\":{\"id\":\"4037\"},\"nonselection_glyph\":{\"id\":\"4036\"},\"view\":{\"id\":\"4039\"}},\"id\":\"4038\",\"type\":\"GlyphRenderer\"},{\"attributes\":{\"data\":{\"x\":[\"1992\",\"1992\",\"1992\",\"1992\",\"1992\",\"1992\",\"1992\",\"1992\",\"1992\",\"1992\",\"1992\",\"1992\",\"1993\",\"1993\",\"1993\",\"1993\",\"1993\",\"1993\",\"1993\",\"1993\",\"1993\",\"1993\",\"1993\",\"1993\",\"1994\",\"1994\",\"1994\",\"1994\",\"1994\",\"1994\",\"1994\",\"1994\",\"1994\",\"1994\",\"1994\",\"1994\",\"1995\",\"1995\",\"1995\",\"1995\",\"1995\",\"1995\",\"1995\",\"1995\",\"1995\",\"1995\",\"1995\",\"1995\",\"1996\",\"1996\",\"1996\",\"1996\",\"1996\",\"1996\",\"1996\",\"1996\",\"1996\",\"1996\",\"1996\",\"1996\",\"1997\",\"1997\",\"1997\",\"1997\",\"1997\",\"1997\",\"1997\",\"1997\",\"1997\",\"1997\",\"1997\",\"1997\",\"1998\",\"1998\",\"1998\",\"1998\",\"1998\",\"1998\",\"1998\",\"1998\",\"1998\",\"1998\",\"1998\",\"1998\",\"1999\",\"1999\",\"1999\",\"1999\",\"1999\",\"1999\",\"1999\",\"1999\",\"1999\",\"1999\",\"1999\",\"1999\",\"2000\",\"2000\",\"2000\",\"2000\",\"2000\",\"2000\",\"2000\",\"2000\",\"2000\",\"2000\",\"2000\",\"2000\",\"2001\",\"2001\",\"2001\",\"2001\",\"2001\",\"2001\",\"2001\",\"2001\",\"2001\",\"2001\",\"2001\",\"2001\",\"2002\",\"2002\",\"2002\",\"2002\",\"2002\",\"2002\",\"2002\",\"2002\",\"2002\",\"2002\",\"2002\",\"2002\",\"2003\",\"2003\",\"2003\",\"2003\",\"2003\",\"2003\",\"2003\",\"2003\",\"2003\",\"2003\",\"2003\",\"2003\",\"2004\",\"2004\",\"2004\",\"2004\",\"2004\",\"2004\",\"2004\",\"2004\",\"2004\",\"2004\",\"2004\",\"2004\",\"2005\",\"2005\",\"2005\",\"2005\",\"2005\",\"2005\",\"2005\",\"2005\",\"2005\",\"2005\",\"2005\",\"2005\",\"2006\",\"2006\",\"2006\",\"2006\",\"2006\",\"2006\",\"2006\",\"2006\",\"2006\",\"2006\",\"2006\",\"2006\",\"2007\",\"2007\",\"2007\",\"2007\",\"2007\",\"2007\",\"2007\",\"2007\",\"2007\",\"2007\",\"2007\",\"2007\",\"2008\",\"2008\",\"2008\",\"2008\",\"2008\",\"2008\",\"2008\",\"2008\",\"2008\",\"2008\",\"2008\",\"2008\",\"2009\",\"2009\",\"2009\",\"2009\",\"2009\",\"2009\",\"2009\",\"2009\",\"2009\",\"2009\",\"2009\",\"2009\",\"2010\",\"2010\",\"2010\",\"2010\",\"2010\",\"2010\",\"2010\",\"2010\",\"2010\",\"2010\",\"2010\",\"2010\",\"2011\",\"2011\",\"2011\",\"2011\",\"2011\",\"2011\",\"2011\",\"2011\",\"2011\",\"2011\",\"2011\",\"2011\",\"2012\",\"2012\",\"2012\",\"2012\",\"2012\",\"2012\",\"2012\",\"2012\",\"2012\",\"2012\",\"2012\",\"2012\",\"2013\",\"2013\",\"2013\",\"2013\",\"2013\",\"2013\",\"2013\",\"2013\",\"2013\",\"2013\",\"2013\",\"2013\",\"2014\",\"2014\",\"2014\",\"2014\",\"2014\",\"2014\",\"2014\",\"2014\",\"2014\",\"2014\",\"2014\",\"2014\",\"2015\",\"2015\",\"2015\",\"2015\",\"2015\",\"2015\",\"2015\",\"2015\",\"2015\",\"2015\",\"2015\",\"2015\",\"2016\",\"2016\",\"2016\",\"2016\",\"2016\",\"2016\",\"2016\",\"2016\",\"2016\",\"2016\",\"2016\",\"2016\",\"2017\",\"2017\",\"2017\",\"2017\",\"2017\",\"2017\",\"2017\",\"2017\",\"2017\",\"2017\",\"2017\",\"2017\",\"2018\",\"2018\",\"2018\",\"2018\",\"2018\",\"2018\",\"2018\",\"2018\",\"2018\",\"2018\",\"2018\",\"2018\",\"2019\",\"2019\",\"2019\",\"2019\",\"2019\",\"2019\",\"2019\",\"2019\",\"2019\",\"2019\",\"2019\",\"2019\",\"2020\",\"2020\",\"2020\",\"2020\",\"2020\",\"2020\",\"2020\",\"2020\",\"2020\",\"2020\",\"2020\",\"2020\",\"2021\",\"2021\",\"2021\",\"2021\",\"2021\",\"2021\",\"2021\",\"2021\",\"2021\",\"2021\",\"2021\",\"2021\",\"2022\",\"2022\"],\"y\":[0.54,0.54,0.54,0.53,0.54,0.54,0.54,0.54,0.53,0.53,0.54,0.54,0.53,0.54,0.54,0.55,0.55,0.54,0.54,0.56,0.59,0.6,0.6,0.59,0.6,0.6,0.6,0.6,0.6,0.6,0.59,0.59,0.59,0.59,0.59,0.59,0.59,0.59,0.59,0.59,0.59,0.59,0.59,0.59,0.6,0.6,0.6,0.6,0.62,0.63,0.65,0.66,0.65,0.64,0.64,0.64,0.66,0.7,0.7,0.7,0.71,0.7,0.69,0.68,0.68,0.67,0.67,0.68,0.67,0.68,0.69,0.68,0.68,0.67,0.66,0.66,0.65,0.64,0.64,0.63,0.63,0.63,0.63,0.62,0.63,0.63,0.64,0.67,0.67,0.67,0.68,0.7,0.71,0.72,0.73,0.78,0.81,0.81,0.82,0.8,0.81,0.82,0.83,0.84,0.93,0.9,0.91,0.89,0.81,0.8,0.8,0.8,0.82,0.82,0.82,0.8,0.8,0.79,0.78,0.75,0.74,0.74,0.75,0.78,0.77,0.76,0.75,0.77,0.79,0.81,0.79,0.79,0.82,0.84,0.89,0.82,0.77,0.76,0.76,0.77,0.77,0.78,0.79,0.79,0.81,0.81,0.83,0.84,0.88,0.86,0.87,0.91,0.92,0.96,0.97,0.97,0.93,0.94,0.99,1.02,0.99,1.02,1.06,1.07,1.1,1.12,1.07,1.04,1.06,1.07,1.08,1.1,1.12,1.11,1.12,1.13,1.1,1.05,1.04,1.04,1.02,1.02,1.04,1.07,1.07,1.08,1.1,1.1,1.11,1.12,1.2,1.22,1.21,1.2,1.26,1.29,1.37,1.46,1.45,1.36,1.33,1.26,1.15,1.05,0.99,0.99,0.95,0.98,0.98,1.02,1.01,1.04,1.02,1.02,1.05,1.05,1.09,1.09,1.13,1.16,1.18,1.17,1.16,1.15,1.16,1.17,1.19,1.22,1.29,1.31,1.37,1.38,1.34,1.33,1.33,1.33,1.34,1.35,1.39,1.38,1.42,1.43,1.46,1.45,1.42,1.37,1.36,1.44,1.42,1.4,1.38,1.38,1.39,1.41,1.41,1.38,1.34,1.34,1.35,1.36,1.38,1.34,1.33,1.34,1.34,1.34,1.33,1.32,1.32,1.32,1.32,1.31,1.3,1.28,1.25,1.19,1.13,1.19,1.22,1.22,1.24,1.23,1.2,1.14,1.12,1.12,1.11,1.08,1.03,1.03,1.06,1.07,1.12,1.17,1.14,1.11,1.12,1.15,1.16,1.18,1.27,1.27,1.25,1.24,1.21,1.18,1.17,1.2,1.22,1.24,1.27,1.28,1.39,1.38,1.37,1.4,1.45,1.46,1.45,1.45,1.48,1.52,1.48,1.42,1.4,1.44,1.46,1.47,1.49,1.43,1.42,1.42,1.44,1.44,1.44,1.47,1.49,1.42,1.32,1.23,1.18,1.22,1.25,1.25,1.22,1.21,1.22,1.27,1.31,1.36,1.4,1.39,1.4,1.43,1.45,1.45,1.46,1.56,1.57,1.54,1.63,1.72]},\"selected\":{\"id\":\"4048\"},\"selection_policy\":{\"id\":\"4047\"}},\"id\":\"4034\",\"type\":\"ColumnDataSource\"},{\"attributes\":{\"callback\":null,\"tooltips\":[[\"Ann\\u00e9e \",\"@x\"],[\"Prix \",\"@y\"]]},\"id\":\"4025\",\"type\":\"HoverTool\"},{\"attributes\":{},\"id\":\"4023\",\"type\":\"HelpTool\"},{\"attributes\":{},\"id\":\"4006\",\"type\":\"LinearScale\"},{\"attributes\":{\"fill_alpha\":{\"value\":0.5},\"fill_color\":{\"value\":\"red\"},\"hatch_color\":{\"value\":\"red\"},\"line_color\":{\"value\":\"red\"},\"size\":{\"value\":10},\"x\":{\"field\":\"x\"},\"y\":{\"field\":\"y\"}},\"id\":\"4072\",\"type\":\"Circle\"},{\"attributes\":{},\"id\":\"4046\",\"type\":\"AllLabels\"},{\"attributes\":{\"overlay\":{\"id\":\"4024\"}},\"id\":\"4020\",\"type\":\"BoxZoomTool\"},{\"attributes\":{},\"id\":\"4002\",\"type\":\"DataRange1d\"},{\"attributes\":{\"data\":{\"x\":[\"1992\",\"1993\",\"1994\",\"1995\",\"1996\",\"1997\",\"1998\",\"1999\",\"2000\",\"2001\",\"2002\",\"2003\",\"2004\",\"2005\",\"2006\",\"2007\",\"2008\",\"2009\",\"2010\",\"2011\",\"2012\",\"2013\",\"2014\",\"2015\",\"2016\",\"2017\",\"2018\",\"2019\",\"2020\",\"2021\",\"2022\"],\"y\":{\"__ndarray__\":\"NDMzMzMz4T/xiyW/WPLhPwrXo3A9CuM/+2LJL5b84j8L16NwPQrlP93d3d3d3eU/pHA9Ctej5D/xiyW/WPLlPyCF61G4Hus/k18s+cWS6T+jcD0K16PoP32x5BdLfuk/W/KLJb9Y7D94d3d3d3fwP1yPwvUoXPE/iYiIiIiI8T+F61G4HoX0PyMiIiIiIvA/frHkF0t+8j+F61G4HoX1P5NfLPnFkvY/1AY6baDT9T/UBjptoNP0P6uqqqqqqvI/yi+W/GLJ8T+7u7u7u7vzPwAAAAAAAPc/F0t+seQX9z9fLPnFkl/0PxhLfrHkF/c/zMzMzMzM+j8=\",\"dtype\":\"float64\",\"order\":\"little\",\"shape\":[31]}},\"selected\":{\"id\":\"4068\"},\"selection_policy\":{\"id\":\"4067\"}},\"id\":\"4052\",\"type\":\"ColumnDataSource\"},{\"attributes\":{\"data\":{\"x\":[\"2008\",\"2009\",\"2011\",\"2018\",\"2020\",\"2021\"],\"y\":{\"__ndarray__\":\"hetRuB6F9D8jIiIiIiLwP4XrUbgehfU/AAAAAAAA9z9fLPnFkl/0PxhLfrHkF/c/\",\"dtype\":\"float64\",\"order\":\"little\",\"shape\":[6]}},\"selected\":{\"id\":\"4089\"},\"selection_policy\":{\"id\":\"4088\"}},\"id\":\"4071\",\"type\":\"ColumnDataSource\"},{\"attributes\":{\"source\":{\"id\":\"4092\"}},\"id\":\"4097\",\"type\":\"CDSView\"},{\"attributes\":{},\"id\":\"4018\",\"type\":\"PanTool\"},{\"attributes\":{},\"id\":\"4112\",\"type\":\"Selection\"},{\"attributes\":{\"line_color\":\"grey\",\"line_dash\":[5,5],\"x\":{\"field\":\"x\"},\"y\":{\"field\":\"y\"}},\"id\":\"4035\",\"type\":\"Line\"},{\"attributes\":{\"border_line_alpha\":0.8,\"click_policy\":\"hide\",\"coordinates\":null,\"group\":null,\"items\":[{\"id\":\"4051\"},{\"id\":\"4070\"},{\"id\":\"4091\"},{\"id\":\"4114\"}],\"label_text_font_style\":\"italic\",\"location\":\"top_left\"},\"id\":\"4050\",\"type\":\"Legend\"},{\"attributes\":{},\"id\":\"4019\",\"type\":\"WheelZoomTool\"},{\"attributes\":{},\"id\":\"4088\",\"type\":\"UnionRenderers\"},{\"attributes\":{\"line_alpha\":0.2,\"line_color\":\"darkred\",\"x\":{\"field\":\"x\"},\"y\":{\"field\":\"y\"}},\"id\":\"4095\",\"type\":\"Line\"},{\"attributes\":{\"coordinates\":null,\"group\":null,\"text\":\"Evolution du prix du Gazole\"},\"id\":\"4000\",\"type\":\"Title\"},{\"attributes\":{\"fill_alpha\":{\"value\":0.2},\"fill_color\":{\"value\":\"red\"},\"hatch_alpha\":{\"value\":0.2},\"hatch_color\":{\"value\":\"red\"},\"line_alpha\":{\"value\":0.2},\"line_color\":{\"value\":\"red\"},\"size\":{\"value\":10},\"x\":{\"field\":\"x\"},\"y\":{\"field\":\"y\"}},\"id\":\"4074\",\"type\":\"Circle\"},{\"attributes\":{\"line_alpha\":0.1,\"line_color\":\"darkred\",\"x\":{\"field\":\"x\"},\"y\":{\"field\":\"y\"}},\"id\":\"4094\",\"type\":\"Line\"},{\"attributes\":{\"coordinates\":null,\"data_source\":{\"id\":\"4071\"},\"glyph\":{\"id\":\"4072\"},\"group\":null,\"hover_glyph\":null,\"muted_glyph\":{\"id\":\"4074\"},\"nonselection_glyph\":{\"id\":\"4073\"},\"view\":{\"id\":\"4076\"}},\"id\":\"4075\",\"type\":\"GlyphRenderer\"},{\"attributes\":{\"label\":{\"value\":\"R\\u00e9gression Lin\\u00e9aire\"},\"renderers\":[{\"id\":\"4096\"}]},\"id\":\"4114\",\"type\":\"LegendItem\"},{\"attributes\":{\"label\":{\"value\":\"Forte \\u00e9volution\"},\"renderers\":[{\"id\":\"4075\"}]},\"id\":\"4091\",\"type\":\"LegendItem\"},{\"attributes\":{\"fill_alpha\":{\"value\":0.1},\"fill_color\":{\"value\":\"red\"},\"hatch_alpha\":{\"value\":0.1},\"hatch_color\":{\"value\":\"red\"},\"line_alpha\":{\"value\":0.1},\"line_color\":{\"value\":\"red\"},\"size\":{\"value\":10},\"x\":{\"field\":\"x\"},\"y\":{\"field\":\"y\"}},\"id\":\"4073\",\"type\":\"Circle\"},{\"attributes\":{},\"id\":\"4043\",\"type\":\"AllLabels\"},{\"attributes\":{},\"id\":\"4111\",\"type\":\"UnionRenderers\"},{\"attributes\":{\"source\":{\"id\":\"4071\"}},\"id\":\"4076\",\"type\":\"CDSView\"},{\"attributes\":{\"line_alpha\":0.1,\"line_color\":\"grey\",\"line_dash\":[5,5],\"x\":{\"field\":\"x\"},\"y\":{\"field\":\"y\"}},\"id\":\"4036\",\"type\":\"Line\"},{\"attributes\":{\"source\":{\"id\":\"4052\"}},\"id\":\"4057\",\"type\":\"CDSView\"},{\"attributes\":{},\"id\":\"4042\",\"type\":\"BasicTickFormatter\"},{\"attributes\":{},\"id\":\"4015\",\"type\":\"BasicTicker\"},{\"attributes\":{\"line_alpha\":0.2,\"line_color\":\"orange\",\"line_width\":4,\"x\":{\"field\":\"x\"},\"y\":{\"field\":\"y\"}},\"id\":\"4055\",\"type\":\"Line\"},{\"attributes\":{},\"id\":\"4021\",\"type\":\"SaveTool\"},{\"attributes\":{\"axis_label\":\"P\\u00e9riode (En ann\\u00e9e)\",\"coordinates\":null,\"formatter\":{\"id\":\"4045\"},\"group\":null,\"major_label_policy\":{\"id\":\"4046\"},\"ticker\":{\"id\":\"4011\"}},\"id\":\"4010\",\"type\":\"LinearAxis\"},{\"attributes\":{\"line_alpha\":0.1,\"line_color\":\"orange\",\"line_width\":4,\"x\":{\"field\":\"x\"},\"y\":{\"field\":\"y\"}},\"id\":\"4054\",\"type\":\"Line\"},{\"attributes\":{},\"id\":\"4045\",\"type\":\"BasicTickFormatter\"},{\"attributes\":{},\"id\":\"4068\",\"type\":\"Selection\"},{\"attributes\":{\"line_color\":\"darkred\",\"x\":{\"field\":\"x\"},\"y\":{\"field\":\"y\"}},\"id\":\"4093\",\"type\":\"Line\"},{\"attributes\":{},\"id\":\"4089\",\"type\":\"Selection\"},{\"attributes\":{\"bottom_units\":\"screen\",\"coordinates\":null,\"fill_alpha\":0.5,\"fill_color\":\"lightgrey\",\"group\":null,\"left_units\":\"screen\",\"level\":\"overlay\",\"line_alpha\":1.0,\"line_color\":\"black\",\"line_dash\":[4,4],\"line_width\":2,\"right_units\":\"screen\",\"syncable\":false,\"top_units\":\"screen\"},\"id\":\"4024\",\"type\":\"BoxAnnotation\"},{\"attributes\":{\"logo\":null,\"tools\":[{\"id\":\"4018\"},{\"id\":\"4019\"},{\"id\":\"4020\"},{\"id\":\"4021\"},{\"id\":\"4022\"},{\"id\":\"4023\"},{\"id\":\"4025\"}]},\"id\":\"4026\",\"type\":\"Toolbar\"},{\"attributes\":{\"line_alpha\":0.2,\"line_color\":\"grey\",\"line_dash\":[5,5],\"x\":{\"field\":\"x\"},\"y\":{\"field\":\"y\"}},\"id\":\"4037\",\"type\":\"Line\"},{\"attributes\":{},\"id\":\"4047\",\"type\":\"UnionRenderers\"},{\"attributes\":{},\"id\":\"4067\",\"type\":\"UnionRenderers\"},{\"attributes\":{\"axis\":{\"id\":\"4014\"},\"coordinates\":null,\"dimension\":1,\"group\":null,\"ticker\":null},\"id\":\"4017\",\"type\":\"Grid\"},{\"attributes\":{\"coordinates\":null,\"data_source\":{\"id\":\"4092\"},\"glyph\":{\"id\":\"4093\"},\"group\":null,\"hover_glyph\":null,\"muted_glyph\":{\"id\":\"4095\"},\"nonselection_glyph\":{\"id\":\"4094\"},\"view\":{\"id\":\"4097\"}},\"id\":\"4096\",\"type\":\"GlyphRenderer\"},{\"attributes\":{\"data\":{\"x\":{\"__ndarray__\":\"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\",\"dtype\":\"float64\",\"order\":\"little\",\"shape\":[362]},\"y\":{\"__ndarray__\":\"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\",\"dtype\":\"float64\",\"order\":\"little\",\"shape\":[362]}},\"selected\":{\"id\":\"4112\"},\"selection_policy\":{\"id\":\"4111\"}},\"id\":\"4092\",\"type\":\"ColumnDataSource\"},{\"attributes\":{},\"id\":\"4048\",\"type\":\"Selection\"}],\"root_ids\":[\"3999\"]},\"title\":\"Bokeh Application\",\"version\":\"2.4.1\"}};\n  const render_items = [{\"docid\":\"2b7b2d98-ad60-4a47-aac6-ab4d4ba9b5b7\",\"root_ids\":[\"3999\"],\"roots\":{\"3999\":\"b1af9d98-a890-41b7-bbf7-83eafbd5065c\"}}];\n  root.Bokeh.embed.embed_items_notebook(docs_json, render_items);\n\n  }\n  if (root.Bokeh !== undefined) {\n    embed_document(root);\n  } else {\n    let attempts = 0;\n    const timer = setInterval(function(root) {\n      if (root.Bokeh !== undefined) {\n        clearInterval(timer);\n        embed_document(root);\n      } else {\n        attempts++;\n        if (attempts > 100) {\n          clearInterval(timer);\n          console.log(\"Bokeh: ERROR: Unable to run BokehJS code because BokehJS library is missing\");\n        }\n      }\n    }, 10, root)\n  }\n})(window);",
          "application/vnd.bokehjs_exec.v0+json": ""
         },
         "metadata": {
          "application/vnd.bokehjs_exec.v0+json": {
           "id": "3999"
          }
         },
         "output_type": "display_data"
        }
       ]
      }
     },
     "a78160f5a0a34c299626d30e7f359530": {
      "model_module": "@jupyter-widgets/base",
      "model_module_version": "1.2.0",
      "model_name": "LayoutModel",
      "state": {}
     },
     "a7870ecc92704978a97180cdf8771a87": {
      "model_module": "@jupyter-widgets/controls",
      "model_module_version": "1.5.0",
      "model_name": "DropdownModel",
      "state": {
       "_options_labels": [
        "Graph",
        "1992",
        "1993",
        "1994",
        "1995",
        "1996",
        "1997",
        "1998",
        "1999",
        "2000",
        "2001",
        "2002",
        "2003",
        "2004",
        "2005",
        "2006",
        "2007",
        "2008",
        "2009",
        "2010",
        "2011",
        "2012",
        "2013",
        "2014",
        "2015",
        "2016",
        "2017",
        "2018",
        "2019",
        "2020",
        "2021",
        "2022"
       ],
       "description": "Choisi",
       "index": 9,
       "layout": "IPY_MODEL_3fa612d6093b42a480ac17c264711cb4",
       "style": "IPY_MODEL_b8c0ed4629354085a946cfc1b6cc85ae"
      }
     },
     "a7e2ab0609a54b9184858048ead23fc5": {
      "model_module": "@jupyter-widgets/base",
      "model_module_version": "1.2.0",
      "model_name": "LayoutModel",
      "state": {}
     },
     "a8901d89467448a58d9e1ffd1bece768": {
      "model_module": "@jupyter-widgets/base",
      "model_module_version": "1.2.0",
      "model_name": "LayoutModel",
      "state": {}
     },
     "a91d5c8b930c4e789b2d61ff165fa072": {
      "model_module": "@jupyter-widgets/base",
      "model_module_version": "1.2.0",
      "model_name": "LayoutModel",
      "state": {}
     },
     "a927acec72174488945587fbb1d73ea2": {
      "model_module": "@jupyter-widgets/base",
      "model_module_version": "1.2.0",
      "model_name": "LayoutModel",
      "state": {}
     },
     "aae678f84c54481d86fb506e06d7d204": {
      "model_module": "@jupyter-widgets/controls",
      "model_module_version": "1.5.0",
      "model_name": "DropdownModel",
      "state": {
       "_options_labels": [
        "Graph",
        "1992",
        "1993",
        "1994",
        "1995",
        "1996",
        "1997",
        "1998",
        "1999",
        "2000",
        "2001",
        "2002",
        "2003",
        "2004",
        "2005",
        "2006",
        "2007",
        "2008",
        "2009",
        "2010",
        "2011",
        "2012",
        "2013",
        "2014",
        "2015",
        "2016",
        "2017",
        "2018",
        "2019",
        "2020",
        "2021",
        "2022"
       ],
       "description": "Choisi",
       "index": 14,
       "layout": "IPY_MODEL_8773a3b123f342a79e69703a5d1929b9",
       "style": "IPY_MODEL_3d89f01f73f34618b72020ec31bd9cc9"
      }
     },
     "abb19213cfe2447e8337ece99e0c3ba8": {
      "model_module": "@jupyter-widgets/controls",
      "model_module_version": "1.5.0",
      "model_name": "VBoxModel",
      "state": {
       "_dom_classes": [
        "widget-interact"
       ],
       "children": [
        "IPY_MODEL_e637ed3082694612b37de89a94347991",
        "IPY_MODEL_8d4405167890464782e64483954230d4"
       ],
       "layout": "IPY_MODEL_722574a87818461c91099551e3c18cd9"
      }
     },
     "acbdcec4a49d4e349fc55d1c30beb89c": {
      "model_module": "@jupyter-widgets/controls",
      "model_module_version": "1.5.0",
      "model_name": "DescriptionStyleModel",
      "state": {
       "description_width": ""
      }
     },
     "b21950559cca4234a7118a8cc6d7f600": {
      "model_module": "@jupyter-widgets/controls",
      "model_module_version": "1.5.0",
      "model_name": "DescriptionStyleModel",
      "state": {
       "description_width": ""
      }
     },
     "b2df056487574dc4a95c833cbf1a4d51": {
      "model_module": "@jupyter-widgets/base",
      "model_module_version": "1.2.0",
      "model_name": "LayoutModel",
      "state": {}
     },
     "b333d23ad37c406f8ce681e81bbfb1ad": {
      "model_module": "@jupyter-widgets/base",
      "model_module_version": "1.2.0",
      "model_name": "LayoutModel",
      "state": {}
     },
     "b448194fb02f4c40b833598be31743dc": {
      "model_module": "@jupyter-widgets/base",
      "model_module_version": "1.2.0",
      "model_name": "LayoutModel",
      "state": {}
     },
     "b44a9e5fb90c4a3f82903991e798af7c": {
      "model_module": "@jupyter-widgets/output",
      "model_module_version": "1.0.0",
      "model_name": "OutputModel",
      "state": {
       "layout": "IPY_MODEL_1891e7584550437da257212e2d7d063a",
       "outputs": [
        {
         "data": {
          "text/html": "\n\n\n\n\n\n  <div class=\"bk-root\" id=\"b14443dd-d625-48c2-9358-a21465d7483b\" data-root-id=\"5473\"></div>\n"
         },
         "metadata": {},
         "output_type": "display_data"
        },
        {
         "data": {
          "application/javascript": "(function(root) {\n  function embed_document(root) {\n    \n  const docs_json = {\"7cae9bec-9269-4aaa-8c13-bc6b1a507731\":{\"defs\":[],\"roots\":{\"references\":[{\"attributes\":{\"below\":[{\"id\":\"5484\"}],\"center\":[{\"id\":\"5486\"},{\"id\":\"5490\"},{\"id\":\"5523\"}],\"left\":[{\"id\":\"5487\"}],\"renderers\":[{\"id\":\"5511\"}],\"sizing_mode\":\"stretch_width\",\"title\":{\"id\":\"5474\"},\"toolbar\":{\"id\":\"5499\"},\"x_range\":{\"id\":\"5476\"},\"x_scale\":{\"id\":\"5480\"},\"y_range\":{\"id\":\"5478\"},\"y_scale\":{\"id\":\"5482\"}},\"id\":\"5473\",\"subtype\":\"Figure\",\"type\":\"Plot\"},{\"attributes\":{\"data\":{\"x\":[\"Janvier\",\"F\\u00e9vrier\",\"Mars\",\"Avril\",\"Mai\",\"Juin\",\"Juillet\",\"Ao\\u00fbt\",\"Septembre\",\"Octobre\",\"Novembre\",\"D\\u00e9cembre\"],\"y\":{\"__ndarray__\":\"FK5H4XoU+j+F61G4HoX7PwAAAAAAAPh/AAAAAAAA+H8AAAAAAAD4fwAAAAAAAPh/AAAAAAAA+H8AAAAAAAD4fwAAAAAAAPh/AAAAAAAA+H8AAAAAAAD4fwAAAAAAAPh/\",\"dtype\":\"float64\",\"order\":\"little\",\"shape\":[12]}},\"selected\":{\"id\":\"5521\"},\"selection_policy\":{\"id\":\"5520\"}},\"id\":\"5507\",\"type\":\"ColumnDataSource\"},{\"attributes\":{\"coordinates\":null,\"data_source\":{\"id\":\"5507\"},\"glyph\":{\"id\":\"5508\"},\"group\":null,\"hover_glyph\":null,\"muted_glyph\":{\"id\":\"5510\"},\"nonselection_glyph\":{\"id\":\"5509\"},\"view\":{\"id\":\"5512\"}},\"id\":\"5511\",\"type\":\"GlyphRenderer\"},{\"attributes\":{},\"id\":\"5480\",\"type\":\"CategoricalScale\"},{\"attributes\":{\"axis\":{\"id\":\"5484\"},\"coordinates\":null,\"group\":null,\"ticker\":null},\"id\":\"5486\",\"type\":\"Grid\"},{\"attributes\":{},\"id\":\"5482\",\"type\":\"LinearScale\"},{\"attributes\":{\"coordinates\":null,\"group\":null,\"text\":\"Evolution du prix du Gazole sur l'ann\\u00e9e 2022\"},\"id\":\"5474\",\"type\":\"Title\"},{\"attributes\":{},\"id\":\"5521\",\"type\":\"Selection\"},{\"attributes\":{\"line_alpha\":0.2,\"line_color\":\"orange\",\"line_width\":3,\"x\":{\"field\":\"x\"},\"y\":{\"field\":\"y\"}},\"id\":\"5510\",\"type\":\"Line\"},{\"attributes\":{},\"id\":\"5492\",\"type\":\"WheelZoomTool\"},{\"attributes\":{},\"id\":\"5516\",\"type\":\"AllLabels\"},{\"attributes\":{},\"id\":\"5478\",\"type\":\"DataRange1d\"},{\"attributes\":{\"callback\":null,\"tooltips\":[[\"Prix \",\"@y\"],[\"Mois \",\"@x\"]]},\"id\":\"5498\",\"type\":\"HoverTool\"},{\"attributes\":{\"line_alpha\":0.1,\"line_color\":\"orange\",\"line_width\":3,\"x\":{\"field\":\"x\"},\"y\":{\"field\":\"y\"}},\"id\":\"5509\",\"type\":\"Line\"},{\"attributes\":{},\"id\":\"5485\",\"type\":\"CategoricalTicker\"},{\"attributes\":{},\"id\":\"5518\",\"type\":\"CategoricalTickFormatter\"},{\"attributes\":{\"label\":{\"value\":\"Prix par mois\"},\"renderers\":[{\"id\":\"5511\"}]},\"id\":\"5524\",\"type\":\"LegendItem\"},{\"attributes\":{\"bottom_units\":\"screen\",\"coordinates\":null,\"fill_alpha\":0.5,\"fill_color\":\"lightgrey\",\"group\":null,\"left_units\":\"screen\",\"level\":\"overlay\",\"line_alpha\":1.0,\"line_color\":\"black\",\"line_dash\":[4,4],\"line_width\":2,\"right_units\":\"screen\",\"syncable\":false,\"top_units\":\"screen\"},\"id\":\"5497\",\"type\":\"BoxAnnotation\"},{\"attributes\":{},\"id\":\"5519\",\"type\":\"AllLabels\"},{\"attributes\":{\"logo\":null,\"tools\":[{\"id\":\"5491\"},{\"id\":\"5492\"},{\"id\":\"5493\"},{\"id\":\"5494\"},{\"id\":\"5495\"},{\"id\":\"5496\"},{\"id\":\"5498\"}]},\"id\":\"5499\",\"type\":\"Toolbar\"},{\"attributes\":{},\"id\":\"5495\",\"type\":\"ResetTool\"},{\"attributes\":{\"source\":{\"id\":\"5507\"}},\"id\":\"5512\",\"type\":\"CDSView\"},{\"attributes\":{\"axis_label\":\"P\\u00e9riode (En mois)\",\"coordinates\":null,\"formatter\":{\"id\":\"5518\"},\"group\":null,\"major_label_policy\":{\"id\":\"5519\"},\"ticker\":{\"id\":\"5485\"}},\"id\":\"5484\",\"type\":\"CategoricalAxis\"},{\"attributes\":{\"overlay\":{\"id\":\"5497\"}},\"id\":\"5493\",\"type\":\"BoxZoomTool\"},{\"attributes\":{},\"id\":\"5491\",\"type\":\"PanTool\"},{\"attributes\":{\"border_line_alpha\":0.8,\"coordinates\":null,\"group\":null,\"items\":[{\"id\":\"5524\"}],\"label_text_font_style\":\"italic\",\"location\":\"top_left\"},\"id\":\"5523\",\"type\":\"Legend\"},{\"attributes\":{},\"id\":\"5494\",\"type\":\"SaveTool\"},{\"attributes\":{},\"id\":\"5520\",\"type\":\"UnionRenderers\"},{\"attributes\":{\"line_color\":\"orange\",\"line_width\":3,\"x\":{\"field\":\"x\"},\"y\":{\"field\":\"y\"}},\"id\":\"5508\",\"type\":\"Line\"},{\"attributes\":{},\"id\":\"5496\",\"type\":\"HelpTool\"},{\"attributes\":{},\"id\":\"5515\",\"type\":\"BasicTickFormatter\"},{\"attributes\":{\"axis_label\":\"Prix (En Euro)\",\"coordinates\":null,\"formatter\":{\"id\":\"5515\"},\"group\":null,\"major_label_policy\":{\"id\":\"5516\"},\"ticker\":{\"id\":\"5488\"}},\"id\":\"5487\",\"type\":\"LinearAxis\"},{\"attributes\":{},\"id\":\"5488\",\"type\":\"BasicTicker\"},{\"attributes\":{\"axis\":{\"id\":\"5487\"},\"coordinates\":null,\"dimension\":1,\"group\":null,\"ticker\":null},\"id\":\"5490\",\"type\":\"Grid\"},{\"attributes\":{\"factors\":[\"Janvier\",\"F\\u00e9vrier\",\"Mars\",\"Avril\",\"Mai\",\"Juin\",\"Juillet\",\"Ao\\u00fbt\",\"Septembre\",\"Octobre\",\"Novembre\",\"D\\u00e9cembre\"]},\"id\":\"5476\",\"type\":\"FactorRange\"}],\"root_ids\":[\"5473\"]},\"title\":\"Bokeh Application\",\"version\":\"2.4.1\"}};\n  const render_items = [{\"docid\":\"7cae9bec-9269-4aaa-8c13-bc6b1a507731\",\"root_ids\":[\"5473\"],\"roots\":{\"5473\":\"b14443dd-d625-48c2-9358-a21465d7483b\"}}];\n  root.Bokeh.embed.embed_items_notebook(docs_json, render_items);\n\n  }\n  if (root.Bokeh !== undefined) {\n    embed_document(root);\n  } else {\n    let attempts = 0;\n    const timer = setInterval(function(root) {\n      if (root.Bokeh !== undefined) {\n        clearInterval(timer);\n        embed_document(root);\n      } else {\n        attempts++;\n        if (attempts > 100) {\n          clearInterval(timer);\n          console.log(\"Bokeh: ERROR: Unable to run BokehJS code because BokehJS library is missing\");\n        }\n      }\n    }, 10, root)\n  }\n})(window);",
          "application/vnd.bokehjs_exec.v0+json": ""
         },
         "metadata": {
          "application/vnd.bokehjs_exec.v0+json": {
           "id": "5473"
          }
         },
         "output_type": "display_data"
        }
       ]
      }
     },
     "b48b18967b9946e4a2129a04575fe4cd": {
      "model_module": "@jupyter-widgets/base",
      "model_module_version": "1.2.0",
      "model_name": "LayoutModel",
      "state": {}
     },
     "b4e5cdae15444a42ba716afce7a1df00": {
      "model_module": "@jupyter-widgets/base",
      "model_module_version": "1.2.0",
      "model_name": "LayoutModel",
      "state": {}
     },
     "b4e895e4daeb4f2c87ce3059d6424453": {
      "model_module": "@jupyter-widgets/output",
      "model_module_version": "1.0.0",
      "model_name": "OutputModel",
      "state": {
       "layout": "IPY_MODEL_848f2dafc0d1448494d39fa38a12525c",
       "outputs": [
        {
         "data": {
          "text/html": "\n\n\n\n\n\n  <div class=\"bk-root\" id=\"268c5adb-b43c-4117-9b3a-40ac27b6ca0e\" data-root-id=\"2430\"></div>\n"
         },
         "metadata": {},
         "output_type": "display_data"
        },
        {
         "data": {
          "application/javascript": "(function(root) {\n  function embed_document(root) {\n    \n  const docs_json = {\"b4869bcc-7842-4c3e-8493-0c9ca6b96300\":{\"defs\":[],\"roots\":{\"references\":[{\"attributes\":{\"below\":[{\"id\":\"2441\"}],\"center\":[{\"id\":\"2444\"},{\"id\":\"2448\"},{\"id\":\"2481\"}],\"left\":[{\"id\":\"2445\"}],\"renderers\":[{\"id\":\"2469\"},{\"id\":\"2487\"},{\"id\":\"2506\"},{\"id\":\"2527\"}],\"sizing_mode\":\"stretch_width\",\"title\":{\"id\":\"2431\"},\"toolbar\":{\"id\":\"2457\"},\"x_range\":{\"id\":\"2433\"},\"x_scale\":{\"id\":\"2437\"},\"y_range\":{\"id\":\"2435\"},\"y_scale\":{\"id\":\"2439\"}},\"id\":\"2430\",\"subtype\":\"Figure\",\"type\":\"Plot\"},{\"attributes\":{\"label\":{\"value\":\"R\\u00e9gression Lin\\u00e9aire\"},\"renderers\":[{\"id\":\"2527\"}]},\"id\":\"2545\",\"type\":\"LegendItem\"},{\"attributes\":{},\"id\":\"2499\",\"type\":\"Selection\"},{\"attributes\":{\"axis_label\":\"Prix (En Euro)\",\"coordinates\":null,\"formatter\":{\"id\":\"2473\"},\"group\":null,\"major_label_policy\":{\"id\":\"2474\"},\"ticker\":{\"id\":\"2446\"}},\"id\":\"2445\",\"type\":\"LinearAxis\"},{\"attributes\":{\"line_color\":\"grey\",\"line_dash\":[5,5],\"x\":{\"field\":\"x\"},\"y\":{\"field\":\"y\"}},\"id\":\"2466\",\"type\":\"Line\"},{\"attributes\":{\"line_color\":\"orange\",\"line_width\":4,\"x\":{\"field\":\"x\"},\"y\":{\"field\":\"y\"}},\"id\":\"2484\",\"type\":\"Line\"},{\"attributes\":{},\"id\":\"2476\",\"type\":\"BasicTickFormatter\"},{\"attributes\":{},\"id\":\"2477\",\"type\":\"AllLabels\"},{\"attributes\":{\"bottom_units\":\"screen\",\"coordinates\":null,\"fill_alpha\":0.5,\"fill_color\":\"lightgrey\",\"group\":null,\"left_units\":\"screen\",\"level\":\"overlay\",\"line_alpha\":1.0,\"line_color\":\"black\",\"line_dash\":[4,4],\"line_width\":2,\"right_units\":\"screen\",\"syncable\":false,\"top_units\":\"screen\"},\"id\":\"2455\",\"type\":\"BoxAnnotation\"},{\"attributes\":{},\"id\":\"2474\",\"type\":\"AllLabels\"},{\"attributes\":{\"line_color\":\"darkred\",\"x\":{\"field\":\"x\"},\"y\":{\"field\":\"y\"}},\"id\":\"2524\",\"type\":\"Line\"},{\"attributes\":{},\"id\":\"2542\",\"type\":\"UnionRenderers\"},{\"attributes\":{\"coordinates\":null,\"data_source\":{\"id\":\"2465\"},\"glyph\":{\"id\":\"2466\"},\"group\":null,\"hover_glyph\":null,\"muted_glyph\":{\"id\":\"2468\"},\"nonselection_glyph\":{\"id\":\"2467\"},\"view\":{\"id\":\"2470\"}},\"id\":\"2469\",\"type\":\"GlyphRenderer\"},{\"attributes\":{\"source\":{\"id\":\"2465\"}},\"id\":\"2470\",\"type\":\"CDSView\"},{\"attributes\":{\"line_alpha\":0.2,\"line_color\":\"grey\",\"line_dash\":[5,5],\"x\":{\"field\":\"x\"},\"y\":{\"field\":\"y\"}},\"id\":\"2468\",\"type\":\"Line\"},{\"attributes\":{\"label\":{\"value\":\"Prix par mois\"},\"renderers\":[{\"id\":\"2469\"}]},\"id\":\"2482\",\"type\":\"LegendItem\"},{\"attributes\":{},\"id\":\"2498\",\"type\":\"UnionRenderers\"},{\"attributes\":{\"line_alpha\":0.1,\"line_color\":\"grey\",\"line_dash\":[5,5],\"x\":{\"field\":\"x\"},\"y\":{\"field\":\"y\"}},\"id\":\"2467\",\"type\":\"Line\"},{\"attributes\":{\"border_line_alpha\":0.8,\"click_policy\":\"hide\",\"coordinates\":null,\"group\":null,\"items\":[{\"id\":\"2482\"},{\"id\":\"2501\"},{\"id\":\"2522\"},{\"id\":\"2545\"}],\"label_text_font_style\":\"italic\",\"location\":\"top_left\"},\"id\":\"2481\",\"type\":\"Legend\"},{\"attributes\":{},\"id\":\"2478\",\"type\":\"UnionRenderers\"},{\"attributes\":{\"data\":{\"x\":[\"1992\",\"1992\",\"1992\",\"1992\",\"1992\",\"1992\",\"1992\",\"1992\",\"1992\",\"1992\",\"1992\",\"1992\",\"1993\",\"1993\",\"1993\",\"1993\",\"1993\",\"1993\",\"1993\",\"1993\",\"1993\",\"1993\",\"1993\",\"1993\",\"1994\",\"1994\",\"1994\",\"1994\",\"1994\",\"1994\",\"1994\",\"1994\",\"1994\",\"1994\",\"1994\",\"1994\",\"1995\",\"1995\",\"1995\",\"1995\",\"1995\",\"1995\",\"1995\",\"1995\",\"1995\",\"1995\",\"1995\",\"1995\",\"1996\",\"1996\",\"1996\",\"1996\",\"1996\",\"1996\",\"1996\",\"1996\",\"1996\",\"1996\",\"1996\",\"1996\",\"1997\",\"1997\",\"1997\",\"1997\",\"1997\",\"1997\",\"1997\",\"1997\",\"1997\",\"1997\",\"1997\",\"1997\",\"1998\",\"1998\",\"1998\",\"1998\",\"1998\",\"1998\",\"1998\",\"1998\",\"1998\",\"1998\",\"1998\",\"1998\",\"1999\",\"1999\",\"1999\",\"1999\",\"1999\",\"1999\",\"1999\",\"1999\",\"1999\",\"1999\",\"1999\",\"1999\",\"2000\",\"2000\",\"2000\",\"2000\",\"2000\",\"2000\",\"2000\",\"2000\",\"2000\",\"2000\",\"2000\",\"2000\",\"2001\",\"2001\",\"2001\",\"2001\",\"2001\",\"2001\",\"2001\",\"2001\",\"2001\",\"2001\",\"2001\",\"2001\",\"2002\",\"2002\",\"2002\",\"2002\",\"2002\",\"2002\",\"2002\",\"2002\",\"2002\",\"2002\",\"2002\",\"2002\",\"2003\",\"2003\",\"2003\",\"2003\",\"2003\",\"2003\",\"2003\",\"2003\",\"2003\",\"2003\",\"2003\",\"2003\",\"2004\",\"2004\",\"2004\",\"2004\",\"2004\",\"2004\",\"2004\",\"2004\",\"2004\",\"2004\",\"2004\",\"2004\",\"2005\",\"2005\",\"2005\",\"2005\",\"2005\",\"2005\",\"2005\",\"2005\",\"2005\",\"2005\",\"2005\",\"2005\",\"2006\",\"2006\",\"2006\",\"2006\",\"2006\",\"2006\",\"2006\",\"2006\",\"2006\",\"2006\",\"2006\",\"2006\",\"2007\",\"2007\",\"2007\",\"2007\",\"2007\",\"2007\",\"2007\",\"2007\",\"2007\",\"2007\",\"2007\",\"2007\",\"2008\",\"2008\",\"2008\",\"2008\",\"2008\",\"2008\",\"2008\",\"2008\",\"2008\",\"2008\",\"2008\",\"2008\",\"2009\",\"2009\",\"2009\",\"2009\",\"2009\",\"2009\",\"2009\",\"2009\",\"2009\",\"2009\",\"2009\",\"2009\",\"2010\",\"2010\",\"2010\",\"2010\",\"2010\",\"2010\",\"2010\",\"2010\",\"2010\",\"2010\",\"2010\",\"2010\",\"2011\",\"2011\",\"2011\",\"2011\",\"2011\",\"2011\",\"2011\",\"2011\",\"2011\",\"2011\",\"2011\",\"2011\",\"2012\",\"2012\",\"2012\",\"2012\",\"2012\",\"2012\",\"2012\",\"2012\",\"2012\",\"2012\",\"2012\",\"2012\",\"2013\",\"2013\",\"2013\",\"2013\",\"2013\",\"2013\",\"2013\",\"2013\",\"2013\",\"2013\",\"2013\",\"2013\",\"2014\",\"2014\",\"2014\",\"2014\",\"2014\",\"2014\",\"2014\",\"2014\",\"2014\",\"2014\",\"2014\",\"2014\",\"2015\",\"2015\",\"2015\",\"2015\",\"2015\",\"2015\",\"2015\",\"2015\",\"2015\",\"2015\",\"2015\",\"2015\",\"2016\",\"2016\",\"2016\",\"2016\",\"2016\",\"2016\",\"2016\",\"2016\",\"2016\",\"2016\",\"2016\",\"2016\",\"2017\",\"2017\",\"2017\",\"2017\",\"2017\",\"2017\",\"2017\",\"2017\",\"2017\",\"2017\",\"2017\",\"2017\",\"2018\",\"2018\",\"2018\",\"2018\",\"2018\",\"2018\",\"2018\",\"2018\",\"2018\",\"2018\",\"2018\",\"2018\",\"2019\",\"2019\",\"2019\",\"2019\",\"2019\",\"2019\",\"2019\",\"2019\",\"2019\",\"2019\",\"2019\",\"2019\",\"2020\",\"2020\",\"2020\",\"2020\",\"2020\",\"2020\",\"2020\",\"2020\",\"2020\",\"2020\",\"2020\",\"2020\",\"2021\",\"2021\",\"2021\",\"2021\",\"2021\",\"2021\",\"2021\",\"2021\",\"2021\",\"2021\",\"2021\",\"2021\",\"2022\",\"2022\"],\"y\":[0.54,0.54,0.54,0.53,0.54,0.54,0.54,0.54,0.53,0.53,0.54,0.54,0.53,0.54,0.54,0.55,0.55,0.54,0.54,0.56,0.59,0.6,0.6,0.59,0.6,0.6,0.6,0.6,0.6,0.6,0.59,0.59,0.59,0.59,0.59,0.59,0.59,0.59,0.59,0.59,0.59,0.59,0.59,0.59,0.6,0.6,0.6,0.6,0.62,0.63,0.65,0.66,0.65,0.64,0.64,0.64,0.66,0.7,0.7,0.7,0.71,0.7,0.69,0.68,0.68,0.67,0.67,0.68,0.67,0.68,0.69,0.68,0.68,0.67,0.66,0.66,0.65,0.64,0.64,0.63,0.63,0.63,0.63,0.62,0.63,0.63,0.64,0.67,0.67,0.67,0.68,0.7,0.71,0.72,0.73,0.78,0.81,0.81,0.82,0.8,0.81,0.82,0.83,0.84,0.93,0.9,0.91,0.89,0.81,0.8,0.8,0.8,0.82,0.82,0.82,0.8,0.8,0.79,0.78,0.75,0.74,0.74,0.75,0.78,0.77,0.76,0.75,0.77,0.79,0.81,0.79,0.79,0.82,0.84,0.89,0.82,0.77,0.76,0.76,0.77,0.77,0.78,0.79,0.79,0.81,0.81,0.83,0.84,0.88,0.86,0.87,0.91,0.92,0.96,0.97,0.97,0.93,0.94,0.99,1.02,0.99,1.02,1.06,1.07,1.1,1.12,1.07,1.04,1.06,1.07,1.08,1.1,1.12,1.11,1.12,1.13,1.1,1.05,1.04,1.04,1.02,1.02,1.04,1.07,1.07,1.08,1.1,1.1,1.11,1.12,1.2,1.22,1.21,1.2,1.26,1.29,1.37,1.46,1.45,1.36,1.33,1.26,1.15,1.05,0.99,0.99,0.95,0.98,0.98,1.02,1.01,1.04,1.02,1.02,1.05,1.05,1.09,1.09,1.13,1.16,1.18,1.17,1.16,1.15,1.16,1.17,1.19,1.22,1.29,1.31,1.37,1.38,1.34,1.33,1.33,1.33,1.34,1.35,1.39,1.38,1.42,1.43,1.46,1.45,1.42,1.37,1.36,1.44,1.42,1.4,1.38,1.38,1.39,1.41,1.41,1.38,1.34,1.34,1.35,1.36,1.38,1.34,1.33,1.34,1.34,1.34,1.33,1.32,1.32,1.32,1.32,1.31,1.3,1.28,1.25,1.19,1.13,1.19,1.22,1.22,1.24,1.23,1.2,1.14,1.12,1.12,1.11,1.08,1.03,1.03,1.06,1.07,1.12,1.17,1.14,1.11,1.12,1.15,1.16,1.18,1.27,1.27,1.25,1.24,1.21,1.18,1.17,1.2,1.22,1.24,1.27,1.28,1.39,1.38,1.37,1.4,1.45,1.46,1.45,1.45,1.48,1.52,1.48,1.42,1.4,1.44,1.46,1.47,1.49,1.43,1.42,1.42,1.44,1.44,1.44,1.47,1.49,1.42,1.32,1.23,1.18,1.22,1.25,1.25,1.22,1.21,1.22,1.27,1.31,1.36,1.4,1.39,1.4,1.43,1.45,1.45,1.46,1.56,1.57,1.54,1.63,1.72]},\"selected\":{\"id\":\"2479\"},\"selection_policy\":{\"id\":\"2478\"}},\"id\":\"2465\",\"type\":\"ColumnDataSource\"},{\"attributes\":{\"line_alpha\":0.1,\"line_color\":\"orange\",\"line_width\":4,\"x\":{\"field\":\"x\"},\"y\":{\"field\":\"y\"}},\"id\":\"2485\",\"type\":\"Line\"},{\"attributes\":{\"line_alpha\":0.2,\"line_color\":\"orange\",\"line_width\":4,\"x\":{\"field\":\"x\"},\"y\":{\"field\":\"y\"}},\"id\":\"2486\",\"type\":\"Line\"},{\"attributes\":{},\"id\":\"2449\",\"type\":\"PanTool\"},{\"attributes\":{\"callback\":null,\"tooltips\":[[\"Ann\\u00e9e \",\"@x\"],[\"Prix \",\"@y\"]]},\"id\":\"2456\",\"type\":\"HoverTool\"},{\"attributes\":{},\"id\":\"2479\",\"type\":\"Selection\"},{\"attributes\":{},\"id\":\"2439\",\"type\":\"LinearScale\"},{\"attributes\":{},\"id\":\"2519\",\"type\":\"UnionRenderers\"},{\"attributes\":{},\"id\":\"2543\",\"type\":\"Selection\"},{\"attributes\":{\"overlay\":{\"id\":\"2455\"}},\"id\":\"2451\",\"type\":\"BoxZoomTool\"},{\"attributes\":{\"coordinates\":null,\"group\":null,\"text\":\"Evolution du prix du Gazole\"},\"id\":\"2431\",\"type\":\"Title\"},{\"attributes\":{},\"id\":\"2452\",\"type\":\"SaveTool\"},{\"attributes\":{},\"id\":\"2453\",\"type\":\"ResetTool\"},{\"attributes\":{},\"id\":\"2437\",\"type\":\"LinearScale\"},{\"attributes\":{\"axis_label\":\"P\\u00e9riode (En ann\\u00e9e)\",\"coordinates\":null,\"formatter\":{\"id\":\"2476\"},\"group\":null,\"major_label_policy\":{\"id\":\"2477\"},\"ticker\":{\"id\":\"2442\"}},\"id\":\"2441\",\"type\":\"LinearAxis\"},{\"attributes\":{\"data\":{\"x\":[\"2008\",\"2009\",\"2011\",\"2018\",\"2020\",\"2021\"],\"y\":{\"__ndarray__\":\"hetRuB6F9D8jIiIiIiLwP4XrUbgehfU/AAAAAAAA9z9fLPnFkl/0PxhLfrHkF/c/\",\"dtype\":\"float64\",\"order\":\"little\",\"shape\":[6]}},\"selected\":{\"id\":\"2520\"},\"selection_policy\":{\"id\":\"2519\"}},\"id\":\"2502\",\"type\":\"ColumnDataSource\"},{\"attributes\":{},\"id\":\"2446\",\"type\":\"BasicTicker\"},{\"attributes\":{\"line_alpha\":0.1,\"line_color\":\"darkred\",\"x\":{\"field\":\"x\"},\"y\":{\"field\":\"y\"}},\"id\":\"2525\",\"type\":\"Line\"},{\"attributes\":{},\"id\":\"2442\",\"type\":\"BasicTicker\"},{\"attributes\":{\"label\":{\"value\":\"Forte \\u00e9volution\"},\"renderers\":[{\"id\":\"2506\"}]},\"id\":\"2522\",\"type\":\"LegendItem\"},{\"attributes\":{\"fill_alpha\":{\"value\":0.5},\"fill_color\":{\"value\":\"red\"},\"hatch_color\":{\"value\":\"red\"},\"line_color\":{\"value\":\"red\"},\"size\":{\"value\":10},\"x\":{\"field\":\"x\"},\"y\":{\"field\":\"y\"}},\"id\":\"2503\",\"type\":\"Circle\"},{\"attributes\":{\"source\":{\"id\":\"2523\"}},\"id\":\"2528\",\"type\":\"CDSView\"},{\"attributes\":{},\"id\":\"2450\",\"type\":\"WheelZoomTool\"},{\"attributes\":{\"axis\":{\"id\":\"2441\"},\"coordinates\":null,\"group\":null,\"ticker\":null},\"id\":\"2444\",\"type\":\"Grid\"},{\"attributes\":{\"coordinates\":null,\"data_source\":{\"id\":\"2502\"},\"glyph\":{\"id\":\"2503\"},\"group\":null,\"hover_glyph\":null,\"muted_glyph\":{\"id\":\"2505\"},\"nonselection_glyph\":{\"id\":\"2504\"},\"view\":{\"id\":\"2507\"}},\"id\":\"2506\",\"type\":\"GlyphRenderer\"},{\"attributes\":{\"fill_alpha\":{\"value\":0.2},\"fill_color\":{\"value\":\"red\"},\"hatch_alpha\":{\"value\":0.2},\"hatch_color\":{\"value\":\"red\"},\"line_alpha\":{\"value\":0.2},\"line_color\":{\"value\":\"red\"},\"size\":{\"value\":10},\"x\":{\"field\":\"x\"},\"y\":{\"field\":\"y\"}},\"id\":\"2505\",\"type\":\"Circle\"},{\"attributes\":{},\"id\":\"2454\",\"type\":\"HelpTool\"},{\"attributes\":{\"logo\":null,\"tools\":[{\"id\":\"2449\"},{\"id\":\"2450\"},{\"id\":\"2451\"},{\"id\":\"2452\"},{\"id\":\"2453\"},{\"id\":\"2454\"},{\"id\":\"2456\"}]},\"id\":\"2457\",\"type\":\"Toolbar\"},{\"attributes\":{\"fill_alpha\":{\"value\":0.1},\"fill_color\":{\"value\":\"red\"},\"hatch_alpha\":{\"value\":0.1},\"hatch_color\":{\"value\":\"red\"},\"line_alpha\":{\"value\":0.1},\"line_color\":{\"value\":\"red\"},\"size\":{\"value\":10},\"x\":{\"field\":\"x\"},\"y\":{\"field\":\"y\"}},\"id\":\"2504\",\"type\":\"Circle\"},{\"attributes\":{\"source\":{\"id\":\"2502\"}},\"id\":\"2507\",\"type\":\"CDSView\"},{\"attributes\":{\"axis\":{\"id\":\"2445\"},\"coordinates\":null,\"dimension\":1,\"group\":null,\"ticker\":null},\"id\":\"2448\",\"type\":\"Grid\"},{\"attributes\":{},\"id\":\"2433\",\"type\":\"DataRange1d\"},{\"attributes\":{},\"id\":\"2473\",\"type\":\"BasicTickFormatter\"},{\"attributes\":{\"source\":{\"id\":\"2483\"}},\"id\":\"2488\",\"type\":\"CDSView\"},{\"attributes\":{\"label\":{\"value\":\"Prix par ann\\u00e9es\"},\"renderers\":[{\"id\":\"2487\"}]},\"id\":\"2501\",\"type\":\"LegendItem\"},{\"attributes\":{\"coordinates\":null,\"data_source\":{\"id\":\"2483\"},\"glyph\":{\"id\":\"2484\"},\"group\":null,\"hover_glyph\":null,\"muted_glyph\":{\"id\":\"2486\"},\"nonselection_glyph\":{\"id\":\"2485\"},\"view\":{\"id\":\"2488\"}},\"id\":\"2487\",\"type\":\"GlyphRenderer\"},{\"attributes\":{\"coordinates\":null,\"data_source\":{\"id\":\"2523\"},\"glyph\":{\"id\":\"2524\"},\"group\":null,\"hover_glyph\":null,\"muted_glyph\":{\"id\":\"2526\"},\"nonselection_glyph\":{\"id\":\"2525\"},\"view\":{\"id\":\"2528\"}},\"id\":\"2527\",\"type\":\"GlyphRenderer\"},{\"attributes\":{\"data\":{\"x\":[\"1992\",\"1993\",\"1994\",\"1995\",\"1996\",\"1997\",\"1998\",\"1999\",\"2000\",\"2001\",\"2002\",\"2003\",\"2004\",\"2005\",\"2006\",\"2007\",\"2008\",\"2009\",\"2010\",\"2011\",\"2012\",\"2013\",\"2014\",\"2015\",\"2016\",\"2017\",\"2018\",\"2019\",\"2020\",\"2021\",\"2022\"],\"y\":{\"__ndarray__\":\"NDMzMzMz4T/xiyW/WPLhPwrXo3A9CuM/+2LJL5b84j8L16NwPQrlP93d3d3d3eU/pHA9Ctej5D/xiyW/WPLlPyCF61G4Hus/k18s+cWS6T+jcD0K16PoP32x5BdLfuk/W/KLJb9Y7D94d3d3d3fwP1yPwvUoXPE/iYiIiIiI8T+F61G4HoX0PyMiIiIiIvA/frHkF0t+8j+F61G4HoX1P5NfLPnFkvY/1AY6baDT9T/UBjptoNP0P6uqqqqqqvI/yi+W/GLJ8T+7u7u7u7vzPwAAAAAAAPc/F0t+seQX9z9fLPnFkl/0PxhLfrHkF/c/zMzMzMzM+j8=\",\"dtype\":\"float64\",\"order\":\"little\",\"shape\":[31]}},\"selected\":{\"id\":\"2499\"},\"selection_policy\":{\"id\":\"2498\"}},\"id\":\"2483\",\"type\":\"ColumnDataSource\"},{\"attributes\":{\"data\":{\"x\":{\"__ndarray__\":\"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\",\"dtype\":\"float64\",\"order\":\"little\",\"shape\":[362]},\"y\":{\"__ndarray__\":\"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\",\"dtype\":\"float64\",\"order\":\"little\",\"shape\":[362]}},\"selected\":{\"id\":\"2543\"},\"selection_policy\":{\"id\":\"2542\"}},\"id\":\"2523\",\"type\":\"ColumnDataSource\"},{\"attributes\":{},\"id\":\"2520\",\"type\":\"Selection\"},{\"attributes\":{\"line_alpha\":0.2,\"line_color\":\"darkred\",\"x\":{\"field\":\"x\"},\"y\":{\"field\":\"y\"}},\"id\":\"2526\",\"type\":\"Line\"},{\"attributes\":{},\"id\":\"2435\",\"type\":\"DataRange1d\"}],\"root_ids\":[\"2430\"]},\"title\":\"Bokeh Application\",\"version\":\"2.4.1\"}};\n  const render_items = [{\"docid\":\"b4869bcc-7842-4c3e-8493-0c9ca6b96300\",\"root_ids\":[\"2430\"],\"roots\":{\"2430\":\"268c5adb-b43c-4117-9b3a-40ac27b6ca0e\"}}];\n  root.Bokeh.embed.embed_items_notebook(docs_json, render_items);\n\n  }\n  if (root.Bokeh !== undefined) {\n    embed_document(root);\n  } else {\n    let attempts = 0;\n    const timer = setInterval(function(root) {\n      if (root.Bokeh !== undefined) {\n        clearInterval(timer);\n        embed_document(root);\n      } else {\n        attempts++;\n        if (attempts > 100) {\n          clearInterval(timer);\n          console.log(\"Bokeh: ERROR: Unable to run BokehJS code because BokehJS library is missing\");\n        }\n      }\n    }, 10, root)\n  }\n})(window);",
          "application/vnd.bokehjs_exec.v0+json": ""
         },
         "metadata": {
          "application/vnd.bokehjs_exec.v0+json": {
           "id": "2430"
          }
         },
         "output_type": "display_data"
        }
       ]
      }
     },
     "b8229a677b954c209b36fadae028e115": {
      "model_module": "@jupyter-widgets/base",
      "model_module_version": "1.2.0",
      "model_name": "LayoutModel",
      "state": {}
     },
     "b8c0ed4629354085a946cfc1b6cc85ae": {
      "model_module": "@jupyter-widgets/controls",
      "model_module_version": "1.5.0",
      "model_name": "DescriptionStyleModel",
      "state": {
       "description_width": ""
      }
     },
     "b8cfad4933da4b37a425e156eacb6fe9": {
      "model_module": "@jupyter-widgets/base",
      "model_module_version": "1.2.0",
      "model_name": "LayoutModel",
      "state": {}
     },
     "bd7377a037f545338142147ca9204753": {
      "model_module": "@jupyter-widgets/controls",
      "model_module_version": "1.5.0",
      "model_name": "DescriptionStyleModel",
      "state": {
       "description_width": ""
      }
     },
     "bdd6465ec3f3434a9673b5d83f4dca2b": {
      "model_module": "@jupyter-widgets/controls",
      "model_module_version": "1.5.0",
      "model_name": "DescriptionStyleModel",
      "state": {
       "description_width": ""
      }
     },
     "bfa5828b658c4868b5d362cb5c4f5335": {
      "model_module": "@jupyter-widgets/base",
      "model_module_version": "1.2.0",
      "model_name": "LayoutModel",
      "state": {}
     },
     "c1d2f91a266d4cf6b64b8bb104d89d6c": {
      "model_module": "@jupyter-widgets/base",
      "model_module_version": "1.2.0",
      "model_name": "LayoutModel",
      "state": {}
     },
     "c208135c48f6421e8d40c06c28a74309": {
      "model_module": "@jupyter-widgets/base",
      "model_module_version": "1.2.0",
      "model_name": "LayoutModel",
      "state": {}
     },
     "c28b6b1196554694b4d995976f1c6b89": {
      "model_module": "@jupyter-widgets/base",
      "model_module_version": "1.2.0",
      "model_name": "LayoutModel",
      "state": {}
     },
     "c38d7144e68d4a5bbf9d697884a77ba4": {
      "model_module": "@jupyter-widgets/controls",
      "model_module_version": "1.5.0",
      "model_name": "DescriptionStyleModel",
      "state": {
       "description_width": ""
      }
     },
     "c4b6751b164245ebbee1ca691ad50241": {
      "model_module": "@jupyter-widgets/output",
      "model_module_version": "1.0.0",
      "model_name": "OutputModel",
      "state": {
       "layout": "IPY_MODEL_7cd7ee8dd3ed41589ba41a8546a0e86f",
       "outputs": [
        {
         "data": {
          "text/html": "\n\n\n\n\n\n  <div class=\"bk-root\" id=\"a715f2c0-6e91-4dce-9d41-8eede479f703\" data-root-id=\"3999\"></div>\n"
         },
         "metadata": {},
         "output_type": "display_data"
        },
        {
         "data": {
          "application/javascript": "(function(root) {\n  function embed_document(root) {\n    \n  const docs_json = {\"12f6c723-39f1-4114-b0b3-20a1e6622042\":{\"defs\":[],\"roots\":{\"references\":[{\"attributes\":{\"below\":[{\"id\":\"4010\"}],\"center\":[{\"id\":\"4013\"},{\"id\":\"4017\"},{\"id\":\"4050\"}],\"left\":[{\"id\":\"4014\"}],\"renderers\":[{\"id\":\"4038\"},{\"id\":\"4056\"},{\"id\":\"4075\"},{\"id\":\"4096\"}],\"sizing_mode\":\"stretch_width\",\"title\":{\"id\":\"4000\"},\"toolbar\":{\"id\":\"4026\"},\"x_range\":{\"id\":\"4002\"},\"x_scale\":{\"id\":\"4006\"},\"y_range\":{\"id\":\"4004\"},\"y_scale\":{\"id\":\"4008\"}},\"id\":\"3999\",\"subtype\":\"Figure\",\"type\":\"Plot\"},{\"attributes\":{\"axis_label\":\"Prix (En Euro)\",\"coordinates\":null,\"formatter\":{\"id\":\"4042\"},\"group\":null,\"major_label_policy\":{\"id\":\"4043\"},\"ticker\":{\"id\":\"4015\"}},\"id\":\"4014\",\"type\":\"LinearAxis\"},{\"attributes\":{\"label\":{\"value\":\"Prix par ann\\u00e9es\"},\"renderers\":[{\"id\":\"4056\"}]},\"id\":\"4070\",\"type\":\"LegendItem\"},{\"attributes\":{\"coordinates\":null,\"data_source\":{\"id\":\"4052\"},\"glyph\":{\"id\":\"4053\"},\"group\":null,\"hover_glyph\":null,\"muted_glyph\":{\"id\":\"4055\"},\"nonselection_glyph\":{\"id\":\"4054\"},\"view\":{\"id\":\"4057\"}},\"id\":\"4056\",\"type\":\"GlyphRenderer\"},{\"attributes\":{\"source\":{\"id\":\"4034\"}},\"id\":\"4039\",\"type\":\"CDSView\"},{\"attributes\":{},\"id\":\"4008\",\"type\":\"LinearScale\"},{\"attributes\":{},\"id\":\"4011\",\"type\":\"BasicTicker\"},{\"attributes\":{},\"id\":\"4022\",\"type\":\"ResetTool\"},{\"attributes\":{},\"id\":\"4004\",\"type\":\"DataRange1d\"},{\"attributes\":{\"axis\":{\"id\":\"4010\"},\"coordinates\":null,\"group\":null,\"ticker\":null},\"id\":\"4013\",\"type\":\"Grid\"},{\"attributes\":{\"line_color\":\"orange\",\"line_width\":4,\"x\":{\"field\":\"x\"},\"y\":{\"field\":\"y\"}},\"id\":\"4053\",\"type\":\"Line\"},{\"attributes\":{\"label\":{\"value\":\"Prix par mois\"},\"renderers\":[{\"id\":\"4038\"}]},\"id\":\"4051\",\"type\":\"LegendItem\"},{\"attributes\":{\"coordinates\":null,\"data_source\":{\"id\":\"4034\"},\"glyph\":{\"id\":\"4035\"},\"group\":null,\"hover_glyph\":null,\"muted_glyph\":{\"id\":\"4037\"},\"nonselection_glyph\":{\"id\":\"4036\"},\"view\":{\"id\":\"4039\"}},\"id\":\"4038\",\"type\":\"GlyphRenderer\"},{\"attributes\":{\"data\":{\"x\":[\"1992\",\"1992\",\"1992\",\"1992\",\"1992\",\"1992\",\"1992\",\"1992\",\"1992\",\"1992\",\"1992\",\"1992\",\"1993\",\"1993\",\"1993\",\"1993\",\"1993\",\"1993\",\"1993\",\"1993\",\"1993\",\"1993\",\"1993\",\"1993\",\"1994\",\"1994\",\"1994\",\"1994\",\"1994\",\"1994\",\"1994\",\"1994\",\"1994\",\"1994\",\"1994\",\"1994\",\"1995\",\"1995\",\"1995\",\"1995\",\"1995\",\"1995\",\"1995\",\"1995\",\"1995\",\"1995\",\"1995\",\"1995\",\"1996\",\"1996\",\"1996\",\"1996\",\"1996\",\"1996\",\"1996\",\"1996\",\"1996\",\"1996\",\"1996\",\"1996\",\"1997\",\"1997\",\"1997\",\"1997\",\"1997\",\"1997\",\"1997\",\"1997\",\"1997\",\"1997\",\"1997\",\"1997\",\"1998\",\"1998\",\"1998\",\"1998\",\"1998\",\"1998\",\"1998\",\"1998\",\"1998\",\"1998\",\"1998\",\"1998\",\"1999\",\"1999\",\"1999\",\"1999\",\"1999\",\"1999\",\"1999\",\"1999\",\"1999\",\"1999\",\"1999\",\"1999\",\"2000\",\"2000\",\"2000\",\"2000\",\"2000\",\"2000\",\"2000\",\"2000\",\"2000\",\"2000\",\"2000\",\"2000\",\"2001\",\"2001\",\"2001\",\"2001\",\"2001\",\"2001\",\"2001\",\"2001\",\"2001\",\"2001\",\"2001\",\"2001\",\"2002\",\"2002\",\"2002\",\"2002\",\"2002\",\"2002\",\"2002\",\"2002\",\"2002\",\"2002\",\"2002\",\"2002\",\"2003\",\"2003\",\"2003\",\"2003\",\"2003\",\"2003\",\"2003\",\"2003\",\"2003\",\"2003\",\"2003\",\"2003\",\"2004\",\"2004\",\"2004\",\"2004\",\"2004\",\"2004\",\"2004\",\"2004\",\"2004\",\"2004\",\"2004\",\"2004\",\"2005\",\"2005\",\"2005\",\"2005\",\"2005\",\"2005\",\"2005\",\"2005\",\"2005\",\"2005\",\"2005\",\"2005\",\"2006\",\"2006\",\"2006\",\"2006\",\"2006\",\"2006\",\"2006\",\"2006\",\"2006\",\"2006\",\"2006\",\"2006\",\"2007\",\"2007\",\"2007\",\"2007\",\"2007\",\"2007\",\"2007\",\"2007\",\"2007\",\"2007\",\"2007\",\"2007\",\"2008\",\"2008\",\"2008\",\"2008\",\"2008\",\"2008\",\"2008\",\"2008\",\"2008\",\"2008\",\"2008\",\"2008\",\"2009\",\"2009\",\"2009\",\"2009\",\"2009\",\"2009\",\"2009\",\"2009\",\"2009\",\"2009\",\"2009\",\"2009\",\"2010\",\"2010\",\"2010\",\"2010\",\"2010\",\"2010\",\"2010\",\"2010\",\"2010\",\"2010\",\"2010\",\"2010\",\"2011\",\"2011\",\"2011\",\"2011\",\"2011\",\"2011\",\"2011\",\"2011\",\"2011\",\"2011\",\"2011\",\"2011\",\"2012\",\"2012\",\"2012\",\"2012\",\"2012\",\"2012\",\"2012\",\"2012\",\"2012\",\"2012\",\"2012\",\"2012\",\"2013\",\"2013\",\"2013\",\"2013\",\"2013\",\"2013\",\"2013\",\"2013\",\"2013\",\"2013\",\"2013\",\"2013\",\"2014\",\"2014\",\"2014\",\"2014\",\"2014\",\"2014\",\"2014\",\"2014\",\"2014\",\"2014\",\"2014\",\"2014\",\"2015\",\"2015\",\"2015\",\"2015\",\"2015\",\"2015\",\"2015\",\"2015\",\"2015\",\"2015\",\"2015\",\"2015\",\"2016\",\"2016\",\"2016\",\"2016\",\"2016\",\"2016\",\"2016\",\"2016\",\"2016\",\"2016\",\"2016\",\"2016\",\"2017\",\"2017\",\"2017\",\"2017\",\"2017\",\"2017\",\"2017\",\"2017\",\"2017\",\"2017\",\"2017\",\"2017\",\"2018\",\"2018\",\"2018\",\"2018\",\"2018\",\"2018\",\"2018\",\"2018\",\"2018\",\"2018\",\"2018\",\"2018\",\"2019\",\"2019\",\"2019\",\"2019\",\"2019\",\"2019\",\"2019\",\"2019\",\"2019\",\"2019\",\"2019\",\"2019\",\"2020\",\"2020\",\"2020\",\"2020\",\"2020\",\"2020\",\"2020\",\"2020\",\"2020\",\"2020\",\"2020\",\"2020\",\"2021\",\"2021\",\"2021\",\"2021\",\"2021\",\"2021\",\"2021\",\"2021\",\"2021\",\"2021\",\"2021\",\"2021\",\"2022\",\"2022\"],\"y\":[0.54,0.54,0.54,0.53,0.54,0.54,0.54,0.54,0.53,0.53,0.54,0.54,0.53,0.54,0.54,0.55,0.55,0.54,0.54,0.56,0.59,0.6,0.6,0.59,0.6,0.6,0.6,0.6,0.6,0.6,0.59,0.59,0.59,0.59,0.59,0.59,0.59,0.59,0.59,0.59,0.59,0.59,0.59,0.59,0.6,0.6,0.6,0.6,0.62,0.63,0.65,0.66,0.65,0.64,0.64,0.64,0.66,0.7,0.7,0.7,0.71,0.7,0.69,0.68,0.68,0.67,0.67,0.68,0.67,0.68,0.69,0.68,0.68,0.67,0.66,0.66,0.65,0.64,0.64,0.63,0.63,0.63,0.63,0.62,0.63,0.63,0.64,0.67,0.67,0.67,0.68,0.7,0.71,0.72,0.73,0.78,0.81,0.81,0.82,0.8,0.81,0.82,0.83,0.84,0.93,0.9,0.91,0.89,0.81,0.8,0.8,0.8,0.82,0.82,0.82,0.8,0.8,0.79,0.78,0.75,0.74,0.74,0.75,0.78,0.77,0.76,0.75,0.77,0.79,0.81,0.79,0.79,0.82,0.84,0.89,0.82,0.77,0.76,0.76,0.77,0.77,0.78,0.79,0.79,0.81,0.81,0.83,0.84,0.88,0.86,0.87,0.91,0.92,0.96,0.97,0.97,0.93,0.94,0.99,1.02,0.99,1.02,1.06,1.07,1.1,1.12,1.07,1.04,1.06,1.07,1.08,1.1,1.12,1.11,1.12,1.13,1.1,1.05,1.04,1.04,1.02,1.02,1.04,1.07,1.07,1.08,1.1,1.1,1.11,1.12,1.2,1.22,1.21,1.2,1.26,1.29,1.37,1.46,1.45,1.36,1.33,1.26,1.15,1.05,0.99,0.99,0.95,0.98,0.98,1.02,1.01,1.04,1.02,1.02,1.05,1.05,1.09,1.09,1.13,1.16,1.18,1.17,1.16,1.15,1.16,1.17,1.19,1.22,1.29,1.31,1.37,1.38,1.34,1.33,1.33,1.33,1.34,1.35,1.39,1.38,1.42,1.43,1.46,1.45,1.42,1.37,1.36,1.44,1.42,1.4,1.38,1.38,1.39,1.41,1.41,1.38,1.34,1.34,1.35,1.36,1.38,1.34,1.33,1.34,1.34,1.34,1.33,1.32,1.32,1.32,1.32,1.31,1.3,1.28,1.25,1.19,1.13,1.19,1.22,1.22,1.24,1.23,1.2,1.14,1.12,1.12,1.11,1.08,1.03,1.03,1.06,1.07,1.12,1.17,1.14,1.11,1.12,1.15,1.16,1.18,1.27,1.27,1.25,1.24,1.21,1.18,1.17,1.2,1.22,1.24,1.27,1.28,1.39,1.38,1.37,1.4,1.45,1.46,1.45,1.45,1.48,1.52,1.48,1.42,1.4,1.44,1.46,1.47,1.49,1.43,1.42,1.42,1.44,1.44,1.44,1.47,1.49,1.42,1.32,1.23,1.18,1.22,1.25,1.25,1.22,1.21,1.22,1.27,1.31,1.36,1.4,1.39,1.4,1.43,1.45,1.45,1.46,1.56,1.57,1.54,1.63,1.72]},\"selected\":{\"id\":\"4048\"},\"selection_policy\":{\"id\":\"4047\"}},\"id\":\"4034\",\"type\":\"ColumnDataSource\"},{\"attributes\":{\"callback\":null,\"tooltips\":[[\"Ann\\u00e9e \",\"@x\"],[\"Prix \",\"@y\"]]},\"id\":\"4025\",\"type\":\"HoverTool\"},{\"attributes\":{},\"id\":\"4023\",\"type\":\"HelpTool\"},{\"attributes\":{},\"id\":\"4006\",\"type\":\"LinearScale\"},{\"attributes\":{\"fill_alpha\":{\"value\":0.5},\"fill_color\":{\"value\":\"red\"},\"hatch_color\":{\"value\":\"red\"},\"line_color\":{\"value\":\"red\"},\"size\":{\"value\":10},\"x\":{\"field\":\"x\"},\"y\":{\"field\":\"y\"}},\"id\":\"4072\",\"type\":\"Circle\"},{\"attributes\":{},\"id\":\"4046\",\"type\":\"AllLabels\"},{\"attributes\":{\"overlay\":{\"id\":\"4024\"}},\"id\":\"4020\",\"type\":\"BoxZoomTool\"},{\"attributes\":{},\"id\":\"4002\",\"type\":\"DataRange1d\"},{\"attributes\":{\"data\":{\"x\":[\"1992\",\"1993\",\"1994\",\"1995\",\"1996\",\"1997\",\"1998\",\"1999\",\"2000\",\"2001\",\"2002\",\"2003\",\"2004\",\"2005\",\"2006\",\"2007\",\"2008\",\"2009\",\"2010\",\"2011\",\"2012\",\"2013\",\"2014\",\"2015\",\"2016\",\"2017\",\"2018\",\"2019\",\"2020\",\"2021\",\"2022\"],\"y\":{\"__ndarray__\":\"NDMzMzMz4T/xiyW/WPLhPwrXo3A9CuM/+2LJL5b84j8L16NwPQrlP93d3d3d3eU/pHA9Ctej5D/xiyW/WPLlPyCF61G4Hus/k18s+cWS6T+jcD0K16PoP32x5BdLfuk/W/KLJb9Y7D94d3d3d3fwP1yPwvUoXPE/iYiIiIiI8T+F61G4HoX0PyMiIiIiIvA/frHkF0t+8j+F61G4HoX1P5NfLPnFkvY/1AY6baDT9T/UBjptoNP0P6uqqqqqqvI/yi+W/GLJ8T+7u7u7u7vzPwAAAAAAAPc/F0t+seQX9z9fLPnFkl/0PxhLfrHkF/c/zMzMzMzM+j8=\",\"dtype\":\"float64\",\"order\":\"little\",\"shape\":[31]}},\"selected\":{\"id\":\"4068\"},\"selection_policy\":{\"id\":\"4067\"}},\"id\":\"4052\",\"type\":\"ColumnDataSource\"},{\"attributes\":{\"data\":{\"x\":[\"2008\",\"2009\",\"2011\",\"2018\",\"2020\",\"2021\"],\"y\":{\"__ndarray__\":\"hetRuB6F9D8jIiIiIiLwP4XrUbgehfU/AAAAAAAA9z9fLPnFkl/0PxhLfrHkF/c/\",\"dtype\":\"float64\",\"order\":\"little\",\"shape\":[6]}},\"selected\":{\"id\":\"4089\"},\"selection_policy\":{\"id\":\"4088\"}},\"id\":\"4071\",\"type\":\"ColumnDataSource\"},{\"attributes\":{\"source\":{\"id\":\"4092\"}},\"id\":\"4097\",\"type\":\"CDSView\"},{\"attributes\":{},\"id\":\"4018\",\"type\":\"PanTool\"},{\"attributes\":{},\"id\":\"4112\",\"type\":\"Selection\"},{\"attributes\":{\"line_color\":\"grey\",\"line_dash\":[5,5],\"x\":{\"field\":\"x\"},\"y\":{\"field\":\"y\"}},\"id\":\"4035\",\"type\":\"Line\"},{\"attributes\":{\"border_line_alpha\":0.8,\"click_policy\":\"hide\",\"coordinates\":null,\"group\":null,\"items\":[{\"id\":\"4051\"},{\"id\":\"4070\"},{\"id\":\"4091\"},{\"id\":\"4114\"}],\"label_text_font_style\":\"italic\",\"location\":\"top_left\"},\"id\":\"4050\",\"type\":\"Legend\"},{\"attributes\":{},\"id\":\"4019\",\"type\":\"WheelZoomTool\"},{\"attributes\":{},\"id\":\"4088\",\"type\":\"UnionRenderers\"},{\"attributes\":{\"line_alpha\":0.2,\"line_color\":\"darkred\",\"x\":{\"field\":\"x\"},\"y\":{\"field\":\"y\"}},\"id\":\"4095\",\"type\":\"Line\"},{\"attributes\":{\"coordinates\":null,\"group\":null,\"text\":\"Evolution du prix du Gazole\"},\"id\":\"4000\",\"type\":\"Title\"},{\"attributes\":{\"fill_alpha\":{\"value\":0.2},\"fill_color\":{\"value\":\"red\"},\"hatch_alpha\":{\"value\":0.2},\"hatch_color\":{\"value\":\"red\"},\"line_alpha\":{\"value\":0.2},\"line_color\":{\"value\":\"red\"},\"size\":{\"value\":10},\"x\":{\"field\":\"x\"},\"y\":{\"field\":\"y\"}},\"id\":\"4074\",\"type\":\"Circle\"},{\"attributes\":{\"line_alpha\":0.1,\"line_color\":\"darkred\",\"x\":{\"field\":\"x\"},\"y\":{\"field\":\"y\"}},\"id\":\"4094\",\"type\":\"Line\"},{\"attributes\":{\"coordinates\":null,\"data_source\":{\"id\":\"4071\"},\"glyph\":{\"id\":\"4072\"},\"group\":null,\"hover_glyph\":null,\"muted_glyph\":{\"id\":\"4074\"},\"nonselection_glyph\":{\"id\":\"4073\"},\"view\":{\"id\":\"4076\"}},\"id\":\"4075\",\"type\":\"GlyphRenderer\"},{\"attributes\":{\"label\":{\"value\":\"R\\u00e9gression Lin\\u00e9aire\"},\"renderers\":[{\"id\":\"4096\"}]},\"id\":\"4114\",\"type\":\"LegendItem\"},{\"attributes\":{\"label\":{\"value\":\"Forte \\u00e9volution\"},\"renderers\":[{\"id\":\"4075\"}]},\"id\":\"4091\",\"type\":\"LegendItem\"},{\"attributes\":{\"fill_alpha\":{\"value\":0.1},\"fill_color\":{\"value\":\"red\"},\"hatch_alpha\":{\"value\":0.1},\"hatch_color\":{\"value\":\"red\"},\"line_alpha\":{\"value\":0.1},\"line_color\":{\"value\":\"red\"},\"size\":{\"value\":10},\"x\":{\"field\":\"x\"},\"y\":{\"field\":\"y\"}},\"id\":\"4073\",\"type\":\"Circle\"},{\"attributes\":{},\"id\":\"4043\",\"type\":\"AllLabels\"},{\"attributes\":{},\"id\":\"4111\",\"type\":\"UnionRenderers\"},{\"attributes\":{\"source\":{\"id\":\"4071\"}},\"id\":\"4076\",\"type\":\"CDSView\"},{\"attributes\":{\"line_alpha\":0.1,\"line_color\":\"grey\",\"line_dash\":[5,5],\"x\":{\"field\":\"x\"},\"y\":{\"field\":\"y\"}},\"id\":\"4036\",\"type\":\"Line\"},{\"attributes\":{\"source\":{\"id\":\"4052\"}},\"id\":\"4057\",\"type\":\"CDSView\"},{\"attributes\":{},\"id\":\"4042\",\"type\":\"BasicTickFormatter\"},{\"attributes\":{},\"id\":\"4015\",\"type\":\"BasicTicker\"},{\"attributes\":{\"line_alpha\":0.2,\"line_color\":\"orange\",\"line_width\":4,\"x\":{\"field\":\"x\"},\"y\":{\"field\":\"y\"}},\"id\":\"4055\",\"type\":\"Line\"},{\"attributes\":{},\"id\":\"4021\",\"type\":\"SaveTool\"},{\"attributes\":{\"axis_label\":\"P\\u00e9riode (En ann\\u00e9e)\",\"coordinates\":null,\"formatter\":{\"id\":\"4045\"},\"group\":null,\"major_label_policy\":{\"id\":\"4046\"},\"ticker\":{\"id\":\"4011\"}},\"id\":\"4010\",\"type\":\"LinearAxis\"},{\"attributes\":{\"line_alpha\":0.1,\"line_color\":\"orange\",\"line_width\":4,\"x\":{\"field\":\"x\"},\"y\":{\"field\":\"y\"}},\"id\":\"4054\",\"type\":\"Line\"},{\"attributes\":{},\"id\":\"4045\",\"type\":\"BasicTickFormatter\"},{\"attributes\":{},\"id\":\"4068\",\"type\":\"Selection\"},{\"attributes\":{\"line_color\":\"darkred\",\"x\":{\"field\":\"x\"},\"y\":{\"field\":\"y\"}},\"id\":\"4093\",\"type\":\"Line\"},{\"attributes\":{},\"id\":\"4089\",\"type\":\"Selection\"},{\"attributes\":{\"bottom_units\":\"screen\",\"coordinates\":null,\"fill_alpha\":0.5,\"fill_color\":\"lightgrey\",\"group\":null,\"left_units\":\"screen\",\"level\":\"overlay\",\"line_alpha\":1.0,\"line_color\":\"black\",\"line_dash\":[4,4],\"line_width\":2,\"right_units\":\"screen\",\"syncable\":false,\"top_units\":\"screen\"},\"id\":\"4024\",\"type\":\"BoxAnnotation\"},{\"attributes\":{\"logo\":null,\"tools\":[{\"id\":\"4018\"},{\"id\":\"4019\"},{\"id\":\"4020\"},{\"id\":\"4021\"},{\"id\":\"4022\"},{\"id\":\"4023\"},{\"id\":\"4025\"}]},\"id\":\"4026\",\"type\":\"Toolbar\"},{\"attributes\":{\"line_alpha\":0.2,\"line_color\":\"grey\",\"line_dash\":[5,5],\"x\":{\"field\":\"x\"},\"y\":{\"field\":\"y\"}},\"id\":\"4037\",\"type\":\"Line\"},{\"attributes\":{},\"id\":\"4047\",\"type\":\"UnionRenderers\"},{\"attributes\":{},\"id\":\"4067\",\"type\":\"UnionRenderers\"},{\"attributes\":{\"axis\":{\"id\":\"4014\"},\"coordinates\":null,\"dimension\":1,\"group\":null,\"ticker\":null},\"id\":\"4017\",\"type\":\"Grid\"},{\"attributes\":{\"coordinates\":null,\"data_source\":{\"id\":\"4092\"},\"glyph\":{\"id\":\"4093\"},\"group\":null,\"hover_glyph\":null,\"muted_glyph\":{\"id\":\"4095\"},\"nonselection_glyph\":{\"id\":\"4094\"},\"view\":{\"id\":\"4097\"}},\"id\":\"4096\",\"type\":\"GlyphRenderer\"},{\"attributes\":{\"data\":{\"x\":{\"__ndarray__\":\"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\",\"dtype\":\"float64\",\"order\":\"little\",\"shape\":[362]},\"y\":{\"__ndarray__\":\"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\",\"dtype\":\"float64\",\"order\":\"little\",\"shape\":[362]}},\"selected\":{\"id\":\"4112\"},\"selection_policy\":{\"id\":\"4111\"}},\"id\":\"4092\",\"type\":\"ColumnDataSource\"},{\"attributes\":{},\"id\":\"4048\",\"type\":\"Selection\"}],\"root_ids\":[\"3999\"]},\"title\":\"Bokeh Application\",\"version\":\"2.4.1\"}};\n  const render_items = [{\"docid\":\"12f6c723-39f1-4114-b0b3-20a1e6622042\",\"root_ids\":[\"3999\"],\"roots\":{\"3999\":\"a715f2c0-6e91-4dce-9d41-8eede479f703\"}}];\n  root.Bokeh.embed.embed_items_notebook(docs_json, render_items);\n\n  }\n  if (root.Bokeh !== undefined) {\n    embed_document(root);\n  } else {\n    let attempts = 0;\n    const timer = setInterval(function(root) {\n      if (root.Bokeh !== undefined) {\n        clearInterval(timer);\n        embed_document(root);\n      } else {\n        attempts++;\n        if (attempts > 100) {\n          clearInterval(timer);\n          console.log(\"Bokeh: ERROR: Unable to run BokehJS code because BokehJS library is missing\");\n        }\n      }\n    }, 10, root)\n  }\n})(window);",
          "application/vnd.bokehjs_exec.v0+json": ""
         },
         "metadata": {
          "application/vnd.bokehjs_exec.v0+json": {
           "id": "3999"
          }
         },
         "output_type": "display_data"
        }
       ]
      }
     },
     "c4d3840d09a34c66b82e01cf3b8720ef": {
      "model_module": "@jupyter-widgets/base",
      "model_module_version": "1.2.0",
      "model_name": "LayoutModel",
      "state": {}
     },
     "c698bd74f6054736b7573cf630ef5686": {
      "model_module": "@jupyter-widgets/controls",
      "model_module_version": "1.5.0",
      "model_name": "DropdownModel",
      "state": {
       "_options_labels": [
        "Graph",
        "1992",
        "1993",
        "1994",
        "1995",
        "1996",
        "1997",
        "1998",
        "1999",
        "2000",
        "2001",
        "2002",
        "2003",
        "2004",
        "2005",
        "2006",
        "2007",
        "2008",
        "2009",
        "2010",
        "2011",
        "2012",
        "2013",
        "2014",
        "2015",
        "2016",
        "2017",
        "2018",
        "2019",
        "2020",
        "2021",
        "2022"
       ],
       "description": "Choisi",
       "index": 15,
       "layout": "IPY_MODEL_e93011224eaa466dbb0ab05939da6993",
       "style": "IPY_MODEL_5de122ac371e4ee5a252c6114ab9919c"
      }
     },
     "c71adc5775d84e338f7e6097c9c6f6e2": {
      "model_module": "@jupyter-widgets/controls",
      "model_module_version": "1.5.0",
      "model_name": "VBoxModel",
      "state": {
       "_dom_classes": [
        "widget-interact"
       ],
       "children": [
        "IPY_MODEL_f50efce8abff41558439a7b1695c194f",
        "IPY_MODEL_f9e7809e2cb14d6c93dbbf71bdd277a0"
       ],
       "layout": "IPY_MODEL_89ce44133fc14b68b1f467302c0899c0"
      }
     },
     "c7d1322110eb468494d64d119fa3ad5d": {
      "model_module": "@jupyter-widgets/base",
      "model_module_version": "1.2.0",
      "model_name": "LayoutModel",
      "state": {}
     },
     "c7f0a19c2d1e4520b41ac1f2c838cf8c": {
      "model_module": "@jupyter-widgets/base",
      "model_module_version": "1.2.0",
      "model_name": "LayoutModel",
      "state": {}
     },
     "c81e5e27a9314c2396e2a2bd8afd091e": {
      "model_module": "@jupyter-widgets/controls",
      "model_module_version": "1.5.0",
      "model_name": "VBoxModel",
      "state": {
       "_dom_classes": [
        "widget-interact"
       ],
       "children": [
        "IPY_MODEL_fd1332275e0a43c39fe7d1c85af4c390",
        "IPY_MODEL_08b2c180e3b8485f876a769d7be522b8"
       ],
       "layout": "IPY_MODEL_66d581bbfeef441991a7b1ce4769770f"
      }
     },
     "c85187f074fb41d5946a6d1774d73234": {
      "model_module": "@jupyter-widgets/controls",
      "model_module_version": "1.5.0",
      "model_name": "DropdownModel",
      "state": {
       "_options_labels": [
        "Graph",
        "1992",
        "1993",
        "1994",
        "1995",
        "1996",
        "1997",
        "1998",
        "1999",
        "2000",
        "2001",
        "2002",
        "2003",
        "2004",
        "2005",
        "2006",
        "2007",
        "2008",
        "2009",
        "2010",
        "2011",
        "2012",
        "2013",
        "2014",
        "2015",
        "2016",
        "2017",
        "2018",
        "2019",
        "2020",
        "2021",
        "2022"
       ],
       "description": "Choisi",
       "index": 9,
       "layout": "IPY_MODEL_f882496787af4da9885d80cbd92d55d7",
       "style": "IPY_MODEL_01feb0180786423cbd7734d376b87abc"
      }
     },
     "c8915b19e3514b0d952de4e22b84e7f5": {
      "model_module": "@jupyter-widgets/controls",
      "model_module_version": "1.5.0",
      "model_name": "DropdownModel",
      "state": {
       "_options_labels": [
        "Graph",
        "1992",
        "1993",
        "1994",
        "1995",
        "1996",
        "1997",
        "1998",
        "1999",
        "2000",
        "2001",
        "2002",
        "2003",
        "2004",
        "2005",
        "2006",
        "2007",
        "2008",
        "2009",
        "2010",
        "2011",
        "2012",
        "2013",
        "2014",
        "2015",
        "2016",
        "2017",
        "2018",
        "2019",
        "2020",
        "2021",
        "2022"
       ],
       "description": "Choisi",
       "index": 14,
       "layout": "IPY_MODEL_a7e2ab0609a54b9184858048ead23fc5",
       "style": "IPY_MODEL_103bcd2fdc2d4e4a843a3fe67bbed15b"
      }
     },
     "c8a0efa433d54290b793d47b83d201fa": {
      "model_module": "@jupyter-widgets/controls",
      "model_module_version": "1.5.0",
      "model_name": "VBoxModel",
      "state": {
       "_dom_classes": [
        "widget-interact"
       ],
       "children": [
        "IPY_MODEL_d4c379959f2a4df0821a347ae7746868",
        "IPY_MODEL_a4c262aeb2104b2295f230caf8c4839d"
       ],
       "layout": "IPY_MODEL_97a84c0de90248f99e08bcd13b11f034"
      }
     },
     "ca81d03e5f3a428b8bfb2f9dccfea548": {
      "model_module": "@jupyter-widgets/base",
      "model_module_version": "1.2.0",
      "model_name": "LayoutModel",
      "state": {}
     },
     "cbdeffde8284431fa9d58162a066178a": {
      "model_module": "@jupyter-widgets/controls",
      "model_module_version": "1.5.0",
      "model_name": "VBoxModel",
      "state": {
       "_dom_classes": [
        "widget-interact"
       ],
       "children": [
        "IPY_MODEL_d7605eaebb9a4b1a9bcbd2881c73bec8",
        "IPY_MODEL_17e3d3c281fd47ca9844219fb21dd2d4"
       ],
       "layout": "IPY_MODEL_b48b18967b9946e4a2129a04575fe4cd"
      }
     },
     "ccee8ff4f48444f9aa6575d2842f5291": {
      "model_module": "@jupyter-widgets/base",
      "model_module_version": "1.2.0",
      "model_name": "LayoutModel",
      "state": {}
     },
     "cdc973405e1f4a98b82c4148c69ad3d5": {
      "model_module": "@jupyter-widgets/controls",
      "model_module_version": "1.5.0",
      "model_name": "VBoxModel",
      "state": {
       "_dom_classes": [
        "widget-interact"
       ],
       "children": [
        "IPY_MODEL_a196c9b1fcfe411382dcfa899d5766b8",
        "IPY_MODEL_b44a9e5fb90c4a3f82903991e798af7c"
       ],
       "layout": "IPY_MODEL_66be2a830d39465bb7e01f0f0150d297"
      }
     },
     "ce2f05c0eeac4cebbc42509464e0bce4": {
      "model_module": "@jupyter-widgets/controls",
      "model_module_version": "1.5.0",
      "model_name": "DescriptionStyleModel",
      "state": {
       "description_width": ""
      }
     },
     "cf1c175a52574f09bd6d43a34bdeaf7b": {
      "model_module": "@jupyter-widgets/controls",
      "model_module_version": "1.5.0",
      "model_name": "VBoxModel",
      "state": {
       "_dom_classes": [
        "widget-interact"
       ],
       "children": [
        "IPY_MODEL_74997d5499444b039ad85c3fd8cea003",
        "IPY_MODEL_00360a9330204b389b34883e852d6f02"
       ],
       "layout": "IPY_MODEL_ecaa51088231400aafbfb187a1f25594"
      }
     },
     "cf8f44c0732e4b198e0a0edc09df9533": {
      "model_module": "@jupyter-widgets/controls",
      "model_module_version": "1.5.0",
      "model_name": "DescriptionStyleModel",
      "state": {
       "description_width": ""
      }
     },
     "d1b8ce993a194dc3ad9c12caf379e17e": {
      "model_module": "@jupyter-widgets/controls",
      "model_module_version": "1.5.0",
      "model_name": "DescriptionStyleModel",
      "state": {
       "description_width": ""
      }
     },
     "d338f0d6530c47c39921b40aee2028c9": {
      "model_module": "@jupyter-widgets/base",
      "model_module_version": "1.2.0",
      "model_name": "LayoutModel",
      "state": {}
     },
     "d3aa89b8fe1c461ba6cb3a475f0caf59": {
      "model_module": "@jupyter-widgets/controls",
      "model_module_version": "1.5.0",
      "model_name": "DropdownModel",
      "state": {
       "_options_labels": [
        "Graph",
        "1992",
        "1993",
        "1994",
        "1995",
        "1996",
        "1997",
        "1998",
        "1999",
        "2000",
        "2001",
        "2002",
        "2003",
        "2004",
        "2005",
        "2006",
        "2007",
        "2008",
        "2009",
        "2010",
        "2011",
        "2012",
        "2013",
        "2014",
        "2015",
        "2016",
        "2017",
        "2018",
        "2019",
        "2020",
        "2021",
        "2022"
       ],
       "description": "Choisi",
       "index": 9,
       "layout": "IPY_MODEL_eeb05d87c24e4812865b99fe58ad9ff3",
       "style": "IPY_MODEL_454b25c2f37446e5bee3043c6d9a39b5"
      }
     },
     "d481f9e657b6487e8643d83d2e639813": {
      "model_module": "@jupyter-widgets/output",
      "model_module_version": "1.0.0",
      "model_name": "OutputModel",
      "state": {
       "layout": "IPY_MODEL_9ff73db1dac4411891f58be311d890e6",
       "outputs": [
        {
         "ename": "ValueError",
         "evalue": "failed to validate LinearAxis(id='2106', ...).ticker: expected an instance of type Ticker, got 0       Janvier\n1       Février\n2          Mars\n3         Avril\n4           Mai\n5          Juin\n6       Juillet\n7          Aout\n8     Septembre\n9       Octobre\n10     Novembre\n11     Decembre\nName: Période, dtype: object of type Series",
         "output_type": "error",
         "traceback": [
          "\u001b[0;31m---------------------------------------------------------------------------\u001b[0m",
          "\u001b[0;31mValueError\u001b[0m                                Traceback (most recent call last)",
          "\u001b[0;32m~/anaconda3/lib/python3.9/site-packages/ipywidgets/widgets/interaction.py\u001b[0m in \u001b[0;36mupdate\u001b[0;34m(self, *args)\u001b[0m\n\u001b[1;32m    255\u001b[0m                     \u001b[0mvalue\u001b[0m \u001b[0;34m=\u001b[0m \u001b[0mwidget\u001b[0m\u001b[0;34m.\u001b[0m\u001b[0mget_interact_value\u001b[0m\u001b[0;34m(\u001b[0m\u001b[0;34m)\u001b[0m\u001b[0;34m\u001b[0m\u001b[0;34m\u001b[0m\u001b[0m\n\u001b[1;32m    256\u001b[0m                     \u001b[0mself\u001b[0m\u001b[0;34m.\u001b[0m\u001b[0mkwargs\u001b[0m\u001b[0;34m[\u001b[0m\u001b[0mwidget\u001b[0m\u001b[0;34m.\u001b[0m\u001b[0m_kwarg\u001b[0m\u001b[0;34m]\u001b[0m \u001b[0;34m=\u001b[0m \u001b[0mvalue\u001b[0m\u001b[0;34m\u001b[0m\u001b[0;34m\u001b[0m\u001b[0m\n\u001b[0;32m--> 257\u001b[0;31m                 \u001b[0mself\u001b[0m\u001b[0;34m.\u001b[0m\u001b[0mresult\u001b[0m \u001b[0;34m=\u001b[0m \u001b[0mself\u001b[0m\u001b[0;34m.\u001b[0m\u001b[0mf\u001b[0m\u001b[0;34m(\u001b[0m\u001b[0;34m**\u001b[0m\u001b[0mself\u001b[0m\u001b[0;34m.\u001b[0m\u001b[0mkwargs\u001b[0m\u001b[0;34m)\u001b[0m\u001b[0;34m\u001b[0m\u001b[0;34m\u001b[0m\u001b[0m\n\u001b[0m\u001b[1;32m    258\u001b[0m                 \u001b[0mshow_inline_matplotlib_plots\u001b[0m\u001b[0;34m(\u001b[0m\u001b[0;34m)\u001b[0m\u001b[0;34m\u001b[0m\u001b[0;34m\u001b[0m\u001b[0m\n\u001b[1;32m    259\u001b[0m                 \u001b[0;32mif\u001b[0m \u001b[0mself\u001b[0m\u001b[0;34m.\u001b[0m\u001b[0mauto_display\u001b[0m \u001b[0;32mand\u001b[0m \u001b[0mself\u001b[0m\u001b[0;34m.\u001b[0m\u001b[0mresult\u001b[0m \u001b[0;32mis\u001b[0m \u001b[0;32mnot\u001b[0m \u001b[0;32mNone\u001b[0m\u001b[0;34m:\u001b[0m\u001b[0;34m\u001b[0m\u001b[0;34m\u001b[0m\u001b[0m\n",
          "\u001b[0;32m/tmp/ipykernel_24999/1056493489.py\u001b[0m in \u001b[0;36maff_per_year\u001b[0;34m(Choisi)\u001b[0m\n\u001b[1;32m     68\u001b[0m         \u001b[0;31m#graph_per_year.background_fill_color = \"beige\"\u001b[0m\u001b[0;34m\u001b[0m\u001b[0;34m\u001b[0m\u001b[0m\n\u001b[1;32m     69\u001b[0m         \u001b[0mgraph_per_year\u001b[0m\u001b[0;34m.\u001b[0m\u001b[0mtoolbar\u001b[0m\u001b[0;34m.\u001b[0m\u001b[0mlogo\u001b[0m \u001b[0;34m=\u001b[0m \u001b[0;32mNone\u001b[0m\u001b[0;34m\u001b[0m\u001b[0;34m\u001b[0m\u001b[0m\n\u001b[0;32m---> 70\u001b[0;31m         \u001b[0mgraph_per_year\u001b[0m\u001b[0;34m.\u001b[0m\u001b[0mxaxis\u001b[0m\u001b[0;34m.\u001b[0m\u001b[0mticker\u001b[0m \u001b[0;34m=\u001b[0m\u001b[0mz\u001b[0m\u001b[0;34m[\u001b[0m\u001b[0;34m\"Période\"\u001b[0m\u001b[0;34m]\u001b[0m\u001b[0;34m\u001b[0m\u001b[0;34m\u001b[0m\u001b[0m\n\u001b[0m\u001b[1;32m     71\u001b[0m \u001b[0;34m\u001b[0m\u001b[0m\n\u001b[1;32m     72\u001b[0m         \u001b[0mgraph_per_year\u001b[0m\u001b[0;34m.\u001b[0m\u001b[0mxaxis\u001b[0m\u001b[0;34m.\u001b[0m\u001b[0mmajor_label_overrides\u001b[0m \u001b[0;34m=\u001b[0m \u001b[0mdict_mois\u001b[0m\u001b[0;34m\u001b[0m\u001b[0;34m\u001b[0m\u001b[0m\n",
          "\u001b[0;32m~/anaconda3/lib/python3.9/site-packages/bokeh/models/plots.py\u001b[0m in \u001b[0;36m__setattr__\u001b[0;34m(self, attr, value)\u001b[0m\n\u001b[1;32m    785\u001b[0m     \u001b[0;32mdef\u001b[0m \u001b[0m__setattr__\u001b[0m\u001b[0;34m(\u001b[0m\u001b[0mself\u001b[0m\u001b[0;34m,\u001b[0m \u001b[0mattr\u001b[0m\u001b[0;34m,\u001b[0m \u001b[0mvalue\u001b[0m\u001b[0;34m)\u001b[0m\u001b[0;34m:\u001b[0m\u001b[0;34m\u001b[0m\u001b[0;34m\u001b[0m\u001b[0m\n\u001b[1;32m    786\u001b[0m         \u001b[0;32mfor\u001b[0m \u001b[0mx\u001b[0m \u001b[0;32min\u001b[0m \u001b[0mself\u001b[0m\u001b[0;34m:\u001b[0m\u001b[0;34m\u001b[0m\u001b[0;34m\u001b[0m\u001b[0m\n\u001b[0;32m--> 787\u001b[0;31m             \u001b[0msetattr\u001b[0m\u001b[0;34m(\u001b[0m\u001b[0mx\u001b[0m\u001b[0;34m,\u001b[0m \u001b[0mattr\u001b[0m\u001b[0;34m,\u001b[0m \u001b[0mvalue\u001b[0m\u001b[0;34m)\u001b[0m\u001b[0;34m\u001b[0m\u001b[0;34m\u001b[0m\u001b[0m\n\u001b[0m\u001b[1;32m    788\u001b[0m     \u001b[0;32mdef\u001b[0m \u001b[0m__getattribute__\u001b[0m\u001b[0;34m(\u001b[0m\u001b[0mself\u001b[0m\u001b[0;34m,\u001b[0m \u001b[0mattr\u001b[0m\u001b[0;34m)\u001b[0m\u001b[0;34m:\u001b[0m\u001b[0;34m\u001b[0m\u001b[0;34m\u001b[0m\u001b[0m\n\u001b[1;32m    789\u001b[0m         \u001b[0;32mif\u001b[0m \u001b[0mattr\u001b[0m \u001b[0;32min\u001b[0m \u001b[0mdir\u001b[0m\u001b[0;34m(\u001b[0m\u001b[0mlist\u001b[0m\u001b[0;34m)\u001b[0m\u001b[0;34m:\u001b[0m\u001b[0;34m\u001b[0m\u001b[0;34m\u001b[0m\u001b[0m\n",
          "\u001b[0;32m~/anaconda3/lib/python3.9/site-packages/bokeh/core/has_props.py\u001b[0m in \u001b[0;36m__setattr__\u001b[0;34m(self, name, value)\u001b[0m\n\u001b[1;32m    228\u001b[0m         \u001b[0mproperties\u001b[0m \u001b[0;34m=\u001b[0m \u001b[0mself\u001b[0m\u001b[0;34m.\u001b[0m\u001b[0mproperties\u001b[0m\u001b[0;34m(\u001b[0m\u001b[0m_with_props\u001b[0m\u001b[0;34m=\u001b[0m\u001b[0;32mTrue\u001b[0m\u001b[0;34m)\u001b[0m\u001b[0;34m\u001b[0m\u001b[0;34m\u001b[0m\u001b[0m\n\u001b[1;32m    229\u001b[0m         \u001b[0;32mif\u001b[0m \u001b[0mname\u001b[0m \u001b[0;32min\u001b[0m \u001b[0mproperties\u001b[0m\u001b[0;34m:\u001b[0m\u001b[0;34m\u001b[0m\u001b[0;34m\u001b[0m\u001b[0m\n\u001b[0;32m--> 230\u001b[0;31m             \u001b[0;32mreturn\u001b[0m \u001b[0msuper\u001b[0m\u001b[0;34m(\u001b[0m\u001b[0;34m)\u001b[0m\u001b[0;34m.\u001b[0m\u001b[0m__setattr__\u001b[0m\u001b[0;34m(\u001b[0m\u001b[0mname\u001b[0m\u001b[0;34m,\u001b[0m \u001b[0mvalue\u001b[0m\u001b[0;34m)\u001b[0m\u001b[0;34m\u001b[0m\u001b[0;34m\u001b[0m\u001b[0m\n\u001b[0m\u001b[1;32m    231\u001b[0m \u001b[0;34m\u001b[0m\u001b[0m\n\u001b[1;32m    232\u001b[0m         \u001b[0mdescriptor\u001b[0m \u001b[0;34m=\u001b[0m \u001b[0mgetattr\u001b[0m\u001b[0;34m(\u001b[0m\u001b[0mself\u001b[0m\u001b[0;34m.\u001b[0m\u001b[0m__class__\u001b[0m\u001b[0;34m,\u001b[0m \u001b[0mname\u001b[0m\u001b[0;34m,\u001b[0m \u001b[0;32mNone\u001b[0m\u001b[0;34m)\u001b[0m\u001b[0;34m\u001b[0m\u001b[0;34m\u001b[0m\u001b[0m\n",
          "\u001b[0;32m~/anaconda3/lib/python3.9/site-packages/bokeh/core/property/descriptors.py\u001b[0m in \u001b[0;36m__set__\u001b[0;34m(self, obj, value, setter)\u001b[0m\n\u001b[1;32m    281\u001b[0m             \u001b[0;32mraise\u001b[0m \u001b[0mRuntimeError\u001b[0m\u001b[0;34m(\u001b[0m\u001b[0;34mf\"{class_name}.{self.name} is a readonly property\"\u001b[0m\u001b[0;34m)\u001b[0m\u001b[0;34m\u001b[0m\u001b[0;34m\u001b[0m\u001b[0m\n\u001b[1;32m    282\u001b[0m \u001b[0;34m\u001b[0m\u001b[0m\n\u001b[0;32m--> 283\u001b[0;31m         \u001b[0mvalue\u001b[0m \u001b[0;34m=\u001b[0m \u001b[0mself\u001b[0m\u001b[0;34m.\u001b[0m\u001b[0mproperty\u001b[0m\u001b[0;34m.\u001b[0m\u001b[0mprepare_value\u001b[0m\u001b[0;34m(\u001b[0m\u001b[0mobj\u001b[0m\u001b[0;34m,\u001b[0m \u001b[0mself\u001b[0m\u001b[0;34m.\u001b[0m\u001b[0mname\u001b[0m\u001b[0;34m,\u001b[0m \u001b[0mvalue\u001b[0m\u001b[0;34m)\u001b[0m\u001b[0;34m\u001b[0m\u001b[0;34m\u001b[0m\u001b[0m\n\u001b[0m\u001b[1;32m    284\u001b[0m         \u001b[0mold\u001b[0m \u001b[0;34m=\u001b[0m \u001b[0mself\u001b[0m\u001b[0;34m.\u001b[0m\u001b[0m_get\u001b[0m\u001b[0;34m(\u001b[0m\u001b[0mobj\u001b[0m\u001b[0;34m)\u001b[0m\u001b[0;34m\u001b[0m\u001b[0;34m\u001b[0m\u001b[0m\n\u001b[1;32m    285\u001b[0m         \u001b[0mself\u001b[0m\u001b[0;34m.\u001b[0m\u001b[0m_set\u001b[0m\u001b[0;34m(\u001b[0m\u001b[0mobj\u001b[0m\u001b[0;34m,\u001b[0m \u001b[0mold\u001b[0m\u001b[0;34m,\u001b[0m \u001b[0mvalue\u001b[0m\u001b[0;34m,\u001b[0m \u001b[0msetter\u001b[0m\u001b[0;34m=\u001b[0m\u001b[0msetter\u001b[0m\u001b[0;34m)\u001b[0m\u001b[0;34m\u001b[0m\u001b[0;34m\u001b[0m\u001b[0m\n",
          "\u001b[0;32m~/anaconda3/lib/python3.9/site-packages/bokeh/core/property/bases.py\u001b[0m in \u001b[0;36mprepare_value\u001b[0;34m(self, owner, name, value, hint)\u001b[0m\n\u001b[1;32m    363\u001b[0m         \u001b[0;32melse\u001b[0m\u001b[0;34m:\u001b[0m\u001b[0;34m\u001b[0m\u001b[0;34m\u001b[0m\u001b[0m\n\u001b[1;32m    364\u001b[0m             \u001b[0mobj_repr\u001b[0m \u001b[0;34m=\u001b[0m \u001b[0mowner\u001b[0m \u001b[0;32mif\u001b[0m \u001b[0misinstance\u001b[0m\u001b[0;34m(\u001b[0m\u001b[0mowner\u001b[0m\u001b[0;34m,\u001b[0m \u001b[0mHasProps\u001b[0m\u001b[0;34m)\u001b[0m \u001b[0;32melse\u001b[0m \u001b[0mowner\u001b[0m\u001b[0;34m.\u001b[0m\u001b[0m__name__\u001b[0m\u001b[0;34m\u001b[0m\u001b[0;34m\u001b[0m\u001b[0m\n\u001b[0;32m--> 365\u001b[0;31m             \u001b[0;32mraise\u001b[0m \u001b[0mValueError\u001b[0m\u001b[0;34m(\u001b[0m\u001b[0;34mf\"failed to validate {obj_repr}.{name}: {error}\"\u001b[0m\u001b[0;34m)\u001b[0m\u001b[0;34m\u001b[0m\u001b[0;34m\u001b[0m\u001b[0m\n\u001b[0m\u001b[1;32m    366\u001b[0m \u001b[0;34m\u001b[0m\u001b[0m\n\u001b[1;32m    367\u001b[0m         \u001b[0;32mif\u001b[0m \u001b[0misinstance\u001b[0m\u001b[0;34m(\u001b[0m\u001b[0mowner\u001b[0m\u001b[0;34m,\u001b[0m \u001b[0mHasProps\u001b[0m\u001b[0;34m)\u001b[0m\u001b[0;34m:\u001b[0m\u001b[0;34m\u001b[0m\u001b[0;34m\u001b[0m\u001b[0m\n",
          "\u001b[0;31mValueError\u001b[0m: failed to validate LinearAxis(id='2106', ...).ticker: expected an instance of type Ticker, got 0       Janvier\n1       Février\n2          Mars\n3         Avril\n4           Mai\n5          Juin\n6       Juillet\n7          Aout\n8     Septembre\n9       Octobre\n10     Novembre\n11     Decembre\nName: Période, dtype: object of type Series"
         ]
        }
       ]
      }
     },
     "d4c379959f2a4df0821a347ae7746868": {
      "model_module": "@jupyter-widgets/controls",
      "model_module_version": "1.5.0",
      "model_name": "DropdownModel",
      "state": {
       "_options_labels": [
        "Graph",
        "1992",
        "1993",
        "1994",
        "1995",
        "1996",
        "1997",
        "1998",
        "1999",
        "2000",
        "2001",
        "2002",
        "2003",
        "2004",
        "2005",
        "2006",
        "2007",
        "2008",
        "2009",
        "2010",
        "2011",
        "2012",
        "2013",
        "2014",
        "2015",
        "2016",
        "2017",
        "2018",
        "2019",
        "2020",
        "2021",
        "2022"
       ],
       "description": "Choisi",
       "index": 9,
       "layout": "IPY_MODEL_b8229a677b954c209b36fadae028e115",
       "style": "IPY_MODEL_bdd6465ec3f3434a9673b5d83f4dca2b"
      }
     },
     "d56e8145a7dd44a89589f678ab2bc363": {
      "model_module": "@jupyter-widgets/base",
      "model_module_version": "1.2.0",
      "model_name": "LayoutModel",
      "state": {}
     },
     "d58624ba9e924a1ab49642121754a504": {
      "model_module": "@jupyter-widgets/controls",
      "model_module_version": "1.5.0",
      "model_name": "DescriptionStyleModel",
      "state": {
       "description_width": ""
      }
     },
     "d5f8878c224a4394ae9eb0c1d3951fc2": {
      "model_module": "@jupyter-widgets/base",
      "model_module_version": "1.2.0",
      "model_name": "LayoutModel",
      "state": {}
     },
     "d7605eaebb9a4b1a9bcbd2881c73bec8": {
      "model_module": "@jupyter-widgets/controls",
      "model_module_version": "1.5.0",
      "model_name": "DropdownModel",
      "state": {
       "_options_labels": [
        "Graph",
        "1992",
        "1993",
        "1994",
        "1995",
        "1996",
        "1997",
        "1998",
        "1999",
        "2000",
        "2001",
        "2002",
        "2003",
        "2004",
        "2005",
        "2006",
        "2007",
        "2008",
        "2009",
        "2010",
        "2011",
        "2012",
        "2013",
        "2014",
        "2015",
        "2016",
        "2017",
        "2018",
        "2019",
        "2020",
        "2021",
        "2022"
       ],
       "description": "Choisi",
       "index": 13,
       "layout": "IPY_MODEL_7ea7b23b8ead425b968ef93acc33eff8",
       "style": "IPY_MODEL_5924c75e71c64855ad62a47d8722fbf8"
      }
     },
     "d8b901c5b5104d94a9adb61698d9be28": {
      "model_module": "@jupyter-widgets/base",
      "model_module_version": "1.2.0",
      "model_name": "LayoutModel",
      "state": {}
     },
     "d8bba51df246420cbc35acd0f12b0c28": {
      "model_module": "@jupyter-widgets/controls",
      "model_module_version": "1.5.0",
      "model_name": "DropdownModel",
      "state": {
       "_options_labels": [
        "Graph",
        "1992",
        "1993",
        "1994",
        "1995",
        "1996",
        "1997",
        "1998",
        "1999",
        "2000",
        "2001",
        "2002",
        "2003",
        "2004",
        "2005",
        "2006",
        "2007",
        "2008",
        "2009",
        "2010",
        "2011",
        "2012",
        "2013",
        "2014",
        "2015",
        "2016",
        "2017",
        "2018",
        "2019",
        "2020",
        "2021",
        "2022"
       ],
       "description": "Choisi",
       "index": 9,
       "layout": "IPY_MODEL_27574971e2c94725b4d4f65036646ba4",
       "style": "IPY_MODEL_8d8b2c7928f8403db6a5f4d27f42ec2c"
      }
     },
     "da165847b15d4f3eb2268a8c380617fa": {
      "model_module": "@jupyter-widgets/controls",
      "model_module_version": "1.5.0",
      "model_name": "DescriptionStyleModel",
      "state": {
       "description_width": ""
      }
     },
     "da61e02234e14c18b2ab23d9419d574b": {
      "model_module": "@jupyter-widgets/base",
      "model_module_version": "1.2.0",
      "model_name": "LayoutModel",
      "state": {}
     },
     "db51e14c8cb74280bc9d6e514bd007d5": {
      "model_module": "@jupyter-widgets/controls",
      "model_module_version": "1.5.0",
      "model_name": "DescriptionStyleModel",
      "state": {
       "description_width": ""
      }
     },
     "df7ce764dbbc489baf781425c1d9e2d0": {
      "model_module": "@jupyter-widgets/base",
      "model_module_version": "1.2.0",
      "model_name": "LayoutModel",
      "state": {}
     },
     "dfc3f07429064cf08bb67b4741cd8db7": {
      "model_module": "@jupyter-widgets/controls",
      "model_module_version": "1.5.0",
      "model_name": "VBoxModel",
      "state": {
       "_dom_classes": [
        "widget-interact"
       ],
       "children": [
        "IPY_MODEL_c8915b19e3514b0d952de4e22b84e7f5",
        "IPY_MODEL_264e143f127947f8818e5c22995afc75"
       ],
       "layout": "IPY_MODEL_e052a29747844b6e937d2306bc8b67a5"
      }
     },
     "e052a29747844b6e937d2306bc8b67a5": {
      "model_module": "@jupyter-widgets/base",
      "model_module_version": "1.2.0",
      "model_name": "LayoutModel",
      "state": {}
     },
     "e14f0fa1e8934c97bffff2c98d051145": {
      "model_module": "@jupyter-widgets/controls",
      "model_module_version": "1.5.0",
      "model_name": "DropdownModel",
      "state": {
       "_options_labels": [
        "Graph",
        "1992",
        "1993",
        "1994",
        "1995",
        "1996",
        "1997",
        "1998",
        "1999",
        "2000",
        "2001",
        "2002",
        "2003",
        "2004",
        "2005",
        "2006",
        "2007",
        "2008",
        "2009",
        "2010",
        "2011",
        "2012",
        "2013",
        "2014",
        "2015",
        "2016",
        "2017",
        "2018",
        "2019",
        "2020",
        "2021",
        "2022"
       ],
       "description": "Choisi",
       "index": 0,
       "layout": "IPY_MODEL_f97c7c04954e45bc9a1067d97547b9fc",
       "style": "IPY_MODEL_da165847b15d4f3eb2268a8c380617fa"
      }
     },
     "e15596cbd850406baee7494eca560641": {
      "model_module": "@jupyter-widgets/controls",
      "model_module_version": "1.5.0",
      "model_name": "DescriptionStyleModel",
      "state": {
       "description_width": ""
      }
     },
     "e1f84f1caf5948ca8099d8cafcf89c65": {
      "model_module": "@jupyter-widgets/output",
      "model_module_version": "1.0.0",
      "model_name": "OutputModel",
      "state": {
       "layout": "IPY_MODEL_37ec0f1a23f145c2a3af1f5ab5d875a8",
       "outputs": [
        {
         "ename": "ValueError",
         "evalue": "failed to validate LinearAxis(id='1944', ...).ticker: expected an instance of type Ticker, got 0       Janvier\n1       Février\n2          Mars\n3         Avril\n4           Mai\n5          Juin\n6       Juillet\n7          Aout\n8     Septembre\n9       Octobre\n10     Novembre\n11     Decembre\nName: Période, dtype: object of type Series",
         "output_type": "error",
         "traceback": [
          "\u001b[0;31m---------------------------------------------------------------------------\u001b[0m",
          "\u001b[0;31mValueError\u001b[0m                                Traceback (most recent call last)",
          "\u001b[0;32m~/anaconda3/lib/python3.9/site-packages/ipywidgets/widgets/interaction.py\u001b[0m in \u001b[0;36mupdate\u001b[0;34m(self, *args)\u001b[0m\n\u001b[1;32m    255\u001b[0m                     \u001b[0mvalue\u001b[0m \u001b[0;34m=\u001b[0m \u001b[0mwidget\u001b[0m\u001b[0;34m.\u001b[0m\u001b[0mget_interact_value\u001b[0m\u001b[0;34m(\u001b[0m\u001b[0;34m)\u001b[0m\u001b[0;34m\u001b[0m\u001b[0;34m\u001b[0m\u001b[0m\n\u001b[1;32m    256\u001b[0m                     \u001b[0mself\u001b[0m\u001b[0;34m.\u001b[0m\u001b[0mkwargs\u001b[0m\u001b[0;34m[\u001b[0m\u001b[0mwidget\u001b[0m\u001b[0;34m.\u001b[0m\u001b[0m_kwarg\u001b[0m\u001b[0;34m]\u001b[0m \u001b[0;34m=\u001b[0m \u001b[0mvalue\u001b[0m\u001b[0;34m\u001b[0m\u001b[0;34m\u001b[0m\u001b[0m\n\u001b[0;32m--> 257\u001b[0;31m                 \u001b[0mself\u001b[0m\u001b[0;34m.\u001b[0m\u001b[0mresult\u001b[0m \u001b[0;34m=\u001b[0m \u001b[0mself\u001b[0m\u001b[0;34m.\u001b[0m\u001b[0mf\u001b[0m\u001b[0;34m(\u001b[0m\u001b[0;34m**\u001b[0m\u001b[0mself\u001b[0m\u001b[0;34m.\u001b[0m\u001b[0mkwargs\u001b[0m\u001b[0;34m)\u001b[0m\u001b[0;34m\u001b[0m\u001b[0;34m\u001b[0m\u001b[0m\n\u001b[0m\u001b[1;32m    258\u001b[0m                 \u001b[0mshow_inline_matplotlib_plots\u001b[0m\u001b[0;34m(\u001b[0m\u001b[0;34m)\u001b[0m\u001b[0;34m\u001b[0m\u001b[0;34m\u001b[0m\u001b[0m\n\u001b[1;32m    259\u001b[0m                 \u001b[0;32mif\u001b[0m \u001b[0mself\u001b[0m\u001b[0;34m.\u001b[0m\u001b[0mauto_display\u001b[0m \u001b[0;32mand\u001b[0m \u001b[0mself\u001b[0m\u001b[0;34m.\u001b[0m\u001b[0mresult\u001b[0m \u001b[0;32mis\u001b[0m \u001b[0;32mnot\u001b[0m \u001b[0;32mNone\u001b[0m\u001b[0;34m:\u001b[0m\u001b[0;34m\u001b[0m\u001b[0;34m\u001b[0m\u001b[0m\n",
          "\u001b[0;32m/tmp/ipykernel_24999/3420287145.py\u001b[0m in \u001b[0;36maff_per_year\u001b[0;34m(Choisi)\u001b[0m\n\u001b[1;32m     68\u001b[0m         \u001b[0;31m#graph_per_year.background_fill_color = \"beige\"\u001b[0m\u001b[0;34m\u001b[0m\u001b[0;34m\u001b[0m\u001b[0m\n\u001b[1;32m     69\u001b[0m         \u001b[0mgraph_per_year\u001b[0m\u001b[0;34m.\u001b[0m\u001b[0mtoolbar\u001b[0m\u001b[0;34m.\u001b[0m\u001b[0mlogo\u001b[0m \u001b[0;34m=\u001b[0m \u001b[0;32mNone\u001b[0m\u001b[0;34m\u001b[0m\u001b[0;34m\u001b[0m\u001b[0m\n\u001b[0;32m---> 70\u001b[0;31m         \u001b[0mgraph_per_year\u001b[0m\u001b[0;34m.\u001b[0m\u001b[0mxaxis\u001b[0m\u001b[0;34m.\u001b[0m\u001b[0mticker\u001b[0m \u001b[0;34m=\u001b[0m\u001b[0mz\u001b[0m\u001b[0;34m[\u001b[0m\u001b[0;34m\"Période\"\u001b[0m\u001b[0;34m]\u001b[0m\u001b[0;34m\u001b[0m\u001b[0;34m\u001b[0m\u001b[0m\n\u001b[0m\u001b[1;32m     71\u001b[0m \u001b[0;34m\u001b[0m\u001b[0m\n\u001b[1;32m     72\u001b[0m         \u001b[0mgraph_per_year\u001b[0m\u001b[0;34m.\u001b[0m\u001b[0mxaxis\u001b[0m\u001b[0;34m.\u001b[0m\u001b[0mmajor_label_overrides\u001b[0m \u001b[0;34m=\u001b[0m \u001b[0mdict_mois\u001b[0m\u001b[0;34m\u001b[0m\u001b[0;34m\u001b[0m\u001b[0m\n",
          "\u001b[0;32m~/anaconda3/lib/python3.9/site-packages/bokeh/models/plots.py\u001b[0m in \u001b[0;36m__setattr__\u001b[0;34m(self, attr, value)\u001b[0m\n\u001b[1;32m    785\u001b[0m     \u001b[0;32mdef\u001b[0m \u001b[0m__setattr__\u001b[0m\u001b[0;34m(\u001b[0m\u001b[0mself\u001b[0m\u001b[0;34m,\u001b[0m \u001b[0mattr\u001b[0m\u001b[0;34m,\u001b[0m \u001b[0mvalue\u001b[0m\u001b[0;34m)\u001b[0m\u001b[0;34m:\u001b[0m\u001b[0;34m\u001b[0m\u001b[0;34m\u001b[0m\u001b[0m\n\u001b[1;32m    786\u001b[0m         \u001b[0;32mfor\u001b[0m \u001b[0mx\u001b[0m \u001b[0;32min\u001b[0m \u001b[0mself\u001b[0m\u001b[0;34m:\u001b[0m\u001b[0;34m\u001b[0m\u001b[0;34m\u001b[0m\u001b[0m\n\u001b[0;32m--> 787\u001b[0;31m             \u001b[0msetattr\u001b[0m\u001b[0;34m(\u001b[0m\u001b[0mx\u001b[0m\u001b[0;34m,\u001b[0m \u001b[0mattr\u001b[0m\u001b[0;34m,\u001b[0m \u001b[0mvalue\u001b[0m\u001b[0;34m)\u001b[0m\u001b[0;34m\u001b[0m\u001b[0;34m\u001b[0m\u001b[0m\n\u001b[0m\u001b[1;32m    788\u001b[0m     \u001b[0;32mdef\u001b[0m \u001b[0m__getattribute__\u001b[0m\u001b[0;34m(\u001b[0m\u001b[0mself\u001b[0m\u001b[0;34m,\u001b[0m \u001b[0mattr\u001b[0m\u001b[0;34m)\u001b[0m\u001b[0;34m:\u001b[0m\u001b[0;34m\u001b[0m\u001b[0;34m\u001b[0m\u001b[0m\n\u001b[1;32m    789\u001b[0m         \u001b[0;32mif\u001b[0m \u001b[0mattr\u001b[0m \u001b[0;32min\u001b[0m \u001b[0mdir\u001b[0m\u001b[0;34m(\u001b[0m\u001b[0mlist\u001b[0m\u001b[0;34m)\u001b[0m\u001b[0;34m:\u001b[0m\u001b[0;34m\u001b[0m\u001b[0;34m\u001b[0m\u001b[0m\n",
          "\u001b[0;32m~/anaconda3/lib/python3.9/site-packages/bokeh/core/has_props.py\u001b[0m in \u001b[0;36m__setattr__\u001b[0;34m(self, name, value)\u001b[0m\n\u001b[1;32m    228\u001b[0m         \u001b[0mproperties\u001b[0m \u001b[0;34m=\u001b[0m \u001b[0mself\u001b[0m\u001b[0;34m.\u001b[0m\u001b[0mproperties\u001b[0m\u001b[0;34m(\u001b[0m\u001b[0m_with_props\u001b[0m\u001b[0;34m=\u001b[0m\u001b[0;32mTrue\u001b[0m\u001b[0;34m)\u001b[0m\u001b[0;34m\u001b[0m\u001b[0;34m\u001b[0m\u001b[0m\n\u001b[1;32m    229\u001b[0m         \u001b[0;32mif\u001b[0m \u001b[0mname\u001b[0m \u001b[0;32min\u001b[0m \u001b[0mproperties\u001b[0m\u001b[0;34m:\u001b[0m\u001b[0;34m\u001b[0m\u001b[0;34m\u001b[0m\u001b[0m\n\u001b[0;32m--> 230\u001b[0;31m             \u001b[0;32mreturn\u001b[0m \u001b[0msuper\u001b[0m\u001b[0;34m(\u001b[0m\u001b[0;34m)\u001b[0m\u001b[0;34m.\u001b[0m\u001b[0m__setattr__\u001b[0m\u001b[0;34m(\u001b[0m\u001b[0mname\u001b[0m\u001b[0;34m,\u001b[0m \u001b[0mvalue\u001b[0m\u001b[0;34m)\u001b[0m\u001b[0;34m\u001b[0m\u001b[0;34m\u001b[0m\u001b[0m\n\u001b[0m\u001b[1;32m    231\u001b[0m \u001b[0;34m\u001b[0m\u001b[0m\n\u001b[1;32m    232\u001b[0m         \u001b[0mdescriptor\u001b[0m \u001b[0;34m=\u001b[0m \u001b[0mgetattr\u001b[0m\u001b[0;34m(\u001b[0m\u001b[0mself\u001b[0m\u001b[0;34m.\u001b[0m\u001b[0m__class__\u001b[0m\u001b[0;34m,\u001b[0m \u001b[0mname\u001b[0m\u001b[0;34m,\u001b[0m \u001b[0;32mNone\u001b[0m\u001b[0;34m)\u001b[0m\u001b[0;34m\u001b[0m\u001b[0;34m\u001b[0m\u001b[0m\n",
          "\u001b[0;32m~/anaconda3/lib/python3.9/site-packages/bokeh/core/property/descriptors.py\u001b[0m in \u001b[0;36m__set__\u001b[0;34m(self, obj, value, setter)\u001b[0m\n\u001b[1;32m    281\u001b[0m             \u001b[0;32mraise\u001b[0m \u001b[0mRuntimeError\u001b[0m\u001b[0;34m(\u001b[0m\u001b[0;34mf\"{class_name}.{self.name} is a readonly property\"\u001b[0m\u001b[0;34m)\u001b[0m\u001b[0;34m\u001b[0m\u001b[0;34m\u001b[0m\u001b[0m\n\u001b[1;32m    282\u001b[0m \u001b[0;34m\u001b[0m\u001b[0m\n\u001b[0;32m--> 283\u001b[0;31m         \u001b[0mvalue\u001b[0m \u001b[0;34m=\u001b[0m \u001b[0mself\u001b[0m\u001b[0;34m.\u001b[0m\u001b[0mproperty\u001b[0m\u001b[0;34m.\u001b[0m\u001b[0mprepare_value\u001b[0m\u001b[0;34m(\u001b[0m\u001b[0mobj\u001b[0m\u001b[0;34m,\u001b[0m \u001b[0mself\u001b[0m\u001b[0;34m.\u001b[0m\u001b[0mname\u001b[0m\u001b[0;34m,\u001b[0m \u001b[0mvalue\u001b[0m\u001b[0;34m)\u001b[0m\u001b[0;34m\u001b[0m\u001b[0;34m\u001b[0m\u001b[0m\n\u001b[0m\u001b[1;32m    284\u001b[0m         \u001b[0mold\u001b[0m \u001b[0;34m=\u001b[0m \u001b[0mself\u001b[0m\u001b[0;34m.\u001b[0m\u001b[0m_get\u001b[0m\u001b[0;34m(\u001b[0m\u001b[0mobj\u001b[0m\u001b[0;34m)\u001b[0m\u001b[0;34m\u001b[0m\u001b[0;34m\u001b[0m\u001b[0m\n\u001b[1;32m    285\u001b[0m         \u001b[0mself\u001b[0m\u001b[0;34m.\u001b[0m\u001b[0m_set\u001b[0m\u001b[0;34m(\u001b[0m\u001b[0mobj\u001b[0m\u001b[0;34m,\u001b[0m \u001b[0mold\u001b[0m\u001b[0;34m,\u001b[0m \u001b[0mvalue\u001b[0m\u001b[0;34m,\u001b[0m \u001b[0msetter\u001b[0m\u001b[0;34m=\u001b[0m\u001b[0msetter\u001b[0m\u001b[0;34m)\u001b[0m\u001b[0;34m\u001b[0m\u001b[0;34m\u001b[0m\u001b[0m\n",
          "\u001b[0;32m~/anaconda3/lib/python3.9/site-packages/bokeh/core/property/bases.py\u001b[0m in \u001b[0;36mprepare_value\u001b[0;34m(self, owner, name, value, hint)\u001b[0m\n\u001b[1;32m    363\u001b[0m         \u001b[0;32melse\u001b[0m\u001b[0;34m:\u001b[0m\u001b[0;34m\u001b[0m\u001b[0;34m\u001b[0m\u001b[0m\n\u001b[1;32m    364\u001b[0m             \u001b[0mobj_repr\u001b[0m \u001b[0;34m=\u001b[0m \u001b[0mowner\u001b[0m \u001b[0;32mif\u001b[0m \u001b[0misinstance\u001b[0m\u001b[0;34m(\u001b[0m\u001b[0mowner\u001b[0m\u001b[0;34m,\u001b[0m \u001b[0mHasProps\u001b[0m\u001b[0;34m)\u001b[0m \u001b[0;32melse\u001b[0m \u001b[0mowner\u001b[0m\u001b[0;34m.\u001b[0m\u001b[0m__name__\u001b[0m\u001b[0;34m\u001b[0m\u001b[0;34m\u001b[0m\u001b[0m\n\u001b[0;32m--> 365\u001b[0;31m             \u001b[0;32mraise\u001b[0m \u001b[0mValueError\u001b[0m\u001b[0;34m(\u001b[0m\u001b[0;34mf\"failed to validate {obj_repr}.{name}: {error}\"\u001b[0m\u001b[0;34m)\u001b[0m\u001b[0;34m\u001b[0m\u001b[0;34m\u001b[0m\u001b[0m\n\u001b[0m\u001b[1;32m    366\u001b[0m \u001b[0;34m\u001b[0m\u001b[0m\n\u001b[1;32m    367\u001b[0m         \u001b[0;32mif\u001b[0m \u001b[0misinstance\u001b[0m\u001b[0;34m(\u001b[0m\u001b[0mowner\u001b[0m\u001b[0;34m,\u001b[0m \u001b[0mHasProps\u001b[0m\u001b[0;34m)\u001b[0m\u001b[0;34m:\u001b[0m\u001b[0;34m\u001b[0m\u001b[0;34m\u001b[0m\u001b[0m\n",
          "\u001b[0;31mValueError\u001b[0m: failed to validate LinearAxis(id='1944', ...).ticker: expected an instance of type Ticker, got 0       Janvier\n1       Février\n2          Mars\n3         Avril\n4           Mai\n5          Juin\n6       Juillet\n7          Aout\n8     Septembre\n9       Octobre\n10     Novembre\n11     Decembre\nName: Période, dtype: object of type Series"
         ]
        }
       ]
      }
     },
     "e2f7d753dfe24eb3b7e38a004d2547c6": {
      "model_module": "@jupyter-widgets/controls",
      "model_module_version": "1.5.0",
      "model_name": "DropdownModel",
      "state": {
       "_options_labels": [
        "Graph",
        "1992",
        "1993",
        "1994",
        "1995",
        "1996",
        "1997",
        "1998",
        "1999",
        "2000",
        "2001",
        "2002",
        "2003",
        "2004",
        "2005",
        "2006",
        "2007",
        "2008",
        "2009",
        "2010",
        "2011",
        "2012",
        "2013",
        "2014",
        "2015",
        "2016",
        "2017",
        "2018",
        "2019",
        "2020",
        "2021",
        "2022"
       ],
       "description": "Choisi",
       "index": 3,
       "layout": "IPY_MODEL_b2df056487574dc4a95c833cbf1a4d51",
       "style": "IPY_MODEL_861654ad3dfe40858eb43e58753139e5"
      }
     },
     "e3da466e16ff4df9a787129abe811104": {
      "model_module": "@jupyter-widgets/base",
      "model_module_version": "1.2.0",
      "model_name": "LayoutModel",
      "state": {}
     },
     "e57f636e8e0f412987f35f00597d7298": {
      "model_module": "@jupyter-widgets/controls",
      "model_module_version": "1.5.0",
      "model_name": "VBoxModel",
      "state": {
       "_dom_classes": [
        "widget-interact"
       ],
       "children": [
        "IPY_MODEL_e14f0fa1e8934c97bffff2c98d051145",
        "IPY_MODEL_50a6ff9645544feaae7fe9847f3661b0"
       ],
       "layout": "IPY_MODEL_1a9946957b5f45ab890104fcafce5b1e"
      }
     },
     "e637ed3082694612b37de89a94347991": {
      "model_module": "@jupyter-widgets/controls",
      "model_module_version": "1.5.0",
      "model_name": "DropdownModel",
      "state": {
       "_options_labels": [
        "Graph",
        "1992",
        "1993",
        "1994",
        "1995",
        "1996",
        "1997",
        "1998",
        "1999",
        "2000",
        "2001",
        "2002",
        "2003",
        "2004",
        "2005",
        "2006",
        "2007",
        "2008",
        "2009",
        "2010",
        "2011",
        "2012",
        "2013",
        "2014",
        "2015",
        "2016",
        "2017",
        "2018",
        "2019",
        "2020",
        "2021",
        "2022"
       ],
       "description": "Choisi",
       "index": 9,
       "layout": "IPY_MODEL_b448194fb02f4c40b833598be31743dc",
       "style": "IPY_MODEL_e9e0e7c3f605464b936b200ec128cd1c"
      }
     },
     "e7904561b4f543338ef9c1844a6842f3": {
      "model_module": "@jupyter-widgets/base",
      "model_module_version": "1.2.0",
      "model_name": "LayoutModel",
      "state": {}
     },
     "e93011224eaa466dbb0ab05939da6993": {
      "model_module": "@jupyter-widgets/base",
      "model_module_version": "1.2.0",
      "model_name": "LayoutModel",
      "state": {}
     },
     "e9e0e7c3f605464b936b200ec128cd1c": {
      "model_module": "@jupyter-widgets/controls",
      "model_module_version": "1.5.0",
      "model_name": "DescriptionStyleModel",
      "state": {
       "description_width": ""
      }
     },
     "ea2412ff60f049ce82aa7b5cfb9de644": {
      "model_module": "@jupyter-widgets/controls",
      "model_module_version": "1.5.0",
      "model_name": "DropdownModel",
      "state": {
       "_options_labels": [
        "Graph",
        "1992",
        "1993",
        "1994",
        "1995",
        "1996",
        "1997",
        "1998",
        "1999",
        "2000",
        "2001",
        "2002",
        "2003",
        "2004",
        "2005",
        "2006",
        "2007",
        "2008",
        "2009",
        "2010",
        "2011",
        "2012",
        "2013",
        "2014",
        "2015",
        "2016",
        "2017",
        "2018",
        "2019",
        "2020",
        "2021",
        "2022"
       ],
       "description": "Choisi",
       "index": 4,
       "layout": "IPY_MODEL_868249f6ce994016a8f40b02bfa6ef91",
       "style": "IPY_MODEL_2add1b7dff1f48bb9fe851ae87417abe"
      }
     },
     "ea455b20b61b4cfab85000cb6e75c669": {
      "model_module": "@jupyter-widgets/controls",
      "model_module_version": "1.5.0",
      "model_name": "VBoxModel",
      "state": {
       "_dom_classes": [
        "widget-interact"
       ],
       "children": [
        "IPY_MODEL_168575ad42934ab59e0253aa9a1e0f30",
        "IPY_MODEL_c4b6751b164245ebbee1ca691ad50241"
       ],
       "layout": "IPY_MODEL_a2674dfcf8e54fefa41871eac91c1366"
      }
     },
     "eaef233a019c4d73a69bf863696bdd4e": {
      "model_module": "@jupyter-widgets/base",
      "model_module_version": "1.2.0",
      "model_name": "LayoutModel",
      "state": {}
     },
     "eb2712d47d2d4c8bb6ccfe059105dfc1": {
      "model_module": "@jupyter-widgets/base",
      "model_module_version": "1.2.0",
      "model_name": "LayoutModel",
      "state": {}
     },
     "eba74ff32ed94e12a7d65f30c913dc93": {
      "model_module": "@jupyter-widgets/controls",
      "model_module_version": "1.5.0",
      "model_name": "DropdownModel",
      "state": {
       "_options_labels": [
        "Graph",
        "1992",
        "1993",
        "1994",
        "1995",
        "1996",
        "1997",
        "1998",
        "1999",
        "2000",
        "2001",
        "2002",
        "2003",
        "2004",
        "2005",
        "2006",
        "2007",
        "2008",
        "2009",
        "2010",
        "2011",
        "2012",
        "2013",
        "2014",
        "2015",
        "2016",
        "2017",
        "2018",
        "2019",
        "2020",
        "2021",
        "2022"
       ],
       "description": "Choisi",
       "index": 0,
       "layout": "IPY_MODEL_570f17c1ecf8483db37d2cfb0e4f7234",
       "style": "IPY_MODEL_d1b8ce993a194dc3ad9c12caf379e17e"
      }
     },
     "ebabf1a53a84460285e3c02abfa14d2d": {
      "model_module": "@jupyter-widgets/controls",
      "model_module_version": "1.5.0",
      "model_name": "DropdownModel",
      "state": {
       "_options_labels": [
        "Graph",
        "1992",
        "1993",
        "1994",
        "1995",
        "1996",
        "1997",
        "1998",
        "1999",
        "2000",
        "2001",
        "2002",
        "2003",
        "2004",
        "2005",
        "2006",
        "2007",
        "2008",
        "2009",
        "2010",
        "2011",
        "2012",
        "2013",
        "2014",
        "2015",
        "2016",
        "2017",
        "2018",
        "2019",
        "2020",
        "2021",
        "2022"
       ],
       "description": "Choisi",
       "index": 0,
       "layout": "IPY_MODEL_6fd9ef5fe1154f63a82396f61bc483d8",
       "style": "IPY_MODEL_0127710379ef456abddf53c51baf4b72"
      }
     },
     "ecaa51088231400aafbfb187a1f25594": {
      "model_module": "@jupyter-widgets/base",
      "model_module_version": "1.2.0",
      "model_name": "LayoutModel",
      "state": {}
     },
     "ed262c91032242fa9108676ff2c7a15b": {
      "model_module": "@jupyter-widgets/base",
      "model_module_version": "1.2.0",
      "model_name": "LayoutModel",
      "state": {}
     },
     "edef073940704912ad7f539eea2d09e1": {
      "model_module": "@jupyter-widgets/base",
      "model_module_version": "1.2.0",
      "model_name": "LayoutModel",
      "state": {}
     },
     "eeb05d87c24e4812865b99fe58ad9ff3": {
      "model_module": "@jupyter-widgets/base",
      "model_module_version": "1.2.0",
      "model_name": "LayoutModel",
      "state": {}
     },
     "ef1a7cf0672e440c95c8359f405838d8": {
      "model_module": "@jupyter-widgets/base",
      "model_module_version": "1.2.0",
      "model_name": "LayoutModel",
      "state": {}
     },
     "f04ef544893e4eae8b67038b91c52808": {
      "model_module": "@jupyter-widgets/base",
      "model_module_version": "1.2.0",
      "model_name": "LayoutModel",
      "state": {}
     },
     "f100b71f530748bbb25cb00dd570a448": {
      "model_module": "@jupyter-widgets/controls",
      "model_module_version": "1.5.0",
      "model_name": "DropdownModel",
      "state": {
       "_options_labels": [
        "Graph",
        "1992",
        "1993",
        "1994",
        "1995",
        "1996",
        "1997",
        "1998",
        "1999",
        "2000",
        "2001",
        "2002",
        "2003",
        "2004",
        "2005",
        "2006",
        "2007",
        "2008",
        "2009",
        "2010",
        "2011",
        "2012",
        "2013",
        "2014",
        "2015",
        "2016",
        "2017",
        "2018",
        "2019",
        "2020",
        "2021",
        "2022"
       ],
       "description": "Choisi",
       "index": 9,
       "layout": "IPY_MODEL_df7ce764dbbc489baf781425c1d9e2d0",
       "style": "IPY_MODEL_2ff328dd2e09467ba6ae7efdc946a885"
      }
     },
     "f1c64c11374d4bf782390a4fddc7e94d": {
      "model_module": "@jupyter-widgets/output",
      "model_module_version": "1.0.0",
      "model_name": "OutputModel",
      "state": {
       "layout": "IPY_MODEL_fc29b16ab716472887109c17ba289e4a",
       "outputs": [
        {
         "ename": "ValueError",
         "evalue": "failed to validate FigureOptions(...).tooltips: expected an element of either Null, Instance(Template), String or List(Tuple(String, String)), got ['En @x , le prix du gazole était de @y']",
         "output_type": "error",
         "traceback": [
          "\u001b[0;31m---------------------------------------------------------------------------\u001b[0m",
          "\u001b[0;31mValueError\u001b[0m                                Traceback (most recent call last)",
          "\u001b[0;32m~/anaconda3/lib/python3.9/site-packages/ipywidgets/widgets/interaction.py\u001b[0m in \u001b[0;36mupdate\u001b[0;34m(self, *args)\u001b[0m\n\u001b[1;32m    255\u001b[0m                     \u001b[0mvalue\u001b[0m \u001b[0;34m=\u001b[0m \u001b[0mwidget\u001b[0m\u001b[0;34m.\u001b[0m\u001b[0mget_interact_value\u001b[0m\u001b[0;34m(\u001b[0m\u001b[0;34m)\u001b[0m\u001b[0;34m\u001b[0m\u001b[0;34m\u001b[0m\u001b[0m\n\u001b[1;32m    256\u001b[0m                     \u001b[0mself\u001b[0m\u001b[0;34m.\u001b[0m\u001b[0mkwargs\u001b[0m\u001b[0;34m[\u001b[0m\u001b[0mwidget\u001b[0m\u001b[0;34m.\u001b[0m\u001b[0m_kwarg\u001b[0m\u001b[0;34m]\u001b[0m \u001b[0;34m=\u001b[0m \u001b[0mvalue\u001b[0m\u001b[0;34m\u001b[0m\u001b[0;34m\u001b[0m\u001b[0m\n\u001b[0;32m--> 257\u001b[0;31m                 \u001b[0mself\u001b[0m\u001b[0;34m.\u001b[0m\u001b[0mresult\u001b[0m \u001b[0;34m=\u001b[0m \u001b[0mself\u001b[0m\u001b[0;34m.\u001b[0m\u001b[0mf\u001b[0m\u001b[0;34m(\u001b[0m\u001b[0;34m**\u001b[0m\u001b[0mself\u001b[0m\u001b[0;34m.\u001b[0m\u001b[0mkwargs\u001b[0m\u001b[0;34m)\u001b[0m\u001b[0;34m\u001b[0m\u001b[0;34m\u001b[0m\u001b[0m\n\u001b[0m\u001b[1;32m    258\u001b[0m                 \u001b[0mshow_inline_matplotlib_plots\u001b[0m\u001b[0;34m(\u001b[0m\u001b[0;34m)\u001b[0m\u001b[0;34m\u001b[0m\u001b[0;34m\u001b[0m\u001b[0m\n\u001b[1;32m    259\u001b[0m                 \u001b[0;32mif\u001b[0m \u001b[0mself\u001b[0m\u001b[0;34m.\u001b[0m\u001b[0mauto_display\u001b[0m \u001b[0;32mand\u001b[0m \u001b[0mself\u001b[0m\u001b[0;34m.\u001b[0m\u001b[0mresult\u001b[0m \u001b[0;32mis\u001b[0m \u001b[0;32mnot\u001b[0m \u001b[0;32mNone\u001b[0m\u001b[0;34m:\u001b[0m\u001b[0;34m\u001b[0m\u001b[0;34m\u001b[0m\u001b[0m\n",
          "\u001b[0;32m/tmp/ipykernel_24999/2111956914.py\u001b[0m in \u001b[0;36maff_per_year\u001b[0;34m(Choisi)\u001b[0m\n\u001b[1;32m     50\u001b[0m \u001b[0;34m\u001b[0m\u001b[0m\n\u001b[1;32m     51\u001b[0m         \u001b[0;31m#   Je crée ensuite le graph avec bokeh qui sera display\u001b[0m\u001b[0;34m\u001b[0m\u001b[0;34m\u001b[0m\u001b[0m\n\u001b[0;32m---> 52\u001b[0;31m         graph_per_year = figure(\n\u001b[0m\u001b[1;32m     53\u001b[0m                   \u001b[0mtitle\u001b[0m\u001b[0;34m=\u001b[0m\u001b[0;34mf\"Evolution du prix du Gazole sur l'année {Choisi}\"\u001b[0m\u001b[0;34m,\u001b[0m\u001b[0;34m\u001b[0m\u001b[0;34m\u001b[0m\u001b[0m\n\u001b[1;32m     54\u001b[0m                   \u001b[0mx_range\u001b[0m \u001b[0;34m=\u001b[0m \u001b[0mz\u001b[0m\u001b[0;34m[\u001b[0m\u001b[0;34m\"Période\"\u001b[0m\u001b[0;34m]\u001b[0m\u001b[0;34m,\u001b[0m\u001b[0;34m\u001b[0m\u001b[0;34m\u001b[0m\u001b[0m\n",
          "\u001b[0;32m~/anaconda3/lib/python3.9/site-packages/bokeh/plotting/figure.py\u001b[0m in \u001b[0;36mfigure\u001b[0;34m(**kwargs)\u001b[0m\n\u001b[1;32m    663\u001b[0m \u001b[0;34m\u001b[0m\u001b[0m\n\u001b[1;32m    664\u001b[0m     '''\n\u001b[0;32m--> 665\u001b[0;31m     \u001b[0;32mreturn\u001b[0m \u001b[0mFigure\u001b[0m\u001b[0;34m(\u001b[0m\u001b[0;34m**\u001b[0m\u001b[0mkwargs\u001b[0m\u001b[0;34m)\u001b[0m\u001b[0;34m\u001b[0m\u001b[0;34m\u001b[0m\u001b[0m\n\u001b[0m\u001b[1;32m    666\u001b[0m \u001b[0;34m\u001b[0m\u001b[0m\n\u001b[1;32m    667\u001b[0m \u001b[0;32mdef\u001b[0m \u001b[0mmarkers\u001b[0m\u001b[0;34m(\u001b[0m\u001b[0;34m)\u001b[0m\u001b[0;34m:\u001b[0m\u001b[0;34m\u001b[0m\u001b[0;34m\u001b[0m\u001b[0m\n",
          "\u001b[0;32m~/anaconda3/lib/python3.9/site-packages/bokeh/plotting/figure.py\u001b[0m in \u001b[0;36m__init__\u001b[0;34m(self, *arg, **kw)\u001b[0m\n\u001b[1;32m    173\u001b[0m \u001b[0;34m\u001b[0m\u001b[0m\n\u001b[1;32m    174\u001b[0m     \u001b[0;32mdef\u001b[0m \u001b[0m__init__\u001b[0m\u001b[0;34m(\u001b[0m\u001b[0mself\u001b[0m\u001b[0;34m,\u001b[0m \u001b[0;34m*\u001b[0m\u001b[0marg\u001b[0m\u001b[0;34m,\u001b[0m \u001b[0;34m**\u001b[0m\u001b[0mkw\u001b[0m\u001b[0;34m)\u001b[0m \u001b[0;34m->\u001b[0m \u001b[0;32mNone\u001b[0m\u001b[0;34m:\u001b[0m\u001b[0;34m\u001b[0m\u001b[0;34m\u001b[0m\u001b[0m\n\u001b[0;32m--> 175\u001b[0;31m         \u001b[0mopts\u001b[0m \u001b[0;34m=\u001b[0m \u001b[0mFigureOptions\u001b[0m\u001b[0;34m(\u001b[0m\u001b[0mkw\u001b[0m\u001b[0;34m)\u001b[0m\u001b[0;34m\u001b[0m\u001b[0;34m\u001b[0m\u001b[0m\n\u001b[0m\u001b[1;32m    176\u001b[0m         \u001b[0msuper\u001b[0m\u001b[0;34m(\u001b[0m\u001b[0;34m)\u001b[0m\u001b[0;34m.\u001b[0m\u001b[0m__init__\u001b[0m\u001b[0;34m(\u001b[0m\u001b[0;34m*\u001b[0m\u001b[0marg\u001b[0m\u001b[0;34m,\u001b[0m \u001b[0;34m**\u001b[0m\u001b[0mkw\u001b[0m\u001b[0;34m)\u001b[0m\u001b[0;34m\u001b[0m\u001b[0;34m\u001b[0m\u001b[0m\n\u001b[1;32m    177\u001b[0m \u001b[0;34m\u001b[0m\u001b[0m\n",
          "\u001b[0;32m~/anaconda3/lib/python3.9/site-packages/bokeh/util/options.py\u001b[0m in \u001b[0;36m__init__\u001b[0;34m(self, kw)\u001b[0m\n\u001b[1;32m     73\u001b[0m                 \u001b[0mprops\u001b[0m\u001b[0;34m[\u001b[0m\u001b[0mk\u001b[0m\u001b[0;34m]\u001b[0m \u001b[0;34m=\u001b[0m \u001b[0mkw\u001b[0m\u001b[0;34m.\u001b[0m\u001b[0mpop\u001b[0m\u001b[0;34m(\u001b[0m\u001b[0mk\u001b[0m\u001b[0;34m)\u001b[0m\u001b[0;34m\u001b[0m\u001b[0;34m\u001b[0m\u001b[0m\n\u001b[1;32m     74\u001b[0m \u001b[0;34m\u001b[0m\u001b[0m\n\u001b[0;32m---> 75\u001b[0;31m         \u001b[0msuper\u001b[0m\u001b[0;34m(\u001b[0m\u001b[0;34m)\u001b[0m\u001b[0;34m.\u001b[0m\u001b[0m__init__\u001b[0m\u001b[0;34m(\u001b[0m\u001b[0;34m**\u001b[0m\u001b[0mprops\u001b[0m\u001b[0;34m)\u001b[0m\u001b[0;34m\u001b[0m\u001b[0;34m\u001b[0m\u001b[0m\n\u001b[0m\u001b[1;32m     76\u001b[0m \u001b[0;34m\u001b[0m\u001b[0m\n\u001b[1;32m     77\u001b[0m \u001b[0;31m#-----------------------------------------------------------------------------\u001b[0m\u001b[0;34m\u001b[0m\u001b[0;34m\u001b[0m\u001b[0m\n",
          "\u001b[0;32m~/anaconda3/lib/python3.9/site-packages/bokeh/core/has_props.py\u001b[0m in \u001b[0;36m__init__\u001b[0;34m(self, **properties)\u001b[0m\n\u001b[1;32m    204\u001b[0m \u001b[0;34m\u001b[0m\u001b[0m\n\u001b[1;32m    205\u001b[0m         \u001b[0;32mfor\u001b[0m \u001b[0mname\u001b[0m\u001b[0;34m,\u001b[0m \u001b[0mvalue\u001b[0m \u001b[0;32min\u001b[0m \u001b[0mproperties\u001b[0m\u001b[0;34m.\u001b[0m\u001b[0mitems\u001b[0m\u001b[0;34m(\u001b[0m\u001b[0;34m)\u001b[0m\u001b[0;34m:\u001b[0m\u001b[0;34m\u001b[0m\u001b[0;34m\u001b[0m\u001b[0m\n\u001b[0;32m--> 206\u001b[0;31m             \u001b[0msetattr\u001b[0m\u001b[0;34m(\u001b[0m\u001b[0mself\u001b[0m\u001b[0;34m,\u001b[0m \u001b[0mname\u001b[0m\u001b[0;34m,\u001b[0m \u001b[0mvalue\u001b[0m\u001b[0;34m)\u001b[0m\u001b[0;34m\u001b[0m\u001b[0;34m\u001b[0m\u001b[0m\n\u001b[0m\u001b[1;32m    207\u001b[0m \u001b[0;34m\u001b[0m\u001b[0m\n\u001b[1;32m    208\u001b[0m         \u001b[0mself\u001b[0m\u001b[0;34m.\u001b[0m\u001b[0m_initialized\u001b[0m \u001b[0;34m=\u001b[0m \u001b[0;32mTrue\u001b[0m\u001b[0;34m\u001b[0m\u001b[0;34m\u001b[0m\u001b[0m\n",
          "\u001b[0;32m~/anaconda3/lib/python3.9/site-packages/bokeh/core/has_props.py\u001b[0m in \u001b[0;36m__setattr__\u001b[0;34m(self, name, value)\u001b[0m\n\u001b[1;32m    228\u001b[0m         \u001b[0mproperties\u001b[0m \u001b[0;34m=\u001b[0m \u001b[0mself\u001b[0m\u001b[0;34m.\u001b[0m\u001b[0mproperties\u001b[0m\u001b[0;34m(\u001b[0m\u001b[0m_with_props\u001b[0m\u001b[0;34m=\u001b[0m\u001b[0;32mTrue\u001b[0m\u001b[0;34m)\u001b[0m\u001b[0;34m\u001b[0m\u001b[0;34m\u001b[0m\u001b[0m\n\u001b[1;32m    229\u001b[0m         \u001b[0;32mif\u001b[0m \u001b[0mname\u001b[0m \u001b[0;32min\u001b[0m \u001b[0mproperties\u001b[0m\u001b[0;34m:\u001b[0m\u001b[0;34m\u001b[0m\u001b[0;34m\u001b[0m\u001b[0m\n\u001b[0;32m--> 230\u001b[0;31m             \u001b[0;32mreturn\u001b[0m \u001b[0msuper\u001b[0m\u001b[0;34m(\u001b[0m\u001b[0;34m)\u001b[0m\u001b[0;34m.\u001b[0m\u001b[0m__setattr__\u001b[0m\u001b[0;34m(\u001b[0m\u001b[0mname\u001b[0m\u001b[0;34m,\u001b[0m \u001b[0mvalue\u001b[0m\u001b[0;34m)\u001b[0m\u001b[0;34m\u001b[0m\u001b[0;34m\u001b[0m\u001b[0m\n\u001b[0m\u001b[1;32m    231\u001b[0m \u001b[0;34m\u001b[0m\u001b[0m\n\u001b[1;32m    232\u001b[0m         \u001b[0mdescriptor\u001b[0m \u001b[0;34m=\u001b[0m \u001b[0mgetattr\u001b[0m\u001b[0;34m(\u001b[0m\u001b[0mself\u001b[0m\u001b[0;34m.\u001b[0m\u001b[0m__class__\u001b[0m\u001b[0;34m,\u001b[0m \u001b[0mname\u001b[0m\u001b[0;34m,\u001b[0m \u001b[0;32mNone\u001b[0m\u001b[0;34m)\u001b[0m\u001b[0;34m\u001b[0m\u001b[0;34m\u001b[0m\u001b[0m\n",
          "\u001b[0;32m~/anaconda3/lib/python3.9/site-packages/bokeh/core/property/descriptors.py\u001b[0m in \u001b[0;36m__set__\u001b[0;34m(self, obj, value, setter)\u001b[0m\n\u001b[1;32m    281\u001b[0m             \u001b[0;32mraise\u001b[0m \u001b[0mRuntimeError\u001b[0m\u001b[0;34m(\u001b[0m\u001b[0;34mf\"{class_name}.{self.name} is a readonly property\"\u001b[0m\u001b[0;34m)\u001b[0m\u001b[0;34m\u001b[0m\u001b[0;34m\u001b[0m\u001b[0m\n\u001b[1;32m    282\u001b[0m \u001b[0;34m\u001b[0m\u001b[0m\n\u001b[0;32m--> 283\u001b[0;31m         \u001b[0mvalue\u001b[0m \u001b[0;34m=\u001b[0m \u001b[0mself\u001b[0m\u001b[0;34m.\u001b[0m\u001b[0mproperty\u001b[0m\u001b[0;34m.\u001b[0m\u001b[0mprepare_value\u001b[0m\u001b[0;34m(\u001b[0m\u001b[0mobj\u001b[0m\u001b[0;34m,\u001b[0m \u001b[0mself\u001b[0m\u001b[0;34m.\u001b[0m\u001b[0mname\u001b[0m\u001b[0;34m,\u001b[0m \u001b[0mvalue\u001b[0m\u001b[0;34m)\u001b[0m\u001b[0;34m\u001b[0m\u001b[0;34m\u001b[0m\u001b[0m\n\u001b[0m\u001b[1;32m    284\u001b[0m         \u001b[0mold\u001b[0m \u001b[0;34m=\u001b[0m \u001b[0mself\u001b[0m\u001b[0;34m.\u001b[0m\u001b[0m_get\u001b[0m\u001b[0;34m(\u001b[0m\u001b[0mobj\u001b[0m\u001b[0;34m)\u001b[0m\u001b[0;34m\u001b[0m\u001b[0;34m\u001b[0m\u001b[0m\n\u001b[1;32m    285\u001b[0m         \u001b[0mself\u001b[0m\u001b[0;34m.\u001b[0m\u001b[0m_set\u001b[0m\u001b[0;34m(\u001b[0m\u001b[0mobj\u001b[0m\u001b[0;34m,\u001b[0m \u001b[0mold\u001b[0m\u001b[0;34m,\u001b[0m \u001b[0mvalue\u001b[0m\u001b[0;34m,\u001b[0m \u001b[0msetter\u001b[0m\u001b[0;34m=\u001b[0m\u001b[0msetter\u001b[0m\u001b[0;34m)\u001b[0m\u001b[0;34m\u001b[0m\u001b[0;34m\u001b[0m\u001b[0m\n",
          "\u001b[0;32m~/anaconda3/lib/python3.9/site-packages/bokeh/core/property/bases.py\u001b[0m in \u001b[0;36mprepare_value\u001b[0;34m(self, owner, name, value, hint)\u001b[0m\n\u001b[1;32m    363\u001b[0m         \u001b[0;32melse\u001b[0m\u001b[0;34m:\u001b[0m\u001b[0;34m\u001b[0m\u001b[0;34m\u001b[0m\u001b[0m\n\u001b[1;32m    364\u001b[0m             \u001b[0mobj_repr\u001b[0m \u001b[0;34m=\u001b[0m \u001b[0mowner\u001b[0m \u001b[0;32mif\u001b[0m \u001b[0misinstance\u001b[0m\u001b[0;34m(\u001b[0m\u001b[0mowner\u001b[0m\u001b[0;34m,\u001b[0m \u001b[0mHasProps\u001b[0m\u001b[0;34m)\u001b[0m \u001b[0;32melse\u001b[0m \u001b[0mowner\u001b[0m\u001b[0;34m.\u001b[0m\u001b[0m__name__\u001b[0m\u001b[0;34m\u001b[0m\u001b[0;34m\u001b[0m\u001b[0m\n\u001b[0;32m--> 365\u001b[0;31m             \u001b[0;32mraise\u001b[0m \u001b[0mValueError\u001b[0m\u001b[0;34m(\u001b[0m\u001b[0;34mf\"failed to validate {obj_repr}.{name}: {error}\"\u001b[0m\u001b[0;34m)\u001b[0m\u001b[0;34m\u001b[0m\u001b[0;34m\u001b[0m\u001b[0m\n\u001b[0m\u001b[1;32m    366\u001b[0m \u001b[0;34m\u001b[0m\u001b[0m\n\u001b[1;32m    367\u001b[0m         \u001b[0;32mif\u001b[0m \u001b[0misinstance\u001b[0m\u001b[0;34m(\u001b[0m\u001b[0mowner\u001b[0m\u001b[0;34m,\u001b[0m \u001b[0mHasProps\u001b[0m\u001b[0;34m)\u001b[0m\u001b[0;34m:\u001b[0m\u001b[0;34m\u001b[0m\u001b[0;34m\u001b[0m\u001b[0m\n",
          "\u001b[0;31mValueError\u001b[0m: failed to validate FigureOptions(...).tooltips: expected an element of either Null, Instance(Template), String or List(Tuple(String, String)), got ['En @x , le prix du gazole était de @y']"
         ]
        }
       ]
      }
     },
     "f2f2aaf424ef43aaa80913cb78fc7c7a": {
      "model_module": "@jupyter-widgets/base",
      "model_module_version": "1.2.0",
      "model_name": "LayoutModel",
      "state": {}
     },
     "f50efce8abff41558439a7b1695c194f": {
      "model_module": "@jupyter-widgets/controls",
      "model_module_version": "1.5.0",
      "model_name": "DropdownModel",
      "state": {
       "_options_labels": [
        "Graph",
        "1992",
        "1993",
        "1994",
        "1995",
        "1996",
        "1997",
        "1998",
        "1999",
        "2000",
        "2001",
        "2002",
        "2003",
        "2004",
        "2005",
        "2006",
        "2007",
        "2008",
        "2009",
        "2010",
        "2011",
        "2012",
        "2013",
        "2014",
        "2015",
        "2016",
        "2017",
        "2018",
        "2019",
        "2020",
        "2021",
        "2022"
       ],
       "description": "Choisi",
       "index": 9,
       "layout": "IPY_MODEL_33b4f92a40bf441ba9ee877d5ec00e31",
       "style": "IPY_MODEL_3ebfe5b2b70343909ec410e67ac2a4d3"
      }
     },
     "f882496787af4da9885d80cbd92d55d7": {
      "model_module": "@jupyter-widgets/base",
      "model_module_version": "1.2.0",
      "model_name": "LayoutModel",
      "state": {}
     },
     "f94187d0d8fb4612a874390ac9dc61d0": {
      "model_module": "@jupyter-widgets/controls",
      "model_module_version": "1.5.0",
      "model_name": "VBoxModel",
      "state": {
       "_dom_classes": [
        "widget-interact"
       ],
       "children": [
        "IPY_MODEL_902c31602b6e4400ba927b2b6a147223",
        "IPY_MODEL_8635719b2f2e48d988cb029bb3bd32bf"
       ],
       "layout": "IPY_MODEL_6d9d82e66d184afe9f06ab85a3ca4d3e"
      }
     },
     "f94b7d31f8214d13815e13ca905ce936": {
      "model_module": "@jupyter-widgets/base",
      "model_module_version": "1.2.0",
      "model_name": "LayoutModel",
      "state": {}
     },
     "f97c7c04954e45bc9a1067d97547b9fc": {
      "model_module": "@jupyter-widgets/base",
      "model_module_version": "1.2.0",
      "model_name": "LayoutModel",
      "state": {}
     },
     "f9a83cb008f8496a82b7f86d984f8574": {
      "model_module": "@jupyter-widgets/controls",
      "model_module_version": "1.5.0",
      "model_name": "DescriptionStyleModel",
      "state": {
       "description_width": ""
      }
     },
     "f9e7809e2cb14d6c93dbbf71bdd277a0": {
      "model_module": "@jupyter-widgets/output",
      "model_module_version": "1.0.0",
      "model_name": "OutputModel",
      "state": {
       "layout": "IPY_MODEL_4ebe1a1ca1a04cfa888e7ba44b85e620",
       "outputs": [
        {
         "data": {
          "text/html": "\n\n\n\n\n\n  <div class=\"bk-root\" id=\"37f7f370-cc62-415c-b5b4-c74b78844b53\" data-root-id=\"2459\"></div>\n"
         },
         "metadata": {},
         "output_type": "display_data"
        },
        {
         "data": {
          "application/javascript": "(function(root) {\n  function embed_document(root) {\n    \n  const docs_json = {\"10d6dd11-faae-47e1-80f4-dc1c816084de\":{\"defs\":[],\"roots\":{\"references\":[{\"attributes\":{\"below\":[{\"id\":\"2470\"}],\"center\":[{\"id\":\"2473\"},{\"id\":\"2477\"},{\"id\":\"2510\"}],\"left\":[{\"id\":\"2474\"}],\"renderers\":[{\"id\":\"2498\"}],\"sizing_mode\":\"stretch_width\",\"title\":{\"id\":\"2460\"},\"toolbar\":{\"id\":\"2486\"},\"x_range\":{\"id\":\"2462\"},\"x_scale\":{\"id\":\"2466\"},\"y_range\":{\"id\":\"2464\"},\"y_scale\":{\"id\":\"2468\"}},\"id\":\"2459\",\"subtype\":\"Figure\",\"type\":\"Plot\"},{\"attributes\":{\"bottom_units\":\"screen\",\"coordinates\":null,\"fill_alpha\":0.5,\"fill_color\":\"lightgrey\",\"group\":null,\"left_units\":\"screen\",\"level\":\"overlay\",\"line_alpha\":1.0,\"line_color\":\"black\",\"line_dash\":[4,4],\"line_width\":2,\"right_units\":\"screen\",\"syncable\":false,\"top_units\":\"screen\"},\"id\":\"2484\",\"type\":\"BoxAnnotation\"},{\"attributes\":{\"axis_label\":\"Prix (En Euro)\",\"coordinates\":null,\"formatter\":{\"id\":\"2502\"},\"group\":null,\"major_label_policy\":{\"id\":\"2503\"},\"ticker\":{\"id\":\"2475\"}},\"id\":\"2474\",\"type\":\"LinearAxis\"},{\"attributes\":{\"callback\":null,\"tooltips\":[[\"Prix\",\"@y\"]]},\"id\":\"2485\",\"type\":\"HoverTool\"},{\"attributes\":{},\"id\":\"2466\",\"type\":\"LinearScale\"},{\"attributes\":{},\"id\":\"2468\",\"type\":\"LinearScale\"},{\"attributes\":{},\"id\":\"2505\",\"type\":\"BasicTickFormatter\"},{\"attributes\":{\"line_color\":\"orange\",\"line_width\":3,\"x\":{\"field\":\"x\"},\"y\":{\"field\":\"y\"}},\"id\":\"2495\",\"type\":\"Line\"},{\"attributes\":{},\"id\":\"2506\",\"type\":\"AllLabels\"},{\"attributes\":{\"axis\":{\"id\":\"2470\"},\"coordinates\":null,\"group\":null,\"ticker\":null},\"id\":\"2473\",\"type\":\"Grid\"},{\"attributes\":{\"label\":{\"value\":\"Prix par mois\"},\"renderers\":[{\"id\":\"2498\"}]},\"id\":\"2511\",\"type\":\"LegendItem\"},{\"attributes\":{},\"id\":\"2502\",\"type\":\"BasicTickFormatter\"},{\"attributes\":{\"logo\":null,\"tools\":[{\"id\":\"2478\"},{\"id\":\"2479\"},{\"id\":\"2480\"},{\"id\":\"2481\"},{\"id\":\"2482\"},{\"id\":\"2483\"},{\"id\":\"2485\"}]},\"id\":\"2486\",\"type\":\"Toolbar\"},{\"attributes\":{\"overlay\":{\"id\":\"2484\"}},\"id\":\"2480\",\"type\":\"BoxZoomTool\"},{\"attributes\":{\"coordinates\":null,\"data_source\":{\"id\":\"2494\"},\"glyph\":{\"id\":\"2495\"},\"group\":null,\"hover_glyph\":null,\"muted_glyph\":{\"id\":\"2497\"},\"nonselection_glyph\":{\"id\":\"2496\"},\"view\":{\"id\":\"2499\"}},\"id\":\"2498\",\"type\":\"GlyphRenderer\"},{\"attributes\":{\"axis_label\":\"P\\u00e9riode (En mois)\",\"coordinates\":null,\"formatter\":{\"id\":\"2505\"},\"group\":null,\"major_label_overrides\":{\"1\":\"Janvier\",\"10\":\"Octobre\",\"11\":\"Novembre\",\"12\":\"Decembre\",\"2\":\"F\\u00e9vrier\",\"3\":\"Mars\",\"4\":\"Avril\",\"5\":\"Mai\",\"6\":\"Juin\",\"7\":\"Juillet\",\"8\":\"Aout\",\"9\":\"Septembre\"},\"major_label_policy\":{\"id\":\"2506\"},\"ticker\":{\"id\":\"2471\"}},\"id\":\"2470\",\"type\":\"LinearAxis\"},{\"attributes\":{\"data\":{\"x\":[\"Janvier\",\"F\\u00e9vrier\",\"Mars\",\"Avril\",\"Mai\",\"Juin\",\"Juillet\",\"Aout\",\"Septembre\",\"Octobre\",\"Novembre\",\"Decembre\"],\"y\":{\"__ndarray__\":\"7FG4HoXr6T/sUbgehevpPz0K16NwPeo/mpmZmZmZ6T/sUbgehevpPz0K16NwPeo/j8L1KFyP6j/hehSuR+HqP8P1KFyPwu0/zczMzMzM7D8fhetRuB7tP3sUrkfheuw/\",\"dtype\":\"float64\",\"order\":\"little\",\"shape\":[12]}},\"selected\":{\"id\":\"2508\"},\"selection_policy\":{\"id\":\"2507\"}},\"id\":\"2494\",\"type\":\"ColumnDataSource\"},{\"attributes\":{\"line_alpha\":0.1,\"line_color\":\"orange\",\"line_width\":3,\"x\":{\"field\":\"x\"},\"y\":{\"field\":\"y\"}},\"id\":\"2496\",\"type\":\"Line\"},{\"attributes\":{},\"id\":\"2503\",\"type\":\"AllLabels\"},{\"attributes\":{},\"id\":\"2479\",\"type\":\"WheelZoomTool\"},{\"attributes\":{},\"id\":\"2462\",\"type\":\"DataRange1d\"},{\"attributes\":{},\"id\":\"2471\",\"type\":\"BasicTicker\"},{\"attributes\":{\"axis\":{\"id\":\"2474\"},\"coordinates\":null,\"dimension\":1,\"group\":null,\"ticker\":null},\"id\":\"2477\",\"type\":\"Grid\"},{\"attributes\":{\"source\":{\"id\":\"2494\"}},\"id\":\"2499\",\"type\":\"CDSView\"},{\"attributes\":{},\"id\":\"2478\",\"type\":\"PanTool\"},{\"attributes\":{\"coordinates\":null,\"group\":null,\"text\":\"Evolution du prix du Gazole sur l'ann\\u00e9e 2000\"},\"id\":\"2460\",\"type\":\"Title\"},{\"attributes\":{},\"id\":\"2481\",\"type\":\"SaveTool\"},{\"attributes\":{},\"id\":\"2482\",\"type\":\"ResetTool\"},{\"attributes\":{\"border_line_alpha\":0.8,\"coordinates\":null,\"group\":null,\"items\":[{\"id\":\"2511\"}],\"label_text_font_style\":\"italic\",\"location\":\"top_left\"},\"id\":\"2510\",\"type\":\"Legend\"},{\"attributes\":{},\"id\":\"2475\",\"type\":\"BasicTicker\"},{\"attributes\":{\"line_alpha\":0.2,\"line_color\":\"orange\",\"line_width\":3,\"x\":{\"field\":\"x\"},\"y\":{\"field\":\"y\"}},\"id\":\"2497\",\"type\":\"Line\"},{\"attributes\":{},\"id\":\"2507\",\"type\":\"UnionRenderers\"},{\"attributes\":{},\"id\":\"2508\",\"type\":\"Selection\"},{\"attributes\":{},\"id\":\"2464\",\"type\":\"DataRange1d\"},{\"attributes\":{},\"id\":\"2483\",\"type\":\"HelpTool\"}],\"root_ids\":[\"2459\"]},\"title\":\"Bokeh Application\",\"version\":\"2.4.1\"}};\n  const render_items = [{\"docid\":\"10d6dd11-faae-47e1-80f4-dc1c816084de\",\"root_ids\":[\"2459\"],\"roots\":{\"2459\":\"37f7f370-cc62-415c-b5b4-c74b78844b53\"}}];\n  root.Bokeh.embed.embed_items_notebook(docs_json, render_items);\n\n  }\n  if (root.Bokeh !== undefined) {\n    embed_document(root);\n  } else {\n    let attempts = 0;\n    const timer = setInterval(function(root) {\n      if (root.Bokeh !== undefined) {\n        clearInterval(timer);\n        embed_document(root);\n      } else {\n        attempts++;\n        if (attempts > 100) {\n          clearInterval(timer);\n          console.log(\"Bokeh: ERROR: Unable to run BokehJS code because BokehJS library is missing\");\n        }\n      }\n    }, 10, root)\n  }\n})(window);",
          "application/vnd.bokehjs_exec.v0+json": ""
         },
         "metadata": {
          "application/vnd.bokehjs_exec.v0+json": {
           "id": "2459"
          }
         },
         "output_type": "display_data"
        }
       ]
      }
     },
     "fa08731f611f4ea6a262cbd78eb30848": {
      "model_module": "@jupyter-widgets/controls",
      "model_module_version": "1.5.0",
      "model_name": "DescriptionStyleModel",
      "state": {
       "description_width": ""
      }
     },
     "fba27a4f538e42ec9bc9690f0ed6f71b": {
      "model_module": "@jupyter-widgets/controls",
      "model_module_version": "1.5.0",
      "model_name": "DropdownModel",
      "state": {
       "_options_labels": [
        "Graph",
        "1992",
        "1993",
        "1994",
        "1995",
        "1996",
        "1997",
        "1998",
        "1999",
        "2000",
        "2001",
        "2002",
        "2003",
        "2004",
        "2005",
        "2006",
        "2007",
        "2008",
        "2009",
        "2010",
        "2011",
        "2012",
        "2013",
        "2014",
        "2015",
        "2016",
        "2017",
        "2018",
        "2019",
        "2020",
        "2021",
        "2022"
       ],
       "description": "Choisi",
       "index": 14,
       "layout": "IPY_MODEL_c208135c48f6421e8d40c06c28a74309",
       "style": "IPY_MODEL_cf8f44c0732e4b198e0a0edc09df9533"
      }
     },
     "fc29b16ab716472887109c17ba289e4a": {
      "model_module": "@jupyter-widgets/base",
      "model_module_version": "1.2.0",
      "model_name": "LayoutModel",
      "state": {}
     },
     "fc9998268f774834a82c5f551390509c": {
      "model_module": "@jupyter-widgets/output",
      "model_module_version": "1.0.0",
      "model_name": "OutputModel",
      "state": {
       "layout": "IPY_MODEL_7149e442d0ff4527aaaf6b346bbbd0ee",
       "outputs": [
        {
         "data": {
          "text/html": "\n\n\n\n\n\n  <div class=\"bk-root\" id=\"5100d091-0bfa-4eff-bc41-9420e8b7b4ff\" data-root-id=\"1002\"></div>\n"
         },
         "metadata": {},
         "output_type": "display_data"
        },
        {
         "data": {
          "application/javascript": "(function(root) {\n  function embed_document(root) {\n    \n  const docs_json = {\"0299fb6b-5f6e-49fd-9b4d-b593c2f555fc\":{\"defs\":[],\"roots\":{\"references\":[{\"attributes\":{\"below\":[{\"id\":\"1013\"}],\"center\":[{\"id\":\"1016\"},{\"id\":\"1020\"},{\"id\":\"1053\"}],\"left\":[{\"id\":\"1017\"}],\"renderers\":[{\"id\":\"1041\"},{\"id\":\"1059\"},{\"id\":\"1078\"},{\"id\":\"1099\"}],\"sizing_mode\":\"stretch_width\",\"title\":{\"id\":\"1003\"},\"toolbar\":{\"id\":\"1029\"},\"x_range\":{\"id\":\"1005\"},\"x_scale\":{\"id\":\"1009\"},\"y_range\":{\"id\":\"1007\"},\"y_scale\":{\"id\":\"1011\"}},\"id\":\"1002\",\"subtype\":\"Figure\",\"type\":\"Plot\"},{\"attributes\":{},\"id\":\"1014\",\"type\":\"BasicTicker\"},{\"attributes\":{},\"id\":\"1011\",\"type\":\"LinearScale\"},{\"attributes\":{},\"id\":\"1025\",\"type\":\"ResetTool\"},{\"attributes\":{\"line_color\":\"darkred\",\"x\":{\"field\":\"x\"},\"y\":{\"field\":\"y\"}},\"id\":\"1096\",\"type\":\"Line\"},{\"attributes\":{},\"id\":\"1021\",\"type\":\"PanTool\"},{\"attributes\":{},\"id\":\"1026\",\"type\":\"HelpTool\"},{\"attributes\":{\"line_alpha\":0.2,\"line_color\":\"orange\",\"line_width\":4,\"x\":{\"field\":\"x\"},\"y\":{\"field\":\"y\"}},\"id\":\"1058\",\"type\":\"Line\"},{\"attributes\":{\"coordinates\":null,\"data_source\":{\"id\":\"1055\"},\"glyph\":{\"id\":\"1056\"},\"group\":null,\"hover_glyph\":null,\"muted_glyph\":{\"id\":\"1058\"},\"nonselection_glyph\":{\"id\":\"1057\"},\"view\":{\"id\":\"1060\"}},\"id\":\"1059\",\"type\":\"GlyphRenderer\"},{\"attributes\":{},\"id\":\"1045\",\"type\":\"BasicTickFormatter\"},{\"attributes\":{\"source\":{\"id\":\"1037\"}},\"id\":\"1042\",\"type\":\"CDSView\"},{\"attributes\":{\"data\":{\"x\":{\"__ndarray__\":\"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\",\"dtype\":\"float64\",\"order\":\"little\",\"shape\":[362]},\"y\":{\"__ndarray__\":\"AJnFZ3kI4T8AmcVneQjhPwCZxWd5COE/AJnFZ3kI4T8AmcVneQjhPwCZxWd5COE/AJnFZ3kI4T8AmcVneQjhPwCZxWd5COE/AJnFZ3kI4T8AmcVneQjhPwCZxWd5COE/gMt9bNIV4j+Ay31s0hXiP4DLfWzSFeI/gMt9bNIV4j+Ay31s0hXiP4DLfWzSFeI/gMt9bNIV4j+Ay31s0hXiP4DLfWzSFeI/gMt9bNIV4j+Ay31s0hXiP4DLfWzSFeI/AP41cSsj4z8A/jVxKyPjPwD+NXErI+M/AP41cSsj4z8A/jVxKyPjPwD+NXErI+M/AP41cSsj4z8A/jVxKyPjPwD+NXErI+M/AP41cSsj4z8A/jVxKyPjPwD+NXErI+M/gDDudYQw5D+AMO51hDDkP4Aw7nWEMOQ/gDDudYQw5D+AMO51hDDkP4Aw7nWEMOQ/gDDudYQw5D+AMO51hDDkP4Aw7nWEMOQ/gDDudYQw5D+AMO51hDDkP4Aw7nWEMOQ/AGOmet095T8AY6Z63T3lPwBjpnrdPeU/AGOmet095T8AY6Z63T3lPwBjpnrdPeU/AGOmet095T8AY6Z63T3lPwBjpnrdPeU/AGOmet095T8AY6Z63T3lPwBjpnrdPeU/gJVefzZL5j+AlV5/NkvmP4CVXn82S+Y/gJVefzZL5j+AlV5/NkvmP4CVXn82S+Y/gJVefzZL5j+AlV5/NkvmP4CVXn82S+Y/gJVefzZL5j+AlV5/NkvmP4CVXn82S+Y/gMcWhI9Y5z+AxxaEj1jnP4DHFoSPWOc/gMcWhI9Y5z+AxxaEj1jnP4DHFoSPWOc/gMcWhI9Y5z+AxxaEj1jnP4DHFoSPWOc/gMcWhI9Y5z+AxxaEj1jnP4DHFoSPWOc/APrOiOhl6D8A+s6I6GXoPwD6zojoZeg/APrOiOhl6D8A+s6I6GXoPwD6zojoZeg/APrOiOhl6D8A+s6I6GXoPwD6zojoZeg/APrOiOhl6D8A+s6I6GXoPwD6zojoZeg/gCyHjUFz6T+ALIeNQXPpP4Ash41Bc+k/gCyHjUFz6T+ALIeNQXPpP4Ash41Bc+k/gCyHjUFz6T+ALIeNQXPpP4Ash41Bc+k/gCyHjUFz6T+ALIeNQXPpP4Ash41Bc+k/AF8/kpqA6j8AXz+SmoDqPwBfP5KagOo/AF8/kpqA6j8AXz+SmoDqPwBfP5KagOo/AF8/kpqA6j8AXz+SmoDqPwBfP5KagOo/AF8/kpqA6j8AXz+SmoDqPwBfP5KagOo/gJH3lvON6z+AkfeW843rP4CR95bzjes/gJH3lvON6z+AkfeW843rP4CR95bzjes/gJH3lvON6z+AkfeW843rP4CR95bzjes/gJH3lvON6z+AkfeW843rP4CR95bzjes/AMSvm0yb7D8AxK+bTJvsPwDEr5tMm+w/AMSvm0yb7D8AxK+bTJvsPwDEr5tMm+w/AMSvm0yb7D8AxK+bTJvsPwDEr5tMm+w/AMSvm0yb7D8AxK+bTJvsPwDEr5tMm+w/gPZnoKWo7T+A9megpajtP4D2Z6ClqO0/gPZnoKWo7T+A9megpajtP4D2Z6ClqO0/gPZnoKWo7T+A9megpajtP4D2Z6ClqO0/gPZnoKWo7T+A9megpajtP4D2Z6ClqO0/gCggpf617j+AKCCl/rXuP4AoIKX+te4/gCggpf617j+AKCCl/rXuP4AoIKX+te4/gCggpf617j+AKCCl/rXuP4AoIKX+te4/gCggpf617j+AKCCl/rXuP4AoIKX+te4/AFvYqVfD7z8AW9ipV8PvPwBb2KlXw+8/AFvYqVfD7z8AW9ipV8PvPwBb2KlXw+8/AFvYqVfD7z8AW9ipV8PvPwBb2KlXw+8/AFvYqVfD7z8AW9ipV8PvPwBb2KlXw+8/wEZIV1ho8D/ARkhXWGjwP8BGSFdYaPA/wEZIV1ho8D/ARkhXWGjwP8BGSFdYaPA/wEZIV1ho8D/ARkhXWGjwP8BGSFdYaPA/wEZIV1ho8D/ARkhXWGjwP8BGSFdYaPA/AGCk2QTv8D8AYKTZBO/wPwBgpNkE7/A/AGCk2QTv8D8AYKTZBO/wPwBgpNkE7/A/AGCk2QTv8D8AYKTZBO/wPwBgpNkE7/A/AGCk2QTv8D8AYKTZBO/wPwBgpNkE7/A/QHkAXLF18T9AeQBcsXXxP0B5AFyxdfE/QHkAXLF18T9AeQBcsXXxP0B5AFyxdfE/QHkAXLF18T9AeQBcsXXxP0B5AFyxdfE/QHkAXLF18T9AeQBcsXXxP0B5AFyxdfE/gJJc3l388T+AklzeXfzxP4CSXN5d/PE/gJJc3l388T+AklzeXfzxP4CSXN5d/PE/gJJc3l388T+AklzeXfzxP4CSXN5d/PE/gJJc3l388T+AklzeXfzxP4CSXN5d/PE/wKu4YAqD8j/Aq7hgCoPyP8CruGAKg/I/wKu4YAqD8j/Aq7hgCoPyP8CruGAKg/I/wKu4YAqD8j/Aq7hgCoPyP8CruGAKg/I/wKu4YAqD8j/Aq7hgCoPyP8CruGAKg/I/wMQU47YJ8z/AxBTjtgnzP8DEFOO2CfM/wMQU47YJ8z/AxBTjtgnzP8DEFOO2CfM/wMQU47YJ8z/AxBTjtgnzP8DEFOO2CfM/wMQU47YJ8z/AxBTjtgnzP8DEFOO2CfM/AN5wZWOQ8z8A3nBlY5DzPwDecGVjkPM/AN5wZWOQ8z8A3nBlY5DzPwDecGVjkPM/AN5wZWOQ8z8A3nBlY5DzPwDecGVjkPM/AN5wZWOQ8z8A3nBlY5DzPwDecGVjkPM/QPfM5w8X9D9A98znDxf0P0D3zOcPF/Q/QPfM5w8X9D9A98znDxf0P0D3zOcPF/Q/QPfM5w8X9D9A98znDxf0P0D3zOcPF/Q/QPfM5w8X9D9A98znDxf0P0D3zOcPF/Q/gBAparyd9D+AEClqvJ30P4AQKWq8nfQ/gBAparyd9D+AEClqvJ30P4AQKWq8nfQ/gBAparyd9D+AEClqvJ30P4AQKWq8nfQ/gBAparyd9D+AEClqvJ30P4AQKWq8nfQ/wCmF7Ggk9T/AKYXsaCT1P8AphexoJPU/wCmF7Ggk9T/AKYXsaCT1P8AphexoJPU/wCmF7Ggk9T/AKYXsaCT1P8AphexoJPU/wCmF7Ggk9T/AKYXsaCT1P8AphexoJPU/AEPhbhWr9T8AQ+FuFav1PwBD4W4Vq/U/AEPhbhWr9T8AQ+FuFav1PwBD4W4Vq/U/AEPhbhWr9T8AQ+FuFav1PwBD4W4Vq/U/AEPhbhWr9T8AQ+FuFav1PwBD4W4Vq/U/AFw98cEx9j8AXD3xwTH2PwBcPfHBMfY/AFw98cEx9j8AXD3xwTH2PwBcPfHBMfY/AFw98cEx9j8AXD3xwTH2PwBcPfHBMfY/AFw98cEx9j8AXD3xwTH2PwBcPfHBMfY/QHWZc2649j9AdZlzbrj2P0B1mXNuuPY/QHWZc2649j9AdZlzbrj2P0B1mXNuuPY/QHWZc2649j9AdZlzbrj2P0B1mXNuuPY/QHWZc2649j9AdZlzbrj2P0B1mXNuuPY/gI719Ro/9z+AjvX1Gj/3P4CO9fUaP/c/gI719Ro/9z+AjvX1Gj/3P4CO9fUaP/c/gI719Ro/9z+AjvX1Gj/3P4CO9fUaP/c/gI719Ro/9z+AjvX1Gj/3P4CO9fUaP/c/wKdReMfF9z/Ap1F4x8X3P8CnUXjHxfc/wKdReMfF9z/Ap1F4x8X3P8CnUXjHxfc/wKdReMfF9z/Ap1F4x8X3P8CnUXjHxfc/wKdReMfF9z/Ap1F4x8X3P8CnUXjHxfc/AMGt+nNM+D8Awa36c0z4Pw==\",\"dtype\":\"float64\",\"order\":\"little\",\"shape\":[362]}},\"selected\":{\"id\":\"1115\"},\"selection_policy\":{\"id\":\"1114\"}},\"id\":\"1095\",\"type\":\"ColumnDataSource\"},{\"attributes\":{\"data\":{\"x\":[\"1992\",\"1993\",\"1994\",\"1995\",\"1996\",\"1997\",\"1998\",\"1999\",\"2000\",\"2001\",\"2002\",\"2003\",\"2004\",\"2005\",\"2006\",\"2007\",\"2008\",\"2009\",\"2010\",\"2011\",\"2012\",\"2013\",\"2014\",\"2015\",\"2016\",\"2017\",\"2018\",\"2019\",\"2020\",\"2021\",\"2022\"],\"y\":{\"__ndarray__\":\"NDMzMzMz4T/xiyW/WPLhPwrXo3A9CuM/+2LJL5b84j8L16NwPQrlP93d3d3d3eU/pHA9Ctej5D/xiyW/WPLlPyCF61G4Hus/k18s+cWS6T+jcD0K16PoP32x5BdLfuk/W/KLJb9Y7D94d3d3d3fwP1yPwvUoXPE/iYiIiIiI8T+F61G4HoX0PyMiIiIiIvA/frHkF0t+8j+F61G4HoX1P5NfLPnFkvY/1AY6baDT9T/UBjptoNP0P6uqqqqqqvI/yi+W/GLJ8T+7u7u7u7vzPwAAAAAAAPc/F0t+seQX9z9fLPnFkl/0PxhLfrHkF/c/zMzMzMzM+j8=\",\"dtype\":\"float64\",\"order\":\"little\",\"shape\":[31]}},\"selected\":{\"id\":\"1071\"},\"selection_policy\":{\"id\":\"1070\"}},\"id\":\"1055\",\"type\":\"ColumnDataSource\"},{\"attributes\":{\"line_alpha\":0.2,\"line_color\":\"darkred\",\"x\":{\"field\":\"x\"},\"y\":{\"field\":\"y\"}},\"id\":\"1098\",\"type\":\"Line\"},{\"attributes\":{},\"id\":\"1050\",\"type\":\"UnionRenderers\"},{\"attributes\":{\"source\":{\"id\":\"1055\"}},\"id\":\"1060\",\"type\":\"CDSView\"},{\"attributes\":{\"logo\":null,\"tools\":[{\"id\":\"1021\"},{\"id\":\"1022\"},{\"id\":\"1023\"},{\"id\":\"1024\"},{\"id\":\"1025\"},{\"id\":\"1026\"},{\"id\":\"1028\"}]},\"id\":\"1029\",\"type\":\"Toolbar\"},{\"attributes\":{\"axis_label\":\"P\\u00e9riode (En ann\\u00e9e)\",\"coordinates\":null,\"formatter\":{\"id\":\"1048\"},\"group\":null,\"major_label_policy\":{\"id\":\"1049\"},\"ticker\":{\"id\":\"1014\"}},\"id\":\"1013\",\"type\":\"LinearAxis\"},{\"attributes\":{\"line_color\":\"grey\",\"line_dash\":[5,5],\"x\":{\"field\":\"x\"},\"y\":{\"field\":\"y\"}},\"id\":\"1038\",\"type\":\"Line\"},{\"attributes\":{},\"id\":\"1051\",\"type\":\"Selection\"},{\"attributes\":{\"label\":{\"value\":\"Prix par ann\\u00e9es\"},\"renderers\":[{\"id\":\"1059\"}]},\"id\":\"1073\",\"type\":\"LegendItem\"},{\"attributes\":{},\"id\":\"1007\",\"type\":\"DataRange1d\"},{\"attributes\":{\"line_alpha\":0.1,\"line_color\":\"orange\",\"line_width\":4,\"x\":{\"field\":\"x\"},\"y\":{\"field\":\"y\"}},\"id\":\"1057\",\"type\":\"Line\"},{\"attributes\":{},\"id\":\"1115\",\"type\":\"Selection\"},{\"attributes\":{},\"id\":\"1018\",\"type\":\"BasicTicker\"},{\"attributes\":{\"axis\":{\"id\":\"1013\"},\"coordinates\":null,\"group\":null,\"ticker\":null},\"id\":\"1016\",\"type\":\"Grid\"},{\"attributes\":{\"line_alpha\":0.1,\"line_color\":\"darkred\",\"x\":{\"field\":\"x\"},\"y\":{\"field\":\"y\"}},\"id\":\"1097\",\"type\":\"Line\"},{\"attributes\":{},\"id\":\"1022\",\"type\":\"WheelZoomTool\"},{\"attributes\":{\"coordinates\":null,\"group\":null,\"text\":\"Evolution du prix du Gazole\"},\"id\":\"1003\",\"type\":\"Title\"},{\"attributes\":{\"coordinates\":null,\"data_source\":{\"id\":\"1037\"},\"glyph\":{\"id\":\"1038\"},\"group\":null,\"hover_glyph\":null,\"muted_glyph\":{\"id\":\"1040\"},\"nonselection_glyph\":{\"id\":\"1039\"},\"view\":{\"id\":\"1042\"}},\"id\":\"1041\",\"type\":\"GlyphRenderer\"},{\"attributes\":{\"coordinates\":null,\"data_source\":{\"id\":\"1095\"},\"glyph\":{\"id\":\"1096\"},\"group\":null,\"hover_glyph\":null,\"muted_glyph\":{\"id\":\"1098\"},\"nonselection_glyph\":{\"id\":\"1097\"},\"view\":{\"id\":\"1100\"}},\"id\":\"1099\",\"type\":\"GlyphRenderer\"},{\"attributes\":{\"fill_alpha\":{\"value\":0.5},\"fill_color\":{\"value\":\"red\"},\"hatch_color\":{\"value\":\"red\"},\"line_color\":{\"value\":\"red\"},\"size\":{\"value\":10},\"x\":{\"field\":\"x\"},\"y\":{\"field\":\"y\"}},\"id\":\"1075\",\"type\":\"Circle\"},{\"attributes\":{},\"id\":\"1005\",\"type\":\"DataRange1d\"},{\"attributes\":{},\"id\":\"1046\",\"type\":\"AllLabels\"},{\"attributes\":{},\"id\":\"1070\",\"type\":\"UnionRenderers\"},{\"attributes\":{\"data\":{\"x\":[\"2008\",\"2009\",\"2011\",\"2018\",\"2020\",\"2021\"],\"y\":{\"__ndarray__\":\"hetRuB6F9D8jIiIiIiLwP4XrUbgehfU/AAAAAAAA9z9fLPnFkl/0PxhLfrHkF/c/\",\"dtype\":\"float64\",\"order\":\"little\",\"shape\":[6]}},\"selected\":{\"id\":\"1092\"},\"selection_policy\":{\"id\":\"1091\"}},\"id\":\"1074\",\"type\":\"ColumnDataSource\"},{\"attributes\":{\"line_color\":\"orange\",\"line_width\":4,\"x\":{\"field\":\"x\"},\"y\":{\"field\":\"y\"}},\"id\":\"1056\",\"type\":\"Line\"},{\"attributes\":{},\"id\":\"1114\",\"type\":\"UnionRenderers\"},{\"attributes\":{},\"id\":\"1071\",\"type\":\"Selection\"},{\"attributes\":{\"axis_label\":\"Prix (En Euro)\",\"coordinates\":null,\"formatter\":{\"id\":\"1045\"},\"group\":null,\"major_label_policy\":{\"id\":\"1046\"},\"ticker\":{\"id\":\"1018\"}},\"id\":\"1017\",\"type\":\"LinearAxis\"},{\"attributes\":{\"line_alpha\":0.2,\"line_color\":\"grey\",\"line_dash\":[5,5],\"x\":{\"field\":\"x\"},\"y\":{\"field\":\"y\"}},\"id\":\"1040\",\"type\":\"Line\"},{\"attributes\":{\"callback\":null,\"tooltips\":[[\"Ann\\u00e9e \",\"@x\"],[\"Prix \",\"@y\"]]},\"id\":\"1028\",\"type\":\"HoverTool\"},{\"attributes\":{\"fill_alpha\":{\"value\":0.2},\"fill_color\":{\"value\":\"red\"},\"hatch_alpha\":{\"value\":0.2},\"hatch_color\":{\"value\":\"red\"},\"line_alpha\":{\"value\":0.2},\"line_color\":{\"value\":\"red\"},\"size\":{\"value\":10},\"x\":{\"field\":\"x\"},\"y\":{\"field\":\"y\"}},\"id\":\"1077\",\"type\":\"Circle\"},{\"attributes\":{},\"id\":\"1049\",\"type\":\"AllLabels\"},{\"attributes\":{},\"id\":\"1092\",\"type\":\"Selection\"},{\"attributes\":{\"coordinates\":null,\"data_source\":{\"id\":\"1074\"},\"glyph\":{\"id\":\"1075\"},\"group\":null,\"hover_glyph\":null,\"muted_glyph\":{\"id\":\"1077\"},\"nonselection_glyph\":{\"id\":\"1076\"},\"view\":{\"id\":\"1079\"}},\"id\":\"1078\",\"type\":\"GlyphRenderer\"},{\"attributes\":{\"label\":{\"value\":\"Prix par mois\"},\"renderers\":[{\"id\":\"1041\"}]},\"id\":\"1054\",\"type\":\"LegendItem\"},{\"attributes\":{\"label\":{\"value\":\"Forte \\u00e9volution\"},\"renderers\":[{\"id\":\"1078\"}]},\"id\":\"1094\",\"type\":\"LegendItem\"},{\"attributes\":{\"fill_alpha\":{\"value\":0.1},\"fill_color\":{\"value\":\"red\"},\"hatch_alpha\":{\"value\":0.1},\"hatch_color\":{\"value\":\"red\"},\"line_alpha\":{\"value\":0.1},\"line_color\":{\"value\":\"red\"},\"size\":{\"value\":10},\"x\":{\"field\":\"x\"},\"y\":{\"field\":\"y\"}},\"id\":\"1076\",\"type\":\"Circle\"},{\"attributes\":{},\"id\":\"1009\",\"type\":\"LinearScale\"},{\"attributes\":{\"source\":{\"id\":\"1074\"}},\"id\":\"1079\",\"type\":\"CDSView\"},{\"attributes\":{},\"id\":\"1024\",\"type\":\"SaveTool\"},{\"attributes\":{},\"id\":\"1091\",\"type\":\"UnionRenderers\"},{\"attributes\":{},\"id\":\"1048\",\"type\":\"BasicTickFormatter\"},{\"attributes\":{\"bottom_units\":\"screen\",\"coordinates\":null,\"fill_alpha\":0.5,\"fill_color\":\"lightgrey\",\"group\":null,\"left_units\":\"screen\",\"level\":\"overlay\",\"line_alpha\":1.0,\"line_color\":\"black\",\"line_dash\":[4,4],\"line_width\":2,\"right_units\":\"screen\",\"syncable\":false,\"top_units\":\"screen\"},\"id\":\"1027\",\"type\":\"BoxAnnotation\"},{\"attributes\":{\"data\":{\"x\":[\"1992\",\"1992\",\"1992\",\"1992\",\"1992\",\"1992\",\"1992\",\"1992\",\"1992\",\"1992\",\"1992\",\"1992\",\"1993\",\"1993\",\"1993\",\"1993\",\"1993\",\"1993\",\"1993\",\"1993\",\"1993\",\"1993\",\"1993\",\"1993\",\"1994\",\"1994\",\"1994\",\"1994\",\"1994\",\"1994\",\"1994\",\"1994\",\"1994\",\"1994\",\"1994\",\"1994\",\"1995\",\"1995\",\"1995\",\"1995\",\"1995\",\"1995\",\"1995\",\"1995\",\"1995\",\"1995\",\"1995\",\"1995\",\"1996\",\"1996\",\"1996\",\"1996\",\"1996\",\"1996\",\"1996\",\"1996\",\"1996\",\"1996\",\"1996\",\"1996\",\"1997\",\"1997\",\"1997\",\"1997\",\"1997\",\"1997\",\"1997\",\"1997\",\"1997\",\"1997\",\"1997\",\"1997\",\"1998\",\"1998\",\"1998\",\"1998\",\"1998\",\"1998\",\"1998\",\"1998\",\"1998\",\"1998\",\"1998\",\"1998\",\"1999\",\"1999\",\"1999\",\"1999\",\"1999\",\"1999\",\"1999\",\"1999\",\"1999\",\"1999\",\"1999\",\"1999\",\"2000\",\"2000\",\"2000\",\"2000\",\"2000\",\"2000\",\"2000\",\"2000\",\"2000\",\"2000\",\"2000\",\"2000\",\"2001\",\"2001\",\"2001\",\"2001\",\"2001\",\"2001\",\"2001\",\"2001\",\"2001\",\"2001\",\"2001\",\"2001\",\"2002\",\"2002\",\"2002\",\"2002\",\"2002\",\"2002\",\"2002\",\"2002\",\"2002\",\"2002\",\"2002\",\"2002\",\"2003\",\"2003\",\"2003\",\"2003\",\"2003\",\"2003\",\"2003\",\"2003\",\"2003\",\"2003\",\"2003\",\"2003\",\"2004\",\"2004\",\"2004\",\"2004\",\"2004\",\"2004\",\"2004\",\"2004\",\"2004\",\"2004\",\"2004\",\"2004\",\"2005\",\"2005\",\"2005\",\"2005\",\"2005\",\"2005\",\"2005\",\"2005\",\"2005\",\"2005\",\"2005\",\"2005\",\"2006\",\"2006\",\"2006\",\"2006\",\"2006\",\"2006\",\"2006\",\"2006\",\"2006\",\"2006\",\"2006\",\"2006\",\"2007\",\"2007\",\"2007\",\"2007\",\"2007\",\"2007\",\"2007\",\"2007\",\"2007\",\"2007\",\"2007\",\"2007\",\"2008\",\"2008\",\"2008\",\"2008\",\"2008\",\"2008\",\"2008\",\"2008\",\"2008\",\"2008\",\"2008\",\"2008\",\"2009\",\"2009\",\"2009\",\"2009\",\"2009\",\"2009\",\"2009\",\"2009\",\"2009\",\"2009\",\"2009\",\"2009\",\"2010\",\"2010\",\"2010\",\"2010\",\"2010\",\"2010\",\"2010\",\"2010\",\"2010\",\"2010\",\"2010\",\"2010\",\"2011\",\"2011\",\"2011\",\"2011\",\"2011\",\"2011\",\"2011\",\"2011\",\"2011\",\"2011\",\"2011\",\"2011\",\"2012\",\"2012\",\"2012\",\"2012\",\"2012\",\"2012\",\"2012\",\"2012\",\"2012\",\"2012\",\"2012\",\"2012\",\"2013\",\"2013\",\"2013\",\"2013\",\"2013\",\"2013\",\"2013\",\"2013\",\"2013\",\"2013\",\"2013\",\"2013\",\"2014\",\"2014\",\"2014\",\"2014\",\"2014\",\"2014\",\"2014\",\"2014\",\"2014\",\"2014\",\"2014\",\"2014\",\"2015\",\"2015\",\"2015\",\"2015\",\"2015\",\"2015\",\"2015\",\"2015\",\"2015\",\"2015\",\"2015\",\"2015\",\"2016\",\"2016\",\"2016\",\"2016\",\"2016\",\"2016\",\"2016\",\"2016\",\"2016\",\"2016\",\"2016\",\"2016\",\"2017\",\"2017\",\"2017\",\"2017\",\"2017\",\"2017\",\"2017\",\"2017\",\"2017\",\"2017\",\"2017\",\"2017\",\"2018\",\"2018\",\"2018\",\"2018\",\"2018\",\"2018\",\"2018\",\"2018\",\"2018\",\"2018\",\"2018\",\"2018\",\"2019\",\"2019\",\"2019\",\"2019\",\"2019\",\"2019\",\"2019\",\"2019\",\"2019\",\"2019\",\"2019\",\"2019\",\"2020\",\"2020\",\"2020\",\"2020\",\"2020\",\"2020\",\"2020\",\"2020\",\"2020\",\"2020\",\"2020\",\"2020\",\"2021\",\"2021\",\"2021\",\"2021\",\"2021\",\"2021\",\"2021\",\"2021\",\"2021\",\"2021\",\"2021\",\"2021\",\"2022\",\"2022\"],\"y\":[0.54,0.54,0.54,0.53,0.54,0.54,0.54,0.54,0.53,0.53,0.54,0.54,0.53,0.54,0.54,0.55,0.55,0.54,0.54,0.56,0.59,0.6,0.6,0.59,0.6,0.6,0.6,0.6,0.6,0.6,0.59,0.59,0.59,0.59,0.59,0.59,0.59,0.59,0.59,0.59,0.59,0.59,0.59,0.59,0.6,0.6,0.6,0.6,0.62,0.63,0.65,0.66,0.65,0.64,0.64,0.64,0.66,0.7,0.7,0.7,0.71,0.7,0.69,0.68,0.68,0.67,0.67,0.68,0.67,0.68,0.69,0.68,0.68,0.67,0.66,0.66,0.65,0.64,0.64,0.63,0.63,0.63,0.63,0.62,0.63,0.63,0.64,0.67,0.67,0.67,0.68,0.7,0.71,0.72,0.73,0.78,0.81,0.81,0.82,0.8,0.81,0.82,0.83,0.84,0.93,0.9,0.91,0.89,0.81,0.8,0.8,0.8,0.82,0.82,0.82,0.8,0.8,0.79,0.78,0.75,0.74,0.74,0.75,0.78,0.77,0.76,0.75,0.77,0.79,0.81,0.79,0.79,0.82,0.84,0.89,0.82,0.77,0.76,0.76,0.77,0.77,0.78,0.79,0.79,0.81,0.81,0.83,0.84,0.88,0.86,0.87,0.91,0.92,0.96,0.97,0.97,0.93,0.94,0.99,1.02,0.99,1.02,1.06,1.07,1.1,1.12,1.07,1.04,1.06,1.07,1.08,1.1,1.12,1.11,1.12,1.13,1.1,1.05,1.04,1.04,1.02,1.02,1.04,1.07,1.07,1.08,1.1,1.1,1.11,1.12,1.2,1.22,1.21,1.2,1.26,1.29,1.37,1.46,1.45,1.36,1.33,1.26,1.15,1.05,0.99,0.99,0.95,0.98,0.98,1.02,1.01,1.04,1.02,1.02,1.05,1.05,1.09,1.09,1.13,1.16,1.18,1.17,1.16,1.15,1.16,1.17,1.19,1.22,1.29,1.31,1.37,1.38,1.34,1.33,1.33,1.33,1.34,1.35,1.39,1.38,1.42,1.43,1.46,1.45,1.42,1.37,1.36,1.44,1.42,1.4,1.38,1.38,1.39,1.41,1.41,1.38,1.34,1.34,1.35,1.36,1.38,1.34,1.33,1.34,1.34,1.34,1.33,1.32,1.32,1.32,1.32,1.31,1.3,1.28,1.25,1.19,1.13,1.19,1.22,1.22,1.24,1.23,1.2,1.14,1.12,1.12,1.11,1.08,1.03,1.03,1.06,1.07,1.12,1.17,1.14,1.11,1.12,1.15,1.16,1.18,1.27,1.27,1.25,1.24,1.21,1.18,1.17,1.2,1.22,1.24,1.27,1.28,1.39,1.38,1.37,1.4,1.45,1.46,1.45,1.45,1.48,1.52,1.48,1.42,1.4,1.44,1.46,1.47,1.49,1.43,1.42,1.42,1.44,1.44,1.44,1.47,1.49,1.42,1.32,1.23,1.18,1.22,1.25,1.25,1.22,1.21,1.22,1.27,1.31,1.36,1.4,1.39,1.4,1.43,1.45,1.45,1.46,1.56,1.57,1.54,1.63,1.72]},\"selected\":{\"id\":\"1051\"},\"selection_policy\":{\"id\":\"1050\"}},\"id\":\"1037\",\"type\":\"ColumnDataSource\"},{\"attributes\":{\"source\":{\"id\":\"1095\"}},\"id\":\"1100\",\"type\":\"CDSView\"},{\"attributes\":{\"line_alpha\":0.1,\"line_color\":\"grey\",\"line_dash\":[5,5],\"x\":{\"field\":\"x\"},\"y\":{\"field\":\"y\"}},\"id\":\"1039\",\"type\":\"Line\"},{\"attributes\":{\"label\":{\"value\":\"R\\u00e9gression Lin\\u00e9aire\"},\"renderers\":[{\"id\":\"1099\"}]},\"id\":\"1117\",\"type\":\"LegendItem\"},{\"attributes\":{\"border_line_alpha\":0.8,\"coordinates\":null,\"group\":null,\"items\":[{\"id\":\"1054\"},{\"id\":\"1073\"},{\"id\":\"1094\"},{\"id\":\"1117\"}],\"label_text_font_style\":\"italic\",\"location\":\"top_left\"},\"id\":\"1053\",\"type\":\"Legend\"},{\"attributes\":{\"overlay\":{\"id\":\"1027\"}},\"id\":\"1023\",\"type\":\"BoxZoomTool\"},{\"attributes\":{\"axis\":{\"id\":\"1017\"},\"coordinates\":null,\"dimension\":1,\"group\":null,\"ticker\":null},\"id\":\"1020\",\"type\":\"Grid\"}],\"root_ids\":[\"1002\"]},\"title\":\"Bokeh Application\",\"version\":\"2.4.1\"}};\n  const render_items = [{\"docid\":\"0299fb6b-5f6e-49fd-9b4d-b593c2f555fc\",\"root_ids\":[\"1002\"],\"roots\":{\"1002\":\"5100d091-0bfa-4eff-bc41-9420e8b7b4ff\"}}];\n  root.Bokeh.embed.embed_items_notebook(docs_json, render_items);\n\n  }\n  if (root.Bokeh !== undefined) {\n    embed_document(root);\n  } else {\n    let attempts = 0;\n    const timer = setInterval(function(root) {\n      if (root.Bokeh !== undefined) {\n        clearInterval(timer);\n        embed_document(root);\n      } else {\n        attempts++;\n        if (attempts > 100) {\n          clearInterval(timer);\n          console.log(\"Bokeh: ERROR: Unable to run BokehJS code because BokehJS library is missing\");\n        }\n      }\n    }, 10, root)\n  }\n})(window);",
          "application/vnd.bokehjs_exec.v0+json": ""
         },
         "metadata": {
          "application/vnd.bokehjs_exec.v0+json": {
           "id": "1002"
          }
         },
         "output_type": "display_data"
        }
       ]
      }
     },
     "fcece5d5a3804513b85008b2f4bd04e5": {
      "model_module": "@jupyter-widgets/base",
      "model_module_version": "1.2.0",
      "model_name": "LayoutModel",
      "state": {}
     },
     "fd1332275e0a43c39fe7d1c85af4c390": {
      "model_module": "@jupyter-widgets/controls",
      "model_module_version": "1.5.0",
      "model_name": "DropdownModel",
      "state": {
       "_options_labels": [
        "Graph",
        "1992",
        "1993",
        "1994",
        "1995",
        "1996",
        "1997",
        "1998",
        "1999",
        "2000",
        "2001",
        "2002",
        "2003",
        "2004",
        "2005",
        "2006",
        "2007",
        "2008",
        "2009",
        "2010",
        "2011",
        "2012",
        "2013",
        "2014",
        "2015",
        "2016",
        "2017",
        "2018",
        "2019",
        "2020",
        "2021",
        "2022"
       ],
       "description": "Choisi",
       "index": 9,
       "layout": "IPY_MODEL_eaef233a019c4d73a69bf863696bdd4e",
       "style": "IPY_MODEL_053e96c2443c4e2c87de7873b032ff91"
      }
     },
     "fda07ccd1b954d0ca071b44d3edee4fa": {
      "model_module": "@jupyter-widgets/controls",
      "model_module_version": "1.5.0",
      "model_name": "DropdownModel",
      "state": {
       "_options_labels": [
        "Graph",
        "1992",
        "1993",
        "1994",
        "1995",
        "1996",
        "1997",
        "1998",
        "1999",
        "2000",
        "2001",
        "2002",
        "2003",
        "2004",
        "2005",
        "2006",
        "2007",
        "2008",
        "2009",
        "2010",
        "2011",
        "2012",
        "2013",
        "2014",
        "2015",
        "2016",
        "2017",
        "2018",
        "2019",
        "2020",
        "2021",
        "2022"
       ],
       "description": "Choisi",
       "index": 9,
       "layout": "IPY_MODEL_e3da466e16ff4df9a787129abe811104",
       "style": "IPY_MODEL_305130552d0144f5904f13baa2b5a948"
      }
     },
     "fe1d574f931b4754a308b78c042554d7": {
      "model_module": "@jupyter-widgets/controls",
      "model_module_version": "1.5.0",
      "model_name": "DropdownModel",
      "state": {
       "_options_labels": [
        "Graph",
        "1992",
        "1993",
        "1994",
        "1995",
        "1996",
        "1997",
        "1998",
        "1999",
        "2000",
        "2001",
        "2002",
        "2003",
        "2004",
        "2005",
        "2006",
        "2007",
        "2008",
        "2009",
        "2010",
        "2011",
        "2012",
        "2013",
        "2014",
        "2015",
        "2016",
        "2017",
        "2018",
        "2019",
        "2020",
        "2021",
        "2022"
       ],
       "description": "Choisi",
       "index": 0,
       "layout": "IPY_MODEL_08ef6f18dbe944119fb5c44e08c9403b",
       "style": "IPY_MODEL_b21950559cca4234a7118a8cc6d7f600"
      }
     },
     "ff0b8f1d07e74b89a7e0dbcd3a71cc11": {
      "model_module": "@jupyter-widgets/base",
      "model_module_version": "1.2.0",
      "model_name": "LayoutModel",
      "state": {}
     }
    },
    "version_major": 2,
    "version_minor": 0
   }
  }
 },
 "nbformat": 4,
 "nbformat_minor": 2
}
