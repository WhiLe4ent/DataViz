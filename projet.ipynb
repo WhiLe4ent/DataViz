{
 "cells": [
  {
   "cell_type": "markdown",
   "metadata": {},
   "source": [
    "# Evolution du prix du gazole\n",
    "\n",
    "##### Auteurs : Mickaël Canhoto (L2 Informatique), Achille Gravouil (L1 Informatique)\n",
    "\n",
    "*Notre projet consiste à étudier et traiter l'évolution du prix moyen par mois du gazole de 1992 à aujourd'hui.*"
   ]
  },
  {
   "cell_type": "markdown",
   "metadata": {},
   "source": [
    "### Sommaire\n",
    "\n",
    " 1. [Introduction](#Introduction)\n",
    " 2. [Importation des modules](#Importation-des-modules)\n",
    " 3. [Collecte des données](#Collecte-des-donnees)\n",
    " 4. [Traitement des données](#Traitement-des-donnees)\n",
    " 5. [Représentation graphique](#Representation-graphique)\n",
    " 6. [Conclusion](#Conclusion)"
   ]
  },
  {
   "cell_type": "markdown",
   "metadata": {},
   "source": [
    "## Introduction\n",
    "\n",
    "Suite à la situation tendu en Europe et la hausse des prix du gazole, nous avons décidé d'étudier les variations du prix du gazole sur les 30 dernières années. \n",
    "Cette étude a pour objectif d'étudier l'évolution du prix afin de crée une représentation graphique et d'étudier celle-ci.\n",
    "\n",
    "Pour cela nous essaieront de représenter le plus fidélement et le plus explicitement, les données receuillis durant ce projet.\n",
    "Nous verront donc comment le prix à évolué et nous esssaieront d'anticiper le(s) futur(s) mouvement possible grâce à une fonction\n",
    "\n",
    "**Pour cela nous nous aiderons des informations recuellis par l'[INSEE](https://www.insee.fr/fr/statistiques/serie/000442588#Tableau)**"
   ]
  },
  {
   "cell_type": "markdown",
   "metadata": {},
   "source": [
    "## Importation des modules\n"
   ]
  },
  {
   "cell_type": "markdown",
   "metadata": {},
   "source": [
    "Nous allons utilisés les modules suivants : \n",
    "1. Pandas (importation des données)\n",
    "2. Plotly"
   ]
  },
  {
   "cell_type": "code",
   "execution_count": 94,
   "metadata": {},
   "outputs": [],
   "source": [
    "import pandas as pd\n",
    "import plotly as pl\n",
    "import numpy as np\n",
    "import requests\n",
    "import io\n",
    "import matplotlib.pyplot as plt\n",
    "import seaborn as sns\n",
    "import plotly.express as px"
   ]
  },
  {
   "cell_type": "markdown",
   "metadata": {},
   "source": [
    "## Collecte des données\n",
    "\n",
    " * Les données proviennent du site de l'[INSEE](https://www.insee.fr/fr/statistiques/serie/000442588#Tableau). Elle nous présentes le prix moyens mensuels de vente du litre de Gazole en métrople Française de 1992 a 2022.\n",
    " \n",
    "<u>NB :</u> Le fichier contenant les données devra accompagner le notebook."
   ]
  },
  {
   "cell_type": "code",
   "execution_count": 99,
   "metadata": {},
   "outputs": [
    {
     "name": "stdout",
     "output_type": "stream",
     "text": [
      "     Période  Prix\n",
      "0    1992-01  0.54\n",
      "1    1992-02  0.54\n",
      "2    1992-03  0.54\n",
      "3    1992-04  0.53\n",
      "4    1992-05  0.54\n",
      "..       ...   ...\n",
      "356  2021-09  1.46\n",
      "357  2021-10  1.56\n",
      "358  2021-11  1.57\n",
      "359  2021-12  1.54\n",
      "360  2022-01  1.63\n",
      "\n",
      "[361 rows x 2 columns]\n"
     ]
    }
   ],
   "source": [
    "data = pd.read_excel (r'./data/mesures.xlsx', skiprows=4) #importe les données depuis le fichier excel\n",
    "data = np.flipud(data)\n",
    "df = pd.DataFrame(data, columns = ['Période', 'Prix'])\n",
    "\n",
    "#affichage\n",
    "print(df)"
   ]
  },
  {
   "cell_type": "markdown",
   "metadata": {},
   "source": [
    "## Traitement des données\n",
    "\n",
    "Une transformation des données, calculs,... sont attendus. Tout les traitements devront être réalisés dans cette partie. Les données de sorties constitueront les valeurs à représenter directement.\n",
    "\n",
    "*Le traitement mathématique principal devra être brièvement détaillé.*\n",
    "\n",
    "<u>Exemple :</u> La méthode des moindres carrés\n",
    "\n",
    "La régression linéaire consiste à chercher les paramètres $a$ et $b$ définissant la droite $y=ax+b$ qui passe au plus près d'un ensemble de points $(x_k,y_k)$. Les paramètres $a$ et $b$ sont déterminés par la méthodes des moindres carrés qui consiste, dans le cas d'une régression linéaire, à minimiser la quantité :\n",
    "\n",
    "\\begin{equation}\n",
    "    Q(a, b) = \\sum_{k=1}^N (y_k - a x_k - b)^2\n",
    "\\end{equation}"
   ]
  },
  {
   "cell_type": "code",
   "execution_count": 101,
   "metadata": {},
   "outputs": [
    {
     "data": {
      "text/plain": [
       "<AxesSubplot:xlabel='Période', ylabel='Prix'>"
      ]
     },
     "execution_count": 101,
     "metadata": {},
     "output_type": "execute_result"
    },
    {
     "data": {
      "image/png": "[encoded data removed]",
      "text/plain": [
       "<Figure size 432x288 with 1 Axes>"
      ]
     },
     "metadata": {
      "needs_background": "light"
     },
     "output_type": "display_data"
    }
   ],
   "source": [
    "df.plot.scatter(y=\"Prix\", x=\"Période\")\n"
   ]
  },
  {
   "cell_type": "markdown",
   "metadata": {},
   "source": [
    "## Représentation graphique\n",
    "\n",
    " * 1 figure max.\n",
    " * Analyse, discussion => <u>Longueur :</u> 5-10 lignes"
   ]
  },
  {
   "cell_type": "code",
   "execution_count": 12,
   "metadata": {},
   "outputs": [
    {
     "ename": "RuntimeError",
     "evalue": "bokeh sample data directory does not exist, please execute bokeh.sampledata.download()",
     "output_type": "error",
     "traceback": [
      "\u001b[0;31m---------------------------------------------------------------------------\u001b[0m",
      "\u001b[0;31mRuntimeError\u001b[0m                              Traceback (most recent call last)",
      "\u001b[0;32m/tmp/ipykernel_6110/2878037851.py\u001b[0m in \u001b[0;36m<module>\u001b[0;34m\u001b[0m\n\u001b[1;32m      4\u001b[0m \u001b[0;32mimport\u001b[0m \u001b[0mpanel\u001b[0m \u001b[0;32mas\u001b[0m \u001b[0mpn\u001b[0m\u001b[0;34m\u001b[0m\u001b[0;34m\u001b[0m\u001b[0m\n\u001b[1;32m      5\u001b[0m \u001b[0;34m\u001b[0m\u001b[0m\n\u001b[0;32m----> 6\u001b[0;31m \u001b[0;32mfrom\u001b[0m \u001b[0mbokeh\u001b[0m\u001b[0;34m.\u001b[0m\u001b[0msampledata\u001b[0m \u001b[0;32mimport\u001b[0m \u001b[0mgapminder\u001b[0m\u001b[0;34m\u001b[0m\u001b[0;34m\u001b[0m\u001b[0m\n\u001b[0m\u001b[1;32m      7\u001b[0m \u001b[0;32mfrom\u001b[0m \u001b[0mholoviews\u001b[0m \u001b[0;32mimport\u001b[0m \u001b[0mdim\u001b[0m\u001b[0;34m,\u001b[0m \u001b[0mopts\u001b[0m\u001b[0;34m\u001b[0m\u001b[0;34m\u001b[0m\u001b[0m\n\u001b[1;32m      8\u001b[0m \u001b[0;34m\u001b[0m\u001b[0m\n",
      "\u001b[0;32m~/anaconda3/lib/python3.9/site-packages/bokeh/sampledata/gapminder.py\u001b[0m in \u001b[0;36m<module>\u001b[0;34m\u001b[0m\n\u001b[1;32m     77\u001b[0m \u001b[0;31m#-----------------------------------------------------------------------------\u001b[0m\u001b[0;34m\u001b[0m\u001b[0;34m\u001b[0m\u001b[0m\n\u001b[1;32m     78\u001b[0m \u001b[0;34m\u001b[0m\u001b[0m\n\u001b[0;32m---> 79\u001b[0;31m \u001b[0mfertility\u001b[0m       \u001b[0;34m=\u001b[0m \u001b[0mexternal_csv\u001b[0m\u001b[0;34m(\u001b[0m\u001b[0;34m'gapminder'\u001b[0m\u001b[0;34m,\u001b[0m \u001b[0;34m'gapminder_fertility.csv'\u001b[0m\u001b[0;34m,\u001b[0m \u001b[0mindex_col\u001b[0m\u001b[0;34m=\u001b[0m\u001b[0;34m'Country'\u001b[0m\u001b[0;34m,\u001b[0m \u001b[0mencoding\u001b[0m\u001b[0;34m=\u001b[0m\u001b[0;34m'utf-8'\u001b[0m\u001b[0;34m)\u001b[0m\u001b[0;34m\u001b[0m\u001b[0;34m\u001b[0m\u001b[0m\n\u001b[0m\u001b[1;32m     80\u001b[0m \u001b[0mlife_expectancy\u001b[0m \u001b[0;34m=\u001b[0m \u001b[0mexternal_csv\u001b[0m\u001b[0;34m(\u001b[0m\u001b[0;34m'gapminder'\u001b[0m\u001b[0;34m,\u001b[0m \u001b[0;34m'gapminder_life_expectancy.csv'\u001b[0m\u001b[0;34m,\u001b[0m \u001b[0mindex_col\u001b[0m\u001b[0;34m=\u001b[0m\u001b[0;34m'Country'\u001b[0m\u001b[0;34m,\u001b[0m \u001b[0mencoding\u001b[0m\u001b[0;34m=\u001b[0m\u001b[0;34m'utf-8'\u001b[0m\u001b[0;34m)\u001b[0m\u001b[0;34m\u001b[0m\u001b[0;34m\u001b[0m\u001b[0m\n\u001b[1;32m     81\u001b[0m \u001b[0mpopulation\u001b[0m      \u001b[0;34m=\u001b[0m \u001b[0mexternal_csv\u001b[0m\u001b[0;34m(\u001b[0m\u001b[0;34m'gapminder'\u001b[0m\u001b[0;34m,\u001b[0m \u001b[0;34m'gapminder_population.csv'\u001b[0m\u001b[0;34m,\u001b[0m \u001b[0mindex_col\u001b[0m\u001b[0;34m=\u001b[0m\u001b[0;34m'Country'\u001b[0m\u001b[0;34m,\u001b[0m \u001b[0mencoding\u001b[0m\u001b[0;34m=\u001b[0m\u001b[0;34m'utf-8'\u001b[0m\u001b[0;34m)\u001b[0m\u001b[0;34m\u001b[0m\u001b[0;34m\u001b[0m\u001b[0m\n",
      "\u001b[0;32m~/anaconda3/lib/python3.9/site-packages/bokeh/util/sampledata.py\u001b[0m in \u001b[0;36mexternal_csv\u001b[0;34m(module, name, **kw)\u001b[0m\n\u001b[1;32m     97\u001b[0m     \u001b[0;32mfrom\u001b[0m \u001b[0;34m.\u001b[0m\u001b[0mdependencies\u001b[0m \u001b[0;32mimport\u001b[0m \u001b[0mimport_required\u001b[0m\u001b[0;34m\u001b[0m\u001b[0;34m\u001b[0m\u001b[0m\n\u001b[1;32m     98\u001b[0m     \u001b[0mpd\u001b[0m \u001b[0;34m=\u001b[0m \u001b[0mimport_required\u001b[0m\u001b[0;34m(\u001b[0m\u001b[0;34m'pandas'\u001b[0m\u001b[0;34m,\u001b[0m \u001b[0;34m'%s sample data requires Pandas (http://pandas.pydata.org) to be installed'\u001b[0m \u001b[0;34m%\u001b[0m \u001b[0mmodule\u001b[0m\u001b[0;34m)\u001b[0m\u001b[0;34m\u001b[0m\u001b[0;34m\u001b[0m\u001b[0m\n\u001b[0;32m---> 99\u001b[0;31m     \u001b[0;32mreturn\u001b[0m \u001b[0mcast\u001b[0m\u001b[0;34m(\u001b[0m\u001b[0mAny\u001b[0m\u001b[0;34m,\u001b[0m \u001b[0mpd\u001b[0m\u001b[0;34m)\u001b[0m\u001b[0;34m.\u001b[0m\u001b[0mread_csv\u001b[0m\u001b[0;34m(\u001b[0m\u001b[0mexternal_path\u001b[0m\u001b[0;34m(\u001b[0m\u001b[0mname\u001b[0m\u001b[0;34m)\u001b[0m\u001b[0;34m,\u001b[0m \u001b[0;34m**\u001b[0m\u001b[0mkw\u001b[0m\u001b[0;34m)\u001b[0m\u001b[0;34m\u001b[0m\u001b[0;34m\u001b[0m\u001b[0m\n\u001b[0m\u001b[1;32m    100\u001b[0m \u001b[0;34m\u001b[0m\u001b[0m\n\u001b[1;32m    101\u001b[0m \u001b[0;32mdef\u001b[0m \u001b[0mexternal_data_dir\u001b[0m\u001b[0;34m(\u001b[0m\u001b[0mcreate\u001b[0m\u001b[0;34m:\u001b[0m \u001b[0mbool\u001b[0m \u001b[0;34m=\u001b[0m \u001b[0;32mFalse\u001b[0m\u001b[0;34m)\u001b[0m \u001b[0;34m->\u001b[0m \u001b[0mstr\u001b[0m\u001b[0;34m:\u001b[0m\u001b[0;34m\u001b[0m\u001b[0;34m\u001b[0m\u001b[0m\n",
      "\u001b[0;32m~/anaconda3/lib/python3.9/site-packages/bokeh/util/sampledata.py\u001b[0m in \u001b[0;36mexternal_path\u001b[0;34m(filename)\u001b[0m\n\u001b[1;32m    132\u001b[0m \u001b[0;34m\u001b[0m\u001b[0m\n\u001b[1;32m    133\u001b[0m \u001b[0;32mdef\u001b[0m \u001b[0mexternal_path\u001b[0m\u001b[0;34m(\u001b[0m\u001b[0mfilename\u001b[0m\u001b[0;34m:\u001b[0m \u001b[0mstr\u001b[0m\u001b[0;34m)\u001b[0m \u001b[0;34m->\u001b[0m \u001b[0mstr\u001b[0m\u001b[0;34m:\u001b[0m\u001b[0;34m\u001b[0m\u001b[0;34m\u001b[0m\u001b[0m\n\u001b[0;32m--> 134\u001b[0;31m     \u001b[0mdata_dir\u001b[0m \u001b[0;34m=\u001b[0m \u001b[0mexternal_data_dir\u001b[0m\u001b[0;34m(\u001b[0m\u001b[0;34m)\u001b[0m\u001b[0;34m\u001b[0m\u001b[0;34m\u001b[0m\u001b[0m\n\u001b[0m\u001b[1;32m    135\u001b[0m     \u001b[0mfn\u001b[0m \u001b[0;34m=\u001b[0m \u001b[0mjoin\u001b[0m\u001b[0;34m(\u001b[0m\u001b[0mdata_dir\u001b[0m\u001b[0;34m,\u001b[0m \u001b[0mfilename\u001b[0m\u001b[0;34m)\u001b[0m\u001b[0;34m\u001b[0m\u001b[0;34m\u001b[0m\u001b[0m\n\u001b[1;32m    136\u001b[0m     \u001b[0;32mif\u001b[0m \u001b[0;32mnot\u001b[0m \u001b[0mexists\u001b[0m\u001b[0;34m(\u001b[0m\u001b[0mfn\u001b[0m\u001b[0;34m)\u001b[0m \u001b[0;32mand\u001b[0m \u001b[0misfile\u001b[0m\u001b[0;34m(\u001b[0m\u001b[0mfn\u001b[0m\u001b[0;34m)\u001b[0m\u001b[0;34m:\u001b[0m\u001b[0;34m\u001b[0m\u001b[0;34m\u001b[0m\u001b[0m\n",
      "\u001b[0;32m~/anaconda3/lib/python3.9/site-packages/bokeh/util/sampledata.py\u001b[0m in \u001b[0;36mexternal_data_dir\u001b[0;34m(create)\u001b[0m\n\u001b[1;32m    119\u001b[0m     \u001b[0;32mif\u001b[0m \u001b[0;32mnot\u001b[0m \u001b[0mexists\u001b[0m\u001b[0;34m(\u001b[0m\u001b[0mdata_dir\u001b[0m\u001b[0;34m)\u001b[0m\u001b[0;34m:\u001b[0m\u001b[0;34m\u001b[0m\u001b[0;34m\u001b[0m\u001b[0m\n\u001b[1;32m    120\u001b[0m         \u001b[0;32mif\u001b[0m \u001b[0;32mnot\u001b[0m \u001b[0mcreate\u001b[0m\u001b[0;34m:\u001b[0m\u001b[0;34m\u001b[0m\u001b[0;34m\u001b[0m\u001b[0m\n\u001b[0;32m--> 121\u001b[0;31m             \u001b[0;32mraise\u001b[0m \u001b[0mRuntimeError\u001b[0m\u001b[0;34m(\u001b[0m\u001b[0;34m'bokeh sample data directory does not exist, please execute bokeh.sampledata.download()'\u001b[0m\u001b[0;34m)\u001b[0m\u001b[0;34m\u001b[0m\u001b[0;34m\u001b[0m\u001b[0m\n\u001b[0m\u001b[1;32m    122\u001b[0m         \u001b[0mprint\u001b[0m\u001b[0;34m(\u001b[0m\u001b[0;34m\"Creating %s directory\"\u001b[0m \u001b[0;34m%\u001b[0m \u001b[0mdata_dir\u001b[0m\u001b[0;34m)\u001b[0m\u001b[0;34m\u001b[0m\u001b[0;34m\u001b[0m\u001b[0m\n\u001b[1;32m    123\u001b[0m         \u001b[0;32mtry\u001b[0m\u001b[0;34m:\u001b[0m\u001b[0;34m\u001b[0m\u001b[0;34m\u001b[0m\u001b[0m\n",
      "\u001b[0;31mRuntimeError\u001b[0m: bokeh sample data directory does not exist, please execute bokeh.sampledata.download()"
     ]
    }
   ],
   "source": [
    "import pandas as pd\n",
    "import numpy as np\n",
    "import holoviews as hv\n",
    "import panel as pn\n",
    "\n",
    "from bokeh.sampledata import gapminder\n",
    "from holoviews import dim, opts\n",
    "\n",
    "renderer = hv.renderer('bokeh')\n",
    "\n",
    "# Declare dataset\n",
    "fertility = gapminder.fertility.reset_index().melt(id_vars='Country', var_name='Year', value_name='Fertility')\n",
    "population = gapminder.population.reset_index().melt(id_vars='Country', var_name='Year', value_name='Population')\n",
    "life_expectancy = gapminder.life_expectancy.reset_index().melt(id_vars='Country', var_name='Year', value_name='Life Expectancy')\n",
    "gapminder_df = pd.merge(pd.merge(pd.merge(fertility, population), life_expectancy), gapminder.regions, on='Country')\n",
    "gapminder_df.Year = gapminder_df.Year.astype('int')\n",
    "ds = hv.Dataset(gapminder_df)\n",
    "\n",
    "# Apply dimension labels and ranges\n",
    "kdims = ['Fertility', 'Life Expectancy']\n",
    "vdims = ['Country', 'Population', 'Group']\n",
    "dimensions = {\n",
    "    'Fertility' : dict(label='Children per woman (total fertility)', range=(0, 10)),\n",
    "    'Life Expectancy': dict(label='Life expectancy at birth (years)', range=(15, 100)),\n",
    "    'Population': ('population', 'Population')\n",
    "}\n",
    "\n",
    "# Create Points plotting fertility vs life expectancy indexed by Year\n",
    "gapminder_ds = ds.redim(**dimensions).to(hv.Points, kdims, vdims, 'Year')\n",
    "\n",
    "# Define annotations\n",
    "text = gapminder_ds.clone({yr: hv.Text(1.2, 25, str(int(yr)), fontsize=30)\n",
    "                           for yr in gapminder_ds.keys()})\n",
    "\n",
    "# Define options\n",
    "# Combine Points and Text\n",
    "hvgapminder = (gapminder_ds * text).opts(\n",
    "    opts.Points(alpha=0.6, color='Group', cmap='Set1', line_color='black', \n",
    "                size=np.sqrt(dim('Population'))*0.005, \n",
    "                tools=['hover'], title='Gapminder Demo', responsive=True,\n",
    "                show_grid=True),\n",
    "    opts.Text(text_font_size='52pt', text_color='lightgray')\n",
    ")\n",
    "\n",
    "# Define custom widgets\n",
    "def animate_update():\n",
    "    year = slider.value + 1\n",
    "    if year > end:\n",
    "        year = int(start)\n",
    "    slider.value = year\n",
    "\n",
    "# Update the holoviews plot by calling update with the new year.\n",
    "def slider_update(event):\n",
    "    hvplot.update((event.new,))\n",
    "\n",
    "def animate(event):\n",
    "    if button.name == '► Play':\n",
    "        button.name = '❚❚ Pause'\n",
    "        callback.start()\n",
    "    else:\n",
    "        button.name = '► Play'\n",
    "        callback.stop()\n",
    "\n",
    "start, end = ds.range('Year')\n",
    "slider = pn.widgets.IntSlider(start=int(start), end=int(end), value=int(start), name=\"Year\")\n",
    "slider.param.watch(slider_update, 'value')\n",
    "\n",
    "button = pn.widgets.Button(name='► Play', width=60, align='end')\n",
    "button.on_click(animate)\n",
    "callback = button.add_periodic_callback(animate_update, 200, start=False)\n",
    "\n",
    "# Get HoloViews plot and attach document\n",
    "hvplot = renderer.get_plot(hvgapminder)\n",
    "hvplot.update((1964,))\n",
    "\n",
    "# Create a Panel layout and make it servable\n",
    "pn.Column(\n",
    "    hvplot.state,\n",
    "    pn.Row(slider, button),\n",
    "    sizing_mode='stretch_both'\n",
    ").servable('Gapminder Demo')\n"
   ]
  },
  {
   "cell_type": "markdown",
   "metadata": {},
   "source": [
    "## Conclusion\n",
    "\n",
    " * Conclusions\n",
    " * Perspectives"
   ]
  },
  {
   "cell_type": "code",
   "execution_count": null,
   "metadata": {},
   "outputs": [],
   "source": []
  },
  {
   "cell_type": "code",
   "execution_count": null,
   "metadata": {},
   "outputs": [],
   "source": []
  }
 ],
 "metadata": {
  "kernel_info": {
   "name": "python3"
  },
  "kernelspec": {
   "display_name": "Python 3 (ipykernel)",
   "language": "python",
   "name": "python3"
  },
  "language_info": {
   "codemirror_mode": {
    "name": "ipython",
    "version": 3
   },
   "file_extension": ".py",
   "mimetype": "text/x-python",
   "name": "python",
   "nbconvert_exporter": "python",
   "pygments_lexer": "ipython3",
   "version": "3.9.7"
  },
  "nteract": {
   "version": "0.2.0"
  }
 },
 "nbformat": 4,
 "nbformat_minor": 2
}
