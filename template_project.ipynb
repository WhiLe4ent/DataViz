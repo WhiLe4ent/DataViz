{
 "cells": [
  {
   "cell_type": "markdown",
   "metadata": {},
   "source": [
    "# \n",
    "\n",
    "##### Auteurs : Achille Gravouil (promotion1), Mickaël Canhoto (promotion2)\n",
    "\n",
    "Brève description du projet (3 lignes max)"
   ]
  },
  {
   "cell_type": "markdown",
   "metadata": {},
   "source": [
    "### Sommaire\n",
    "\n",
    " 1. [Introduction](#Introduction)\n",
    " 2. [Importation des modules](#Importation-des-modules)\n",
    " 3. [Collecte des données](#Collecte-des-donnees)\n",
    " 4. [Traitement des données](#Traitement-des-donnees)\n",
    " 5. [Représentation graphique](#Representation-graphique)\n",
    " 6. [Conclusion](#Conclusion)"
   ]
  },
  {
   "cell_type": "markdown",
   "metadata": {},
   "source": [
    "## Introduction\n",
    "\n",
    "5-10 lignes\n",
    " * Contexte, problématique\n",
    " * Pour qui ?"
   ]
  },
  {
   "cell_type": "markdown",
   "metadata": {},
   "source": [
    "## Importation des modules"
   ]
  },
  {
   "cell_type": "code",
   "execution_count": null,
   "metadata": {},
   "outputs": [],
   "source": []
  },
  {
   "cell_type": "markdown",
   "metadata": {},
   "source": [
    "## Collecte des données\n",
    "\n",
    " * Présentation des données, sources,...\n",
    " * Lecture des données\n",
    " * ...\n",
    " \n",
    "<u>NB :</u> Le fichier contenant les données devra accompagner le notebook."
   ]
  },
  {
   "cell_type": "code",
   "execution_count": null,
   "metadata": {
    "collapsed": true
   },
   "outputs": [],
   "source": []
  },
  {
   "cell_type": "markdown",
   "metadata": {},
   "source": [
    "## Traitement des données\n",
    "\n",
    "Une transformation des données, calculs,... sont attendus. Tout les traitements devront être réalisés dans cette partie. Les données de sorties constitueront les valeurs à représenter directement.\n",
    "\n",
    "*Le traitement mathématique principal devra être brièvement détaillé.*\n",
    "\n",
    "<u>Exemple :</u> La méthode des moindres carrés\n",
    "\n",
    "La régression linéaire consiste à chercher les paramètres $a$ et $b$ définissant la droite $y=ax+b$ qui passe au plus près d'un ensemble de points $(x_k,y_k)$. Les paramètres $a$ et $b$ sont déterminés par la méthodes des moindres carrés qui consiste, dans le cas d'une régression linéaire, à minimiser la quantité :\n",
    "\n",
    "\\begin{equation}\n",
    "    Q(a, b) = \\sum_{k=1}^N (y_k - a x_k - b)^2\n",
    "\\end{equation}"
   ]
  },
  {
   "cell_type": "code",
   "execution_count": null,
   "metadata": {
    "collapsed": true
   },
   "outputs": [],
   "source": []
  },
  {
   "cell_type": "markdown",
   "metadata": {},
   "source": [
    "## Représentation graphique\n",
    "\n",
    " * 1 figure max.\n",
    " * Analyse, discussion => <u>Longueur :</u> 5-10 lignes"
   ]
  },
  {
   "cell_type": "code",
   "execution_count": null,
   "metadata": {
    "collapsed": true
   },
   "outputs": [],
   "source": []
  },
  {
   "cell_type": "markdown",
   "metadata": {},
   "source": [
    "## Conclusion\n",
    "\n",
    " * Conclusions\n",
    " * Perspectives"
   ]
  }
 ],
 "metadata": {
  "kernel_info": {
   "name": "python3"
  },
  "kernelspec": {
   "display_name": "Python 3 (ipykernel)",
   "language": "python",
   "name": "python3"
  },
  "language_info": {
   "codemirror_mode": {
    "name": "ipython",
    "version": 3
   },
   "file_extension": ".py",
   "mimetype": "text/x-python",
   "name": "python",
   "nbconvert_exporter": "python",
   "pygments_lexer": "ipython3",
   "version": "3.9.7"
  },
  "nteract": {
   "version": "0.2.0"
  }
 },
 "nbformat": 4,
 "nbformat_minor": 2
}
